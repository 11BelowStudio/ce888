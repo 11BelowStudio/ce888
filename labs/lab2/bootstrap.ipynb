{
 "nbformat": 4,
 "nbformat_minor": 0,
 "metadata": {
  "colab": {
   "name": "bootstrap.ipynb",
   "provenance": [],
   "include_colab_link": true
  },
  "kernelspec": {
   "display_name": "Python 3",
   "language": "python",
   "name": "python3"
  },
  "language_info": {
   "codemirror_mode": {
    "name": "ipython",
    "version": 3
   },
   "file_extension": ".py",
   "mimetype": "text/x-python",
   "name": "python",
   "nbconvert_exporter": "python",
   "pygments_lexer": "ipython3",
   "version": "3.7.6"
  }
 },
 "cells": [
  {
   "cell_type": "markdown",
   "metadata": {
    "id": "view-in-github",
    "colab_type": "text",
    "pycharm": {
     "name": "#%% md\n"
    }
   },
   "source": [
    "<a href=\"https://colab.research.google.com/github/albanda/CE888/blob/master/lab2%20-%20bootstrap/bootstrap.ipynb\" target=\"_parent\"><img src=\"https://colab.research.google.com/assets/colab-badge.svg\" alt=\"Open In Colab\"/></a>"
   ]
  },
  {
   "cell_type": "markdown",
   "metadata": {
    "id": "nCi_99yMYIb1",
    "pycharm": {
     "name": "#%% md\n"
    }
   },
   "source": [
    "In this notebook you'll create your own bootstrap function following\n",
    "the bootstrap algorithm (check the lecture notes!)"
   ]
  },
  {
   "cell_type": "code",
   "metadata": {
    "id": "LY5zujI2YC37",
    "pycharm": {
     "name": "#%%# Imports\n"
    }
   },
   "source": [
    "import matplotlib.pyplot as plt\n",
    "import pandas as pd\n",
    "import seaborn as sns\n",
    "import numpy as np\n",
    "\n",
    "rng = np.random.default_rng()\n"
   ],
   "execution_count": 209,
   "outputs": []
  },
  {
   "cell_type": "code",
   "metadata": {
    "id": "Eqkwj4SMY38t",
    "pycharm": {
     "name": "#%%\n"
    }
   },
   "source": [
    "# Load the data\n",
    "df = pd.read_csv('customers.csv')\n",
    "data = df.values.T[1]\n",
    "\n"
   ],
   "execution_count": 210,
   "outputs": []
  },
  {
   "cell_type": "code",
   "execution_count": 211,
   "outputs": [
    {
     "data": {
      "text/plain": "array([2., 5.])"
     },
     "execution_count": 211,
     "metadata": {},
     "output_type": "execute_result"
    }
   ],
   "source": [
    "a = np.asarray([[1,2,3],[4,5,6]])\n",
    "np.mean(a, axis=1)"
   ],
   "metadata": {
    "collapsed": false,
    "pycharm": {
     "name": "#%%\n"
    }
   }
  },
  {
   "cell_type": "code",
   "metadata": {
    "id": "Gxvc_bScYC4H",
    "pycharm": {
     "name": "#%%\n"
    }
   },
   "source": [
    "\n",
    "\n",
    "# Checking the notes from the lecture, create here your own bootstrap function:\n",
    "# 1. Sample from the input array x to create an array of samples of shape\n",
    "# (n_bootstraps, sample_size)\n",
    "# Hint: Check the function random.choice() on Numpy\n",
    "# 2. Calculate and save the mean of the array\n",
    "# (this is \"data_mean\" that is returned by the function)\n",
    "# 3. Calculate the mean from each bootstrap\n",
    "# (i.e., row) and store it.\n",
    "# (This should be an array of n_bootstraps values)\n",
    "# 4. Calculate the lower and upper bounds for a 95% CI\n",
    "# (hint: check the percentile function on Numpy)\n",
    "# 5. Return data_mean, and the lower and upper bounds of your interval\n",
    "def bootstrap_mean(x, sample_size, n_bootstraps):\n",
    "\t# <---INSERT YOUR CODE HERE--->\n",
    "\n",
    "    all_samples: np.ndarray = rng.choice(x, (n_bootstraps, sample_size))\n",
    "    data_mean = np.mean(all_samples)\n",
    "    row_means: np.ndarray = np.mean(all_samples, axis=1)\n",
    "\n",
    "    return data_mean, np.percentile(row_means, 2.5),np.percentile(row_means, 97.5)"
   ],
   "execution_count": 212,
   "outputs": []
  },
  {
   "cell_type": "code",
   "metadata": {
    "id": "AN7sEOcMYC4P",
    "pycharm": {
     "name": "#%%\n"
    }
   },
   "source": [
    "# Call your bootstrap function and plot the results\n",
    "\n",
    "boots = []\n",
    "\n",
    "means = []\n",
    "lowers = []\n",
    "uppers = []\n",
    "\n",
    "for i in range(100, 50000, 1000):\n",
    "    boot = bootstrap_mean(data, data.shape[0], i)\n",
    "    boots.append([i, boot[0], \"mean\"])\n",
    "    boots.append([i, boot[1], \"lower\"])\n",
    "    boots.append([i, boot[2], \"upper\"])\n",
    "    means.append(boot[0])\n",
    "    lowers.append(boot[1])\n",
    "    uppers.append(boot[2])\n",
    "\n",
    "\n",
    "df_boot95 = pd.DataFrame(boots, columns=['Bootstrap Iterations', 'Mean', \"Value\"])\n",
    "sns_plot = sns.lmplot(palette=\"bright\", x=df_boot95.columns[0], y=df_boot95.columns[1], data=df_boot95, fit_reg=False, hue=\"Value\")\n",
    "\n",
    "sns_plot.axes[0, 0].set_ylim(0,)\n",
    "sns_plot.axes[0, 0].set_xlim(0, 50000)\n",
    "\n",
    "print(\"mean, lower, upper\")\n",
    "print(f\"{np.mean(means)}, {np.mean(lowers)}, {np.mean(uppers)}\")"
   ],
   "execution_count": 229,
   "outputs": [
    {
     "name": "stdout",
     "output_type": "stream",
     "text": [
      "mean, lower, upper\n",
      "9.215436014886777, 6.444964285714287, 12.368035714285716\n"
     ]
    },
    {
     "data": {
      "text/plain": "<Figure size 425.125x360 with 1 Axes>",
      "image/png": "[encoded data removed]"
     },
     "metadata": {
      "needs_background": "light"
     },
     "output_type": "display_data"
    }
   ]
  },
  {
   "cell_type": "code",
   "execution_count": 214,
   "outputs": [
    {
     "name": "stdout",
     "output_type": "stream",
     "text": [
      "                           147       148        149\n",
      "Bootstrap Iterations     49100     49100      49100\n",
      "Mean                  9.209184  6.428571  12.357143\n",
      "Value                     mean     lower      upper\n"
     ]
    }
   ],
   "source": [
    "dft95 = df_boot95[-3:].T\n",
    "\n",
    "print(dft95)\n",
    "\n"
   ],
   "metadata": {
    "collapsed": false,
    "pycharm": {
     "name": "#%%\n"
    }
   }
  },
  {
   "cell_type": "markdown",
   "metadata": {
    "id": "MjtP4e2_YC4V",
    "pycharm": {
     "name": "#%% md\n"
    }
   },
   "source": [
    "\n",
    "Now, modify the bootstrap function you created above so that you can pass your\n",
    "desired confidence interval as a parameter.\n",
    "\n"
   ]
  },
  {
   "cell_type": "code",
   "metadata": {
    "id": "3K9j0FuGYhHs",
    "pycharm": {
     "name": "#%%\n"
    }
   },
   "source": [
    "def bootstrap_mean_ci(sample, sample_size, n_bootstraps, ci):\n",
    "\t# <---INSERT YOUR CODE HERE--->\n",
    "\n",
    "    all_samples: np.ndarray = rng.choice(sample, (n_bootstraps, sample_size))\n",
    "    data_mean = np.mean(all_samples)\n",
    "    row_means: np.ndarray = np.mean(all_samples, axis=1)\n",
    "    remainder = (100-ci)/2\n",
    "\n",
    "    return data_mean, np.percentile(row_means, remainder), np.percentile(row_means, 100-remainder)\n",
    "\n",
    "\n",
    "def bootstrap_std_ci(sample, sample_size, n_bootstraps, ci):\n",
    "    all_samples: np.ndarray = rng.choice(sample, (n_bootstraps, sample_size))\n",
    "    data_std = np.std(all_samples)\n",
    "    row_std: np.ndarray = np.std(all_samples, axis=1)\n",
    "    remainder = (100-ci)/2\n",
    "    return data_std, np.percentile(row_std, remainder), np.percentile(row_std, 100-remainder)\n",
    "\n"
   ],
   "execution_count": 281,
   "outputs": []
  },
  {
   "cell_type": "code",
   "metadata": {
    "id": "uDnjq08GYl-C",
    "pycharm": {
     "name": "#%%\n"
    }
   },
   "source": [
    "boots = []\n",
    "\n",
    "means = []\n",
    "lowers = []\n",
    "uppers = []\n",
    "\n",
    "for i in range(100, 50000, 1000):\n",
    "    boot = bootstrap_mean_ci(data, data.shape[0], i, 73)\n",
    "    boots.append([i, boot[0], \"mean\"])\n",
    "    boots.append([i, boot[1], \"lower\"])\n",
    "    boots.append([i, boot[2], \"upper\"])\n",
    "    means.append(boot[0])\n",
    "    lowers.append(boot[1])\n",
    "    uppers.append(boot[2])\n",
    "\n",
    "df_boot = pd.DataFrame(boots, columns=['Boostrap Iterations', 'Mean', \"Value\"])\n",
    "sns_plot = sns.lmplot(palette=\"bright\",x=df_boot.columns[0], y=df_boot.columns[1], data=df_boot, fit_reg=False, hue=\"Value\")\n",
    "\n",
    "sns_plot.axes[0, 0].set_ylim(0,)\n",
    "sns_plot.axes[0, 0].set_xlim(0, 50000)\n",
    "\n",
    "print(\"mean, lower, upper\")\n",
    "print(f\"{np.mean(means)}, {np.mean(lowers)}, {np.mean(uppers)}\")\n",
    "\n",
    "#sns_plot.savefig(\"bootstrap_confidence_80.pdf\", bbox_inches='tight')"
   ],
   "execution_count": 230,
   "outputs": [
    {
     "name": "stdout",
     "output_type": "stream",
     "text": [
      "mean, lower, upper\n",
      "9.212069068336326, 7.566235714285713, 10.912857142857144\n"
     ]
    },
    {
     "data": {
      "text/plain": "<Figure size 425.125x360 with 1 Axes>",
      "image/png": "[encoded data removed]"
     },
     "metadata": {
      "needs_background": "light"
     },
     "output_type": "display_data"
    }
   ]
  },
  {
   "cell_type": "code",
   "execution_count": 231,
   "outputs": [
    {
     "name": "stdout",
     "output_type": "stream",
     "text": [
      "                        147       148        149\n",
      "Boostrap Iterations   49100     49100      49100\n",
      "Mean                 9.2177  7.571429  10.928571\n",
      "Value                  mean     lower      upper\n"
     ]
    }
   ],
   "source": [
    "dft = df_boot[-3:].T\n",
    "\n",
    "print(dft)\n",
    "\n"
   ],
   "metadata": {
    "collapsed": false,
    "pycharm": {
     "name": "#%%\n"
    }
   }
  },
  {
   "cell_type": "code",
   "execution_count": 217,
   "outputs": [],
   "source": [],
   "metadata": {
    "collapsed": false,
    "pycharm": {
     "name": "#%%\n"
    }
   }
  },
  {
   "cell_type": "markdown",
   "metadata": {
    "id": "qjNgXW6wdd7r",
    "pycharm": {
     "name": "#%% md\n"
    }
   },
   "source": [
    "# Vehicles dataset\n",
    "\n",
    "Now let's work on a different dataset, which is stored in the vehicles.csv file.\n"
   ]
  },
  {
   "cell_type": "code",
   "metadata": {
    "id": "avWv4ipFdpka",
    "pycharm": {
     "name": "#%%\n"
    }
   },
   "source": [
    "from typing import Tuple, Iterable\n",
    "\n",
    "# Load and visualise the vehicles dataset\n",
    "# To load the dataset: https://neptune.ai/blog/google-colab-dealing-with-files (check section \"Load individual files directly from GitHub\")\n",
    "\n",
    "vdf = pd.read_csv('vehicles.csv')\n",
    "\n",
    "\n",
    "vdf.head()"
   ],
   "execution_count": 218,
   "outputs": [
    {
     "data": {
      "text/plain": "   Current fleet  New Fleet\n0             18       24.0\n1             15       27.0\n2             18       27.0\n3             16       25.0\n4             17       31.0",
      "text/html": "<div>\n<style scoped>\n    .dataframe tbody tr th:only-of-type {\n        vertical-align: middle;\n    }\n\n    .dataframe tbody tr th {\n        vertical-align: top;\n    }\n\n    .dataframe thead th {\n        text-align: right;\n    }\n</style>\n<table border=\"1\" class=\"dataframe\">\n  <thead>\n    <tr style=\"text-align: right;\">\n      <th></th>\n      <th>Current fleet</th>\n      <th>New Fleet</th>\n    </tr>\n  </thead>\n  <tbody>\n    <tr>\n      <th>0</th>\n      <td>18</td>\n      <td>24.0</td>\n    </tr>\n    <tr>\n      <th>1</th>\n      <td>15</td>\n      <td>27.0</td>\n    </tr>\n    <tr>\n      <th>2</th>\n      <td>18</td>\n      <td>27.0</td>\n    </tr>\n    <tr>\n      <th>3</th>\n      <td>16</td>\n      <td>25.0</td>\n    </tr>\n    <tr>\n      <th>4</th>\n      <td>17</td>\n      <td>31.0</td>\n    </tr>\n  </tbody>\n</table>\n</div>"
     },
     "execution_count": 218,
     "metadata": {},
     "output_type": "execute_result"
    }
   ]
  },
  {
   "cell_type": "code",
   "execution_count": 219,
   "outputs": [],
   "source": [
    "old_v: np.ndarray = vdf.values.T[0]\n",
    "_nv = vdf.values.T[1]\n",
    "new_v: np.ndarray = _nv[~np.isnan(_nv)]\n"
   ],
   "metadata": {
    "collapsed": false,
    "pycharm": {
     "name": "#%%\n"
    }
   }
  },
  {
   "cell_type": "code",
   "execution_count": 220,
   "outputs": [
    {
     "data": {
      "text/plain": "<AxesSubplot:>"
     },
     "execution_count": 220,
     "metadata": {},
     "output_type": "execute_result"
    },
    {
     "data": {
      "text/plain": "<Figure size 360x360 with 1 Axes>",
      "image/png": "[encoded data removed]"
     },
     "metadata": {
      "needs_background": "light"
     },
     "output_type": "display_data"
    },
    {
     "data": {
      "text/plain": "<Figure size 360x360 with 1 Axes>",
      "image/png": "[encoded data removed]"
     },
     "metadata": {
      "needs_background": "light"
     },
     "output_type": "display_data"
    }
   ],
   "source": [
    "# Note that the current and new fleets are in different columns and have different lengths, so bear this in mind when you're plotting.\n",
    "# You can create separate scatterplots for the two fleets, as you would with the histograms, \n",
    "# or plot them both in one plot (but not one against the other).\n",
    "# <---INSERT YOUR CODE HERE--->\n",
    "\n",
    "#f_axes: tuple[plt.Figure, np.ndarray] = plt.subplots(3,1,sharex=True, sharey=True, squeeze=True)\n",
    "\n",
    "g = sns.catplot(data=vdf, kind=\"box\",palette=\"pastel\")\n",
    "#sns.swarmplot(color=\"k\", size=3, data=vdf, ax=g.ax)\n",
    "\n",
    "\n",
    "g2 = sns.catplot(data=vdf, kind=\"violin\",palette=\"pastel\")\n",
    "sns.swarmplot(palette=\"bright\",size=3, data=vdf, ax=g2.ax)\n",
    "\n",
    "#fig: plt.Figure = f_axes[0]\n",
    "\n",
    "#ax1: plt.Axes = f_axes[1][0]\n",
    "#ax2: plt.Axes = f_axes[1][1]\n",
    "#ax3: plt.Axes = f_axes[1][2]\n",
    "\n",
    "#ax1.scatter()\n",
    "\n",
    "#sns.distplot(old_v, bins=20, kde=False, rug=True)\n",
    "\n",
    "\n",
    "# Note: you can add more cells as needed to organise your code and your plots\n"
   ],
   "metadata": {
    "collapsed": false,
    "pycharm": {
     "name": "#%%\n"
    }
   }
  },
  {
   "cell_type": "markdown",
   "metadata": {
    "id": "B5d0tXDpIEj8",
    "pycharm": {
     "name": "#%% md\n"
    }
   },
   "source": [
    "## Compare the two fleets\n",
    "\n",
    "The business analysts come up a comparison algorithm that requires the\n",
    "upper and lower bounds for the mean in order to say which fleet is better.\n",
    "1. Calculate the mean of both samples.\n",
    "2. Using the bootstrap function that you created:\n",
    "    - Construct the 95% CI of the mean of the current fleet.\n",
    "    - Construct the 95% CI of the mean of the new fleet.\n",
    "    - Are they comparable? (i.e., is one better than the other?) --\n",
    "    - you can do this with a permutation test (check the lecture notes!)"
   ]
  },
  {
   "cell_type": "code",
   "metadata": {
    "id": "po4mp6zRHC0m",
    "pycharm": {
     "name": "#%%\n"
    }
   },
   "source": [
    "# <---INSERT YOUR CODE HERE--->\n",
    "boots_old = []\n",
    "boots_new = []\n",
    "boots_both = []\n",
    "for i in range(100, 50000, 1000):\n",
    "    oboot= bootstrap_mean_ci(old_v, old_v.shape[0], i, 95)\n",
    "    boots_both.append([i, oboot[0], \"mean\",\"old\"])\n",
    "    boots_both.append([i, oboot[1], \"lower\",\"old\"])\n",
    "    boots_both.append([i, oboot[2], \"upper\",\"old\"])\n",
    "\n",
    "    boots_old.append([i, oboot[0], \"old mean\"])\n",
    "    boots_old.append([i, oboot[1], \"old lower\"])\n",
    "    boots_old.append([i, oboot[2], \"old upper\"])\n",
    "\n",
    "    nboot = bootstrap_mean_ci(new_v, new_v.shape[0], i, 95)\n",
    "    boots_both.append([i, nboot[0], \"mean\",\"new\"])\n",
    "    boots_both.append([i, nboot[1], \"lower\",\"new\"])\n",
    "    boots_both.append([i, nboot[2], \"upper\",\"new\"])\n",
    "    boots_new.append([i, nboot[0], \"new mean\"])\n",
    "    boots_new.append([i, nboot[1], \"new lower\"])\n",
    "    boots_new.append([i, nboot[2], \"new upper\"])\n",
    "\n",
    "b_boot = pd.DataFrame(boots_both,  columns=['Boostrap Iterations', 'Mean', \"Value\", \"fleet\"])\n",
    "old_boot = pd.DataFrame(boots_old, columns=['Boostrap Iterations', 'Mean', \"Value\"])\n",
    "new_boot = pd.DataFrame(boots_new, columns=['Boostrap Iterations', 'Mean', \"Value\"])\n",
    "\n",
    "\n",
    "both_plot = sns.lmplot(palette=\"bright\", x=b_boot.columns[0], y=b_boot.columns[1], col=b_boot.columns[3], data=b_boot, fit_reg=False, hue=\"Value\")\n",
    "both_plot.axes[0, 0].set_ylim(0,)\n",
    "both_plot.axes[0, 0].set_xlim(0, 50000)\n",
    "\n",
    "#old_plot = sns.lmplot(palette=\"bright\",x=old_boot.columns[0], y=old_boot.columns[1], data=old_boot, fit_reg=False, hue=\"Value\")\n",
    "#old_plot.axes[0, 0].set_ylim(0,)\n",
    "#old_plot.axes[0, 0].set_xlim(0, 50000)\n",
    "\n",
    "#new_plot = sns.lmplot(palette=\"bright\", x=new_boot.columns[0], y=new_boot.columns[1], data=new_boot, fit_reg=False, hue=\"Value\")\n",
    "#new_plot.axes[0, 0].set_ylim(0,)\n",
    "#new_plot.axes[0, 0].set_xlim(0, 50000)\n"
   ],
   "execution_count": 228,
   "outputs": [
    {
     "data": {
      "text/plain": "(0.0, 50000.0)"
     },
     "execution_count": 228,
     "metadata": {},
     "output_type": "execute_result"
    },
    {
     "data": {
      "text/plain": "<Figure size 785.125x360 with 2 Axes>",
      "image/png": "[encoded data removed]"
     },
     "metadata": {
      "needs_background": "light"
     },
     "output_type": "display_data"
    }
   ]
  },
  {
   "cell_type": "code",
   "execution_count": 282,
   "outputs": [],
   "source": [
    "def format_conf_intervals(data, b_its, ci, mean=True) -> str:\n",
    "\n",
    "    if mean:\n",
    "        boots = bootstrap_mean_ci(data, data.shape[0], b_its, ci)\n",
    "    else:\n",
    "        boots = bootstrap_std_ci(data, data.shape[0], b_its, ci)\n",
    "    return f\"{boots[0]:.3f} | {boots[1]:.3f} | {boots[2]:.3f}\""
   ],
   "metadata": {
    "collapsed": false,
    "pycharm": {
     "name": "#%%\n"
    }
   }
  },
  {
   "cell_type": "code",
   "execution_count": 286,
   "outputs": [
    {
     "name": "stdout",
     "output_type": "stream",
     "text": [
      "test  | Mean   | Lower  | Upper\n",
      "new60 | 30.482 | 29.899 | 31.063\n",
      "cus90 | 9.199 | 6.857 | 11.786\n",
      "cus95 | 5.683 | 2.711 | 7.382\n",
      "cus85 | 5.688 | 3.295 | 6.946\n"
     ]
    }
   ],
   "source": [
    "print( \"test  | Mean   | Lower  | Upper\")\n",
    "print(f\"new60 | {format_conf_intervals(new_v, 10000, 60)}\")\n",
    "print(f\"cus90 | {format_conf_intervals(data, 10000, 90)}\")\n",
    "print(f\"cus95 | {format_conf_intervals(data, 10000, 95,False)}\")\n",
    "print(f\"cus85 | {format_conf_intervals(data, 10000, 85,False)}\")"
   ],
   "metadata": {
    "collapsed": false,
    "pycharm": {
     "name": "#%%\n"
    }
   }
  },
  {
   "cell_type": "code",
   "execution_count": 232,
   "outputs": [
    {
     "name": "stdout",
     "output_type": "stream",
     "text": [
      "                           147        148        149\n",
      "Boostrap Iterations      49100      49100      49100\n",
      "Mean                 20.142576  19.349398  20.951807\n",
      "Value                 old mean  old lower  old upper\n"
     ]
    }
   ],
   "source": [
    "old_dft = old_boot[-3:].T\n",
    "\n",
    "print(old_dft)"
   ],
   "metadata": {
    "collapsed": false,
    "pycharm": {
     "name": "#%%\n"
    }
   }
  },
  {
   "cell_type": "code",
   "execution_count": 234,
   "outputs": [
    {
     "name": "stdout",
     "output_type": "stream",
     "text": [
      "                           147        148        149\n",
      "Boostrap Iterations      49100      49100      49100\n",
      "Mean                 30.481731  29.139241  31.822785\n",
      "Value                 new mean  new lower  new upper\n"
     ]
    }
   ],
   "source": [
    "new_dft = new_boot[-3:].T\n",
    "\n",
    "print(new_dft)"
   ],
   "metadata": {
    "collapsed": false,
    "pycharm": {
     "name": "#%%\n"
    }
   }
  },
  {
   "cell_type": "code",
   "execution_count": 246,
   "outputs": [
    {
     "data": {
      "text/plain": "(2, 79, 249)"
     },
     "execution_count": 246,
     "metadata": {},
     "output_type": "execute_result"
    }
   ],
   "source": [
    "np.array(np.meshgrid(old_v, new_v)).shape"
   ],
   "metadata": {
    "collapsed": false,
    "pycharm": {
     "name": "#%%\n"
    }
   }
  },
  {
   "cell_type": "code",
   "metadata": {
    "id": "MkxvDZG4HC0n",
    "pycharm": {
     "name": "#%%\n"
    }
   },
   "source": [
    "# Create your own function for a permutation test here (you will need it for the lab quiz!):\n",
    "def permut_test(sample1, sample2, n_permutations):\n",
    "    \"\"\"\n",
    "    sample1: 1D array\n",
    "    sample2: 1D array (note that the size of the two arrays can be different)\n",
    "    n_permutations: number of permutations to calculate the p-value\n",
    "    \"\"\"\n",
    "\n",
    "    old = np.mean(sample1)\n",
    "    olen = len(sample1)\n",
    "    new = np.mean(sample2)\n",
    "    obs = new - old\n",
    "\n",
    "    concat: np.ndarray = np.concatenate((sample1, sample2))\n",
    "    counter = 0\n",
    "    for c in range(n_permutations):\n",
    "        p = rng.permutation(concat)\n",
    "        _omean = np.mean(p[:olen])\n",
    "        _nmean = np.mean(p[olen:])\n",
    "        if (_nmean - _omean) > obs:\n",
    "            counter += 1\n",
    "        #print(f\"{_omean} {_nmean} {counter}\")\n",
    "    #print(counter)\n",
    "    return counter/n_permutations\n",
    "\n",
    "\n",
    "permut_test(old_v, new_v, 30000)"
   ],
   "execution_count": 262,
   "outputs": [
    {
     "data": {
      "text/plain": "0.0"
     },
     "execution_count": 262,
     "metadata": {},
     "output_type": "execute_result"
    }
   ]
  },
  {
   "cell_type": "code",
   "execution_count": 264,
   "outputs": [
    {
     "name": "stdout",
     "output_type": "stream",
     "text": [
      "67\n",
      "88\n"
     ]
    }
   ],
   "source": [
    "import voting_data\n",
    "\n",
    "pa = voting_data.dem_share_PA.copy()\n",
    "oh = voting_data.dem_share_OH.copy()\n",
    "pa_l = len(pa)\n",
    "oh_l = len(oh)\n",
    "\n",
    "print(pa_l)\n",
    "print(oh_l)\n"
   ],
   "metadata": {
    "collapsed": false,
    "pycharm": {
     "name": "#%%\n"
    }
   }
  },
  {
   "cell_type": "code",
   "execution_count": 290,
   "outputs": [
    {
     "name": "stdout",
     "output_type": "stream",
     "text": [
      "State | Mean   | Lower  | Upper\n",
      "OH    | 44.320 | 41.871 | 46.764\n",
      "PA    | 45.481 | 42.781 | 48.324\n"
     ]
    }
   ],
   "source": [
    "pa_bs = bootstrap_mean_ci(pa, pa_l, 100000, 98)\n",
    "oh_bs = bootstrap_mean_ci(oh, oh_l, 100000, 98)\n",
    "\n",
    "print( \"State | Mean   | Lower  | Upper\")\n",
    "print(f\"OH    | {oh_bs[0]:.3f} | {oh_bs[1]:.3f} | {oh_bs[2]:.3f}\")\n",
    "print(f\"PA    | {pa_bs[0]:.3f} | {pa_bs[1]:.3f} | {pa_bs[2]:.3f}\")"
   ],
   "metadata": {
    "collapsed": false,
    "pycharm": {
     "name": "#%%\n"
    }
   }
  },
  {
   "cell_type": "code",
   "execution_count": 291,
   "outputs": [
    {
     "name": "stdout",
     "output_type": "stream",
     "text": [
      "0.2328\n"
     ]
    }
   ],
   "source": [
    "print(permut_test(oh, pa, 30000))\n",
    "\n"
   ],
   "metadata": {
    "collapsed": false,
    "pycharm": {
     "name": "#%%\n"
    }
   }
  }
 ]
}