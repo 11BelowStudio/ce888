{
 "cells": [
  {
   "cell_type": "code",
   "execution_count": 92,
   "metadata": {
    "collapsed": true
   },
   "outputs": [],
   "source": []
  },
  {
   "cell_type": "markdown",
   "source": [
    "#  Recommendation Systems"
   ],
   "metadata": {
    "collapsed": false
   }
  },
  {
   "cell_type": "markdown",
   "source": [
    "Load Pandas, we are going to need it for manipulating data"
   ],
   "metadata": {
    "collapsed": false
   }
  },
  {
   "cell_type": "code",
   "execution_count": 93,
   "outputs": [],
   "source": [
    "import pandas as pd\n",
    "import numpy as np\n",
    "from sklearn.svm import SVC\n",
    "from typing import Optional, List, Tuple, Dict, Any, NoReturn, Iterable, Union, Literal\n",
    "\n",
    "import matplotlib.pyplot as plt\n",
    "\n",
    "import warnings\n",
    "\n",
    "warnings.simplefilter(action='ignore', category=pd.errors.PerformanceWarning)\n",
    "\n",
    "%matplotlib inline\n",
    "\n",
    "np.set_printoptions(precision=3)\n",
    "\n",
    "_rng: np.random.Generator = np.random.default_rng(42)"
   ],
   "metadata": {
    "collapsed": false,
    "pycharm": {
     "name": "#%%\n"
    }
   }
  },
  {
   "cell_type": "code",
   "execution_count": 94,
   "outputs": [
    {
     "name": "stdout",
     "output_type": "stream",
     "text": [
      "1.4.1\n"
     ]
    }
   ],
   "source": [
    "print(pd.__version__)"
   ],
   "metadata": {
    "collapsed": false,
    "pycharm": {
     "name": "#%%\n"
    }
   }
  },
  {
   "cell_type": "code",
   "execution_count": 95,
   "outputs": [
    {
     "data": {
      "text/plain": "     0     1     2     3     4     5     6     7     8     9    ...   91   \\\n1  100.0  4.08 -0.29  6.36  4.37 -2.38 -9.66 -0.73 -5.34  8.88  ...  2.82   \n2   49.0   NaN   NaN   NaN   NaN  9.03  9.27  9.03  9.27   NaN  ...   NaN   \n3   48.0   NaN  8.35   NaN   NaN  1.80  8.16 -2.82  6.21   NaN  ...   NaN   \n4   91.0  8.50  4.61 -4.17 -5.39  1.36  1.60  7.04  4.61 -0.44  ...  5.19   \n5  100.0 -6.17 -3.54  0.44 -8.50 -7.09 -4.32 -8.69 -0.87 -6.65  ... -3.54   \n\n    92    93    94    95    96    97    98    99    100  \n1 -4.95 -0.29  7.86 -0.19 -2.14  3.06  0.34 -4.32  1.07  \n2   NaN   NaN  9.08   NaN   NaN   NaN   NaN   NaN   NaN  \n3   NaN   NaN  0.53   NaN   NaN   NaN   NaN   NaN   NaN  \n4  5.58  4.27  5.19  5.73  1.55  3.11  6.55  1.80  1.60  \n5 -6.89 -0.68 -2.96 -2.18 -3.35  0.05 -9.08 -5.05 -3.45  \n\n[5 rows x 101 columns]",
      "text/html": "<div>\n<style scoped>\n    .dataframe tbody tr th:only-of-type {\n        vertical-align: middle;\n    }\n\n    .dataframe tbody tr th {\n        vertical-align: top;\n    }\n\n    .dataframe thead th {\n        text-align: right;\n    }\n</style>\n<table border=\"1\" class=\"dataframe\">\n  <thead>\n    <tr style=\"text-align: right;\">\n      <th></th>\n      <th>0</th>\n      <th>1</th>\n      <th>2</th>\n      <th>3</th>\n      <th>4</th>\n      <th>5</th>\n      <th>6</th>\n      <th>7</th>\n      <th>8</th>\n      <th>9</th>\n      <th>...</th>\n      <th>91</th>\n      <th>92</th>\n      <th>93</th>\n      <th>94</th>\n      <th>95</th>\n      <th>96</th>\n      <th>97</th>\n      <th>98</th>\n      <th>99</th>\n      <th>100</th>\n    </tr>\n  </thead>\n  <tbody>\n    <tr>\n      <th>1</th>\n      <td>100.0</td>\n      <td>4.08</td>\n      <td>-0.29</td>\n      <td>6.36</td>\n      <td>4.37</td>\n      <td>-2.38</td>\n      <td>-9.66</td>\n      <td>-0.73</td>\n      <td>-5.34</td>\n      <td>8.88</td>\n      <td>...</td>\n      <td>2.82</td>\n      <td>-4.95</td>\n      <td>-0.29</td>\n      <td>7.86</td>\n      <td>-0.19</td>\n      <td>-2.14</td>\n      <td>3.06</td>\n      <td>0.34</td>\n      <td>-4.32</td>\n      <td>1.07</td>\n    </tr>\n    <tr>\n      <th>2</th>\n      <td>49.0</td>\n      <td>NaN</td>\n      <td>NaN</td>\n      <td>NaN</td>\n      <td>NaN</td>\n      <td>9.03</td>\n      <td>9.27</td>\n      <td>9.03</td>\n      <td>9.27</td>\n      <td>NaN</td>\n      <td>...</td>\n      <td>NaN</td>\n      <td>NaN</td>\n      <td>NaN</td>\n      <td>9.08</td>\n      <td>NaN</td>\n      <td>NaN</td>\n      <td>NaN</td>\n      <td>NaN</td>\n      <td>NaN</td>\n      <td>NaN</td>\n    </tr>\n    <tr>\n      <th>3</th>\n      <td>48.0</td>\n      <td>NaN</td>\n      <td>8.35</td>\n      <td>NaN</td>\n      <td>NaN</td>\n      <td>1.80</td>\n      <td>8.16</td>\n      <td>-2.82</td>\n      <td>6.21</td>\n      <td>NaN</td>\n      <td>...</td>\n      <td>NaN</td>\n      <td>NaN</td>\n      <td>NaN</td>\n      <td>0.53</td>\n      <td>NaN</td>\n      <td>NaN</td>\n      <td>NaN</td>\n      <td>NaN</td>\n      <td>NaN</td>\n      <td>NaN</td>\n    </tr>\n    <tr>\n      <th>4</th>\n      <td>91.0</td>\n      <td>8.50</td>\n      <td>4.61</td>\n      <td>-4.17</td>\n      <td>-5.39</td>\n      <td>1.36</td>\n      <td>1.60</td>\n      <td>7.04</td>\n      <td>4.61</td>\n      <td>-0.44</td>\n      <td>...</td>\n      <td>5.19</td>\n      <td>5.58</td>\n      <td>4.27</td>\n      <td>5.19</td>\n      <td>5.73</td>\n      <td>1.55</td>\n      <td>3.11</td>\n      <td>6.55</td>\n      <td>1.80</td>\n      <td>1.60</td>\n    </tr>\n    <tr>\n      <th>5</th>\n      <td>100.0</td>\n      <td>-6.17</td>\n      <td>-3.54</td>\n      <td>0.44</td>\n      <td>-8.50</td>\n      <td>-7.09</td>\n      <td>-4.32</td>\n      <td>-8.69</td>\n      <td>-0.87</td>\n      <td>-6.65</td>\n      <td>...</td>\n      <td>-3.54</td>\n      <td>-6.89</td>\n      <td>-0.68</td>\n      <td>-2.96</td>\n      <td>-2.18</td>\n      <td>-3.35</td>\n      <td>0.05</td>\n      <td>-9.08</td>\n      <td>-5.05</td>\n      <td>-3.45</td>\n    </tr>\n  </tbody>\n</table>\n<p>5 rows × 101 columns</p>\n</div>"
     },
     "execution_count": 95,
     "metadata": {},
     "output_type": "execute_result"
    }
   ],
   "source": [
    "colnames = [\"rated\"] + [i for i in range(1,101)]\n",
    "\n",
    "\n",
    "\n",
    "data: pd.DataFrame = pd.read_csv(\n",
    "    \"jester-data-1.csv\",\n",
    "    #names=colnames,\n",
    "    header=None\n",
    ")\n",
    "#data.drop(\"rated\", axis=1, inplace=True)\n",
    "\n",
    "data.drop(0, inplace=True)\n",
    "data.replace(99, np.NaN, inplace=True)\n",
    "\n",
    "\n",
    "data.head()"
   ],
   "metadata": {
    "collapsed": false,
    "pycharm": {
     "name": "#%%\n"
    }
   }
  },
  {
   "cell_type": "code",
   "execution_count": 96,
   "outputs": [
    {
     "name": "stdout",
     "output_type": "stream",
     "text": [
      "(24982, 101)\n"
     ]
    }
   ],
   "source": [
    "print(data.shape)\n"
   ],
   "metadata": {
    "collapsed": false,
    "pycharm": {
     "name": "#%%\n"
    }
   }
  },
  {
   "cell_type": "code",
   "execution_count": 97,
   "outputs": [
    {
     "name": "stdout",
     "output_type": "stream",
     "text": [
      "0      72.381109\n",
      "1       0.905104\n",
      "2       0.207988\n",
      "3       0.317174\n",
      "4      -1.448684\n",
      "         ...    \n",
      "96      1.528003\n",
      "97      1.674444\n",
      "98      0.767692\n",
      "99     -0.031244\n",
      "100     1.354711\n",
      "Length: 101, dtype: float64\n",
      "Highest rated: 0 72.38110919240191\n",
      "Lowest  rated: 58 -3.833520447530864\n"
     ]
    }
   ],
   "source": [
    "means: pd.Series = data.mean()\n",
    "\n",
    "print(means)\n",
    "\n",
    "print(f\"Highest rated: {means.idxmax()} {means[means.idxmax()]}\")\n",
    "print(f\"Lowest  rated: {means.idxmin()} {means[means.idxmin()]}\")\n"
   ],
   "metadata": {
    "collapsed": false,
    "pycharm": {
     "name": "#%%\n"
    }
   }
  },
  {
   "cell_type": "code",
   "execution_count": 98,
   "outputs": [
    {
     "data": {
      "text/plain": "''"
     },
     "execution_count": 98,
     "metadata": {},
     "output_type": "execute_result"
    }
   ],
   "source": [
    "original_data: pd.DataFrame = data.copy()\n",
    "\n",
    "\"\""
   ],
   "metadata": {
    "collapsed": false,
    "pycharm": {
     "name": "#%%\n"
    }
   }
  },
  {
   "cell_type": "code",
   "execution_count": 99,
   "outputs": [
    {
     "name": "stdout",
     "output_type": "stream",
     "text": [
      "[[100.     4.08  -0.29 ...   0.34  -4.32   1.07]\n",
      " [ 49.      nan    nan ...    nan    nan    nan]\n",
      " [ 48.      nan   8.35 ...    nan  99.      nan]\n",
      " ...\n",
      " [ 39.      nan    nan ...    nan    nan    nan]\n",
      " [ 37.      nan    nan ...    nan    nan    nan]\n",
      " [ 72.     2.43   2.67 ...    nan    nan    nan]]\n"
     ]
    }
   ],
   "source": [
    "def make_validation_set(\n",
    "        original: pd.DataFrame, replace_proportion: float = 0.1, replace_with: Any = 99\n",
    ") -> Tuple[pd.DataFrame, Tuple[np.ndarray], Tuple[np.ndarray]]:\n",
    "    \"\"\"\n",
    "    Creates a validation set version of the dataset.\n",
    "    Obtains replace_proportion of the non NaN values in the dataset,\n",
    "    and with those specific selected non-NaNs, replaces\n",
    "    them with replace_with in that dataset.\n",
    "    :param original: \n",
    "    :param size_percent: \n",
    "    :param replace_with:\n",
    "    :return: \n",
    "    \"\"\"\n",
    "    valid_set: pd.DataFrame = original.copy()\n",
    "    rated = np.where(~np.isnan(valid_set.values))\n",
    "    n_rated: int = len(rated[0])\n",
    "    replace_these = _rng.choice(n_rated, size=int(replace_proportion*n_rated), replace=False)\n",
    "\n",
    "    print(replace_these)\n",
    "\n",
    "    print(rated)\n",
    "\n",
    "\n",
    "\n",
    "    valid_vals: np.ndarry = valid_set.values.flatten()\n",
    "    valid_vals.flatten()[replace_these] = replace_with\n",
    "\n",
    "\n",
    "    \n",
    "    nintetynines = np.where(valid_vals==replace_with)\n",
    "\n",
    "    print(nintetynines)\n",
    "\n",
    "    #for x, y in zip(replace_these[0][i], ):\n",
    "    #    valid_set[replace_these[i]]\n",
    "    #valid_set.loc[rated[0][replace_these]],[rated[1][replace_these]] = replace_with\n",
    "    return valid_set, (rated[0][replace_these], rated[1][replace_these])\n",
    "\n",
    "\n",
    "def replace(orig, percentage=0.1, replace_with: Any = 99):\n",
    "    \"\"\"\n",
    "    Replaces 'percentage'% of the original values in 'orig' with 99's\n",
    "    :param orig: original data array\n",
    "    :param percentage: percentage of values to replace (0<percentage<1)\n",
    "    \"\"\"\n",
    "    #arr = orig.values\n",
    "    arr = orig\n",
    "    new_data = orig.copy()\n",
    "    rated = np.where(arr!=99)\n",
    "    n_rated = len(rated[0])\n",
    "    idx = np.random.choice(\n",
    "        n_rated,\n",
    "        size=int(percentage*n_rated),\n",
    "        replace=False\n",
    "    )\n",
    "    new_data[rated[0][idx], rated[1][idx]] = replace_with\n",
    "    return new_data, (rated[0][idx], rated[1][idx])\n",
    "\n",
    "new, (y, x) = replace(\n",
    "    data.values, 0.1, 99\n",
    ")\n",
    "\n",
    "print(new)"
   ],
   "metadata": {
    "collapsed": false,
    "pycharm": {
     "name": "#%%\n"
    }
   }
  },
  {
   "cell_type": "code",
   "execution_count": 100,
   "outputs": [
    {
     "data": {
      "text/plain": "     0     1     2     3     4     5     6      7      8     9    ...   91   \\\n0  100.0  4.08 -0.29  6.36  4.37 -2.38 -9.66  -0.73  -5.34  8.88  ...  2.82   \n1   49.0   NaN   NaN   NaN   NaN  9.03  9.27   9.03  99.00   NaN  ...   NaN   \n2   48.0   NaN  8.35   NaN   NaN  1.80  8.16  -2.82   6.21   NaN  ...   NaN   \n3   91.0  8.50  4.61 -4.17 -5.39  1.36  1.60   7.04   4.61 -0.44  ...  5.19   \n4  100.0 -6.17 -3.54  0.44 -8.50 -7.09 -4.32  99.00  -0.87 -6.65  ... -3.54   \n\n    92    93     94    95    96    97    98     99     100  \n0 -4.95 -0.29  99.00 -0.19 -2.14  3.06  0.34  -4.32   1.07  \n1   NaN   NaN   9.08   NaN   NaN   NaN   NaN    NaN    NaN  \n2   NaN   NaN  99.00   NaN   NaN   NaN   NaN  99.00    NaN  \n3  5.58  4.27   5.19  5.73  1.55  3.11  6.55  99.00  99.00  \n4 -6.89 -0.68  -2.96 -2.18 -3.35  0.05 -9.08  -5.05  -3.45  \n\n[5 rows x 101 columns]",
      "text/html": "<div>\n<style scoped>\n    .dataframe tbody tr th:only-of-type {\n        vertical-align: middle;\n    }\n\n    .dataframe tbody tr th {\n        vertical-align: top;\n    }\n\n    .dataframe thead th {\n        text-align: right;\n    }\n</style>\n<table border=\"1\" class=\"dataframe\">\n  <thead>\n    <tr style=\"text-align: right;\">\n      <th></th>\n      <th>0</th>\n      <th>1</th>\n      <th>2</th>\n      <th>3</th>\n      <th>4</th>\n      <th>5</th>\n      <th>6</th>\n      <th>7</th>\n      <th>8</th>\n      <th>9</th>\n      <th>...</th>\n      <th>91</th>\n      <th>92</th>\n      <th>93</th>\n      <th>94</th>\n      <th>95</th>\n      <th>96</th>\n      <th>97</th>\n      <th>98</th>\n      <th>99</th>\n      <th>100</th>\n    </tr>\n  </thead>\n  <tbody>\n    <tr>\n      <th>0</th>\n      <td>100.0</td>\n      <td>4.08</td>\n      <td>-0.29</td>\n      <td>6.36</td>\n      <td>4.37</td>\n      <td>-2.38</td>\n      <td>-9.66</td>\n      <td>-0.73</td>\n      <td>-5.34</td>\n      <td>8.88</td>\n      <td>...</td>\n      <td>2.82</td>\n      <td>-4.95</td>\n      <td>-0.29</td>\n      <td>99.00</td>\n      <td>-0.19</td>\n      <td>-2.14</td>\n      <td>3.06</td>\n      <td>0.34</td>\n      <td>-4.32</td>\n      <td>1.07</td>\n    </tr>\n    <tr>\n      <th>1</th>\n      <td>49.0</td>\n      <td>NaN</td>\n      <td>NaN</td>\n      <td>NaN</td>\n      <td>NaN</td>\n      <td>9.03</td>\n      <td>9.27</td>\n      <td>9.03</td>\n      <td>99.00</td>\n      <td>NaN</td>\n      <td>...</td>\n      <td>NaN</td>\n      <td>NaN</td>\n      <td>NaN</td>\n      <td>9.08</td>\n      <td>NaN</td>\n      <td>NaN</td>\n      <td>NaN</td>\n      <td>NaN</td>\n      <td>NaN</td>\n      <td>NaN</td>\n    </tr>\n    <tr>\n      <th>2</th>\n      <td>48.0</td>\n      <td>NaN</td>\n      <td>8.35</td>\n      <td>NaN</td>\n      <td>NaN</td>\n      <td>1.80</td>\n      <td>8.16</td>\n      <td>-2.82</td>\n      <td>6.21</td>\n      <td>NaN</td>\n      <td>...</td>\n      <td>NaN</td>\n      <td>NaN</td>\n      <td>NaN</td>\n      <td>99.00</td>\n      <td>NaN</td>\n      <td>NaN</td>\n      <td>NaN</td>\n      <td>NaN</td>\n      <td>99.00</td>\n      <td>NaN</td>\n    </tr>\n    <tr>\n      <th>3</th>\n      <td>91.0</td>\n      <td>8.50</td>\n      <td>4.61</td>\n      <td>-4.17</td>\n      <td>-5.39</td>\n      <td>1.36</td>\n      <td>1.60</td>\n      <td>7.04</td>\n      <td>4.61</td>\n      <td>-0.44</td>\n      <td>...</td>\n      <td>5.19</td>\n      <td>5.58</td>\n      <td>4.27</td>\n      <td>5.19</td>\n      <td>5.73</td>\n      <td>1.55</td>\n      <td>3.11</td>\n      <td>6.55</td>\n      <td>99.00</td>\n      <td>99.00</td>\n    </tr>\n    <tr>\n      <th>4</th>\n      <td>100.0</td>\n      <td>-6.17</td>\n      <td>-3.54</td>\n      <td>0.44</td>\n      <td>-8.50</td>\n      <td>-7.09</td>\n      <td>-4.32</td>\n      <td>99.00</td>\n      <td>-0.87</td>\n      <td>-6.65</td>\n      <td>...</td>\n      <td>-3.54</td>\n      <td>-6.89</td>\n      <td>-0.68</td>\n      <td>-2.96</td>\n      <td>-2.18</td>\n      <td>-3.35</td>\n      <td>0.05</td>\n      <td>-9.08</td>\n      <td>-5.05</td>\n      <td>-3.45</td>\n    </tr>\n  </tbody>\n</table>\n<p>5 rows × 101 columns</p>\n</div>"
     },
     "execution_count": 100,
     "metadata": {},
     "output_type": "execute_result"
    }
   ],
   "source": [
    "new_df: pd.DataFrame = pd.DataFrame(data = new)\n",
    "\n",
    "new_df.head()"
   ],
   "metadata": {
    "collapsed": false,
    "pycharm": {
     "name": "#%%\n"
    }
   }
  },
  {
   "cell_type": "code",
   "execution_count": 101,
   "outputs": [],
   "source": [
    "\n",
    "\n",
    "\n",
    "#validation\n",
    "\n",
    "def predict_rating(user_row, item_row, user_preferences, item_factors):\n",
    "    \"\"\" Predict a rating \"\"\"\n",
    "    user_values = user_preferences[user_row]\n",
    "    item_values = item_factors[item_row]\n",
    "    print(user_values)\n",
    "    print(item_values)\n",
    "    return user_values.dot(item_values)\n",
    "\n",
    "\n",
    "def train(user_row, item_row, rating, user_preferences, item_factors, alpha=0.0001):\n",
    "    \"\"\" Adapt the values of user_preferences and item_factors\n",
    "    to match the ones predicted by the users\n",
    "    \"\"\"\n",
    "    err = rating - predict_rating(user_row, item_row,  user_preferences, item_factors)\n",
    "    temp = user_preferences.iloc[user_row]\n",
    "    user_preferences.iloc[user_row] += alpha * err * item_factors.iloc[item_row]\n",
    "    item_factors.iloc[item_row] += alpha * err * temp\n",
    "    return err\n",
    "    \n",
    "    \n",
    "    \n",
    "def sgd_svd(user_preferences, item_factors, user_ratings, iterations=30000):\n",
    "    mse_history = []\n",
    "    for iteration in range(iterations):\n",
    "        error = []\n",
    "        for user_row in range(user_preferences.shape[0]):\n",
    "            for item_row in range(item_factors.shape[0]):\n",
    "                rating = columns.user_ratings[user_row][item_row]\n",
    "                if not np.isnan(rating):\n",
    "                    err = train(user_row, item_row, rating, user_preferences, item_factors)\n",
    "                    error.append(err)\n",
    "        \n",
    "        mse = (np.array(error) ** 2).mean()\n",
    "        if (iteration % 10) == 0:\n",
    "            print('Iteration %d/%d:    MSE=%.3f' % (iteration, iterations, mse))\n",
    "            mse_history.append(mse)\n",
    "    return mse_history\n",
    "\n",
    "\n",
    "def sgd(\n",
    "        user_preferences,\n",
    "        item_factors,\n",
    "        user_ratings,\n",
    "        iterations=30000,\n",
    "        validation_val = 99,\n",
    "        train_val = np.NaN\n",
    "):\n",
    "    \"\"\" Iterate over all users and all items and train for \n",
    "        a certain number of iterations\n",
    "    \"\"\"\n",
    "    mse_history = []\n",
    "    for iteration in range(iterations):\n",
    "        error = []\n",
    "        \n",
    "        for user_id in range(user_preferences.shape[0]):\n",
    "            for item_id in range(item_factors.shape[0]):\n",
    "                rating = user_ratings.values[user_id, item_id]\n",
    "                print(user_id)\n",
    "                print(item_id)\n",
    "                print(rating)\n",
    "                print(user_preferences[user_id].shape)\n",
    "                print(item_factors[item_id].shape)\n",
    "                #if not np.isnan(rating):\n",
    "                if (not np.isnan(rating)) and (rating != train_val and rating != validation_val):\n",
    "                    err = train(user_id, item_id, rating, user_preferences[user_id], item_factors[item_id])\n",
    "                    error.append(err)\n",
    "        mse = (np.array(error) ** 2).mean()   \n",
    "        if (iteration % 10) == 0:\n",
    "            print('Iteration %d/%d:    MSE=%.3f' % (iteration, iterations, mse))\n",
    "            mse_history.append(mse)\n",
    "    return mse_history\n"
   ],
   "metadata": {
    "collapsed": false,
    "pycharm": {
     "name": "#%%\n"
    }
   }
  },
  {
   "cell_type": "code",
   "execution_count": 102,
   "outputs": [
    {
     "name": "stdout",
     "output_type": "stream",
     "text": [
      "0\n",
      "0\n",
      "100.0\n",
      "(24982,)\n",
      "(101,)\n",
      "100.0\n",
      "100.0\n"
     ]
    }
   ],
   "source": [
    "try:\n",
    "    res = sgd(\n",
    "        new_df.T.values,\n",
    "        new_df.values,\n",
    "        new_df\n",
    "    )\n",
    "\n",
    "    print(res)\n",
    "except Exception:\n",
    "    pass"
   ],
   "metadata": {
    "collapsed": false,
    "pycharm": {
     "name": "#%%\n"
    }
   }
  },
  {
   "cell_type": "code",
   "execution_count": 102,
   "outputs": [],
   "source": [],
   "metadata": {
    "collapsed": false,
    "pycharm": {
     "name": "#%%\n"
    }
   }
  },
  {
   "cell_type": "code",
   "execution_count": 102,
   "outputs": [],
   "source": [],
   "metadata": {
    "collapsed": false,
    "pycharm": {
     "name": "#%%\n"
    }
   }
  },
  {
   "cell_type": "code",
   "execution_count": 103,
   "outputs": [
    {
     "name": "stdout",
     "output_type": "stream",
     "text": [
      "6.02\n"
     ]
    }
   ],
   "source": [
    "#df_jester.iloc[user_x, joke_y].\n",
    "\n",
    "print(data.iloc[19928, 32])\n"
   ],
   "metadata": {
    "collapsed": false,
    "pycharm": {
     "name": "#%%\n"
    }
   }
  },
  {
   "cell_type": "code",
   "execution_count": 130,
   "outputs": [
    {
     "data": {
      "text/plain": "    Movie ID                                              Title   Factor1  \\\n0         11          Star Wars: Episode IV - A New Hope (1977) -1.521848   \n1         12                                Finding Nemo (2003) -0.342185   \n2         13                                Forrest Gump (1994) -2.240888   \n3         14                             American Beauty (1999) -0.634531   \n4         22  Pirates of the Caribbean: The Curse of the Bla...  0.517348   \n..       ...                                                ...       ...   \n95      9806                             The Incredibles (2004)  0.159967   \n96     10020                        Beauty and the Beast (1991)  1.286288   \n97     36657                                       X-Men (2000)  0.811901   \n98     36658                            X2: X-Men United (2003)  1.161006   \n99     36955                                   True Lies (1994)  1.734008   \n\n     Factor2   Factor3   Factor4   Factor5   Factor6   Factor7   Factor8  \\\n0  -1.038507  2.027269  0.247933 -0.594548  2.513260 -1.848910  0.476710   \n1  -0.296586 -0.385962  2.443297 -1.097015 -0.619465  0.572887  0.329516   \n2  -0.438815 -2.275177  0.614548  0.904469  0.711919 -0.420876  1.302036   \n3   2.186059 -0.066681  0.086197  0.517558 -0.185319 -0.412352  0.063841   \n4  -1.456763  0.369161  0.073903 -0.098332 -0.594722  0.828888  0.033626   \n..       ...       ...       ...       ...       ...       ...       ...   \n95 -0.051123  0.311183  1.841867 -1.952736 -0.836041  0.639252 -0.413082   \n96  0.004957 -0.157640  2.579640 -0.042687 -0.256582 -0.007971  0.458163   \n97 -0.893280  0.668953 -0.885074 -1.070468 -0.973154 -0.037449 -0.925609   \n98 -0.715613  0.712633 -0.688808 -0.717785 -1.007047 -0.267268 -0.802322   \n99  0.265436 -0.003391 -0.491754 -0.322739  0.850165 -0.150377 -0.075895   \n\n     Factor9  Factor10  Factor11  Factor12  Factor13  Factor14  Factor15  \n0  -0.224146 -0.760681 -0.973915  0.862379  0.403861  1.129616 -0.248806  \n1  -0.712228  0.323554 -0.561948 -0.142405 -0.564415  0.506876  1.274993  \n2  -0.868418 -0.160122  0.633667  0.133138 -0.330276 -2.209004 -0.419092  \n3   0.075937 -0.577682  0.526803 -1.465557 -0.819682  0.549010 -0.681191  \n4  -0.707414  0.717877  1.394326 -0.786986  1.429191  0.855746 -2.292566  \n..       ...       ...       ...       ...       ...       ...       ...  \n95 -0.310868  0.448225 -0.846044 -0.158192 -0.649164  0.045580  1.017861  \n96  0.091394  0.323339 -0.862833 -0.508185  0.994535  0.868700 -0.487076  \n97 -0.122112 -0.328822 -0.163103 -0.307299  0.642105 -1.355542  0.067790  \n98 -0.249239 -0.540419 -0.291422 -0.240216  0.290714 -1.217250 -0.288130  \n99  1.373386  0.934767  0.489299 -0.062678  0.333703 -0.223382 -0.022599  \n\n[100 rows x 17 columns]",
      "text/html": "<div>\n<style scoped>\n    .dataframe tbody tr th:only-of-type {\n        vertical-align: middle;\n    }\n\n    .dataframe tbody tr th {\n        vertical-align: top;\n    }\n\n    .dataframe thead th {\n        text-align: right;\n    }\n</style>\n<table border=\"1\" class=\"dataframe\">\n  <thead>\n    <tr style=\"text-align: right;\">\n      <th></th>\n      <th>Movie ID</th>\n      <th>Title</th>\n      <th>Factor1</th>\n      <th>Factor2</th>\n      <th>Factor3</th>\n      <th>Factor4</th>\n      <th>Factor5</th>\n      <th>Factor6</th>\n      <th>Factor7</th>\n      <th>Factor8</th>\n      <th>Factor9</th>\n      <th>Factor10</th>\n      <th>Factor11</th>\n      <th>Factor12</th>\n      <th>Factor13</th>\n      <th>Factor14</th>\n      <th>Factor15</th>\n    </tr>\n  </thead>\n  <tbody>\n    <tr>\n      <th>0</th>\n      <td>11</td>\n      <td>Star Wars: Episode IV - A New Hope (1977)</td>\n      <td>-1.521848</td>\n      <td>-1.038507</td>\n      <td>2.027269</td>\n      <td>0.247933</td>\n      <td>-0.594548</td>\n      <td>2.513260</td>\n      <td>-1.848910</td>\n      <td>0.476710</td>\n      <td>-0.224146</td>\n      <td>-0.760681</td>\n      <td>-0.973915</td>\n      <td>0.862379</td>\n      <td>0.403861</td>\n      <td>1.129616</td>\n      <td>-0.248806</td>\n    </tr>\n    <tr>\n      <th>1</th>\n      <td>12</td>\n      <td>Finding Nemo (2003)</td>\n      <td>-0.342185</td>\n      <td>-0.296586</td>\n      <td>-0.385962</td>\n      <td>2.443297</td>\n      <td>-1.097015</td>\n      <td>-0.619465</td>\n      <td>0.572887</td>\n      <td>0.329516</td>\n      <td>-0.712228</td>\n      <td>0.323554</td>\n      <td>-0.561948</td>\n      <td>-0.142405</td>\n      <td>-0.564415</td>\n      <td>0.506876</td>\n      <td>1.274993</td>\n    </tr>\n    <tr>\n      <th>2</th>\n      <td>13</td>\n      <td>Forrest Gump (1994)</td>\n      <td>-2.240888</td>\n      <td>-0.438815</td>\n      <td>-2.275177</td>\n      <td>0.614548</td>\n      <td>0.904469</td>\n      <td>0.711919</td>\n      <td>-0.420876</td>\n      <td>1.302036</td>\n      <td>-0.868418</td>\n      <td>-0.160122</td>\n      <td>0.633667</td>\n      <td>0.133138</td>\n      <td>-0.330276</td>\n      <td>-2.209004</td>\n      <td>-0.419092</td>\n    </tr>\n    <tr>\n      <th>3</th>\n      <td>14</td>\n      <td>American Beauty (1999)</td>\n      <td>-0.634531</td>\n      <td>2.186059</td>\n      <td>-0.066681</td>\n      <td>0.086197</td>\n      <td>0.517558</td>\n      <td>-0.185319</td>\n      <td>-0.412352</td>\n      <td>0.063841</td>\n      <td>0.075937</td>\n      <td>-0.577682</td>\n      <td>0.526803</td>\n      <td>-1.465557</td>\n      <td>-0.819682</td>\n      <td>0.549010</td>\n      <td>-0.681191</td>\n    </tr>\n    <tr>\n      <th>4</th>\n      <td>22</td>\n      <td>Pirates of the Caribbean: The Curse of the Bla...</td>\n      <td>0.517348</td>\n      <td>-1.456763</td>\n      <td>0.369161</td>\n      <td>0.073903</td>\n      <td>-0.098332</td>\n      <td>-0.594722</td>\n      <td>0.828888</td>\n      <td>0.033626</td>\n      <td>-0.707414</td>\n      <td>0.717877</td>\n      <td>1.394326</td>\n      <td>-0.786986</td>\n      <td>1.429191</td>\n      <td>0.855746</td>\n      <td>-2.292566</td>\n    </tr>\n    <tr>\n      <th>...</th>\n      <td>...</td>\n      <td>...</td>\n      <td>...</td>\n      <td>...</td>\n      <td>...</td>\n      <td>...</td>\n      <td>...</td>\n      <td>...</td>\n      <td>...</td>\n      <td>...</td>\n      <td>...</td>\n      <td>...</td>\n      <td>...</td>\n      <td>...</td>\n      <td>...</td>\n      <td>...</td>\n      <td>...</td>\n    </tr>\n    <tr>\n      <th>95</th>\n      <td>9806</td>\n      <td>The Incredibles (2004)</td>\n      <td>0.159967</td>\n      <td>-0.051123</td>\n      <td>0.311183</td>\n      <td>1.841867</td>\n      <td>-1.952736</td>\n      <td>-0.836041</td>\n      <td>0.639252</td>\n      <td>-0.413082</td>\n      <td>-0.310868</td>\n      <td>0.448225</td>\n      <td>-0.846044</td>\n      <td>-0.158192</td>\n      <td>-0.649164</td>\n      <td>0.045580</td>\n      <td>1.017861</td>\n    </tr>\n    <tr>\n      <th>96</th>\n      <td>10020</td>\n      <td>Beauty and the Beast (1991)</td>\n      <td>1.286288</td>\n      <td>0.004957</td>\n      <td>-0.157640</td>\n      <td>2.579640</td>\n      <td>-0.042687</td>\n      <td>-0.256582</td>\n      <td>-0.007971</td>\n      <td>0.458163</td>\n      <td>0.091394</td>\n      <td>0.323339</td>\n      <td>-0.862833</td>\n      <td>-0.508185</td>\n      <td>0.994535</td>\n      <td>0.868700</td>\n      <td>-0.487076</td>\n    </tr>\n    <tr>\n      <th>97</th>\n      <td>36657</td>\n      <td>X-Men (2000)</td>\n      <td>0.811901</td>\n      <td>-0.893280</td>\n      <td>0.668953</td>\n      <td>-0.885074</td>\n      <td>-1.070468</td>\n      <td>-0.973154</td>\n      <td>-0.037449</td>\n      <td>-0.925609</td>\n      <td>-0.122112</td>\n      <td>-0.328822</td>\n      <td>-0.163103</td>\n      <td>-0.307299</td>\n      <td>0.642105</td>\n      <td>-1.355542</td>\n      <td>0.067790</td>\n    </tr>\n    <tr>\n      <th>98</th>\n      <td>36658</td>\n      <td>X2: X-Men United (2003)</td>\n      <td>1.161006</td>\n      <td>-0.715613</td>\n      <td>0.712633</td>\n      <td>-0.688808</td>\n      <td>-0.717785</td>\n      <td>-1.007047</td>\n      <td>-0.267268</td>\n      <td>-0.802322</td>\n      <td>-0.249239</td>\n      <td>-0.540419</td>\n      <td>-0.291422</td>\n      <td>-0.240216</td>\n      <td>0.290714</td>\n      <td>-1.217250</td>\n      <td>-0.288130</td>\n    </tr>\n    <tr>\n      <th>99</th>\n      <td>36955</td>\n      <td>True Lies (1994)</td>\n      <td>1.734008</td>\n      <td>0.265436</td>\n      <td>-0.003391</td>\n      <td>-0.491754</td>\n      <td>-0.322739</td>\n      <td>0.850165</td>\n      <td>-0.150377</td>\n      <td>-0.075895</td>\n      <td>1.373386</td>\n      <td>0.934767</td>\n      <td>0.489299</td>\n      <td>-0.062678</td>\n      <td>0.333703</td>\n      <td>-0.223382</td>\n      <td>-0.022599</td>\n    </tr>\n  </tbody>\n</table>\n<p>100 rows × 17 columns</p>\n</div>"
     },
     "execution_count": 130,
     "metadata": {},
     "output_type": "execute_result"
    }
   ],
   "source": [
    "\n",
    "movies_df: pd.DataFrame = pd.read_excel(\"movies_latent_factors.xlsx\")\n",
    "\n",
    "movies_df"
   ],
   "metadata": {
    "collapsed": false,
    "pycharm": {
     "name": "#%%\n"
    }
   }
  },
  {
   "cell_type": "code",
   "execution_count": 131,
   "outputs": [
    {
     "data": {
      "text/plain": "    User   Factor1   Factor2   Factor3   Factor4   Factor5   Factor6  \\\n0   4768 -0.204024  0.161079 -0.090447  0.138495 -0.162934  0.163894   \n1    156 -0.189652 -0.178979 -0.091490 -0.000823 -0.032646  0.177209   \n2   5323 -0.115308 -0.090886 -0.053129  0.018472 -0.068081 -0.004828   \n3    174 -0.227462 -0.272532 -0.017231  0.054324  0.214755 -0.072639   \n4   4529 -0.014616 -0.102218 -0.107935  0.155784 -0.123362 -0.118228   \n5    783 -0.020301 -0.031919 -0.036955  0.033690  0.000174 -0.003178   \n6   3878 -0.091462  0.215879 -0.180453  0.085408 -0.321094  0.227947   \n7    768  0.000819 -0.009229 -0.019228  0.002703  0.012869  0.006655   \n8   4469 -0.030528 -0.011537 -0.042822 -0.014378  0.031338  0.012297   \n9   1882 -0.083093 -0.029160  0.013748  0.022716 -0.062732 -0.080670   \n10  4997 -0.185443 -0.276496 -0.781275 -0.240506  0.029611 -0.271814   \n11  2067 -0.083242  0.181171 -0.344267 -0.019713 -0.243199  0.039220   \n12  3806 -0.042344 -0.040755 -0.055720 -0.073726  0.018203  0.091940   \n13  2848 -0.113283 -0.098942 -0.040393  0.042180 -0.041068 -0.039568   \n14  4433 -0.298760 -0.290228 -0.160120  0.156277 -0.055364 -0.434205   \n15  3519 -0.068454  0.020090  0.039336  0.002958 -0.018140  0.006501   \n16  5338 -0.061259  0.014661  0.011412  0.001727  0.064996 -0.078448   \n17  3947 -0.022340 -0.115285 -0.136980  0.038593 -0.003029  0.071770   \n18  4373 -0.136550 -0.089406 -0.235399  0.120585 -0.168168  0.129990   \n19  2092 -0.121763  0.011065 -0.037121  0.032568  0.017570  0.095802   \n20   525 -0.040290  0.014383 -0.098967 -0.018957  0.012388  0.035546   \n21  4327  0.008227  0.073899 -0.323967  0.131203 -0.320862  0.054997   \n22  3048 -0.320315  0.078290 -0.083182 -0.221577 -0.078184 -0.145306   \n23  2665 -0.076167 -0.006064 -0.001902 -0.053641  0.021751  0.048207   \n24  4940 -0.113099  0.047643 -0.053024  0.024834  0.010643 -0.012051   \n\n     Factor7   Factor8   Factor9  Factor10  Factor11  Factor12  Factor13  \\\n0   0.051502 -0.088582  0.126829  0.065967  0.085008  0.355404  0.007108   \n1  -0.098123 -0.068283 -0.011575  0.120866 -0.009931 -0.048606  0.045916   \n2   0.113005  0.102107  0.034758  0.000693 -0.073712 -0.019460  0.108372   \n3  -0.033122 -0.086508 -0.131479  0.180403  0.095890 -0.082396  0.036767   \n4  -0.013549 -0.050622  0.058698 -0.159600 -0.142382 -0.132836 -0.039897   \n5   0.054474  0.045424 -0.053308  0.003437 -0.041750  0.059725 -0.021647   \n6   0.053767  0.038017  0.097141 -0.139872  0.029253  0.214467  0.189250   \n7   0.007687  0.018747  0.014705 -0.009256 -0.010116 -0.010051 -0.002108   \n8  -0.000038 -0.010264 -0.006781 -0.019950 -0.014435  0.010926  0.024400   \n9  -0.019723  0.013253 -0.091305 -0.090687  0.030638 -0.113364 -0.021325   \n10 -0.056266 -0.111825 -0.290910 -0.255087 -0.098079  0.103116 -0.100563   \n11 -0.092086  0.114808 -0.036472  0.042386 -0.186812 -0.127038  0.176661   \n12  0.123959 -0.157403 -0.020388  0.082493  0.223057 -0.040915 -0.130308   \n13  0.018291 -0.191254  0.218912  0.017262 -0.087468  0.036894  0.067105   \n14 -0.089259  0.252211 -0.107413 -0.088591  0.121157  0.071371 -0.415598   \n15 -0.108526  0.025045  0.056334 -0.031291 -0.035533  0.005171  0.005546   \n16  0.059510  0.017402 -0.040234 -0.073409 -0.016323  0.031774 -0.062413   \n17 -0.146675 -0.285724 -0.044472 -0.054032  0.064019 -0.045329 -0.111919   \n18 -0.035084 -0.324028  0.087531  0.045290  0.207850 -0.028972 -0.175184   \n19  0.120238 -0.048410  0.008829  0.121778  0.093783  0.044754 -0.003087   \n20  0.000903  0.012835 -0.021080  0.018742 -0.050483 -0.025394  0.034079   \n21  0.060751  0.162314  0.044612 -0.232241  0.094986 -0.106570 -0.051692   \n22 -0.020166  0.124409 -0.063425  0.004726  0.009683  0.028016 -0.018100   \n23 -0.083980  0.146907 -0.057422  0.006085  0.063240  0.086562 -0.132328   \n24 -0.049150  0.006252  0.020429  0.004349  0.028372  0.010227 -0.008233   \n\n    Factor14  Factor15  \n0  -0.118663 -0.039125  \n1   0.113671  0.179873  \n2   0.054471 -0.109552  \n3  -0.165438  0.050692  \n4   0.129063  0.102669  \n5   0.039873 -0.061857  \n6   0.065990  0.102776  \n7   0.043223 -0.006670  \n8   0.005318 -0.007983  \n9   0.181508  0.022357  \n10  0.100164  0.043196  \n11 -0.055812 -0.000042  \n12 -0.021816  0.034549  \n13 -0.016780 -0.029503  \n14 -0.022139 -0.183021  \n15  0.020780 -0.023623  \n16  0.107708  0.065081  \n17  0.066313  0.002395  \n18 -0.058283  0.147797  \n19  0.164487 -0.075231  \n20  0.038330 -0.001341  \n21 -0.093490  0.029534  \n22 -0.128452  0.069972  \n23  0.146198  0.029200  \n24 -0.029304  0.090511  ",
      "text/html": "<div>\n<style scoped>\n    .dataframe tbody tr th:only-of-type {\n        vertical-align: middle;\n    }\n\n    .dataframe tbody tr th {\n        vertical-align: top;\n    }\n\n    .dataframe thead th {\n        text-align: right;\n    }\n</style>\n<table border=\"1\" class=\"dataframe\">\n  <thead>\n    <tr style=\"text-align: right;\">\n      <th></th>\n      <th>User</th>\n      <th>Factor1</th>\n      <th>Factor2</th>\n      <th>Factor3</th>\n      <th>Factor4</th>\n      <th>Factor5</th>\n      <th>Factor6</th>\n      <th>Factor7</th>\n      <th>Factor8</th>\n      <th>Factor9</th>\n      <th>Factor10</th>\n      <th>Factor11</th>\n      <th>Factor12</th>\n      <th>Factor13</th>\n      <th>Factor14</th>\n      <th>Factor15</th>\n    </tr>\n  </thead>\n  <tbody>\n    <tr>\n      <th>0</th>\n      <td>4768</td>\n      <td>-0.204024</td>\n      <td>0.161079</td>\n      <td>-0.090447</td>\n      <td>0.138495</td>\n      <td>-0.162934</td>\n      <td>0.163894</td>\n      <td>0.051502</td>\n      <td>-0.088582</td>\n      <td>0.126829</td>\n      <td>0.065967</td>\n      <td>0.085008</td>\n      <td>0.355404</td>\n      <td>0.007108</td>\n      <td>-0.118663</td>\n      <td>-0.039125</td>\n    </tr>\n    <tr>\n      <th>1</th>\n      <td>156</td>\n      <td>-0.189652</td>\n      <td>-0.178979</td>\n      <td>-0.091490</td>\n      <td>-0.000823</td>\n      <td>-0.032646</td>\n      <td>0.177209</td>\n      <td>-0.098123</td>\n      <td>-0.068283</td>\n      <td>-0.011575</td>\n      <td>0.120866</td>\n      <td>-0.009931</td>\n      <td>-0.048606</td>\n      <td>0.045916</td>\n      <td>0.113671</td>\n      <td>0.179873</td>\n    </tr>\n    <tr>\n      <th>2</th>\n      <td>5323</td>\n      <td>-0.115308</td>\n      <td>-0.090886</td>\n      <td>-0.053129</td>\n      <td>0.018472</td>\n      <td>-0.068081</td>\n      <td>-0.004828</td>\n      <td>0.113005</td>\n      <td>0.102107</td>\n      <td>0.034758</td>\n      <td>0.000693</td>\n      <td>-0.073712</td>\n      <td>-0.019460</td>\n      <td>0.108372</td>\n      <td>0.054471</td>\n      <td>-0.109552</td>\n    </tr>\n    <tr>\n      <th>3</th>\n      <td>174</td>\n      <td>-0.227462</td>\n      <td>-0.272532</td>\n      <td>-0.017231</td>\n      <td>0.054324</td>\n      <td>0.214755</td>\n      <td>-0.072639</td>\n      <td>-0.033122</td>\n      <td>-0.086508</td>\n      <td>-0.131479</td>\n      <td>0.180403</td>\n      <td>0.095890</td>\n      <td>-0.082396</td>\n      <td>0.036767</td>\n      <td>-0.165438</td>\n      <td>0.050692</td>\n    </tr>\n    <tr>\n      <th>4</th>\n      <td>4529</td>\n      <td>-0.014616</td>\n      <td>-0.102218</td>\n      <td>-0.107935</td>\n      <td>0.155784</td>\n      <td>-0.123362</td>\n      <td>-0.118228</td>\n      <td>-0.013549</td>\n      <td>-0.050622</td>\n      <td>0.058698</td>\n      <td>-0.159600</td>\n      <td>-0.142382</td>\n      <td>-0.132836</td>\n      <td>-0.039897</td>\n      <td>0.129063</td>\n      <td>0.102669</td>\n    </tr>\n    <tr>\n      <th>5</th>\n      <td>783</td>\n      <td>-0.020301</td>\n      <td>-0.031919</td>\n      <td>-0.036955</td>\n      <td>0.033690</td>\n      <td>0.000174</td>\n      <td>-0.003178</td>\n      <td>0.054474</td>\n      <td>0.045424</td>\n      <td>-0.053308</td>\n      <td>0.003437</td>\n      <td>-0.041750</td>\n      <td>0.059725</td>\n      <td>-0.021647</td>\n      <td>0.039873</td>\n      <td>-0.061857</td>\n    </tr>\n    <tr>\n      <th>6</th>\n      <td>3878</td>\n      <td>-0.091462</td>\n      <td>0.215879</td>\n      <td>-0.180453</td>\n      <td>0.085408</td>\n      <td>-0.321094</td>\n      <td>0.227947</td>\n      <td>0.053767</td>\n      <td>0.038017</td>\n      <td>0.097141</td>\n      <td>-0.139872</td>\n      <td>0.029253</td>\n      <td>0.214467</td>\n      <td>0.189250</td>\n      <td>0.065990</td>\n      <td>0.102776</td>\n    </tr>\n    <tr>\n      <th>7</th>\n      <td>768</td>\n      <td>0.000819</td>\n      <td>-0.009229</td>\n      <td>-0.019228</td>\n      <td>0.002703</td>\n      <td>0.012869</td>\n      <td>0.006655</td>\n      <td>0.007687</td>\n      <td>0.018747</td>\n      <td>0.014705</td>\n      <td>-0.009256</td>\n      <td>-0.010116</td>\n      <td>-0.010051</td>\n      <td>-0.002108</td>\n      <td>0.043223</td>\n      <td>-0.006670</td>\n    </tr>\n    <tr>\n      <th>8</th>\n      <td>4469</td>\n      <td>-0.030528</td>\n      <td>-0.011537</td>\n      <td>-0.042822</td>\n      <td>-0.014378</td>\n      <td>0.031338</td>\n      <td>0.012297</td>\n      <td>-0.000038</td>\n      <td>-0.010264</td>\n      <td>-0.006781</td>\n      <td>-0.019950</td>\n      <td>-0.014435</td>\n      <td>0.010926</td>\n      <td>0.024400</td>\n      <td>0.005318</td>\n      <td>-0.007983</td>\n    </tr>\n    <tr>\n      <th>9</th>\n      <td>1882</td>\n      <td>-0.083093</td>\n      <td>-0.029160</td>\n      <td>0.013748</td>\n      <td>0.022716</td>\n      <td>-0.062732</td>\n      <td>-0.080670</td>\n      <td>-0.019723</td>\n      <td>0.013253</td>\n      <td>-0.091305</td>\n      <td>-0.090687</td>\n      <td>0.030638</td>\n      <td>-0.113364</td>\n      <td>-0.021325</td>\n      <td>0.181508</td>\n      <td>0.022357</td>\n    </tr>\n    <tr>\n      <th>10</th>\n      <td>4997</td>\n      <td>-0.185443</td>\n      <td>-0.276496</td>\n      <td>-0.781275</td>\n      <td>-0.240506</td>\n      <td>0.029611</td>\n      <td>-0.271814</td>\n      <td>-0.056266</td>\n      <td>-0.111825</td>\n      <td>-0.290910</td>\n      <td>-0.255087</td>\n      <td>-0.098079</td>\n      <td>0.103116</td>\n      <td>-0.100563</td>\n      <td>0.100164</td>\n      <td>0.043196</td>\n    </tr>\n    <tr>\n      <th>11</th>\n      <td>2067</td>\n      <td>-0.083242</td>\n      <td>0.181171</td>\n      <td>-0.344267</td>\n      <td>-0.019713</td>\n      <td>-0.243199</td>\n      <td>0.039220</td>\n      <td>-0.092086</td>\n      <td>0.114808</td>\n      <td>-0.036472</td>\n      <td>0.042386</td>\n      <td>-0.186812</td>\n      <td>-0.127038</td>\n      <td>0.176661</td>\n      <td>-0.055812</td>\n      <td>-0.000042</td>\n    </tr>\n    <tr>\n      <th>12</th>\n      <td>3806</td>\n      <td>-0.042344</td>\n      <td>-0.040755</td>\n      <td>-0.055720</td>\n      <td>-0.073726</td>\n      <td>0.018203</td>\n      <td>0.091940</td>\n      <td>0.123959</td>\n      <td>-0.157403</td>\n      <td>-0.020388</td>\n      <td>0.082493</td>\n      <td>0.223057</td>\n      <td>-0.040915</td>\n      <td>-0.130308</td>\n      <td>-0.021816</td>\n      <td>0.034549</td>\n    </tr>\n    <tr>\n      <th>13</th>\n      <td>2848</td>\n      <td>-0.113283</td>\n      <td>-0.098942</td>\n      <td>-0.040393</td>\n      <td>0.042180</td>\n      <td>-0.041068</td>\n      <td>-0.039568</td>\n      <td>0.018291</td>\n      <td>-0.191254</td>\n      <td>0.218912</td>\n      <td>0.017262</td>\n      <td>-0.087468</td>\n      <td>0.036894</td>\n      <td>0.067105</td>\n      <td>-0.016780</td>\n      <td>-0.029503</td>\n    </tr>\n    <tr>\n      <th>14</th>\n      <td>4433</td>\n      <td>-0.298760</td>\n      <td>-0.290228</td>\n      <td>-0.160120</td>\n      <td>0.156277</td>\n      <td>-0.055364</td>\n      <td>-0.434205</td>\n      <td>-0.089259</td>\n      <td>0.252211</td>\n      <td>-0.107413</td>\n      <td>-0.088591</td>\n      <td>0.121157</td>\n      <td>0.071371</td>\n      <td>-0.415598</td>\n      <td>-0.022139</td>\n      <td>-0.183021</td>\n    </tr>\n    <tr>\n      <th>15</th>\n      <td>3519</td>\n      <td>-0.068454</td>\n      <td>0.020090</td>\n      <td>0.039336</td>\n      <td>0.002958</td>\n      <td>-0.018140</td>\n      <td>0.006501</td>\n      <td>-0.108526</td>\n      <td>0.025045</td>\n      <td>0.056334</td>\n      <td>-0.031291</td>\n      <td>-0.035533</td>\n      <td>0.005171</td>\n      <td>0.005546</td>\n      <td>0.020780</td>\n      <td>-0.023623</td>\n    </tr>\n    <tr>\n      <th>16</th>\n      <td>5338</td>\n      <td>-0.061259</td>\n      <td>0.014661</td>\n      <td>0.011412</td>\n      <td>0.001727</td>\n      <td>0.064996</td>\n      <td>-0.078448</td>\n      <td>0.059510</td>\n      <td>0.017402</td>\n      <td>-0.040234</td>\n      <td>-0.073409</td>\n      <td>-0.016323</td>\n      <td>0.031774</td>\n      <td>-0.062413</td>\n      <td>0.107708</td>\n      <td>0.065081</td>\n    </tr>\n    <tr>\n      <th>17</th>\n      <td>3947</td>\n      <td>-0.022340</td>\n      <td>-0.115285</td>\n      <td>-0.136980</td>\n      <td>0.038593</td>\n      <td>-0.003029</td>\n      <td>0.071770</td>\n      <td>-0.146675</td>\n      <td>-0.285724</td>\n      <td>-0.044472</td>\n      <td>-0.054032</td>\n      <td>0.064019</td>\n      <td>-0.045329</td>\n      <td>-0.111919</td>\n      <td>0.066313</td>\n      <td>0.002395</td>\n    </tr>\n    <tr>\n      <th>18</th>\n      <td>4373</td>\n      <td>-0.136550</td>\n      <td>-0.089406</td>\n      <td>-0.235399</td>\n      <td>0.120585</td>\n      <td>-0.168168</td>\n      <td>0.129990</td>\n      <td>-0.035084</td>\n      <td>-0.324028</td>\n      <td>0.087531</td>\n      <td>0.045290</td>\n      <td>0.207850</td>\n      <td>-0.028972</td>\n      <td>-0.175184</td>\n      <td>-0.058283</td>\n      <td>0.147797</td>\n    </tr>\n    <tr>\n      <th>19</th>\n      <td>2092</td>\n      <td>-0.121763</td>\n      <td>0.011065</td>\n      <td>-0.037121</td>\n      <td>0.032568</td>\n      <td>0.017570</td>\n      <td>0.095802</td>\n      <td>0.120238</td>\n      <td>-0.048410</td>\n      <td>0.008829</td>\n      <td>0.121778</td>\n      <td>0.093783</td>\n      <td>0.044754</td>\n      <td>-0.003087</td>\n      <td>0.164487</td>\n      <td>-0.075231</td>\n    </tr>\n    <tr>\n      <th>20</th>\n      <td>525</td>\n      <td>-0.040290</td>\n      <td>0.014383</td>\n      <td>-0.098967</td>\n      <td>-0.018957</td>\n      <td>0.012388</td>\n      <td>0.035546</td>\n      <td>0.000903</td>\n      <td>0.012835</td>\n      <td>-0.021080</td>\n      <td>0.018742</td>\n      <td>-0.050483</td>\n      <td>-0.025394</td>\n      <td>0.034079</td>\n      <td>0.038330</td>\n      <td>-0.001341</td>\n    </tr>\n    <tr>\n      <th>21</th>\n      <td>4327</td>\n      <td>0.008227</td>\n      <td>0.073899</td>\n      <td>-0.323967</td>\n      <td>0.131203</td>\n      <td>-0.320862</td>\n      <td>0.054997</td>\n      <td>0.060751</td>\n      <td>0.162314</td>\n      <td>0.044612</td>\n      <td>-0.232241</td>\n      <td>0.094986</td>\n      <td>-0.106570</td>\n      <td>-0.051692</td>\n      <td>-0.093490</td>\n      <td>0.029534</td>\n    </tr>\n    <tr>\n      <th>22</th>\n      <td>3048</td>\n      <td>-0.320315</td>\n      <td>0.078290</td>\n      <td>-0.083182</td>\n      <td>-0.221577</td>\n      <td>-0.078184</td>\n      <td>-0.145306</td>\n      <td>-0.020166</td>\n      <td>0.124409</td>\n      <td>-0.063425</td>\n      <td>0.004726</td>\n      <td>0.009683</td>\n      <td>0.028016</td>\n      <td>-0.018100</td>\n      <td>-0.128452</td>\n      <td>0.069972</td>\n    </tr>\n    <tr>\n      <th>23</th>\n      <td>2665</td>\n      <td>-0.076167</td>\n      <td>-0.006064</td>\n      <td>-0.001902</td>\n      <td>-0.053641</td>\n      <td>0.021751</td>\n      <td>0.048207</td>\n      <td>-0.083980</td>\n      <td>0.146907</td>\n      <td>-0.057422</td>\n      <td>0.006085</td>\n      <td>0.063240</td>\n      <td>0.086562</td>\n      <td>-0.132328</td>\n      <td>0.146198</td>\n      <td>0.029200</td>\n    </tr>\n    <tr>\n      <th>24</th>\n      <td>4940</td>\n      <td>-0.113099</td>\n      <td>0.047643</td>\n      <td>-0.053024</td>\n      <td>0.024834</td>\n      <td>0.010643</td>\n      <td>-0.012051</td>\n      <td>-0.049150</td>\n      <td>0.006252</td>\n      <td>0.020429</td>\n      <td>0.004349</td>\n      <td>0.028372</td>\n      <td>0.010227</td>\n      <td>-0.008233</td>\n      <td>-0.029304</td>\n      <td>0.090511</td>\n    </tr>\n  </tbody>\n</table>\n</div>"
     },
     "execution_count": 131,
     "metadata": {},
     "output_type": "execute_result"
    }
   ],
   "source": [
    "movies_users: pd.DataFrame = pd.read_excel(\"movies_latent_factors.xlsx\",sheet_name=\"Users\")\n",
    "\n",
    "movies_users\n"
   ],
   "metadata": {
    "collapsed": false,
    "pycharm": {
     "name": "#%%\n"
    }
   }
  },
  {
   "cell_type": "code",
   "execution_count": 132,
   "outputs": [
    {
     "data": {
      "text/plain": "    Factor14\n97 -1.355542",
      "text/html": "<div>\n<style scoped>\n    .dataframe tbody tr th:only-of-type {\n        vertical-align: middle;\n    }\n\n    .dataframe tbody tr th {\n        vertical-align: top;\n    }\n\n    .dataframe thead th {\n        text-align: right;\n    }\n</style>\n<table border=\"1\" class=\"dataframe\">\n  <thead>\n    <tr style=\"text-align: right;\">\n      <th></th>\n      <th>Factor14</th>\n    </tr>\n  </thead>\n  <tbody>\n    <tr>\n      <th>97</th>\n      <td>-1.355542</td>\n    </tr>\n  </tbody>\n</table>\n</div>"
     },
     "execution_count": 132,
     "metadata": {},
     "output_type": "execute_result"
    }
   ],
   "source": [
    "#In the movies dataset, what's the loading (i.e., value) of\n",
    "# Factor14 for the movie with ID=24?\n",
    "\n",
    "movies_df.loc[movies_df['Movie ID'] == 36657, [\"Factor14\"]]"
   ],
   "metadata": {
    "collapsed": false,
    "pycharm": {
     "name": "#%%\n"
    }
   }
  },
  {
   "cell_type": "code",
   "execution_count": 133,
   "outputs": [
    {
     "data": {
      "text/plain": "    Movie ID                       Title   Factor1  Factor2   Factor3  \\\n51       604  The Matrix Reloaded (2003)  0.503414 -2.00445  0.001084   \n\n     Factor4   Factor5  Factor6   Factor7   Factor8   Factor9  Factor10  \\\n51 -2.255945  0.882547  -0.1886 -0.235434  0.570028 -3.492897 -0.312214   \n\n    Factor11  Factor12  Factor13  Factor14  Factor15  \n51  0.902742 -2.063318 -1.895101  0.748458  2.120907  ",
      "text/html": "<div>\n<style scoped>\n    .dataframe tbody tr th:only-of-type {\n        vertical-align: middle;\n    }\n\n    .dataframe tbody tr th {\n        vertical-align: top;\n    }\n\n    .dataframe thead th {\n        text-align: right;\n    }\n</style>\n<table border=\"1\" class=\"dataframe\">\n  <thead>\n    <tr style=\"text-align: right;\">\n      <th></th>\n      <th>Movie ID</th>\n      <th>Title</th>\n      <th>Factor1</th>\n      <th>Factor2</th>\n      <th>Factor3</th>\n      <th>Factor4</th>\n      <th>Factor5</th>\n      <th>Factor6</th>\n      <th>Factor7</th>\n      <th>Factor8</th>\n      <th>Factor9</th>\n      <th>Factor10</th>\n      <th>Factor11</th>\n      <th>Factor12</th>\n      <th>Factor13</th>\n      <th>Factor14</th>\n      <th>Factor15</th>\n    </tr>\n  </thead>\n  <tbody>\n    <tr>\n      <th>51</th>\n      <td>604</td>\n      <td>The Matrix Reloaded (2003)</td>\n      <td>0.503414</td>\n      <td>-2.00445</td>\n      <td>0.001084</td>\n      <td>-2.255945</td>\n      <td>0.882547</td>\n      <td>-0.1886</td>\n      <td>-0.235434</td>\n      <td>0.570028</td>\n      <td>-3.492897</td>\n      <td>-0.312214</td>\n      <td>0.902742</td>\n      <td>-2.063318</td>\n      <td>-1.895101</td>\n      <td>0.748458</td>\n      <td>2.120907</td>\n    </tr>\n  </tbody>\n</table>\n</div>"
     },
     "execution_count": 133,
     "metadata": {},
     "output_type": "execute_result"
    }
   ],
   "source": [
    "#In the movies dataset, which of the following titles\n",
    "# corresponds to the movie with the lowest loading of factor 12?\n",
    "\n",
    "movies_df.loc[movies_df['Factor15'] == np.max(movies_df['Factor15']), :]\n"
   ],
   "metadata": {
    "collapsed": false,
    "pycharm": {
     "name": "#%%\n"
    }
   }
  },
  {
   "cell_type": "code",
   "execution_count": 134,
   "outputs": [
    {
     "data": {
      "text/plain": "''"
     },
     "execution_count": 134,
     "metadata": {},
     "output_type": "execute_result"
    }
   ],
   "source": [
    "\n",
    "n_latent_factors = 15\n",
    "\n",
    "#user_ratings = movies_users.values\n",
    "# Initialise as random values\n",
    "latent_user_preferences: pd.DataFrame = movies_users.copy()\n",
    "latent_item_features: pd.DataFrame = movies_df.copy()\n",
    "\n",
    "latent_user_preferences.set_index(\"User\", inplace=True)\n",
    "latent_item_features.drop(\"Title\", axis=1,inplace=True)\n",
    "latent_item_features.set_index(\"Movie ID\", inplace=True)\n",
    "\"\"\n"
   ],
   "metadata": {
    "collapsed": false,
    "pycharm": {
     "name": "#%%\n"
    }
   }
  },
  {
   "cell_type": "code",
   "execution_count": 109,
   "outputs": [
    {
     "data": {
      "text/plain": "           Factor1   Factor2   Factor3   Factor4   Factor5   Factor6  \\\nMovie ID                                                               \n11       -1.521848 -1.038507  2.027269  0.247933 -0.594548  2.513260   \n12       -0.342185 -0.296586 -0.385962  2.443297 -1.097015 -0.619465   \n13       -2.240888 -0.438815 -2.275177  0.614548  0.904469  0.711919   \n14       -0.634531  2.186059 -0.066681  0.086197  0.517558 -0.185319   \n22        0.517348 -1.456763  0.369161  0.073903 -0.098332 -0.594722   \n...            ...       ...       ...       ...       ...       ...   \n9806      0.159967 -0.051123  0.311183  1.841867 -1.952736 -0.836041   \n10020     1.286288  0.004957 -0.157640  2.579640 -0.042687 -0.256582   \n36657     0.811901 -0.893280  0.668953 -0.885074 -1.070468 -0.973154   \n36658     1.161006 -0.715613  0.712633 -0.688808 -0.717785 -1.007047   \n36955     1.734008  0.265436 -0.003391 -0.491754 -0.322739  0.850165   \n\n           Factor7   Factor8   Factor9  Factor10  Factor11  Factor12  \\\nMovie ID                                                               \n11       -1.848910  0.476710 -0.224146 -0.760681 -0.973915  0.862379   \n12        0.572887  0.329516 -0.712228  0.323554 -0.561948 -0.142405   \n13       -0.420876  1.302036 -0.868418 -0.160122  0.633667  0.133138   \n14       -0.412352  0.063841  0.075937 -0.577682  0.526803 -1.465557   \n22        0.828888  0.033626 -0.707414  0.717877  1.394326 -0.786986   \n...            ...       ...       ...       ...       ...       ...   \n9806      0.639252 -0.413082 -0.310868  0.448225 -0.846044 -0.158192   \n10020    -0.007971  0.458163  0.091394  0.323339 -0.862833 -0.508185   \n36657    -0.037449 -0.925609 -0.122112 -0.328822 -0.163103 -0.307299   \n36658    -0.267268 -0.802322 -0.249239 -0.540419 -0.291422 -0.240216   \n36955    -0.150377 -0.075895  1.373386  0.934767  0.489299 -0.062678   \n\n          Factor13  Factor14  Factor15  \nMovie ID                                \n11        0.403861  1.129616 -0.248806  \n12       -0.564415  0.506876  1.274993  \n13       -0.330276 -2.209004 -0.419092  \n14       -0.819682  0.549010 -0.681191  \n22        1.429191  0.855746 -2.292566  \n...            ...       ...       ...  \n9806     -0.649164  0.045580  1.017861  \n10020     0.994535  0.868700 -0.487076  \n36657     0.642105 -1.355542  0.067790  \n36658     0.290714 -1.217250 -0.288130  \n36955     0.333703 -0.223382 -0.022599  \n\n[100 rows x 15 columns]",
      "text/html": "<div>\n<style scoped>\n    .dataframe tbody tr th:only-of-type {\n        vertical-align: middle;\n    }\n\n    .dataframe tbody tr th {\n        vertical-align: top;\n    }\n\n    .dataframe thead th {\n        text-align: right;\n    }\n</style>\n<table border=\"1\" class=\"dataframe\">\n  <thead>\n    <tr style=\"text-align: right;\">\n      <th></th>\n      <th>Factor1</th>\n      <th>Factor2</th>\n      <th>Factor3</th>\n      <th>Factor4</th>\n      <th>Factor5</th>\n      <th>Factor6</th>\n      <th>Factor7</th>\n      <th>Factor8</th>\n      <th>Factor9</th>\n      <th>Factor10</th>\n      <th>Factor11</th>\n      <th>Factor12</th>\n      <th>Factor13</th>\n      <th>Factor14</th>\n      <th>Factor15</th>\n    </tr>\n    <tr>\n      <th>Movie ID</th>\n      <th></th>\n      <th></th>\n      <th></th>\n      <th></th>\n      <th></th>\n      <th></th>\n      <th></th>\n      <th></th>\n      <th></th>\n      <th></th>\n      <th></th>\n      <th></th>\n      <th></th>\n      <th></th>\n      <th></th>\n    </tr>\n  </thead>\n  <tbody>\n    <tr>\n      <th>11</th>\n      <td>-1.521848</td>\n      <td>-1.038507</td>\n      <td>2.027269</td>\n      <td>0.247933</td>\n      <td>-0.594548</td>\n      <td>2.513260</td>\n      <td>-1.848910</td>\n      <td>0.476710</td>\n      <td>-0.224146</td>\n      <td>-0.760681</td>\n      <td>-0.973915</td>\n      <td>0.862379</td>\n      <td>0.403861</td>\n      <td>1.129616</td>\n      <td>-0.248806</td>\n    </tr>\n    <tr>\n      <th>12</th>\n      <td>-0.342185</td>\n      <td>-0.296586</td>\n      <td>-0.385962</td>\n      <td>2.443297</td>\n      <td>-1.097015</td>\n      <td>-0.619465</td>\n      <td>0.572887</td>\n      <td>0.329516</td>\n      <td>-0.712228</td>\n      <td>0.323554</td>\n      <td>-0.561948</td>\n      <td>-0.142405</td>\n      <td>-0.564415</td>\n      <td>0.506876</td>\n      <td>1.274993</td>\n    </tr>\n    <tr>\n      <th>13</th>\n      <td>-2.240888</td>\n      <td>-0.438815</td>\n      <td>-2.275177</td>\n      <td>0.614548</td>\n      <td>0.904469</td>\n      <td>0.711919</td>\n      <td>-0.420876</td>\n      <td>1.302036</td>\n      <td>-0.868418</td>\n      <td>-0.160122</td>\n      <td>0.633667</td>\n      <td>0.133138</td>\n      <td>-0.330276</td>\n      <td>-2.209004</td>\n      <td>-0.419092</td>\n    </tr>\n    <tr>\n      <th>14</th>\n      <td>-0.634531</td>\n      <td>2.186059</td>\n      <td>-0.066681</td>\n      <td>0.086197</td>\n      <td>0.517558</td>\n      <td>-0.185319</td>\n      <td>-0.412352</td>\n      <td>0.063841</td>\n      <td>0.075937</td>\n      <td>-0.577682</td>\n      <td>0.526803</td>\n      <td>-1.465557</td>\n      <td>-0.819682</td>\n      <td>0.549010</td>\n      <td>-0.681191</td>\n    </tr>\n    <tr>\n      <th>22</th>\n      <td>0.517348</td>\n      <td>-1.456763</td>\n      <td>0.369161</td>\n      <td>0.073903</td>\n      <td>-0.098332</td>\n      <td>-0.594722</td>\n      <td>0.828888</td>\n      <td>0.033626</td>\n      <td>-0.707414</td>\n      <td>0.717877</td>\n      <td>1.394326</td>\n      <td>-0.786986</td>\n      <td>1.429191</td>\n      <td>0.855746</td>\n      <td>-2.292566</td>\n    </tr>\n    <tr>\n      <th>...</th>\n      <td>...</td>\n      <td>...</td>\n      <td>...</td>\n      <td>...</td>\n      <td>...</td>\n      <td>...</td>\n      <td>...</td>\n      <td>...</td>\n      <td>...</td>\n      <td>...</td>\n      <td>...</td>\n      <td>...</td>\n      <td>...</td>\n      <td>...</td>\n      <td>...</td>\n    </tr>\n    <tr>\n      <th>9806</th>\n      <td>0.159967</td>\n      <td>-0.051123</td>\n      <td>0.311183</td>\n      <td>1.841867</td>\n      <td>-1.952736</td>\n      <td>-0.836041</td>\n      <td>0.639252</td>\n      <td>-0.413082</td>\n      <td>-0.310868</td>\n      <td>0.448225</td>\n      <td>-0.846044</td>\n      <td>-0.158192</td>\n      <td>-0.649164</td>\n      <td>0.045580</td>\n      <td>1.017861</td>\n    </tr>\n    <tr>\n      <th>10020</th>\n      <td>1.286288</td>\n      <td>0.004957</td>\n      <td>-0.157640</td>\n      <td>2.579640</td>\n      <td>-0.042687</td>\n      <td>-0.256582</td>\n      <td>-0.007971</td>\n      <td>0.458163</td>\n      <td>0.091394</td>\n      <td>0.323339</td>\n      <td>-0.862833</td>\n      <td>-0.508185</td>\n      <td>0.994535</td>\n      <td>0.868700</td>\n      <td>-0.487076</td>\n    </tr>\n    <tr>\n      <th>36657</th>\n      <td>0.811901</td>\n      <td>-0.893280</td>\n      <td>0.668953</td>\n      <td>-0.885074</td>\n      <td>-1.070468</td>\n      <td>-0.973154</td>\n      <td>-0.037449</td>\n      <td>-0.925609</td>\n      <td>-0.122112</td>\n      <td>-0.328822</td>\n      <td>-0.163103</td>\n      <td>-0.307299</td>\n      <td>0.642105</td>\n      <td>-1.355542</td>\n      <td>0.067790</td>\n    </tr>\n    <tr>\n      <th>36658</th>\n      <td>1.161006</td>\n      <td>-0.715613</td>\n      <td>0.712633</td>\n      <td>-0.688808</td>\n      <td>-0.717785</td>\n      <td>-1.007047</td>\n      <td>-0.267268</td>\n      <td>-0.802322</td>\n      <td>-0.249239</td>\n      <td>-0.540419</td>\n      <td>-0.291422</td>\n      <td>-0.240216</td>\n      <td>0.290714</td>\n      <td>-1.217250</td>\n      <td>-0.288130</td>\n    </tr>\n    <tr>\n      <th>36955</th>\n      <td>1.734008</td>\n      <td>0.265436</td>\n      <td>-0.003391</td>\n      <td>-0.491754</td>\n      <td>-0.322739</td>\n      <td>0.850165</td>\n      <td>-0.150377</td>\n      <td>-0.075895</td>\n      <td>1.373386</td>\n      <td>0.934767</td>\n      <td>0.489299</td>\n      <td>-0.062678</td>\n      <td>0.333703</td>\n      <td>-0.223382</td>\n      <td>-0.022599</td>\n    </tr>\n  </tbody>\n</table>\n<p>100 rows × 15 columns</p>\n</div>"
     },
     "execution_count": 109,
     "metadata": {},
     "output_type": "execute_result"
    }
   ],
   "source": [
    "latent_item_features"
   ],
   "metadata": {
    "collapsed": false,
    "pycharm": {
     "name": "#%%\n"
    }
   }
  },
  {
   "cell_type": "code",
   "execution_count": 110,
   "outputs": [
    {
     "data": {
      "text/plain": "       Factor1   Factor2   Factor3   Factor4   Factor5   Factor6   Factor7  \\\nUser                                                                         \n4768 -0.204024  0.161079 -0.090447  0.138495 -0.162934  0.163894  0.051502   \n156  -0.189652 -0.178979 -0.091490 -0.000823 -0.032646  0.177209 -0.098123   \n5323 -0.115308 -0.090886 -0.053129  0.018472 -0.068081 -0.004828  0.113005   \n174  -0.227462 -0.272532 -0.017231  0.054324  0.214755 -0.072639 -0.033122   \n4529 -0.014616 -0.102218 -0.107935  0.155784 -0.123362 -0.118228 -0.013549   \n783  -0.020301 -0.031919 -0.036955  0.033690  0.000174 -0.003178  0.054474   \n3878 -0.091462  0.215879 -0.180453  0.085408 -0.321094  0.227947  0.053767   \n768   0.000819 -0.009229 -0.019228  0.002703  0.012869  0.006655  0.007687   \n4469 -0.030528 -0.011537 -0.042822 -0.014378  0.031338  0.012297 -0.000038   \n1882 -0.083093 -0.029160  0.013748  0.022716 -0.062732 -0.080670 -0.019723   \n4997 -0.185443 -0.276496 -0.781275 -0.240506  0.029611 -0.271814 -0.056266   \n2067 -0.083242  0.181171 -0.344267 -0.019713 -0.243199  0.039220 -0.092086   \n3806 -0.042344 -0.040755 -0.055720 -0.073726  0.018203  0.091940  0.123959   \n2848 -0.113283 -0.098942 -0.040393  0.042180 -0.041068 -0.039568  0.018291   \n4433 -0.298760 -0.290228 -0.160120  0.156277 -0.055364 -0.434205 -0.089259   \n3519 -0.068454  0.020090  0.039336  0.002958 -0.018140  0.006501 -0.108526   \n5338 -0.061259  0.014661  0.011412  0.001727  0.064996 -0.078448  0.059510   \n3947 -0.022340 -0.115285 -0.136980  0.038593 -0.003029  0.071770 -0.146675   \n4373 -0.136550 -0.089406 -0.235399  0.120585 -0.168168  0.129990 -0.035084   \n2092 -0.121763  0.011065 -0.037121  0.032568  0.017570  0.095802  0.120238   \n525  -0.040290  0.014383 -0.098967 -0.018957  0.012388  0.035546  0.000903   \n4327  0.008227  0.073899 -0.323967  0.131203 -0.320862  0.054997  0.060751   \n3048 -0.320315  0.078290 -0.083182 -0.221577 -0.078184 -0.145306 -0.020166   \n2665 -0.076167 -0.006064 -0.001902 -0.053641  0.021751  0.048207 -0.083980   \n4940 -0.113099  0.047643 -0.053024  0.024834  0.010643 -0.012051 -0.049150   \n\n       Factor8   Factor9  Factor10  Factor11  Factor12  Factor13  Factor14  \\\nUser                                                                         \n4768 -0.088582  0.126829  0.065967  0.085008  0.355404  0.007108 -0.118663   \n156  -0.068283 -0.011575  0.120866 -0.009931 -0.048606  0.045916  0.113671   \n5323  0.102107  0.034758  0.000693 -0.073712 -0.019460  0.108372  0.054471   \n174  -0.086508 -0.131479  0.180403  0.095890 -0.082396  0.036767 -0.165438   \n4529 -0.050622  0.058698 -0.159600 -0.142382 -0.132836 -0.039897  0.129063   \n783   0.045424 -0.053308  0.003437 -0.041750  0.059725 -0.021647  0.039873   \n3878  0.038017  0.097141 -0.139872  0.029253  0.214467  0.189250  0.065990   \n768   0.018747  0.014705 -0.009256 -0.010116 -0.010051 -0.002108  0.043223   \n4469 -0.010264 -0.006781 -0.019950 -0.014435  0.010926  0.024400  0.005318   \n1882  0.013253 -0.091305 -0.090687  0.030638 -0.113364 -0.021325  0.181508   \n4997 -0.111825 -0.290910 -0.255087 -0.098079  0.103116 -0.100563  0.100164   \n2067  0.114808 -0.036472  0.042386 -0.186812 -0.127038  0.176661 -0.055812   \n3806 -0.157403 -0.020388  0.082493  0.223057 -0.040915 -0.130308 -0.021816   \n2848 -0.191254  0.218912  0.017262 -0.087468  0.036894  0.067105 -0.016780   \n4433  0.252211 -0.107413 -0.088591  0.121157  0.071371 -0.415598 -0.022139   \n3519  0.025045  0.056334 -0.031291 -0.035533  0.005171  0.005546  0.020780   \n5338  0.017402 -0.040234 -0.073409 -0.016323  0.031774 -0.062413  0.107708   \n3947 -0.285724 -0.044472 -0.054032  0.064019 -0.045329 -0.111919  0.066313   \n4373 -0.324028  0.087531  0.045290  0.207850 -0.028972 -0.175184 -0.058283   \n2092 -0.048410  0.008829  0.121778  0.093783  0.044754 -0.003087  0.164487   \n525   0.012835 -0.021080  0.018742 -0.050483 -0.025394  0.034079  0.038330   \n4327  0.162314  0.044612 -0.232241  0.094986 -0.106570 -0.051692 -0.093490   \n3048  0.124409 -0.063425  0.004726  0.009683  0.028016 -0.018100 -0.128452   \n2665  0.146907 -0.057422  0.006085  0.063240  0.086562 -0.132328  0.146198   \n4940  0.006252  0.020429  0.004349  0.028372  0.010227 -0.008233 -0.029304   \n\n      Factor15  \nUser            \n4768 -0.039125  \n156   0.179873  \n5323 -0.109552  \n174   0.050692  \n4529  0.102669  \n783  -0.061857  \n3878  0.102776  \n768  -0.006670  \n4469 -0.007983  \n1882  0.022357  \n4997  0.043196  \n2067 -0.000042  \n3806  0.034549  \n2848 -0.029503  \n4433 -0.183021  \n3519 -0.023623  \n5338  0.065081  \n3947  0.002395  \n4373  0.147797  \n2092 -0.075231  \n525  -0.001341  \n4327  0.029534  \n3048  0.069972  \n2665  0.029200  \n4940  0.090511  ",
      "text/html": "<div>\n<style scoped>\n    .dataframe tbody tr th:only-of-type {\n        vertical-align: middle;\n    }\n\n    .dataframe tbody tr th {\n        vertical-align: top;\n    }\n\n    .dataframe thead th {\n        text-align: right;\n    }\n</style>\n<table border=\"1\" class=\"dataframe\">\n  <thead>\n    <tr style=\"text-align: right;\">\n      <th></th>\n      <th>Factor1</th>\n      <th>Factor2</th>\n      <th>Factor3</th>\n      <th>Factor4</th>\n      <th>Factor5</th>\n      <th>Factor6</th>\n      <th>Factor7</th>\n      <th>Factor8</th>\n      <th>Factor9</th>\n      <th>Factor10</th>\n      <th>Factor11</th>\n      <th>Factor12</th>\n      <th>Factor13</th>\n      <th>Factor14</th>\n      <th>Factor15</th>\n    </tr>\n    <tr>\n      <th>User</th>\n      <th></th>\n      <th></th>\n      <th></th>\n      <th></th>\n      <th></th>\n      <th></th>\n      <th></th>\n      <th></th>\n      <th></th>\n      <th></th>\n      <th></th>\n      <th></th>\n      <th></th>\n      <th></th>\n      <th></th>\n    </tr>\n  </thead>\n  <tbody>\n    <tr>\n      <th>4768</th>\n      <td>-0.204024</td>\n      <td>0.161079</td>\n      <td>-0.090447</td>\n      <td>0.138495</td>\n      <td>-0.162934</td>\n      <td>0.163894</td>\n      <td>0.051502</td>\n      <td>-0.088582</td>\n      <td>0.126829</td>\n      <td>0.065967</td>\n      <td>0.085008</td>\n      <td>0.355404</td>\n      <td>0.007108</td>\n      <td>-0.118663</td>\n      <td>-0.039125</td>\n    </tr>\n    <tr>\n      <th>156</th>\n      <td>-0.189652</td>\n      <td>-0.178979</td>\n      <td>-0.091490</td>\n      <td>-0.000823</td>\n      <td>-0.032646</td>\n      <td>0.177209</td>\n      <td>-0.098123</td>\n      <td>-0.068283</td>\n      <td>-0.011575</td>\n      <td>0.120866</td>\n      <td>-0.009931</td>\n      <td>-0.048606</td>\n      <td>0.045916</td>\n      <td>0.113671</td>\n      <td>0.179873</td>\n    </tr>\n    <tr>\n      <th>5323</th>\n      <td>-0.115308</td>\n      <td>-0.090886</td>\n      <td>-0.053129</td>\n      <td>0.018472</td>\n      <td>-0.068081</td>\n      <td>-0.004828</td>\n      <td>0.113005</td>\n      <td>0.102107</td>\n      <td>0.034758</td>\n      <td>0.000693</td>\n      <td>-0.073712</td>\n      <td>-0.019460</td>\n      <td>0.108372</td>\n      <td>0.054471</td>\n      <td>-0.109552</td>\n    </tr>\n    <tr>\n      <th>174</th>\n      <td>-0.227462</td>\n      <td>-0.272532</td>\n      <td>-0.017231</td>\n      <td>0.054324</td>\n      <td>0.214755</td>\n      <td>-0.072639</td>\n      <td>-0.033122</td>\n      <td>-0.086508</td>\n      <td>-0.131479</td>\n      <td>0.180403</td>\n      <td>0.095890</td>\n      <td>-0.082396</td>\n      <td>0.036767</td>\n      <td>-0.165438</td>\n      <td>0.050692</td>\n    </tr>\n    <tr>\n      <th>4529</th>\n      <td>-0.014616</td>\n      <td>-0.102218</td>\n      <td>-0.107935</td>\n      <td>0.155784</td>\n      <td>-0.123362</td>\n      <td>-0.118228</td>\n      <td>-0.013549</td>\n      <td>-0.050622</td>\n      <td>0.058698</td>\n      <td>-0.159600</td>\n      <td>-0.142382</td>\n      <td>-0.132836</td>\n      <td>-0.039897</td>\n      <td>0.129063</td>\n      <td>0.102669</td>\n    </tr>\n    <tr>\n      <th>783</th>\n      <td>-0.020301</td>\n      <td>-0.031919</td>\n      <td>-0.036955</td>\n      <td>0.033690</td>\n      <td>0.000174</td>\n      <td>-0.003178</td>\n      <td>0.054474</td>\n      <td>0.045424</td>\n      <td>-0.053308</td>\n      <td>0.003437</td>\n      <td>-0.041750</td>\n      <td>0.059725</td>\n      <td>-0.021647</td>\n      <td>0.039873</td>\n      <td>-0.061857</td>\n    </tr>\n    <tr>\n      <th>3878</th>\n      <td>-0.091462</td>\n      <td>0.215879</td>\n      <td>-0.180453</td>\n      <td>0.085408</td>\n      <td>-0.321094</td>\n      <td>0.227947</td>\n      <td>0.053767</td>\n      <td>0.038017</td>\n      <td>0.097141</td>\n      <td>-0.139872</td>\n      <td>0.029253</td>\n      <td>0.214467</td>\n      <td>0.189250</td>\n      <td>0.065990</td>\n      <td>0.102776</td>\n    </tr>\n    <tr>\n      <th>768</th>\n      <td>0.000819</td>\n      <td>-0.009229</td>\n      <td>-0.019228</td>\n      <td>0.002703</td>\n      <td>0.012869</td>\n      <td>0.006655</td>\n      <td>0.007687</td>\n      <td>0.018747</td>\n      <td>0.014705</td>\n      <td>-0.009256</td>\n      <td>-0.010116</td>\n      <td>-0.010051</td>\n      <td>-0.002108</td>\n      <td>0.043223</td>\n      <td>-0.006670</td>\n    </tr>\n    <tr>\n      <th>4469</th>\n      <td>-0.030528</td>\n      <td>-0.011537</td>\n      <td>-0.042822</td>\n      <td>-0.014378</td>\n      <td>0.031338</td>\n      <td>0.012297</td>\n      <td>-0.000038</td>\n      <td>-0.010264</td>\n      <td>-0.006781</td>\n      <td>-0.019950</td>\n      <td>-0.014435</td>\n      <td>0.010926</td>\n      <td>0.024400</td>\n      <td>0.005318</td>\n      <td>-0.007983</td>\n    </tr>\n    <tr>\n      <th>1882</th>\n      <td>-0.083093</td>\n      <td>-0.029160</td>\n      <td>0.013748</td>\n      <td>0.022716</td>\n      <td>-0.062732</td>\n      <td>-0.080670</td>\n      <td>-0.019723</td>\n      <td>0.013253</td>\n      <td>-0.091305</td>\n      <td>-0.090687</td>\n      <td>0.030638</td>\n      <td>-0.113364</td>\n      <td>-0.021325</td>\n      <td>0.181508</td>\n      <td>0.022357</td>\n    </tr>\n    <tr>\n      <th>4997</th>\n      <td>-0.185443</td>\n      <td>-0.276496</td>\n      <td>-0.781275</td>\n      <td>-0.240506</td>\n      <td>0.029611</td>\n      <td>-0.271814</td>\n      <td>-0.056266</td>\n      <td>-0.111825</td>\n      <td>-0.290910</td>\n      <td>-0.255087</td>\n      <td>-0.098079</td>\n      <td>0.103116</td>\n      <td>-0.100563</td>\n      <td>0.100164</td>\n      <td>0.043196</td>\n    </tr>\n    <tr>\n      <th>2067</th>\n      <td>-0.083242</td>\n      <td>0.181171</td>\n      <td>-0.344267</td>\n      <td>-0.019713</td>\n      <td>-0.243199</td>\n      <td>0.039220</td>\n      <td>-0.092086</td>\n      <td>0.114808</td>\n      <td>-0.036472</td>\n      <td>0.042386</td>\n      <td>-0.186812</td>\n      <td>-0.127038</td>\n      <td>0.176661</td>\n      <td>-0.055812</td>\n      <td>-0.000042</td>\n    </tr>\n    <tr>\n      <th>3806</th>\n      <td>-0.042344</td>\n      <td>-0.040755</td>\n      <td>-0.055720</td>\n      <td>-0.073726</td>\n      <td>0.018203</td>\n      <td>0.091940</td>\n      <td>0.123959</td>\n      <td>-0.157403</td>\n      <td>-0.020388</td>\n      <td>0.082493</td>\n      <td>0.223057</td>\n      <td>-0.040915</td>\n      <td>-0.130308</td>\n      <td>-0.021816</td>\n      <td>0.034549</td>\n    </tr>\n    <tr>\n      <th>2848</th>\n      <td>-0.113283</td>\n      <td>-0.098942</td>\n      <td>-0.040393</td>\n      <td>0.042180</td>\n      <td>-0.041068</td>\n      <td>-0.039568</td>\n      <td>0.018291</td>\n      <td>-0.191254</td>\n      <td>0.218912</td>\n      <td>0.017262</td>\n      <td>-0.087468</td>\n      <td>0.036894</td>\n      <td>0.067105</td>\n      <td>-0.016780</td>\n      <td>-0.029503</td>\n    </tr>\n    <tr>\n      <th>4433</th>\n      <td>-0.298760</td>\n      <td>-0.290228</td>\n      <td>-0.160120</td>\n      <td>0.156277</td>\n      <td>-0.055364</td>\n      <td>-0.434205</td>\n      <td>-0.089259</td>\n      <td>0.252211</td>\n      <td>-0.107413</td>\n      <td>-0.088591</td>\n      <td>0.121157</td>\n      <td>0.071371</td>\n      <td>-0.415598</td>\n      <td>-0.022139</td>\n      <td>-0.183021</td>\n    </tr>\n    <tr>\n      <th>3519</th>\n      <td>-0.068454</td>\n      <td>0.020090</td>\n      <td>0.039336</td>\n      <td>0.002958</td>\n      <td>-0.018140</td>\n      <td>0.006501</td>\n      <td>-0.108526</td>\n      <td>0.025045</td>\n      <td>0.056334</td>\n      <td>-0.031291</td>\n      <td>-0.035533</td>\n      <td>0.005171</td>\n      <td>0.005546</td>\n      <td>0.020780</td>\n      <td>-0.023623</td>\n    </tr>\n    <tr>\n      <th>5338</th>\n      <td>-0.061259</td>\n      <td>0.014661</td>\n      <td>0.011412</td>\n      <td>0.001727</td>\n      <td>0.064996</td>\n      <td>-0.078448</td>\n      <td>0.059510</td>\n      <td>0.017402</td>\n      <td>-0.040234</td>\n      <td>-0.073409</td>\n      <td>-0.016323</td>\n      <td>0.031774</td>\n      <td>-0.062413</td>\n      <td>0.107708</td>\n      <td>0.065081</td>\n    </tr>\n    <tr>\n      <th>3947</th>\n      <td>-0.022340</td>\n      <td>-0.115285</td>\n      <td>-0.136980</td>\n      <td>0.038593</td>\n      <td>-0.003029</td>\n      <td>0.071770</td>\n      <td>-0.146675</td>\n      <td>-0.285724</td>\n      <td>-0.044472</td>\n      <td>-0.054032</td>\n      <td>0.064019</td>\n      <td>-0.045329</td>\n      <td>-0.111919</td>\n      <td>0.066313</td>\n      <td>0.002395</td>\n    </tr>\n    <tr>\n      <th>4373</th>\n      <td>-0.136550</td>\n      <td>-0.089406</td>\n      <td>-0.235399</td>\n      <td>0.120585</td>\n      <td>-0.168168</td>\n      <td>0.129990</td>\n      <td>-0.035084</td>\n      <td>-0.324028</td>\n      <td>0.087531</td>\n      <td>0.045290</td>\n      <td>0.207850</td>\n      <td>-0.028972</td>\n      <td>-0.175184</td>\n      <td>-0.058283</td>\n      <td>0.147797</td>\n    </tr>\n    <tr>\n      <th>2092</th>\n      <td>-0.121763</td>\n      <td>0.011065</td>\n      <td>-0.037121</td>\n      <td>0.032568</td>\n      <td>0.017570</td>\n      <td>0.095802</td>\n      <td>0.120238</td>\n      <td>-0.048410</td>\n      <td>0.008829</td>\n      <td>0.121778</td>\n      <td>0.093783</td>\n      <td>0.044754</td>\n      <td>-0.003087</td>\n      <td>0.164487</td>\n      <td>-0.075231</td>\n    </tr>\n    <tr>\n      <th>525</th>\n      <td>-0.040290</td>\n      <td>0.014383</td>\n      <td>-0.098967</td>\n      <td>-0.018957</td>\n      <td>0.012388</td>\n      <td>0.035546</td>\n      <td>0.000903</td>\n      <td>0.012835</td>\n      <td>-0.021080</td>\n      <td>0.018742</td>\n      <td>-0.050483</td>\n      <td>-0.025394</td>\n      <td>0.034079</td>\n      <td>0.038330</td>\n      <td>-0.001341</td>\n    </tr>\n    <tr>\n      <th>4327</th>\n      <td>0.008227</td>\n      <td>0.073899</td>\n      <td>-0.323967</td>\n      <td>0.131203</td>\n      <td>-0.320862</td>\n      <td>0.054997</td>\n      <td>0.060751</td>\n      <td>0.162314</td>\n      <td>0.044612</td>\n      <td>-0.232241</td>\n      <td>0.094986</td>\n      <td>-0.106570</td>\n      <td>-0.051692</td>\n      <td>-0.093490</td>\n      <td>0.029534</td>\n    </tr>\n    <tr>\n      <th>3048</th>\n      <td>-0.320315</td>\n      <td>0.078290</td>\n      <td>-0.083182</td>\n      <td>-0.221577</td>\n      <td>-0.078184</td>\n      <td>-0.145306</td>\n      <td>-0.020166</td>\n      <td>0.124409</td>\n      <td>-0.063425</td>\n      <td>0.004726</td>\n      <td>0.009683</td>\n      <td>0.028016</td>\n      <td>-0.018100</td>\n      <td>-0.128452</td>\n      <td>0.069972</td>\n    </tr>\n    <tr>\n      <th>2665</th>\n      <td>-0.076167</td>\n      <td>-0.006064</td>\n      <td>-0.001902</td>\n      <td>-0.053641</td>\n      <td>0.021751</td>\n      <td>0.048207</td>\n      <td>-0.083980</td>\n      <td>0.146907</td>\n      <td>-0.057422</td>\n      <td>0.006085</td>\n      <td>0.063240</td>\n      <td>0.086562</td>\n      <td>-0.132328</td>\n      <td>0.146198</td>\n      <td>0.029200</td>\n    </tr>\n    <tr>\n      <th>4940</th>\n      <td>-0.113099</td>\n      <td>0.047643</td>\n      <td>-0.053024</td>\n      <td>0.024834</td>\n      <td>0.010643</td>\n      <td>-0.012051</td>\n      <td>-0.049150</td>\n      <td>0.006252</td>\n      <td>0.020429</td>\n      <td>0.004349</td>\n      <td>0.028372</td>\n      <td>0.010227</td>\n      <td>-0.008233</td>\n      <td>-0.029304</td>\n      <td>0.090511</td>\n    </tr>\n  </tbody>\n</table>\n</div>"
     },
     "execution_count": 110,
     "metadata": {},
     "output_type": "execute_result"
    }
   ],
   "source": [
    "latent_user_preferences\n"
   ],
   "metadata": {
    "collapsed": false,
    "pycharm": {
     "name": "#%%\n"
    }
   }
  },
  {
   "cell_type": "code",
   "execution_count": 111,
   "outputs": [
    {
     "data": {
      "text/plain": "Factor1    -0.042344\nFactor2    -0.040755\nFactor3    -0.055720\nFactor4    -0.073726\nFactor5     0.018203\nFactor6     0.091940\nFactor7     0.123959\nFactor8    -0.157403\nFactor9    -0.020388\nFactor10    0.082493\nFactor11    0.223057\nFactor12   -0.040915\nFactor13   -0.130308\nFactor14   -0.021816\nFactor15    0.034549\nName: 3806, dtype: float64"
     },
     "execution_count": 111,
     "metadata": {},
     "output_type": "execute_result"
    }
   ],
   "source": [
    "\n",
    "latent_item_features.loc[11]\n",
    "\n",
    "latent_user_preferences.loc[3806]"
   ],
   "metadata": {
    "collapsed": false,
    "pycharm": {
     "name": "#%%\n"
    }
   }
  },
  {
   "cell_type": "code",
   "execution_count": 112,
   "outputs": [
    {
     "data": {
      "text/plain": "0.05047471837729875"
     },
     "execution_count": 112,
     "metadata": {},
     "output_type": "execute_result"
    }
   ],
   "source": [
    "def predict_rating_m(user_id, item_id, luserpref, litemfeat):\n",
    "    \"\"\" Predict a rating given a user_id and an item_id.\n",
    "    \"\"\"\n",
    "    user_preference = luserpref.loc[user_id]\n",
    "    item_preference = litemfeat.loc[item_id]\n",
    "    return user_preference.dot(item_preference)\n",
    "\n",
    "\n",
    "predict_rating_m(4768,786, latent_user_preferences,latent_item_features)\n"
   ],
   "metadata": {
    "collapsed": false,
    "pycharm": {
     "name": "#%%\n"
    }
   }
  },
  {
   "cell_type": "code",
   "execution_count": 113,
   "outputs": [
    {
     "data": {
      "text/plain": "-0.19091796077641793"
     },
     "execution_count": 113,
     "metadata": {},
     "output_type": "execute_result"
    }
   ],
   "source": [
    "predict_rating_m(4768,14, latent_user_preferences,latent_item_features)"
   ],
   "metadata": {
    "collapsed": false,
    "pycharm": {
     "name": "#%%\n"
    }
   }
  },
  {
   "cell_type": "code",
   "execution_count": 114,
   "outputs": [],
   "source": [
    "def get_ratings(\n",
    "        user_id,\n",
    "        luserpref,\n",
    "        litemfeat,\n",
    "        show_top: Optional[int] = None,\n",
    "        descending: bool = True\n",
    "):\n",
    "    \"\"\"\n",
    "    Attempts to work out what ratings a user would give a movie\n",
    "    :param user_id: the user\n",
    "    :param show_top: give this value to only show the top [whatever] movies\n",
    "    :param descending: sort in descending order (top rated first)\n",
    "    \"\"\"\n",
    "\n",
    "    predict_ratings = dict(\n",
    "        (i, predict_rating_m(user_id, i, luserpref,litemfeat))\n",
    "        for i in litemfeat.T.columns.values\n",
    "    )\n",
    "\n",
    "    sorted_ratings = sorted(\n",
    "        [*predict_ratings.items()],\n",
    "        key=lambda kv: kv[1],\n",
    "        reverse=descending\n",
    "    )\n",
    "\n",
    "    if show_top is None:\n",
    "        show_top = len(sorted_ratings)\n",
    "\n",
    "    for kv in sorted_ratings[:show_top]:\n",
    "        print(f\"{kv[0]}: {movies_df.loc[movies_df['Movie ID'] == kv[0], ['Title'][0]].values}\")\n",
    "        print(f\"\\t{kv[1]}\")\n",
    "\n",
    "    return sorted_ratings\n",
    "\n",
    "    #for i in latent_item_features.T.columns.values:\n",
    "    #    print(f\"{i}: {movies_df.loc[movies_df['Movie ID'] == i, ['Title']]}\")\n",
    "    #    print(f\"\\t{predict_rating(user_id, i)}\")"
   ],
   "metadata": {
    "collapsed": false,
    "pycharm": {
     "name": "#%%\n"
    }
   }
  },
  {
   "cell_type": "code",
   "execution_count": 115,
   "outputs": [
    {
     "name": "stdout",
     "output_type": "stream",
     "text": [
      "597: ['Titanic (1997)']\n",
      "\t1.6259524690253648\n",
      "12: ['Finding Nemo (2003)']\n",
      "\t0.8660518849057813\n",
      "155: ['The Dark Knight (2008)']\n",
      "\t0.8174992821795523\n",
      "9806: ['The Incredibles (2004)']\n",
      "\t0.7961956667948642\n",
      "558: ['Spider-Man 2 (2004)']\n",
      "\t0.7751809348871596\n"
     ]
    },
    {
     "data": {
      "text/plain": "''"
     },
     "execution_count": 115,
     "metadata": {},
     "output_type": "execute_result"
    }
   ],
   "source": [
    "get_ratings(4529, latent_user_preferences,latent_item_features, show_top=5)\n",
    "\n",
    "\n",
    "\"\""
   ],
   "metadata": {
    "collapsed": false,
    "pycharm": {
     "name": "#%%\n"
    }
   }
  },
  {
   "cell_type": "code",
   "execution_count": 116,
   "outputs": [
    {
     "name": "stdout",
     "output_type": "stream",
     "text": [
      "597: ['Titanic (1997)']\n",
      "\t1.6259524690253648\n",
      "12: ['Finding Nemo (2003)']\n",
      "\t0.8660518849057813\n",
      "155: ['The Dark Knight (2008)']\n",
      "\t0.8174992821795523\n",
      "9806: ['The Incredibles (2004)']\n",
      "\t0.7961956667948642\n",
      "558: ['Spider-Man 2 (2004)']\n",
      "\t0.7751809348871596\n",
      "['Titanic (1997)']\n",
      "['Finding Nemo (2003)']\n",
      "['The Dark Knight (2008)']\n",
      "['Independence Day (a.k.a. ID4) (1996)']\n",
      "['The Bourne Supremacy (2004)']\n",
      "['Amelie (2001)']\n",
      "['Traffic (2000)']\n"
     ]
    }
   ],
   "source": [
    "titles_5429 = [\n",
    "    k for k, v in get_ratings(4529, latent_user_preferences,latent_item_features, show_top=5)\n",
    "    if movies_df.loc[movies_df['Movie ID'] == k, ['Title'][0]].values[0] in [\n",
    "        \"Finding Nemo (2003)\",\n",
    "        \"Titanic (1997)\",\n",
    "        \"Traffic (2000)\",\n",
    "        \"The Bourne Supremacy (2004)\",\n",
    "        \"Independence Day (a.k.a. ID4) (1996)\",\n",
    "        \"Amelie (2001)\",\n",
    "        \"The Dark Knight (2008)\"\n",
    "    ]\n",
    "]\n",
    "\n",
    "\n",
    "for t in titles_5429:\n",
    "    print(movies_df.loc[movies_df['Movie ID'] == t, ['Title'][0]].values)"
   ],
   "metadata": {
    "collapsed": false,
    "pycharm": {
     "name": "#%%\n"
    }
   }
  },
  {
   "cell_type": "code",
   "execution_count": 117,
   "outputs": [
    {
     "name": "stdout",
     "output_type": "stream",
     "text": [
      "603: ['The Matrix (1999)']\n",
      "\t1.0522554619985223\n",
      "1891: ['Star Wars: Episode V - The Empire Strikes Back (1980)']\n",
      "\t0.9102336968038716\n",
      "1892: ['Star Wars: Episode VI - Return of the Jedi (1983)']\n",
      "\t0.8852081243380692\n",
      "11: ['Star Wars: Episode IV - A New Hope (1977)']\n",
      "\t0.883068806559731\n",
      "155: ['The Dark Knight (2008)']\n",
      "\t0.7024832413512347\n",
      "[603, 1891, 63]\n"
     ]
    }
   ],
   "source": [
    "ids_3806 = [\n",
    "    k for k, v in get_ratings(156, latent_user_preferences,latent_item_features, show_top=5)\n",
    "    if k in [\n",
    "        68,\n",
    "        63,\n",
    "        1891,\n",
    "        603,\n",
    "        99,\n",
    "        43\n",
    "    ]\n",
    "]\n",
    "\n",
    "\n",
    "print(ids_3806)\n"
   ],
   "metadata": {
    "collapsed": false,
    "pycharm": {
     "name": "#%%\n"
    }
   }
  },
  {
   "cell_type": "code",
   "execution_count": 118,
   "outputs": [
    {
     "name": "stdout",
     "output_type": "stream",
     "text": [
      "[4768  156 5323  174 4529  783 3878  768 4469 1882 4997 2067 3806 2848\n",
      " 4433 3519 5338 3947 4373 2092  525 4327 3048 2665 4940]\n"
     ]
    }
   ],
   "source": [
    "print(latent_user_preferences.T.columns.values)"
   ],
   "metadata": {
    "collapsed": false,
    "pycharm": {
     "name": "#%%\n"
    }
   }
  },
  {
   "cell_type": "code",
   "execution_count": 119,
   "outputs": [
    {
     "name": "stdout",
     "output_type": "stream",
     "text": [
      "[   11    12    13    14    22    24    38    63    77    85    98   105\n",
      "   107   114   120   121   122   134   141   146   153   155   161   180\n",
      "   187   194   197   238   243   268   272   274   275   278   280   329\n",
      "   393   414   424   453   462   550   557   558   568   581   585   597\n",
      "   601   602   603   604   607   629   640   641   664   671   672   680\n",
      "   745   752   786   788   807   808   809   812   854   857   862   954\n",
      "   955  1422  1572  1597  1637  1891  1892  1894  1900  2024  2164  2501\n",
      "  2502  3049  4327  5503  7443  8358  8467  8587  9331  9741  9802  9806\n",
      " 10020 36657 36658 36955]\n"
     ]
    }
   ],
   "source": [
    "print(latent_item_features.T.columns.values)"
   ],
   "metadata": {
    "collapsed": false,
    "pycharm": {
     "name": "#%%\n"
    }
   }
  },
  {
   "cell_type": "code",
   "execution_count": 120,
   "outputs": [
    {
     "name": "stdout",
     "output_type": "stream",
     "text": [
      "[4768  156 5323  174 4529  783 3878  768 4469 1882 4997 2067 3806 2848\n",
      " 4433 3519 5338 3947 4373 2092  525 4327 3048 2665 4940]\n"
     ]
    }
   ],
   "source": [
    "user_ratings: pd.DataFrame = pd.DataFrame(\n",
    "    columns=latent_item_features.T.columns.values,\n",
    ")\n",
    "user_ratings.index.name='User ID'\n",
    "\n",
    "print(latent_user_preferences.T.columns.values)\n",
    "\n",
    "\n",
    "for u in latent_user_preferences.T.columns.values:\n",
    "    user_ratings.loc[u] = pd.Series(\n",
    "        [\n",
    "            #_rng.random()\n",
    "            predict_rating_m(u, i, latent_user_preferences,latent_item_features)\n",
    "            for i in latent_item_features.T.columns.values\n",
    "        ],\n",
    "    )"
   ],
   "metadata": {
    "collapsed": false,
    "pycharm": {
     "name": "#%%\n"
    }
   }
  },
  {
   "cell_type": "code",
   "execution_count": 121,
   "outputs": [],
   "source": [
    "#user_ratings"
   ],
   "metadata": {
    "collapsed": false,
    "pycharm": {
     "name": "#%%\n"
    }
   }
  },
  {
   "cell_type": "code",
   "execution_count": 122,
   "outputs": [],
   "source": [
    "#user_ratings[22][3806]"
   ],
   "metadata": {
    "collapsed": false,
    "pycharm": {
     "name": "#%%\n"
    }
   }
  },
  {
   "cell_type": "code",
   "execution_count": 123,
   "outputs": [],
   "source": [
    "#user_ratings[278][3878]"
   ],
   "metadata": {
    "collapsed": false,
    "pycharm": {
     "name": "#%%\n"
    }
   }
  },
  {
   "cell_type": "code",
   "execution_count": 124,
   "outputs": [],
   "source": [
    "#latent_user_preferences.loc[3806]"
   ],
   "metadata": {
    "collapsed": false,
    "pycharm": {
     "name": "#%%\n"
    }
   }
  },
  {
   "cell_type": "code",
   "execution_count": 146,
   "outputs": [],
   "source": [
    "\n",
    "def train_m(user_id, item_id, rating, l_user_prefs, l_item_feats, alpha=0.0001, ):\n",
    "    #print(item_id)\n",
    "    predicted_rating = predict_rating_m(user_id, item_id, l_user_prefs, l_item_feats)\n",
    "    err =  predicted_rating - rating\n",
    "    #print(err)\n",
    "    user_pref_values = l_user_prefs.loc[user_id]\n",
    "    l_user_prefs.loc[user_id] -= alpha * err * l_item_feats.loc[item_id]\n",
    "    l_item_feats.loc[item_id] -= alpha * err * user_pref_values\n",
    "    return err\n",
    "\n",
    "import sys\n",
    "\n",
    "def sgd_m(iterations, l_user_prefs, l_item_feats, u_ratings):\n",
    "    \"\"\" Iterate over all users and all items and train for\n",
    "        a certain number of iterations\n",
    "    \"\"\"\n",
    "    mse_history = []\n",
    "    for iteration in range(iterations):\n",
    "        error = []\n",
    "        for user_id in l_user_prefs.T.columns:\n",
    "            for item_id in l_item_feats.T.columns:\n",
    "                rating = u_ratings[item_id][user_id]\n",
    "                if not np.isnan(rating):\n",
    "                    err = train_m(user_id, item_id, rating, l_user_prefs, l_item_feats)\n",
    "                    error.append(err)\n",
    "        mse = np.square(np.array(error)).mean()\n",
    "        if (iteration % 10) == 0:\n",
    "            sys.stdout.write(\"x\")\n",
    "            if (iteration % 100) == 0:\n",
    "                sys.stdout.write(\"\\n\")\n",
    "                print('Iteration %d/%d:\\tMSE=%.6f' % (iteration, iterations, mse), flush=True)\n",
    "\n",
    "        mse_history.append(mse)\n",
    "\n",
    "    return mse_history"
   ],
   "metadata": {
    "collapsed": false,
    "pycharm": {
     "name": "#%%\n"
    }
   }
  },
  {
   "cell_type": "code",
   "execution_count": 147,
   "outputs": [
    {
     "name": "stdout",
     "output_type": "stream",
     "text": [
      "\n",
      "x\n",
      "Iteration 0/500:\tMSE=0.438200\n",
      "xxxxxxxxxx\n",
      "Iteration 100/500:\tMSE=0.310335\n",
      "xxxxxxxxxx\n",
      "Iteration 200/500:\tMSE=0.236461\n",
      "xxxxxxxxxx\n",
      "Iteration 300/500:\tMSE=0.191058\n",
      "xxxxxxxxxx\n",
      "Iteration 400/500:\tMSE=0.161432\n",
      "xxxxxxxxx"
     ]
    },
    {
     "data": {
      "text/plain": "<Figure size 432x288 with 1 Axes>",
      "image/png": "[encoded data removed]"
     },
     "metadata": {
      "needs_background": "light"
     },
     "output_type": "display_data"
    }
   ],
   "source": [
    "print(\"\")\n",
    "\n",
    "num_iter = 500\n",
    "trained_prefs = latent_user_preferences.copy()\n",
    "trained_feats = latent_item_features.copy()\n",
    "trained_ratings = user_ratings.copy()\n",
    "\n",
    "hist = sgd_m(num_iter, trained_prefs, trained_feats, trained_ratings)  #\n",
    "\n",
    "plt.figure()\n",
    "plt.plot(np.arange(0, num_iter), hist)\n",
    "plt.xlabel(\"Iterations\")\n",
    "plt.ylabel(\"MSE\")\n",
    "plt.show()"
   ],
   "metadata": {
    "collapsed": false,
    "pycharm": {
     "name": "#%%\n"
    }
   }
  },
  {
   "cell_type": "code",
   "execution_count": 148,
   "outputs": [
    {
     "data": {
      "text/plain": "Movie ID     11        12        13        14        22        24     \\\nUser                                                                   \n4768      0.647528  0.280737 -0.253771 -0.166044 -0.294969 -0.229673   \n156       0.456291  0.098149 -0.203100  0.195359  0.000638 -0.322966   \n5323      0.052425  0.077332 -0.038879  0.139939  0.400487 -0.042672   \n174      -0.339692 -0.038858  0.166135  0.527690  0.240793 -0.012452   \n4529     -0.148138  0.258840 -0.090293 -0.037600 -0.026486 -0.579341   \n783      -0.044558  0.066554  0.001486  0.065403  0.140730 -0.078126   \n3878      0.872822  0.421279 -0.211907 -0.658813 -0.287791 -0.149141   \n768      -0.001967 -0.009277  0.026312  0.059556  0.031146 -0.045821   \n4469     -0.022073 -0.033270  0.032570  0.041874  0.001573 -0.062827   \n1882     -0.002085  0.221758 -0.170400  0.106876  0.353743 -0.041795   \n4997     -1.019345 -0.274185  0.268740 -0.416253  0.550851 -1.517727   \n2067      0.059139  0.281333  0.246052 -0.429760  0.044315 -0.005570   \n3806      0.158136 -0.098390 -0.147667  0.038342  0.088332 -0.061335   \n2848     -0.029857 -0.058255 -0.256907  0.081592  0.027349 -0.475960   \n4433     -0.539038  0.105606  0.256461  0.626066  0.724275 -0.889754   \n3519      0.159341 -0.008455 -0.031510  0.150206 -0.062312 -0.074028   \n5338     -0.173211  0.107529 -0.122439  0.131721  0.021186  0.034869   \n3947      0.126701 -0.070924 -0.084609  0.068944 -0.043592 -0.789131   \n4373      0.470922  0.141264 -0.207730 -0.113864 -0.241111 -0.868369   \n2092      0.210242  0.144216 -0.192134  0.286275  0.374102  0.015141   \n525      -0.016554  0.025980  0.058594  0.042412  0.040819 -0.035706   \n4327      0.411819  0.254955  0.373147 -0.476482 -0.194176 -0.449190   \n3048     -0.096113  0.030626 -0.175749 -0.045071  0.159835  0.298529   \n2665      0.248551 -0.007970 -0.014549  0.227990  0.060028 -0.060781   \n4940      0.040824  0.100892  0.030890  0.070353 -0.156965 -0.002061   \n\nMovie ID     38        63        77        85     ...     8467      8587   \\\nUser                                              ...                       \n4768      0.126760  0.296619  0.358551  0.833180  ...  0.762296  0.037798   \n156       0.331272  0.263870  0.383304 -0.103314  ... -0.373896  0.099836   \n5323      0.092499 -0.075725  0.125690 -0.039727  ... -0.281435  0.476495   \n174       0.507110  0.359263  0.324422 -0.592256  ... -0.941099 -0.097886   \n4529      0.042831 -0.235874  0.076864 -0.271812  ... -0.326265  0.436490   \n783       0.001039 -0.088096  0.015963 -0.029874  ...  0.169559  0.111438   \n3878     -0.200263  0.070920  0.205462  0.734138  ...  1.003837  0.502150   \n768       0.022801 -0.037817 -0.005867 -0.001267  ...  0.019916  0.059864   \n4469      0.054080  0.008400  0.057605 -0.062549  ...  0.061847  0.038686   \n1882      0.066730 -0.103914  0.147748 -0.345196  ... -0.479397  0.249764   \n4997     -0.296098 -0.637930  0.087974 -1.211837  ... -0.255102  0.042717   \n2067     -0.306726 -0.185188 -0.095094 -0.203714  ... -0.602211  0.792567   \n3806      0.005357  0.160235 -0.005251  0.420100  ...  0.589751 -0.446271   \n2848      0.248705  0.094092  0.267788  0.086613  ... -0.335689  0.197121   \n4433      0.196228 -0.416425  0.184557 -0.680464  ... -1.983354 -0.081455   \n3519      0.144013  0.042969  0.158548 -0.074086  ... -0.449471  0.062499   \n5338      0.110618 -0.070802  0.119393 -0.188089  ...  0.279989 -0.012989   \n3947      0.125414  0.059351  0.166943 -0.067684  ... -0.060646 -0.174059   \n4373      0.111944  0.243724  0.217093  0.564156  ...  0.194536 -0.253434   \n2092      0.199276  0.093220  0.166482  0.283810  ...  0.302492  0.205864   \n525       0.026583 -0.030289  0.027746 -0.087345  ...  0.035640  0.175994   \n4327     -0.404855 -0.265924 -0.235056  0.519088  ...  0.318829  0.352233   \n3048      0.032221  0.045321  0.307222 -0.400933  ... -0.771940 -0.143126   \n2665      0.078861 -0.039965  0.100357 -0.029188  ... -0.114729 -0.203690   \n4940      0.141555  0.101433  0.151655 -0.056604  ... -0.164000  0.016190   \n\nMovie ID     9331      9741      9802      9806      10020     36657  \\\nUser                                                                   \n4768      0.091084 -0.127513  0.030545  0.426873  0.088046 -0.284609   \n156      -0.096426  0.056650 -0.167688 -0.079801 -0.131647 -0.257720   \n5323     -0.197940 -0.255566 -0.212400  0.040806  0.263822 -0.099578   \n174      -0.129239  0.226559 -0.229474 -0.245640 -0.133767 -0.059556   \n4529     -0.134467 -0.133355 -0.246755  0.236622  0.276181  0.203365   \n783      -0.069751 -0.078834 -0.087217  0.032752  0.082081 -0.142212   \n3878      0.036121 -0.260237  0.060368  0.484615  0.251987 -0.075078   \n768      -0.017918 -0.030410 -0.043753 -0.058809  0.038099 -0.099030   \n4469     -0.014718 -0.008960 -0.027918 -0.070361  0.004072 -0.051733   \n1882     -0.250798 -0.138519 -0.352415  0.104675  0.070707  0.002344   \n4997     -0.142387 -0.021713  0.043079 -0.480563 -0.477258  0.348680   \n2067      0.139298  0.012728  0.403150  0.326625  0.542934  0.312530   \n3806     -0.113793 -0.014965 -0.039634 -0.049623 -0.510320 -0.167518   \n2848      0.014357 -0.098731 -0.026963  0.067855  0.140893  0.088348   \n4433     -0.444924 -0.265951 -0.771172 -0.114646 -0.133417  0.022513   \n3519     -0.012760 -0.032182 -0.106551 -0.031986  0.076409 -0.012777   \n5338     -0.115961 -0.048743 -0.258375 -0.007601 -0.040936 -0.192585   \n3947     -0.048541  0.044765 -0.060057 -0.065043 -0.228824  0.034602   \n4373     -0.046528  0.003609 -0.035757  0.249035 -0.373962  0.024934   \n2092     -0.135388 -0.148271 -0.205762  0.005543  0.103642 -0.606844   \n525      -0.002094 -0.000351  0.017981 -0.043852  0.098595 -0.124367   \n4327     -0.136000 -0.294349 -0.054260  0.324542  0.095794  0.295020   \n3048     -0.144789 -0.029193 -0.115769  0.080186 -0.322616  0.303692   \n2665     -0.087822 -0.032857 -0.232751 -0.220821 -0.220170 -0.405568   \n4940      0.017306  0.060544 -0.072762  0.013164  0.008575 -0.078090   \n\nMovie ID     36658     36955  \nUser                          \n4768     -0.365477  0.097128  \n156      -0.368720 -0.124821  \n5323     -0.116951 -0.154752  \n174      -0.041812 -0.472533  \n4529      0.206199 -0.208507  \n783      -0.094841 -0.110290  \n3878     -0.297194  0.309325  \n768      -0.084632  0.003549  \n4469     -0.048028 -0.043619  \n1882      0.013195 -0.356529  \n4997      0.400660 -0.567659  \n2067      0.178260  0.190689  \n3806     -0.242053  0.216964  \n2848      0.039922 -0.045343  \n4433      0.344405 -1.124502  \n3519      0.015816 -0.161610  \n5338     -0.136105 -0.248633  \n3947      0.037612 -0.089098  \n4373     -0.120780  0.193487  \n2092     -0.612990  0.004978  \n525      -0.132050  0.008520  \n4327      0.188631  0.289843  \n3048      0.248419 -0.445905  \n2665     -0.323319 -0.204341  \n4940     -0.091066 -0.102585  \n\n[25 rows x 100 columns]",
      "text/html": "<div>\n<style scoped>\n    .dataframe tbody tr th:only-of-type {\n        vertical-align: middle;\n    }\n\n    .dataframe tbody tr th {\n        vertical-align: top;\n    }\n\n    .dataframe thead th {\n        text-align: right;\n    }\n</style>\n<table border=\"1\" class=\"dataframe\">\n  <thead>\n    <tr style=\"text-align: right;\">\n      <th>Movie ID</th>\n      <th>11</th>\n      <th>12</th>\n      <th>13</th>\n      <th>14</th>\n      <th>22</th>\n      <th>24</th>\n      <th>38</th>\n      <th>63</th>\n      <th>77</th>\n      <th>85</th>\n      <th>...</th>\n      <th>8467</th>\n      <th>8587</th>\n      <th>9331</th>\n      <th>9741</th>\n      <th>9802</th>\n      <th>9806</th>\n      <th>10020</th>\n      <th>36657</th>\n      <th>36658</th>\n      <th>36955</th>\n    </tr>\n    <tr>\n      <th>User</th>\n      <th></th>\n      <th></th>\n      <th></th>\n      <th></th>\n      <th></th>\n      <th></th>\n      <th></th>\n      <th></th>\n      <th></th>\n      <th></th>\n      <th></th>\n      <th></th>\n      <th></th>\n      <th></th>\n      <th></th>\n      <th></th>\n      <th></th>\n      <th></th>\n      <th></th>\n      <th></th>\n      <th></th>\n    </tr>\n  </thead>\n  <tbody>\n    <tr>\n      <th>4768</th>\n      <td>0.647528</td>\n      <td>0.280737</td>\n      <td>-0.253771</td>\n      <td>-0.166044</td>\n      <td>-0.294969</td>\n      <td>-0.229673</td>\n      <td>0.126760</td>\n      <td>0.296619</td>\n      <td>0.358551</td>\n      <td>0.833180</td>\n      <td>...</td>\n      <td>0.762296</td>\n      <td>0.037798</td>\n      <td>0.091084</td>\n      <td>-0.127513</td>\n      <td>0.030545</td>\n      <td>0.426873</td>\n      <td>0.088046</td>\n      <td>-0.284609</td>\n      <td>-0.365477</td>\n      <td>0.097128</td>\n    </tr>\n    <tr>\n      <th>156</th>\n      <td>0.456291</td>\n      <td>0.098149</td>\n      <td>-0.203100</td>\n      <td>0.195359</td>\n      <td>0.000638</td>\n      <td>-0.322966</td>\n      <td>0.331272</td>\n      <td>0.263870</td>\n      <td>0.383304</td>\n      <td>-0.103314</td>\n      <td>...</td>\n      <td>-0.373896</td>\n      <td>0.099836</td>\n      <td>-0.096426</td>\n      <td>0.056650</td>\n      <td>-0.167688</td>\n      <td>-0.079801</td>\n      <td>-0.131647</td>\n      <td>-0.257720</td>\n      <td>-0.368720</td>\n      <td>-0.124821</td>\n    </tr>\n    <tr>\n      <th>5323</th>\n      <td>0.052425</td>\n      <td>0.077332</td>\n      <td>-0.038879</td>\n      <td>0.139939</td>\n      <td>0.400487</td>\n      <td>-0.042672</td>\n      <td>0.092499</td>\n      <td>-0.075725</td>\n      <td>0.125690</td>\n      <td>-0.039727</td>\n      <td>...</td>\n      <td>-0.281435</td>\n      <td>0.476495</td>\n      <td>-0.197940</td>\n      <td>-0.255566</td>\n      <td>-0.212400</td>\n      <td>0.040806</td>\n      <td>0.263822</td>\n      <td>-0.099578</td>\n      <td>-0.116951</td>\n      <td>-0.154752</td>\n    </tr>\n    <tr>\n      <th>174</th>\n      <td>-0.339692</td>\n      <td>-0.038858</td>\n      <td>0.166135</td>\n      <td>0.527690</td>\n      <td>0.240793</td>\n      <td>-0.012452</td>\n      <td>0.507110</td>\n      <td>0.359263</td>\n      <td>0.324422</td>\n      <td>-0.592256</td>\n      <td>...</td>\n      <td>-0.941099</td>\n      <td>-0.097886</td>\n      <td>-0.129239</td>\n      <td>0.226559</td>\n      <td>-0.229474</td>\n      <td>-0.245640</td>\n      <td>-0.133767</td>\n      <td>-0.059556</td>\n      <td>-0.041812</td>\n      <td>-0.472533</td>\n    </tr>\n    <tr>\n      <th>4529</th>\n      <td>-0.148138</td>\n      <td>0.258840</td>\n      <td>-0.090293</td>\n      <td>-0.037600</td>\n      <td>-0.026486</td>\n      <td>-0.579341</td>\n      <td>0.042831</td>\n      <td>-0.235874</td>\n      <td>0.076864</td>\n      <td>-0.271812</td>\n      <td>...</td>\n      <td>-0.326265</td>\n      <td>0.436490</td>\n      <td>-0.134467</td>\n      <td>-0.133355</td>\n      <td>-0.246755</td>\n      <td>0.236622</td>\n      <td>0.276181</td>\n      <td>0.203365</td>\n      <td>0.206199</td>\n      <td>-0.208507</td>\n    </tr>\n    <tr>\n      <th>783</th>\n      <td>-0.044558</td>\n      <td>0.066554</td>\n      <td>0.001486</td>\n      <td>0.065403</td>\n      <td>0.140730</td>\n      <td>-0.078126</td>\n      <td>0.001039</td>\n      <td>-0.088096</td>\n      <td>0.015963</td>\n      <td>-0.029874</td>\n      <td>...</td>\n      <td>0.169559</td>\n      <td>0.111438</td>\n      <td>-0.069751</td>\n      <td>-0.078834</td>\n      <td>-0.087217</td>\n      <td>0.032752</td>\n      <td>0.082081</td>\n      <td>-0.142212</td>\n      <td>-0.094841</td>\n      <td>-0.110290</td>\n    </tr>\n    <tr>\n      <th>3878</th>\n      <td>0.872822</td>\n      <td>0.421279</td>\n      <td>-0.211907</td>\n      <td>-0.658813</td>\n      <td>-0.287791</td>\n      <td>-0.149141</td>\n      <td>-0.200263</td>\n      <td>0.070920</td>\n      <td>0.205462</td>\n      <td>0.734138</td>\n      <td>...</td>\n      <td>1.003837</td>\n      <td>0.502150</td>\n      <td>0.036121</td>\n      <td>-0.260237</td>\n      <td>0.060368</td>\n      <td>0.484615</td>\n      <td>0.251987</td>\n      <td>-0.075078</td>\n      <td>-0.297194</td>\n      <td>0.309325</td>\n    </tr>\n    <tr>\n      <th>768</th>\n      <td>-0.001967</td>\n      <td>-0.009277</td>\n      <td>0.026312</td>\n      <td>0.059556</td>\n      <td>0.031146</td>\n      <td>-0.045821</td>\n      <td>0.022801</td>\n      <td>-0.037817</td>\n      <td>-0.005867</td>\n      <td>-0.001267</td>\n      <td>...</td>\n      <td>0.019916</td>\n      <td>0.059864</td>\n      <td>-0.017918</td>\n      <td>-0.030410</td>\n      <td>-0.043753</td>\n      <td>-0.058809</td>\n      <td>0.038099</td>\n      <td>-0.099030</td>\n      <td>-0.084632</td>\n      <td>0.003549</td>\n    </tr>\n    <tr>\n      <th>4469</th>\n      <td>-0.022073</td>\n      <td>-0.033270</td>\n      <td>0.032570</td>\n      <td>0.041874</td>\n      <td>0.001573</td>\n      <td>-0.062827</td>\n      <td>0.054080</td>\n      <td>0.008400</td>\n      <td>0.057605</td>\n      <td>-0.062549</td>\n      <td>...</td>\n      <td>0.061847</td>\n      <td>0.038686</td>\n      <td>-0.014718</td>\n      <td>-0.008960</td>\n      <td>-0.027918</td>\n      <td>-0.070361</td>\n      <td>0.004072</td>\n      <td>-0.051733</td>\n      <td>-0.048028</td>\n      <td>-0.043619</td>\n    </tr>\n    <tr>\n      <th>1882</th>\n      <td>-0.002085</td>\n      <td>0.221758</td>\n      <td>-0.170400</td>\n      <td>0.106876</td>\n      <td>0.353743</td>\n      <td>-0.041795</td>\n      <td>0.066730</td>\n      <td>-0.103914</td>\n      <td>0.147748</td>\n      <td>-0.345196</td>\n      <td>...</td>\n      <td>-0.479397</td>\n      <td>0.249764</td>\n      <td>-0.250798</td>\n      <td>-0.138519</td>\n      <td>-0.352415</td>\n      <td>0.104675</td>\n      <td>0.070707</td>\n      <td>0.002344</td>\n      <td>0.013195</td>\n      <td>-0.356529</td>\n    </tr>\n    <tr>\n      <th>4997</th>\n      <td>-1.019345</td>\n      <td>-0.274185</td>\n      <td>0.268740</td>\n      <td>-0.416253</td>\n      <td>0.550851</td>\n      <td>-1.517727</td>\n      <td>-0.296098</td>\n      <td>-0.637930</td>\n      <td>0.087974</td>\n      <td>-1.211837</td>\n      <td>...</td>\n      <td>-0.255102</td>\n      <td>0.042717</td>\n      <td>-0.142387</td>\n      <td>-0.021713</td>\n      <td>0.043079</td>\n      <td>-0.480563</td>\n      <td>-0.477258</td>\n      <td>0.348680</td>\n      <td>0.400660</td>\n      <td>-0.567659</td>\n    </tr>\n    <tr>\n      <th>2067</th>\n      <td>0.059139</td>\n      <td>0.281333</td>\n      <td>0.246052</td>\n      <td>-0.429760</td>\n      <td>0.044315</td>\n      <td>-0.005570</td>\n      <td>-0.306726</td>\n      <td>-0.185188</td>\n      <td>-0.095094</td>\n      <td>-0.203714</td>\n      <td>...</td>\n      <td>-0.602211</td>\n      <td>0.792567</td>\n      <td>0.139298</td>\n      <td>0.012728</td>\n      <td>0.403150</td>\n      <td>0.326625</td>\n      <td>0.542934</td>\n      <td>0.312530</td>\n      <td>0.178260</td>\n      <td>0.190689</td>\n    </tr>\n    <tr>\n      <th>3806</th>\n      <td>0.158136</td>\n      <td>-0.098390</td>\n      <td>-0.147667</td>\n      <td>0.038342</td>\n      <td>0.088332</td>\n      <td>-0.061335</td>\n      <td>0.005357</td>\n      <td>0.160235</td>\n      <td>-0.005251</td>\n      <td>0.420100</td>\n      <td>...</td>\n      <td>0.589751</td>\n      <td>-0.446271</td>\n      <td>-0.113793</td>\n      <td>-0.014965</td>\n      <td>-0.039634</td>\n      <td>-0.049623</td>\n      <td>-0.510320</td>\n      <td>-0.167518</td>\n      <td>-0.242053</td>\n      <td>0.216964</td>\n    </tr>\n    <tr>\n      <th>2848</th>\n      <td>-0.029857</td>\n      <td>-0.058255</td>\n      <td>-0.256907</td>\n      <td>0.081592</td>\n      <td>0.027349</td>\n      <td>-0.475960</td>\n      <td>0.248705</td>\n      <td>0.094092</td>\n      <td>0.267788</td>\n      <td>0.086613</td>\n      <td>...</td>\n      <td>-0.335689</td>\n      <td>0.197121</td>\n      <td>0.014357</td>\n      <td>-0.098731</td>\n      <td>-0.026963</td>\n      <td>0.067855</td>\n      <td>0.140893</td>\n      <td>0.088348</td>\n      <td>0.039922</td>\n      <td>-0.045343</td>\n    </tr>\n    <tr>\n      <th>4433</th>\n      <td>-0.539038</td>\n      <td>0.105606</td>\n      <td>0.256461</td>\n      <td>0.626066</td>\n      <td>0.724275</td>\n      <td>-0.889754</td>\n      <td>0.196228</td>\n      <td>-0.416425</td>\n      <td>0.184557</td>\n      <td>-0.680464</td>\n      <td>...</td>\n      <td>-1.983354</td>\n      <td>-0.081455</td>\n      <td>-0.444924</td>\n      <td>-0.265951</td>\n      <td>-0.771172</td>\n      <td>-0.114646</td>\n      <td>-0.133417</td>\n      <td>0.022513</td>\n      <td>0.344405</td>\n      <td>-1.124502</td>\n    </tr>\n    <tr>\n      <th>3519</th>\n      <td>0.159341</td>\n      <td>-0.008455</td>\n      <td>-0.031510</td>\n      <td>0.150206</td>\n      <td>-0.062312</td>\n      <td>-0.074028</td>\n      <td>0.144013</td>\n      <td>0.042969</td>\n      <td>0.158548</td>\n      <td>-0.074086</td>\n      <td>...</td>\n      <td>-0.449471</td>\n      <td>0.062499</td>\n      <td>-0.012760</td>\n      <td>-0.032182</td>\n      <td>-0.106551</td>\n      <td>-0.031986</td>\n      <td>0.076409</td>\n      <td>-0.012777</td>\n      <td>0.015816</td>\n      <td>-0.161610</td>\n    </tr>\n    <tr>\n      <th>5338</th>\n      <td>-0.173211</td>\n      <td>0.107529</td>\n      <td>-0.122439</td>\n      <td>0.131721</td>\n      <td>0.021186</td>\n      <td>0.034869</td>\n      <td>0.110618</td>\n      <td>-0.070802</td>\n      <td>0.119393</td>\n      <td>-0.188089</td>\n      <td>...</td>\n      <td>0.279989</td>\n      <td>-0.012989</td>\n      <td>-0.115961</td>\n      <td>-0.048743</td>\n      <td>-0.258375</td>\n      <td>-0.007601</td>\n      <td>-0.040936</td>\n      <td>-0.192585</td>\n      <td>-0.136105</td>\n      <td>-0.248633</td>\n    </tr>\n    <tr>\n      <th>3947</th>\n      <td>0.126701</td>\n      <td>-0.070924</td>\n      <td>-0.084609</td>\n      <td>0.068944</td>\n      <td>-0.043592</td>\n      <td>-0.789131</td>\n      <td>0.125414</td>\n      <td>0.059351</td>\n      <td>0.166943</td>\n      <td>-0.067684</td>\n      <td>...</td>\n      <td>-0.060646</td>\n      <td>-0.174059</td>\n      <td>-0.048541</td>\n      <td>0.044765</td>\n      <td>-0.060057</td>\n      <td>-0.065043</td>\n      <td>-0.228824</td>\n      <td>0.034602</td>\n      <td>0.037612</td>\n      <td>-0.089098</td>\n    </tr>\n    <tr>\n      <th>4373</th>\n      <td>0.470922</td>\n      <td>0.141264</td>\n      <td>-0.207730</td>\n      <td>-0.113864</td>\n      <td>-0.241111</td>\n      <td>-0.868369</td>\n      <td>0.111944</td>\n      <td>0.243724</td>\n      <td>0.217093</td>\n      <td>0.564156</td>\n      <td>...</td>\n      <td>0.194536</td>\n      <td>-0.253434</td>\n      <td>-0.046528</td>\n      <td>0.003609</td>\n      <td>-0.035757</td>\n      <td>0.249035</td>\n      <td>-0.373962</td>\n      <td>0.024934</td>\n      <td>-0.120780</td>\n      <td>0.193487</td>\n    </tr>\n    <tr>\n      <th>2092</th>\n      <td>0.210242</td>\n      <td>0.144216</td>\n      <td>-0.192134</td>\n      <td>0.286275</td>\n      <td>0.374102</td>\n      <td>0.015141</td>\n      <td>0.199276</td>\n      <td>0.093220</td>\n      <td>0.166482</td>\n      <td>0.283810</td>\n      <td>...</td>\n      <td>0.302492</td>\n      <td>0.205864</td>\n      <td>-0.135388</td>\n      <td>-0.148271</td>\n      <td>-0.205762</td>\n      <td>0.005543</td>\n      <td>0.103642</td>\n      <td>-0.606844</td>\n      <td>-0.612990</td>\n      <td>0.004978</td>\n    </tr>\n    <tr>\n      <th>525</th>\n      <td>-0.016554</td>\n      <td>0.025980</td>\n      <td>0.058594</td>\n      <td>0.042412</td>\n      <td>0.040819</td>\n      <td>-0.035706</td>\n      <td>0.026583</td>\n      <td>-0.030289</td>\n      <td>0.027746</td>\n      <td>-0.087345</td>\n      <td>...</td>\n      <td>0.035640</td>\n      <td>0.175994</td>\n      <td>-0.002094</td>\n      <td>-0.000351</td>\n      <td>0.017981</td>\n      <td>-0.043852</td>\n      <td>0.098595</td>\n      <td>-0.124367</td>\n      <td>-0.132050</td>\n      <td>0.008520</td>\n    </tr>\n    <tr>\n      <th>4327</th>\n      <td>0.411819</td>\n      <td>0.254955</td>\n      <td>0.373147</td>\n      <td>-0.476482</td>\n      <td>-0.194176</td>\n      <td>-0.449190</td>\n      <td>-0.404855</td>\n      <td>-0.265924</td>\n      <td>-0.235056</td>\n      <td>0.519088</td>\n      <td>...</td>\n      <td>0.318829</td>\n      <td>0.352233</td>\n      <td>-0.136000</td>\n      <td>-0.294349</td>\n      <td>-0.054260</td>\n      <td>0.324542</td>\n      <td>0.095794</td>\n      <td>0.295020</td>\n      <td>0.188631</td>\n      <td>0.289843</td>\n    </tr>\n    <tr>\n      <th>3048</th>\n      <td>-0.096113</td>\n      <td>0.030626</td>\n      <td>-0.175749</td>\n      <td>-0.045071</td>\n      <td>0.159835</td>\n      <td>0.298529</td>\n      <td>0.032221</td>\n      <td>0.045321</td>\n      <td>0.307222</td>\n      <td>-0.400933</td>\n      <td>...</td>\n      <td>-0.771940</td>\n      <td>-0.143126</td>\n      <td>-0.144789</td>\n      <td>-0.029193</td>\n      <td>-0.115769</td>\n      <td>0.080186</td>\n      <td>-0.322616</td>\n      <td>0.303692</td>\n      <td>0.248419</td>\n      <td>-0.445905</td>\n    </tr>\n    <tr>\n      <th>2665</th>\n      <td>0.248551</td>\n      <td>-0.007970</td>\n      <td>-0.014549</td>\n      <td>0.227990</td>\n      <td>0.060028</td>\n      <td>-0.060781</td>\n      <td>0.078861</td>\n      <td>-0.039965</td>\n      <td>0.100357</td>\n      <td>-0.029188</td>\n      <td>...</td>\n      <td>-0.114729</td>\n      <td>-0.203690</td>\n      <td>-0.087822</td>\n      <td>-0.032857</td>\n      <td>-0.232751</td>\n      <td>-0.220821</td>\n      <td>-0.220170</td>\n      <td>-0.405568</td>\n      <td>-0.323319</td>\n      <td>-0.204341</td>\n    </tr>\n    <tr>\n      <th>4940</th>\n      <td>0.040824</td>\n      <td>0.100892</td>\n      <td>0.030890</td>\n      <td>0.070353</td>\n      <td>-0.156965</td>\n      <td>-0.002061</td>\n      <td>0.141555</td>\n      <td>0.101433</td>\n      <td>0.151655</td>\n      <td>-0.056604</td>\n      <td>...</td>\n      <td>-0.164000</td>\n      <td>0.016190</td>\n      <td>0.017306</td>\n      <td>0.060544</td>\n      <td>-0.072762</td>\n      <td>0.013164</td>\n      <td>0.008575</td>\n      <td>-0.078090</td>\n      <td>-0.091066</td>\n      <td>-0.102585</td>\n    </tr>\n  </tbody>\n</table>\n<p>25 rows × 100 columns</p>\n</div>"
     },
     "execution_count": 148,
     "metadata": {},
     "output_type": "execute_result"
    }
   ],
   "source": [
    "predictions = trained_prefs.dot(trained_feats.T)\n",
    "predictions"
   ],
   "metadata": {
    "collapsed": false,
    "pycharm": {
     "name": "#%%\n"
    }
   }
  },
  {
   "cell_type": "code",
   "execution_count": 163,
   "outputs": [
    {
     "data": {
      "text/plain": "Movie ID      11         12         13         14         22         24     \\\ncount     25.000000  25.000000  25.000000  25.000000  25.000000  25.000000   \nmean       0.059284   0.080699  -0.029650   0.020668   0.078112  -0.257835   \nstd        0.375444   0.150725   0.178058   0.288312   0.251519   0.401762   \nmin       -1.019345  -0.274185  -0.256907  -0.658813  -0.294969  -1.517727   \n25%       -0.044558  -0.009277  -0.175749  -0.045071  -0.043592  -0.449190   \n50%        0.040824   0.077332  -0.038879   0.065403   0.031146  -0.062827   \n75%        0.210242   0.144216   0.032570   0.139939   0.159835  -0.035706   \nmax        0.872822   0.421279   0.373147   0.626066   0.724275   0.298529   \n\nMovie ID      38         63         77         85     ...      8467   \\\ncount     25.000000  25.000000  25.000000  25.000000  ...  25.000000   \nmean       0.058318  -0.013941   0.132404  -0.040194  ...  -0.136022   \nstd        0.196992   0.221878   0.141419   0.447067  ...   0.597717   \nmin       -0.404855  -0.637930  -0.235056  -1.211837  ...  -1.983354   \n25%        0.022801  -0.088096   0.057605  -0.203714  ...  -0.373896   \n50%        0.078861   0.008400   0.147748  -0.062549  ...  -0.114729   \n75%        0.141555   0.094092   0.205462   0.086613  ...   0.194536   \nmax        0.507110   0.359263   0.383304   0.833180  ...   1.003837   \n\nMovie ID      8587       9331       9741       9802       9806       10020  \\\ncount     25.000000  25.000000  25.000000  25.000000  25.000000  25.000000   \nmean       0.097792  -0.081763  -0.064634  -0.111692   0.036982  -0.017243   \nstd        0.271140   0.117040   0.119822   0.201746   0.215590   0.246707   \nmin       -0.446271  -0.444924  -0.294349  -0.771172  -0.480563  -0.510320   \n25%       -0.081455  -0.135388  -0.133355  -0.212400  -0.065043  -0.133767   \n50%        0.059864  -0.087822  -0.032182  -0.072762   0.005543   0.038099   \n75%        0.205864  -0.012760  -0.000351  -0.027918   0.104675   0.098595   \nmax        0.792567   0.139298   0.226559   0.403150   0.484615   0.542934   \n\nMovie ID      36657      36658      36955  \ncount     25.000000  25.000000  25.000000  \nmean      -0.040850  -0.056116  -0.125850  \nstd        0.226122   0.238477   0.309395  \nmin       -0.606844  -0.612990  -1.124502  \n25%       -0.142212  -0.136105  -0.208507  \n50%       -0.059556  -0.084632  -0.102585  \n75%        0.034602   0.039922   0.008520  \nmax        0.348680   0.400660   0.309325  \n\n[8 rows x 100 columns]",
      "text/html": "<div>\n<style scoped>\n    .dataframe tbody tr th:only-of-type {\n        vertical-align: middle;\n    }\n\n    .dataframe tbody tr th {\n        vertical-align: top;\n    }\n\n    .dataframe thead th {\n        text-align: right;\n    }\n</style>\n<table border=\"1\" class=\"dataframe\">\n  <thead>\n    <tr style=\"text-align: right;\">\n      <th>Movie ID</th>\n      <th>11</th>\n      <th>12</th>\n      <th>13</th>\n      <th>14</th>\n      <th>22</th>\n      <th>24</th>\n      <th>38</th>\n      <th>63</th>\n      <th>77</th>\n      <th>85</th>\n      <th>...</th>\n      <th>8467</th>\n      <th>8587</th>\n      <th>9331</th>\n      <th>9741</th>\n      <th>9802</th>\n      <th>9806</th>\n      <th>10020</th>\n      <th>36657</th>\n      <th>36658</th>\n      <th>36955</th>\n    </tr>\n  </thead>\n  <tbody>\n    <tr>\n      <th>count</th>\n      <td>25.000000</td>\n      <td>25.000000</td>\n      <td>25.000000</td>\n      <td>25.000000</td>\n      <td>25.000000</td>\n      <td>25.000000</td>\n      <td>25.000000</td>\n      <td>25.000000</td>\n      <td>25.000000</td>\n      <td>25.000000</td>\n      <td>...</td>\n      <td>25.000000</td>\n      <td>25.000000</td>\n      <td>25.000000</td>\n      <td>25.000000</td>\n      <td>25.000000</td>\n      <td>25.000000</td>\n      <td>25.000000</td>\n      <td>25.000000</td>\n      <td>25.000000</td>\n      <td>25.000000</td>\n    </tr>\n    <tr>\n      <th>mean</th>\n      <td>0.059284</td>\n      <td>0.080699</td>\n      <td>-0.029650</td>\n      <td>0.020668</td>\n      <td>0.078112</td>\n      <td>-0.257835</td>\n      <td>0.058318</td>\n      <td>-0.013941</td>\n      <td>0.132404</td>\n      <td>-0.040194</td>\n      <td>...</td>\n      <td>-0.136022</td>\n      <td>0.097792</td>\n      <td>-0.081763</td>\n      <td>-0.064634</td>\n      <td>-0.111692</td>\n      <td>0.036982</td>\n      <td>-0.017243</td>\n      <td>-0.040850</td>\n      <td>-0.056116</td>\n      <td>-0.125850</td>\n    </tr>\n    <tr>\n      <th>std</th>\n      <td>0.375444</td>\n      <td>0.150725</td>\n      <td>0.178058</td>\n      <td>0.288312</td>\n      <td>0.251519</td>\n      <td>0.401762</td>\n      <td>0.196992</td>\n      <td>0.221878</td>\n      <td>0.141419</td>\n      <td>0.447067</td>\n      <td>...</td>\n      <td>0.597717</td>\n      <td>0.271140</td>\n      <td>0.117040</td>\n      <td>0.119822</td>\n      <td>0.201746</td>\n      <td>0.215590</td>\n      <td>0.246707</td>\n      <td>0.226122</td>\n      <td>0.238477</td>\n      <td>0.309395</td>\n    </tr>\n    <tr>\n      <th>min</th>\n      <td>-1.019345</td>\n      <td>-0.274185</td>\n      <td>-0.256907</td>\n      <td>-0.658813</td>\n      <td>-0.294969</td>\n      <td>-1.517727</td>\n      <td>-0.404855</td>\n      <td>-0.637930</td>\n      <td>-0.235056</td>\n      <td>-1.211837</td>\n      <td>...</td>\n      <td>-1.983354</td>\n      <td>-0.446271</td>\n      <td>-0.444924</td>\n      <td>-0.294349</td>\n      <td>-0.771172</td>\n      <td>-0.480563</td>\n      <td>-0.510320</td>\n      <td>-0.606844</td>\n      <td>-0.612990</td>\n      <td>-1.124502</td>\n    </tr>\n    <tr>\n      <th>25%</th>\n      <td>-0.044558</td>\n      <td>-0.009277</td>\n      <td>-0.175749</td>\n      <td>-0.045071</td>\n      <td>-0.043592</td>\n      <td>-0.449190</td>\n      <td>0.022801</td>\n      <td>-0.088096</td>\n      <td>0.057605</td>\n      <td>-0.203714</td>\n      <td>...</td>\n      <td>-0.373896</td>\n      <td>-0.081455</td>\n      <td>-0.135388</td>\n      <td>-0.133355</td>\n      <td>-0.212400</td>\n      <td>-0.065043</td>\n      <td>-0.133767</td>\n      <td>-0.142212</td>\n      <td>-0.136105</td>\n      <td>-0.208507</td>\n    </tr>\n    <tr>\n      <th>50%</th>\n      <td>0.040824</td>\n      <td>0.077332</td>\n      <td>-0.038879</td>\n      <td>0.065403</td>\n      <td>0.031146</td>\n      <td>-0.062827</td>\n      <td>0.078861</td>\n      <td>0.008400</td>\n      <td>0.147748</td>\n      <td>-0.062549</td>\n      <td>...</td>\n      <td>-0.114729</td>\n      <td>0.059864</td>\n      <td>-0.087822</td>\n      <td>-0.032182</td>\n      <td>-0.072762</td>\n      <td>0.005543</td>\n      <td>0.038099</td>\n      <td>-0.059556</td>\n      <td>-0.084632</td>\n      <td>-0.102585</td>\n    </tr>\n    <tr>\n      <th>75%</th>\n      <td>0.210242</td>\n      <td>0.144216</td>\n      <td>0.032570</td>\n      <td>0.139939</td>\n      <td>0.159835</td>\n      <td>-0.035706</td>\n      <td>0.141555</td>\n      <td>0.094092</td>\n      <td>0.205462</td>\n      <td>0.086613</td>\n      <td>...</td>\n      <td>0.194536</td>\n      <td>0.205864</td>\n      <td>-0.012760</td>\n      <td>-0.000351</td>\n      <td>-0.027918</td>\n      <td>0.104675</td>\n      <td>0.098595</td>\n      <td>0.034602</td>\n      <td>0.039922</td>\n      <td>0.008520</td>\n    </tr>\n    <tr>\n      <th>max</th>\n      <td>0.872822</td>\n      <td>0.421279</td>\n      <td>0.373147</td>\n      <td>0.626066</td>\n      <td>0.724275</td>\n      <td>0.298529</td>\n      <td>0.507110</td>\n      <td>0.359263</td>\n      <td>0.383304</td>\n      <td>0.833180</td>\n      <td>...</td>\n      <td>1.003837</td>\n      <td>0.792567</td>\n      <td>0.139298</td>\n      <td>0.226559</td>\n      <td>0.403150</td>\n      <td>0.484615</td>\n      <td>0.542934</td>\n      <td>0.348680</td>\n      <td>0.400660</td>\n      <td>0.309325</td>\n    </tr>\n  </tbody>\n</table>\n<p>8 rows × 100 columns</p>\n</div>"
     },
     "execution_count": 163,
     "metadata": {},
     "output_type": "execute_result"
    }
   ],
   "source": [
    "predictions.describe()"
   ],
   "metadata": {
    "collapsed": false,
    "pycharm": {
     "name": "#%%\n"
    }
   }
  },
  {
   "cell_type": "code",
   "execution_count": null,
   "outputs": [],
   "source": [
    "predictions.to_csv(\"movies_predictions.csv\")"
   ],
   "metadata": {
    "collapsed": false,
    "pycharm": {
     "name": "#%%\n"
    }
   }
  },
  {
   "cell_type": "code",
   "execution_count": 160,
   "outputs": [
    {
     "data": {
      "text/plain": "            11        12        13        14        22        24        38     \\\nUser ID                                                                         \n4768     1.075866  0.490713 -0.514578 -0.370327 -0.088369 -0.171628  0.593612   \n156      0.510767 -0.125068 -0.151969  0.517930  0.189687 -0.260572  0.199863   \n5323     0.045008 -0.059968 -0.036395  0.247560  0.265635 -0.153931  0.271648   \n174     -0.075722 -0.052166 -0.353584  1.858963 -0.063346  0.000219  0.558233   \n4529    -0.211549 -0.511296  0.149259 -0.215623  0.003485 -0.564633 -0.017807   \n783     -0.128225 -0.055324 -0.017890  0.018573  0.161786 -0.105386  0.152208   \n3878     0.928983  0.326437 -0.065310 -1.992433  0.032120 -0.113857  0.345319   \n768     -0.039545 -0.047596  0.099078  0.017030  0.050608 -0.055531  0.014937   \n4469    -0.060360  0.019270  0.010936  0.021893  0.038589 -0.054131  0.158589   \n1882    -0.148604 -0.077960 -0.116153 -0.094700  0.267774 -0.040307 -0.021478   \n4997    -1.007403 -0.618366  0.116358 -1.325000  1.168161 -1.365896  1.361673   \n2067     0.282444  0.167582  0.487497 -1.959577  0.222063  0.001253  0.418074   \n3806     0.401531  0.095293 -0.417779  0.474225  0.101211  0.041517 -0.049956   \n2848     0.170633 -0.025721 -0.227568  0.788244  0.054609 -0.446208  0.098217   \n4433     0.095530 -0.786122 -0.197755  0.877729  0.341580 -1.056308  1.055216   \n3519     0.178407  0.034079  0.016657  0.045533 -0.065205 -0.085974  0.120133   \n5338    -0.327231 -0.035768 -0.129199  0.232442  0.125014 -0.010514  0.112833   \n3947     0.125262 -0.143949 -0.124911  0.007842  0.080374 -0.524426  0.090392   \n4373     1.065579 -0.134338 -0.424483  0.014997 -0.103470 -0.610555  0.210089   \n2092     0.225971  0.253235 -0.143679  0.487785  0.414680  0.039114  0.088530   \n525     -0.055370  0.034809  0.132021 -0.186088  0.138906 -0.028076  0.170086   \n4327     0.804538 -0.365379  0.335829 -2.000204 -0.278712 -0.448454  0.474781   \n3048     0.307641  0.273976 -0.603444 -0.109916  0.236619  0.154224  0.687846   \n2665     0.212213 -0.082370  0.059706 -0.053417  0.223374 -0.106200  0.180821   \n4940     0.212651  0.074959 -0.029705  0.004693 -0.092700 -0.006127  0.291180   \n\n            63        77        85     ...  8467   8587   9331   9741   9802   \\\nUser ID                                ...                                      \n4768     0.149423  0.416629  0.129791  ...    NaN    NaN    NaN    NaN    NaN   \n156     -0.136578  0.910234 -0.637950  ...    NaN    NaN    NaN    NaN    NaN   \n5323    -0.302412  0.186516 -0.199164  ...    NaN    NaN    NaN    NaN    NaN   \n174     -0.097778 -0.091951 -1.233248  ...    NaN    NaN    NaN    NaN    NaN   \n4529    -0.236235  0.060928 -0.399136  ...    NaN    NaN    NaN    NaN    NaN   \n783     -0.043136  0.027045  0.101489  ...    NaN    NaN    NaN    NaN    NaN   \n3878     0.071474  0.562888  0.670933  ...    NaN    NaN    NaN    NaN    NaN   \n768      0.002273  0.012196  0.048750  ...    NaN    NaN    NaN    NaN    NaN   \n4469    -0.018854  0.008534 -0.002490  ...    NaN    NaN    NaN    NaN    NaN   \n1882    -0.506743  0.261646 -0.431739  ...    NaN    NaN    NaN    NaN    NaN   \n4997    -0.448088 -1.332194 -0.930954  ...    NaN    NaN    NaN    NaN    NaN   \n2067     0.072365 -0.257828 -0.796918  ...    NaN    NaN    NaN    NaN    NaN   \n3806     0.040278 -0.451167  0.627290  ...    NaN    NaN    NaN    NaN    NaN   \n2848    -0.135390  0.165383 -0.411212  ...    NaN    NaN    NaN    NaN    NaN   \n4433    -0.878664 -0.283878 -2.451230  ...    NaN    NaN    NaN    NaN    NaN   \n3519    -0.184785  0.503005 -0.533195  ...    NaN    NaN    NaN    NaN    NaN   \n5338    -0.264502 -0.046568  0.065235  ...    NaN    NaN    NaN    NaN    NaN   \n3947     0.033255  0.234648 -0.137978  ...    NaN    NaN    NaN    NaN    NaN   \n4373     0.157245 -0.083689 -0.138122  ...    NaN    NaN    NaN    NaN    NaN   \n2092    -0.058911  0.123355  0.308150  ...    NaN    NaN    NaN    NaN    NaN   \n525      0.017266 -0.031659 -0.042254  ...    NaN    NaN    NaN    NaN    NaN   \n4327     0.107432 -0.546254  0.267519  ...    NaN    NaN    NaN    NaN    NaN   \n3048    -0.819597 -0.105569 -1.346810  ...    NaN    NaN    NaN    NaN    NaN   \n2665    -0.201176  0.516400 -0.295822  ...    NaN    NaN    NaN    NaN    NaN   \n4940    -0.052899  0.023834 -0.476892  ...    NaN    NaN    NaN    NaN    NaN   \n\n         9806   10020  36657  36658  36955  \nUser ID                                     \n4768       NaN    NaN    NaN    NaN    NaN  \n156        NaN    NaN    NaN    NaN    NaN  \n5323       NaN    NaN    NaN    NaN    NaN  \n174        NaN    NaN    NaN    NaN    NaN  \n4529       NaN    NaN    NaN    NaN    NaN  \n783        NaN    NaN    NaN    NaN    NaN  \n3878       NaN    NaN    NaN    NaN    NaN  \n768        NaN    NaN    NaN    NaN    NaN  \n4469       NaN    NaN    NaN    NaN    NaN  \n1882       NaN    NaN    NaN    NaN    NaN  \n4997       NaN    NaN    NaN    NaN    NaN  \n2067       NaN    NaN    NaN    NaN    NaN  \n3806       NaN    NaN    NaN    NaN    NaN  \n2848       NaN    NaN    NaN    NaN    NaN  \n4433       NaN    NaN    NaN    NaN    NaN  \n3519       NaN    NaN    NaN    NaN    NaN  \n5338       NaN    NaN    NaN    NaN    NaN  \n3947       NaN    NaN    NaN    NaN    NaN  \n4373       NaN    NaN    NaN    NaN    NaN  \n2092       NaN    NaN    NaN    NaN    NaN  \n525        NaN    NaN    NaN    NaN    NaN  \n4327       NaN    NaN    NaN    NaN    NaN  \n3048       NaN    NaN    NaN    NaN    NaN  \n2665       NaN    NaN    NaN    NaN    NaN  \n4940       NaN    NaN    NaN    NaN    NaN  \n\n[25 rows x 100 columns]",
      "text/html": "<div>\n<style scoped>\n    .dataframe tbody tr th:only-of-type {\n        vertical-align: middle;\n    }\n\n    .dataframe tbody tr th {\n        vertical-align: top;\n    }\n\n    .dataframe thead th {\n        text-align: right;\n    }\n</style>\n<table border=\"1\" class=\"dataframe\">\n  <thead>\n    <tr style=\"text-align: right;\">\n      <th></th>\n      <th>11</th>\n      <th>12</th>\n      <th>13</th>\n      <th>14</th>\n      <th>22</th>\n      <th>24</th>\n      <th>38</th>\n      <th>63</th>\n      <th>77</th>\n      <th>85</th>\n      <th>...</th>\n      <th>8467</th>\n      <th>8587</th>\n      <th>9331</th>\n      <th>9741</th>\n      <th>9802</th>\n      <th>9806</th>\n      <th>10020</th>\n      <th>36657</th>\n      <th>36658</th>\n      <th>36955</th>\n    </tr>\n    <tr>\n      <th>User ID</th>\n      <th></th>\n      <th></th>\n      <th></th>\n      <th></th>\n      <th></th>\n      <th></th>\n      <th></th>\n      <th></th>\n      <th></th>\n      <th></th>\n      <th></th>\n      <th></th>\n      <th></th>\n      <th></th>\n      <th></th>\n      <th></th>\n      <th></th>\n      <th></th>\n      <th></th>\n      <th></th>\n      <th></th>\n    </tr>\n  </thead>\n  <tbody>\n    <tr>\n      <th>4768</th>\n      <td>1.075866</td>\n      <td>0.490713</td>\n      <td>-0.514578</td>\n      <td>-0.370327</td>\n      <td>-0.088369</td>\n      <td>-0.171628</td>\n      <td>0.593612</td>\n      <td>0.149423</td>\n      <td>0.416629</td>\n      <td>0.129791</td>\n      <td>...</td>\n      <td>NaN</td>\n      <td>NaN</td>\n      <td>NaN</td>\n      <td>NaN</td>\n      <td>NaN</td>\n      <td>NaN</td>\n      <td>NaN</td>\n      <td>NaN</td>\n      <td>NaN</td>\n      <td>NaN</td>\n    </tr>\n    <tr>\n      <th>156</th>\n      <td>0.510767</td>\n      <td>-0.125068</td>\n      <td>-0.151969</td>\n      <td>0.517930</td>\n      <td>0.189687</td>\n      <td>-0.260572</td>\n      <td>0.199863</td>\n      <td>-0.136578</td>\n      <td>0.910234</td>\n      <td>-0.637950</td>\n      <td>...</td>\n      <td>NaN</td>\n      <td>NaN</td>\n      <td>NaN</td>\n      <td>NaN</td>\n      <td>NaN</td>\n      <td>NaN</td>\n      <td>NaN</td>\n      <td>NaN</td>\n      <td>NaN</td>\n      <td>NaN</td>\n    </tr>\n    <tr>\n      <th>5323</th>\n      <td>0.045008</td>\n      <td>-0.059968</td>\n      <td>-0.036395</td>\n      <td>0.247560</td>\n      <td>0.265635</td>\n      <td>-0.153931</td>\n      <td>0.271648</td>\n      <td>-0.302412</td>\n      <td>0.186516</td>\n      <td>-0.199164</td>\n      <td>...</td>\n      <td>NaN</td>\n      <td>NaN</td>\n      <td>NaN</td>\n      <td>NaN</td>\n      <td>NaN</td>\n      <td>NaN</td>\n      <td>NaN</td>\n      <td>NaN</td>\n      <td>NaN</td>\n      <td>NaN</td>\n    </tr>\n    <tr>\n      <th>174</th>\n      <td>-0.075722</td>\n      <td>-0.052166</td>\n      <td>-0.353584</td>\n      <td>1.858963</td>\n      <td>-0.063346</td>\n      <td>0.000219</td>\n      <td>0.558233</td>\n      <td>-0.097778</td>\n      <td>-0.091951</td>\n      <td>-1.233248</td>\n      <td>...</td>\n      <td>NaN</td>\n      <td>NaN</td>\n      <td>NaN</td>\n      <td>NaN</td>\n      <td>NaN</td>\n      <td>NaN</td>\n      <td>NaN</td>\n      <td>NaN</td>\n      <td>NaN</td>\n      <td>NaN</td>\n    </tr>\n    <tr>\n      <th>4529</th>\n      <td>-0.211549</td>\n      <td>-0.511296</td>\n      <td>0.149259</td>\n      <td>-0.215623</td>\n      <td>0.003485</td>\n      <td>-0.564633</td>\n      <td>-0.017807</td>\n      <td>-0.236235</td>\n      <td>0.060928</td>\n      <td>-0.399136</td>\n      <td>...</td>\n      <td>NaN</td>\n      <td>NaN</td>\n      <td>NaN</td>\n      <td>NaN</td>\n      <td>NaN</td>\n      <td>NaN</td>\n      <td>NaN</td>\n      <td>NaN</td>\n      <td>NaN</td>\n      <td>NaN</td>\n    </tr>\n    <tr>\n      <th>783</th>\n      <td>-0.128225</td>\n      <td>-0.055324</td>\n      <td>-0.017890</td>\n      <td>0.018573</td>\n      <td>0.161786</td>\n      <td>-0.105386</td>\n      <td>0.152208</td>\n      <td>-0.043136</td>\n      <td>0.027045</td>\n      <td>0.101489</td>\n      <td>...</td>\n      <td>NaN</td>\n      <td>NaN</td>\n      <td>NaN</td>\n      <td>NaN</td>\n      <td>NaN</td>\n      <td>NaN</td>\n      <td>NaN</td>\n      <td>NaN</td>\n      <td>NaN</td>\n      <td>NaN</td>\n    </tr>\n    <tr>\n      <th>3878</th>\n      <td>0.928983</td>\n      <td>0.326437</td>\n      <td>-0.065310</td>\n      <td>-1.992433</td>\n      <td>0.032120</td>\n      <td>-0.113857</td>\n      <td>0.345319</td>\n      <td>0.071474</td>\n      <td>0.562888</td>\n      <td>0.670933</td>\n      <td>...</td>\n      <td>NaN</td>\n      <td>NaN</td>\n      <td>NaN</td>\n      <td>NaN</td>\n      <td>NaN</td>\n      <td>NaN</td>\n      <td>NaN</td>\n      <td>NaN</td>\n      <td>NaN</td>\n      <td>NaN</td>\n    </tr>\n    <tr>\n      <th>768</th>\n      <td>-0.039545</td>\n      <td>-0.047596</td>\n      <td>0.099078</td>\n      <td>0.017030</td>\n      <td>0.050608</td>\n      <td>-0.055531</td>\n      <td>0.014937</td>\n      <td>0.002273</td>\n      <td>0.012196</td>\n      <td>0.048750</td>\n      <td>...</td>\n      <td>NaN</td>\n      <td>NaN</td>\n      <td>NaN</td>\n      <td>NaN</td>\n      <td>NaN</td>\n      <td>NaN</td>\n      <td>NaN</td>\n      <td>NaN</td>\n      <td>NaN</td>\n      <td>NaN</td>\n    </tr>\n    <tr>\n      <th>4469</th>\n      <td>-0.060360</td>\n      <td>0.019270</td>\n      <td>0.010936</td>\n      <td>0.021893</td>\n      <td>0.038589</td>\n      <td>-0.054131</td>\n      <td>0.158589</td>\n      <td>-0.018854</td>\n      <td>0.008534</td>\n      <td>-0.002490</td>\n      <td>...</td>\n      <td>NaN</td>\n      <td>NaN</td>\n      <td>NaN</td>\n      <td>NaN</td>\n      <td>NaN</td>\n      <td>NaN</td>\n      <td>NaN</td>\n      <td>NaN</td>\n      <td>NaN</td>\n      <td>NaN</td>\n    </tr>\n    <tr>\n      <th>1882</th>\n      <td>-0.148604</td>\n      <td>-0.077960</td>\n      <td>-0.116153</td>\n      <td>-0.094700</td>\n      <td>0.267774</td>\n      <td>-0.040307</td>\n      <td>-0.021478</td>\n      <td>-0.506743</td>\n      <td>0.261646</td>\n      <td>-0.431739</td>\n      <td>...</td>\n      <td>NaN</td>\n      <td>NaN</td>\n      <td>NaN</td>\n      <td>NaN</td>\n      <td>NaN</td>\n      <td>NaN</td>\n      <td>NaN</td>\n      <td>NaN</td>\n      <td>NaN</td>\n      <td>NaN</td>\n    </tr>\n    <tr>\n      <th>4997</th>\n      <td>-1.007403</td>\n      <td>-0.618366</td>\n      <td>0.116358</td>\n      <td>-1.325000</td>\n      <td>1.168161</td>\n      <td>-1.365896</td>\n      <td>1.361673</td>\n      <td>-0.448088</td>\n      <td>-1.332194</td>\n      <td>-0.930954</td>\n      <td>...</td>\n      <td>NaN</td>\n      <td>NaN</td>\n      <td>NaN</td>\n      <td>NaN</td>\n      <td>NaN</td>\n      <td>NaN</td>\n      <td>NaN</td>\n      <td>NaN</td>\n      <td>NaN</td>\n      <td>NaN</td>\n    </tr>\n    <tr>\n      <th>2067</th>\n      <td>0.282444</td>\n      <td>0.167582</td>\n      <td>0.487497</td>\n      <td>-1.959577</td>\n      <td>0.222063</td>\n      <td>0.001253</td>\n      <td>0.418074</td>\n      <td>0.072365</td>\n      <td>-0.257828</td>\n      <td>-0.796918</td>\n      <td>...</td>\n      <td>NaN</td>\n      <td>NaN</td>\n      <td>NaN</td>\n      <td>NaN</td>\n      <td>NaN</td>\n      <td>NaN</td>\n      <td>NaN</td>\n      <td>NaN</td>\n      <td>NaN</td>\n      <td>NaN</td>\n    </tr>\n    <tr>\n      <th>3806</th>\n      <td>0.401531</td>\n      <td>0.095293</td>\n      <td>-0.417779</td>\n      <td>0.474225</td>\n      <td>0.101211</td>\n      <td>0.041517</td>\n      <td>-0.049956</td>\n      <td>0.040278</td>\n      <td>-0.451167</td>\n      <td>0.627290</td>\n      <td>...</td>\n      <td>NaN</td>\n      <td>NaN</td>\n      <td>NaN</td>\n      <td>NaN</td>\n      <td>NaN</td>\n      <td>NaN</td>\n      <td>NaN</td>\n      <td>NaN</td>\n      <td>NaN</td>\n      <td>NaN</td>\n    </tr>\n    <tr>\n      <th>2848</th>\n      <td>0.170633</td>\n      <td>-0.025721</td>\n      <td>-0.227568</td>\n      <td>0.788244</td>\n      <td>0.054609</td>\n      <td>-0.446208</td>\n      <td>0.098217</td>\n      <td>-0.135390</td>\n      <td>0.165383</td>\n      <td>-0.411212</td>\n      <td>...</td>\n      <td>NaN</td>\n      <td>NaN</td>\n      <td>NaN</td>\n      <td>NaN</td>\n      <td>NaN</td>\n      <td>NaN</td>\n      <td>NaN</td>\n      <td>NaN</td>\n      <td>NaN</td>\n      <td>NaN</td>\n    </tr>\n    <tr>\n      <th>4433</th>\n      <td>0.095530</td>\n      <td>-0.786122</td>\n      <td>-0.197755</td>\n      <td>0.877729</td>\n      <td>0.341580</td>\n      <td>-1.056308</td>\n      <td>1.055216</td>\n      <td>-0.878664</td>\n      <td>-0.283878</td>\n      <td>-2.451230</td>\n      <td>...</td>\n      <td>NaN</td>\n      <td>NaN</td>\n      <td>NaN</td>\n      <td>NaN</td>\n      <td>NaN</td>\n      <td>NaN</td>\n      <td>NaN</td>\n      <td>NaN</td>\n      <td>NaN</td>\n      <td>NaN</td>\n    </tr>\n    <tr>\n      <th>3519</th>\n      <td>0.178407</td>\n      <td>0.034079</td>\n      <td>0.016657</td>\n      <td>0.045533</td>\n      <td>-0.065205</td>\n      <td>-0.085974</td>\n      <td>0.120133</td>\n      <td>-0.184785</td>\n      <td>0.503005</td>\n      <td>-0.533195</td>\n      <td>...</td>\n      <td>NaN</td>\n      <td>NaN</td>\n      <td>NaN</td>\n      <td>NaN</td>\n      <td>NaN</td>\n      <td>NaN</td>\n      <td>NaN</td>\n      <td>NaN</td>\n      <td>NaN</td>\n      <td>NaN</td>\n    </tr>\n    <tr>\n      <th>5338</th>\n      <td>-0.327231</td>\n      <td>-0.035768</td>\n      <td>-0.129199</td>\n      <td>0.232442</td>\n      <td>0.125014</td>\n      <td>-0.010514</td>\n      <td>0.112833</td>\n      <td>-0.264502</td>\n      <td>-0.046568</td>\n      <td>0.065235</td>\n      <td>...</td>\n      <td>NaN</td>\n      <td>NaN</td>\n      <td>NaN</td>\n      <td>NaN</td>\n      <td>NaN</td>\n      <td>NaN</td>\n      <td>NaN</td>\n      <td>NaN</td>\n      <td>NaN</td>\n      <td>NaN</td>\n    </tr>\n    <tr>\n      <th>3947</th>\n      <td>0.125262</td>\n      <td>-0.143949</td>\n      <td>-0.124911</td>\n      <td>0.007842</td>\n      <td>0.080374</td>\n      <td>-0.524426</td>\n      <td>0.090392</td>\n      <td>0.033255</td>\n      <td>0.234648</td>\n      <td>-0.137978</td>\n      <td>...</td>\n      <td>NaN</td>\n      <td>NaN</td>\n      <td>NaN</td>\n      <td>NaN</td>\n      <td>NaN</td>\n      <td>NaN</td>\n      <td>NaN</td>\n      <td>NaN</td>\n      <td>NaN</td>\n      <td>NaN</td>\n    </tr>\n    <tr>\n      <th>4373</th>\n      <td>1.065579</td>\n      <td>-0.134338</td>\n      <td>-0.424483</td>\n      <td>0.014997</td>\n      <td>-0.103470</td>\n      <td>-0.610555</td>\n      <td>0.210089</td>\n      <td>0.157245</td>\n      <td>-0.083689</td>\n      <td>-0.138122</td>\n      <td>...</td>\n      <td>NaN</td>\n      <td>NaN</td>\n      <td>NaN</td>\n      <td>NaN</td>\n      <td>NaN</td>\n      <td>NaN</td>\n      <td>NaN</td>\n      <td>NaN</td>\n      <td>NaN</td>\n      <td>NaN</td>\n    </tr>\n    <tr>\n      <th>2092</th>\n      <td>0.225971</td>\n      <td>0.253235</td>\n      <td>-0.143679</td>\n      <td>0.487785</td>\n      <td>0.414680</td>\n      <td>0.039114</td>\n      <td>0.088530</td>\n      <td>-0.058911</td>\n      <td>0.123355</td>\n      <td>0.308150</td>\n      <td>...</td>\n      <td>NaN</td>\n      <td>NaN</td>\n      <td>NaN</td>\n      <td>NaN</td>\n      <td>NaN</td>\n      <td>NaN</td>\n      <td>NaN</td>\n      <td>NaN</td>\n      <td>NaN</td>\n      <td>NaN</td>\n    </tr>\n    <tr>\n      <th>525</th>\n      <td>-0.055370</td>\n      <td>0.034809</td>\n      <td>0.132021</td>\n      <td>-0.186088</td>\n      <td>0.138906</td>\n      <td>-0.028076</td>\n      <td>0.170086</td>\n      <td>0.017266</td>\n      <td>-0.031659</td>\n      <td>-0.042254</td>\n      <td>...</td>\n      <td>NaN</td>\n      <td>NaN</td>\n      <td>NaN</td>\n      <td>NaN</td>\n      <td>NaN</td>\n      <td>NaN</td>\n      <td>NaN</td>\n      <td>NaN</td>\n      <td>NaN</td>\n      <td>NaN</td>\n    </tr>\n    <tr>\n      <th>4327</th>\n      <td>0.804538</td>\n      <td>-0.365379</td>\n      <td>0.335829</td>\n      <td>-2.000204</td>\n      <td>-0.278712</td>\n      <td>-0.448454</td>\n      <td>0.474781</td>\n      <td>0.107432</td>\n      <td>-0.546254</td>\n      <td>0.267519</td>\n      <td>...</td>\n      <td>NaN</td>\n      <td>NaN</td>\n      <td>NaN</td>\n      <td>NaN</td>\n      <td>NaN</td>\n      <td>NaN</td>\n      <td>NaN</td>\n      <td>NaN</td>\n      <td>NaN</td>\n      <td>NaN</td>\n    </tr>\n    <tr>\n      <th>3048</th>\n      <td>0.307641</td>\n      <td>0.273976</td>\n      <td>-0.603444</td>\n      <td>-0.109916</td>\n      <td>0.236619</td>\n      <td>0.154224</td>\n      <td>0.687846</td>\n      <td>-0.819597</td>\n      <td>-0.105569</td>\n      <td>-1.346810</td>\n      <td>...</td>\n      <td>NaN</td>\n      <td>NaN</td>\n      <td>NaN</td>\n      <td>NaN</td>\n      <td>NaN</td>\n      <td>NaN</td>\n      <td>NaN</td>\n      <td>NaN</td>\n      <td>NaN</td>\n      <td>NaN</td>\n    </tr>\n    <tr>\n      <th>2665</th>\n      <td>0.212213</td>\n      <td>-0.082370</td>\n      <td>0.059706</td>\n      <td>-0.053417</td>\n      <td>0.223374</td>\n      <td>-0.106200</td>\n      <td>0.180821</td>\n      <td>-0.201176</td>\n      <td>0.516400</td>\n      <td>-0.295822</td>\n      <td>...</td>\n      <td>NaN</td>\n      <td>NaN</td>\n      <td>NaN</td>\n      <td>NaN</td>\n      <td>NaN</td>\n      <td>NaN</td>\n      <td>NaN</td>\n      <td>NaN</td>\n      <td>NaN</td>\n      <td>NaN</td>\n    </tr>\n    <tr>\n      <th>4940</th>\n      <td>0.212651</td>\n      <td>0.074959</td>\n      <td>-0.029705</td>\n      <td>0.004693</td>\n      <td>-0.092700</td>\n      <td>-0.006127</td>\n      <td>0.291180</td>\n      <td>-0.052899</td>\n      <td>0.023834</td>\n      <td>-0.476892</td>\n      <td>...</td>\n      <td>NaN</td>\n      <td>NaN</td>\n      <td>NaN</td>\n      <td>NaN</td>\n      <td>NaN</td>\n      <td>NaN</td>\n      <td>NaN</td>\n      <td>NaN</td>\n      <td>NaN</td>\n      <td>NaN</td>\n    </tr>\n  </tbody>\n</table>\n<p>25 rows × 100 columns</p>\n</div>"
     },
     "execution_count": 160,
     "metadata": {},
     "output_type": "execute_result"
    }
   ],
   "source": [
    "trained_ratings"
   ],
   "metadata": {
    "collapsed": false,
    "pycharm": {
     "name": "#%%\n"
    }
   }
  },
  {
   "cell_type": "code",
   "execution_count": 161,
   "outputs": [
    {
     "data": {
      "text/plain": "          0         1         2         3         4         5         6   \\\n0  -0.428338 -0.209976  0.260807  0.204283 -0.206600 -0.058045 -0.466851   \n1  -0.054476  0.223218 -0.051131 -0.322571 -0.189049 -0.062393  0.131408   \n2   0.007418  0.137301 -0.002484 -0.107621  0.134853  0.111259 -0.179149   \n3  -0.263970  0.013308  0.519719 -1.331272  0.304139 -0.012671 -0.051123   \n4   0.063411  0.770136 -0.239552  0.178023 -0.029971 -0.014708  0.060638   \n5   0.083667  0.121878  0.019376  0.046830 -0.021056  0.027260 -0.151169   \n6  -0.056161  0.094842 -0.146596  1.333620 -0.319911 -0.035284 -0.545583   \n7   0.037578  0.038319 -0.072766  0.042526 -0.019462  0.009711  0.007864   \n8   0.038287 -0.052540  0.021634  0.019981 -0.037016 -0.008696 -0.104510   \n9   0.146520  0.299718 -0.054247  0.201576  0.085968 -0.001489  0.088208   \n10 -0.011942  0.344181  0.152382  0.908748 -0.617310 -0.151831 -1.657771   \n11 -0.223305  0.113752 -0.241444  1.529817 -0.177748 -0.006823 -0.724800   \n12 -0.243395 -0.193683  0.270112 -0.435884 -0.012879 -0.102852  0.055314   \n13 -0.200490 -0.032535 -0.029338 -0.706652 -0.027260 -0.029752  0.150487   \n14 -0.634568  0.891728  0.454216 -0.251663  0.382696  0.166554 -0.858988   \n15 -0.019066 -0.042534 -0.048167  0.104674  0.002893  0.011946  0.023880   \n16  0.154019  0.143298  0.006760 -0.100721 -0.103828  0.045383 -0.002215   \n17  0.001439  0.073025  0.040301  0.061101 -0.123967 -0.264705  0.035022   \n18 -0.594657  0.275603  0.216753 -0.128860 -0.137640 -0.257815 -0.098146   \n19 -0.015729 -0.109019 -0.048455 -0.201510 -0.040579 -0.023974  0.110746   \n20  0.038816 -0.008829 -0.073427  0.228501 -0.098086 -0.007630 -0.143503   \n21 -0.392718  0.620334  0.037318  1.523722  0.084536 -0.000737 -0.879636   \n22 -0.403754 -0.243350  0.427695  0.064845 -0.076784  0.144305 -0.655625   \n23  0.036338  0.074401 -0.074255  0.281407 -0.163347  0.045419 -0.101960   \n24 -0.171827  0.025934  0.060595  0.065660 -0.064265  0.004066 -0.149625   \n\n          7         8         9   ...  90  91  92  93  94  95  96  97  98  99  \n0   0.147196 -0.058078  0.703389  ... NaN NaN NaN NaN NaN NaN NaN NaN NaN NaN  \n1   0.400447 -0.526930  0.534636  ... NaN NaN NaN NaN NaN NaN NaN NaN NaN NaN  \n2   0.226687 -0.060826  0.159437  ... NaN NaN NaN NaN NaN NaN NaN NaN NaN NaN  \n3   0.457042  0.416373  0.640992  ... NaN NaN NaN NaN NaN NaN NaN NaN NaN NaN  \n4   0.000361  0.015936  0.127323  ... NaN NaN NaN NaN NaN NaN NaN NaN NaN NaN  \n5  -0.044960 -0.011081 -0.131363  ... NaN NaN NaN NaN NaN NaN NaN NaN NaN NaN  \n6  -0.000554 -0.357427  0.063204  ... NaN NaN NaN NaN NaN NaN NaN NaN NaN NaN  \n7  -0.040091 -0.018063 -0.050017  ... NaN NaN NaN NaN NaN NaN NaN NaN NaN NaN  \n8   0.027254  0.049071 -0.060059  ... NaN NaN NaN NaN NaN NaN NaN NaN NaN NaN  \n9   0.402828 -0.113898  0.086543  ... NaN NaN NaN NaN NaN NaN NaN NaN NaN NaN  \n10 -0.189843  1.420167 -0.280883  ... NaN NaN NaN NaN NaN NaN NaN NaN NaN NaN  \n11 -0.257553  0.162733  0.593204  ... NaN NaN NaN NaN NaN NaN NaN NaN NaN NaN  \n12  0.119957  0.445916 -0.207190  ... NaN NaN NaN NaN NaN NaN NaN NaN NaN NaN  \n13  0.229482  0.102405  0.497825  ... NaN NaN NaN NaN NaN NaN NaN NaN NaN NaN  \n14  0.462239  0.468435  1.770766  ... NaN NaN NaN NaN NaN NaN NaN NaN NaN NaN  \n15  0.227755 -0.344458  0.459109  ... NaN NaN NaN NaN NaN NaN NaN NaN NaN NaN  \n16  0.193700  0.165962 -0.253324  ... NaN NaN NaN NaN NaN NaN NaN NaN NaN NaN  \n17  0.026095 -0.067706  0.070294  ... NaN NaN NaN NaN NaN NaN NaN NaN NaN NaN  \n18  0.086478  0.300782  0.702279  ... NaN NaN NaN NaN NaN NaN NaN NaN NaN NaN  \n19  0.152131  0.043127 -0.024340  ... NaN NaN NaN NaN NaN NaN NaN NaN NaN NaN  \n20 -0.047555  0.059406 -0.045092  ... NaN NaN NaN NaN NaN NaN NaN NaN NaN NaN  \n21 -0.373356  0.311198  0.251569  ... NaN NaN NaN NaN NaN NaN NaN NaN NaN NaN  \n22  0.864918  0.412791  0.945877  ... NaN NaN NaN NaN NaN NaN NaN NaN NaN NaN  \n23  0.161211 -0.416043  0.266635  ... NaN NaN NaN NaN NaN NaN NaN NaN NaN NaN  \n24  0.154332  0.127821  0.420288  ... NaN NaN NaN NaN NaN NaN NaN NaN NaN NaN  \n\n[25 rows x 100 columns]",
      "text/html": "<div>\n<style scoped>\n    .dataframe tbody tr th:only-of-type {\n        vertical-align: middle;\n    }\n\n    .dataframe tbody tr th {\n        vertical-align: top;\n    }\n\n    .dataframe thead th {\n        text-align: right;\n    }\n</style>\n<table border=\"1\" class=\"dataframe\">\n  <thead>\n    <tr style=\"text-align: right;\">\n      <th></th>\n      <th>0</th>\n      <th>1</th>\n      <th>2</th>\n      <th>3</th>\n      <th>4</th>\n      <th>5</th>\n      <th>6</th>\n      <th>7</th>\n      <th>8</th>\n      <th>9</th>\n      <th>...</th>\n      <th>90</th>\n      <th>91</th>\n      <th>92</th>\n      <th>93</th>\n      <th>94</th>\n      <th>95</th>\n      <th>96</th>\n      <th>97</th>\n      <th>98</th>\n      <th>99</th>\n    </tr>\n  </thead>\n  <tbody>\n    <tr>\n      <th>0</th>\n      <td>-0.428338</td>\n      <td>-0.209976</td>\n      <td>0.260807</td>\n      <td>0.204283</td>\n      <td>-0.206600</td>\n      <td>-0.058045</td>\n      <td>-0.466851</td>\n      <td>0.147196</td>\n      <td>-0.058078</td>\n      <td>0.703389</td>\n      <td>...</td>\n      <td>NaN</td>\n      <td>NaN</td>\n      <td>NaN</td>\n      <td>NaN</td>\n      <td>NaN</td>\n      <td>NaN</td>\n      <td>NaN</td>\n      <td>NaN</td>\n      <td>NaN</td>\n      <td>NaN</td>\n    </tr>\n    <tr>\n      <th>1</th>\n      <td>-0.054476</td>\n      <td>0.223218</td>\n      <td>-0.051131</td>\n      <td>-0.322571</td>\n      <td>-0.189049</td>\n      <td>-0.062393</td>\n      <td>0.131408</td>\n      <td>0.400447</td>\n      <td>-0.526930</td>\n      <td>0.534636</td>\n      <td>...</td>\n      <td>NaN</td>\n      <td>NaN</td>\n      <td>NaN</td>\n      <td>NaN</td>\n      <td>NaN</td>\n      <td>NaN</td>\n      <td>NaN</td>\n      <td>NaN</td>\n      <td>NaN</td>\n      <td>NaN</td>\n    </tr>\n    <tr>\n      <th>2</th>\n      <td>0.007418</td>\n      <td>0.137301</td>\n      <td>-0.002484</td>\n      <td>-0.107621</td>\n      <td>0.134853</td>\n      <td>0.111259</td>\n      <td>-0.179149</td>\n      <td>0.226687</td>\n      <td>-0.060826</td>\n      <td>0.159437</td>\n      <td>...</td>\n      <td>NaN</td>\n      <td>NaN</td>\n      <td>NaN</td>\n      <td>NaN</td>\n      <td>NaN</td>\n      <td>NaN</td>\n      <td>NaN</td>\n      <td>NaN</td>\n      <td>NaN</td>\n      <td>NaN</td>\n    </tr>\n    <tr>\n      <th>3</th>\n      <td>-0.263970</td>\n      <td>0.013308</td>\n      <td>0.519719</td>\n      <td>-1.331272</td>\n      <td>0.304139</td>\n      <td>-0.012671</td>\n      <td>-0.051123</td>\n      <td>0.457042</td>\n      <td>0.416373</td>\n      <td>0.640992</td>\n      <td>...</td>\n      <td>NaN</td>\n      <td>NaN</td>\n      <td>NaN</td>\n      <td>NaN</td>\n      <td>NaN</td>\n      <td>NaN</td>\n      <td>NaN</td>\n      <td>NaN</td>\n      <td>NaN</td>\n      <td>NaN</td>\n    </tr>\n    <tr>\n      <th>4</th>\n      <td>0.063411</td>\n      <td>0.770136</td>\n      <td>-0.239552</td>\n      <td>0.178023</td>\n      <td>-0.029971</td>\n      <td>-0.014708</td>\n      <td>0.060638</td>\n      <td>0.000361</td>\n      <td>0.015936</td>\n      <td>0.127323</td>\n      <td>...</td>\n      <td>NaN</td>\n      <td>NaN</td>\n      <td>NaN</td>\n      <td>NaN</td>\n      <td>NaN</td>\n      <td>NaN</td>\n      <td>NaN</td>\n      <td>NaN</td>\n      <td>NaN</td>\n      <td>NaN</td>\n    </tr>\n    <tr>\n      <th>5</th>\n      <td>0.083667</td>\n      <td>0.121878</td>\n      <td>0.019376</td>\n      <td>0.046830</td>\n      <td>-0.021056</td>\n      <td>0.027260</td>\n      <td>-0.151169</td>\n      <td>-0.044960</td>\n      <td>-0.011081</td>\n      <td>-0.131363</td>\n      <td>...</td>\n      <td>NaN</td>\n      <td>NaN</td>\n      <td>NaN</td>\n      <td>NaN</td>\n      <td>NaN</td>\n      <td>NaN</td>\n      <td>NaN</td>\n      <td>NaN</td>\n      <td>NaN</td>\n      <td>NaN</td>\n    </tr>\n    <tr>\n      <th>6</th>\n      <td>-0.056161</td>\n      <td>0.094842</td>\n      <td>-0.146596</td>\n      <td>1.333620</td>\n      <td>-0.319911</td>\n      <td>-0.035284</td>\n      <td>-0.545583</td>\n      <td>-0.000554</td>\n      <td>-0.357427</td>\n      <td>0.063204</td>\n      <td>...</td>\n      <td>NaN</td>\n      <td>NaN</td>\n      <td>NaN</td>\n      <td>NaN</td>\n      <td>NaN</td>\n      <td>NaN</td>\n      <td>NaN</td>\n      <td>NaN</td>\n      <td>NaN</td>\n      <td>NaN</td>\n    </tr>\n    <tr>\n      <th>7</th>\n      <td>0.037578</td>\n      <td>0.038319</td>\n      <td>-0.072766</td>\n      <td>0.042526</td>\n      <td>-0.019462</td>\n      <td>0.009711</td>\n      <td>0.007864</td>\n      <td>-0.040091</td>\n      <td>-0.018063</td>\n      <td>-0.050017</td>\n      <td>...</td>\n      <td>NaN</td>\n      <td>NaN</td>\n      <td>NaN</td>\n      <td>NaN</td>\n      <td>NaN</td>\n      <td>NaN</td>\n      <td>NaN</td>\n      <td>NaN</td>\n      <td>NaN</td>\n      <td>NaN</td>\n    </tr>\n    <tr>\n      <th>8</th>\n      <td>0.038287</td>\n      <td>-0.052540</td>\n      <td>0.021634</td>\n      <td>0.019981</td>\n      <td>-0.037016</td>\n      <td>-0.008696</td>\n      <td>-0.104510</td>\n      <td>0.027254</td>\n      <td>0.049071</td>\n      <td>-0.060059</td>\n      <td>...</td>\n      <td>NaN</td>\n      <td>NaN</td>\n      <td>NaN</td>\n      <td>NaN</td>\n      <td>NaN</td>\n      <td>NaN</td>\n      <td>NaN</td>\n      <td>NaN</td>\n      <td>NaN</td>\n      <td>NaN</td>\n    </tr>\n    <tr>\n      <th>9</th>\n      <td>0.146520</td>\n      <td>0.299718</td>\n      <td>-0.054247</td>\n      <td>0.201576</td>\n      <td>0.085968</td>\n      <td>-0.001489</td>\n      <td>0.088208</td>\n      <td>0.402828</td>\n      <td>-0.113898</td>\n      <td>0.086543</td>\n      <td>...</td>\n      <td>NaN</td>\n      <td>NaN</td>\n      <td>NaN</td>\n      <td>NaN</td>\n      <td>NaN</td>\n      <td>NaN</td>\n      <td>NaN</td>\n      <td>NaN</td>\n      <td>NaN</td>\n      <td>NaN</td>\n    </tr>\n    <tr>\n      <th>10</th>\n      <td>-0.011942</td>\n      <td>0.344181</td>\n      <td>0.152382</td>\n      <td>0.908748</td>\n      <td>-0.617310</td>\n      <td>-0.151831</td>\n      <td>-1.657771</td>\n      <td>-0.189843</td>\n      <td>1.420167</td>\n      <td>-0.280883</td>\n      <td>...</td>\n      <td>NaN</td>\n      <td>NaN</td>\n      <td>NaN</td>\n      <td>NaN</td>\n      <td>NaN</td>\n      <td>NaN</td>\n      <td>NaN</td>\n      <td>NaN</td>\n      <td>NaN</td>\n      <td>NaN</td>\n    </tr>\n    <tr>\n      <th>11</th>\n      <td>-0.223305</td>\n      <td>0.113752</td>\n      <td>-0.241444</td>\n      <td>1.529817</td>\n      <td>-0.177748</td>\n      <td>-0.006823</td>\n      <td>-0.724800</td>\n      <td>-0.257553</td>\n      <td>0.162733</td>\n      <td>0.593204</td>\n      <td>...</td>\n      <td>NaN</td>\n      <td>NaN</td>\n      <td>NaN</td>\n      <td>NaN</td>\n      <td>NaN</td>\n      <td>NaN</td>\n      <td>NaN</td>\n      <td>NaN</td>\n      <td>NaN</td>\n      <td>NaN</td>\n    </tr>\n    <tr>\n      <th>12</th>\n      <td>-0.243395</td>\n      <td>-0.193683</td>\n      <td>0.270112</td>\n      <td>-0.435884</td>\n      <td>-0.012879</td>\n      <td>-0.102852</td>\n      <td>0.055314</td>\n      <td>0.119957</td>\n      <td>0.445916</td>\n      <td>-0.207190</td>\n      <td>...</td>\n      <td>NaN</td>\n      <td>NaN</td>\n      <td>NaN</td>\n      <td>NaN</td>\n      <td>NaN</td>\n      <td>NaN</td>\n      <td>NaN</td>\n      <td>NaN</td>\n      <td>NaN</td>\n      <td>NaN</td>\n    </tr>\n    <tr>\n      <th>13</th>\n      <td>-0.200490</td>\n      <td>-0.032535</td>\n      <td>-0.029338</td>\n      <td>-0.706652</td>\n      <td>-0.027260</td>\n      <td>-0.029752</td>\n      <td>0.150487</td>\n      <td>0.229482</td>\n      <td>0.102405</td>\n      <td>0.497825</td>\n      <td>...</td>\n      <td>NaN</td>\n      <td>NaN</td>\n      <td>NaN</td>\n      <td>NaN</td>\n      <td>NaN</td>\n      <td>NaN</td>\n      <td>NaN</td>\n      <td>NaN</td>\n      <td>NaN</td>\n      <td>NaN</td>\n    </tr>\n    <tr>\n      <th>14</th>\n      <td>-0.634568</td>\n      <td>0.891728</td>\n      <td>0.454216</td>\n      <td>-0.251663</td>\n      <td>0.382696</td>\n      <td>0.166554</td>\n      <td>-0.858988</td>\n      <td>0.462239</td>\n      <td>0.468435</td>\n      <td>1.770766</td>\n      <td>...</td>\n      <td>NaN</td>\n      <td>NaN</td>\n      <td>NaN</td>\n      <td>NaN</td>\n      <td>NaN</td>\n      <td>NaN</td>\n      <td>NaN</td>\n      <td>NaN</td>\n      <td>NaN</td>\n      <td>NaN</td>\n    </tr>\n    <tr>\n      <th>15</th>\n      <td>-0.019066</td>\n      <td>-0.042534</td>\n      <td>-0.048167</td>\n      <td>0.104674</td>\n      <td>0.002893</td>\n      <td>0.011946</td>\n      <td>0.023880</td>\n      <td>0.227755</td>\n      <td>-0.344458</td>\n      <td>0.459109</td>\n      <td>...</td>\n      <td>NaN</td>\n      <td>NaN</td>\n      <td>NaN</td>\n      <td>NaN</td>\n      <td>NaN</td>\n      <td>NaN</td>\n      <td>NaN</td>\n      <td>NaN</td>\n      <td>NaN</td>\n      <td>NaN</td>\n    </tr>\n    <tr>\n      <th>16</th>\n      <td>0.154019</td>\n      <td>0.143298</td>\n      <td>0.006760</td>\n      <td>-0.100721</td>\n      <td>-0.103828</td>\n      <td>0.045383</td>\n      <td>-0.002215</td>\n      <td>0.193700</td>\n      <td>0.165962</td>\n      <td>-0.253324</td>\n      <td>...</td>\n      <td>NaN</td>\n      <td>NaN</td>\n      <td>NaN</td>\n      <td>NaN</td>\n      <td>NaN</td>\n      <td>NaN</td>\n      <td>NaN</td>\n      <td>NaN</td>\n      <td>NaN</td>\n      <td>NaN</td>\n    </tr>\n    <tr>\n      <th>17</th>\n      <td>0.001439</td>\n      <td>0.073025</td>\n      <td>0.040301</td>\n      <td>0.061101</td>\n      <td>-0.123967</td>\n      <td>-0.264705</td>\n      <td>0.035022</td>\n      <td>0.026095</td>\n      <td>-0.067706</td>\n      <td>0.070294</td>\n      <td>...</td>\n      <td>NaN</td>\n      <td>NaN</td>\n      <td>NaN</td>\n      <td>NaN</td>\n      <td>NaN</td>\n      <td>NaN</td>\n      <td>NaN</td>\n      <td>NaN</td>\n      <td>NaN</td>\n      <td>NaN</td>\n    </tr>\n    <tr>\n      <th>18</th>\n      <td>-0.594657</td>\n      <td>0.275603</td>\n      <td>0.216753</td>\n      <td>-0.128860</td>\n      <td>-0.137640</td>\n      <td>-0.257815</td>\n      <td>-0.098146</td>\n      <td>0.086478</td>\n      <td>0.300782</td>\n      <td>0.702279</td>\n      <td>...</td>\n      <td>NaN</td>\n      <td>NaN</td>\n      <td>NaN</td>\n      <td>NaN</td>\n      <td>NaN</td>\n      <td>NaN</td>\n      <td>NaN</td>\n      <td>NaN</td>\n      <td>NaN</td>\n      <td>NaN</td>\n    </tr>\n    <tr>\n      <th>19</th>\n      <td>-0.015729</td>\n      <td>-0.109019</td>\n      <td>-0.048455</td>\n      <td>-0.201510</td>\n      <td>-0.040579</td>\n      <td>-0.023974</td>\n      <td>0.110746</td>\n      <td>0.152131</td>\n      <td>0.043127</td>\n      <td>-0.024340</td>\n      <td>...</td>\n      <td>NaN</td>\n      <td>NaN</td>\n      <td>NaN</td>\n      <td>NaN</td>\n      <td>NaN</td>\n      <td>NaN</td>\n      <td>NaN</td>\n      <td>NaN</td>\n      <td>NaN</td>\n      <td>NaN</td>\n    </tr>\n    <tr>\n      <th>20</th>\n      <td>0.038816</td>\n      <td>-0.008829</td>\n      <td>-0.073427</td>\n      <td>0.228501</td>\n      <td>-0.098086</td>\n      <td>-0.007630</td>\n      <td>-0.143503</td>\n      <td>-0.047555</td>\n      <td>0.059406</td>\n      <td>-0.045092</td>\n      <td>...</td>\n      <td>NaN</td>\n      <td>NaN</td>\n      <td>NaN</td>\n      <td>NaN</td>\n      <td>NaN</td>\n      <td>NaN</td>\n      <td>NaN</td>\n      <td>NaN</td>\n      <td>NaN</td>\n      <td>NaN</td>\n    </tr>\n    <tr>\n      <th>21</th>\n      <td>-0.392718</td>\n      <td>0.620334</td>\n      <td>0.037318</td>\n      <td>1.523722</td>\n      <td>0.084536</td>\n      <td>-0.000737</td>\n      <td>-0.879636</td>\n      <td>-0.373356</td>\n      <td>0.311198</td>\n      <td>0.251569</td>\n      <td>...</td>\n      <td>NaN</td>\n      <td>NaN</td>\n      <td>NaN</td>\n      <td>NaN</td>\n      <td>NaN</td>\n      <td>NaN</td>\n      <td>NaN</td>\n      <td>NaN</td>\n      <td>NaN</td>\n      <td>NaN</td>\n    </tr>\n    <tr>\n      <th>22</th>\n      <td>-0.403754</td>\n      <td>-0.243350</td>\n      <td>0.427695</td>\n      <td>0.064845</td>\n      <td>-0.076784</td>\n      <td>0.144305</td>\n      <td>-0.655625</td>\n      <td>0.864918</td>\n      <td>0.412791</td>\n      <td>0.945877</td>\n      <td>...</td>\n      <td>NaN</td>\n      <td>NaN</td>\n      <td>NaN</td>\n      <td>NaN</td>\n      <td>NaN</td>\n      <td>NaN</td>\n      <td>NaN</td>\n      <td>NaN</td>\n      <td>NaN</td>\n      <td>NaN</td>\n    </tr>\n    <tr>\n      <th>23</th>\n      <td>0.036338</td>\n      <td>0.074401</td>\n      <td>-0.074255</td>\n      <td>0.281407</td>\n      <td>-0.163347</td>\n      <td>0.045419</td>\n      <td>-0.101960</td>\n      <td>0.161211</td>\n      <td>-0.416043</td>\n      <td>0.266635</td>\n      <td>...</td>\n      <td>NaN</td>\n      <td>NaN</td>\n      <td>NaN</td>\n      <td>NaN</td>\n      <td>NaN</td>\n      <td>NaN</td>\n      <td>NaN</td>\n      <td>NaN</td>\n      <td>NaN</td>\n      <td>NaN</td>\n    </tr>\n    <tr>\n      <th>24</th>\n      <td>-0.171827</td>\n      <td>0.025934</td>\n      <td>0.060595</td>\n      <td>0.065660</td>\n      <td>-0.064265</td>\n      <td>0.004066</td>\n      <td>-0.149625</td>\n      <td>0.154332</td>\n      <td>0.127821</td>\n      <td>0.420288</td>\n      <td>...</td>\n      <td>NaN</td>\n      <td>NaN</td>\n      <td>NaN</td>\n      <td>NaN</td>\n      <td>NaN</td>\n      <td>NaN</td>\n      <td>NaN</td>\n      <td>NaN</td>\n      <td>NaN</td>\n      <td>NaN</td>\n    </tr>\n  </tbody>\n</table>\n<p>25 rows × 100 columns</p>\n</div>"
     },
     "execution_count": 161,
     "metadata": {},
     "output_type": "execute_result"
    }
   ],
   "source": [
    "pred_trained: pd.DataFrame = pd.DataFrame(predictions.values - trained_ratings.values)\n",
    "\n",
    "\n",
    "pred_trained"
   ],
   "metadata": {
    "collapsed": false,
    "pycharm": {
     "name": "#%%\n"
    }
   }
  },
  {
   "cell_type": "code",
   "execution_count": 162,
   "outputs": [
    {
     "data": {
      "text/plain": "              0          1          2          3          4          5   \\\ncount  25.000000  25.000000  25.000000  25.000000  25.000000  25.000000   \nmean   -0.124276   0.134740   0.056232   0.128342  -0.058867  -0.018940   \nstd     0.222510   0.281445   0.200366   0.640171   0.191001   0.099538   \nmin    -0.634568  -0.243350  -0.241444  -1.331272  -0.617310  -0.264705   \n25%    -0.243395  -0.032535  -0.054247  -0.128860  -0.137640  -0.035284   \n50%    -0.019066   0.074401   0.006760   0.061101  -0.040579  -0.007630   \n75%     0.037578   0.223218   0.152382   0.204283  -0.012879   0.011946   \nmax     0.154019   0.891728   0.519719   1.529817   0.382696   0.166554   \n\n              6          7          8          9   ...   90   91   92   93  \\\ncount  25.000000  25.000000  25.000000  25.000000  ...  0.0  0.0  0.0  0.0   \nmean   -0.244283   0.135448   0.101105   0.289644  ...  NaN  NaN  NaN  NaN   \nstd     0.430058   0.257683   0.383069   0.456854  ...  NaN  NaN  NaN  NaN   \nmin    -1.657771  -0.373356  -0.526930  -0.280883  ...  NaN  NaN  NaN  NaN   \n25%    -0.466851  -0.000554  -0.060826  -0.045092  ...  NaN  NaN  NaN  NaN   \n50%    -0.101960   0.147196   0.049071   0.159437  ...  NaN  NaN  NaN  NaN   \n75%     0.035022   0.227755   0.300782   0.534636  ...  NaN  NaN  NaN  NaN   \nmax     0.150487   0.864918   1.420167   1.770766  ...  NaN  NaN  NaN  NaN   \n\n        94   95   96   97   98   99  \ncount  0.0  0.0  0.0  0.0  0.0  0.0  \nmean   NaN  NaN  NaN  NaN  NaN  NaN  \nstd    NaN  NaN  NaN  NaN  NaN  NaN  \nmin    NaN  NaN  NaN  NaN  NaN  NaN  \n25%    NaN  NaN  NaN  NaN  NaN  NaN  \n50%    NaN  NaN  NaN  NaN  NaN  NaN  \n75%    NaN  NaN  NaN  NaN  NaN  NaN  \nmax    NaN  NaN  NaN  NaN  NaN  NaN  \n\n[8 rows x 100 columns]",
      "text/html": "<div>\n<style scoped>\n    .dataframe tbody tr th:only-of-type {\n        vertical-align: middle;\n    }\n\n    .dataframe tbody tr th {\n        vertical-align: top;\n    }\n\n    .dataframe thead th {\n        text-align: right;\n    }\n</style>\n<table border=\"1\" class=\"dataframe\">\n  <thead>\n    <tr style=\"text-align: right;\">\n      <th></th>\n      <th>0</th>\n      <th>1</th>\n      <th>2</th>\n      <th>3</th>\n      <th>4</th>\n      <th>5</th>\n      <th>6</th>\n      <th>7</th>\n      <th>8</th>\n      <th>9</th>\n      <th>...</th>\n      <th>90</th>\n      <th>91</th>\n      <th>92</th>\n      <th>93</th>\n      <th>94</th>\n      <th>95</th>\n      <th>96</th>\n      <th>97</th>\n      <th>98</th>\n      <th>99</th>\n    </tr>\n  </thead>\n  <tbody>\n    <tr>\n      <th>count</th>\n      <td>25.000000</td>\n      <td>25.000000</td>\n      <td>25.000000</td>\n      <td>25.000000</td>\n      <td>25.000000</td>\n      <td>25.000000</td>\n      <td>25.000000</td>\n      <td>25.000000</td>\n      <td>25.000000</td>\n      <td>25.000000</td>\n      <td>...</td>\n      <td>0.0</td>\n      <td>0.0</td>\n      <td>0.0</td>\n      <td>0.0</td>\n      <td>0.0</td>\n      <td>0.0</td>\n      <td>0.0</td>\n      <td>0.0</td>\n      <td>0.0</td>\n      <td>0.0</td>\n    </tr>\n    <tr>\n      <th>mean</th>\n      <td>-0.124276</td>\n      <td>0.134740</td>\n      <td>0.056232</td>\n      <td>0.128342</td>\n      <td>-0.058867</td>\n      <td>-0.018940</td>\n      <td>-0.244283</td>\n      <td>0.135448</td>\n      <td>0.101105</td>\n      <td>0.289644</td>\n      <td>...</td>\n      <td>NaN</td>\n      <td>NaN</td>\n      <td>NaN</td>\n      <td>NaN</td>\n      <td>NaN</td>\n      <td>NaN</td>\n      <td>NaN</td>\n      <td>NaN</td>\n      <td>NaN</td>\n      <td>NaN</td>\n    </tr>\n    <tr>\n      <th>std</th>\n      <td>0.222510</td>\n      <td>0.281445</td>\n      <td>0.200366</td>\n      <td>0.640171</td>\n      <td>0.191001</td>\n      <td>0.099538</td>\n      <td>0.430058</td>\n      <td>0.257683</td>\n      <td>0.383069</td>\n      <td>0.456854</td>\n      <td>...</td>\n      <td>NaN</td>\n      <td>NaN</td>\n      <td>NaN</td>\n      <td>NaN</td>\n      <td>NaN</td>\n      <td>NaN</td>\n      <td>NaN</td>\n      <td>NaN</td>\n      <td>NaN</td>\n      <td>NaN</td>\n    </tr>\n    <tr>\n      <th>min</th>\n      <td>-0.634568</td>\n      <td>-0.243350</td>\n      <td>-0.241444</td>\n      <td>-1.331272</td>\n      <td>-0.617310</td>\n      <td>-0.264705</td>\n      <td>-1.657771</td>\n      <td>-0.373356</td>\n      <td>-0.526930</td>\n      <td>-0.280883</td>\n      <td>...</td>\n      <td>NaN</td>\n      <td>NaN</td>\n      <td>NaN</td>\n      <td>NaN</td>\n      <td>NaN</td>\n      <td>NaN</td>\n      <td>NaN</td>\n      <td>NaN</td>\n      <td>NaN</td>\n      <td>NaN</td>\n    </tr>\n    <tr>\n      <th>25%</th>\n      <td>-0.243395</td>\n      <td>-0.032535</td>\n      <td>-0.054247</td>\n      <td>-0.128860</td>\n      <td>-0.137640</td>\n      <td>-0.035284</td>\n      <td>-0.466851</td>\n      <td>-0.000554</td>\n      <td>-0.060826</td>\n      <td>-0.045092</td>\n      <td>...</td>\n      <td>NaN</td>\n      <td>NaN</td>\n      <td>NaN</td>\n      <td>NaN</td>\n      <td>NaN</td>\n      <td>NaN</td>\n      <td>NaN</td>\n      <td>NaN</td>\n      <td>NaN</td>\n      <td>NaN</td>\n    </tr>\n    <tr>\n      <th>50%</th>\n      <td>-0.019066</td>\n      <td>0.074401</td>\n      <td>0.006760</td>\n      <td>0.061101</td>\n      <td>-0.040579</td>\n      <td>-0.007630</td>\n      <td>-0.101960</td>\n      <td>0.147196</td>\n      <td>0.049071</td>\n      <td>0.159437</td>\n      <td>...</td>\n      <td>NaN</td>\n      <td>NaN</td>\n      <td>NaN</td>\n      <td>NaN</td>\n      <td>NaN</td>\n      <td>NaN</td>\n      <td>NaN</td>\n      <td>NaN</td>\n      <td>NaN</td>\n      <td>NaN</td>\n    </tr>\n    <tr>\n      <th>75%</th>\n      <td>0.037578</td>\n      <td>0.223218</td>\n      <td>0.152382</td>\n      <td>0.204283</td>\n      <td>-0.012879</td>\n      <td>0.011946</td>\n      <td>0.035022</td>\n      <td>0.227755</td>\n      <td>0.300782</td>\n      <td>0.534636</td>\n      <td>...</td>\n      <td>NaN</td>\n      <td>NaN</td>\n      <td>NaN</td>\n      <td>NaN</td>\n      <td>NaN</td>\n      <td>NaN</td>\n      <td>NaN</td>\n      <td>NaN</td>\n      <td>NaN</td>\n      <td>NaN</td>\n    </tr>\n    <tr>\n      <th>max</th>\n      <td>0.154019</td>\n      <td>0.891728</td>\n      <td>0.519719</td>\n      <td>1.529817</td>\n      <td>0.382696</td>\n      <td>0.166554</td>\n      <td>0.150487</td>\n      <td>0.864918</td>\n      <td>1.420167</td>\n      <td>1.770766</td>\n      <td>...</td>\n      <td>NaN</td>\n      <td>NaN</td>\n      <td>NaN</td>\n      <td>NaN</td>\n      <td>NaN</td>\n      <td>NaN</td>\n      <td>NaN</td>\n      <td>NaN</td>\n      <td>NaN</td>\n      <td>NaN</td>\n    </tr>\n  </tbody>\n</table>\n<p>8 rows × 100 columns</p>\n</div>"
     },
     "execution_count": 162,
     "metadata": {},
     "output_type": "execute_result"
    }
   ],
   "source": [
    "pred_trained.describe()\n"
   ],
   "metadata": {
    "collapsed": false,
    "pycharm": {
     "name": "#%%\n"
    }
   }
  },
  {
   "cell_type": "code",
   "execution_count": 171,
   "outputs": [],
   "source": [
    "values = [\n",
    "    zip(trained_ratings[i], predictions[i])\n",
    "    for i in predictions.columns.values\n",
    "]\n",
    "comparison_data: pd.DataFrame = pd.DataFrame(values)\n",
    "#comparison_data.columns = data.columns\n"
   ],
   "metadata": {
    "collapsed": false,
    "pycharm": {
     "name": "#%%\n"
    }
   }
  },
  {
   "cell_type": "code",
   "execution_count": 172,
   "outputs": [
    {
     "data": {
      "text/plain": "                                             0   \\\n0      (1.0758658101649137, 0.6475279176527022)   \n1    (0.49071264831648176, 0.28073693584028725)   \n2    (-0.514578191563571, -0.25377140055724295)   \n3   (-0.3703265218330274, -0.16604372767877126)   \n4   (-0.08836942705898741, -0.2949692024941475)   \n..                                          ...   \n95                     (nan, 0.426873203201182)   \n96                   (nan, 0.08804621858819954)   \n97                  (nan, -0.28460946859728176)   \n98                   (nan, -0.3654767370558824)   \n99                   (nan, 0.09712786543508112)   \n\n                                              1   \\\n0       (0.5107669284264952, 0.4562912124291363)   \n1    (-0.12506848830463702, 0.09814918056413985)   \n2   (-0.15196877590348545, -0.20309964494558497)   \n3       (0.5179297697515699, 0.1953589154585705)   \n4    (0.18968696831776002, 0.000637898572780394)   \n..                                           ...   \n95                   (nan, -0.07980123574598635)   \n96                   (nan, -0.13164698717897813)   \n97                   (nan, -0.25772001032642583)   \n98                   (nan, -0.36871982723597035)   \n99                   (nan, -0.12482092154971416)   \n\n                                              2   \\\n0      (0.045007688300748055, 0.052425472619597)   \n1    (-0.05996840216776039, 0.07733224978657441)   \n2   (-0.03639548489365921, -0.03887933284290204)   \n3     (0.24756013790854714, 0.13993875197821182)   \n4     (0.26563453899399375, 0.40048708239078473)   \n..                                           ...   \n95                    (nan, 0.04080636787408697)   \n96                    (nan, 0.26382172232976225)   \n97                   (nan, -0.09957810073805043)   \n98                   (nan, -0.11695070395842222)   \n99                   (nan, -0.15475229894236153)   \n\n                                              3   \\\n0    (-0.07572176257045696, -0.3396916776393251)   \n1   (-0.05216619321257909, -0.03885797867748317)   \n2    (-0.35358448304621354, 0.16613494746011587)   \n3       (1.8589625635968519, 0.5276903308871039)   \n4      (-0.0633464616421604, 0.2407926776602226)   \n..                                           ...   \n95                   (nan, -0.24564030621888908)   \n96                   (nan, -0.13376719019367897)   \n97                  (nan, -0.059555666649220816)   \n98                    (nan, -0.0418117716784366)   \n99                    (nan, -0.4725334771150041)   \n\n                                                4   \\\n0     (-0.21154872369774647, -0.14813774059402215)   \n1       (-0.5112962864391648, 0.25883956973947947)   \n2       (0.1492589639044261, -0.09029284521133281)   \n3     (-0.2156232469953096, -0.037600218898158684)   \n4   (0.0034849785902189845, -0.026486037863977813)   \n..                                             ...   \n95                       (nan, 0.2366221006612915)   \n96                        (nan, 0.276180986352414)   \n97                      (nan, 0.20336500826014214)   \n98                      (nan, 0.20619945379383037)   \n99                      (nan, -0.2085066595832082)   \n\n                                               5   \\\n0     (-0.1282253332042605, -0.04455801943693378)   \n1    (-0.055323892856136765, 0.06655420982061627)   \n2   (-0.01789032315430581, 0.0014856355914944824)   \n3      (0.01857321747309184, 0.06540341658683468)   \n4        (0.1617856534868373, 0.1407301210335009)   \n..                                            ...   \n95                     (nan, 0.03275209366689344)   \n96                     (nan, 0.08208138447712922)   \n97                    (nan, -0.14221224207795424)   \n98                    (nan, -0.09484120436637841)   \n99                    (nan, -0.11028978691832812)   \n\n                                              6   \\\n0       (0.9289827867793355, 0.8728221669752763)   \n1       (0.3264372101232124, 0.4212787252246851)   \n2    (-0.0653104827938566, -0.21190660704953335)   \n3      (-1.9924328167852674, -0.658812827577213)   \n4   (0.032120254499062806, -0.28779051666353345)   \n..                                           ...   \n95                      (nan, 0.484615074866599)   \n96                    (nan, 0.25198652448840253)   \n97                    (nan, -0.0750783226909617)   \n98                   (nan, -0.29719375827037464)   \n99                    (nan, 0.30932540382104595)   \n\n                                                7   \\\n0   (-0.03954520226214034, -0.0019667836461362007)   \n1     (-0.0475955923501756, -0.009276511788633729)   \n2       (0.09907837413201344, 0.02631237823568935)   \n3     (0.017029778487458905, 0.059556073276464526)   \n4     (0.050608312301482966, 0.031146316853939284)   \n..                                             ...   \n95                    (nan, -0.058809257846423955)   \n96                     (nan, 0.038098829664150964)   \n97                     (nan, -0.09903048125067697)   \n98                     (nan, -0.08463242066526945)   \n99                     (nan, 0.003549011557228826)   \n\n                                               8   \\\n0   (-0.060359741766864955, -0.02207282023743043)   \n1    (0.019269700170511814, -0.03327029843010993)   \n2     (0.010935657033179932, 0.03256977575259193)   \n3     (0.021892631145999698, 0.04187406377669062)   \n4   (0.038589087577678066, 0.0015726684942462014)   \n..                                            ...   \n95                    (nan, -0.07036125389392915)   \n96                   (nan, 0.0040718332134214025)   \n97                    (nan, -0.05173277619541776)   \n98                   (nan, -0.048028262216283424)   \n99                    (nan, -0.04361865187022296)   \n\n                                               9   ...  \\\n0   (-0.14860447504878796, -0.002084575807038979)  ...   \n1     (-0.07796000808794651, 0.22175816686833877)  ...   \n2    (-0.11615252960004732, -0.17039963829332003)  ...   \n3     (-0.09469973350853758, 0.10687644096218837)  ...   \n4       (0.26777443235213993, 0.3537426932521456)  ...   \n..                                            ...  ...   \n95                     (nan, 0.10467481513535734)  ...   \n96                     (nan, 0.07070707174441541)  ...   \n97                    (nan, 0.002344074312547195)  ...   \n98                     (nan, 0.01319548383529899)  ...   \n99                    (nan, -0.35652919727353377)  ...   \n\n                                              15  \\\n0     (0.17840710699561912, 0.15934074297286346)   \n1   (0.03407908653356848, -0.008454689073913417)   \n2    (0.01665737218738527, -0.03150971991105411)   \n3     (0.04553260906565146, 0.15020618363496857)   \n4   (-0.06520508562048817, -0.06231240300261426)   \n..                                           ...   \n95                   (nan, -0.03198586195856866)   \n96                    (nan, 0.07640870510292556)   \n97                   (nan, -0.01277658576629758)   \n98                    (nan, 0.01581606936337516)   \n99                    (nan, -0.1616097127275117)   \n\n                                              16  \\\n0   (-0.32723079080280715, -0.17321133219076726)   \n1   (-0.035768425197107975, 0.10752919853865119)   \n2   (-0.12919858825976435, -0.12243879517666421)   \n3      (0.23244150573641598, 0.1317206823413683)   \n4    (0.12501418926609148, 0.021185999301573086)   \n..                                           ...   \n95                  (nan, -0.007600665113683113)   \n96                  (nan, -0.040936127272820574)   \n97                   (nan, -0.19258508696797388)   \n98                   (nan, -0.13610508235360988)   \n99                   (nan, -0.24863340033254275)   \n\n                                              17  \\\n0      (0.12526186292756158, 0.1267006282475712)   \n1   (-0.14394949579247912, -0.07092423986388768)   \n2   (-0.12491061997174097, -0.08460942889549612)   \n3    (0.007842373892269883, 0.06894367395240501)   \n4     (0.0803742221482486, -0.04359233611378681)   \n..                                           ...   \n95                   (nan, -0.06504273963388071)   \n96                   (nan, -0.22882436580247353)   \n97                    (nan, 0.03460201175805202)   \n98                    (nan, 0.03761230381159947)   \n99                   (nan, -0.08909754757181622)   \n\n                                              18  \\\n0       (1.0655785146297094, 0.4709215831358006)   \n1      (-0.1343383705808876, 0.1412643021736394)   \n2   (-0.42448267481346896, -0.20772985223525237)   \n3    (0.01499687339095146, -0.11386354024034119)   \n4    (-0.1034701334099616, -0.24111061063159053)   \n..                                           ...   \n95                    (nan, 0.24903507191365087)   \n96                    (nan, -0.3739622249473236)   \n97                    (nan, 0.02493403360447113)   \n98                   (nan, -0.12077983373635645)   \n99                     (nan, 0.1934869209642101)   \n\n                                             19  \\\n0    (0.22597098567117974, 0.21024218214927887)   \n1     (0.25323484119694684, 0.1442157992138058)   \n2   (-0.14367941985374022, -0.1921339357233856)   \n3    (0.48778482288839453, 0.28627520910463616)   \n4      (0.4146803112114069, 0.3741016679094001)   \n..                                          ...   \n95                  (nan, 0.005543302606580408)   \n96                   (nan, 0.10364231531691058)   \n97                   (nan, -0.6068439734297122)   \n98                   (nan, -0.6129897225741098)   \n99                 (nan, 0.0049783132989152275)   \n\n                                                20  \\\n0   (-0.055370387512947095, -0.016554139753538706)   \n1      (0.03480907214253558, 0.025979812706269142)   \n2       (0.13202104614651378, 0.05859360153130513)   \n3     (-0.18608846014764974, 0.042412098607838705)   \n4       (0.1389056343429073, 0.040819439270827575)   \n..                                             ...   \n95                     (nan, -0.04385241915097821)   \n96                      (nan, 0.09859475421189531)   \n97                     (nan, -0.12436720992159658)   \n98                     (nan, -0.13205043770664904)   \n99                     (nan, 0.008520315300987076)   \n\n                                              21  \\\n0      (0.8045375250993225, 0.41181923507554596)   \n1     (-0.3653791592364735, 0.25495500595315923)   \n2      (0.3358286678801888, 0.37314690112045074)   \n3     (-2.0002042442158405, -0.4764821398695455)   \n4   (-0.27871152037034314, -0.19417577078365197)   \n..                                           ...   \n95                    (nan, 0.32454220844705084)   \n96                    (nan, 0.09579429124430766)   \n97                    (nan, 0.29501992886693296)   \n98                     (nan, 0.1886312252552117)   \n99                    (nan, 0.28984330125864416)   \n\n                                              22  \\\n0     (0.3076411982459665, -0.09611301651666931)   \n1      (0.273975870536001, 0.030626302108868218)   \n2    (-0.6034441843058787, -0.17574949020305683)   \n3   (-0.10991577209461195, -0.04507078365994068)   \n4      (0.23661903262694006, 0.1598352026176729)   \n..                                           ...   \n95                    (nan, 0.08018626302768445)   \n96                   (nan, -0.32261590852358435)   \n97                     (nan, 0.3036917716705513)   \n98                     (nan, 0.2484189354096902)   \n99                   (nan, -0.44590536211091863)   \n\n                                              23  \\\n0      (0.2122131621226882, 0.24855077721027122)   \n1   (-0.08237029580723865, -0.00796972063356266)   \n2   (0.05970610108894871, -0.014549382388321984)   \n3    (-0.05341738577543431, 0.22798978221826388)   \n4     (0.22337430925434001, 0.06002764701096145)   \n..                                           ...   \n95                   (nan, -0.22082128638904489)   \n96                   (nan, -0.22017008223227522)   \n97                    (nan, -0.4055675868512681)   \n98                   (nan, -0.32331865375936497)   \n99                   (nan, -0.20434133809694388)   \n\n                                              24  \n0      (0.2126509169881207, 0.04082440011799531)  \n1      (0.07495853389071847, 0.1008920372059679)  \n2     (-0.0297052348336908, 0.03088956548591958)  \n3    (0.004692881044760108, 0.07035301743732031)  \n4   (-0.09269951418321953, -0.15696451260930103)  \n..                                           ...  \n95                    (nan, 0.01316439851453213)  \n96                   (nan, 0.008575071905991681)  \n97                   (nan, -0.07809032279455438)  \n98                   (nan, -0.09106627170361307)  \n99                   (nan, -0.10258505278536216)  \n\n[100 rows x 25 columns]",
      "text/html": "<div>\n<style scoped>\n    .dataframe tbody tr th:only-of-type {\n        vertical-align: middle;\n    }\n\n    .dataframe tbody tr th {\n        vertical-align: top;\n    }\n\n    .dataframe thead th {\n        text-align: right;\n    }\n</style>\n<table border=\"1\" class=\"dataframe\">\n  <thead>\n    <tr style=\"text-align: right;\">\n      <th></th>\n      <th>0</th>\n      <th>1</th>\n      <th>2</th>\n      <th>3</th>\n      <th>4</th>\n      <th>5</th>\n      <th>6</th>\n      <th>7</th>\n      <th>8</th>\n      <th>9</th>\n      <th>...</th>\n      <th>15</th>\n      <th>16</th>\n      <th>17</th>\n      <th>18</th>\n      <th>19</th>\n      <th>20</th>\n      <th>21</th>\n      <th>22</th>\n      <th>23</th>\n      <th>24</th>\n    </tr>\n  </thead>\n  <tbody>\n    <tr>\n      <th>0</th>\n      <td>(1.0758658101649137, 0.6475279176527022)</td>\n      <td>(0.5107669284264952, 0.4562912124291363)</td>\n      <td>(0.045007688300748055, 0.052425472619597)</td>\n      <td>(-0.07572176257045696, -0.3396916776393251)</td>\n      <td>(-0.21154872369774647, -0.14813774059402215)</td>\n      <td>(-0.1282253332042605, -0.04455801943693378)</td>\n      <td>(0.9289827867793355, 0.8728221669752763)</td>\n      <td>(-0.03954520226214034, -0.0019667836461362007)</td>\n      <td>(-0.060359741766864955, -0.02207282023743043)</td>\n      <td>(-0.14860447504878796, -0.002084575807038979)</td>\n      <td>...</td>\n      <td>(0.17840710699561912, 0.15934074297286346)</td>\n      <td>(-0.32723079080280715, -0.17321133219076726)</td>\n      <td>(0.12526186292756158, 0.1267006282475712)</td>\n      <td>(1.0655785146297094, 0.4709215831358006)</td>\n      <td>(0.22597098567117974, 0.21024218214927887)</td>\n      <td>(-0.055370387512947095, -0.016554139753538706)</td>\n      <td>(0.8045375250993225, 0.41181923507554596)</td>\n      <td>(0.3076411982459665, -0.09611301651666931)</td>\n      <td>(0.2122131621226882, 0.24855077721027122)</td>\n      <td>(0.2126509169881207, 0.04082440011799531)</td>\n    </tr>\n    <tr>\n      <th>1</th>\n      <td>(0.49071264831648176, 0.28073693584028725)</td>\n      <td>(-0.12506848830463702, 0.09814918056413985)</td>\n      <td>(-0.05996840216776039, 0.07733224978657441)</td>\n      <td>(-0.05216619321257909, -0.03885797867748317)</td>\n      <td>(-0.5112962864391648, 0.25883956973947947)</td>\n      <td>(-0.055323892856136765, 0.06655420982061627)</td>\n      <td>(0.3264372101232124, 0.4212787252246851)</td>\n      <td>(-0.0475955923501756, -0.009276511788633729)</td>\n      <td>(0.019269700170511814, -0.03327029843010993)</td>\n      <td>(-0.07796000808794651, 0.22175816686833877)</td>\n      <td>...</td>\n      <td>(0.03407908653356848, -0.008454689073913417)</td>\n      <td>(-0.035768425197107975, 0.10752919853865119)</td>\n      <td>(-0.14394949579247912, -0.07092423986388768)</td>\n      <td>(-0.1343383705808876, 0.1412643021736394)</td>\n      <td>(0.25323484119694684, 0.1442157992138058)</td>\n      <td>(0.03480907214253558, 0.025979812706269142)</td>\n      <td>(-0.3653791592364735, 0.25495500595315923)</td>\n      <td>(0.273975870536001, 0.030626302108868218)</td>\n      <td>(-0.08237029580723865, -0.00796972063356266)</td>\n      <td>(0.07495853389071847, 0.1008920372059679)</td>\n    </tr>\n    <tr>\n      <th>2</th>\n      <td>(-0.514578191563571, -0.25377140055724295)</td>\n      <td>(-0.15196877590348545, -0.20309964494558497)</td>\n      <td>(-0.03639548489365921, -0.03887933284290204)</td>\n      <td>(-0.35358448304621354, 0.16613494746011587)</td>\n      <td>(0.1492589639044261, -0.09029284521133281)</td>\n      <td>(-0.01789032315430581, 0.0014856355914944824)</td>\n      <td>(-0.0653104827938566, -0.21190660704953335)</td>\n      <td>(0.09907837413201344, 0.02631237823568935)</td>\n      <td>(0.010935657033179932, 0.03256977575259193)</td>\n      <td>(-0.11615252960004732, -0.17039963829332003)</td>\n      <td>...</td>\n      <td>(0.01665737218738527, -0.03150971991105411)</td>\n      <td>(-0.12919858825976435, -0.12243879517666421)</td>\n      <td>(-0.12491061997174097, -0.08460942889549612)</td>\n      <td>(-0.42448267481346896, -0.20772985223525237)</td>\n      <td>(-0.14367941985374022, -0.1921339357233856)</td>\n      <td>(0.13202104614651378, 0.05859360153130513)</td>\n      <td>(0.3358286678801888, 0.37314690112045074)</td>\n      <td>(-0.6034441843058787, -0.17574949020305683)</td>\n      <td>(0.05970610108894871, -0.014549382388321984)</td>\n      <td>(-0.0297052348336908, 0.03088956548591958)</td>\n    </tr>\n    <tr>\n      <th>3</th>\n      <td>(-0.3703265218330274, -0.16604372767877126)</td>\n      <td>(0.5179297697515699, 0.1953589154585705)</td>\n      <td>(0.24756013790854714, 0.13993875197821182)</td>\n      <td>(1.8589625635968519, 0.5276903308871039)</td>\n      <td>(-0.2156232469953096, -0.037600218898158684)</td>\n      <td>(0.01857321747309184, 0.06540341658683468)</td>\n      <td>(-1.9924328167852674, -0.658812827577213)</td>\n      <td>(0.017029778487458905, 0.059556073276464526)</td>\n      <td>(0.021892631145999698, 0.04187406377669062)</td>\n      <td>(-0.09469973350853758, 0.10687644096218837)</td>\n      <td>...</td>\n      <td>(0.04553260906565146, 0.15020618363496857)</td>\n      <td>(0.23244150573641598, 0.1317206823413683)</td>\n      <td>(0.007842373892269883, 0.06894367395240501)</td>\n      <td>(0.01499687339095146, -0.11386354024034119)</td>\n      <td>(0.48778482288839453, 0.28627520910463616)</td>\n      <td>(-0.18608846014764974, 0.042412098607838705)</td>\n      <td>(-2.0002042442158405, -0.4764821398695455)</td>\n      <td>(-0.10991577209461195, -0.04507078365994068)</td>\n      <td>(-0.05341738577543431, 0.22798978221826388)</td>\n      <td>(0.004692881044760108, 0.07035301743732031)</td>\n    </tr>\n    <tr>\n      <th>4</th>\n      <td>(-0.08836942705898741, -0.2949692024941475)</td>\n      <td>(0.18968696831776002, 0.000637898572780394)</td>\n      <td>(0.26563453899399375, 0.40048708239078473)</td>\n      <td>(-0.0633464616421604, 0.2407926776602226)</td>\n      <td>(0.0034849785902189845, -0.026486037863977813)</td>\n      <td>(0.1617856534868373, 0.1407301210335009)</td>\n      <td>(0.032120254499062806, -0.28779051666353345)</td>\n      <td>(0.050608312301482966, 0.031146316853939284)</td>\n      <td>(0.038589087577678066, 0.0015726684942462014)</td>\n      <td>(0.26777443235213993, 0.3537426932521456)</td>\n      <td>...</td>\n      <td>(-0.06520508562048817, -0.06231240300261426)</td>\n      <td>(0.12501418926609148, 0.021185999301573086)</td>\n      <td>(0.0803742221482486, -0.04359233611378681)</td>\n      <td>(-0.1034701334099616, -0.24111061063159053)</td>\n      <td>(0.4146803112114069, 0.3741016679094001)</td>\n      <td>(0.1389056343429073, 0.040819439270827575)</td>\n      <td>(-0.27871152037034314, -0.19417577078365197)</td>\n      <td>(0.23661903262694006, 0.1598352026176729)</td>\n      <td>(0.22337430925434001, 0.06002764701096145)</td>\n      <td>(-0.09269951418321953, -0.15696451260930103)</td>\n    </tr>\n    <tr>\n      <th>...</th>\n      <td>...</td>\n      <td>...</td>\n      <td>...</td>\n      <td>...</td>\n      <td>...</td>\n      <td>...</td>\n      <td>...</td>\n      <td>...</td>\n      <td>...</td>\n      <td>...</td>\n      <td>...</td>\n      <td>...</td>\n      <td>...</td>\n      <td>...</td>\n      <td>...</td>\n      <td>...</td>\n      <td>...</td>\n      <td>...</td>\n      <td>...</td>\n      <td>...</td>\n      <td>...</td>\n    </tr>\n    <tr>\n      <th>95</th>\n      <td>(nan, 0.426873203201182)</td>\n      <td>(nan, -0.07980123574598635)</td>\n      <td>(nan, 0.04080636787408697)</td>\n      <td>(nan, -0.24564030621888908)</td>\n      <td>(nan, 0.2366221006612915)</td>\n      <td>(nan, 0.03275209366689344)</td>\n      <td>(nan, 0.484615074866599)</td>\n      <td>(nan, -0.058809257846423955)</td>\n      <td>(nan, -0.07036125389392915)</td>\n      <td>(nan, 0.10467481513535734)</td>\n      <td>...</td>\n      <td>(nan, -0.03198586195856866)</td>\n      <td>(nan, -0.007600665113683113)</td>\n      <td>(nan, -0.06504273963388071)</td>\n      <td>(nan, 0.24903507191365087)</td>\n      <td>(nan, 0.005543302606580408)</td>\n      <td>(nan, -0.04385241915097821)</td>\n      <td>(nan, 0.32454220844705084)</td>\n      <td>(nan, 0.08018626302768445)</td>\n      <td>(nan, -0.22082128638904489)</td>\n      <td>(nan, 0.01316439851453213)</td>\n    </tr>\n    <tr>\n      <th>96</th>\n      <td>(nan, 0.08804621858819954)</td>\n      <td>(nan, -0.13164698717897813)</td>\n      <td>(nan, 0.26382172232976225)</td>\n      <td>(nan, -0.13376719019367897)</td>\n      <td>(nan, 0.276180986352414)</td>\n      <td>(nan, 0.08208138447712922)</td>\n      <td>(nan, 0.25198652448840253)</td>\n      <td>(nan, 0.038098829664150964)</td>\n      <td>(nan, 0.0040718332134214025)</td>\n      <td>(nan, 0.07070707174441541)</td>\n      <td>...</td>\n      <td>(nan, 0.07640870510292556)</td>\n      <td>(nan, -0.040936127272820574)</td>\n      <td>(nan, -0.22882436580247353)</td>\n      <td>(nan, -0.3739622249473236)</td>\n      <td>(nan, 0.10364231531691058)</td>\n      <td>(nan, 0.09859475421189531)</td>\n      <td>(nan, 0.09579429124430766)</td>\n      <td>(nan, -0.32261590852358435)</td>\n      <td>(nan, -0.22017008223227522)</td>\n      <td>(nan, 0.008575071905991681)</td>\n    </tr>\n    <tr>\n      <th>97</th>\n      <td>(nan, -0.28460946859728176)</td>\n      <td>(nan, -0.25772001032642583)</td>\n      <td>(nan, -0.09957810073805043)</td>\n      <td>(nan, -0.059555666649220816)</td>\n      <td>(nan, 0.20336500826014214)</td>\n      <td>(nan, -0.14221224207795424)</td>\n      <td>(nan, -0.0750783226909617)</td>\n      <td>(nan, -0.09903048125067697)</td>\n      <td>(nan, -0.05173277619541776)</td>\n      <td>(nan, 0.002344074312547195)</td>\n      <td>...</td>\n      <td>(nan, -0.01277658576629758)</td>\n      <td>(nan, -0.19258508696797388)</td>\n      <td>(nan, 0.03460201175805202)</td>\n      <td>(nan, 0.02493403360447113)</td>\n      <td>(nan, -0.6068439734297122)</td>\n      <td>(nan, -0.12436720992159658)</td>\n      <td>(nan, 0.29501992886693296)</td>\n      <td>(nan, 0.3036917716705513)</td>\n      <td>(nan, -0.4055675868512681)</td>\n      <td>(nan, -0.07809032279455438)</td>\n    </tr>\n    <tr>\n      <th>98</th>\n      <td>(nan, -0.3654767370558824)</td>\n      <td>(nan, -0.36871982723597035)</td>\n      <td>(nan, -0.11695070395842222)</td>\n      <td>(nan, -0.0418117716784366)</td>\n      <td>(nan, 0.20619945379383037)</td>\n      <td>(nan, -0.09484120436637841)</td>\n      <td>(nan, -0.29719375827037464)</td>\n      <td>(nan, -0.08463242066526945)</td>\n      <td>(nan, -0.048028262216283424)</td>\n      <td>(nan, 0.01319548383529899)</td>\n      <td>...</td>\n      <td>(nan, 0.01581606936337516)</td>\n      <td>(nan, -0.13610508235360988)</td>\n      <td>(nan, 0.03761230381159947)</td>\n      <td>(nan, -0.12077983373635645)</td>\n      <td>(nan, -0.6129897225741098)</td>\n      <td>(nan, -0.13205043770664904)</td>\n      <td>(nan, 0.1886312252552117)</td>\n      <td>(nan, 0.2484189354096902)</td>\n      <td>(nan, -0.32331865375936497)</td>\n      <td>(nan, -0.09106627170361307)</td>\n    </tr>\n    <tr>\n      <th>99</th>\n      <td>(nan, 0.09712786543508112)</td>\n      <td>(nan, -0.12482092154971416)</td>\n      <td>(nan, -0.15475229894236153)</td>\n      <td>(nan, -0.4725334771150041)</td>\n      <td>(nan, -0.2085066595832082)</td>\n      <td>(nan, -0.11028978691832812)</td>\n      <td>(nan, 0.30932540382104595)</td>\n      <td>(nan, 0.003549011557228826)</td>\n      <td>(nan, -0.04361865187022296)</td>\n      <td>(nan, -0.35652919727353377)</td>\n      <td>...</td>\n      <td>(nan, -0.1616097127275117)</td>\n      <td>(nan, -0.24863340033254275)</td>\n      <td>(nan, -0.08909754757181622)</td>\n      <td>(nan, 0.1934869209642101)</td>\n      <td>(nan, 0.0049783132989152275)</td>\n      <td>(nan, 0.008520315300987076)</td>\n      <td>(nan, 0.28984330125864416)</td>\n      <td>(nan, -0.44590536211091863)</td>\n      <td>(nan, -0.20434133809694388)</td>\n      <td>(nan, -0.10258505278536216)</td>\n    </tr>\n  </tbody>\n</table>\n<p>100 rows × 25 columns</p>\n</div>"
     },
     "execution_count": 172,
     "metadata": {},
     "output_type": "execute_result"
    }
   ],
   "source": [
    "comparison_data\n",
    "# For each data point, the number on the left is the original value from the dataset, the number on the right is the prediction"
   ],
   "metadata": {
    "collapsed": false,
    "pycharm": {
     "name": "#%%\n"
    }
   }
  },
  {
   "cell_type": "code",
   "execution_count": null,
   "outputs": [],
   "source": [
    "comparison_data.to_csv(\n",
    "    \"trained_comparison_data.csv\"\n",
    ")"
   ],
   "metadata": {
    "collapsed": false,
    "pycharm": {
     "name": "#%%\n"
    }
   }
  }
 ],
 "metadata": {
  "kernelspec": {
   "name": "pycharm-b1666b00",
   "language": "python",
   "display_name": "PyCharm (ce888)"
  },
  "language_info": {
   "codemirror_mode": {
    "name": "ipython",
    "version": 2
   },
   "file_extension": ".py",
   "mimetype": "text/x-python",
   "name": "python",
   "nbconvert_exporter": "python",
   "pygments_lexer": "ipython2",
   "version": "2.7.6"
  }
 },
 "nbformat": 4,
 "nbformat_minor": 0
}