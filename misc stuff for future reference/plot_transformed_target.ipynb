{
 "cells": [
  {
   "cell_type": "code",
   "execution_count": null,
   "metadata": {
    "collapsed": false,
    "pycharm": {
     "name": "#%%\n"
    }
   },
   "outputs": [],
   "source": [
    "%matplotlib inline"
   ]
  },
  {
   "cell_type": "markdown",
   "metadata": {
    "pycharm": {
     "name": "#%% md\n"
    }
   },
   "source": [
    "\n",
    "# Effect of transforming the targets in regression model\n",
    "\n",
    "In this example, we give an overview of\n",
    ":class:`~sklearn.compose.TransformedTargetRegressor`. We use two examples\n",
    "to illustrate the benefit of transforming the targets before learning a linear\n",
    "regression model. The first example uses synthetic data while the second\n",
    "example is based on the Ames housing data set.\n"
   ]
  },
  {
   "cell_type": "code",
   "execution_count": null,
   "metadata": {
    "collapsed": false,
    "pycharm": {
     "name": "#%%\n"
    }
   },
   "outputs": [],
   "source": [
    "# Author: Guillaume Lemaitre <guillaume.lemaitre@inria.fr>\n",
    "# License: BSD 3 clause\n",
    "\n",
    "import numpy as np\n",
    "import matplotlib\n",
    "import matplotlib.pyplot as plt\n",
    "from tempfile import mkdtemp\n",
    "from shutil import rmtree\n",
    "from sklearn.datasets import make_regression\n",
    "from sklearn.model_selection import train_test_split\n",
    "from sklearn.linear_model import RidgeCV\n",
    "from sklearn.compose import TransformedTargetRegressor\n",
    "from sklearn.metrics import median_absolute_error, r2_score\n",
    "from sklearn.utils.fixes import parse_version\n",
    "\n",
    "cacheDir = mkdtemp()"
   ]
  },
  {
   "cell_type": "markdown",
   "metadata": {
    "pycharm": {
     "name": "#%% md\n"
    }
   },
   "source": [
    "## Synthetic example\n",
    "\n"
   ]
  },
  {
   "cell_type": "code",
   "execution_count": null,
   "metadata": {
    "collapsed": false,
    "pycharm": {
     "name": "#%%\n"
    }
   },
   "outputs": [],
   "source": [
    "# `normed` is being deprecated in favor of `density` in histograms\n",
    "if parse_version(matplotlib.__version__) >= parse_version(\"2.1\"):\n",
    "    density_param = {\"density\": True}\n",
    "else:\n",
    "    density_param = {\"normed\": True}"
   ]
  },
  {
   "cell_type": "markdown",
   "metadata": {
    "pycharm": {
     "name": "#%% md\n"
    }
   },
   "source": [
    "A synthetic random regression dataset is generated. The targets ``y`` are\n",
    "modified by:\n",
    "\n",
    "  1. translating all targets such that all entries are\n",
    "     non-negative (by adding the absolute value of the lowest ``y``) and\n",
    "  2. applying an exponential function to obtain non-linear\n",
    "     targets which cannot be fitted using a simple linear model.\n",
    "\n",
    "Therefore, a logarithmic (`np.log1p`) and an exponential function\n",
    "(`np.expm1`) will be used to transform the targets before training a linear\n",
    "regression model and using it for prediction.\n",
    "\n"
   ]
  },
  {
   "cell_type": "code",
   "execution_count": null,
   "metadata": {
    "collapsed": false,
    "pycharm": {
     "name": "#%%\n"
    }
   },
   "outputs": [],
   "source": [
    "X, y = make_regression(n_samples=10000, noise=100, random_state=0)\n",
    "y = np.expm1((y + abs(y.min())) / 200)\n",
    "y_trans = np.log1p(y)"
   ]
  },
  {
   "cell_type": "markdown",
   "metadata": {
    "pycharm": {
     "name": "#%% md\n"
    }
   },
   "source": [
    "Below we plot the probability density functions of the target\n",
    "before and after applying the logarithmic functions.\n",
    "\n"
   ]
  },
  {
   "cell_type": "code",
   "execution_count": null,
   "metadata": {
    "collapsed": false,
    "pycharm": {
     "name": "#%%\n"
    }
   },
   "outputs": [],
   "source": [
    "f, (ax0, ax1) = plt.subplots(1, 2)\n",
    "\n",
    "ax0.hist(y, bins=100, **density_param)\n",
    "ax0.set_xlim([0, 2000])\n",
    "ax0.set_ylabel(\"Probability\")\n",
    "ax0.set_xlabel(\"Target\")\n",
    "ax0.set_title(\"Target distribution\")\n",
    "\n",
    "ax1.hist(y_trans, bins=100, **density_param)\n",
    "ax1.set_ylabel(\"Probability\")\n",
    "ax1.set_xlabel(\"Target\")\n",
    "ax1.set_title(\"Transformed target distribution\")\n",
    "\n",
    "f.suptitle(\"Synthetic data\", y=0.06, x=0.53)\n",
    "f.tight_layout(rect=[0.05, 0.05, 0.95, 0.95])\n",
    "\n",
    "X_train, X_test, y_train, y_test = train_test_split(X, y, random_state=0)"
   ]
  },
  {
   "cell_type": "markdown",
   "metadata": {
    "pycharm": {
     "name": "#%% md\n"
    }
   },
   "source": [
    "At first, a linear model will be applied on the original targets. Due to the\n",
    "non-linearity, the model trained will not be precise during\n",
    "prediction. Subsequently, a logarithmic function is used to linearize the\n",
    "targets, allowing better prediction even with a similar linear model as\n",
    "reported by the median absolute error (MAE).\n",
    "\n"
   ]
  },
  {
   "cell_type": "code",
   "execution_count": null,
   "metadata": {
    "collapsed": false,
    "pycharm": {
     "name": "#%%\n"
    }
   },
   "outputs": [],
   "source": [
    "f, (ax0, ax1) = plt.subplots(1, 2, sharey=True)\n",
    "# Use linear model\n",
    "regr = RidgeCV()\n",
    "regr.fit(X_train, y_train)\n",
    "y_pred = regr.predict(X_test)\n",
    "# Plot results\n",
    "ax0.scatter(y_test, y_pred)\n",
    "ax0.plot([0, 2000], [0, 2000], \"--k\")\n",
    "ax0.set_ylabel(\"Target predicted\")\n",
    "ax0.set_xlabel(\"True Target\")\n",
    "ax0.set_title(\"Ridge regression \\n without target transformation\")\n",
    "ax0.text(\n",
    "    100,\n",
    "    1750,\n",
    "    r\"$R^2$=%.2f, MAE=%.2f\"\n",
    "    % (r2_score(y_test, y_pred), median_absolute_error(y_test, y_pred)),\n",
    ")\n",
    "ax0.set_xlim([0, 2000])\n",
    "ax0.set_ylim([0, 2000])\n",
    "# Transform targets and use same linear model\n",
    "regr_trans = TransformedTargetRegressor(\n",
    "    regressor=RidgeCV(), func=np.log1p, inverse_func=np.expm1\n",
    ")\n",
    "regr_trans.fit(X_train, y_train)\n",
    "y_pred = regr_trans.predict(X_test)\n",
    "\n",
    "ax1.scatter(y_test, y_pred)\n",
    "ax1.plot([0, 2000], [0, 2000], \"--k\")\n",
    "ax1.set_ylabel(\"Target predicted\")\n",
    "ax1.set_xlabel(\"True Target\")\n",
    "ax1.set_title(\"Ridge regression \\n with target transformation\")\n",
    "ax1.text(\n",
    "    100,\n",
    "    1750,\n",
    "    r\"$R^2$=%.2f, MAE=%.2f\"\n",
    "    % (r2_score(y_test, y_pred), median_absolute_error(y_test, y_pred)),\n",
    ")\n",
    "ax1.set_xlim([0, 2000])\n",
    "ax1.set_ylim([0, 2000])\n",
    "\n",
    "f.suptitle(\"Synthetic data\", y=0.035)\n",
    "f.tight_layout(rect=[0.05, 0.05, 0.95, 0.95])"
   ]
  },
  {
   "cell_type": "markdown",
   "metadata": {
    "pycharm": {
     "name": "#%% md\n"
    }
   },
   "source": [
    "## Real-world data set\n",
    "\n",
    " In a similar manner, the Ames housing data set is used to show the impact\n",
    " of transforming the targets before learning a model. In this example, the\n",
    " target to be predicted is the selling price of each house.\n",
    "\n"
   ]
  },
  {
   "cell_type": "code",
   "execution_count": null,
   "metadata": {
    "collapsed": false,
    "pycharm": {
     "name": "#%%\n"
    }
   },
   "outputs": [],
   "source": [
    "from sklearn.datasets import fetch_openml\n",
    "from sklearn.preprocessing import QuantileTransformer, quantile_transform\n",
    "\n",
    "ames = fetch_openml(name=\"house_prices\", as_frame=True)\n",
    "# Keep only numeric columns\n",
    "X = ames.data.select_dtypes(np.number)\n",
    "# Remove columns with NaN or Inf values\n",
    "X = X.drop(columns=[\"LotFrontage\", \"GarageYrBlt\", \"MasVnrArea\"])\n",
    "y = ames.target\n",
    "y_trans = quantile_transform(\n",
    "    y.to_frame(), n_quantiles=900, output_distribution=\"normal\", copy=True\n",
    ").squeeze()"
   ]
  },
  {
   "cell_type": "markdown",
   "metadata": {
    "pycharm": {
     "name": "#%% md\n"
    }
   },
   "source": [
    "A :class:`~sklearn.preprocessing.QuantileTransformer` is used to normalize\n",
    "the target distribution before applying a\n",
    ":class:`~sklearn.linear_model.RidgeCV` model.\n",
    "\n"
   ]
  },
  {
   "cell_type": "code",
   "execution_count": null,
   "metadata": {
    "collapsed": false,
    "pycharm": {
     "name": "#%%\n"
    }
   },
   "outputs": [],
   "source": [
    "f, (ax0, ax1) = plt.subplots(1, 2)\n",
    "\n",
    "ax0.hist(y, bins=100, **density_param)\n",
    "ax0.set_ylabel(\"Probability\")\n",
    "ax0.set_xlabel(\"Target\")\n",
    "ax0.text(s=\"Target distribution\", x=1.2e5, y=9.8e-6, fontsize=12)\n",
    "ax0.ticklabel_format(axis=\"both\", style=\"sci\", scilimits=(0, 0))\n",
    "\n",
    "ax1.hist(y_trans, bins=100, **density_param)\n",
    "ax1.set_ylabel(\"Probability\")\n",
    "ax1.set_xlabel(\"Target\")\n",
    "ax1.text(s=\"Transformed target distribution\", x=-6.8, y=0.479, fontsize=12)\n",
    "\n",
    "f.suptitle(\"Ames housing data: selling price\", y=0.04)\n",
    "f.tight_layout(rect=[0.05, 0.05, 0.95, 0.95])\n",
    "\n",
    "X_train, X_test, y_train, y_test = train_test_split(X, y, random_state=1)"
   ]
  },
  {
   "cell_type": "markdown",
   "metadata": {
    "pycharm": {
     "name": "#%% md\n"
    }
   },
   "source": [
    "The effect of the transformer is weaker than on the synthetic data. However,\n",
    "the transformation results in an increase in $R^2$ and large decrease\n",
    "of the MAE. The residual plot (predicted target - true target vs predicted\n",
    "target) without target transformation takes on a curved, 'reverse smile'\n",
    "shape due to residual values that vary depending on the value of predicted\n",
    "target. With target transformation, the shape is more linear indicating\n",
    "better model fit.\n",
    "\n"
   ]
  },
  {
   "cell_type": "code",
   "execution_count": null,
   "metadata": {
    "collapsed": false,
    "pycharm": {
     "name": "#%%\n"
    }
   },
   "outputs": [],
   "source": [
    "f, (ax0, ax1) = plt.subplots(2, 2, sharey=\"row\", figsize=(6.5, 8))\n",
    "\n",
    "regr = RidgeCV()\n",
    "regr.fit(X_train, y_train)\n",
    "y_pred = regr.predict(X_test)\n",
    "\n",
    "ax0[0].scatter(y_pred, y_test, s=8)\n",
    "ax0[0].plot([0, 7e5], [0, 7e5], \"--k\")\n",
    "ax0[0].set_ylabel(\"True target\")\n",
    "ax0[0].set_xlabel(\"Predicted target\")\n",
    "ax0[0].text(\n",
    "    s=\"Ridge regression \\n without target transformation\",\n",
    "    x=-5e4,\n",
    "    y=8e5,\n",
    "    fontsize=12,\n",
    "    multialignment=\"center\",\n",
    ")\n",
    "ax0[0].text(\n",
    "    3e4,\n",
    "    64e4,\n",
    "    r\"$R^2$=%.2f, MAE=%.2f\"\n",
    "    % (r2_score(y_test, y_pred), median_absolute_error(y_test, y_pred)),\n",
    ")\n",
    "ax0[0].set_xlim([0, 7e5])\n",
    "ax0[0].set_ylim([0, 7e5])\n",
    "ax0[0].ticklabel_format(axis=\"both\", style=\"sci\", scilimits=(0, 0))\n",
    "\n",
    "ax1[0].scatter(y_pred, (y_pred - y_test), s=8)\n",
    "ax1[0].set_ylabel(\"Residual\")\n",
    "ax1[0].set_xlabel(\"Predicted target\")\n",
    "ax1[0].ticklabel_format(axis=\"both\", style=\"sci\", scilimits=(0, 0))\n",
    "\n",
    "regr_trans = TransformedTargetRegressor(\n",
    "    regressor=RidgeCV(),\n",
    "    transformer=QuantileTransformer(n_quantiles=900, output_distribution=\"normal\"),\n",
    ")\n",
    "regr_trans.fit(X_train, y_train)\n",
    "y_pred = regr_trans.predict(X_test)\n",
    "\n",
    "ax0[1].scatter(y_pred, y_test, s=8)\n",
    "ax0[1].plot([0, 7e5], [0, 7e5], \"--k\")\n",
    "ax0[1].set_ylabel(\"True target\")\n",
    "ax0[1].set_xlabel(\"Predicted target\")\n",
    "ax0[1].text(\n",
    "    s=\"Ridge regression \\n with target transformation\",\n",
    "    x=-5e4,\n",
    "    y=8e5,\n",
    "    fontsize=12,\n",
    "    multialignment=\"center\",\n",
    ")\n",
    "ax0[1].text(\n",
    "    3e4,\n",
    "    64e4,\n",
    "    r\"$R^2$=%.2f, MAE=%.2f\"\n",
    "    % (r2_score(y_test, y_pred), median_absolute_error(y_test, y_pred)),\n",
    ")\n",
    "ax0[1].set_xlim([0, 7e5])\n",
    "ax0[1].set_ylim([0, 7e5])\n",
    "ax0[1].ticklabel_format(axis=\"both\", style=\"sci\", scilimits=(0, 0))\n",
    "\n",
    "ax1[1].scatter(y_pred, (y_pred - y_test), s=8)\n",
    "ax1[1].set_ylabel(\"Residual\")\n",
    "ax1[1].set_xlabel(\"Predicted target\")\n",
    "ax1[1].ticklabel_format(axis=\"both\", style=\"sci\", scilimits=(0, 0))\n",
    "\n",
    "f.suptitle(\"Ames housing data: selling price\", y=0.035)\n",
    "\n",
    "plt.show()"
   ]
  }
 ],
 "metadata": {
  "kernelspec": {
   "display_name": "Python 3",
   "language": "python",
   "name": "python3"
  },
  "language_info": {
   "codemirror_mode": {
    "name": "ipython",
    "version": 3
   },
   "file_extension": ".py",
   "mimetype": "text/x-python",
   "name": "python",
   "nbconvert_exporter": "python",
   "pygments_lexer": "ipython3",
   "version": "3.9.12"
  }
 },
 "nbformat": 4,
 "nbformat_minor": 0
}