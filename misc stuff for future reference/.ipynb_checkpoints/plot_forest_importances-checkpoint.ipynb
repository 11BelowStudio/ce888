{
 "cells": [
  {
   "cell_type": "code",
   "execution_count": 1,
   "metadata": {
    "jupyter": {
     "outputs_hidden": false
    }
   },
   "outputs": [],
   "source": [
    "%matplotlib inline"
   ]
  },
  {
   "cell_type": "markdown",
   "metadata": {},
   "source": [
    "### Shamelessly ripped off from https://scikit-learn.org/stable/auto_examples/ensemble/plot_forest_importances.html\n",
    "\n",
    "\n",
    "\n",
    "# Feature importances with ~~a forest of trees~~ *pretty much any regressor*\n",
    "\n",
    "This example shows the use of ~~a forest of trees~~ *pretty much any regressor*\n",
    "to evaluate the importance of\n",
    "features on an artificial classification task. The blue bars are the feature\n",
    "importances of the forest, along with their inter-trees variability represented\n",
    "by the error bars.\n",
    "\n",
    "As expected, the plot suggests that 3 features are informative, while the\n",
    "remaining are not."
   ]
  },
  {
   "cell_type": "code",
   "execution_count": 2,
   "metadata": {
    "jupyter": {
     "outputs_hidden": false
    }
   },
   "outputs": [],
   "source": [
    "import matplotlib.pyplot as plt"
   ]
  },
  {
   "cell_type": "markdown",
   "metadata": {},
   "source": [
    "## Data generation and model fitting\n",
    "We generate a synthetic dataset with only 3 informative features. We will\n",
    "explicitly not shuffle the dataset to ensure that the informative features\n",
    "will correspond to the three first columns of X. In addition, we will split\n",
    "our dataset into training and testing subsets.\n",
    "\n"
   ]
  },
  {
   "cell_type": "code",
   "execution_count": 3,
   "metadata": {
    "jupyter": {
     "outputs_hidden": false
    }
   },
   "outputs": [],
   "source": [
    "from sklearn.datasets import make_classification, make_regression, load_diabetes\n",
    "from sklearn.model_selection import train_test_split\n",
    "from sklearn import set_config\n",
    "import pandas as pd\n",
    "\n",
    "set_config(display=\"diagram\")\n",
    "\n",
    "#X, y = make_classification(\n",
    "#    n_samples=1000,\n",
    "#    n_features=10,\n",
    "#    n_informative=3,\n",
    "#    n_redundant=0,\n",
    "#    n_repeated=0,\n",
    "#    n_classes=2,\n",
    "#    random_state=0,\n",
    "#    shuffle=False,\n",
    "#)\n",
    "\n",
    "X, y = make_regression(\n",
    "    n_samples=1000,\n",
    "    n_features = 20,\n",
    "    n_informative=9,\n",
    "    effective_rank=10,\n",
    "    random_state=42,\n",
    "    shuffle=True,\n",
    "    noise=0.2\n",
    ")\n",
    "\n",
    "X_train, X_test, y_train, y_test = train_test_split(X, y, random_state=42)"
   ]
  },
  {
   "cell_type": "markdown",
   "metadata": {},
   "source": [
    "A random forest classifier will be fitted to compute the feature importances.\n",
    "\n"
   ]
  },
  {
   "cell_type": "code",
   "execution_count": 4,
   "metadata": {
    "jupyter": {
     "outputs_hidden": false
    }
   },
   "outputs": [
    {
     "name": "stderr",
     "output_type": "stream",
     "text": [
      "/srv/conda/envs/notebook/lib/python3.7/site-packages/sklearn/preprocessing/_data.py:2583: UserWarning: n_quantiles (1000) is greater than the total number of samples (750). n_quantiles is set to n_samples.\n",
      "  \"n_samples.\" % (self.n_quantiles, n_samples)\n"
     ]
    },
    {
     "data": {
      "text/html": [
       "<style>#sk-62e50a1c-af1f-46c3-8465-3e04d1d1ba52 {color: black;background-color: white;}#sk-62e50a1c-af1f-46c3-8465-3e04d1d1ba52 pre{padding: 0;}#sk-62e50a1c-af1f-46c3-8465-3e04d1d1ba52 div.sk-toggleable {background-color: white;}#sk-62e50a1c-af1f-46c3-8465-3e04d1d1ba52 label.sk-toggleable__label {cursor: pointer;display: block;width: 100%;margin-bottom: 0;padding: 0.3em;box-sizing: border-box;text-align: center;}#sk-62e50a1c-af1f-46c3-8465-3e04d1d1ba52 label.sk-toggleable__label-arrow:before {content: \"▸\";float: left;margin-right: 0.25em;color: #696969;}#sk-62e50a1c-af1f-46c3-8465-3e04d1d1ba52 label.sk-toggleable__label-arrow:hover:before {color: black;}#sk-62e50a1c-af1f-46c3-8465-3e04d1d1ba52 div.sk-estimator:hover label.sk-toggleable__label-arrow:before {color: black;}#sk-62e50a1c-af1f-46c3-8465-3e04d1d1ba52 div.sk-toggleable__content {max-height: 0;max-width: 0;overflow: hidden;text-align: left;background-color: #f0f8ff;}#sk-62e50a1c-af1f-46c3-8465-3e04d1d1ba52 div.sk-toggleable__content pre {margin: 0.2em;color: black;border-radius: 0.25em;background-color: #f0f8ff;}#sk-62e50a1c-af1f-46c3-8465-3e04d1d1ba52 input.sk-toggleable__control:checked~div.sk-toggleable__content {max-height: 200px;max-width: 100%;overflow: auto;}#sk-62e50a1c-af1f-46c3-8465-3e04d1d1ba52 input.sk-toggleable__control:checked~label.sk-toggleable__label-arrow:before {content: \"▾\";}#sk-62e50a1c-af1f-46c3-8465-3e04d1d1ba52 div.sk-estimator input.sk-toggleable__control:checked~label.sk-toggleable__label {background-color: #d4ebff;}#sk-62e50a1c-af1f-46c3-8465-3e04d1d1ba52 div.sk-label input.sk-toggleable__control:checked~label.sk-toggleable__label {background-color: #d4ebff;}#sk-62e50a1c-af1f-46c3-8465-3e04d1d1ba52 input.sk-hidden--visually {border: 0;clip: rect(1px 1px 1px 1px);clip: rect(1px, 1px, 1px, 1px);height: 1px;margin: -1px;overflow: hidden;padding: 0;position: absolute;width: 1px;}#sk-62e50a1c-af1f-46c3-8465-3e04d1d1ba52 div.sk-estimator {font-family: monospace;background-color: #f0f8ff;border: 1px dotted black;border-radius: 0.25em;box-sizing: border-box;margin-bottom: 0.5em;}#sk-62e50a1c-af1f-46c3-8465-3e04d1d1ba52 div.sk-estimator:hover {background-color: #d4ebff;}#sk-62e50a1c-af1f-46c3-8465-3e04d1d1ba52 div.sk-parallel-item::after {content: \"\";width: 100%;border-bottom: 1px solid gray;flex-grow: 1;}#sk-62e50a1c-af1f-46c3-8465-3e04d1d1ba52 div.sk-label:hover label.sk-toggleable__label {background-color: #d4ebff;}#sk-62e50a1c-af1f-46c3-8465-3e04d1d1ba52 div.sk-serial::before {content: \"\";position: absolute;border-left: 1px solid gray;box-sizing: border-box;top: 2em;bottom: 0;left: 50%;}#sk-62e50a1c-af1f-46c3-8465-3e04d1d1ba52 div.sk-serial {display: flex;flex-direction: column;align-items: center;background-color: white;padding-right: 0.2em;padding-left: 0.2em;}#sk-62e50a1c-af1f-46c3-8465-3e04d1d1ba52 div.sk-item {z-index: 1;}#sk-62e50a1c-af1f-46c3-8465-3e04d1d1ba52 div.sk-parallel {display: flex;align-items: stretch;justify-content: center;background-color: white;}#sk-62e50a1c-af1f-46c3-8465-3e04d1d1ba52 div.sk-parallel::before {content: \"\";position: absolute;border-left: 1px solid gray;box-sizing: border-box;top: 2em;bottom: 0;left: 50%;}#sk-62e50a1c-af1f-46c3-8465-3e04d1d1ba52 div.sk-parallel-item {display: flex;flex-direction: column;position: relative;background-color: white;}#sk-62e50a1c-af1f-46c3-8465-3e04d1d1ba52 div.sk-parallel-item:first-child::after {align-self: flex-end;width: 50%;}#sk-62e50a1c-af1f-46c3-8465-3e04d1d1ba52 div.sk-parallel-item:last-child::after {align-self: flex-start;width: 50%;}#sk-62e50a1c-af1f-46c3-8465-3e04d1d1ba52 div.sk-parallel-item:only-child::after {width: 0;}#sk-62e50a1c-af1f-46c3-8465-3e04d1d1ba52 div.sk-dashed-wrapped {border: 1px dashed gray;margin: 0 0.4em 0.5em 0.4em;box-sizing: border-box;padding-bottom: 0.4em;background-color: white;position: relative;}#sk-62e50a1c-af1f-46c3-8465-3e04d1d1ba52 div.sk-label label {font-family: monospace;font-weight: bold;background-color: white;display: inline-block;line-height: 1.2em;}#sk-62e50a1c-af1f-46c3-8465-3e04d1d1ba52 div.sk-label-container {position: relative;z-index: 2;text-align: center;}#sk-62e50a1c-af1f-46c3-8465-3e04d1d1ba52 div.sk-container {/* jupyter's `normalize.less` sets `[hidden] { display: none; }` but bootstrap.min.css set `[hidden] { display: none !important; }` so we also need the `!important` here to be able to override the default hidden behavior on the sphinx rendered scikit-learn.org. See: https://github.com/scikit-learn/scikit-learn/issues/21755 */display: inline-block !important;position: relative;}#sk-62e50a1c-af1f-46c3-8465-3e04d1d1ba52 div.sk-text-repr-fallback {display: none;}</style><div id=\"sk-62e50a1c-af1f-46c3-8465-3e04d1d1ba52\" class=\"sk-top-container\"><div class=\"sk-text-repr-fallback\"><pre>Pipeline(steps=[(&#x27;scaler&#x27;, QuantileTransformer()),\n",
       "                (&#x27;learner&#x27;, ARDRegression())])</pre><b>Please rerun this cell to show the HTML repr or trust the notebook.</b></div><div class=\"sk-container\" hidden><div class=\"sk-item sk-dashed-wrapped\"><div class=\"sk-label-container\"><div class=\"sk-label sk-toggleable\"><input class=\"sk-toggleable__control sk-hidden--visually\" id=\"d001428f-529f-4726-972b-f1c91d54d03c\" type=\"checkbox\" ><label for=\"d001428f-529f-4726-972b-f1c91d54d03c\" class=\"sk-toggleable__label sk-toggleable__label-arrow\">Pipeline</label><div class=\"sk-toggleable__content\"><pre>Pipeline(steps=[(&#x27;scaler&#x27;, QuantileTransformer()),\n",
       "                (&#x27;learner&#x27;, ARDRegression())])</pre></div></div></div><div class=\"sk-serial\"><div class=\"sk-item\"><div class=\"sk-estimator sk-toggleable\"><input class=\"sk-toggleable__control sk-hidden--visually\" id=\"f9599859-279d-4885-a972-8043a4c22ed9\" type=\"checkbox\" ><label for=\"f9599859-279d-4885-a972-8043a4c22ed9\" class=\"sk-toggleable__label sk-toggleable__label-arrow\">QuantileTransformer</label><div class=\"sk-toggleable__content\"><pre>QuantileTransformer()</pre></div></div></div><div class=\"sk-item\"><div class=\"sk-estimator sk-toggleable\"><input class=\"sk-toggleable__control sk-hidden--visually\" id=\"2d47cf04-405b-4272-bd3b-887d5e9599f9\" type=\"checkbox\" ><label for=\"2d47cf04-405b-4272-bd3b-887d5e9599f9\" class=\"sk-toggleable__label sk-toggleable__label-arrow\">ARDRegression</label><div class=\"sk-toggleable__content\"><pre>ARDRegression()</pre></div></div></div></div></div></div></div>"
      ],
      "text/plain": [
       "Pipeline(steps=[('scaler', QuantileTransformer()),\n",
       "                ('learner', ARDRegression())])"
      ]
     },
     "execution_count": 4,
     "metadata": {},
     "output_type": "execute_result"
    }
   ],
   "source": [
    "from sklearn.ensemble import RandomForestClassifier, RandomForestRegressor, HistGradientBoostingRegressor\n",
    "\n",
    "from sklearn.linear_model import ARDRegression, LinearRegression\n",
    "from sklearn.pipeline import Pipeline\n",
    "from sklearn.preprocessing import QuantileTransformer\n",
    "\n",
    "feature_names = [f\"feature {i}\" for i in range(X.shape[1])]\n",
    "\n",
    "fpipeline = Pipeline(\n",
    "    steps=[\n",
    "        (\"scaler\",QuantileTransformer()),\n",
    "        #(\"learner\",RandomForestRegressor())\n",
    "        #(\"learner\",ARDRegression())\n",
    "        (\"learner\",HistGradientBoostingRegressor())\n",
    "        #(\"learner\",LinearRegression())\n",
    "    ]\n",
    ")\n",
    "learner = fpipeline[\"learner\"]\n",
    "fpipeline.fit(X_train, y_train)"
   ]
  },
  {
   "cell_type": "markdown",
   "metadata": {},
   "source": [
    "## Feature importance based on mean decrease in impurity\n",
    "Feature importances are provided by the fitted attribute\n",
    "`feature_importances_` and they are computed as the mean and standard\n",
    "deviation of accumulation of the impurity decrease within each tree.\n",
    "\n",
    "<div class=\"alert alert-danger\"><h4>Warning</h4><p>Impurity-based feature importances can be misleading for **high\n",
    "    cardinality** features (many unique values). See\n",
    "    `permutation_importance` as an alternative below.</p></div>\n",
    "\n"
   ]
  },
  {
   "cell_type": "code",
   "execution_count": 5,
   "metadata": {
    "jupyter": {
     "outputs_hidden": false
    }
   },
   "outputs": [
    {
     "name": "stdout",
     "output_type": "stream",
     "text": [
      "(20,)\n",
      "[0. 0. 0. 0. 0. 0. 0. 0. 0. 0. 0. 0. 0. 0. 0. 0. 0. 0. 0. 0.]\n",
      "Elapsed time to compute the importances: 0.001 seconds\n"
     ]
    }
   ],
   "source": [
    "import time\n",
    "import numpy as np\n",
    "\n",
    "\n",
    "start_time = time.time()\n",
    "\n",
    "def get_importances(predictor):\n",
    "    \n",
    "    try:\n",
    "        return predictor.feature_importances_\n",
    "    except Exception:\n",
    "        return predictor.coef_\n",
    "    \n",
    "    \n",
    "def get_importance_std(predictor):\n",
    "    \n",
    "    try:\n",
    "        return np.std([get_importances(p) for p in predictor.estimators_],axis=0)\n",
    "    except Exception:\n",
    "        \n",
    "        return np.std([get_importances(predictor)],axis=0)\n",
    "\n",
    "importances = get_importances(learner)\n",
    "\n",
    "print(importances.shape)\n",
    "\n",
    "std = get_importance_std(learner)\n",
    "\n",
    "print(std)\n",
    "\n",
    "elapsed_time = time.time() - start_time\n",
    "\n",
    "print(f\"Elapsed time to compute the importances: {elapsed_time:.3f} seconds\")"
   ]
  },
  {
   "cell_type": "markdown",
   "metadata": {},
   "source": [
    "Let's plot the impurity-based importance.\n",
    "\n"
   ]
  },
  {
   "cell_type": "code",
   "execution_count": 6,
   "metadata": {
    "jupyter": {
     "outputs_hidden": false
    }
   },
   "outputs": [
    {
     "data": {
      "image/png": "[encoded data removed]",
      "text/plain": [
       "<Figure size 1152x648 with 1 Axes>"
      ]
     },
     "metadata": {
      "needs_background": "light"
     },
     "output_type": "display_data"
    }
   ],
   "source": [
    "import pandas as pd\n",
    "\n",
    "learner_importances = pd.Series(importances, index=feature_names)\n",
    "\n",
    "fig, ax = plt.subplots(\n",
    "    figsize=(16,9)\n",
    ")\n",
    "bar = ax.bar(learner_importances.index, learner_importances.values, 0.35, yerr=std)\n",
    "\n",
    "ax.bar_label(bar, fmt='%.2f')\n",
    "\n",
    "ax.axhline(0, color='grey', linewidth=0.8)\n",
    "ax.set_title(\"Feature importances using MDI\")\n",
    "ax.set_ylabel(\"Mean decrease in impurity\")\n",
    "fig.tight_layout()"
   ]
  },
  {
   "cell_type": "markdown",
   "metadata": {},
   "source": [
    "We observe that, as expected, the three first features are found important.\n",
    "\n",
    "## Feature importance based on feature permutation\n",
    "Permutation feature importance overcomes limitations of the impurity-based\n",
    "feature importance: they do not have a bias toward high-cardinality features\n",
    "and can be computed on a left-out test set.\n",
    "\n"
   ]
  },
  {
   "cell_type": "code",
   "execution_count": 7,
   "metadata": {
    "jupyter": {
     "outputs_hidden": false
    }
   },
   "outputs": [
    {
     "name": "stdout",
     "output_type": "stream",
     "text": [
      "Elapsed time to compute the importances: 1.163 seconds\n"
     ]
    }
   ],
   "source": [
    "from sklearn.inspection import permutation_importance\n",
    "\n",
    "start_time = time.time()\n",
    "result = permutation_importance(\n",
    "    learner, X_test, y_test, n_repeats=10, random_state=42, n_jobs=2\n",
    ")\n",
    "elapsed_time = time.time() - start_time\n",
    "print(f\"Elapsed time to compute the importances: {elapsed_time:.3f} seconds\")\n",
    "\n",
    "learner_importances = pd.Series(result.importances_mean, index=feature_names)"
   ]
  },
  {
   "cell_type": "markdown",
   "metadata": {},
   "source": [
    "The computation for full permutation importance is more costly. Features are\n",
    "shuffled n times and the model refitted to estimate the importance of it.\n",
    "Please see `permutation_importance` for more details. We can now plot\n",
    "the importance ranking.\n",
    "\n"
   ]
  },
  {
   "cell_type": "code",
   "execution_count": 8,
   "metadata": {
    "jupyter": {
     "outputs_hidden": false
    }
   },
   "outputs": [
    {
     "data": {
      "image/png": "[encoded data removed]",
      "text/plain": [
       "<Figure size 1152x648 with 1 Axes>"
      ]
     },
     "metadata": {
      "needs_background": "light"
     },
     "output_type": "display_data"
    }
   ],
   "source": [
    "fig, ax = plt.subplots(\n",
    "    figsize=(16,9)\n",
    ")\n",
    "\n",
    "bar = ax.bar(learner_importances.index, learner_importances.values, 0.35, yerr=result.importances_std)\n",
    "ax.bar_label(bar, fmt='%.2f')\n",
    "\n",
    "ax.axhline(0, color='grey', linewidth=0.8)\n",
    "\n",
    "#learner_importances.plot.bar(yerr=result.importances_std, ax=ax)\n",
    "#for container in ax.containers:\n",
    "#    ax.bar_label(container, label_type=\"center\")\n",
    "ax.set_title(\"Feature importances using permutation on full model\")\n",
    "ax.set_ylabel(\"Mean accuracy decrease\")\n",
    "fig.tight_layout()\n",
    "plt.show()"
   ]
  },
  {
   "cell_type": "markdown",
   "metadata": {},
   "source": [
    "The same features are detected as most important using both methods. Although\n",
    "the relative importances vary. As seen on the plots, MDI is less likely than\n",
    "permutation importance to fully omit a feature.\n",
    "\n"
   ]
  }
 ],
 "metadata": {
  "kernelspec": {
   "display_name": "Python 3",
   "language": "python",
   "name": "python3"
  },
  "language_info": {
   "codemirror_mode": {
    "name": "ipython",
    "version": 3
   },
   "file_extension": ".py",
   "mimetype": "text/x-python",
   "name": "python",
   "nbconvert_exporter": "python",
   "pygments_lexer": "ipython3",
   "version": "3.8.10"
  }
 },
 "nbformat": 4,
 "nbformat_minor": 4
}
