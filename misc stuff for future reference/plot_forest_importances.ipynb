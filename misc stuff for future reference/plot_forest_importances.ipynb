{
 "cells": [
  {
   "cell_type": "code",
   "execution_count": 1,
   "metadata": {
    "jupyter": {
     "outputs_hidden": false
    }
   },
   "outputs": [],
   "source": [
    "%matplotlib inline"
   ]
  },
  {
   "cell_type": "markdown",
   "metadata": {},
   "source": [
    "### Shamelessly ripped off from https://scikit-learn.org/stable/auto_examples/ensemble/plot_forest_importances.html\n",
    "\n",
    "\n",
    "\n",
    "# Feature importances with ~~a forest of trees~~ *pretty much any regressor*\n",
    "\n",
    "This example shows the use of ~~a forest of trees~~ *pretty much any regressor*\n",
    "to evaluate the importance of\n",
    "features on an artificial classification task. The blue bars are the feature\n",
    "importances of the forest, along with their inter-trees variability represented\n",
    "by the error bars.\n",
    "\n",
    "As expected, the plot suggests that 3 features are informative, while the\n",
    "remaining are not."
   ]
  },
  {
   "cell_type": "code",
   "execution_count": 2,
   "metadata": {
    "jupyter": {
     "outputs_hidden": false
    }
   },
   "outputs": [],
   "source": [
    "import matplotlib.pyplot as plt"
   ]
  },
  {
   "cell_type": "markdown",
   "metadata": {},
   "source": [
    "## Data generation and model fitting\n",
    "We generate a synthetic dataset with only 3 informative features. We will\n",
    "explicitly not shuffle the dataset to ensure that the informative features\n",
    "will correspond to the three first columns of X. In addition, we will split\n",
    "our dataset into training and testing subsets.\n",
    "\n"
   ]
  },
  {
   "cell_type": "code",
   "execution_count": 3,
   "metadata": {
    "jupyter": {
     "outputs_hidden": false
    }
   },
   "outputs": [
    {
     "name": "stdout",
     "output_type": "stream",
     "text": [
      "I can't display pipelines as diagram because sklearn 0.23+ isn't installed :'(\n"
     ]
    }
   ],
   "source": [
    "from sklearn.datasets import make_classification, make_regression, load_diabetes\n",
    "from sklearn.model_selection import train_test_split\n",
    "from sklearn import set_config\n",
    "import pandas as pd\n",
    "import sklearn\n",
    "try:\n",
    "    set_config(display=\"diagram\")\n",
    "except Exception:\n",
    "    print(\"I can't display pipelines as diagram because sklearn 0.23+ isn't installed :'(\")\n",
    "\n",
    "#X, y = make_classification(\n",
    "#    n_samples=1000,\n",
    "#    n_features=10,\n",
    "#    n_informative=3,\n",
    "#    n_redundant=0,\n",
    "#    n_repeated=0,\n",
    "#    n_classes=2,\n",
    "#    random_state=0,\n",
    "#    shuffle=False,\n",
    "#)\n",
    "\n",
    "X, y = make_regression(\n",
    "    n_samples=1000,\n",
    "    n_features = 20,\n",
    "    n_informative=9,\n",
    "    effective_rank=10,\n",
    "    random_state=42,\n",
    "    shuffle=True,\n",
    "    noise=0.2\n",
    ")\n",
    "\n",
    "X_train, X_test, y_train, y_test = train_test_split(X, y, random_state=42)"
   ]
  },
  {
   "cell_type": "markdown",
   "metadata": {},
   "source": [
    "A random forest classifier will be fitted to compute the feature importances.\n",
    "\n"
   ]
  },
  {
   "cell_type": "code",
   "execution_count": 6,
   "metadata": {
    "jupyter": {
     "outputs_hidden": false
    }
   },
   "outputs": [
    {
     "name": "stderr",
     "output_type": "stream",
     "text": [
      "/usr/lib/python3/dist-packages/sklearn/preprocessing/_data.py:2354: UserWarning: n_quantiles (1000) is greater than the total number of samples (750). n_quantiles is set to n_samples.\n",
      "  warnings.warn(\"n_quantiles (%s) is greater than the total number \"\n"
     ]
    },
    {
     "data": {
      "text/plain": [
       "Pipeline(memory=None,\n",
       "         steps=[('scaler',\n",
       "                 QuantileTransformer(copy=True, ignore_implicit_zeros=False,\n",
       "                                     n_quantiles=1000,\n",
       "                                     output_distribution='uniform',\n",
       "                                     random_state=None, subsample=100000)),\n",
       "                ('learner',\n",
       "                 AdaBoostRegressor(base_estimator=ARDRegression(alpha_1=1e-06,\n",
       "                                                                alpha_2=1e-06,\n",
       "                                                                compute_score=False,\n",
       "                                                                copy_X=True,\n",
       "                                                                fit_intercept=True,\n",
       "                                                                lambda_1=1e-06,\n",
       "                                                                lambda_2=1e-06,\n",
       "                                                                n_iter=300,\n",
       "                                                                normalize=False,\n",
       "                                                                threshold_lambda=10000.0,\n",
       "                                                                tol=0.001,\n",
       "                                                                verbose=False),\n",
       "                                   learning_rate=1.0, loss='linear',\n",
       "                                   n_estimators=50, random_state=None))],\n",
       "         verbose=False)"
      ]
     },
     "execution_count": 6,
     "metadata": {},
     "output_type": "execute_result"
    }
   ],
   "source": [
    "from sklearn.ensemble import RandomForestClassifier, RandomForestRegressor, AdaBoostRegressor\n",
    "\n",
    "from sklearn.linear_model import ARDRegression, LinearRegression\n",
    "from sklearn.pipeline import Pipeline\n",
    "from sklearn.preprocessing import QuantileTransformer\n",
    "\n",
    "feature_names = [f\"feature {i}\" for i in range(X.shape[1])]\n",
    "\n",
    "fpipeline = Pipeline(\n",
    "    steps=[\n",
    "        (\"scaler\",QuantileTransformer()),\n",
    "        #(\"learner\",RandomForestRegressor())\n",
    "        #(\"learner\",ARDRegression())\n",
    "        (\"learner\",AdaBoostRegressor(base_estimator=ARDRegression()))\n",
    "        #(\"learner\",LinearRegression())\n",
    "    ]\n",
    ")\n",
    "learner = fpipeline[\"learner\"]\n",
    "fpipeline.fit(X_train, y_train)"
   ]
  },
  {
   "cell_type": "markdown",
   "metadata": {},
   "source": [
    "## Feature importance based on mean decrease in impurity\n",
    "Feature importances are provided by the fitted attribute\n",
    "`feature_importances_` and they are computed as the mean and standard\n",
    "deviation of accumulation of the impurity decrease within each tree.\n",
    "\n",
    "<div class=\"alert alert-danger\"><h4>Warning</h4><p>Impurity-based feature importances can be misleading for **high\n",
    "    cardinality** features (many unique values). See\n",
    "    `permutation_importance` as an alternative below.</p></div>\n",
    "\n"
   ]
  },
  {
   "cell_type": "code",
   "execution_count": 17,
   "metadata": {
    "jupyter": {
     "outputs_hidden": false
    }
   },
   "outputs": [
    {
     "name": "stdout",
     "output_type": "stream",
     "text": [
      "(20,)\n",
      "[0.30952791 0.01732413 0.45932562 0.31823621 0.1489455  0.0900895\n",
      " 0.09470411 0.2642833  0.23834576 0.17210637 0.17422048 0.217605\n",
      " 0.15152388 0.10285934 0.47471699 0.12298023 0.18052395 0.22910792\n",
      " 0.31443267 0.33790813]\n",
      "Elapsed time to compute the importances: 0.001 seconds\n"
     ]
    }
   ],
   "source": [
    "import time\n",
    "import numpy as np\n",
    "\n",
    "\n",
    "start_time = time.time()\n",
    "\n",
    "def get_importances(predictor):\n",
    "    \n",
    "    try:\n",
    "        return predictor.feature_importances_\n",
    "    except Exception as e1:\n",
    "        try:\n",
    "            return predictor.coef_.flatten()\n",
    "        except Exception as e2:\n",
    "            return np.mean([get_importances(p) for p in predictor.estimators_],axis=0)\n",
    "    \n",
    "    \n",
    "def get_importance_std(predictor):\n",
    "    \n",
    "    try:\n",
    "        return np.std([get_importances(p) for p in predictor.estimators_],axis=0)\n",
    "    except Exception:\n",
    "        \n",
    "        return np.std([get_importances(predictor)],axis=0)\n",
    "\n",
    "importances = get_importances(learner)\n",
    "\n",
    "print(importances.shape)\n",
    "\n",
    "std = get_importance_std(learner)\n",
    "\n",
    "print(std)\n",
    "\n",
    "elapsed_time = time.time() - start_time\n",
    "\n",
    "print(f\"Elapsed time to compute the importances: {elapsed_time:.3f} seconds\")"
   ]
  },
  {
   "cell_type": "markdown",
   "metadata": {},
   "source": [
    "Let's plot the impurity-based importance.\n",
    "\n"
   ]
  },
  {
   "cell_type": "code",
   "execution_count": 18,
   "metadata": {
    "jupyter": {
     "outputs_hidden": false
    }
   },
   "outputs": [
    {
     "data": {
      "image/png": "[encoded data removed]",
      "text/plain": [
       "<Figure size 1152x648 with 1 Axes>"
      ]
     },
     "metadata": {
      "needs_background": "light"
     },
     "output_type": "display_data"
    }
   ],
   "source": [
    "import pandas as pd\n",
    "\n",
    "learner_importances = pd.Series(importances, index=feature_names)\n",
    "\n",
    "fig, ax = plt.subplots(\n",
    "    figsize=(16,9)\n",
    ")\n",
    "bar = ax.bar(learner_importances.index, learner_importances.values, 0.35, yerr=std)\n",
    "\n",
    "ax.bar_label(bar, fmt='%.2f')\n",
    "\n",
    "ax.axhline(0, color='grey', linewidth=0.8)\n",
    "ax.set_title(\"Feature importances using MDI\")\n",
    "ax.set_ylabel(\"Mean decrease in impurity\")\n",
    "fig.tight_layout()"
   ]
  },
  {
   "cell_type": "markdown",
   "metadata": {},
   "source": [
    "We observe that, as expected, the three first features are found important.\n",
    "\n",
    "## Feature importance based on feature permutation\n",
    "Permutation feature importance overcomes limitations of the impurity-based\n",
    "feature importance: they do not have a bias toward high-cardinality features\n",
    "and can be computed on a left-out test set.\n",
    "\n"
   ]
  },
  {
   "cell_type": "code",
   "execution_count": 19,
   "metadata": {
    "jupyter": {
     "outputs_hidden": false
    }
   },
   "outputs": [
    {
     "name": "stdout",
     "output_type": "stream",
     "text": [
      "Elapsed time to compute the importances: 0.727 seconds\n"
     ]
    }
   ],
   "source": [
    "from sklearn.inspection import permutation_importance\n",
    "\n",
    "start_time = time.time()\n",
    "result = permutation_importance(\n",
    "    learner, X_test, y_test, n_repeats=10, random_state=42, n_jobs=2\n",
    ")\n",
    "elapsed_time = time.time() - start_time\n",
    "print(f\"Elapsed time to compute the importances: {elapsed_time:.3f} seconds\")\n",
    "\n",
    "learner_importances = pd.Series(result.importances_mean, index=feature_names)"
   ]
  },
  {
   "cell_type": "markdown",
   "metadata": {},
   "source": [
    "The computation for full permutation importance is more costly. Features are\n",
    "shuffled n times and the model refitted to estimate the importance of it.\n",
    "Please see `permutation_importance` for more details. We can now plot\n",
    "the importance ranking.\n",
    "\n"
   ]
  },
  {
   "cell_type": "code",
   "execution_count": 20,
   "metadata": {
    "jupyter": {
     "outputs_hidden": false
    }
   },
   "outputs": [
    {
     "data": {
      "image/png": "[encoded data removed]",
      "text/plain": [
       "<Figure size 1152x648 with 1 Axes>"
      ]
     },
     "metadata": {
      "needs_background": "light"
     },
     "output_type": "display_data"
    }
   ],
   "source": [
    "fig, ax = plt.subplots(\n",
    "    figsize=(16,9)\n",
    ")\n",
    "\n",
    "bar = ax.bar(learner_importances.index, learner_importances.values, 0.35, yerr=result.importances_std)\n",
    "ax.bar_label(bar, fmt='%.2f')\n",
    "\n",
    "ax.axhline(0, color='grey', linewidth=0.8)\n",
    "\n",
    "#learner_importances.plot.bar(yerr=result.importances_std, ax=ax)\n",
    "#for container in ax.containers:\n",
    "#    ax.bar_label(container, label_type=\"center\")\n",
    "ax.set_title(\"Feature importances using permutation on full model\")\n",
    "ax.set_ylabel(\"Mean accuracy decrease\")\n",
    "fig.tight_layout()\n",
    "plt.show()"
   ]
  },
  {
   "cell_type": "markdown",
   "metadata": {},
   "source": [
    "The same features are detected as most important using both methods. Although\n",
    "the relative importances vary. As seen on the plots, MDI is less likely than\n",
    "permutation importance to fully omit a feature.\n",
    "\n"
   ]
  }
 ],
 "metadata": {
  "kernelspec": {
   "display_name": "Python 3",
   "language": "python",
   "name": "python3"
  },
  "language_info": {
   "codemirror_mode": {
    "name": "ipython",
    "version": 3
   },
   "file_extension": ".py",
   "mimetype": "text/x-python",
   "name": "python",
   "nbconvert_exporter": "python",
   "pygments_lexer": "ipython3",
   "version": "3.8.10"
  }
 },
 "nbformat": 4,
 "nbformat_minor": 4
}
