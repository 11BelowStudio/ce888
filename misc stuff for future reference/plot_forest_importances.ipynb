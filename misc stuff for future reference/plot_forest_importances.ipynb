{
 "cells": [
  {
   "cell_type": "code",
   "execution_count": 190,
   "metadata": {
    "jupyter": {
     "outputs_hidden": false
    },
    "pycharm": {
     "name": "#%%\n"
    }
   },
   "outputs": [],
   "source": [
    "%matplotlib inline"
   ]
  },
  {
   "cell_type": "markdown",
   "metadata": {
    "pycharm": {
     "name": "#%% md\n"
    }
   },
   "source": [
    "### Shamelessly ripped off from https://scikit-learn.org/stable/auto_examples/ensemble/plot_forest_importances.html\n",
    "\n",
    "\n",
    "\n",
    "# Feature importances with ~~a forest of trees~~ *pretty much any regressor*\n",
    "\n",
    "This example shows the use of ~~a forest of trees~~ *pretty much any regressor*\n",
    "to evaluate the importance of\n",
    "features on an artificial classification task. The blue bars are the feature\n",
    "importances of the forest, along with their inter-trees variability represented\n",
    "by the error bars.\n",
    "\n",
    "As expected, the plot suggests that 3 features are informative, while the\n",
    "remaining are not."
   ]
  },
  {
   "cell_type": "code",
   "execution_count": 191,
   "metadata": {
    "jupyter": {
     "outputs_hidden": false
    },
    "pycharm": {
     "name": "#%%\n"
    }
   },
   "outputs": [],
   "source": [
    "import matplotlib.pyplot as plt"
   ]
  },
  {
   "cell_type": "markdown",
   "metadata": {
    "pycharm": {
     "name": "#%% md\n"
    }
   },
   "source": [
    "## Data generation and model fitting\n",
    "We generate a synthetic dataset with only 3 informative features. We will\n",
    "explicitly not shuffle the dataset to ensure that the informative features\n",
    "will correspond to the three first columns of X. In addition, we will split\n",
    "our dataset into training and testing subsets.\n",
    "\n"
   ]
  },
  {
   "cell_type": "code",
   "execution_count": 192,
   "metadata": {
    "jupyter": {
     "outputs_hidden": false
    },
    "pycharm": {
     "name": "#%%\n"
    }
   },
   "outputs": [],
   "source": [
    "from sklearn.datasets import make_classification, make_regression, load_diabetes\n",
    "from sklearn.model_selection import train_test_split\n",
    "from sklearn import set_config\n",
    "import pandas as pd\n",
    "import sklearn\n",
    "try:\n",
    "    set_config(display=\"diagram\")\n",
    "except Exception:\n",
    "    print(\"I can't display pipelines as diagram because sklearn 0.23+ isn't installed :'(\")\n",
    "\n",
    "#X, y = make_classification(\n",
    "#    n_samples=1000,\n",
    "#    n_features=10,\n",
    "#    n_informative=3,\n",
    "#    n_redundant=0,\n",
    "#    n_repeated=0,\n",
    "#    n_classes=2,\n",
    "#    random_state=0,\n",
    "#    shuffle=False,\n",
    "#)\n",
    "\n",
    "X, y = make_regression(\n",
    "    n_samples=1000,\n",
    "    n_features = 20,\n",
    "    n_informative=9,\n",
    "    effective_rank=10,\n",
    "    random_state=42,\n",
    "    shuffle=True,\n",
    "    noise=0.2\n",
    ")\n",
    "\n",
    "X_train, X_test, y_train, y_test = train_test_split(X, y, random_state=42)"
   ]
  },
  {
   "cell_type": "markdown",
   "metadata": {
    "pycharm": {
     "name": "#%% md\n"
    }
   },
   "source": [
    "A random forest classifier will be fitted to compute the feature importances.\n",
    "\n"
   ]
  },
  {
   "cell_type": "code",
   "execution_count": 193,
   "metadata": {
    "jupyter": {
     "outputs_hidden": false
    },
    "pycharm": {
     "name": "#%%\n"
    }
   },
   "outputs": [
    {
     "name": "stdout",
     "output_type": "stream",
     "text": [
      "0.9539465031729216\n"
     ]
    },
    {
     "name": "stderr",
     "output_type": "stream",
     "text": [
      "D:\\PycharmProjects\\ce888\\venv38\\lib\\site-packages\\sklearn\\preprocessing\\_data.py:2590: UserWarning: n_quantiles (1000) is greater than the total number of samples (750). n_quantiles is set to n_samples.\n",
      "  warnings.warn(\n"
     ]
    }
   ],
   "source": [
    "from sklearn.ensemble import RandomForestClassifier, RandomForestRegressor, AdaBoostRegressor\n",
    "\n",
    "from sklearn.linear_model import ARDRegression, LinearRegression\n",
    "from sklearn.pipeline import Pipeline\n",
    "from sklearn.preprocessing import QuantileTransformer\n",
    "\n",
    "feature_names = [f\"feature {i}\" for i in range(X.shape[1])]\n",
    "\n",
    "fpipeline = Pipeline(\n",
    "    steps=[\n",
    "        (\"scaler\",QuantileTransformer()),\n",
    "        #(\"learner\",RandomForestRegressor())\n",
    "        #(\"learner\",ARDRegression())\n",
    "        #(\"learner\",AdaBoostRegressor(base_estimator=RandomForestRegressor()))\n",
    "        (\"learner\",AdaBoostRegressor(base_estimator=ARDRegression()))\n",
    "        #(\"learner\",LinearRegression())\n",
    "    ]\n",
    ")\n",
    "learner = fpipeline[\"learner\"]\n",
    "fpipeline.fit(X_train, y_train)\n",
    "\n",
    "print(fpipeline.score(X_test,y_test))"
   ]
  },
  {
   "cell_type": "markdown",
   "metadata": {
    "pycharm": {
     "name": "#%% md\n"
    }
   },
   "source": [
    "## Feature importance based on mean decrease in impurity\n",
    "Feature importances are provided by the fitted attribute\n",
    "`feature_importances_` and they are computed as the mean and standard\n",
    "deviation of accumulation of the impurity decrease within each tree.\n",
    "\n",
    "<div class=\"alert alert-danger\"><h4>Warning</h4><p>Impurity-based feature importances can be misleading for **high\n",
    "    cardinality** features (many unique values). See\n",
    "    `permutation_importance` as an alternative below.</p></div>\n",
    "\n"
   ]
  },
  {
   "cell_type": "code",
   "execution_count": 194,
   "metadata": {
    "jupyter": {
     "outputs_hidden": false
    },
    "pycharm": {
     "name": "#%%\n"
    }
   },
   "outputs": [
    {
     "name": "stdout",
     "output_type": "stream",
     "text": [
      "Unable to compute feature importances since base_estimator does not have a feature_importances_ attribute\n",
      "'AdaBoostRegressor' object has no attribute 'coef_'\n",
      "'ARDRegression' object has no attribute 'feature_importances_'\n",
      "'ARDRegression' object has no attribute 'feature_importances_'\n",
      "'ARDRegression' object has no attribute 'feature_importances_'\n",
      "'ARDRegression' object has no attribute 'feature_importances_'\n",
      "'ARDRegression' object has no attribute 'feature_importances_'\n",
      "'ARDRegression' object has no attribute 'feature_importances_'\n",
      "'ARDRegression' object has no attribute 'feature_importances_'\n",
      "'ARDRegression' object has no attribute 'feature_importances_'\n",
      "'ARDRegression' object has no attribute 'feature_importances_'\n",
      "'ARDRegression' object has no attribute 'feature_importances_'\n",
      "'ARDRegression' object has no attribute 'feature_importances_'\n",
      "(20,)\n",
      "'ARDRegression' object has no attribute 'feature_importances_'\n",
      "'ARDRegression' object has no attribute 'feature_importances_'\n",
      "'ARDRegression' object has no attribute 'feature_importances_'\n",
      "'ARDRegression' object has no attribute 'feature_importances_'\n",
      "'ARDRegression' object has no attribute 'feature_importances_'\n",
      "'ARDRegression' object has no attribute 'feature_importances_'\n",
      "'ARDRegression' object has no attribute 'feature_importances_'\n",
      "'ARDRegression' object has no attribute 'feature_importances_'\n",
      "'ARDRegression' object has no attribute 'feature_importances_'\n",
      "'ARDRegression' object has no attribute 'feature_importances_'\n",
      "'ARDRegression' object has no attribute 'feature_importances_'\n",
      "[0.16394891 0.22030366 0.42880748 0.37926163 0.21900667 0.17302041\n",
      " 0.25420204 0.33826144 0.26617068 0.26370493 0.35031398 0.19948875\n",
      " 0.1581623  0.08424653 0.32030209 0.22736734 0.4254853  0.20398274\n",
      " 0.23263808 0.18080078]\n",
      "Elapsed time to compute the importances: 0.001 seconds\n"
     ]
    }
   ],
   "source": [
    "import time\n",
    "import numpy as np\n",
    "\n",
    "\n",
    "start_time = time.time()\n",
    "\n",
    "def get_importances(predictor):\n",
    "    \n",
    "    try:\n",
    "        return predictor.feature_importances_\n",
    "    except AttributeError as e1:\n",
    "        print(e1)\n",
    "        try:\n",
    "            return predictor.coef_.flatten()\n",
    "        except AttributeError as e2:\n",
    "            print(e2)\n",
    "            return np.mean([get_importances(p) for p in predictor.estimators_],axis=0)\n",
    "    \n",
    "    \n",
    "def get_importance_std(predictor):\n",
    "    \n",
    "    try:\n",
    "        return np.std([get_importances(p) for p in predictor.estimators_],axis=0)\n",
    "    except AttributeError as e3:\n",
    "        print(e3)\n",
    "        return np.std([get_importances(predictor)],axis=0)\n",
    "\n",
    "importances = get_importances(learner)\n",
    "\n",
    "print(importances.shape)\n",
    "\n",
    "std = get_importance_std(learner)\n",
    "\n",
    "print(std)\n",
    "\n",
    "elapsed_time = time.time() - start_time\n",
    "\n",
    "print(f\"Elapsed time to compute the importances: {elapsed_time:.3f} seconds\")"
   ]
  },
  {
   "cell_type": "markdown",
   "metadata": {
    "pycharm": {
     "name": "#%% md\n"
    }
   },
   "source": [
    "Let's plot the impurity-based importance.\n",
    "\n"
   ]
  },
  {
   "cell_type": "code",
   "execution_count": 195,
   "metadata": {
    "jupyter": {
     "outputs_hidden": false
    },
    "pycharm": {
     "name": "#%%\n"
    }
   },
   "outputs": [
    {
     "data": {
      "text/plain": "<Figure size 1152x648 with 1 Axes>",
      "image/png": "[encoded data removed]"
     },
     "metadata": {
      "needs_background": "light"
     },
     "output_type": "display_data"
    }
   ],
   "source": [
    "import pandas as pd\n",
    "\n",
    "learner_importances = pd.Series(importances, index=feature_names)\n",
    "\n",
    "fig, ax = plt.subplots(\n",
    "    figsize=(16,9)\n",
    ")\n",
    "bar = ax.bar(\n",
    "    feature_names,\n",
    "    #learner_importances.index,\n",
    "    importances,\n",
    "    #learner_importances.values,\n",
    "    #0.35,\n",
    "    yerr=std\n",
    ")\n",
    "\n",
    "ax.bar_label(bar, fmt='%.3f')\n",
    "\n",
    "ax.axhline(0, color='grey', linewidth=0.8)\n",
    "ax.set_title(\"Feature importances using MDI\")\n",
    "ax.set_ylabel(\"Mean decrease in impurity\")\n",
    "fig.tight_layout()"
   ]
  },
  {
   "cell_type": "markdown",
   "metadata": {
    "pycharm": {
     "name": "#%% md\n"
    }
   },
   "source": [
    "\n",
    "\n",
    "## Feature importance based on feature permutation\n",
    "Permutation feature importance overcomes limitations of the impurity-based\n",
    "feature importance: they do not have a bias toward high-cardinality features\n",
    "and can be computed on a left-out test set.\n",
    "\n"
   ]
  },
  {
   "cell_type": "code",
   "execution_count": 196,
   "metadata": {
    "jupyter": {
     "outputs_hidden": false
    },
    "pycharm": {
     "name": "#%%\n"
    }
   },
   "outputs": [
    {
     "name": "stdout",
     "output_type": "stream",
     "text": [
      "Elapsed time to compute the importances: 1.195 seconds\n"
     ]
    }
   ],
   "source": [
    "from sklearn.inspection import permutation_importance\n",
    "\n",
    "start_time = time.time()\n",
    "result = permutation_importance(\n",
    "    learner, X_test, y_test, n_repeats=10, random_state=42, n_jobs=2\n",
    ")\n",
    "elapsed_time = time.time() - start_time\n",
    "print(f\"Elapsed time to compute the importances: {elapsed_time:.3f} seconds\")\n",
    "\n",
    "learner_importances = pd.Series(result.importances_mean, index=feature_names)"
   ]
  },
  {
   "cell_type": "markdown",
   "metadata": {
    "pycharm": {
     "name": "#%% md\n"
    }
   },
   "source": [
    "The computation for full permutation importance is more costly. Features are\n",
    "shuffled n times and the model refitted to estimate the importance of it.\n",
    "Please see `permutation_importance` for more details. We can now plot\n",
    "the importance ranking.\n",
    "\n"
   ]
  },
  {
   "cell_type": "code",
   "execution_count": 197,
   "metadata": {
    "jupyter": {
     "outputs_hidden": false
    },
    "pycharm": {
     "name": "#%%\n"
    }
   },
   "outputs": [
    {
     "data": {
      "text/plain": "<Figure size 1152x648 with 1 Axes>",
      "image/png": "[encoded data removed]"
     },
     "metadata": {
      "needs_background": "light"
     },
     "output_type": "display_data"
    }
   ],
   "source": [
    "fig, ax = plt.subplots(\n",
    "    figsize=(16,9)\n",
    ")\n",
    "\n",
    "bar = ax.bar(\n",
    "    learner_importances.index,\n",
    "    learner_importances.values,\n",
    "    #0.35,\n",
    "    yerr=result.importances_std\n",
    ")\n",
    "ax.bar_label(\n",
    "    bar,\n",
    "    #label_type=\"center\",\n",
    "    labels=[\n",
    "        f'{val:.3f}\\n±{err:.2f}'\n",
    "        for val, err in zip(learner_importances.values, result.importances_std)\n",
    "    ]\n",
    ")\n",
    "    #fmt='%.3f')\n",
    "\n",
    "ax.axhline(0, color='grey', linewidth=0.8)\n",
    "\n",
    "#learner_importances.plot.bar(yerr=result.importances_std, ax=ax)\n",
    "#for container in ax.containers:\n",
    "#    ax.bar_label(container, label_type=\"center\")\n",
    "ax.set_title(\"Feature importances using permutation on full model\")\n",
    "ax.set_ylabel(\"Mean accuracy decrease\")\n",
    "ax.grid(visible=True, which=\"both\", axis=\"both\")\n",
    "fig.tight_layout()\n",
    "plt.show()"
   ]
  },
  {
   "cell_type": "markdown",
   "metadata": {
    "pycharm": {
     "name": "#%% md\n"
    }
   },
   "source": [
    "The same features are detected as most important using both methods. Although\n",
    "the relative importances vary. As seen on the plots, MDI is less likely than\n",
    "permutation importance to fully omit a feature.\n",
    "\n"
   ]
  },
  {
   "cell_type": "code",
   "execution_count": null,
   "outputs": [],
   "source": [],
   "metadata": {
    "collapsed": false,
    "pycharm": {
     "name": "#%%\n"
    }
   }
  }
 ],
 "metadata": {
  "kernelspec": {
   "display_name": "Python 3",
   "language": "python",
   "name": "python3"
  },
  "language_info": {
   "codemirror_mode": {
    "name": "ipython",
    "version": 3
   },
   "file_extension": ".py",
   "mimetype": "text/x-python",
   "name": "python",
   "nbconvert_exporter": "python",
   "pygments_lexer": "ipython3",
   "version": "3.8.10"
  }
 },
 "nbformat": 4,
 "nbformat_minor": 4
}