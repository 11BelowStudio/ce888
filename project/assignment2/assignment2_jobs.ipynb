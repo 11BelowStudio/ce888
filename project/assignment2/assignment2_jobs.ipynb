{
 "cells": [
  {
   "cell_type": "code",
   "execution_count": 172,
   "metadata": {
    "collapsed": true,
    "pycharm": {
     "name": "#%%\n"
    }
   },
   "outputs": [],
   "source": [
    "from __future__ import annotations\n",
    "\n",
    "import pandas as pd\n",
    "import numpy as np\n",
    "import sys\n",
    "import traceback\n",
    "import seaborn as sns\n",
    "import matplotlib\n",
    "import matplotlib.pyplot as plt\n",
    "from typing import Literal, Final, List, TypeVar, Dict, Tuple, Any, Optional, Iterable, Union, NoReturn\n",
    "import sklearn\n",
    "import dataclasses\n",
    "import os\n",
    "\n",
    "\n",
    "\n",
    "import pickle\n",
    "\n",
    "import dill"
   ]
  },
  {
   "cell_type": "code",
   "execution_count": 173,
   "outputs": [],
   "source": [
    "dataset: Literal[\"ihdp\",\"jobs\"] = \"jobs\""
   ],
   "metadata": {
    "collapsed": false,
    "pycharm": {
     "name": "#%%\n"
    }
   }
  },
  {
   "cell_type": "code",
   "execution_count": 174,
   "outputs": [],
   "source": [
    "import warnings\n",
    "warnings.filterwarnings(\"ignore\")\n",
    "\n",
    "#print(sns.plotting_context())\n",
    "\n",
    "sns.set_theme(style=\"darkgrid\",context=\"paper\")\n",
    "\n",
    "import matplotlib.style\n",
    "if \"seaborn-darkgrid\" in matplotlib.style.available:\n",
    "    matplotlib.style.use(\"seaborn-darkgrid\")\n",
    "\n",
    "%matplotlib inline"
   ],
   "metadata": {
    "collapsed": false,
    "pycharm": {
     "name": "#%%\n"
    }
   }
  },
  {
   "cell_type": "code",
   "execution_count": 175,
   "outputs": [
    {
     "data": {
      "text/plain": "''"
     },
     "execution_count": 175,
     "metadata": {},
     "output_type": "execute_result"
    }
   ],
   "source": [
    "from assignment2.a2_utils.seed_utils import *\n",
    "\n",
    "from assignment2.a2_utils.misc_utils import *\n",
    "\n",
    "import assignment2.a2_utils.seed_utils as seed_utils\n",
    "import assignment2.a2_utils.misc_utils as misc_utils\n",
    "import assignment2.a2_utils.metric_utils as metric_utils\n",
    "import assignment2.a2_utils.dataframe_utils as df_utils\n",
    "import assignment2.a2_utils.simple_learner_utils as slearner\n",
    "\n",
    "import econml\n",
    "\n",
    "\n",
    "\"\""
   ],
   "metadata": {
    "collapsed": false,
    "pycharm": {
     "name": "#%%\n"
    }
   }
  },
  {
   "cell_type": "markdown",
   "source": [
    "# JOBS dataset processing\n"
   ],
   "metadata": {
    "collapsed": false,
    "pycharm": {
     "name": "#%% md\n"
    }
   }
  },
  {
   "cell_type": "code",
   "execution_count": 175,
   "outputs": [],
   "source": [],
   "metadata": {
    "collapsed": false,
    "pycharm": {
     "name": "#%%\n"
    }
   }
  },
  {
   "cell_type": "code",
   "execution_count": 176,
   "outputs": [
    {
     "data": {
      "text/plain": "         x0        x1  x2  x3  x4  x5        x6        x7        x8        x9  \\\n0 -0.614282  1.464727   0   0   1   0  2.393250  2.746196 -0.653311 -0.656913   \n1 -0.802463  0.101835   0   0   1   0  0.109885  0.498271 -0.785284 -0.743407   \n2 -0.896553 -0.238888   1   0   1   1 -0.085212 -0.148097 -0.847312 -0.781606   \n3 -0.896553 -0.238888   0   0   0   1  0.405581  0.325594 -0.847312 -0.781606   \n4  0.138440 -1.601779   1   0   1   1 -0.722531 -0.212734 -0.019840 -0.156019   \n\n   ...       x11       x12  x13  x14       x15  x16  t  y  e  tcf  \n0  ...  2.462337  2.937244    0    0  2.843909    0  0  1  0    1  \n1  ... -0.177193  0.082537    0    0  0.038422    0  0  1  0    1  \n2  ... -0.286221 -0.303615    0    0 -0.191304    0  0  1  0    1  \n3  ...  0.023020 -0.039630    0    0  0.173108    0  0  1  1    1  \n4  ... -0.514563 -0.331552    0    0 -0.779227    0  0  1  0    1  \n\n[5 rows x 21 columns]",
      "text/html": "<div>\n<style scoped>\n    .dataframe tbody tr th:only-of-type {\n        vertical-align: middle;\n    }\n\n    .dataframe tbody tr th {\n        vertical-align: top;\n    }\n\n    .dataframe thead th {\n        text-align: right;\n    }\n</style>\n<table border=\"1\" class=\"dataframe\">\n  <thead>\n    <tr style=\"text-align: right;\">\n      <th></th>\n      <th>x0</th>\n      <th>x1</th>\n      <th>x2</th>\n      <th>x3</th>\n      <th>x4</th>\n      <th>x5</th>\n      <th>x6</th>\n      <th>x7</th>\n      <th>x8</th>\n      <th>x9</th>\n      <th>...</th>\n      <th>x11</th>\n      <th>x12</th>\n      <th>x13</th>\n      <th>x14</th>\n      <th>x15</th>\n      <th>x16</th>\n      <th>t</th>\n      <th>y</th>\n      <th>e</th>\n      <th>tcf</th>\n    </tr>\n  </thead>\n  <tbody>\n    <tr>\n      <th>0</th>\n      <td>-0.614282</td>\n      <td>1.464727</td>\n      <td>0</td>\n      <td>0</td>\n      <td>1</td>\n      <td>0</td>\n      <td>2.393250</td>\n      <td>2.746196</td>\n      <td>-0.653311</td>\n      <td>-0.656913</td>\n      <td>...</td>\n      <td>2.462337</td>\n      <td>2.937244</td>\n      <td>0</td>\n      <td>0</td>\n      <td>2.843909</td>\n      <td>0</td>\n      <td>0</td>\n      <td>1</td>\n      <td>0</td>\n      <td>1</td>\n    </tr>\n    <tr>\n      <th>1</th>\n      <td>-0.802463</td>\n      <td>0.101835</td>\n      <td>0</td>\n      <td>0</td>\n      <td>1</td>\n      <td>0</td>\n      <td>0.109885</td>\n      <td>0.498271</td>\n      <td>-0.785284</td>\n      <td>-0.743407</td>\n      <td>...</td>\n      <td>-0.177193</td>\n      <td>0.082537</td>\n      <td>0</td>\n      <td>0</td>\n      <td>0.038422</td>\n      <td>0</td>\n      <td>0</td>\n      <td>1</td>\n      <td>0</td>\n      <td>1</td>\n    </tr>\n    <tr>\n      <th>2</th>\n      <td>-0.896553</td>\n      <td>-0.238888</td>\n      <td>1</td>\n      <td>0</td>\n      <td>1</td>\n      <td>1</td>\n      <td>-0.085212</td>\n      <td>-0.148097</td>\n      <td>-0.847312</td>\n      <td>-0.781606</td>\n      <td>...</td>\n      <td>-0.286221</td>\n      <td>-0.303615</td>\n      <td>0</td>\n      <td>0</td>\n      <td>-0.191304</td>\n      <td>0</td>\n      <td>0</td>\n      <td>1</td>\n      <td>0</td>\n      <td>1</td>\n    </tr>\n    <tr>\n      <th>3</th>\n      <td>-0.896553</td>\n      <td>-0.238888</td>\n      <td>0</td>\n      <td>0</td>\n      <td>0</td>\n      <td>1</td>\n      <td>0.405581</td>\n      <td>0.325594</td>\n      <td>-0.847312</td>\n      <td>-0.781606</td>\n      <td>...</td>\n      <td>0.023020</td>\n      <td>-0.039630</td>\n      <td>0</td>\n      <td>0</td>\n      <td>0.173108</td>\n      <td>0</td>\n      <td>0</td>\n      <td>1</td>\n      <td>1</td>\n      <td>1</td>\n    </tr>\n    <tr>\n      <th>4</th>\n      <td>0.138440</td>\n      <td>-1.601779</td>\n      <td>1</td>\n      <td>0</td>\n      <td>1</td>\n      <td>1</td>\n      <td>-0.722531</td>\n      <td>-0.212734</td>\n      <td>-0.019840</td>\n      <td>-0.156019</td>\n      <td>...</td>\n      <td>-0.514563</td>\n      <td>-0.331552</td>\n      <td>0</td>\n      <td>0</td>\n      <td>-0.779227</td>\n      <td>0</td>\n      <td>0</td>\n      <td>1</td>\n      <td>0</td>\n      <td>1</td>\n    </tr>\n  </tbody>\n</table>\n<p>5 rows × 21 columns</p>\n</div>"
     },
     "execution_count": 176,
     "metadata": {},
     "output_type": "execute_result"
    }
   ],
   "source": [
    "\n",
    "jobs_full: pd.DataFrame = df_utils.turn_01_columns_into_int(\n",
    "    pd.read_csv(f\"{dataset}_full.csv\")\n",
    ")\n",
    "\"The full JOBS dataset as a dataframe\"\n",
    "\n",
    "jobs_full.head()"
   ],
   "metadata": {
    "collapsed": false,
    "pycharm": {
     "name": "#%%\n"
    }
   }
  },
  {
   "cell_type": "code",
   "execution_count": 177,
   "outputs": [
    {
     "name": "stdout",
     "output_type": "stream",
     "text": [
      "<class 'pandas.core.frame.DataFrame'>\n",
      "RangeIndex: 3212 entries, 0 to 3211\n",
      "Data columns (total 21 columns):\n",
      " #   Column  Non-Null Count  Dtype  \n",
      "---  ------  --------------  -----  \n",
      " 0   x0      3212 non-null   float64\n",
      " 1   x1      3212 non-null   float64\n",
      " 2   x2      3212 non-null   uint8  \n",
      " 3   x3      3212 non-null   uint8  \n",
      " 4   x4      3212 non-null   uint8  \n",
      " 5   x5      3212 non-null   uint8  \n",
      " 6   x6      3212 non-null   float64\n",
      " 7   x7      3212 non-null   float64\n",
      " 8   x8      3212 non-null   float64\n",
      " 9   x9      3212 non-null   float64\n",
      " 10  x10     3212 non-null   float64\n",
      " 11  x11     3212 non-null   float64\n",
      " 12  x12     3212 non-null   float64\n",
      " 13  x13     3212 non-null   uint8  \n",
      " 14  x14     3212 non-null   uint8  \n",
      " 15  x15     3212 non-null   float64\n",
      " 16  x16     3212 non-null   uint8  \n",
      " 17  t       3212 non-null   uint8  \n",
      " 18  y       3212 non-null   uint8  \n",
      " 19  e       3212 non-null   uint8  \n",
      " 20  tcf     3212 non-null   uint8  \n",
      "dtypes: float64(10), uint8(11)\n",
      "memory usage: 285.6 KB\n"
     ]
    }
   ],
   "source": [
    "jobs_full.info()"
   ],
   "metadata": {
    "collapsed": false,
    "pycharm": {
     "name": "#%%\n"
    }
   }
  },
  {
   "cell_type": "code",
   "execution_count": 177,
   "outputs": [],
   "source": [],
   "metadata": {
    "collapsed": false,
    "pycharm": {
     "name": "#%%\n"
    }
   }
  },
  {
   "cell_type": "code",
   "execution_count": 178,
   "outputs": [],
   "source": [
    "dfm: df_utils.DataframeManager = df_utils.DataframeManager.make(\n",
    "    dataset_name = dataset,\n",
    "    the_df = jobs_full,\n",
    "    test_proportion = 0.1,\n",
    "    split_randomstate = rng_state(),\n",
    "    columns_for_training_stratification= [\"t\",\"e\",\"y\"],\n",
    "    t_column = \"t\",\n",
    "    t_cf_column = \"tcf\",\n",
    "    y_column = \"y\",\n",
    "    e_column = \"e\",\n",
    "\n",
    ")\n"
   ],
   "metadata": {
    "collapsed": false,
    "pycharm": {
     "name": "#%%\n"
    }
   }
  },
  {
   "cell_type": "code",
   "execution_count": 179,
   "outputs": [
    {
     "name": "stdout",
     "output_type": "stream",
     "text": [
      "pickling self as \\jobs\\jobs DataframeManager.pickle...\n",
      "pickled!\n"
     ]
    },
    {
     "data": {
      "text/plain": "True"
     },
     "execution_count": 179,
     "metadata": {},
     "output_type": "execute_result"
    }
   ],
   "source": [
    "dfm.save_self()"
   ],
   "metadata": {
    "collapsed": false,
    "pycharm": {
     "name": "#%%\n"
    }
   }
  },
  {
   "cell_type": "code",
   "execution_count": 179,
   "outputs": [],
   "source": [],
   "metadata": {
    "collapsed": false,
    "pycharm": {
     "name": "#%%\n"
    }
   }
  },
  {
   "cell_type": "code",
   "execution_count": 179,
   "outputs": [],
   "source": [],
   "metadata": {
    "collapsed": false,
    "pycharm": {
     "name": "#%%\n"
    }
   }
  },
  {
   "cell_type": "code",
   "execution_count": 180,
   "outputs": [],
   "source": [
    "from sklearn.model_selection import KFold\n",
    "from sklearn.model_selection._validation import NotFittedError\n",
    "from sklearn.base import ClassifierMixin, TransformerMixin\n",
    "from sklearn.linear_model import ARDRegression, SGDClassifier, SGDClassifier\n",
    "from sklearn.ensemble import RandomForestClassifier, AdaBoostClassifier, RandomForestClassifier, AdaBoostClassifier\n",
    "from sklearn.tree import DecisionTreeClassifier, DecisionTreeClassifier\n",
    "from sklearn.preprocessing import QuantileTransformer\n",
    "from sklearn.impute import KNNImputer\n",
    "from sklearn.pipeline import Pipeline, make_pipeline\n",
    "from sklearn import set_config\n",
    "from sklearn.metrics import r2_score, make_scorer\n",
    "from sklearn.experimental import enable_halving_search_cv\n",
    "from sklearn.model_selection import HalvingGridSearchCV, GridSearchCV\n",
    "from sklearn.preprocessing import PolynomialFeatures\n",
    "from sklearn.inspection import permutation_importance\n",
    "from sklearn.utils import Bunch\n",
    "from math import inf\n",
    "\n",
    "set_config(display=\"diagram\")\n",
    "\n"
   ],
   "metadata": {
    "collapsed": false,
    "pycharm": {
     "name": "#%%\n"
    }
   }
  },
  {
   "cell_type": "markdown",
   "source": [
    "# Part 3 - Simple Learners"
   ],
   "metadata": {
    "collapsed": false,
    "pycharm": {
     "name": "#%% md\n"
    }
   }
  },
  {
   "cell_type": "code",
   "execution_count": 180,
   "outputs": [],
   "source": [],
   "metadata": {
    "collapsed": false,
    "pycharm": {
     "name": "#%%\n"
    }
   }
  },
  {
   "cell_type": "code",
   "execution_count": 181,
   "outputs": [
    {
     "name": "stdout",
     "output_type": "stream",
     "text": [
      "-- 10-fold attempt 1/4 start --\n",
      "max: 50, min: 7, factor: 8\n",
      "n_iterations: 3\n",
      "n_required_iterations: 3\n",
      "n_possible_iterations: 1\n",
      "min_resources_: 7\n",
      "max_resources_: 50\n",
      "aggressive_elimination: True\n",
      "factor: 8\n",
      "----------\n",
      "iter: 0\n",
      "n_candidates: 500\n",
      "n_resources: 7\n",
      "Fitting 10 folds for each of 500 candidates, totalling 5000 fits\n",
      "----------\n",
      "iter: 1\n",
      "n_candidates: 63\n",
      "n_resources: 7\n",
      "Fitting 10 folds for each of 63 candidates, totalling 630 fits\n",
      "----------\n",
      "iter: 2\n",
      "n_candidates: 8\n",
      "n_resources: 7\n",
      "Fitting 10 folds for each of 8 candidates, totalling 80 fits\n",
      "best from this iteration: \n",
      "GridSearchResults summary Random Forest simple jobs\n",
      "\ttest score:\t0.05141334081503812\n",
      "\ttrain score:0.08019262782375895\n",
      "\ty score:\t0.11880291216390815\n",
      "\tabs ATT:\t2.6041513170924935\n",
      "\tp. risk:\t0.008949499254208404\n",
      "\n",
      "--- 1/4 END ---\n",
      "-- 10-fold attempt 2/4 start --\n",
      "max: 100, min: 1, factor: 10\n",
      "n_iterations: 3\n",
      "n_required_iterations: 3\n",
      "n_possible_iterations: 3\n",
      "min_resources_: 1\n",
      "max_resources_: 100\n",
      "aggressive_elimination: True\n",
      "factor: 10\n",
      "----------\n",
      "iter: 0\n",
      "n_candidates: 500\n",
      "n_resources: 1\n",
      "Fitting 10 folds for each of 500 candidates, totalling 5000 fits\n",
      "----------\n",
      "iter: 1\n",
      "n_candidates: 50\n",
      "n_resources: 10\n",
      "Fitting 10 folds for each of 50 candidates, totalling 500 fits\n",
      "----------\n",
      "iter: 2\n",
      "n_candidates: 5\n",
      "n_resources: 100\n",
      "Fitting 10 folds for each of 5 candidates, totalling 50 fits\n",
      "best from this iteration: \n",
      "GridSearchResults summary Random Forest simple jobs\n",
      "\ttest score:\t0.05141334081503812\n",
      "\ttrain score:0.069318011202359\n",
      "\ty score:\t0.11880291216390815\n",
      "\tabs ATT:\t0.009205783323430375\n",
      "\tp. risk:\t0.0\n",
      "\n",
      "--- 2/4 END ---\n",
      "-- 10-fold attempt 3/4 start --\n",
      "max: 150, min: 12, factor: 13\n",
      "n_iterations: 3\n",
      "n_required_iterations: 3\n",
      "n_possible_iterations: 1\n",
      "min_resources_: 12\n",
      "max_resources_: 150\n",
      "aggressive_elimination: True\n",
      "factor: 13\n",
      "----------\n",
      "iter: 0\n",
      "n_candidates: 500\n",
      "n_resources: 12\n",
      "Fitting 10 folds for each of 500 candidates, totalling 5000 fits\n",
      "----------\n",
      "iter: 1\n",
      "n_candidates: 39\n",
      "n_resources: 12\n",
      "Fitting 10 folds for each of 39 candidates, totalling 390 fits\n",
      "----------\n",
      "iter: 2\n",
      "n_candidates: 3\n",
      "n_resources: 12\n",
      "Fitting 10 folds for each of 3 candidates, totalling 30 fits\n",
      "best from this iteration: \n",
      "GridSearchResults summary Random Forest simple jobs\n",
      "\ttest score:\t0.006242547520516117\n",
      "\ttrain score:0.07456728124250586\n",
      "\ty score:\t0.09439302053409948\n",
      "\tabs ATT:\t0.014561299267181645\n",
      "\tp. risk:\t0.01634753422164703\n",
      "\n",
      "--- 3/4 END ---\n",
      "-- 10-fold attempt 4/4 start --\n",
      "max: 200, min: 14, factor: 15\n",
      "n_iterations: 3\n",
      "n_required_iterations: 3\n",
      "n_possible_iterations: 1\n",
      "min_resources_: 14\n",
      "max_resources_: 200\n",
      "aggressive_elimination: True\n",
      "factor: 15\n",
      "----------\n",
      "iter: 0\n",
      "n_candidates: 500\n",
      "n_resources: 14\n",
      "Fitting 10 folds for each of 500 candidates, totalling 5000 fits\n",
      "----------\n",
      "iter: 1\n",
      "n_candidates: 34\n",
      "n_resources: 14\n",
      "Fitting 10 folds for each of 34 candidates, totalling 340 fits\n",
      "----------\n",
      "iter: 2\n",
      "n_candidates: 3\n",
      "n_resources: 14\n",
      "Fitting 10 folds for each of 3 candidates, totalling 30 fits\n",
      "best from this iteration: \n",
      "GridSearchResults summary Random Forest simple jobs\n",
      "\ttest score:\t0.006242547520516117\n",
      "\ttrain score:0.07740681714321142\n",
      "\ty score:\t0.10171598802304205\n",
      "\tabs ATT:\t0.01926718162012287\n",
      "\tp. risk:\t0.01167681015831934\n",
      "\n",
      "--- 4/4 END ---\n",
      "CPU times: total: 50.2 s\n",
      "Wall time: 40min 26s\n"
     ]
    }
   ],
   "source": [
    "%%time\n",
    "\n",
    "rf_min_samples = [2,4,6,8]\n",
    "rf_min_impurity_decrease =  [0, *np.geomspace(0.00001, 0.15,5)[1:]]\n",
    "rf_max_features = [None,\"sqrt\",\"log2\",1,2]\n",
    "rf_ccp_alpha =  [0, *np.geomspace(0.00001, 0.15,5)[1:]]\n",
    "rf_n_estimators = [50,100,150,200]\n",
    "\n",
    "rf_simple_searched: List[\n",
    "    slearner.SimpleHalvingGridSearchResults\n",
    "] = slearner.simple_halving_grid_searcher(\n",
    "    RandomForestClassifier(random_state=seed()),\n",
    "    {\n",
    "        #\"estimator__n_estimators\": [75,100,125],\n",
    "        \"estimator__min_samples_split\": rf_min_samples,\n",
    "        \"estimator__min_impurity_decrease\":  rf_min_impurity_decrease,\n",
    "        \"estimator__max_features\":rf_max_features,\n",
    "        # \"estimator__oob_score\": [False, True],\n",
    "        \"estimator__ccp_alpha\":  rf_ccp_alpha\n",
    "    },\n",
    "    df_m=dfm,\n",
    "    df_selection=df_utils.DatasetEnum.FACTUAL,\n",
    "    learner_name=\"Random Forest simple\",\n",
    "    kfold_splits=10,\n",
    "    scorer_to_use=slearner.r2_score_id(),\n",
    "    stratify_on=[\"t\",\"y\"],\n",
    "    resource=\"estimator__n_estimators\",\n",
    "    resource_param_values=rf_n_estimators,\n",
    "    #classes_ndarray=ihdp_learn_df_x[\"t\"].to_numpy()\n",
    ")\n"
   ],
   "metadata": {
    "collapsed": false,
    "pycharm": {
     "name": "#%%\n"
    }
   }
  },
  {
   "cell_type": "code",
   "execution_count": 182,
   "outputs": [],
   "source": [
    "\n",
    "rf_simple_best: slearner.SimpleHalvingGridSearchResults = max(\n",
    "    rf_simple_searched\n",
    ")\n"
   ],
   "metadata": {
    "collapsed": false,
    "pycharm": {
     "name": "#%%\n"
    }
   }
  },
  {
   "cell_type": "code",
   "execution_count": 183,
   "outputs": [
    {
     "name": "stdout",
     "output_type": "stream",
     "text": [
      "GridSearchResults summary Random Forest simple jobs\n",
      "\ttest score:\t0.05141334081503812\n",
      "\ttrain score:0.069318011202359\n",
      "\ty score:\t0.11880291216390815\n",
      "\tabs ATT:\t0.009205783323430375\n",
      "\tp. risk:\t0.0\n",
      "\tbest params:\n",
      "\t\testimator__ccp_alpha : 0.00011066819197003216\n",
      "\t\testimator__max_features : None\n",
      "\t\testimator__min_impurity_decrease : 0.0012247448713915891\n",
      "\t\testimator__min_samples_split : 2\n",
      "\t\testimator__n_estimators : 100\n"
     ]
    },
    {
     "data": {
      "text/plain": "PPipeline(steps=[('scaler', QuantileTransformer(output_distribution='normal')),\n                 ('imputer', KNNImputer(weights='distance')),\n                 ('estimator',\n                  RandomForestClassifier(ccp_alpha=0.00011066819197003216,\n                                         max_features=None,\n                                         min_impurity_decrease=0.0012247448713915891,\n                                         random_state=42))])",
      "text/html": "<style>#sk-c7668628-7219-4c06-80f4-54b4eef8edf6 {color: black;background-color: white;}#sk-c7668628-7219-4c06-80f4-54b4eef8edf6 pre{padding: 0;}#sk-c7668628-7219-4c06-80f4-54b4eef8edf6 div.sk-toggleable {background-color: white;}#sk-c7668628-7219-4c06-80f4-54b4eef8edf6 label.sk-toggleable__label {cursor: pointer;display: block;width: 100%;margin-bottom: 0;padding: 0.3em;box-sizing: border-box;text-align: center;}#sk-c7668628-7219-4c06-80f4-54b4eef8edf6 label.sk-toggleable__label-arrow:before {content: \"▸\";float: left;margin-right: 0.25em;color: #696969;}#sk-c7668628-7219-4c06-80f4-54b4eef8edf6 label.sk-toggleable__label-arrow:hover:before {color: black;}#sk-c7668628-7219-4c06-80f4-54b4eef8edf6 div.sk-estimator:hover label.sk-toggleable__label-arrow:before {color: black;}#sk-c7668628-7219-4c06-80f4-54b4eef8edf6 div.sk-toggleable__content {max-height: 0;max-width: 0;overflow: hidden;text-align: left;background-color: #f0f8ff;}#sk-c7668628-7219-4c06-80f4-54b4eef8edf6 div.sk-toggleable__content pre {margin: 0.2em;color: black;border-radius: 0.25em;background-color: #f0f8ff;}#sk-c7668628-7219-4c06-80f4-54b4eef8edf6 input.sk-toggleable__control:checked~div.sk-toggleable__content {max-height: 200px;max-width: 100%;overflow: auto;}#sk-c7668628-7219-4c06-80f4-54b4eef8edf6 input.sk-toggleable__control:checked~label.sk-toggleable__label-arrow:before {content: \"▾\";}#sk-c7668628-7219-4c06-80f4-54b4eef8edf6 div.sk-estimator input.sk-toggleable__control:checked~label.sk-toggleable__label {background-color: #d4ebff;}#sk-c7668628-7219-4c06-80f4-54b4eef8edf6 div.sk-label input.sk-toggleable__control:checked~label.sk-toggleable__label {background-color: #d4ebff;}#sk-c7668628-7219-4c06-80f4-54b4eef8edf6 input.sk-hidden--visually {border: 0;clip: rect(1px 1px 1px 1px);clip: rect(1px, 1px, 1px, 1px);height: 1px;margin: -1px;overflow: hidden;padding: 0;position: absolute;width: 1px;}#sk-c7668628-7219-4c06-80f4-54b4eef8edf6 div.sk-estimator {font-family: monospace;background-color: #f0f8ff;border: 1px dotted black;border-radius: 0.25em;box-sizing: border-box;margin-bottom: 0.5em;}#sk-c7668628-7219-4c06-80f4-54b4eef8edf6 div.sk-estimator:hover {background-color: #d4ebff;}#sk-c7668628-7219-4c06-80f4-54b4eef8edf6 div.sk-parallel-item::after {content: \"\";width: 100%;border-bottom: 1px solid gray;flex-grow: 1;}#sk-c7668628-7219-4c06-80f4-54b4eef8edf6 div.sk-label:hover label.sk-toggleable__label {background-color: #d4ebff;}#sk-c7668628-7219-4c06-80f4-54b4eef8edf6 div.sk-serial::before {content: \"\";position: absolute;border-left: 1px solid gray;box-sizing: border-box;top: 2em;bottom: 0;left: 50%;}#sk-c7668628-7219-4c06-80f4-54b4eef8edf6 div.sk-serial {display: flex;flex-direction: column;align-items: center;background-color: white;padding-right: 0.2em;padding-left: 0.2em;}#sk-c7668628-7219-4c06-80f4-54b4eef8edf6 div.sk-item {z-index: 1;}#sk-c7668628-7219-4c06-80f4-54b4eef8edf6 div.sk-parallel {display: flex;align-items: stretch;justify-content: center;background-color: white;}#sk-c7668628-7219-4c06-80f4-54b4eef8edf6 div.sk-parallel::before {content: \"\";position: absolute;border-left: 1px solid gray;box-sizing: border-box;top: 2em;bottom: 0;left: 50%;}#sk-c7668628-7219-4c06-80f4-54b4eef8edf6 div.sk-parallel-item {display: flex;flex-direction: column;position: relative;background-color: white;}#sk-c7668628-7219-4c06-80f4-54b4eef8edf6 div.sk-parallel-item:first-child::after {align-self: flex-end;width: 50%;}#sk-c7668628-7219-4c06-80f4-54b4eef8edf6 div.sk-parallel-item:last-child::after {align-self: flex-start;width: 50%;}#sk-c7668628-7219-4c06-80f4-54b4eef8edf6 div.sk-parallel-item:only-child::after {width: 0;}#sk-c7668628-7219-4c06-80f4-54b4eef8edf6 div.sk-dashed-wrapped {border: 1px dashed gray;margin: 0 0.4em 0.5em 0.4em;box-sizing: border-box;padding-bottom: 0.4em;background-color: white;position: relative;}#sk-c7668628-7219-4c06-80f4-54b4eef8edf6 div.sk-label label {font-family: monospace;font-weight: bold;background-color: white;display: inline-block;line-height: 1.2em;}#sk-c7668628-7219-4c06-80f4-54b4eef8edf6 div.sk-label-container {position: relative;z-index: 2;text-align: center;}#sk-c7668628-7219-4c06-80f4-54b4eef8edf6 div.sk-container {/* jupyter's `normalize.less` sets `[hidden] { display: none; }` but bootstrap.min.css set `[hidden] { display: none !important; }` so we also need the `!important` here to be able to override the default hidden behavior on the sphinx rendered scikit-learn.org. See: https://github.com/scikit-learn/scikit-learn/issues/21755 */display: inline-block !important;position: relative;}#sk-c7668628-7219-4c06-80f4-54b4eef8edf6 div.sk-text-repr-fallback {display: none;}</style><div id=\"sk-c7668628-7219-4c06-80f4-54b4eef8edf6\" class=\"sk-top-container\"><div class=\"sk-text-repr-fallback\"><pre>PPipeline(steps=[(&#x27;scaler&#x27;, QuantileTransformer(output_distribution=&#x27;normal&#x27;)),\n                 (&#x27;imputer&#x27;, KNNImputer(weights=&#x27;distance&#x27;)),\n                 (&#x27;estimator&#x27;,\n                  RandomForestClassifier(ccp_alpha=0.00011066819197003216,\n                                         max_features=None,\n                                         min_impurity_decrease=0.0012247448713915891,\n                                         random_state=42))])</pre><b>Please rerun this cell to show the HTML repr or trust the notebook.</b></div><div class=\"sk-container\" hidden><div class=\"sk-item sk-dashed-wrapped\"><div class=\"sk-label-container\"><div class=\"sk-label sk-toggleable\"><input class=\"sk-toggleable__control sk-hidden--visually\" id=\"4cd07a08-bba4-4830-a1d6-3d7cac1af67a\" type=\"checkbox\" ><label for=\"4cd07a08-bba4-4830-a1d6-3d7cac1af67a\" class=\"sk-toggleable__label sk-toggleable__label-arrow\">PPipeline</label><div class=\"sk-toggleable__content\"><pre>PPipeline(steps=[(&#x27;scaler&#x27;, QuantileTransformer(output_distribution=&#x27;normal&#x27;)),\n                 (&#x27;imputer&#x27;, KNNImputer(weights=&#x27;distance&#x27;)),\n                 (&#x27;estimator&#x27;,\n                  RandomForestClassifier(ccp_alpha=0.00011066819197003216,\n                                         max_features=None,\n                                         min_impurity_decrease=0.0012247448713915891,\n                                         random_state=42))])</pre></div></div></div><div class=\"sk-serial\"><div class=\"sk-item\"><div class=\"sk-estimator sk-toggleable\"><input class=\"sk-toggleable__control sk-hidden--visually\" id=\"8051ef0f-0c28-4b58-b377-97cdbc940869\" type=\"checkbox\" ><label for=\"8051ef0f-0c28-4b58-b377-97cdbc940869\" class=\"sk-toggleable__label sk-toggleable__label-arrow\">QuantileTransformer</label><div class=\"sk-toggleable__content\"><pre>QuantileTransformer(output_distribution=&#x27;normal&#x27;)</pre></div></div></div><div class=\"sk-item\"><div class=\"sk-estimator sk-toggleable\"><input class=\"sk-toggleable__control sk-hidden--visually\" id=\"a3540034-25fc-42ca-a29c-42a4f265a3ec\" type=\"checkbox\" ><label for=\"a3540034-25fc-42ca-a29c-42a4f265a3ec\" class=\"sk-toggleable__label sk-toggleable__label-arrow\">KNNImputer</label><div class=\"sk-toggleable__content\"><pre>KNNImputer(weights=&#x27;distance&#x27;)</pre></div></div></div><div class=\"sk-item\"><div class=\"sk-estimator sk-toggleable\"><input class=\"sk-toggleable__control sk-hidden--visually\" id=\"c3da1a20-ef84-4b08-9f23-dec8602b1fd8\" type=\"checkbox\" ><label for=\"c3da1a20-ef84-4b08-9f23-dec8602b1fd8\" class=\"sk-toggleable__label sk-toggleable__label-arrow\">RandomForestClassifier</label><div class=\"sk-toggleable__content\"><pre>RandomForestClassifier(ccp_alpha=0.00011066819197003216, max_features=None,\n                       min_impurity_decrease=0.0012247448713915891,\n                       random_state=42)</pre></div></div></div></div></div></div></div>"
     },
     "execution_count": 183,
     "metadata": {},
     "output_type": "execute_result"
    }
   ],
   "source": [
    "\n",
    "print(rf_simple_best.info)\n",
    "\n",
    "\n",
    "\n",
    "rf_simple_best.best_estimator_\n"
   ],
   "metadata": {
    "collapsed": false,
    "pycharm": {
     "name": "#%%\n"
    }
   }
  },
  {
   "cell_type": "code",
   "execution_count": 184,
   "outputs": [
    {
     "name": "stdout",
     "output_type": "stream",
     "text": [
      "Pickling results to: \\jobs\\jobs Random Forest simple results.pickle\n",
      "pickled results!\n",
      "Pickling simple estimator to \\jobs\\jobs Random Forest simple estimator.pickle\n",
      "pickled estimator!\n"
     ]
    }
   ],
   "source": [
    "rf_simple_best.save_me()"
   ],
   "metadata": {
    "collapsed": false,
    "pycharm": {
     "name": "#%%\n"
    }
   }
  },
  {
   "cell_type": "code",
   "execution_count": 185,
   "outputs": [
    {
     "name": "stdout",
     "output_type": "stream",
     "text": [
      "Exporting feature importance graph to \\jobs\\jobs Random Forest simple feature importances.pdf\n"
     ]
    },
    {
     "data": {
      "text/plain": "<Figure size 1152x1296 with 2 Axes>",
      "image/png": "[encoded data removed]"
     },
     "metadata": {
      "needs_background": "light"
     },
     "output_type": "display_data"
    }
   ],
   "source": [
    "rf_simple_best.importance_plotter().show()"
   ],
   "metadata": {
    "collapsed": false,
    "pycharm": {
     "name": "#%%\n"
    }
   }
  },
  {
   "cell_type": "code",
   "execution_count": null,
   "outputs": [
    {
     "name": "stdout",
     "output_type": "stream",
     "text": [
      "-- 10-fold attempt 1/3 start --\n",
      "max: 200, min: 14, factor: 15\n",
      "n_iterations: 3\n",
      "n_required_iterations: 3\n",
      "n_possible_iterations: 1\n",
      "min_resources_: 14\n",
      "max_resources_: 200\n",
      "aggressive_elimination: True\n",
      "factor: 15\n",
      "----------\n",
      "iter: 0\n",
      "n_candidates: 729\n",
      "n_resources: 14\n",
      "Fitting 10 folds for each of 729 candidates, totalling 7290 fits\n",
      "----------\n",
      "iter: 1\n",
      "n_candidates: 49\n",
      "n_resources: 14\n",
      "Fitting 10 folds for each of 49 candidates, totalling 490 fits\n",
      "----------\n",
      "iter: 2\n",
      "n_candidates: 4\n",
      "n_resources: 14\n",
      "Fitting 10 folds for each of 4 candidates, totalling 40 fits\n",
      "best from this iteration: \n",
      "GridSearchResults summary ARD simple jobs\n",
      "\ttest score:\t0.19529670053455017\n",
      "\ttrain score:0.2168550319378632\n",
      "\ty score:\t0.22053302642612627\n",
      "\tabs ATT:\t0.007023840941684956\n",
      "\tp. risk:\t0.272259591388771\n",
      "\n",
      "--- 1/3 END ---\n",
      "-- 10-fold attempt 2/3 start --\n",
      "max: 250, min: 16, factor: 16\n",
      "n_iterations: 3\n",
      "n_required_iterations: 3\n",
      "n_possible_iterations: 1\n",
      "min_resources_: 16\n",
      "max_resources_: 250\n",
      "aggressive_elimination: True\n",
      "factor: 16\n",
      "----------\n",
      "iter: 0\n",
      "n_candidates: 729\n",
      "n_resources: 16\n",
      "Fitting 10 folds for each of 729 candidates, totalling 7290 fits\n",
      "----------\n",
      "iter: 1\n",
      "n_candidates: 46\n",
      "n_resources: 16\n",
      "Fitting 10 folds for each of 46 candidates, totalling 460 fits\n",
      "----------\n",
      "iter: 2\n",
      "n_candidates: 3\n",
      "n_resources: 16\n",
      "Fitting 10 folds for each of 3 candidates, totalling 30 fits\n",
      "best from this iteration: \n",
      "GridSearchResults summary ARD simple jobs\n",
      "\ttest score:\t0.19529670053455017\n",
      "\ttrain score:0.2168550319378632\n",
      "\ty score:\t0.22053302642612627\n",
      "\tabs ATT:\t0.007023840941684956\n",
      "\tp. risk:\t0.272259591388771\n",
      "\n",
      "--- 2/3 END ---\n",
      "-- 10-fold attempt 3/3 start --\n",
      "max: 300, min: 17, factor: 18\n",
      "n_iterations: 3\n",
      "n_required_iterations: 3\n",
      "n_possible_iterations: 1\n",
      "min_resources_: 17\n",
      "max_resources_: 300\n",
      "aggressive_elimination: True\n",
      "factor: 18\n",
      "----------\n",
      "iter: 0\n",
      "n_candidates: 729\n",
      "n_resources: 17\n",
      "Fitting 10 folds for each of 729 candidates, totalling 7290 fits\n"
     ]
    }
   ],
   "source": [
    "%%time\n",
    "\n",
    "ard_iter: List[int] = [200, 250, 300]\n",
    "ard_tol: List[float] = [1e-2, 1e-3, 1e-4]\n",
    "ard_alpha_lambda: List[float] = [1e-5, 1e-6, 1e-7]\n",
    "ard_thresh_lambda: List[float] = [1e3, 1e4, 1e5]\n",
    "\n",
    "\n",
    "\n",
    "ard_simple_searched: List[\n",
    "    slearner.SimpleHalvingGridSearchResults\n",
    "] = slearner.simple_halving_grid_searcher(\n",
    "    ARDRegression(),\n",
    "    {\n",
    "        #\"Classifier__n_iter\": ard_iter,\n",
    "        \"estimator__tol\": ard_tol,\n",
    "        \"estimator__alpha_1\" : ard_alpha_lambda,\n",
    "        \"estimator__alpha_2\" : ard_alpha_lambda,\n",
    "        \"estimator__lambda_1\" : ard_alpha_lambda,\n",
    "        \"estimator__lambda_2\" : ard_alpha_lambda,\n",
    "        \"estimator__threshold_lambda\": ard_thresh_lambda\n",
    "    },\n",
    "    df_m=dfm,\n",
    "    df_selection=df_utils.DatasetEnum.FACTUAL,\n",
    "    learner_name=\"ARD simple\",\n",
    "    kfold_splits=10,\n",
    "    scorer_to_use=slearner.r2_score_id(),\n",
    "    stratify_on=[\"t\",\"y\"],\n",
    "    resource=\"estimator__n_iter\",\n",
    "    resource_param_values=ard_iter\n",
    ")"
   ],
   "metadata": {
    "collapsed": false,
    "pycharm": {
     "name": "#%%\n",
     "is_executing": true
    }
   }
  },
  {
   "cell_type": "code",
   "execution_count": null,
   "outputs": [],
   "source": [
    "\n",
    "ard_simple_best: slearner.SimpleHalvingGridSearchResults = max(\n",
    "    ard_simple_searched\n",
    ")\n",
    "\n",
    "\n"
   ],
   "metadata": {
    "collapsed": false,
    "pycharm": {
     "name": "#%%\n",
     "is_executing": true
    }
   }
  },
  {
   "cell_type": "code",
   "execution_count": null,
   "outputs": [],
   "source": [
    "\n",
    "print(ard_simple_best.info)\n",
    "\n",
    "\n",
    "ard_simple_best.best_estimator_\n"
   ],
   "metadata": {
    "collapsed": false,
    "pycharm": {
     "name": "#%%\n",
     "is_executing": true
    }
   }
  },
  {
   "cell_type": "code",
   "execution_count": null,
   "outputs": [],
   "source": [
    "ard_simple_best.save_me()"
   ],
   "metadata": {
    "collapsed": false,
    "pycharm": {
     "name": "#%%\n",
     "is_executing": true
    }
   }
  },
  {
   "cell_type": "code",
   "execution_count": null,
   "outputs": [],
   "source": [
    "ard_simple_best.importance_plotter().show()"
   ],
   "metadata": {
    "collapsed": false,
    "pycharm": {
     "name": "#%%\n",
     "is_executing": true
    }
   }
  },
  {
   "cell_type": "code",
   "execution_count": null,
   "outputs": [],
   "source": [
    "%%time\n",
    "\n",
    "sgd_max_iter: List[int] = [500,1000,1500]\n",
    "sgd_alpha: List[float] = [0.001, 0.0001, 0.00001]\n",
    "sgd_learning_rate: List[str] =  [\"constant\",\"optimal\",\"invscaling\",\"adaptive\"]\n",
    "sgd_power_t: List[float] = [0.25,0.5,0.75]\n",
    "sgd_l1_ratio: List[float] = [0, 0.15, 0.5, 0.85, 1]\n",
    "\n",
    "sgd_simple_searched: List[\n",
    "    slearner.SimpleHalvingGridSearchResults\n",
    "] = slearner.simple_halving_grid_searcher(\n",
    "    SGDClassifier(\n",
    "        random_state=seed(),\n",
    "        early_stopping=True,\n",
    "        validation_fraction=0.1,\n",
    "        n_iter_no_change=5,\n",
    "        penalty=\"elasticnet\"\n",
    "    ),\n",
    "    {\n",
    "        #\"Classifier__n_iter\": ard_iter,\n",
    "        \"estimator__alpha\": sgd_alpha,\n",
    "        \"estimator__power_t\": sgd_power_t,\n",
    "        \"estimator__learning_rate\": sgd_learning_rate,\n",
    "        \"estimator__l1_ratio\": sgd_l1_ratio\n",
    "    },\n",
    "    df_m=dfm,\n",
    "    df_selection=df_utils.DatasetEnum.FACTUAL,\n",
    "    learner_name=\"sgd simple\",\n",
    "    kfold_splits=10,\n",
    "    scorer_to_use=slearner.r2_score_id(),\n",
    "    stratify_on=[\"t\",\"y\"],\n",
    "    resource=\"estimator__max_iter\",\n",
    "    resource_param_values=sgd_max_iter\n",
    ")"
   ],
   "metadata": {
    "collapsed": false,
    "pycharm": {
     "name": "#%%\n",
     "is_executing": true
    }
   }
  },
  {
   "cell_type": "code",
   "execution_count": null,
   "outputs": [],
   "source": [
    "\n",
    "sgd_simple_best: slearner.SimpleHalvingGridSearchResults = max(\n",
    "    sgd_simple_searched\n",
    ")\n",
    "\n"
   ],
   "metadata": {
    "collapsed": false,
    "pycharm": {
     "name": "#%%\n",
     "is_executing": true
    }
   }
  },
  {
   "cell_type": "code",
   "execution_count": null,
   "outputs": [],
   "source": [
    "\n",
    "print(sgd_simple_best.info)\n",
    "\n",
    "sgd_simple_best.best_estimator_\n"
   ],
   "metadata": {
    "collapsed": false,
    "pycharm": {
     "name": "#%%\n",
     "is_executing": true
    }
   }
  },
  {
   "cell_type": "code",
   "execution_count": null,
   "outputs": [],
   "source": [
    "sgd_simple_best.save_me()"
   ],
   "metadata": {
    "collapsed": false,
    "pycharm": {
     "name": "#%%\n",
     "is_executing": true
    }
   }
  },
  {
   "cell_type": "code",
   "execution_count": null,
   "outputs": [],
   "source": [
    "sgd_simple_best.importance_plotter().show()"
   ],
   "metadata": {
    "collapsed": false,
    "pycharm": {
     "name": "#%%\n",
     "is_executing": true
    }
   }
  },
  {
   "cell_type": "code",
   "execution_count": null,
   "outputs": [],
   "source": [],
   "metadata": {
    "collapsed": false,
    "pycharm": {
     "name": "#%%\n",
     "is_executing": true
    }
   }
  },
  {
   "cell_type": "code",
   "execution_count": null,
   "outputs": [],
   "source": [
    "%%time\n",
    "\n",
    "adaboost_estimators: List[int] = [25, 50, 75]\n",
    "adaboost_learn_rate: List[float] = [0.8, 0.9, 1.0, 1.1, 1.2]\n",
    "\n",
    "ada_rf_simple_searched: List[\n",
    "    slearner.SimpleHalvingGridSearchResults\n",
    "] = slearner.simple_halving_grid_searcher(\n",
    "    AdaBoostClassifier(\n",
    "        random_state = seed()\n",
    "    ),\n",
    "    {\n",
    "        #\"Classifier__base_estimator\": [\n",
    "        #    Pipeline(\n",
    "        #        steps = [i for i in rf.best_estimator_.named_steps.items()]\n",
    "        #    ) for rf in random_forest_searched_dict.keys()\n",
    "        #],\n",
    "        #\"Classifier__n_estimators\": adaboost_estimators,\n",
    "        \"estimator__learning_rate\": adaboost_learn_rate,\n",
    "        \"estimator__base_estimator\": [\n",
    "            *[pl.clone_best_final_estimator for pl in rf_simple_searched],\n",
    "            RandomForestClassifier(random_state=seed()),\n",
    "            RandomForestClassifier(random_state=seed(), max_depth=10),\n",
    "            DecisionTreeClassifier(random_state=seed()),\n",
    "            DecisionTreeClassifier(random_state=seed(), max_depth=10)\n",
    "        ]\n",
    "    },\n",
    "    df_m=dfm,\n",
    "    df_selection=df_utils.DatasetEnum.FACTUAL,\n",
    "    learner_name=\"Adaboost Random Forest simple\",\n",
    "    kfold_splits=10,\n",
    "    scorer_to_use=slearner.r2_score_id(),\n",
    "    stratify_on=[\"t\",\"y\"],\n",
    "    resource=\"estimator__n_estimators\",\n",
    "    resource_param_values=adaboost_estimators,\n",
    ")"
   ],
   "metadata": {
    "collapsed": false,
    "pycharm": {
     "name": "#%%\n",
     "is_executing": true
    }
   }
  },
  {
   "cell_type": "code",
   "execution_count": null,
   "outputs": [],
   "source": [
    "\n",
    "ada_rf_simple_best: slearner.SimpleHalvingGridSearchResults = max(\n",
    "    ada_rf_simple_searched\n",
    ")\n",
    "\n"
   ],
   "metadata": {
    "collapsed": false,
    "pycharm": {
     "name": "#%%\n",
     "is_executing": true
    }
   }
  },
  {
   "cell_type": "code",
   "execution_count": null,
   "outputs": [],
   "source": [
    "\n",
    "print(ada_rf_simple_best.info)\n",
    "\n",
    "\n",
    "\n",
    "ada_rf_simple_best.best_estimator_\n"
   ],
   "metadata": {
    "collapsed": false,
    "pycharm": {
     "name": "#%%\n",
     "is_executing": true
    }
   }
  },
  {
   "cell_type": "code",
   "execution_count": null,
   "outputs": [],
   "source": [
    "ada_rf_simple_best.save_me()"
   ],
   "metadata": {
    "collapsed": false,
    "pycharm": {
     "name": "#%%\n",
     "is_executing": true
    }
   }
  },
  {
   "cell_type": "code",
   "execution_count": null,
   "outputs": [],
   "source": [
    "ada_rf_simple_best.importance_plotter().show()"
   ],
   "metadata": {
    "collapsed": false,
    "pycharm": {
     "name": "#%%\n",
     "is_executing": true
    }
   }
  },
  {
   "cell_type": "code",
   "execution_count": null,
   "outputs": [],
   "source": [
    "%%time\n",
    "\n",
    "ada_ard_simple_searched: List[\n",
    "    slearner.SimpleHalvingGridSearchResults\n",
    "] = slearner.simple_halving_grid_searcher(\n",
    "    AdaBoostClassifier(\n",
    "        random_state=seed()\n",
    "    ),\n",
    "    {\n",
    "        #\"Classifier__base_estimator\": [\n",
    "        #    Pipeline(\n",
    "        #        steps = [i for i in ard.best_estimator_.named_steps.items()]\n",
    "        #    ) for ard in ard_searched_dict.keys()\n",
    "        #],\n",
    "        #\"Classifier__n_estimators\": adaboost_estimators,\n",
    "        \"estimator__learning_rate\": adaboost_learn_rate,\n",
    "        \"estimator__base_estimator\": [\n",
    "            est for est in\n",
    "            misc_utils.chain_1(\n",
    "                [pl.clone_best_final_estimator for pl in ard_simple_searched],\n",
    "                ARDRegression()\n",
    "            )\n",
    "        ]\n",
    "    },\n",
    "    df_m=dfm,\n",
    "    df_selection=df_utils.DatasetEnum.FACTUAL,\n",
    "    learner_name=\"Adaboost ARD simple\",\n",
    "    kfold_splits=10,\n",
    "    scorer_to_use=slearner.r2_score_id(),\n",
    "    stratify_on=[\"t\",\"y\"],\n",
    "    resource=\"estimator__n_estimators\",\n",
    "    resource_param_values=adaboost_estimators,\n",
    ")\n",
    "\n"
   ],
   "metadata": {
    "collapsed": false,
    "pycharm": {
     "name": "#%%\n",
     "is_executing": true
    }
   }
  },
  {
   "cell_type": "code",
   "execution_count": null,
   "outputs": [],
   "source": [
    "\n",
    "ada_ard_simple_best: slearner.SimpleHalvingGridSearchResults = max(\n",
    "    ada_ard_simple_searched\n",
    ")\n",
    "\n",
    "\n"
   ],
   "metadata": {
    "collapsed": false,
    "pycharm": {
     "name": "#%%\n",
     "is_executing": true
    }
   }
  },
  {
   "cell_type": "code",
   "execution_count": null,
   "outputs": [],
   "source": [
    "\n",
    "\n",
    "print(ada_ard_simple_best.info)\n",
    "\n",
    "\n",
    "ada_ard_simple_best.best_estimator_\n"
   ],
   "metadata": {
    "collapsed": false,
    "pycharm": {
     "name": "#%%\n",
     "is_executing": true
    }
   }
  },
  {
   "cell_type": "code",
   "execution_count": null,
   "outputs": [],
   "source": [
    "ada_ard_simple_best.save_me()"
   ],
   "metadata": {
    "collapsed": false,
    "pycharm": {
     "name": "#%%\n",
     "is_executing": true
    }
   }
  },
  {
   "cell_type": "code",
   "execution_count": null,
   "outputs": [],
   "source": [
    "ada_ard_simple_best.importance_plotter().show()"
   ],
   "metadata": {
    "collapsed": false,
    "pycharm": {
     "name": "#%%\n",
     "is_executing": true
    }
   }
  },
  {
   "cell_type": "code",
   "execution_count": null,
   "outputs": [],
   "source": [
    "%%time\n",
    "\n",
    "ada_sgd_simple_searched: List[\n",
    "    slearner.SimpleHalvingGridSearchResults\n",
    "] = slearner.simple_halving_grid_searcher(\n",
    "    AdaBoostClassifier(\n",
    "        random_state=seed()\n",
    "    ),\n",
    "    {\n",
    "        #\"Classifier__base_estimator\": [\n",
    "        #    Pipeline(\n",
    "        #        steps = [i for i in ard.best_estimator_.named_steps.items()]\n",
    "        #    ) for ard in ard_searched_dict.keys()\n",
    "        #],\n",
    "        #\"Classifier__n_estimators\": adaboost_estimators,\n",
    "        \"estimator__learning_rate\": adaboost_learn_rate,\n",
    "        \"estimator__base_estimator\": [\n",
    "            pl.clone_best_final_estimator for pl in sgd_simple_searched\n",
    "        ]\n",
    "    },\n",
    "    df_m=dfm,\n",
    "    df_selection=df_utils.DatasetEnum.FACTUAL,\n",
    "    learner_name=\"Adaboost SGD simple\",\n",
    "    kfold_splits=10,\n",
    "    scorer_to_use=slearner.r2_score_id(),\n",
    "    stratify_on=[\"t\",\"y\"],\n",
    "    resource=\"estimator__n_estimators\",\n",
    "    resource_param_values=adaboost_estimators,\n",
    ")\n"
   ],
   "metadata": {
    "collapsed": false,
    "pycharm": {
     "name": "#%%\n",
     "is_executing": true
    }
   }
  },
  {
   "cell_type": "code",
   "execution_count": null,
   "outputs": [],
   "source": [
    "ada_sgd_simple_best: slearner.SimpleHalvingGridSearchResults = max(\n",
    "    ada_sgd_simple_searched\n",
    ")"
   ],
   "metadata": {
    "collapsed": false,
    "pycharm": {
     "name": "#%%\n",
     "is_executing": true
    }
   }
  },
  {
   "cell_type": "code",
   "execution_count": null,
   "outputs": [],
   "source": [
    "\n",
    "print(ada_sgd_simple_best.info)\n",
    "\n",
    "ada_sgd_simple_best.best_estimator_\n"
   ],
   "metadata": {
    "collapsed": false,
    "pycharm": {
     "name": "#%%\n",
     "is_executing": true
    }
   }
  },
  {
   "cell_type": "code",
   "execution_count": null,
   "outputs": [],
   "source": [
    "ada_sgd_simple_best.save_me()"
   ],
   "metadata": {
    "collapsed": false,
    "pycharm": {
     "name": "#%%\n",
     "is_executing": true
    }
   }
  },
  {
   "cell_type": "code",
   "execution_count": null,
   "outputs": [],
   "source": [
    "ada_sgd_simple_best.importance_plotter().show()"
   ],
   "metadata": {
    "collapsed": false,
    "pycharm": {
     "name": "#%%\n",
     "is_executing": true
    }
   }
  },
  {
   "cell_type": "code",
   "execution_count": null,
   "outputs": [],
   "source": [
    "\n",
    "\n",
    "all_simple_best: List[slearner.SimpleHalvingGridSearchResults] = [\n",
    "    rf_simple_best,\n",
    "    ard_simple_best,\n",
    "    sgd_simple_best,\n",
    "    ada_rf_simple_best,\n",
    "    ada_ard_simple_best,\n",
    "    ada_sgd_simple_best\n",
    "]\n",
    "\n",
    "all_simple_best.sort(reverse=True)\n"
   ],
   "metadata": {
    "collapsed": false,
    "pycharm": {
     "name": "#%%\n",
     "is_executing": true
    }
   }
  },
  {
   "cell_type": "code",
   "execution_count": null,
   "outputs": [],
   "source": [
    "for bc in all_simple_best:\n",
    "    print(bc.summary_info)\n",
    "\n",
    "print(\"\")"
   ],
   "metadata": {
    "collapsed": false,
    "pycharm": {
     "name": "#%%\n",
     "is_executing": true
    }
   }
  },
  {
   "cell_type": "code",
   "execution_count": null,
   "outputs": [],
   "source": [
    "best_simple_est: slearner.PPipeline = max(all_simple_best).best_estimator_"
   ],
   "metadata": {
    "collapsed": false,
    "pycharm": {
     "name": "#%%\n",
     "is_executing": true
    }
   }
  },
  {
   "cell_type": "code",
   "execution_count": null,
   "outputs": [],
   "source": [],
   "metadata": {
    "collapsed": false,
    "pycharm": {
     "name": "#%%\n",
     "is_executing": true
    }
   }
  },
  {
   "cell_type": "markdown",
   "source": [
    "# Part 4 - Inverse Propensity Weights\n",
    "\n",
    "\n",
    "### attempting to find the likelihood of individuals being NOT being included in the treatment group"
   ],
   "metadata": {
    "collapsed": false,
    "pycharm": {
     "name": "#%% md\n"
    }
   }
  },
  {
   "cell_type": "code",
   "execution_count": null,
   "outputs": [],
   "source": [
    "from sklearn.ensemble import RandomForestClassifier, AdaBoostClassifier\n",
    "from sklearn.linear_model import SGDClassifier"
   ],
   "metadata": {
    "collapsed": false,
    "pycharm": {
     "name": "#%%\n",
     "is_executing": true
    }
   }
  },
  {
   "cell_type": "code",
   "execution_count": null,
   "outputs": [],
   "source": [
    "%%time\n",
    "\n",
    "rf_ipsw_searched: List[\n",
    "    slearner.SimpleHalvingGridSearchResults\n",
    "] = slearner.simple_halving_grid_searcher(\n",
    "    RandomForestClassifier(random_state=seed()),\n",
    "    {\n",
    "        #\"estimator__n_estimators\": [75,100,125],\n",
    "        \"estimator__min_samples_split\":rf_min_samples,\n",
    "        \"estimator__min_impurity_decrease\":  rf_min_impurity_decrease,\n",
    "        \"estimator__max_features\": rf_max_features,\n",
    "        # \"estimator__oob_score\": [False, True],\n",
    "        \"estimator__ccp_alpha\": rf_ccp_alpha,\n",
    "        \"estimator__class_weight\": [\"balanced\", \"balanced subsample\"],\n",
    "    },\n",
    "    df_m=dfm,\n",
    "    df_selection=df_utils.DatasetEnum.X_T,\n",
    "    learner_name=\"Random Forest IPSW\",\n",
    "    kfold_splits=10,\n",
    "    scorer_to_use=slearner.roc_auc_id(),\n",
    "    stratify_on=[\"t\"],\n",
    "    resource=\"estimator__n_estimators\",\n",
    "    resource_param_values=rf_n_estimators,\n",
    ")"
   ],
   "metadata": {
    "collapsed": false,
    "pycharm": {
     "name": "#%%\n",
     "is_executing": true
    }
   }
  },
  {
   "cell_type": "code",
   "execution_count": null,
   "outputs": [],
   "source": [
    "\n",
    "rf_ipsw_best: slearner.SimpleHalvingGridSearchResults = max(\n",
    "    rf_ipsw_searched\n",
    ")\n",
    "\n"
   ],
   "metadata": {
    "collapsed": false,
    "pycharm": {
     "name": "#%%\n",
     "is_executing": true
    }
   }
  },
  {
   "cell_type": "code",
   "execution_count": null,
   "outputs": [],
   "source": [
    "print(rf_ipsw_best.info)\n",
    "\n",
    "rf_ipsw_best.best_estimator_"
   ],
   "metadata": {
    "collapsed": false,
    "pycharm": {
     "name": "#%%\n",
     "is_executing": true
    }
   }
  },
  {
   "cell_type": "code",
   "execution_count": null,
   "outputs": [],
   "source": [
    "rf_ipsw_best.save_me()"
   ],
   "metadata": {
    "collapsed": false,
    "pycharm": {
     "name": "#%%\n",
     "is_executing": true
    }
   }
  },
  {
   "cell_type": "code",
   "execution_count": null,
   "outputs": [],
   "source": [
    "rf_ipsw_best.importance_plotter().show()"
   ],
   "metadata": {
    "collapsed": false,
    "pycharm": {
     "name": "#%%\n",
     "is_executing": true
    }
   }
  },
  {
   "cell_type": "code",
   "execution_count": null,
   "outputs": [],
   "source": [],
   "metadata": {
    "collapsed": false,
    "pycharm": {
     "name": "#%%\n",
     "is_executing": true
    }
   }
  },
  {
   "cell_type": "code",
   "execution_count": null,
   "outputs": [],
   "source": [
    "%%time\n",
    "\n",
    "# note: ridge does not support predict_proba, unusable, replaced with SGDClassifier.\n",
    "\n",
    "sgd_ipsw_searched: List[\n",
    "    slearner.SimpleHalvingGridSearchResults\n",
    "] = slearner.simple_halving_grid_searcher(\n",
    "    SGDClassifier(\n",
    "        random_state=seed(),\n",
    "        n_jobs=-1,\n",
    "        early_stopping=True,\n",
    "        validation_fraction=0.1,\n",
    "        n_iter_no_change=5,\n",
    "        loss=\"log\",\n",
    "        penalty=\"elasticnet\"\n",
    "    ),\n",
    "    {\n",
    "        #\"estimator__n_estimators\": [75,100,125],\n",
    "        \"estimator__alpha\": sgd_alpha,\n",
    "        \"estimator__power_t\": sgd_power_t,\n",
    "        \"estimator__learning_rate\": sgd_learning_rate,\n",
    "        \"estimator__l1_ratio\": sgd_l1_ratio,\n",
    "        \"estimator__class_weight\": [\"balanced\", None]\n",
    "    },\n",
    "    df_m=dfm,\n",
    "    df_selection=df_utils.DatasetEnum.X_T,\n",
    "    learner_name=\"sgd IPSW\",\n",
    "    kfold_splits=10,\n",
    "    scorer_to_use=slearner.roc_auc_id(),\n",
    "    stratify_on=[\"t\"],\n",
    "    resource=\"estimator__max_iter\",\n",
    "    resource_param_values=sgd_max_iter\n",
    ")\n"
   ],
   "metadata": {
    "collapsed": false,
    "pycharm": {
     "name": "#%%\n",
     "is_executing": true
    }
   }
  },
  {
   "cell_type": "code",
   "execution_count": null,
   "outputs": [],
   "source": [
    "sgd_ipsw_best: slearner.SimpleHalvingGridSearchResults = max(\n",
    "    sgd_ipsw_searched\n",
    ")"
   ],
   "metadata": {
    "collapsed": false,
    "pycharm": {
     "name": "#%%\n",
     "is_executing": true
    }
   }
  },
  {
   "cell_type": "code",
   "execution_count": null,
   "outputs": [],
   "source": [
    "\n",
    "print(sgd_ipsw_best.info)\n",
    "\n",
    "sgd_ipsw_best.best_estimator_"
   ],
   "metadata": {
    "collapsed": false,
    "pycharm": {
     "name": "#%%\n",
     "is_executing": true
    }
   }
  },
  {
   "cell_type": "code",
   "execution_count": null,
   "outputs": [],
   "source": [
    "\n",
    "sgd_ipsw_best.save_me()"
   ],
   "metadata": {
    "collapsed": false,
    "pycharm": {
     "name": "#%%\n",
     "is_executing": true
    }
   }
  },
  {
   "cell_type": "code",
   "execution_count": null,
   "outputs": [],
   "source": [
    "\n",
    "sgd_ipsw_best.importance_plotter().show()"
   ],
   "metadata": {
    "collapsed": false,
    "pycharm": {
     "name": "#%%\n",
     "is_executing": true
    }
   }
  },
  {
   "cell_type": "code",
   "execution_count": null,
   "outputs": [],
   "source": [],
   "metadata": {
    "collapsed": false,
    "pycharm": {
     "name": "#%%\n",
     "is_executing": true
    }
   }
  },
  {
   "cell_type": "code",
   "execution_count": null,
   "outputs": [],
   "source": [
    "%%time\n",
    "\n",
    "ada_rf_ipsw_searched: List[\n",
    "    slearner.SimpleHalvingGridSearchResults\n",
    "] = slearner.simple_halving_grid_searcher(\n",
    "    AdaBoostClassifier(\n",
    "        random_state = seed()\n",
    "    ),\n",
    "    {\n",
    "        #\"Classifier__base_estimator\": [\n",
    "        #    Pipeline(\n",
    "        #        steps = [i for i in rf.best_estimator_.named_steps.items()]\n",
    "        #    ) for rf in random_forest_searched_dict.keys()\n",
    "        #],\n",
    "        #\"Classifier__n_estimators\": adaboost_estimators,\n",
    "        \"estimator__learning_rate\": adaboost_learn_rate,\n",
    "        \"estimator__base_estimator\": [\n",
    "            *[pl.clone_best_final_estimator for pl in rf_ipsw_searched],\n",
    "            RandomForestClassifier(random_state=seed()),\n",
    "            RandomForestClassifier(random_state=seed(), max_depth=10),\n",
    "            DecisionTreeClassifier(random_state=seed()),\n",
    "            DecisionTreeClassifier(random_state=seed(), max_depth=10)\n",
    "        ]\n",
    "    },\n",
    "    df_m=dfm,\n",
    "    df_selection=df_utils.DatasetEnum.X_T,\n",
    "    learner_name=\"Adaboost Random Forest IPSW\",\n",
    "    kfold_splits=10,\n",
    "    scorer_to_use=slearner.roc_auc_id(),\n",
    "    stratify_on=[\"t\"],\n",
    "    resource=\"estimator__n_estimators\",\n",
    "    resource_param_values=adaboost_estimators,\n",
    ")"
   ],
   "metadata": {
    "collapsed": false,
    "pycharm": {
     "name": "#%%\n",
     "is_executing": true
    }
   }
  },
  {
   "cell_type": "code",
   "execution_count": null,
   "outputs": [],
   "source": [
    "ada_rf_ipsw_best: slearner.SimpleHalvingGridSearchResults = max(\n",
    "    ada_rf_ipsw_searched\n",
    ")"
   ],
   "metadata": {
    "collapsed": false,
    "pycharm": {
     "name": "#%%\n",
     "is_executing": true
    }
   }
  },
  {
   "cell_type": "code",
   "execution_count": null,
   "outputs": [],
   "source": [
    "\n",
    "print(ada_rf_ipsw_best.info)\n",
    "\n",
    "ada_rf_ipsw_best.best_estimator_"
   ],
   "metadata": {
    "collapsed": false,
    "pycharm": {
     "name": "#%%\n",
     "is_executing": true
    }
   }
  },
  {
   "cell_type": "code",
   "execution_count": null,
   "outputs": [],
   "source": [
    "\n",
    "ada_rf_ipsw_best.save_me()"
   ],
   "metadata": {
    "collapsed": false,
    "pycharm": {
     "name": "#%%\n",
     "is_executing": true
    }
   }
  },
  {
   "cell_type": "code",
   "execution_count": null,
   "outputs": [],
   "source": [
    "\n",
    "ada_rf_ipsw_best.importance_plotter().show()"
   ],
   "metadata": {
    "collapsed": false,
    "pycharm": {
     "name": "#%%\n",
     "is_executing": true
    }
   }
  },
  {
   "cell_type": "code",
   "execution_count": null,
   "outputs": [],
   "source": [],
   "metadata": {
    "collapsed": false,
    "pycharm": {
     "name": "#%%\n",
     "is_executing": true
    }
   }
  },
  {
   "cell_type": "code",
   "execution_count": null,
   "outputs": [],
   "source": [
    "%%time\n",
    "\n",
    "ada_sgd_ipsw_searched: List[\n",
    "    slearner.SimpleHalvingGridSearchResults\n",
    "] = slearner.simple_halving_grid_searcher(\n",
    "    AdaBoostClassifier(\n",
    "        random_state=seed()\n",
    "    ),\n",
    "    {\n",
    "        #\"Classifier__base_estimator\": [\n",
    "        #    Pipeline(\n",
    "        #        steps = [i for i in rf.best_estimator_.named_steps.items()]\n",
    "        #    ) for rf in random_forest_searched_dict.keys()\n",
    "        #],\n",
    "        #\"Classifier__n_estimators\": adaboost_estimators,\n",
    "        \"estimator__learning_rate\": adaboost_learn_rate,\n",
    "        \"estimator__base_estimator\": [\n",
    "            pl.clone_best_final_estimator for pl in sgd_ipsw_searched\n",
    "        ]\n",
    "    },\n",
    "    df_m=dfm,\n",
    "    df_selection=df_utils.DatasetEnum.X_T,\n",
    "    learner_name=\"Adaboost SGD IPSW\",\n",
    "    kfold_splits=10,\n",
    "    scorer_to_use=slearner.roc_auc_id(),\n",
    "    stratify_on=[\"t\"],\n",
    "    resource=\"estimator__n_estimators\",\n",
    "    resource_param_values=adaboost_estimators,\n",
    ")"
   ],
   "metadata": {
    "collapsed": false,
    "pycharm": {
     "name": "#%%\n",
     "is_executing": true
    }
   }
  },
  {
   "cell_type": "code",
   "execution_count": null,
   "outputs": [],
   "source": [
    "\n",
    "\n",
    "ada_sgd_ipsw_best: slearner.SimpleHalvingGridSearchResults = max(\n",
    "    ada_sgd_ipsw_searched\n",
    ")"
   ],
   "metadata": {
    "collapsed": false,
    "pycharm": {
     "name": "#%%\n",
     "is_executing": true
    }
   }
  },
  {
   "cell_type": "code",
   "execution_count": null,
   "outputs": [],
   "source": [
    "\n",
    "print(ada_sgd_ipsw_best.info)\n",
    "\n",
    "ada_sgd_ipsw_best.best_estimator_"
   ],
   "metadata": {
    "collapsed": false,
    "pycharm": {
     "name": "#%%\n",
     "is_executing": true
    }
   }
  },
  {
   "cell_type": "code",
   "execution_count": null,
   "outputs": [],
   "source": [
    "\n",
    "ada_sgd_ipsw_best.save_me()"
   ],
   "metadata": {
    "collapsed": false,
    "pycharm": {
     "name": "#%%\n",
     "is_executing": true
    }
   }
  },
  {
   "cell_type": "code",
   "execution_count": null,
   "outputs": [],
   "source": [
    "\n",
    "ada_sgd_ipsw_best.importance_plotter().show()"
   ],
   "metadata": {
    "collapsed": false,
    "pycharm": {
     "name": "#%%\n",
     "is_executing": true
    }
   }
  },
  {
   "cell_type": "code",
   "execution_count": null,
   "outputs": [],
   "source": [],
   "metadata": {
    "collapsed": false,
    "pycharm": {
     "name": "#%%\n",
     "is_executing": true
    }
   }
  },
  {
   "cell_type": "code",
   "execution_count": null,
   "outputs": [],
   "source": [
    "all_ipsw_clf_best: List[slearner.SimpleHalvingGridSearchResults] = [\n",
    "    rf_ipsw_best,\n",
    "    sgd_ipsw_best,\n",
    "    ada_rf_ipsw_best,\n",
    "    ada_sgd_ipsw_best\n",
    "]\n",
    "\n",
    "all_ipsw_clf_best.sort(reverse=True)\n",
    "\n",
    "for bc in all_ipsw_clf_best:\n",
    "    print(bc.summary_info)\n",
    "\n",
    "print(\"\")"
   ],
   "metadata": {
    "collapsed": false,
    "pycharm": {
     "name": "#%%\n",
     "is_executing": true
    }
   }
  },
  {
   "cell_type": "code",
   "execution_count": null,
   "outputs": [],
   "source": [],
   "metadata": {
    "collapsed": false,
    "pycharm": {
     "name": "#%%\n",
     "is_executing": true
    }
   }
  },
  {
   "cell_type": "code",
   "execution_count": null,
   "outputs": [],
   "source": [
    "best_ipsw_predictor: slearner.PPipeline = max(all_ipsw_clf_best).best_estimator_\n",
    "\n",
    "ipsw_calc: slearner.IpswWrapper = slearner.IpswWrapper.make(\n",
    "    best_ipsw_predictor,\n",
    "    dataset_name=dataset\n",
    ")\n",
    "\n",
    "ipsw_calc.save_me()\n"
   ],
   "metadata": {
    "collapsed": false,
    "pycharm": {
     "name": "#%%\n",
     "is_executing": true
    }
   }
  },
  {
   "cell_type": "markdown",
   "source": [
    "### And now using these weights to redo the earlier simple estimators"
   ],
   "metadata": {
    "collapsed": false,
    "pycharm": {
     "name": "#%% md\n"
    }
   }
  },
  {
   "cell_type": "code",
   "execution_count": null,
   "outputs": [],
   "source": [
    "%%time\n",
    "\n",
    "\n",
    "rf_simple_ipsw_searched: List[\n",
    "    slearner.SimpleHalvingGridSearchResults\n",
    "] = slearner.simple_halving_grid_searcher(\n",
    "    RandomForestClassifier(random_state=seed()),\n",
    "    {\n",
    "        #\"estimator__n_estimators\": [75,100,125],\n",
    "        \"estimator__min_samples_split\": rf_min_samples,\n",
    "        \"estimator__min_impurity_decrease\":  rf_min_impurity_decrease,\n",
    "        \"estimator__max_features\": rf_max_features,\n",
    "        # \"estimator__oob_score\": [False, True],\n",
    "        \"estimator__ccp_alpha\":  rf_ccp_alpha\n",
    "    },\n",
    "    df_m=dfm,\n",
    "    df_selection=df_utils.DatasetEnum.FACTUAL,\n",
    "    learner_name=\"Random Forest simple with IPSW\",\n",
    "    kfold_splits=10,\n",
    "    scorer_to_use=slearner.r2_score_id(),\n",
    "    stratify_on=[\"t\",\"y\"],\n",
    "    resource=\"estimator__n_estimators\",\n",
    "    sample_weights=ipsw_calc,\n",
    "    resource_param_values=rf_n_estimators,\n",
    "    #classes_ndarray=ihdp_learn_df_x[\"t\"].to_numpy()\n",
    ")"
   ],
   "metadata": {
    "collapsed": false,
    "pycharm": {
     "name": "#%%\n",
     "is_executing": true
    }
   }
  },
  {
   "cell_type": "code",
   "execution_count": null,
   "outputs": [],
   "source": [
    "\n",
    "rf_simple_ipsw_best: slearner.SimpleHalvingGridSearchResults = max(\n",
    "    rf_simple_ipsw_searched\n",
    ")"
   ],
   "metadata": {
    "collapsed": false,
    "pycharm": {
     "name": "#%%\n",
     "is_executing": true
    }
   }
  },
  {
   "cell_type": "code",
   "execution_count": null,
   "outputs": [],
   "source": [
    "\n",
    "print(rf_simple_ipsw_best.info)\n",
    "\n",
    "rf_simple_ipsw_best.best_estimator_"
   ],
   "metadata": {
    "collapsed": false,
    "pycharm": {
     "name": "#%%\n",
     "is_executing": true
    }
   }
  },
  {
   "cell_type": "code",
   "execution_count": null,
   "outputs": [],
   "source": [
    "\n",
    "rf_simple_ipsw_best.save_me()"
   ],
   "metadata": {
    "collapsed": false,
    "pycharm": {
     "name": "#%%\n",
     "is_executing": true
    }
   }
  },
  {
   "cell_type": "code",
   "execution_count": null,
   "outputs": [],
   "source": [
    "rf_simple_ipsw_best.importance_plotter().show()"
   ],
   "metadata": {
    "collapsed": false,
    "pycharm": {
     "name": "#%%\n",
     "is_executing": true
    }
   }
  },
  {
   "cell_type": "code",
   "execution_count": null,
   "outputs": [],
   "source": [
    "%%time\n",
    "\n",
    "\n",
    "ard_simple_ipsw_searched: List[\n",
    "    slearner.SimpleHalvingGridSearchResults\n",
    "] = slearner.simple_halving_grid_searcher(\n",
    "    ARDRegression(),\n",
    "    {\n",
    "        #\"Classifier__n_iter\": ard_iter,\n",
    "        \"estimator__tol\": ard_tol,\n",
    "        \"estimator__alpha_1\": ard_alpha_lambda,\n",
    "        \"estimator__alpha_2\": ard_alpha_lambda,\n",
    "        \"estimator__lambda_1\": ard_alpha_lambda,\n",
    "        \"estimator__lambda_2\": ard_alpha_lambda,\n",
    "        \"estimator__threshold_lambda\": ard_thresh_lambda\n",
    "    },\n",
    "    df_m=dfm,\n",
    "    df_selection=df_utils.DatasetEnum.FACTUAL,\n",
    "    learner_name=\"ARD simple with IPSW\",\n",
    "    kfold_splits=10,\n",
    "    scorer_to_use=slearner.r2_score_id(),\n",
    "    stratify_on=[\"t\",\"y\"],\n",
    "    resource=\"estimator__n_iter\",\n",
    "    sample_weights=ipsw_calc,\n",
    "    resource_param_values=ard_iter\n",
    ")\n"
   ],
   "metadata": {
    "collapsed": false,
    "pycharm": {
     "name": "#%%\n",
     "is_executing": true
    }
   }
  },
  {
   "cell_type": "code",
   "execution_count": null,
   "outputs": [],
   "source": [
    "ard_simple_ipsw_best: slearner.SimpleHalvingGridSearchResults = max(\n",
    "    ard_simple_ipsw_searched\n",
    ")\n"
   ],
   "metadata": {
    "collapsed": false,
    "pycharm": {
     "name": "#%%\n",
     "is_executing": true
    }
   }
  },
  {
   "cell_type": "code",
   "execution_count": null,
   "outputs": [],
   "source": [
    "print(ard_simple_ipsw_best.info)\n",
    "\n",
    "ard_simple_ipsw_best.best_estimator_\n"
   ],
   "metadata": {
    "collapsed": false,
    "pycharm": {
     "name": "#%%\n",
     "is_executing": true
    }
   }
  },
  {
   "cell_type": "code",
   "execution_count": null,
   "outputs": [],
   "source": [
    "ard_simple_ipsw_best.save_me()"
   ],
   "metadata": {
    "collapsed": false,
    "pycharm": {
     "name": "#%%\n",
     "is_executing": true
    }
   }
  },
  {
   "cell_type": "code",
   "execution_count": null,
   "outputs": [],
   "source": [
    "ard_simple_best.importance_plotter().show()"
   ],
   "metadata": {
    "collapsed": false,
    "pycharm": {
     "name": "#%%\n",
     "is_executing": true
    }
   }
  },
  {
   "cell_type": "code",
   "execution_count": null,
   "outputs": [],
   "source": [],
   "metadata": {
    "collapsed": false,
    "pycharm": {
     "name": "#%%\n",
     "is_executing": true
    }
   }
  },
  {
   "cell_type": "code",
   "execution_count": null,
   "outputs": [],
   "source": [],
   "metadata": {
    "collapsed": false,
    "pycharm": {
     "name": "#%%\n",
     "is_executing": true
    }
   }
  },
  {
   "cell_type": "code",
   "execution_count": null,
   "outputs": [],
   "source": [
    "%%time\n",
    "\n",
    "sgd_simple_ipsw_searched: List[\n",
    "    slearner.SimpleHalvingGridSearchResults\n",
    "] = slearner.simple_halving_grid_searcher(\n",
    "    SGDClassifier(\n",
    "        random_state=seed(),\n",
    "        early_stopping=True,\n",
    "        validation_fraction=0.1,\n",
    "        n_iter_no_change=5,\n",
    "        penalty=\"elasticnet\"\n",
    "    ),\n",
    "    {\n",
    "        #\"Classifier__n_iter\": ard_iter,\n",
    "        \"estimator__alpha\": sgd_alpha,\n",
    "        \"estimator__power_t\": sgd_power_t,\n",
    "        \"estimator__learning_rate\": sgd_learning_rate,\n",
    "        \"estimator__l1_ratio\": sgd_l1_ratio\n",
    "    },\n",
    "    df_m=dfm,\n",
    "    df_selection=df_utils.DatasetEnum.FACTUAL,\n",
    "    learner_name=\"sgd simple ipsw\",\n",
    "    kfold_splits=10,\n",
    "    scorer_to_use=slearner.r2_score_id(),\n",
    "    stratify_on=[\"t\",\"y\"],\n",
    "    resource=\"estimator__max_iter\",\n",
    "    resource_param_values=sgd_max_iter,\n",
    "    sample_weights=ipsw_calc\n",
    ")"
   ],
   "metadata": {
    "collapsed": false,
    "pycharm": {
     "name": "#%%\n",
     "is_executing": true
    }
   }
  },
  {
   "cell_type": "code",
   "execution_count": null,
   "outputs": [],
   "source": [
    "\n",
    "sgd_simple_ipsw_best: slearner.SimpleHalvingGridSearchResults = max(\n",
    "    sgd_simple_ipsw_searched\n",
    ")"
   ],
   "metadata": {
    "collapsed": false,
    "pycharm": {
     "name": "#%%\n",
     "is_executing": true
    }
   }
  },
  {
   "cell_type": "code",
   "execution_count": null,
   "outputs": [],
   "source": [
    "\n",
    "print(sgd_simple_ipsw_best.info)\n",
    "\n",
    "sgd_simple_ipsw_best.best_estimator_"
   ],
   "metadata": {
    "collapsed": false,
    "pycharm": {
     "name": "#%%\n",
     "is_executing": true
    }
   }
  },
  {
   "cell_type": "code",
   "execution_count": null,
   "outputs": [],
   "source": [
    "\n",
    "sgd_simple_ipsw_best.save_me()"
   ],
   "metadata": {
    "collapsed": false,
    "pycharm": {
     "name": "#%%\n",
     "is_executing": true
    }
   }
  },
  {
   "cell_type": "code",
   "execution_count": null,
   "outputs": [],
   "source": [
    "sgd_simple_ipsw_best.importance_plotter().show()"
   ],
   "metadata": {
    "collapsed": false,
    "pycharm": {
     "name": "#%%\n",
     "is_executing": true
    }
   }
  },
  {
   "cell_type": "code",
   "execution_count": null,
   "outputs": [],
   "source": [],
   "metadata": {
    "collapsed": false,
    "pycharm": {
     "name": "#%%\n",
     "is_executing": true
    }
   }
  },
  {
   "cell_type": "code",
   "execution_count": null,
   "outputs": [],
   "source": [
    "%%time\n",
    "\n",
    "\n",
    "ada_rf_simple_ipsw_searched: List[\n",
    "    slearner.SimpleHalvingGridSearchResults\n",
    "] = slearner.simple_halving_grid_searcher(\n",
    "    AdaBoostClassifier(\n",
    "        random_state=seed()\n",
    "    ),\n",
    "    {\n",
    "        #\"Classifier__base_estimator\": [\n",
    "        #    Pipeline(\n",
    "        #        steps = [i for i in rf.best_estimator_.named_steps.items()]\n",
    "        #    ) for rf in random_forest_searched_dict.keys()\n",
    "        #],\n",
    "        #\"Classifier__n_estimators\": adaboost_estimators,\n",
    "        \"estimator__learning_rate\": adaboost_learn_rate,\n",
    "        \"estimator__base_estimator\": [\n",
    "            *[pl.clone_best_final_estimator for pl in rf_simple_ipsw_searched],\n",
    "            RandomForestClassifier(random_state=seed()),\n",
    "            RandomForestClassifier(random_state=seed(), max_depth=10),\n",
    "            DecisionTreeClassifier(random_state=seed()),\n",
    "            DecisionTreeClassifier(random_state=seed(), max_depth=10)\n",
    "        ]\n",
    "    },\n",
    "    df_m=dfm,\n",
    "    df_selection=df_utils.DatasetEnum.FACTUAL,\n",
    "    learner_name=\"Adaboost Random Forest simple with IPSW\",\n",
    "    kfold_splits=10,\n",
    "    scorer_to_use=slearner.r2_score_id(),\n",
    "    stratify_on=[\"t\",\"y\"],\n",
    "    sample_weights=ipsw_calc,\n",
    "    resource=\"estimator__n_estimators\",\n",
    "    resource_param_values=adaboost_estimators,\n",
    ")"
   ],
   "metadata": {
    "collapsed": false,
    "pycharm": {
     "name": "#%%\n",
     "is_executing": true
    }
   }
  },
  {
   "cell_type": "code",
   "execution_count": null,
   "outputs": [],
   "source": [
    "\n",
    "ada_rf_simple_ipsw_best: slearner.SimpleHalvingGridSearchResults = max(\n",
    "    ada_rf_simple_ipsw_searched\n",
    ")"
   ],
   "metadata": {
    "collapsed": false,
    "pycharm": {
     "name": "#%%\n",
     "is_executing": true
    }
   }
  },
  {
   "cell_type": "code",
   "execution_count": null,
   "outputs": [],
   "source": [
    "\n",
    "print(ada_rf_simple_ipsw_best.info)\n",
    "\n",
    "ada_rf_simple_ipsw_best.best_estimator_\n"
   ],
   "metadata": {
    "collapsed": false,
    "pycharm": {
     "name": "#%%\n",
     "is_executing": true
    }
   }
  },
  {
   "cell_type": "code",
   "execution_count": null,
   "outputs": [],
   "source": [
    "ada_rf_simple_ipsw_best.save_me()"
   ],
   "metadata": {
    "collapsed": false,
    "pycharm": {
     "name": "#%%\n",
     "is_executing": true
    }
   }
  },
  {
   "cell_type": "code",
   "execution_count": null,
   "outputs": [],
   "source": [
    "ada_rf_simple_ipsw_best.importance_plotter().show()"
   ],
   "metadata": {
    "collapsed": false,
    "pycharm": {
     "name": "#%%\n",
     "is_executing": true
    }
   }
  },
  {
   "cell_type": "code",
   "execution_count": null,
   "outputs": [],
   "source": [
    "%%time\n",
    "ada_ard_simple_ipsw_searched: List[\n",
    "    slearner.SimpleHalvingGridSearchResults\n",
    "] = slearner.simple_halving_grid_searcher(\n",
    "    AdaBoostClassifier(\n",
    "        random_state=seed()\n",
    "    ),\n",
    "    {\n",
    "        #\"Classifier__base_estimator\": [\n",
    "        #    Pipeline(\n",
    "        #        steps = [i for i in ard.best_estimator_.named_steps.items()]\n",
    "        #    ) for ard in ard_searched_dict.keys()\n",
    "        #],\n",
    "        #\"Classifier__n_estimators\": adaboost_estimators,\n",
    "        \"estimator__learning_rate\": adaboost_learn_rate,\n",
    "        \"estimator__base_estimator\": [\n",
    "            pl.clone_best_final_estimator for pl in ard_simple_ipsw_searched\n",
    "        ]\n",
    "    },\n",
    "    df_m=dfm,\n",
    "    df_selection=df_utils.DatasetEnum.FACTUAL,\n",
    "    learner_name=\"Adaboost ARD simple IPSW\",\n",
    "    kfold_splits=10,\n",
    "    scorer_to_use=slearner.r2_score_id(),\n",
    "    stratify_on=[\"t\",\"y\"],\n",
    "    resource=\"estimator__n_estimators\",\n",
    "    sample_weights=ipsw_calc,\n",
    "    resource_param_values=adaboost_estimators,\n",
    ")\n"
   ],
   "metadata": {
    "collapsed": false,
    "pycharm": {
     "name": "#%%\n",
     "is_executing": true
    }
   }
  },
  {
   "cell_type": "code",
   "execution_count": null,
   "outputs": [],
   "source": [
    "ada_ard_simple_ipsw_best: slearner.SimpleHalvingGridSearchResults = max(\n",
    "    ada_ard_simple_ipsw_searched\n",
    ")\n"
   ],
   "metadata": {
    "collapsed": false,
    "pycharm": {
     "name": "#%%\n",
     "is_executing": true
    }
   }
  },
  {
   "cell_type": "code",
   "execution_count": null,
   "outputs": [],
   "source": [
    "print(ada_ard_simple_ipsw_best.info)\n",
    "\n",
    "ada_ard_simple_ipsw_best.best_estimator_\n"
   ],
   "metadata": {
    "collapsed": false,
    "pycharm": {
     "name": "#%%\n",
     "is_executing": true
    }
   }
  },
  {
   "cell_type": "code",
   "execution_count": null,
   "outputs": [],
   "source": [
    "ada_ard_simple_ipsw_best.save_me()"
   ],
   "metadata": {
    "collapsed": false,
    "pycharm": {
     "name": "#%%\n",
     "is_executing": true
    }
   }
  },
  {
   "cell_type": "code",
   "execution_count": null,
   "outputs": [],
   "source": [
    "ada_ard_simple_ipsw_best.importance_plotter().show()\n"
   ],
   "metadata": {
    "collapsed": false,
    "pycharm": {
     "name": "#%%\n",
     "is_executing": true
    }
   }
  },
  {
   "cell_type": "code",
   "execution_count": null,
   "outputs": [],
   "source": [
    "%%time\n",
    "\n",
    "\n",
    "ada_sgd_simple_ipsw_searched: List[\n",
    "    slearner.SimpleHalvingGridSearchResults\n",
    "] = slearner.simple_halving_grid_searcher(\n",
    "    AdaBoostClassifier(\n",
    "        random_state=seed()\n",
    "    ),\n",
    "    {\n",
    "        #\"Classifier__base_estimator\": [\n",
    "        #    Pipeline(\n",
    "        #        steps = [i for i in ard.best_estimator_.named_steps.items()]\n",
    "        #    ) for ard in ard_searched_dict.keys()\n",
    "        #],\n",
    "        #\"Classifier__n_estimators\": adaboost_estimators,\n",
    "        \"estimator__learning_rate\": adaboost_learn_rate,\n",
    "        \"estimator__base_estimator\": [\n",
    "            pl.clone_best_final_estimator for pl in sgd_simple_ipsw_searched\n",
    "        ]\n",
    "    },\n",
    "    df_m=dfm,\n",
    "    df_selection=df_utils.DatasetEnum.FACTUAL,\n",
    "    learner_name=\"Adaboost SGD simple ipsw\",\n",
    "    kfold_splits=10,\n",
    "    scorer_to_use=slearner.r2_score_id(),\n",
    "    stratify_on=[\"t\",\"y\"],\n",
    "    resource=\"estimator__n_estimators\",\n",
    "    resource_param_values=adaboost_estimators,\n",
    ")"
   ],
   "metadata": {
    "collapsed": false,
    "pycharm": {
     "name": "#%%\n",
     "is_executing": true
    }
   }
  },
  {
   "cell_type": "code",
   "execution_count": null,
   "outputs": [],
   "source": [
    "\n",
    "ada_sgd_simple_ipsw_best: slearner.SimpleHalvingGridSearchResults = max(\n",
    "    ada_sgd_simple_ipsw_searched\n",
    ")"
   ],
   "metadata": {
    "collapsed": false,
    "pycharm": {
     "name": "#%%\n",
     "is_executing": true
    }
   }
  },
  {
   "cell_type": "code",
   "execution_count": null,
   "outputs": [],
   "source": [
    "\n",
    "print(ada_sgd_simple_ipsw_best.info)\n",
    "\n",
    "ada_sgd_simple_ipsw_best.best_estimator_"
   ],
   "metadata": {
    "collapsed": false,
    "pycharm": {
     "name": "#%%\n",
     "is_executing": true
    }
   }
  },
  {
   "cell_type": "code",
   "execution_count": null,
   "outputs": [],
   "source": [
    "\n",
    "ada_sgd_simple_ipsw_best.save_me()"
   ],
   "metadata": {
    "collapsed": false,
    "pycharm": {
     "name": "#%%\n",
     "is_executing": true
    }
   }
  },
  {
   "cell_type": "code",
   "execution_count": null,
   "outputs": [],
   "source": [
    "ada_sgd_simple_ipsw_best.importance_plotter().show()"
   ],
   "metadata": {
    "collapsed": false,
    "pycharm": {
     "name": "#%%\n",
     "is_executing": true
    }
   }
  },
  {
   "cell_type": "code",
   "execution_count": null,
   "outputs": [],
   "source": [],
   "metadata": {
    "collapsed": false,
    "pycharm": {
     "name": "#%%\n",
     "is_executing": true
    }
   }
  },
  {
   "cell_type": "code",
   "execution_count": null,
   "outputs": [],
   "source": [
    "all_simple_ipsw_best: List[slearner.SimpleHalvingGridSearchResults] = [\n",
    "    rf_simple_ipsw_best,\n",
    "    ard_simple_ipsw_best,\n",
    "    sgd_simple_ipsw_best,\n",
    "    ada_rf_simple_ipsw_best,\n",
    "    ada_ard_simple_ipsw_best,\n",
    "    ada_sgd_simple_ipsw_best\n",
    "]\n",
    "\n",
    "all_simple_ipsw_best.sort(reverse=True)"
   ],
   "metadata": {
    "collapsed": false,
    "pycharm": {
     "name": "#%%\n",
     "is_executing": true
    }
   }
  },
  {
   "cell_type": "code",
   "execution_count": null,
   "outputs": [],
   "source": [
    "\n",
    "for bc in all_simple_ipsw_best:\n",
    "    print(bc.summary_info)\n",
    "\n",
    "print(\"\")"
   ],
   "metadata": {
    "collapsed": false,
    "pycharm": {
     "name": "#%%\n",
     "is_executing": true
    }
   }
  },
  {
   "cell_type": "code",
   "execution_count": null,
   "outputs": [],
   "source": [
    "import dill\n",
    "dill.dump_session(f\"{os.getcwd()}\\\\{dataset}_env.pickle\")"
   ],
   "metadata": {
    "collapsed": false,
    "pycharm": {
     "name": "#%%\n",
     "is_executing": true
    }
   }
  },
  {
   "cell_type": "markdown",
   "source": [
    "# 5: The CATE stuff"
   ],
   "metadata": {
    "collapsed": false,
    "pycharm": {
     "name": "#%% md\n"
    }
   }
  },
  {
   "cell_type": "code",
   "execution_count": null,
   "outputs": [],
   "source": [
    "from econml.dml import CausalForestDML\n",
    "\n",
    "\n",
    "import shap"
   ],
   "metadata": {
    "collapsed": false,
    "pycharm": {
     "name": "#%%\n",
     "is_executing": true
    }
   }
  },
  {
   "cell_type": "code",
   "execution_count": null,
   "outputs": [],
   "source": [
    "# obtaining train/test data for the CATE stuff.\n",
    "\n",
    "X, Y = dfm.x_y(train=True, x_columns=df_utils.DatasetEnum.X_Y)\n",
    "\n",
    "_, T = dfm.x_y(train=True, x_columns=df_utils.DatasetEnum.X_T)\n",
    "\n",
    "x_test, y_test = dfm.x_y(train=False, x_columns=df_utils.DatasetEnum.X_Y)\n",
    "\n",
    "_, t_test = dfm.x_y(train=False, x_columns=df_utils.DatasetEnum.X_T)\n"
   ],
   "metadata": {
    "collapsed": false,
    "pycharm": {
     "name": "#%%\n",
     "is_executing": true
    }
   }
  },
  {
   "cell_type": "code",
   "execution_count": null,
   "outputs": [],
   "source": [
    "%%time\n",
    "\n",
    "causal_forest: CausalForestDML = CausalForestDML(\n",
    "    criterion='het',\n",
    "    n_estimators=10000,\n",
    "    min_samples_leaf=10,\n",
    "    max_depth=None,\n",
    "    max_samples=0.5,\n",
    "    discrete_treatment=True,\n",
    "    honest=True,\n",
    "    inference=True,\n",
    "    cv=10,\n",
    "    random_state=seed(),\n",
    "    model_t=sklearn.base.clone(best_ipsw_predictor),\n",
    "    model_y=sklearn.base.clone(best_simple_est),\n",
    "    verbose=1\n",
    ")\n",
    "\n",
    "# fit train data to causal forest model\n",
    "causal_forest.fit(Y, T, X=X, W=None)\n",
    "# estimate the CATE with the test set\n",
    "causal_forest.const_marginal_ate(x_test)"
   ],
   "metadata": {
    "collapsed": false,
    "pycharm": {
     "name": "#%%\n",
     "is_executing": true
    }
   }
  },
  {
   "cell_type": "code",
   "execution_count": null,
   "outputs": [],
   "source": [
    "slearner.standalone_feature_importance_plotter(\n",
    "    predictor=causal_forest,\n",
    "    x_data=x_test,\n",
    "    y_data=y_test,\n",
    "    predictor_name=\"Causal Forest\",\n",
    "    dataset_name=dataset\n",
    ")"
   ],
   "metadata": {
    "collapsed": false,
    "pycharm": {
     "name": "#%%\n",
     "is_executing": true
    }
   }
  },
  {
   "cell_type": "code",
   "execution_count": null,
   "outputs": [],
   "source": [
    "%%time\n",
    "\n",
    "\n",
    "# fit causal forest with default parameters\n",
    "#shap_causal_forest = CausalForestDML()\n",
    "#shap_causal_forest.fit(Y, T, X=X, W=None)\n",
    "\n",
    "# calculate shap values of causal forest model\n",
    "shap_values = causal_forest.shap_values(X)\n",
    "# plot shap values\n",
    "shap.summary_plot(shap_values['Y0']['T0'])"
   ],
   "metadata": {
    "collapsed": false,
    "pycharm": {
     "name": "#%%\n",
     "is_executing": true
    }
   }
  },
  {
   "cell_type": "code",
   "execution_count": null,
   "outputs": [],
   "source": [
    "import dill\n",
    "dill.dump_session(f\"{os.getcwd()}\\\\{dataset}_env.pickle\")"
   ],
   "metadata": {
    "collapsed": false,
    "pycharm": {
     "name": "#%%\n",
     "is_executing": true
    }
   }
  },
  {
   "cell_type": "code",
   "execution_count": null,
   "outputs": [],
   "source": [],
   "metadata": {
    "collapsed": false,
    "pycharm": {
     "name": "#%%\n",
     "is_executing": true
    }
   }
  },
  {
   "cell_type": "code",
   "execution_count": null,
   "outputs": [],
   "source": [],
   "metadata": {
    "collapsed": false,
    "pycharm": {
     "name": "#%%\n",
     "is_executing": true
    }
   }
  },
  {
   "cell_type": "code",
   "execution_count": null,
   "outputs": [],
   "source": [],
   "metadata": {
    "collapsed": false,
    "pycharm": {
     "name": "#%%\n",
     "is_executing": true
    }
   }
  },
  {
   "cell_type": "code",
   "execution_count": null,
   "outputs": [],
   "source": [],
   "metadata": {
    "collapsed": false,
    "pycharm": {
     "name": "#%%\n",
     "is_executing": true
    }
   }
  },
  {
   "cell_type": "code",
   "execution_count": null,
   "outputs": [],
   "source": [],
   "metadata": {
    "collapsed": false,
    "pycharm": {
     "name": "#%%\n",
     "is_executing": true
    }
   }
  },
  {
   "cell_type": "code",
   "execution_count": null,
   "outputs": [],
   "source": [],
   "metadata": {
    "collapsed": false,
    "pycharm": {
     "name": "#%%\n",
     "is_executing": true
    }
   }
  },
  {
   "cell_type": "code",
   "execution_count": null,
   "outputs": [],
   "source": [],
   "metadata": {
    "collapsed": false,
    "pycharm": {
     "name": "#%%\n",
     "is_executing": true
    }
   }
  },
  {
   "cell_type": "code",
   "execution_count": null,
   "outputs": [],
   "source": [],
   "metadata": {
    "collapsed": false,
    "pycharm": {
     "name": "#%%\n",
     "is_executing": true
    }
   }
  },
  {
   "cell_type": "code",
   "execution_count": null,
   "outputs": [],
   "source": [],
   "metadata": {
    "collapsed": false,
    "pycharm": {
     "name": "#%%\n",
     "is_executing": true
    }
   }
  },
  {
   "cell_type": "code",
   "execution_count": null,
   "outputs": [],
   "source": [],
   "metadata": {
    "collapsed": false,
    "pycharm": {
     "name": "#%%\n",
     "is_executing": true
    }
   }
  },
  {
   "cell_type": "code",
   "execution_count": null,
   "outputs": [],
   "source": [],
   "metadata": {
    "collapsed": false,
    "pycharm": {
     "name": "#%%\n",
     "is_executing": true
    }
   }
  },
  {
   "cell_type": "code",
   "execution_count": null,
   "outputs": [],
   "source": [],
   "metadata": {
    "collapsed": false,
    "pycharm": {
     "name": "#%%\n",
     "is_executing": true
    }
   }
  },
  {
   "cell_type": "code",
   "execution_count": null,
   "outputs": [],
   "source": [],
   "metadata": {
    "collapsed": false,
    "pycharm": {
     "name": "#%%\n",
     "is_executing": true
    }
   }
  },
  {
   "cell_type": "code",
   "execution_count": null,
   "outputs": [],
   "source": [],
   "metadata": {
    "collapsed": false,
    "pycharm": {
     "name": "#%%\n",
     "is_executing": true
    }
   }
  },
  {
   "cell_type": "code",
   "execution_count": null,
   "outputs": [],
   "source": [],
   "metadata": {
    "collapsed": false,
    "pycharm": {
     "name": "#%%\n",
     "is_executing": true
    }
   }
  },
  {
   "cell_type": "code",
   "execution_count": null,
   "outputs": [],
   "source": [],
   "metadata": {
    "collapsed": false,
    "pycharm": {
     "name": "#%%\n",
     "is_executing": true
    }
   }
  },
  {
   "cell_type": "code",
   "execution_count": null,
   "outputs": [],
   "source": [],
   "metadata": {
    "collapsed": false,
    "pycharm": {
     "name": "#%%\n",
     "is_executing": true
    }
   }
  },
  {
   "cell_type": "code",
   "execution_count": null,
   "outputs": [],
   "source": [],
   "metadata": {
    "collapsed": false,
    "pycharm": {
     "name": "#%%\n",
     "is_executing": true
    }
   }
  },
  {
   "cell_type": "code",
   "execution_count": null,
   "outputs": [],
   "source": [],
   "metadata": {
    "collapsed": false,
    "pycharm": {
     "name": "#%%\n",
     "is_executing": true
    }
   }
  },
  {
   "cell_type": "code",
   "execution_count": null,
   "outputs": [],
   "source": [],
   "metadata": {
    "collapsed": false,
    "pycharm": {
     "name": "#%%\n",
     "is_executing": true
    }
   }
  },
  {
   "cell_type": "code",
   "execution_count": null,
   "outputs": [],
   "source": [],
   "metadata": {
    "collapsed": false,
    "pycharm": {
     "name": "#%%\n",
     "is_executing": true
    }
   }
  },
  {
   "cell_type": "code",
   "execution_count": null,
   "outputs": [],
   "source": [],
   "metadata": {
    "collapsed": false,
    "pycharm": {
     "name": "#%%\n",
     "is_executing": true
    }
   }
  },
  {
   "cell_type": "code",
   "execution_count": null,
   "outputs": [],
   "source": [],
   "metadata": {
    "collapsed": false,
    "pycharm": {
     "name": "#%%\n",
     "is_executing": true
    }
   }
  },
  {
   "cell_type": "code",
   "execution_count": null,
   "outputs": [],
   "source": [],
   "metadata": {
    "collapsed": false,
    "pycharm": {
     "name": "#%%\n",
     "is_executing": true
    }
   }
  },
  {
   "cell_type": "code",
   "execution_count": null,
   "outputs": [],
   "source": [],
   "metadata": {
    "collapsed": false,
    "pycharm": {
     "name": "#%%\n",
     "is_executing": true
    }
   }
  },
  {
   "cell_type": "code",
   "execution_count": null,
   "outputs": [],
   "source": [],
   "metadata": {
    "collapsed": false,
    "pycharm": {
     "name": "#%%\n",
     "is_executing": true
    }
   }
  }
 ],
 "metadata": {
  "kernelspec": {
   "display_name": "Python 3",
   "language": "python",
   "name": "python3"
  },
  "language_info": {
   "codemirror_mode": {
    "name": "ipython",
    "version": 2
   },
   "file_extension": ".py",
   "mimetype": "text/x-python",
   "name": "python",
   "nbconvert_exporter": "python",
   "pygments_lexer": "ipython2",
   "version": "2.7.6"
  }
 },
 "nbformat": 4,
 "nbformat_minor": 0
}