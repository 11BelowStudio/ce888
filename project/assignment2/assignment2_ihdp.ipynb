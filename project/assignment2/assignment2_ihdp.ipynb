{
 "cells": [
  {
   "cell_type": "code",
   "execution_count": 1,
   "metadata": {
    "collapsed": true,
    "pycharm": {
     "name": "#%%\n"
    }
   },
   "outputs": [],
   "source": [
    "from __future__ import annotations\n",
    "\n",
    "import pandas as pd\n",
    "import numpy as np\n",
    "import sys\n",
    "import traceback\n",
    "import seaborn as sns\n",
    "import matplotlib\n",
    "import matplotlib.pyplot as plt\n",
    "from typing import Literal, Final, List, TypeVar, Dict, Tuple, Any, Optional, Iterable, Union, NoReturn\n",
    "import sklearn\n",
    "import dataclasses\n",
    "import os\n",
    "\n",
    "\n",
    "\n",
    "import pickle\n",
    "\n",
    "import dill"
   ]
  },
  {
   "cell_type": "code",
   "execution_count": 2,
   "outputs": [],
   "source": [
    "dataset: Literal[\"ihdp\",\"jobs\"] = \"ihdp\""
   ],
   "metadata": {
    "collapsed": false,
    "pycharm": {
     "name": "#%%\n"
    }
   }
  },
  {
   "cell_type": "code",
   "execution_count": 3,
   "outputs": [],
   "source": [
    "import warnings\n",
    "warnings.filterwarnings(\"ignore\")\n",
    "\n",
    "#print(sns.plotting_context())\n",
    "\n",
    "sns.set_theme(style=\"darkgrid\",context=\"paper\")\n",
    "\n",
    "import matplotlib.style\n",
    "if \"seaborn-darkgrid\" in matplotlib.style.available:\n",
    "    matplotlib.style.use(\"seaborn-darkgrid\")\n",
    "\n",
    "%matplotlib inline"
   ],
   "metadata": {
    "collapsed": false,
    "pycharm": {
     "name": "#%%\n"
    }
   }
  },
  {
   "cell_type": "code",
   "execution_count": 4,
   "outputs": [
    {
     "data": {
      "text/plain": "''"
     },
     "execution_count": 4,
     "metadata": {},
     "output_type": "execute_result"
    }
   ],
   "source": [
    "from assignment2.a2_utils.seed_utils import *\n",
    "\n",
    "from assignment2.a2_utils.misc_utils import *\n",
    "\n",
    "import assignment2.a2_utils.seed_utils as seed_utils\n",
    "import assignment2.a2_utils.misc_utils as misc_utils\n",
    "import assignment2.a2_utils.metric_utils as metric_utils\n",
    "import assignment2.a2_utils.dataframe_utils as df_utils\n",
    "import assignment2.a2_utils.simple_learner_utils as slearner\n",
    "\n",
    "import econml\n",
    "\n",
    "\n",
    "\"\""
   ],
   "metadata": {
    "collapsed": false,
    "pycharm": {
     "name": "#%%\n"
    }
   }
  },
  {
   "cell_type": "markdown",
   "source": [
    "# IHDP dataset processing\n"
   ],
   "metadata": {
    "collapsed": false,
    "pycharm": {
     "name": "#%% md\n"
    }
   }
  },
  {
   "cell_type": "code",
   "execution_count": 4,
   "outputs": [],
   "source": [],
   "metadata": {
    "collapsed": false,
    "pycharm": {
     "name": "#%%\n"
    }
   }
  },
  {
   "cell_type": "code",
   "execution_count": 5,
   "outputs": [
    {
     "data": {
      "text/plain": "         x0        x1        x2        x3        x4        x5  x6  x7  x8  x9  \\\n0  1.397395  0.996346 -1.105624 -0.879606  0.308569 -1.023402   1   0   0   0   \n1  0.269033  0.196818  0.383828  0.161703 -0.629189  1.460832   1   0   1   0   \n2  1.051537  1.795874 -1.105624  0.161703 -0.629189  0.963985   1   0   1   1   \n3  0.662446  0.196818 -0.733261 -0.879606  0.371086 -0.692171   1   0   0   0   \n4  0.856992  1.795874  0.011465 -0.879606  0.558638  0.301522   0   1   1   0   \n\n   ...  x22  x23  x24  t        yf       ycf       ite  tcf        t0  \\\n0  ...    0    0    1  1  4.771232 -0.298509  4.657928    0 -0.298509   \n1  ...    0    0    0  0  2.956273  5.783770  3.428604    1  2.956273   \n2  ...    0    0    1  0  4.164164  7.055789  3.658195    1  4.164164   \n3  ...    0    0    0  1  6.172307  1.379697  4.585505    0  1.379697   \n4  ...    0    0    0  1  7.834469  2.747986  4.265591    0  2.747986   \n\n         t1  \n0  4.771232  \n1  5.783770  \n2  7.055789  \n3  6.172307  \n4  7.834469  \n\n[5 rows x 32 columns]",
      "text/html": "<div>\n<style scoped>\n    .dataframe tbody tr th:only-of-type {\n        vertical-align: middle;\n    }\n\n    .dataframe tbody tr th {\n        vertical-align: top;\n    }\n\n    .dataframe thead th {\n        text-align: right;\n    }\n</style>\n<table border=\"1\" class=\"dataframe\">\n  <thead>\n    <tr style=\"text-align: right;\">\n      <th></th>\n      <th>x0</th>\n      <th>x1</th>\n      <th>x2</th>\n      <th>x3</th>\n      <th>x4</th>\n      <th>x5</th>\n      <th>x6</th>\n      <th>x7</th>\n      <th>x8</th>\n      <th>x9</th>\n      <th>...</th>\n      <th>x22</th>\n      <th>x23</th>\n      <th>x24</th>\n      <th>t</th>\n      <th>yf</th>\n      <th>ycf</th>\n      <th>ite</th>\n      <th>tcf</th>\n      <th>t0</th>\n      <th>t1</th>\n    </tr>\n  </thead>\n  <tbody>\n    <tr>\n      <th>0</th>\n      <td>1.397395</td>\n      <td>0.996346</td>\n      <td>-1.105624</td>\n      <td>-0.879606</td>\n      <td>0.308569</td>\n      <td>-1.023402</td>\n      <td>1</td>\n      <td>0</td>\n      <td>0</td>\n      <td>0</td>\n      <td>...</td>\n      <td>0</td>\n      <td>0</td>\n      <td>1</td>\n      <td>1</td>\n      <td>4.771232</td>\n      <td>-0.298509</td>\n      <td>4.657928</td>\n      <td>0</td>\n      <td>-0.298509</td>\n      <td>4.771232</td>\n    </tr>\n    <tr>\n      <th>1</th>\n      <td>0.269033</td>\n      <td>0.196818</td>\n      <td>0.383828</td>\n      <td>0.161703</td>\n      <td>-0.629189</td>\n      <td>1.460832</td>\n      <td>1</td>\n      <td>0</td>\n      <td>1</td>\n      <td>0</td>\n      <td>...</td>\n      <td>0</td>\n      <td>0</td>\n      <td>0</td>\n      <td>0</td>\n      <td>2.956273</td>\n      <td>5.783770</td>\n      <td>3.428604</td>\n      <td>1</td>\n      <td>2.956273</td>\n      <td>5.783770</td>\n    </tr>\n    <tr>\n      <th>2</th>\n      <td>1.051537</td>\n      <td>1.795874</td>\n      <td>-1.105624</td>\n      <td>0.161703</td>\n      <td>-0.629189</td>\n      <td>0.963985</td>\n      <td>1</td>\n      <td>0</td>\n      <td>1</td>\n      <td>1</td>\n      <td>...</td>\n      <td>0</td>\n      <td>0</td>\n      <td>1</td>\n      <td>0</td>\n      <td>4.164164</td>\n      <td>7.055789</td>\n      <td>3.658195</td>\n      <td>1</td>\n      <td>4.164164</td>\n      <td>7.055789</td>\n    </tr>\n    <tr>\n      <th>3</th>\n      <td>0.662446</td>\n      <td>0.196818</td>\n      <td>-0.733261</td>\n      <td>-0.879606</td>\n      <td>0.371086</td>\n      <td>-0.692171</td>\n      <td>1</td>\n      <td>0</td>\n      <td>0</td>\n      <td>0</td>\n      <td>...</td>\n      <td>0</td>\n      <td>0</td>\n      <td>0</td>\n      <td>1</td>\n      <td>6.172307</td>\n      <td>1.379697</td>\n      <td>4.585505</td>\n      <td>0</td>\n      <td>1.379697</td>\n      <td>6.172307</td>\n    </tr>\n    <tr>\n      <th>4</th>\n      <td>0.856992</td>\n      <td>1.795874</td>\n      <td>0.011465</td>\n      <td>-0.879606</td>\n      <td>0.558638</td>\n      <td>0.301522</td>\n      <td>0</td>\n      <td>1</td>\n      <td>1</td>\n      <td>0</td>\n      <td>...</td>\n      <td>0</td>\n      <td>0</td>\n      <td>0</td>\n      <td>1</td>\n      <td>7.834469</td>\n      <td>2.747986</td>\n      <td>4.265591</td>\n      <td>0</td>\n      <td>2.747986</td>\n      <td>7.834469</td>\n    </tr>\n  </tbody>\n</table>\n<p>5 rows × 32 columns</p>\n</div>"
     },
     "execution_count": 5,
     "metadata": {},
     "output_type": "execute_result"
    }
   ],
   "source": [
    "\n",
    "ihdp_full: pd.DataFrame = df_utils.turn_01_columns_into_int(\n",
    "    pd.read_csv(f\"{dataset}_full.csv\")\n",
    ")\n",
    "\"The full IHDP dataset (with supplementary t0 and t1 info) as a dataframe\"\n",
    "\n",
    "ihdp_full.head()"
   ],
   "metadata": {
    "collapsed": false,
    "pycharm": {
     "name": "#%%\n"
    }
   }
  },
  {
   "cell_type": "code",
   "execution_count": 6,
   "outputs": [
    {
     "name": "stdout",
     "output_type": "stream",
     "text": [
      "<class 'pandas.core.frame.DataFrame'>\n",
      "RangeIndex: 747 entries, 0 to 746\n",
      "Data columns (total 32 columns):\n",
      " #   Column  Non-Null Count  Dtype  \n",
      "---  ------  --------------  -----  \n",
      " 0   x0      747 non-null    float64\n",
      " 1   x1      747 non-null    float64\n",
      " 2   x2      747 non-null    float64\n",
      " 3   x3      747 non-null    float64\n",
      " 4   x4      747 non-null    float64\n",
      " 5   x5      747 non-null    float64\n",
      " 6   x6      747 non-null    uint8  \n",
      " 7   x7      747 non-null    uint8  \n",
      " 8   x8      747 non-null    uint8  \n",
      " 9   x9      747 non-null    uint8  \n",
      " 10  x10     747 non-null    uint8  \n",
      " 11  x11     747 non-null    uint8  \n",
      " 12  x12     747 non-null    uint8  \n",
      " 13  x13     747 non-null    uint8  \n",
      " 14  x14     747 non-null    uint8  \n",
      " 15  x15     747 non-null    uint8  \n",
      " 16  x16     747 non-null    uint8  \n",
      " 17  x17     747 non-null    uint8  \n",
      " 18  x18     747 non-null    uint8  \n",
      " 19  x19     747 non-null    uint8  \n",
      " 20  x20     747 non-null    uint8  \n",
      " 21  x21     747 non-null    uint8  \n",
      " 22  x22     747 non-null    uint8  \n",
      " 23  x23     747 non-null    uint8  \n",
      " 24  x24     747 non-null    uint8  \n",
      " 25  t       747 non-null    uint8  \n",
      " 26  yf      747 non-null    float64\n",
      " 27  ycf     747 non-null    float64\n",
      " 28  ite     747 non-null    float64\n",
      " 29  tcf     747 non-null    uint8  \n",
      " 30  t0      747 non-null    float64\n",
      " 31  t1      747 non-null    float64\n",
      "dtypes: float64(11), uint8(21)\n",
      "memory usage: 79.6 KB\n"
     ]
    }
   ],
   "source": [
    "ihdp_full.info()"
   ],
   "metadata": {
    "collapsed": false,
    "pycharm": {
     "name": "#%%\n"
    }
   }
  },
  {
   "cell_type": "code",
   "execution_count": 7,
   "outputs": [],
   "source": [
    "dfm: df_utils.DataframeManager = df_utils.DataframeManager.make(\n",
    "    dataset_name = dataset,\n",
    "    the_df = ihdp_full,\n",
    "    test_proportion = 0.1,\n",
    "    split_randomstate = rng_state(),\n",
    "    columns_for_training_stratification= [\"t\"],\n",
    "    t_column = \"t\",\n",
    "    t_cf_column = \"tcf\",\n",
    "    y_column = \"yf\",\n",
    "    e_column = \"e\",\n",
    "    default_e_if_e_not_present = 1,\n",
    "    ycf_column= \"ycf\",\n",
    "    t0_column= \"t0\",\n",
    "    t1_column = \"t1\",\n",
    "    ite_column = \"ite\"\n",
    ")\n"
   ],
   "metadata": {
    "collapsed": false,
    "pycharm": {
     "name": "#%%\n"
    }
   }
  },
  {
   "cell_type": "code",
   "execution_count": 8,
   "outputs": [
    {
     "name": "stdout",
     "output_type": "stream",
     "text": [
      "pickling self as \\ihdp\\ihdp DataframeManager.pickle...\n",
      "pickled!\n"
     ]
    },
    {
     "data": {
      "text/plain": "True"
     },
     "execution_count": 8,
     "metadata": {},
     "output_type": "execute_result"
    }
   ],
   "source": [
    "dfm.save_self()"
   ],
   "metadata": {
    "collapsed": false,
    "pycharm": {
     "name": "#%%\n"
    }
   }
  },
  {
   "cell_type": "code",
   "execution_count": 8,
   "outputs": [],
   "source": [],
   "metadata": {
    "collapsed": false,
    "pycharm": {
     "name": "#%%\n"
    }
   }
  },
  {
   "cell_type": "code",
   "execution_count": 8,
   "outputs": [],
   "source": [],
   "metadata": {
    "collapsed": false,
    "pycharm": {
     "name": "#%%\n"
    }
   }
  },
  {
   "cell_type": "code",
   "execution_count": 9,
   "outputs": [],
   "source": [
    "from sklearn.model_selection import KFold\n",
    "from sklearn.model_selection._validation import NotFittedError\n",
    "from sklearn.base import RegressorMixin, TransformerMixin\n",
    "from sklearn.linear_model import ARDRegression, SGDClassifier, SGDRegressor\n",
    "from sklearn.ensemble import RandomForestRegressor, AdaBoostRegressor, RandomForestClassifier, AdaBoostClassifier\n",
    "from sklearn.tree import DecisionTreeRegressor, DecisionTreeClassifier\n",
    "from sklearn.preprocessing import QuantileTransformer\n",
    "from sklearn.impute import KNNImputer\n",
    "from sklearn.pipeline import Pipeline, make_pipeline\n",
    "from sklearn import set_config\n",
    "from sklearn.metrics import r2_score, make_scorer\n",
    "from sklearn.experimental import enable_halving_search_cv\n",
    "from sklearn.model_selection import HalvingGridSearchCV, GridSearchCV\n",
    "from sklearn.preprocessing import PolynomialFeatures\n",
    "from sklearn.inspection import permutation_importance\n",
    "from sklearn.utils import Bunch\n",
    "from math import inf\n",
    "\n",
    "set_config(display=\"diagram\")\n",
    "\n"
   ],
   "metadata": {
    "collapsed": false,
    "pycharm": {
     "name": "#%%\n"
    }
   }
  },
  {
   "cell_type": "markdown",
   "source": [
    "# Part 3 - Simple Learners"
   ],
   "metadata": {
    "collapsed": false,
    "pycharm": {
     "name": "#%% md\n"
    }
   }
  },
  {
   "cell_type": "code",
   "execution_count": 9,
   "outputs": [],
   "source": [],
   "metadata": {
    "collapsed": false,
    "pycharm": {
     "name": "#%%\n"
    }
   }
  },
  {
   "cell_type": "code",
   "execution_count": 10,
   "outputs": [
    {
     "name": "stdout",
     "output_type": "stream",
     "text": [
      "-- 10-fold attempt 1/4 start --\n",
      "max: 50, min: 7, factor: 8\n",
      "n_iterations: 3\n",
      "n_required_iterations: 3\n",
      "n_possible_iterations: 1\n",
      "min_resources_: 7\n",
      "max_resources_: 50\n",
      "aggressive_elimination: True\n",
      "factor: 8\n",
      "----------\n",
      "iter: 0\n",
      "n_candidates: 500\n",
      "n_resources: 7\n",
      "Fitting 10 folds for each of 500 candidates, totalling 5000 fits\n",
      "----------\n",
      "iter: 1\n",
      "n_candidates: 63\n",
      "n_resources: 7\n",
      "Fitting 10 folds for each of 63 candidates, totalling 630 fits\n",
      "----------\n",
      "iter: 2\n",
      "n_candidates: 8\n",
      "n_resources: 7\n",
      "Fitting 10 folds for each of 8 candidates, totalling 80 fits\n",
      "best from this iteration: \n",
      "GridSearchResults summary Random Forest simple ihdp\n",
      "\ttest score:\t0.6498332062394994\n",
      "\ttrain score:0.7709014983988103\n",
      "\tyf score:\t0.8199018876576412\n",
      "\tycf score:\t0.6957497020343439\n",
      "\tt0 score:\t0.6388679444069123\n",
      "\tt1 score:\t0.07132932382614265\n",
      "\tite score:\t0.47545168932482584\n",
      "\tabs ATE:\t0.05281883906596496\n",
      "\tPEHE:   \t0.6222530876097533\n",
      "\tabs ATT:\t0.04930649712554924\n",
      "\tp. risk:\t-5.508298891488975\n",
      "\n",
      "--- 1/4 END ---\n",
      "-- 10-fold attempt 2/4 start --\n",
      "max: 100, min: 1, factor: 10\n",
      "n_iterations: 3\n",
      "n_required_iterations: 3\n",
      "n_possible_iterations: 3\n",
      "min_resources_: 1\n",
      "max_resources_: 100\n",
      "aggressive_elimination: True\n",
      "factor: 10\n",
      "----------\n",
      "iter: 0\n",
      "n_candidates: 500\n",
      "n_resources: 1\n",
      "Fitting 10 folds for each of 500 candidates, totalling 5000 fits\n",
      "----------\n",
      "iter: 1\n",
      "n_candidates: 50\n",
      "n_resources: 10\n",
      "Fitting 10 folds for each of 50 candidates, totalling 500 fits\n",
      "----------\n",
      "iter: 2\n",
      "n_candidates: 5\n",
      "n_resources: 100\n",
      "Fitting 10 folds for each of 5 candidates, totalling 50 fits\n",
      "best from this iteration: \n",
      "GridSearchResults summary Random Forest simple ihdp\n",
      "\ttest score:\t0.6711888497393727\n",
      "\ttrain score:0.7770952403846507\n",
      "\tyf score:\t0.8244244800269346\n",
      "\tycf score:\t0.6955888784923343\n",
      "\tt0 score:\t0.6494467536339077\n",
      "\tt1 score:\t0.0662953849178406\n",
      "\tite score:\t0.5987418622260066\n",
      "\tabs ATE:\t0.057904874589408184\n",
      "\tPEHE:   \t0.5442347149270812\n",
      "\tabs ATT:\t0.0764029146957661\n",
      "\tp. risk:\t-5.503193636700893\n",
      "\n",
      "--- 2/4 END ---\n",
      "-- 10-fold attempt 3/4 start --\n",
      "max: 150, min: 12, factor: 13\n",
      "n_iterations: 3\n",
      "n_required_iterations: 3\n",
      "n_possible_iterations: 1\n",
      "min_resources_: 12\n",
      "max_resources_: 150\n",
      "aggressive_elimination: True\n",
      "factor: 13\n",
      "----------\n",
      "iter: 0\n",
      "n_candidates: 500\n",
      "n_resources: 12\n",
      "Fitting 10 folds for each of 500 candidates, totalling 5000 fits\n",
      "----------\n",
      "iter: 1\n",
      "n_candidates: 39\n",
      "n_resources: 12\n",
      "Fitting 10 folds for each of 39 candidates, totalling 390 fits\n",
      "----------\n",
      "iter: 2\n",
      "n_candidates: 3\n",
      "n_resources: 12\n",
      "Fitting 10 folds for each of 3 candidates, totalling 30 fits\n",
      "best from this iteration: \n",
      "GridSearchResults summary Random Forest simple ihdp\n",
      "\ttest score:\t0.6497266668319761\n",
      "\ttrain score:0.7731498185566196\n",
      "\tyf score:\t0.8235335360460521\n",
      "\tycf score:\t0.6967238583868687\n",
      "\tt0 score:\t0.6459152356905582\n",
      "\tt1 score:\t0.07388787989259438\n",
      "\tite score:\t0.489479607645551\n",
      "\tabs ATE:\t0.062098694026285095\n",
      "\tPEHE:   \t0.6138762918311911\n",
      "\tabs ATT:\t0.06778671160856842\n",
      "\tp. risk:\t-5.512262010211181\n",
      "\n",
      "--- 3/4 END ---\n",
      "-- 10-fold attempt 4/4 start --\n",
      "max: 200, min: 14, factor: 15\n",
      "n_iterations: 3\n",
      "n_required_iterations: 3\n",
      "n_possible_iterations: 1\n",
      "min_resources_: 14\n",
      "max_resources_: 200\n",
      "aggressive_elimination: True\n",
      "factor: 15\n",
      "----------\n",
      "iter: 0\n",
      "n_candidates: 500\n",
      "n_resources: 14\n",
      "Fitting 10 folds for each of 500 candidates, totalling 5000 fits\n",
      "----------\n",
      "iter: 1\n",
      "n_candidates: 34\n",
      "n_resources: 14\n",
      "Fitting 10 folds for each of 34 candidates, totalling 340 fits\n",
      "----------\n",
      "iter: 2\n",
      "n_candidates: 3\n",
      "n_resources: 14\n",
      "Fitting 10 folds for each of 3 candidates, totalling 30 fits\n",
      "best from this iteration: \n",
      "GridSearchResults summary Random Forest simple ihdp\n",
      "\ttest score:\t0.6399424345473923\n",
      "\ttrain score:0.7720137758782478\n",
      "\tyf score:\t0.8255480464958549\n",
      "\tycf score:\t0.6946955630576279\n",
      "\tt0 score:\t0.6480378437112542\n",
      "\tt1 score:\t0.07076579532524163\n",
      "\tite score:\t0.4850386138608601\n",
      "\tabs ATE:\t0.05187319418121561\n",
      "\tPEHE:   \t0.6165405513469807\n",
      "\tabs ATT:\t0.0883730007282022\n",
      "\tp. risk:\t-5.51386311121327\n",
      "\n",
      "--- 4/4 END ---\n",
      "CPU times: total: 39.4 s\n",
      "Wall time: 30min 36s\n"
     ]
    }
   ],
   "source": [
    "%%time\n",
    "\n",
    "rf_min_samples = [2,4,6,8]\n",
    "rf_min_impurity_decrease =  [0, *np.geomspace(0.00001, 0.15,5)[1:]]\n",
    "rf_max_features = [None,\"sqrt\",\"log2\",1,2]\n",
    "rf_ccp_alpha =  [0, *np.geomspace(0.00001, 0.15,5)[1:]]\n",
    "rf_n_estimators = [50,100,150,200]\n",
    "\n",
    "rf_simple_searched: List[\n",
    "    slearner.SimpleHalvingGridSearchResults\n",
    "] = slearner.simple_halving_grid_searcher(\n",
    "    RandomForestRegressor(criterion=\"squared_error\", random_state=seed()),\n",
    "    {\n",
    "        #\"estimator__n_estimators\": [75,100,125],\n",
    "        \"estimator__min_samples_split\": rf_min_samples,\n",
    "        \"estimator__min_impurity_decrease\": rf_min_impurity_decrease,\n",
    "        \"estimator__max_features\": rf_max_features,\n",
    "        # \"estimator__oob_score\": [False, True],\n",
    "        \"estimator__ccp_alpha\":  rf_ccp_alpha\n",
    "    },\n",
    "    df_m=dfm,\n",
    "    df_selection=df_utils.DatasetEnum.FACTUAL,\n",
    "    learner_name=\"Random Forest simple\",\n",
    "    kfold_splits=10,\n",
    "    scorer_to_use=slearner.r2_score_id(),\n",
    "    stratify_on=[\"t\"],\n",
    "    resource=\"estimator__n_estimators\",\n",
    "    resource_param_values=rf_n_estimators,\n",
    "    #classes_ndarray=ihdp_learn_df_x[\"t\"].to_numpy()\n",
    ")\n"
   ],
   "metadata": {
    "collapsed": false,
    "pycharm": {
     "name": "#%%\n"
    }
   }
  },
  {
   "cell_type": "code",
   "execution_count": 11,
   "outputs": [],
   "source": [
    "\n",
    "rf_simple_best: slearner.SimpleHalvingGridSearchResults = max(\n",
    "    rf_simple_searched\n",
    ")\n"
   ],
   "metadata": {
    "collapsed": false,
    "pycharm": {
     "name": "#%%\n"
    }
   }
  },
  {
   "cell_type": "code",
   "execution_count": 12,
   "outputs": [
    {
     "name": "stdout",
     "output_type": "stream",
     "text": [
      "GridSearchResults summary Random Forest simple ihdp\n",
      "\ttest score:\t0.6711888497393727\n",
      "\ttrain score:0.7770952403846507\n",
      "\tyf score:\t0.8244244800269346\n",
      "\tycf score:\t0.6955888784923343\n",
      "\tt0 score:\t0.6494467536339077\n",
      "\tt1 score:\t0.0662953849178406\n",
      "\tite score:\t0.5987418622260066\n",
      "\tabs ATE:\t0.057904874589408184\n",
      "\tPEHE:   \t0.5442347149270812\n",
      "\tabs ATT:\t0.0764029146957661\n",
      "\tp. risk:\t-5.503193636700893\n",
      "\tbest params:\n",
      "\t\testimator__ccp_alpha : 0.0012247448713915891\n",
      "\t\testimator__max_features : None\n",
      "\t\testimator__min_impurity_decrease : 0.013554030054147676\n",
      "\t\testimator__min_samples_split : 6\n",
      "\t\testimator__n_estimators : 100\n"
     ]
    },
    {
     "data": {
      "text/plain": "PPipeline(steps=[('scaler', QuantileTransformer(output_distribution='normal')),\n                 ('imputer', KNNImputer(weights='distance')),\n                 ('estimator',\n                  RandomForestRegressor(ccp_alpha=0.0012247448713915891,\n                                        max_features=None,\n                                        min_impurity_decrease=0.013554030054147676,\n                                        min_samples_split=6,\n                                        random_state=42))])",
      "text/html": "<style>#sk-7ea47c4e-cc9e-48b9-a66f-0a2b66737240 {color: black;background-color: white;}#sk-7ea47c4e-cc9e-48b9-a66f-0a2b66737240 pre{padding: 0;}#sk-7ea47c4e-cc9e-48b9-a66f-0a2b66737240 div.sk-toggleable {background-color: white;}#sk-7ea47c4e-cc9e-48b9-a66f-0a2b66737240 label.sk-toggleable__label {cursor: pointer;display: block;width: 100%;margin-bottom: 0;padding: 0.3em;box-sizing: border-box;text-align: center;}#sk-7ea47c4e-cc9e-48b9-a66f-0a2b66737240 label.sk-toggleable__label-arrow:before {content: \"▸\";float: left;margin-right: 0.25em;color: #696969;}#sk-7ea47c4e-cc9e-48b9-a66f-0a2b66737240 label.sk-toggleable__label-arrow:hover:before {color: black;}#sk-7ea47c4e-cc9e-48b9-a66f-0a2b66737240 div.sk-estimator:hover label.sk-toggleable__label-arrow:before {color: black;}#sk-7ea47c4e-cc9e-48b9-a66f-0a2b66737240 div.sk-toggleable__content {max-height: 0;max-width: 0;overflow: hidden;text-align: left;background-color: #f0f8ff;}#sk-7ea47c4e-cc9e-48b9-a66f-0a2b66737240 div.sk-toggleable__content pre {margin: 0.2em;color: black;border-radius: 0.25em;background-color: #f0f8ff;}#sk-7ea47c4e-cc9e-48b9-a66f-0a2b66737240 input.sk-toggleable__control:checked~div.sk-toggleable__content {max-height: 200px;max-width: 100%;overflow: auto;}#sk-7ea47c4e-cc9e-48b9-a66f-0a2b66737240 input.sk-toggleable__control:checked~label.sk-toggleable__label-arrow:before {content: \"▾\";}#sk-7ea47c4e-cc9e-48b9-a66f-0a2b66737240 div.sk-estimator input.sk-toggleable__control:checked~label.sk-toggleable__label {background-color: #d4ebff;}#sk-7ea47c4e-cc9e-48b9-a66f-0a2b66737240 div.sk-label input.sk-toggleable__control:checked~label.sk-toggleable__label {background-color: #d4ebff;}#sk-7ea47c4e-cc9e-48b9-a66f-0a2b66737240 input.sk-hidden--visually {border: 0;clip: rect(1px 1px 1px 1px);clip: rect(1px, 1px, 1px, 1px);height: 1px;margin: -1px;overflow: hidden;padding: 0;position: absolute;width: 1px;}#sk-7ea47c4e-cc9e-48b9-a66f-0a2b66737240 div.sk-estimator {font-family: monospace;background-color: #f0f8ff;border: 1px dotted black;border-radius: 0.25em;box-sizing: border-box;margin-bottom: 0.5em;}#sk-7ea47c4e-cc9e-48b9-a66f-0a2b66737240 div.sk-estimator:hover {background-color: #d4ebff;}#sk-7ea47c4e-cc9e-48b9-a66f-0a2b66737240 div.sk-parallel-item::after {content: \"\";width: 100%;border-bottom: 1px solid gray;flex-grow: 1;}#sk-7ea47c4e-cc9e-48b9-a66f-0a2b66737240 div.sk-label:hover label.sk-toggleable__label {background-color: #d4ebff;}#sk-7ea47c4e-cc9e-48b9-a66f-0a2b66737240 div.sk-serial::before {content: \"\";position: absolute;border-left: 1px solid gray;box-sizing: border-box;top: 2em;bottom: 0;left: 50%;}#sk-7ea47c4e-cc9e-48b9-a66f-0a2b66737240 div.sk-serial {display: flex;flex-direction: column;align-items: center;background-color: white;padding-right: 0.2em;padding-left: 0.2em;}#sk-7ea47c4e-cc9e-48b9-a66f-0a2b66737240 div.sk-item {z-index: 1;}#sk-7ea47c4e-cc9e-48b9-a66f-0a2b66737240 div.sk-parallel {display: flex;align-items: stretch;justify-content: center;background-color: white;}#sk-7ea47c4e-cc9e-48b9-a66f-0a2b66737240 div.sk-parallel::before {content: \"\";position: absolute;border-left: 1px solid gray;box-sizing: border-box;top: 2em;bottom: 0;left: 50%;}#sk-7ea47c4e-cc9e-48b9-a66f-0a2b66737240 div.sk-parallel-item {display: flex;flex-direction: column;position: relative;background-color: white;}#sk-7ea47c4e-cc9e-48b9-a66f-0a2b66737240 div.sk-parallel-item:first-child::after {align-self: flex-end;width: 50%;}#sk-7ea47c4e-cc9e-48b9-a66f-0a2b66737240 div.sk-parallel-item:last-child::after {align-self: flex-start;width: 50%;}#sk-7ea47c4e-cc9e-48b9-a66f-0a2b66737240 div.sk-parallel-item:only-child::after {width: 0;}#sk-7ea47c4e-cc9e-48b9-a66f-0a2b66737240 div.sk-dashed-wrapped {border: 1px dashed gray;margin: 0 0.4em 0.5em 0.4em;box-sizing: border-box;padding-bottom: 0.4em;background-color: white;position: relative;}#sk-7ea47c4e-cc9e-48b9-a66f-0a2b66737240 div.sk-label label {font-family: monospace;font-weight: bold;background-color: white;display: inline-block;line-height: 1.2em;}#sk-7ea47c4e-cc9e-48b9-a66f-0a2b66737240 div.sk-label-container {position: relative;z-index: 2;text-align: center;}#sk-7ea47c4e-cc9e-48b9-a66f-0a2b66737240 div.sk-container {/* jupyter's `normalize.less` sets `[hidden] { display: none; }` but bootstrap.min.css set `[hidden] { display: none !important; }` so we also need the `!important` here to be able to override the default hidden behavior on the sphinx rendered scikit-learn.org. See: https://github.com/scikit-learn/scikit-learn/issues/21755 */display: inline-block !important;position: relative;}#sk-7ea47c4e-cc9e-48b9-a66f-0a2b66737240 div.sk-text-repr-fallback {display: none;}</style><div id=\"sk-7ea47c4e-cc9e-48b9-a66f-0a2b66737240\" class=\"sk-top-container\"><div class=\"sk-text-repr-fallback\"><pre>PPipeline(steps=[(&#x27;scaler&#x27;, QuantileTransformer(output_distribution=&#x27;normal&#x27;)),\n                 (&#x27;imputer&#x27;, KNNImputer(weights=&#x27;distance&#x27;)),\n                 (&#x27;estimator&#x27;,\n                  RandomForestRegressor(ccp_alpha=0.0012247448713915891,\n                                        max_features=None,\n                                        min_impurity_decrease=0.013554030054147676,\n                                        min_samples_split=6,\n                                        random_state=42))])</pre><b>Please rerun this cell to show the HTML repr or trust the notebook.</b></div><div class=\"sk-container\" hidden><div class=\"sk-item sk-dashed-wrapped\"><div class=\"sk-label-container\"><div class=\"sk-label sk-toggleable\"><input class=\"sk-toggleable__control sk-hidden--visually\" id=\"4acff1b5-d17a-491d-a2e1-349701464193\" type=\"checkbox\" ><label for=\"4acff1b5-d17a-491d-a2e1-349701464193\" class=\"sk-toggleable__label sk-toggleable__label-arrow\">PPipeline</label><div class=\"sk-toggleable__content\"><pre>PPipeline(steps=[(&#x27;scaler&#x27;, QuantileTransformer(output_distribution=&#x27;normal&#x27;)),\n                 (&#x27;imputer&#x27;, KNNImputer(weights=&#x27;distance&#x27;)),\n                 (&#x27;estimator&#x27;,\n                  RandomForestRegressor(ccp_alpha=0.0012247448713915891,\n                                        max_features=None,\n                                        min_impurity_decrease=0.013554030054147676,\n                                        min_samples_split=6,\n                                        random_state=42))])</pre></div></div></div><div class=\"sk-serial\"><div class=\"sk-item\"><div class=\"sk-estimator sk-toggleable\"><input class=\"sk-toggleable__control sk-hidden--visually\" id=\"d057e723-2755-4400-ad89-692563829c63\" type=\"checkbox\" ><label for=\"d057e723-2755-4400-ad89-692563829c63\" class=\"sk-toggleable__label sk-toggleable__label-arrow\">QuantileTransformer</label><div class=\"sk-toggleable__content\"><pre>QuantileTransformer(output_distribution=&#x27;normal&#x27;)</pre></div></div></div><div class=\"sk-item\"><div class=\"sk-estimator sk-toggleable\"><input class=\"sk-toggleable__control sk-hidden--visually\" id=\"21f5665c-326a-47fa-b2b0-489eac05ec56\" type=\"checkbox\" ><label for=\"21f5665c-326a-47fa-b2b0-489eac05ec56\" class=\"sk-toggleable__label sk-toggleable__label-arrow\">KNNImputer</label><div class=\"sk-toggleable__content\"><pre>KNNImputer(weights=&#x27;distance&#x27;)</pre></div></div></div><div class=\"sk-item\"><div class=\"sk-estimator sk-toggleable\"><input class=\"sk-toggleable__control sk-hidden--visually\" id=\"9e6f7ad7-644b-47de-bc90-b9c5977736f0\" type=\"checkbox\" ><label for=\"9e6f7ad7-644b-47de-bc90-b9c5977736f0\" class=\"sk-toggleable__label sk-toggleable__label-arrow\">RandomForestRegressor</label><div class=\"sk-toggleable__content\"><pre>RandomForestRegressor(ccp_alpha=0.0012247448713915891, max_features=None,\n                      min_impurity_decrease=0.013554030054147676,\n                      min_samples_split=6, random_state=42)</pre></div></div></div></div></div></div></div>"
     },
     "execution_count": 12,
     "metadata": {},
     "output_type": "execute_result"
    }
   ],
   "source": [
    "\n",
    "print(rf_simple_best.info)\n",
    "\n",
    "\n",
    "\n",
    "rf_simple_best.best_estimator_\n"
   ],
   "metadata": {
    "collapsed": false,
    "pycharm": {
     "name": "#%%\n"
    }
   }
  },
  {
   "cell_type": "code",
   "execution_count": 13,
   "outputs": [
    {
     "name": "stdout",
     "output_type": "stream",
     "text": [
      "Pickling results to: \\ihdp\\ihdp Random Forest simple results.pickle\n",
      "pickled results!\n",
      "Pickling simple estimator to \\ihdp\\ihdp Random Forest simple estimator.pickle\n",
      "pickled estimator!\n"
     ]
    }
   ],
   "source": [
    "rf_simple_best.save_me()"
   ],
   "metadata": {
    "collapsed": false,
    "pycharm": {
     "name": "#%%\n"
    }
   }
  },
  {
   "cell_type": "code",
   "execution_count": 14,
   "outputs": [
    {
     "name": "stdout",
     "output_type": "stream",
     "text": [
      "Exporting feature importance graph to \\ihdp\\ihdp Random Forest simple feature importances.pdf\n"
     ]
    },
    {
     "data": {
      "text/plain": "<Figure size 1152x1296 with 2 Axes>",
      "image/png": "[encoded data removed]"
     },
     "metadata": {
      "needs_background": "light"
     },
     "output_type": "display_data"
    }
   ],
   "source": [
    "rf_simple_best.importance_plotter().show()"
   ],
   "metadata": {
    "collapsed": false,
    "pycharm": {
     "name": "#%%\n"
    }
   }
  },
  {
   "cell_type": "code",
   "execution_count": null,
   "outputs": [
    {
     "name": "stdout",
     "output_type": "stream",
     "text": [
      "-- 10-fold attempt 1/3 start --\n",
      "max: 200, min: 14, factor: 15\n",
      "n_iterations: 3\n",
      "n_required_iterations: 3\n",
      "n_possible_iterations: 1\n",
      "min_resources_: 14\n",
      "max_resources_: 200\n",
      "aggressive_elimination: True\n",
      "factor: 15\n",
      "----------\n",
      "iter: 0\n",
      "n_candidates: 729\n",
      "n_resources: 14\n",
      "Fitting 10 folds for each of 729 candidates, totalling 7290 fits\n"
     ]
    }
   ],
   "source": [
    "%%time\n",
    "\n",
    "ard_iter: List[int] = [200, 250, 300]\n",
    "ard_tol: List[float] = [1e-2, 1e-3, 1e-4]\n",
    "ard_alpha_lambda: List[float] = [1e-5, 1e-6, 1e-7]\n",
    "ard_thresh_lambda: List[float] = [1e3, 1e4, 1e5]\n",
    "\n",
    "\n",
    "\n",
    "ard_simple_searched: List[\n",
    "    slearner.SimpleHalvingGridSearchResults\n",
    "] = slearner.simple_halving_grid_searcher(\n",
    "    ARDRegression(),\n",
    "    {\n",
    "        #\"regressor__n_iter\": ard_iter,\n",
    "        \"estimator__tol\": ard_tol,\n",
    "        \"estimator__alpha_1\" : ard_alpha_lambda,\n",
    "        \"estimator__alpha_2\" : ard_alpha_lambda,\n",
    "        \"estimator__lambda_1\" : ard_alpha_lambda,\n",
    "        \"estimator__lambda_2\" : ard_alpha_lambda,\n",
    "        \"estimator__threshold_lambda\": ard_thresh_lambda\n",
    "    },\n",
    "    df_m=dfm,\n",
    "    df_selection=df_utils.DatasetEnum.FACTUAL,\n",
    "    learner_name=\"ARD simple\",\n",
    "    kfold_splits=10,\n",
    "    scorer_to_use=slearner.r2_score_id(),\n",
    "    stratify_on=[\"t\"],\n",
    "    resource=\"estimator__n_iter\",\n",
    "    resource_param_values=ard_iter\n",
    ")"
   ],
   "metadata": {
    "collapsed": false,
    "pycharm": {
     "name": "#%%\n",
     "is_executing": true
    }
   }
  },
  {
   "cell_type": "code",
   "execution_count": null,
   "outputs": [],
   "source": [
    "\n",
    "ard_simple_best: slearner.SimpleHalvingGridSearchResults = max(\n",
    "    ard_simple_searched\n",
    ")\n",
    "\n",
    "\n"
   ],
   "metadata": {
    "collapsed": false,
    "pycharm": {
     "name": "#%%\n",
     "is_executing": true
    }
   }
  },
  {
   "cell_type": "code",
   "execution_count": null,
   "outputs": [],
   "source": [
    "\n",
    "print(ard_simple_best.info)\n",
    "\n",
    "\n",
    "ard_simple_best.best_estimator_\n"
   ],
   "metadata": {
    "collapsed": false,
    "pycharm": {
     "name": "#%%\n",
     "is_executing": true
    }
   }
  },
  {
   "cell_type": "code",
   "execution_count": null,
   "outputs": [],
   "source": [
    "ard_simple_best.save_me()"
   ],
   "metadata": {
    "collapsed": false,
    "pycharm": {
     "name": "#%%\n",
     "is_executing": true
    }
   }
  },
  {
   "cell_type": "code",
   "execution_count": null,
   "outputs": [],
   "source": [
    "ard_simple_best.importance_plotter().show()"
   ],
   "metadata": {
    "collapsed": false,
    "pycharm": {
     "name": "#%%\n",
     "is_executing": true
    }
   }
  },
  {
   "cell_type": "code",
   "execution_count": null,
   "outputs": [],
   "source": [
    "%%time\n",
    "\n",
    "sgd_max_iter: List[int] = [500,1000,1500]\n",
    "sgd_alpha: List[float] = [0.001, 0.0001, 0.00001]\n",
    "sgd_learning_rate: List[str] =  [\"constant\",\"optimal\",\"invscaling\",\"adaptive\"]\n",
    "sgd_power_t: List[float] = [0.25,0.5,0.75]\n",
    "sgd_l1_ratio: List[float] = [0, 0.15, 0.5, 0.85, 1]\n",
    "\n",
    "\n",
    "sgd_simple_searched: List[\n",
    "    slearner.SimpleHalvingGridSearchResults\n",
    "] = slearner.simple_halving_grid_searcher(\n",
    "    SGDRegressor(\n",
    "        random_state=seed(),\n",
    "        early_stopping=True,\n",
    "        validation_fraction=0.1,\n",
    "        n_iter_no_change=5,\n",
    "        penalty=\"elasticnet\"\n",
    "    ),\n",
    "    {\n",
    "        #\"regressor__n_iter\": ard_iter,\n",
    "        \"estimator__alpha\": sgd_alpha,\n",
    "        \"estimator__power_t\": sgd_power_t,\n",
    "        \"estimator__learning_rate\": sgd_learning_rate,\n",
    "        \"estimator__l1_ratio\": sgd_l1_ratio\n",
    "    },\n",
    "    df_m=dfm,\n",
    "    df_selection=df_utils.DatasetEnum.FACTUAL,\n",
    "    learner_name=\"sgd simple\",\n",
    "    kfold_splits=10,\n",
    "    scorer_to_use=slearner.r2_score_id(),\n",
    "    stratify_on=[\"t\"],\n",
    "    resource=\"estimator__max_iter\",\n",
    "    resource_param_values=sgd_max_iter\n",
    ")"
   ],
   "metadata": {
    "collapsed": false,
    "pycharm": {
     "name": "#%%\n",
     "is_executing": true
    }
   }
  },
  {
   "cell_type": "code",
   "execution_count": null,
   "outputs": [],
   "source": [
    "\n",
    "sgd_simple_best: slearner.SimpleHalvingGridSearchResults = max(\n",
    "    sgd_simple_searched\n",
    ")\n",
    "\n"
   ],
   "metadata": {
    "collapsed": false,
    "pycharm": {
     "name": "#%%\n",
     "is_executing": true
    }
   }
  },
  {
   "cell_type": "code",
   "execution_count": null,
   "outputs": [],
   "source": [
    "\n",
    "print(sgd_simple_best.info)\n",
    "\n",
    "sgd_simple_best.best_estimator_\n"
   ],
   "metadata": {
    "collapsed": false,
    "pycharm": {
     "name": "#%%\n",
     "is_executing": true
    }
   }
  },
  {
   "cell_type": "code",
   "execution_count": null,
   "outputs": [],
   "source": [
    "sgd_simple_best.save_me()"
   ],
   "metadata": {
    "collapsed": false,
    "pycharm": {
     "name": "#%%\n",
     "is_executing": true
    }
   }
  },
  {
   "cell_type": "code",
   "execution_count": null,
   "outputs": [],
   "source": [
    "sgd_simple_best.importance_plotter().show()"
   ],
   "metadata": {
    "collapsed": false,
    "pycharm": {
     "name": "#%%\n",
     "is_executing": true
    }
   }
  },
  {
   "cell_type": "code",
   "execution_count": null,
   "outputs": [],
   "source": [],
   "metadata": {
    "collapsed": false,
    "pycharm": {
     "name": "#%%\n",
     "is_executing": true
    }
   }
  },
  {
   "cell_type": "code",
   "execution_count": null,
   "outputs": [],
   "source": [
    "%%time\n",
    "\n",
    "adaboost_estimators: List[int] = [25, 50, 75]\n",
    "adaboost_learn_rate: List[float] = [0.8, 0.9, 1.0, 1.1, 1.2]\n",
    "adaboost_loss: List[str]= [\"linear\", \"square\", \"exponential\"]\n",
    "\n",
    "ada_rf_simple_searched: List[\n",
    "    slearner.SimpleHalvingGridSearchResults\n",
    "] = slearner.simple_halving_grid_searcher(\n",
    "    AdaBoostRegressor(\n",
    "        random_state = seed()\n",
    "    ),\n",
    "    {\n",
    "        #\"regressor__base_estimator\": [\n",
    "        #    Pipeline(\n",
    "        #        steps = [i for i in rf.best_estimator_.named_steps.items()]\n",
    "        #    ) for rf in random_forest_searched_dict.keys()\n",
    "        #],\n",
    "        #\"regressor__n_estimators\": adaboost_estimators,\n",
    "        \"estimator__learning_rate\": adaboost_learn_rate,\n",
    "        \"estimator__loss\": adaboost_loss,\n",
    "        \"estimator__base_estimator\": [\n",
    "            *[pl.clone_best_final_estimator for pl in rf_simple_searched],\n",
    "            RandomForestRegressor(random_state=seed()),\n",
    "            RandomForestRegressor(random_state=seed(), max_depth=10),\n",
    "            DecisionTreeRegressor(random_state=seed()),\n",
    "            DecisionTreeRegressor(random_state=seed(), max_depth=10)\n",
    "        ]\n",
    "    },\n",
    "    df_m=dfm,\n",
    "    df_selection=df_utils.DatasetEnum.FACTUAL,\n",
    "    learner_name=\"Adaboost Random Forest simple\",\n",
    "    kfold_splits=10,\n",
    "    scorer_to_use=slearner.r2_score_id(),\n",
    "    stratify_on=[\"t\"],\n",
    "    resource=\"estimator__n_estimators\",\n",
    "    resource_param_values=adaboost_estimators,\n",
    ")"
   ],
   "metadata": {
    "collapsed": false,
    "pycharm": {
     "name": "#%%\n",
     "is_executing": true
    }
   }
  },
  {
   "cell_type": "code",
   "execution_count": null,
   "outputs": [],
   "source": [
    "\n",
    "ada_rf_simple_best: slearner.SimpleHalvingGridSearchResults = max(\n",
    "    ada_rf_simple_searched\n",
    ")\n",
    "\n"
   ],
   "metadata": {
    "collapsed": false,
    "pycharm": {
     "name": "#%%\n",
     "is_executing": true
    }
   }
  },
  {
   "cell_type": "code",
   "execution_count": null,
   "outputs": [],
   "source": [
    "\n",
    "print(ada_rf_simple_best.info)\n",
    "\n",
    "\n",
    "\n",
    "ada_rf_simple_best.best_estimator_\n"
   ],
   "metadata": {
    "collapsed": false,
    "pycharm": {
     "name": "#%%\n",
     "is_executing": true
    }
   }
  },
  {
   "cell_type": "code",
   "execution_count": null,
   "outputs": [],
   "source": [
    "ada_rf_simple_best.save_me()"
   ],
   "metadata": {
    "collapsed": false,
    "pycharm": {
     "name": "#%%\n",
     "is_executing": true
    }
   }
  },
  {
   "cell_type": "code",
   "execution_count": null,
   "outputs": [],
   "source": [
    "ada_rf_simple_best.importance_plotter().show()"
   ],
   "metadata": {
    "collapsed": false,
    "pycharm": {
     "name": "#%%\n",
     "is_executing": true
    }
   }
  },
  {
   "cell_type": "code",
   "execution_count": null,
   "outputs": [],
   "source": [
    "%%time\n",
    "\n",
    "ada_ard_simple_searched: List[\n",
    "    slearner.SimpleHalvingGridSearchResults\n",
    "] = slearner.simple_halving_grid_searcher(\n",
    "    AdaBoostRegressor(\n",
    "        random_state=seed()\n",
    "    ),\n",
    "    {\n",
    "        #\"regressor__base_estimator\": [\n",
    "        #    Pipeline(\n",
    "        #        steps = [i for i in ard.best_estimator_.named_steps.items()]\n",
    "        #    ) for ard in ard_searched_dict.keys()\n",
    "        #],\n",
    "        #\"regressor__n_estimators\": adaboost_estimators,\n",
    "        \"estimator__learning_rate\": adaboost_learn_rate,\n",
    "        \"estimator__loss\": adaboost_loss,\n",
    "        \"estimator__base_estimator\": [\n",
    "            est for est in\n",
    "            misc_utils.chain_1(\n",
    "                [pl.clone_best_final_estimator for pl in ard_simple_searched],\n",
    "                ARDRegression()\n",
    "            )\n",
    "        ]\n",
    "    },\n",
    "    df_m=dfm,\n",
    "    df_selection=df_utils.DatasetEnum.FACTUAL,\n",
    "    learner_name=\"Adaboost ARD simple\",\n",
    "    kfold_splits=10,\n",
    "    scorer_to_use=slearner.r2_score_id(),\n",
    "    stratify_on=[\"t\"],\n",
    "    resource=\"estimator__n_estimators\",\n",
    "    resource_param_values=adaboost_estimators,\n",
    ")\n",
    "\n"
   ],
   "metadata": {
    "collapsed": false,
    "pycharm": {
     "name": "#%%\n",
     "is_executing": true
    }
   }
  },
  {
   "cell_type": "code",
   "execution_count": null,
   "outputs": [],
   "source": [
    "\n",
    "ada_ard_simple_best: slearner.SimpleHalvingGridSearchResults = max(\n",
    "    ada_ard_simple_searched\n",
    ")\n",
    "\n",
    "\n"
   ],
   "metadata": {
    "collapsed": false,
    "pycharm": {
     "name": "#%%\n",
     "is_executing": true
    }
   }
  },
  {
   "cell_type": "code",
   "execution_count": null,
   "outputs": [],
   "source": [
    "\n",
    "\n",
    "print(ada_ard_simple_best.info)\n",
    "\n",
    "\n",
    "ada_ard_simple_best.best_estimator_\n"
   ],
   "metadata": {
    "collapsed": false,
    "pycharm": {
     "name": "#%%\n",
     "is_executing": true
    }
   }
  },
  {
   "cell_type": "code",
   "execution_count": null,
   "outputs": [],
   "source": [
    "ada_ard_simple_best.save_me()"
   ],
   "metadata": {
    "collapsed": false,
    "pycharm": {
     "name": "#%%\n",
     "is_executing": true
    }
   }
  },
  {
   "cell_type": "code",
   "execution_count": null,
   "outputs": [],
   "source": [
    "ada_ard_simple_best.importance_plotter().show()"
   ],
   "metadata": {
    "collapsed": false,
    "pycharm": {
     "name": "#%%\n",
     "is_executing": true
    }
   }
  },
  {
   "cell_type": "code",
   "execution_count": null,
   "outputs": [],
   "source": [
    "%%time\n",
    "\n",
    "ada_sgd_simple_searched: List[\n",
    "    slearner.SimpleHalvingGridSearchResults\n",
    "] = slearner.simple_halving_grid_searcher(\n",
    "    AdaBoostRegressor(\n",
    "        random_state=seed()\n",
    "    ),\n",
    "    {\n",
    "        #\"regressor__base_estimator\": [\n",
    "        #    Pipeline(\n",
    "        #        steps = [i for i in ard.best_estimator_.named_steps.items()]\n",
    "        #    ) for ard in ard_searched_dict.keys()\n",
    "        #],\n",
    "        #\"regressor__n_estimators\": adaboost_estimators,\n",
    "        \"estimator__learning_rate\": adaboost_learn_rate,\n",
    "        \"estimator__loss\": adaboost_loss,\n",
    "        \"estimator__base_estimator\": [\n",
    "            pl.clone_best_final_estimator for pl in sgd_simple_searched\n",
    "        ]\n",
    "    },\n",
    "    df_m=dfm,\n",
    "    df_selection=df_utils.DatasetEnum.FACTUAL,\n",
    "    learner_name=\"Adaboost SGD simple\",\n",
    "    kfold_splits=10,\n",
    "    scorer_to_use=slearner.r2_score_id(),\n",
    "    stratify_on=[\"t\"],\n",
    "    resource=\"estimator__n_estimators\",\n",
    "    resource_param_values=adaboost_estimators,\n",
    ")\n"
   ],
   "metadata": {
    "collapsed": false,
    "pycharm": {
     "name": "#%%\n",
     "is_executing": true
    }
   }
  },
  {
   "cell_type": "code",
   "execution_count": null,
   "outputs": [],
   "source": [
    "ada_sgd_simple_best: slearner.SimpleHalvingGridSearchResults = max(\n",
    "    ada_sgd_simple_searched\n",
    ")"
   ],
   "metadata": {
    "collapsed": false,
    "pycharm": {
     "name": "#%%\n",
     "is_executing": true
    }
   }
  },
  {
   "cell_type": "code",
   "execution_count": null,
   "outputs": [],
   "source": [
    "\n",
    "print(ada_sgd_simple_best.info)\n",
    "\n",
    "ada_sgd_simple_best.best_estimator_\n"
   ],
   "metadata": {
    "collapsed": false,
    "pycharm": {
     "name": "#%%\n",
     "is_executing": true
    }
   }
  },
  {
   "cell_type": "code",
   "execution_count": null,
   "outputs": [],
   "source": [
    "ada_sgd_simple_best.save_me()"
   ],
   "metadata": {
    "collapsed": false,
    "pycharm": {
     "name": "#%%\n",
     "is_executing": true
    }
   }
  },
  {
   "cell_type": "code",
   "execution_count": null,
   "outputs": [],
   "source": [
    "ada_sgd_simple_best.importance_plotter().show()"
   ],
   "metadata": {
    "collapsed": false,
    "pycharm": {
     "name": "#%%\n",
     "is_executing": true
    }
   }
  },
  {
   "cell_type": "code",
   "execution_count": null,
   "outputs": [],
   "source": [
    "\n",
    "\n",
    "all_simple_best: List[slearner.SimpleHalvingGridSearchResults] = [\n",
    "    rf_simple_best,\n",
    "    ard_simple_best,\n",
    "    sgd_simple_best,\n",
    "    ada_rf_simple_best,\n",
    "    ada_ard_simple_best,\n",
    "    ada_sgd_simple_best\n",
    "]\n",
    "\n",
    "all_simple_best.sort(reverse=True)\n"
   ],
   "metadata": {
    "collapsed": false,
    "pycharm": {
     "name": "#%%\n",
     "is_executing": true
    }
   }
  },
  {
   "cell_type": "code",
   "execution_count": null,
   "outputs": [],
   "source": [
    "for bc in all_simple_best:\n",
    "    print(bc.summary_info)\n",
    "\n",
    "print(\"\")"
   ],
   "metadata": {
    "collapsed": false,
    "pycharm": {
     "name": "#%%\n",
     "is_executing": true
    }
   }
  },
  {
   "cell_type": "code",
   "execution_count": null,
   "outputs": [],
   "source": [
    "best_simple_est: slearner.PPipeline = max(all_simple_best).best_estimator_"
   ],
   "metadata": {
    "collapsed": false,
    "pycharm": {
     "name": "#%%\n",
     "is_executing": true
    }
   }
  },
  {
   "cell_type": "code",
   "execution_count": null,
   "outputs": [],
   "source": [],
   "metadata": {
    "collapsed": false,
    "pycharm": {
     "name": "#%%\n",
     "is_executing": true
    }
   }
  },
  {
   "cell_type": "markdown",
   "source": [
    "# Part 4 - Inverse Propensity Weights\n",
    "\n",
    "\n",
    "### attempting to find the likelihood of individuals being NOT being included in the treatment group"
   ],
   "metadata": {
    "collapsed": false,
    "pycharm": {
     "name": "#%% md\n"
    }
   }
  },
  {
   "cell_type": "code",
   "execution_count": null,
   "outputs": [],
   "source": [
    "from sklearn.ensemble import RandomForestClassifier, AdaBoostClassifier\n",
    "from sklearn.linear_model import SGDClassifier"
   ],
   "metadata": {
    "collapsed": false,
    "pycharm": {
     "name": "#%%\n",
     "is_executing": true
    }
   }
  },
  {
   "cell_type": "code",
   "execution_count": null,
   "outputs": [],
   "source": [
    "%%time\n",
    "\n",
    "rf_ipsw_searched: List[\n",
    "    slearner.SimpleHalvingGridSearchResults\n",
    "] = slearner.simple_halving_grid_searcher(\n",
    "    RandomForestClassifier(random_state=seed()),\n",
    "    {\n",
    "        #\"estimator__n_estimators\": [75,100,125],\n",
    "        \"estimator__min_samples_split\":  rf_min_samples,\n",
    "        \"estimator__min_impurity_decrease\":  rf_min_impurity_decrease,\n",
    "        \"estimator__max_features\":rf_max_features,\n",
    "        # \"estimator__oob_score\": [False, True],\n",
    "        \"estimator__ccp_alpha\": rf_ccp_alpha,\n",
    "        \"estimator__class_weight\": [\"balanced\", \"balanced subsample\"],\n",
    "    },\n",
    "    df_m=dfm,\n",
    "    df_selection=df_utils.DatasetEnum.X_T,\n",
    "    learner_name=\"Random Forest IPSW\",\n",
    "    kfold_splits=10,\n",
    "    scorer_to_use=slearner.roc_auc_id(),\n",
    "    stratify_on=[\"t\"],\n",
    "    resource=\"estimator__n_estimators\",\n",
    "    resource_param_values=rf_n_estimators,\n",
    ")"
   ],
   "metadata": {
    "collapsed": false,
    "pycharm": {
     "name": "#%%\n",
     "is_executing": true
    }
   }
  },
  {
   "cell_type": "code",
   "execution_count": null,
   "outputs": [],
   "source": [
    "\n",
    "rf_ipsw_best: slearner.SimpleHalvingGridSearchResults = max(\n",
    "    rf_ipsw_searched\n",
    ")\n",
    "\n"
   ],
   "metadata": {
    "collapsed": false,
    "pycharm": {
     "name": "#%%\n",
     "is_executing": true
    }
   }
  },
  {
   "cell_type": "code",
   "execution_count": null,
   "outputs": [],
   "source": [
    "print(rf_ipsw_best.info)\n",
    "\n",
    "rf_ipsw_best.best_estimator_"
   ],
   "metadata": {
    "collapsed": false,
    "pycharm": {
     "name": "#%%\n",
     "is_executing": true
    }
   }
  },
  {
   "cell_type": "code",
   "execution_count": null,
   "outputs": [],
   "source": [
    "rf_ipsw_best.save_me()"
   ],
   "metadata": {
    "collapsed": false,
    "pycharm": {
     "name": "#%%\n",
     "is_executing": true
    }
   }
  },
  {
   "cell_type": "code",
   "execution_count": null,
   "outputs": [],
   "source": [
    "rf_ipsw_best.importance_plotter().show()"
   ],
   "metadata": {
    "collapsed": false,
    "pycharm": {
     "name": "#%%\n",
     "is_executing": true
    }
   }
  },
  {
   "cell_type": "code",
   "execution_count": null,
   "outputs": [],
   "source": [],
   "metadata": {
    "collapsed": false,
    "pycharm": {
     "name": "#%%\n",
     "is_executing": true
    }
   }
  },
  {
   "cell_type": "code",
   "execution_count": null,
   "outputs": [],
   "source": [
    "%%time\n",
    "\n",
    "# note: ridge does not support predict_proba, unusable, replaced with SGDClassifier.\n",
    "\n",
    "sgd_ipsw_searched: List[\n",
    "    slearner.SimpleHalvingGridSearchResults\n",
    "] = slearner.simple_halving_grid_searcher(\n",
    "    SGDClassifier(\n",
    "        random_state=seed(),\n",
    "        n_jobs=-1,\n",
    "        early_stopping=True,\n",
    "        validation_fraction=0.1,\n",
    "        n_iter_no_change=5,\n",
    "        loss=\"log\",\n",
    "        penalty=\"elasticnet\"\n",
    "    ),\n",
    "    {\n",
    "        #\"estimator__n_estimators\": [75,100,125],\n",
    "        \"estimator__alpha\": sgd_alpha,\n",
    "        \"estimator__power_t\": sgd_power_t,\n",
    "        \"estimator__learning_rate\": sgd_learning_rate,\n",
    "        \"estimator__l1_ratio\": sgd_l1_ratio,\n",
    "        \"estimator__class_weight\": [\"balanced\", None]\n",
    "    },\n",
    "    df_m=dfm,\n",
    "    df_selection=df_utils.DatasetEnum.X_T,\n",
    "    learner_name=\"sgd IPSW\",\n",
    "    kfold_splits=10,\n",
    "    scorer_to_use=slearner.roc_auc_id(),\n",
    "    stratify_on=[\"t\"],\n",
    "    resource=\"estimator__max_iter\",\n",
    "    resource_param_values=sgd_max_iter\n",
    ")\n"
   ],
   "metadata": {
    "collapsed": false,
    "pycharm": {
     "name": "#%%\n",
     "is_executing": true
    }
   }
  },
  {
   "cell_type": "code",
   "execution_count": null,
   "outputs": [],
   "source": [
    "sgd_ipsw_best: slearner.SimpleHalvingGridSearchResults = max(\n",
    "    sgd_ipsw_searched\n",
    ")"
   ],
   "metadata": {
    "collapsed": false,
    "pycharm": {
     "name": "#%%\n",
     "is_executing": true
    }
   }
  },
  {
   "cell_type": "code",
   "execution_count": null,
   "outputs": [],
   "source": [
    "\n",
    "print(sgd_ipsw_best.info)\n",
    "\n",
    "sgd_ipsw_best.best_estimator_"
   ],
   "metadata": {
    "collapsed": false,
    "pycharm": {
     "name": "#%%\n",
     "is_executing": true
    }
   }
  },
  {
   "cell_type": "code",
   "execution_count": null,
   "outputs": [],
   "source": [
    "\n",
    "sgd_ipsw_best.save_me()"
   ],
   "metadata": {
    "collapsed": false,
    "pycharm": {
     "name": "#%%\n",
     "is_executing": true
    }
   }
  },
  {
   "cell_type": "code",
   "execution_count": null,
   "outputs": [],
   "source": [
    "\n",
    "sgd_ipsw_best.importance_plotter().show()"
   ],
   "metadata": {
    "collapsed": false,
    "pycharm": {
     "name": "#%%\n",
     "is_executing": true
    }
   }
  },
  {
   "cell_type": "code",
   "execution_count": null,
   "outputs": [],
   "source": [],
   "metadata": {
    "collapsed": false,
    "pycharm": {
     "name": "#%%\n",
     "is_executing": true
    }
   }
  },
  {
   "cell_type": "code",
   "execution_count": null,
   "outputs": [],
   "source": [
    "%%time\n",
    "\n",
    "ada_rf_ipsw_searched: List[\n",
    "    slearner.SimpleHalvingGridSearchResults\n",
    "] = slearner.simple_halving_grid_searcher(\n",
    "    AdaBoostClassifier(\n",
    "        random_state = seed()\n",
    "    ),\n",
    "    {\n",
    "        #\"regressor__base_estimator\": [\n",
    "        #    Pipeline(\n",
    "        #        steps = [i for i in rf.best_estimator_.named_steps.items()]\n",
    "        #    ) for rf in random_forest_searched_dict.keys()\n",
    "        #],\n",
    "        #\"regressor__n_estimators\": adaboost_estimators,\n",
    "        \"estimator__learning_rate\": adaboost_learn_rate,\n",
    "        \"estimator__base_estimator\": [\n",
    "            *[pl.clone_best_final_estimator for pl in rf_ipsw_searched],\n",
    "            RandomForestClassifier(random_state=seed()),\n",
    "            RandomForestClassifier(random_state=seed(), max_depth=10),\n",
    "            DecisionTreeClassifier(random_state=seed()),\n",
    "            DecisionTreeClassifier(random_state=seed(), max_depth=10)\n",
    "        ]\n",
    "    },\n",
    "    df_m=dfm,\n",
    "    df_selection=df_utils.DatasetEnum.X_T,\n",
    "    learner_name=\"Adaboost Random Forest IPSW\",\n",
    "    kfold_splits=10,\n",
    "    scorer_to_use=slearner.roc_auc_id(),\n",
    "    stratify_on=[\"t\"],\n",
    "    resource=\"estimator__n_estimators\",\n",
    "    resource_param_values=adaboost_estimators,\n",
    ")"
   ],
   "metadata": {
    "collapsed": false,
    "pycharm": {
     "name": "#%%\n",
     "is_executing": true
    }
   }
  },
  {
   "cell_type": "code",
   "execution_count": null,
   "outputs": [],
   "source": [
    "ada_rf_ipsw_best: slearner.SimpleHalvingGridSearchResults = max(\n",
    "    ada_rf_ipsw_searched\n",
    ")"
   ],
   "metadata": {
    "collapsed": false,
    "pycharm": {
     "name": "#%%\n",
     "is_executing": true
    }
   }
  },
  {
   "cell_type": "code",
   "execution_count": null,
   "outputs": [],
   "source": [
    "\n",
    "print(ada_rf_ipsw_best.info)\n",
    "\n",
    "ada_rf_ipsw_best.best_estimator_"
   ],
   "metadata": {
    "collapsed": false,
    "pycharm": {
     "name": "#%%\n",
     "is_executing": true
    }
   }
  },
  {
   "cell_type": "code",
   "execution_count": null,
   "outputs": [],
   "source": [
    "\n",
    "ada_rf_ipsw_best.save_me()"
   ],
   "metadata": {
    "collapsed": false,
    "pycharm": {
     "name": "#%%\n",
     "is_executing": true
    }
   }
  },
  {
   "cell_type": "code",
   "execution_count": null,
   "outputs": [],
   "source": [
    "\n",
    "ada_rf_ipsw_best.importance_plotter().show()"
   ],
   "metadata": {
    "collapsed": false,
    "pycharm": {
     "name": "#%%\n",
     "is_executing": true
    }
   }
  },
  {
   "cell_type": "code",
   "execution_count": null,
   "outputs": [],
   "source": [],
   "metadata": {
    "collapsed": false,
    "pycharm": {
     "name": "#%%\n",
     "is_executing": true
    }
   }
  },
  {
   "cell_type": "code",
   "execution_count": null,
   "outputs": [],
   "source": [
    "%%time\n",
    "\n",
    "ada_sgd_ipsw_searched: List[\n",
    "    slearner.SimpleHalvingGridSearchResults\n",
    "] = slearner.simple_halving_grid_searcher(\n",
    "    AdaBoostClassifier(\n",
    "        random_state=seed()\n",
    "    ),\n",
    "    {\n",
    "        #\"regressor__base_estimator\": [\n",
    "        #    Pipeline(\n",
    "        #        steps = [i for i in rf.best_estimator_.named_steps.items()]\n",
    "        #    ) for rf in random_forest_searched_dict.keys()\n",
    "        #],\n",
    "        #\"regressor__n_estimators\": adaboost_estimators,\n",
    "        \"estimator__learning_rate\": adaboost_learn_rate,\n",
    "        \"estimator__base_estimator\": [\n",
    "            pl.clone_best_final_estimator for pl in sgd_ipsw_searched\n",
    "        ]\n",
    "    },\n",
    "    df_m=dfm,\n",
    "    df_selection=df_utils.DatasetEnum.X_T,\n",
    "    learner_name=\"Adaboost SGD IPSW\",\n",
    "    kfold_splits=10,\n",
    "    scorer_to_use=slearner.roc_auc_id(),\n",
    "    stratify_on=[\"t\"],\n",
    "    resource=\"estimator__n_estimators\",\n",
    "    resource_param_values=adaboost_estimators,\n",
    ")"
   ],
   "metadata": {
    "collapsed": false,
    "pycharm": {
     "name": "#%%\n",
     "is_executing": true
    }
   }
  },
  {
   "cell_type": "code",
   "execution_count": null,
   "outputs": [],
   "source": [
    "\n",
    "\n",
    "ada_sgd_ipsw_best: slearner.SimpleHalvingGridSearchResults = max(\n",
    "    ada_sgd_ipsw_searched\n",
    ")"
   ],
   "metadata": {
    "collapsed": false,
    "pycharm": {
     "name": "#%%\n",
     "is_executing": true
    }
   }
  },
  {
   "cell_type": "code",
   "execution_count": null,
   "outputs": [],
   "source": [
    "\n",
    "print(ada_sgd_ipsw_best.info)\n",
    "\n",
    "ada_sgd_ipsw_best.best_estimator_"
   ],
   "metadata": {
    "collapsed": false,
    "pycharm": {
     "name": "#%%\n",
     "is_executing": true
    }
   }
  },
  {
   "cell_type": "code",
   "execution_count": null,
   "outputs": [],
   "source": [
    "\n",
    "ada_sgd_ipsw_best.save_me()"
   ],
   "metadata": {
    "collapsed": false,
    "pycharm": {
     "name": "#%%\n",
     "is_executing": true
    }
   }
  },
  {
   "cell_type": "code",
   "execution_count": null,
   "outputs": [],
   "source": [
    "\n",
    "ada_sgd_ipsw_best.importance_plotter().show()"
   ],
   "metadata": {
    "collapsed": false,
    "pycharm": {
     "name": "#%%\n",
     "is_executing": true
    }
   }
  },
  {
   "cell_type": "code",
   "execution_count": null,
   "outputs": [],
   "source": [],
   "metadata": {
    "collapsed": false,
    "pycharm": {
     "name": "#%%\n",
     "is_executing": true
    }
   }
  },
  {
   "cell_type": "code",
   "execution_count": null,
   "outputs": [],
   "source": [
    "all_ipsw_clf_best: List[slearner.SimpleHalvingGridSearchResults] = [\n",
    "    rf_ipsw_best,\n",
    "    sgd_ipsw_best,\n",
    "    ada_rf_ipsw_best,\n",
    "    ada_sgd_ipsw_best\n",
    "]\n",
    "\n",
    "all_ipsw_clf_best.sort(reverse=True)\n",
    "\n",
    "for bc in all_ipsw_clf_best:\n",
    "    print(bc.summary_info)\n",
    "\n",
    "print(\"\")"
   ],
   "metadata": {
    "collapsed": false,
    "pycharm": {
     "name": "#%%\n",
     "is_executing": true
    }
   }
  },
  {
   "cell_type": "code",
   "execution_count": null,
   "outputs": [],
   "source": [],
   "metadata": {
    "collapsed": false,
    "pycharm": {
     "name": "#%%\n",
     "is_executing": true
    }
   }
  },
  {
   "cell_type": "code",
   "execution_count": null,
   "outputs": [],
   "source": [
    "import assignment2.a2_utils.simple_learner_utils as slearner\n",
    "\n",
    "best_ipsw_predictor: slearner.PPipeline = max(all_ipsw_clf_best).best_estimator_\n",
    "\n",
    "ipsw_calc: slearner.IpswWrapper = slearner.IpswWrapper.make(\n",
    "    best_ipsw_predictor,\n",
    "    dataset_name=dataset\n",
    ")\n",
    "\n",
    "ipsw_calc.save_me()\n"
   ],
   "metadata": {
    "collapsed": false,
    "pycharm": {
     "name": "#%%\n",
     "is_executing": true
    }
   }
  },
  {
   "cell_type": "markdown",
   "source": [
    "### And now using these weights to redo the earlier simple estimators"
   ],
   "metadata": {
    "collapsed": false,
    "pycharm": {
     "name": "#%% md\n"
    }
   }
  },
  {
   "cell_type": "code",
   "execution_count": null,
   "outputs": [],
   "source": [
    "%%time\n",
    "\n",
    "\n",
    "rf_simple_ipsw_searched: List[\n",
    "    slearner.SimpleHalvingGridSearchResults\n",
    "] = slearner.simple_halving_grid_searcher(\n",
    "    RandomForestRegressor(criterion=\"squared_error\", random_state=seed()),\n",
    "    {\n",
    "        #\"estimator__n_estimators\": [75,100,125],\n",
    "        \"estimator__min_samples_split\":  rf_min_samples,\n",
    "        \"estimator__min_impurity_decrease\":  rf_min_impurity_decrease,\n",
    "        \"estimator__max_features\": rf_max_features,\n",
    "        # \"estimator__oob_score\": [False, True],\n",
    "        \"estimator__ccp_alpha\":  rf_ccp_alpha\n",
    "    },\n",
    "    df_m=dfm,\n",
    "    df_selection=df_utils.DatasetEnum.FACTUAL,\n",
    "    learner_name=\"Random Forest simple with IPSW\",\n",
    "    kfold_splits=10,\n",
    "    scorer_to_use=slearner.r2_score_id(),\n",
    "    stratify_on=[\"t\"],\n",
    "    resource=\"estimator__n_estimators\",\n",
    "    sample_weights=ipsw_calc,\n",
    "    resource_param_values=rf_n_estimators,\n",
    "    #classes_ndarray=ihdp_learn_df_x[\"t\"].to_numpy()\n",
    ")"
   ],
   "metadata": {
    "collapsed": false,
    "pycharm": {
     "name": "#%%\n",
     "is_executing": true
    }
   }
  },
  {
   "cell_type": "code",
   "execution_count": null,
   "outputs": [],
   "source": [
    "\n",
    "rf_simple_ipsw_best: slearner.SimpleHalvingGridSearchResults = max(\n",
    "    rf_simple_ipsw_searched\n",
    ")"
   ],
   "metadata": {
    "collapsed": false,
    "pycharm": {
     "name": "#%%\n",
     "is_executing": true
    }
   }
  },
  {
   "cell_type": "code",
   "execution_count": null,
   "outputs": [],
   "source": [
    "\n",
    "print(rf_simple_ipsw_best.info)\n",
    "\n",
    "rf_simple_ipsw_best.best_estimator_"
   ],
   "metadata": {
    "collapsed": false,
    "pycharm": {
     "name": "#%%\n",
     "is_executing": true
    }
   }
  },
  {
   "cell_type": "code",
   "execution_count": null,
   "outputs": [],
   "source": [
    "\n",
    "rf_simple_ipsw_best.save_me()"
   ],
   "metadata": {
    "collapsed": false,
    "pycharm": {
     "name": "#%%\n",
     "is_executing": true
    }
   }
  },
  {
   "cell_type": "code",
   "execution_count": null,
   "outputs": [],
   "source": [
    "rf_simple_ipsw_best.importance_plotter().show()"
   ],
   "metadata": {
    "collapsed": false,
    "pycharm": {
     "name": "#%%\n",
     "is_executing": true
    }
   }
  },
  {
   "cell_type": "code",
   "execution_count": null,
   "outputs": [],
   "source": [
    "%%time\n",
    "\n",
    "\n",
    "ard_simple_ipsw_searched: List[\n",
    "    slearner.SimpleHalvingGridSearchResults\n",
    "] = slearner.simple_halving_grid_searcher(\n",
    "    ARDRegression(),\n",
    "    {\n",
    "        #\"regressor__n_iter\": ard_iter,\n",
    "        \"estimator__tol\": ard_tol,\n",
    "        \"estimator__alpha_1\": ard_alpha_lambda,\n",
    "        \"estimator__alpha_2\": ard_alpha_lambda,\n",
    "        \"estimator__lambda_1\": ard_alpha_lambda,\n",
    "        \"estimator__lambda_2\": ard_alpha_lambda,\n",
    "        \"estimator__threshold_lambda\": ard_thresh_lambda\n",
    "    },\n",
    "    df_m=dfm,\n",
    "    df_selection=df_utils.DatasetEnum.FACTUAL,\n",
    "    learner_name=\"ARD simple with IPSW\",\n",
    "    kfold_splits=10,\n",
    "    scorer_to_use=slearner.r2_score_id(),\n",
    "    stratify_on=[\"t\"],\n",
    "    resource=\"estimator__n_iter\",\n",
    "    sample_weights=ipsw_calc,\n",
    "    resource_param_values=ard_iter\n",
    ")\n"
   ],
   "metadata": {
    "collapsed": false,
    "pycharm": {
     "name": "#%%\n",
     "is_executing": true
    }
   }
  },
  {
   "cell_type": "code",
   "execution_count": null,
   "outputs": [],
   "source": [
    "ard_simple_ipsw_best: slearner.SimpleHalvingGridSearchResults = max(\n",
    "    ard_simple_ipsw_searched\n",
    ")\n"
   ],
   "metadata": {
    "collapsed": false,
    "pycharm": {
     "name": "#%%\n",
     "is_executing": true
    }
   }
  },
  {
   "cell_type": "code",
   "execution_count": null,
   "outputs": [],
   "source": [
    "print(ard_simple_ipsw_best.info)\n",
    "\n",
    "ard_simple_ipsw_best.best_estimator_\n"
   ],
   "metadata": {
    "collapsed": false,
    "pycharm": {
     "name": "#%%\n",
     "is_executing": true
    }
   }
  },
  {
   "cell_type": "code",
   "execution_count": null,
   "outputs": [],
   "source": [
    "ard_simple_ipsw_best.save_me()"
   ],
   "metadata": {
    "collapsed": false,
    "pycharm": {
     "name": "#%%\n",
     "is_executing": true
    }
   }
  },
  {
   "cell_type": "code",
   "execution_count": null,
   "outputs": [],
   "source": [
    "ard_simple_best.importance_plotter().show()"
   ],
   "metadata": {
    "collapsed": false,
    "pycharm": {
     "name": "#%%\n",
     "is_executing": true
    }
   }
  },
  {
   "cell_type": "code",
   "execution_count": null,
   "outputs": [],
   "source": [],
   "metadata": {
    "collapsed": false,
    "pycharm": {
     "name": "#%%\n",
     "is_executing": true
    }
   }
  },
  {
   "cell_type": "code",
   "execution_count": null,
   "outputs": [],
   "source": [],
   "metadata": {
    "collapsed": false,
    "pycharm": {
     "name": "#%%\n",
     "is_executing": true
    }
   }
  },
  {
   "cell_type": "code",
   "execution_count": null,
   "outputs": [],
   "source": [
    "%%time\n",
    "\n",
    "sgd_simple_ipsw_searched: List[\n",
    "    slearner.SimpleHalvingGridSearchResults\n",
    "] = slearner.simple_halving_grid_searcher(\n",
    "    SGDRegressor(\n",
    "        random_state=seed(),\n",
    "        early_stopping=True,\n",
    "        validation_fraction=0.1,\n",
    "        n_iter_no_change=5,\n",
    "        penalty=\"elasticnet\"\n",
    "    ),\n",
    "    {\n",
    "        #\"regressor__n_iter\": ard_iter,\n",
    "        \"estimator__alpha\": sgd_alpha,\n",
    "        \"estimator__power_t\": sgd_power_t,\n",
    "        \"estimator__learning_rate\": sgd_learning_rate,\n",
    "        \"estimator__l1_ratio\": sgd_l1_ratio\n",
    "    },\n",
    "    df_m=dfm,\n",
    "    df_selection=df_utils.DatasetEnum.FACTUAL,\n",
    "    learner_name=\"sgd simple ipsw\",\n",
    "    kfold_splits=10,\n",
    "    scorer_to_use=slearner.r2_score_id(),\n",
    "    stratify_on=[\"t\"],\n",
    "    resource=\"estimator__max_iter\",\n",
    "    resource_param_values=sgd_max_iter,\n",
    "    sample_weights=ipsw_calc\n",
    ")"
   ],
   "metadata": {
    "collapsed": false,
    "pycharm": {
     "name": "#%%\n",
     "is_executing": true
    }
   }
  },
  {
   "cell_type": "code",
   "execution_count": null,
   "outputs": [],
   "source": [
    "\n",
    "sgd_simple_ipsw_best: slearner.SimpleHalvingGridSearchResults = max(\n",
    "    sgd_simple_ipsw_searched\n",
    ")"
   ],
   "metadata": {
    "collapsed": false,
    "pycharm": {
     "name": "#%%\n",
     "is_executing": true
    }
   }
  },
  {
   "cell_type": "code",
   "execution_count": null,
   "outputs": [],
   "source": [
    "\n",
    "print(sgd_simple_ipsw_best.info)\n",
    "\n",
    "sgd_simple_ipsw_best.best_estimator_"
   ],
   "metadata": {
    "collapsed": false,
    "pycharm": {
     "name": "#%%\n",
     "is_executing": true
    }
   }
  },
  {
   "cell_type": "code",
   "execution_count": null,
   "outputs": [],
   "source": [
    "\n",
    "sgd_simple_ipsw_best.save_me()"
   ],
   "metadata": {
    "collapsed": false,
    "pycharm": {
     "name": "#%%\n",
     "is_executing": true
    }
   }
  },
  {
   "cell_type": "code",
   "execution_count": null,
   "outputs": [],
   "source": [
    "sgd_simple_ipsw_best.importance_plotter().show()"
   ],
   "metadata": {
    "collapsed": false,
    "pycharm": {
     "name": "#%%\n",
     "is_executing": true
    }
   }
  },
  {
   "cell_type": "code",
   "execution_count": null,
   "outputs": [],
   "source": [],
   "metadata": {
    "collapsed": false,
    "pycharm": {
     "name": "#%%\n",
     "is_executing": true
    }
   }
  },
  {
   "cell_type": "code",
   "execution_count": null,
   "outputs": [],
   "source": [
    "%%time\n",
    "\n",
    "\n",
    "ada_rf_simple_ipsw_searched: List[\n",
    "    slearner.SimpleHalvingGridSearchResults\n",
    "] = slearner.simple_halving_grid_searcher(\n",
    "    AdaBoostRegressor(\n",
    "        random_state=seed()\n",
    "    ),\n",
    "    {\n",
    "        #\"regressor__base_estimator\": [\n",
    "        #    Pipeline(\n",
    "        #        steps = [i for i in rf.best_estimator_.named_steps.items()]\n",
    "        #    ) for rf in random_forest_searched_dict.keys()\n",
    "        #],\n",
    "        #\"regressor__n_estimators\": adaboost_estimators,\n",
    "        \"estimator__learning_rate\": adaboost_learn_rate,\n",
    "        \"estimator__loss\": adaboost_loss,\n",
    "        \"estimator__base_estimator\": [\n",
    "            *[pl.clone_best_final_estimator for pl in rf_simple_ipsw_searched],\n",
    "            RandomForestRegressor(random_state=seed()),\n",
    "            RandomForestRegressor(random_state=seed(), max_depth=10),\n",
    "            DecisionTreeRegressor(random_state=seed()),\n",
    "            DecisionTreeRegressor(random_state=seed(), max_depth=10)\n",
    "        ]\n",
    "    },\n",
    "    df_m=dfm,\n",
    "    df_selection=df_utils.DatasetEnum.FACTUAL,\n",
    "    learner_name=\"Adaboost Random Forest simple with IPSW\",\n",
    "    kfold_splits=10,\n",
    "    scorer_to_use=slearner.r2_score_id(),\n",
    "    stratify_on=[\"t\"],\n",
    "    sample_weights=ipsw_calc,\n",
    "    resource=\"estimator__n_estimators\",\n",
    "    resource_param_values=adaboost_estimators,\n",
    ")"
   ],
   "metadata": {
    "collapsed": false,
    "pycharm": {
     "name": "#%%\n",
     "is_executing": true
    }
   }
  },
  {
   "cell_type": "code",
   "execution_count": null,
   "outputs": [],
   "source": [
    "\n",
    "ada_rf_simple_ipsw_best: slearner.SimpleHalvingGridSearchResults = max(\n",
    "    ada_rf_simple_ipsw_searched\n",
    ")"
   ],
   "metadata": {
    "collapsed": false,
    "pycharm": {
     "name": "#%%\n",
     "is_executing": true
    }
   }
  },
  {
   "cell_type": "code",
   "execution_count": null,
   "outputs": [],
   "source": [
    "\n",
    "print(ada_rf_simple_ipsw_best.info)\n",
    "\n",
    "ada_rf_simple_ipsw_best.best_estimator_\n"
   ],
   "metadata": {
    "collapsed": false,
    "pycharm": {
     "name": "#%%\n",
     "is_executing": true
    }
   }
  },
  {
   "cell_type": "code",
   "execution_count": null,
   "outputs": [],
   "source": [
    "ada_rf_simple_ipsw_best.save_me()"
   ],
   "metadata": {
    "collapsed": false,
    "pycharm": {
     "name": "#%%\n",
     "is_executing": true
    }
   }
  },
  {
   "cell_type": "code",
   "execution_count": null,
   "outputs": [],
   "source": [
    "ada_rf_simple_ipsw_best.importance_plotter().show()"
   ],
   "metadata": {
    "collapsed": false,
    "pycharm": {
     "name": "#%%\n",
     "is_executing": true
    }
   }
  },
  {
   "cell_type": "code",
   "execution_count": null,
   "outputs": [],
   "source": [
    "%%time\n",
    "ada_ard_simple_ipsw_searched: List[\n",
    "    slearner.SimpleHalvingGridSearchResults\n",
    "] = slearner.simple_halving_grid_searcher(\n",
    "    AdaBoostRegressor(\n",
    "        random_state=seed()\n",
    "    ),\n",
    "    {\n",
    "        #\"regressor__base_estimator\": [\n",
    "        #    Pipeline(\n",
    "        #        steps = [i for i in ard.best_estimator_.named_steps.items()]\n",
    "        #    ) for ard in ard_searched_dict.keys()\n",
    "        #],\n",
    "        #\"regressor__n_estimators\": adaboost_estimators,\n",
    "        \"estimator__learning_rate\": adaboost_learn_rate,\n",
    "        \"estimator__loss\": adaboost_loss,\n",
    "        \"estimator__base_estimator\": [\n",
    "            pl.clone_best_final_estimator for pl in ard_simple_ipsw_searched\n",
    "        ]\n",
    "    },\n",
    "    df_m=dfm,\n",
    "    df_selection=df_utils.DatasetEnum.FACTUAL,\n",
    "    learner_name=\"Adaboost ARD simple IPSW\",\n",
    "    kfold_splits=10,\n",
    "    scorer_to_use=slearner.r2_score_id(),\n",
    "    stratify_on=[\"t\"],\n",
    "    resource=\"estimator__n_estimators\",\n",
    "    sample_weights=ipsw_calc,\n",
    "    resource_param_values=adaboost_estimators,\n",
    ")\n"
   ],
   "metadata": {
    "collapsed": false,
    "pycharm": {
     "name": "#%%\n",
     "is_executing": true
    }
   }
  },
  {
   "cell_type": "code",
   "execution_count": null,
   "outputs": [],
   "source": [
    "ada_ard_simple_ipsw_best: slearner.SimpleHalvingGridSearchResults = max(\n",
    "    ada_ard_simple_ipsw_searched\n",
    ")\n"
   ],
   "metadata": {
    "collapsed": false,
    "pycharm": {
     "name": "#%%\n",
     "is_executing": true
    }
   }
  },
  {
   "cell_type": "code",
   "execution_count": null,
   "outputs": [],
   "source": [
    "print(ada_ard_simple_ipsw_best.info)\n",
    "\n",
    "ada_ard_simple_ipsw_best.best_estimator_\n"
   ],
   "metadata": {
    "collapsed": false,
    "pycharm": {
     "name": "#%%\n",
     "is_executing": true
    }
   }
  },
  {
   "cell_type": "code",
   "execution_count": null,
   "outputs": [],
   "source": [
    "ada_ard_simple_ipsw_best.save_me()"
   ],
   "metadata": {
    "collapsed": false,
    "pycharm": {
     "name": "#%%\n",
     "is_executing": true
    }
   }
  },
  {
   "cell_type": "code",
   "execution_count": null,
   "outputs": [],
   "source": [
    "ada_ard_simple_ipsw_best.importance_plotter().show()\n"
   ],
   "metadata": {
    "collapsed": false,
    "pycharm": {
     "name": "#%%\n",
     "is_executing": true
    }
   }
  },
  {
   "cell_type": "code",
   "execution_count": null,
   "outputs": [],
   "source": [
    "%%time\n",
    "\n",
    "\n",
    "ada_sgd_simple_ipsw_searched: List[\n",
    "    slearner.SimpleHalvingGridSearchResults\n",
    "] = slearner.simple_halving_grid_searcher(\n",
    "    AdaBoostRegressor(\n",
    "        random_state=seed()\n",
    "    ),\n",
    "    {\n",
    "        #\"regressor__base_estimator\": [\n",
    "        #    Pipeline(\n",
    "        #        steps = [i for i in ard.best_estimator_.named_steps.items()]\n",
    "        #    ) for ard in ard_searched_dict.keys()\n",
    "        #],\n",
    "        #\"regressor__n_estimators\": adaboost_estimators,\n",
    "        \"estimator__learning_rate\": adaboost_learn_rate,\n",
    "        \"estimator__loss\": adaboost_loss,\n",
    "        \"estimator__base_estimator\": [\n",
    "            pl.clone_best_final_estimator for pl in sgd_simple_ipsw_searched\n",
    "        ]\n",
    "    },\n",
    "    df_m=dfm,\n",
    "    df_selection=df_utils.DatasetEnum.FACTUAL,\n",
    "    learner_name=\"Adaboost SGD simple ipsw\",\n",
    "    kfold_splits=10,\n",
    "    scorer_to_use=slearner.r2_score_id(),\n",
    "    stratify_on=[\"t\"],\n",
    "    resource=\"estimator__n_estimators\",\n",
    "    resource_param_values=adaboost_estimators,\n",
    ")"
   ],
   "metadata": {
    "collapsed": false,
    "pycharm": {
     "name": "#%%\n",
     "is_executing": true
    }
   }
  },
  {
   "cell_type": "code",
   "execution_count": null,
   "outputs": [],
   "source": [
    "\n",
    "ada_sgd_simple_ipsw_best: slearner.SimpleHalvingGridSearchResults = max(\n",
    "    ada_sgd_simple_ipsw_searched\n",
    ")"
   ],
   "metadata": {
    "collapsed": false,
    "pycharm": {
     "name": "#%%\n",
     "is_executing": true
    }
   }
  },
  {
   "cell_type": "code",
   "execution_count": null,
   "outputs": [],
   "source": [
    "\n",
    "print(ada_sgd_simple_ipsw_best.info)\n",
    "\n",
    "ada_sgd_simple_ipsw_best.best_estimator_"
   ],
   "metadata": {
    "collapsed": false,
    "pycharm": {
     "name": "#%%\n",
     "is_executing": true
    }
   }
  },
  {
   "cell_type": "code",
   "execution_count": null,
   "outputs": [],
   "source": [
    "\n",
    "ada_sgd_simple_ipsw_best.save_me()"
   ],
   "metadata": {
    "collapsed": false,
    "pycharm": {
     "name": "#%%\n",
     "is_executing": true
    }
   }
  },
  {
   "cell_type": "code",
   "execution_count": null,
   "outputs": [],
   "source": [
    "ada_sgd_simple_ipsw_best.importance_plotter().show()"
   ],
   "metadata": {
    "collapsed": false,
    "pycharm": {
     "name": "#%%\n",
     "is_executing": true
    }
   }
  },
  {
   "cell_type": "code",
   "execution_count": null,
   "outputs": [],
   "source": [],
   "metadata": {
    "collapsed": false,
    "pycharm": {
     "name": "#%%\n",
     "is_executing": true
    }
   }
  },
  {
   "cell_type": "code",
   "execution_count": null,
   "outputs": [],
   "source": [
    "all_simple_ipsw_best: List[slearner.SimpleHalvingGridSearchResults] = [\n",
    "    rf_simple_ipsw_best,\n",
    "    ard_simple_ipsw_best,\n",
    "    sgd_simple_ipsw_best,\n",
    "    ada_rf_simple_ipsw_best,\n",
    "    ada_ard_simple_ipsw_best,\n",
    "    ada_sgd_simple_ipsw_best\n",
    "]\n",
    "\n",
    "all_simple_ipsw_best.sort(reverse=True)"
   ],
   "metadata": {
    "collapsed": false,
    "pycharm": {
     "name": "#%%\n",
     "is_executing": true
    }
   }
  },
  {
   "cell_type": "code",
   "execution_count": null,
   "outputs": [],
   "source": [
    "\n",
    "for bc in all_simple_ipsw_best:\n",
    "    print(bc.summary_info)\n",
    "\n",
    "print(\"\")"
   ],
   "metadata": {
    "collapsed": false,
    "pycharm": {
     "name": "#%%\n",
     "is_executing": true
    }
   }
  },
  {
   "cell_type": "code",
   "execution_count": null,
   "outputs": [],
   "source": [
    "import dill\n",
    "dill.dump_session(f\"{os.getcwd()}\\\\{dataset}_env.pickle\")"
   ],
   "metadata": {
    "collapsed": false,
    "pycharm": {
     "name": "#%%\n",
     "is_executing": true
    }
   }
  },
  {
   "cell_type": "markdown",
   "source": [
    "# 5: The CATE stuff"
   ],
   "metadata": {
    "collapsed": false,
    "pycharm": {
     "name": "#%% md\n"
    }
   }
  },
  {
   "cell_type": "code",
   "execution_count": null,
   "outputs": [],
   "source": [
    "from econml.dml import CausalForestDML\n",
    "\n",
    "\n",
    "import shap"
   ],
   "metadata": {
    "collapsed": false,
    "pycharm": {
     "name": "#%%\n",
     "is_executing": true
    }
   }
  },
  {
   "cell_type": "code",
   "execution_count": null,
   "outputs": [],
   "source": [
    "# obtaining train/test data for the CATE stuff.\n",
    "\n",
    "X, Y = dfm.x_y(train=True, x_columns=df_utils.DatasetEnum.X_Y)\n",
    "\n",
    "_, T = dfm.x_y(train=True, x_columns=df_utils.DatasetEnum.X_T)\n",
    "\n",
    "x_test, y_test = dfm.x_y(train=False, x_columns=df_utils.DatasetEnum.X_Y)\n",
    "\n",
    "_, t_test = dfm.x_y(train=False, x_columns=df_utils.DatasetEnum.X_T)\n"
   ],
   "metadata": {
    "collapsed": false,
    "pycharm": {
     "name": "#%%\n",
     "is_executing": true
    }
   }
  },
  {
   "cell_type": "code",
   "execution_count": null,
   "outputs": [],
   "source": [
    "%%time\n",
    "\n",
    "causal_forest: CausalForestDML = CausalForestDML(\n",
    "    criterion='het',\n",
    "    n_estimators=10000,\n",
    "    min_samples_leaf=10,\n",
    "    max_depth=None,\n",
    "    max_samples=0.5,\n",
    "    discrete_treatment=True,\n",
    "    honest=True,\n",
    "    inference=True,\n",
    "    cv=10,\n",
    "    random_state=seed(),\n",
    "    model_t=sklearn.base.clone(best_ipsw_predictor),\n",
    "    model_y=sklearn.base.clone(best_simple_est),\n",
    "    verbose=1\n",
    ")\n",
    "\n",
    "# fit train data to causal forest model\n",
    "causal_forest.fit(Y, T, X=X, W=None)\n",
    "# estimate the CATE with the test set\n",
    "causal_forest.const_marginal_ate(x_test)"
   ],
   "metadata": {
    "collapsed": false,
    "pycharm": {
     "name": "#%%\n",
     "is_executing": true
    }
   }
  },
  {
   "cell_type": "code",
   "execution_count": null,
   "outputs": [],
   "source": [
    "slearner.standalone_feature_importance_plotter(\n",
    "    predictor=causal_forest,\n",
    "    x_data=x_test,\n",
    "    y_data=y_test,\n",
    "    predictor_name=\"Causal Forest\",\n",
    "    dataset_name=dataset\n",
    ")"
   ],
   "metadata": {
    "collapsed": false,
    "pycharm": {
     "name": "#%%\n",
     "is_executing": true
    }
   }
  },
  {
   "cell_type": "code",
   "execution_count": null,
   "outputs": [],
   "source": [],
   "metadata": {
    "collapsed": false,
    "pycharm": {
     "name": "#%%\n",
     "is_executing": true
    }
   }
  },
  {
   "cell_type": "code",
   "execution_count": null,
   "outputs": [],
   "source": [
    "%%time\n",
    "\n",
    "\n",
    "# fit causal forest with default parameters\n",
    "#shap_causal_forest = CausalForestDML()\n",
    "#shap_causal_forest.fit(Y, T, X=X, W=None)\n",
    "\n",
    "# calculate shap values of causal forest model\n",
    "shap_values = causal_forest.shap_values(X)\n",
    "# plot shap values\n",
    "shap.summary_plot(shap_values['Y0']['T0'])"
   ],
   "metadata": {
    "collapsed": false,
    "pycharm": {
     "name": "#%%\n",
     "is_executing": true
    }
   }
  },
  {
   "cell_type": "code",
   "execution_count": null,
   "outputs": [],
   "source": [
    "import dill\n",
    "dill.dump_session(f\"{os.getcwd()}\\\\{dataset}_env.pickle\")"
   ],
   "metadata": {
    "collapsed": false,
    "pycharm": {
     "name": "#%%\n",
     "is_executing": true
    }
   }
  },
  {
   "cell_type": "code",
   "execution_count": null,
   "outputs": [],
   "source": [],
   "metadata": {
    "collapsed": false,
    "pycharm": {
     "name": "#%%\n",
     "is_executing": true
    }
   }
  },
  {
   "cell_type": "code",
   "execution_count": null,
   "outputs": [],
   "source": [],
   "metadata": {
    "collapsed": false,
    "pycharm": {
     "name": "#%%\n",
     "is_executing": true
    }
   }
  },
  {
   "cell_type": "code",
   "execution_count": null,
   "outputs": [],
   "source": [],
   "metadata": {
    "collapsed": false,
    "pycharm": {
     "name": "#%%\n"
    }
   }
  },
  {
   "cell_type": "code",
   "execution_count": null,
   "outputs": [],
   "source": [],
   "metadata": {
    "collapsed": false,
    "pycharm": {
     "name": "#%%\n"
    }
   }
  },
  {
   "cell_type": "code",
   "execution_count": null,
   "outputs": [],
   "source": [],
   "metadata": {
    "collapsed": false,
    "pycharm": {
     "name": "#%%\n"
    }
   }
  },
  {
   "cell_type": "code",
   "execution_count": null,
   "outputs": [],
   "source": [],
   "metadata": {
    "collapsed": false,
    "pycharm": {
     "name": "#%%\n"
    }
   }
  },
  {
   "cell_type": "code",
   "execution_count": null,
   "outputs": [],
   "source": [],
   "metadata": {
    "collapsed": false,
    "pycharm": {
     "name": "#%%\n"
    }
   }
  },
  {
   "cell_type": "code",
   "execution_count": null,
   "outputs": [],
   "source": [],
   "metadata": {
    "collapsed": false,
    "pycharm": {
     "name": "#%%\n"
    }
   }
  },
  {
   "cell_type": "code",
   "execution_count": null,
   "outputs": [],
   "source": [],
   "metadata": {
    "collapsed": false,
    "pycharm": {
     "name": "#%%\n"
    }
   }
  },
  {
   "cell_type": "code",
   "execution_count": null,
   "outputs": [],
   "source": [],
   "metadata": {
    "collapsed": false,
    "pycharm": {
     "name": "#%%\n"
    }
   }
  },
  {
   "cell_type": "code",
   "execution_count": null,
   "outputs": [],
   "source": [],
   "metadata": {
    "collapsed": false,
    "pycharm": {
     "name": "#%%\n"
    }
   }
  },
  {
   "cell_type": "code",
   "execution_count": null,
   "outputs": [],
   "source": [],
   "metadata": {
    "collapsed": false,
    "pycharm": {
     "name": "#%%\n"
    }
   }
  },
  {
   "cell_type": "code",
   "execution_count": null,
   "outputs": [],
   "source": [],
   "metadata": {
    "collapsed": false,
    "pycharm": {
     "name": "#%%\n"
    }
   }
  },
  {
   "cell_type": "code",
   "execution_count": null,
   "outputs": [],
   "source": [],
   "metadata": {
    "collapsed": false,
    "pycharm": {
     "name": "#%%\n"
    }
   }
  },
  {
   "cell_type": "code",
   "execution_count": null,
   "outputs": [],
   "source": [],
   "metadata": {
    "collapsed": false,
    "pycharm": {
     "name": "#%%\n"
    }
   }
  },
  {
   "cell_type": "code",
   "execution_count": null,
   "outputs": [],
   "source": [],
   "metadata": {
    "collapsed": false,
    "pycharm": {
     "name": "#%%\n"
    }
   }
  },
  {
   "cell_type": "code",
   "execution_count": null,
   "outputs": [],
   "source": [],
   "metadata": {
    "collapsed": false,
    "pycharm": {
     "name": "#%%\n"
    }
   }
  },
  {
   "cell_type": "code",
   "execution_count": null,
   "outputs": [],
   "source": [],
   "metadata": {
    "collapsed": false,
    "pycharm": {
     "name": "#%%\n"
    }
   }
  },
  {
   "cell_type": "code",
   "execution_count": null,
   "outputs": [],
   "source": [],
   "metadata": {
    "collapsed": false,
    "pycharm": {
     "name": "#%%\n"
    }
   }
  },
  {
   "cell_type": "code",
   "execution_count": null,
   "outputs": [],
   "source": [],
   "metadata": {
    "collapsed": false,
    "pycharm": {
     "name": "#%%\n"
    }
   }
  },
  {
   "cell_type": "code",
   "execution_count": null,
   "outputs": [],
   "source": [],
   "metadata": {
    "collapsed": false,
    "pycharm": {
     "name": "#%%\n"
    }
   }
  },
  {
   "cell_type": "code",
   "execution_count": null,
   "outputs": [],
   "source": [],
   "metadata": {
    "collapsed": false,
    "pycharm": {
     "name": "#%%\n"
    }
   }
  },
  {
   "cell_type": "code",
   "execution_count": null,
   "outputs": [],
   "source": [],
   "metadata": {
    "collapsed": false,
    "pycharm": {
     "name": "#%%\n"
    }
   }
  },
  {
   "cell_type": "code",
   "execution_count": null,
   "outputs": [],
   "source": [],
   "metadata": {
    "collapsed": false,
    "pycharm": {
     "name": "#%%\n"
    }
   }
  }
 ],
 "metadata": {
  "kernelspec": {
   "display_name": "Python 3",
   "language": "python",
   "name": "python3"
  },
  "language_info": {
   "codemirror_mode": {
    "name": "ipython",
    "version": 2
   },
   "file_extension": ".py",
   "mimetype": "text/x-python",
   "name": "python",
   "nbconvert_exporter": "python",
   "pygments_lexer": "ipython2",
   "version": "2.7.6"
  }
 },
 "nbformat": 4,
 "nbformat_minor": 0
}