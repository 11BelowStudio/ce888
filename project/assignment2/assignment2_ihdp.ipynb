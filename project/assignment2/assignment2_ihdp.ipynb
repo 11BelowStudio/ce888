{
 "cells": [
  {
   "cell_type": "code",
   "execution_count": 5,
   "metadata": {
    "collapsed": true,
    "pycharm": {
     "name": "#%%\n"
    }
   },
   "outputs": [],
   "source": [
    "from __future__ import annotations\n",
    "\n",
    "import pandas as pd\n",
    "import numpy as np\n",
    "import sys\n",
    "import traceback\n",
    "import seaborn as sns\n",
    "import matplotlib\n",
    "import matplotlib.pyplot as plt\n",
    "from typing import Literal, Final, List, TypeVar, Dict, Tuple, Any, Optional, Iterable, Union, NoReturn\n",
    "import sklearn as skl\n",
    "import dataclasses\n",
    "import os\n",
    "\n",
    "\n",
    "\n",
    "import pickle"
   ]
  },
  {
   "cell_type": "code",
   "execution_count": 6,
   "outputs": [],
   "source": [
    "dataset: Literal[\"ihdp\",\"jobs\"] = \"ihdp\""
   ],
   "metadata": {
    "collapsed": false,
    "pycharm": {
     "name": "#%%\n"
    }
   }
  },
  {
   "cell_type": "code",
   "execution_count": 7,
   "outputs": [],
   "source": [
    "import warnings\n",
    "warnings.filterwarnings(\"ignore\")\n",
    "\n",
    "#print(sns.plotting_context())\n",
    "\n",
    "sns.set_theme(style=\"darkgrid\",context=\"paper\")\n",
    "\n",
    "import matplotlib.style\n",
    "if \"seaborn-darkgrid\" in matplotlib.style.available:\n",
    "    matplotlib.style.use(\"seaborn-darkgrid\")\n",
    "\n",
    "%matplotlib inline"
   ],
   "metadata": {
    "collapsed": false,
    "pycharm": {
     "name": "#%%\n"
    }
   }
  },
  {
   "cell_type": "code",
   "execution_count": 8,
   "outputs": [
    {
     "data": {
      "text/plain": "''"
     },
     "execution_count": 8,
     "metadata": {},
     "output_type": "execute_result"
    }
   ],
   "source": [
    "from assignment2.a2_utils.seed_utils import *\n",
    "\n",
    "from assignment2.a2_utils.misc_utils import *\n",
    "\n",
    "import assignment2.a2_utils.seed_utils as seed_utils\n",
    "import assignment2.a2_utils.misc_utils as misc_utils\n",
    "import assignment2.a2_utils.metric_utils as metric_utils\n",
    "import assignment2.a2_utils.dataframe_utils as df_utils\n",
    "import assignment2.a2_utils.simple_learner_utils as slearner\n",
    "\n",
    "import econml\n",
    "\n",
    "\n",
    "\"\""
   ],
   "metadata": {
    "collapsed": false,
    "pycharm": {
     "name": "#%%\n"
    }
   }
  },
  {
   "cell_type": "markdown",
   "source": [
    "# IHDP dataset processing\n"
   ],
   "metadata": {
    "collapsed": false,
    "pycharm": {
     "name": "#%% md\n"
    }
   }
  },
  {
   "cell_type": "code",
   "execution_count": 8,
   "outputs": [],
   "source": [],
   "metadata": {
    "collapsed": false,
    "pycharm": {
     "name": "#%%\n"
    }
   }
  },
  {
   "cell_type": "code",
   "execution_count": 9,
   "outputs": [
    {
     "data": {
      "text/plain": "         x0        x1        x2        x3        x4        x5  x6  x7  x8  x9  \\\n0  1.397395  0.996346 -1.105624 -0.879606  0.308569 -1.023402   1   0   0   0   \n1  0.269033  0.196818  0.383828  0.161703 -0.629189  1.460832   1   0   1   0   \n2  1.051537  1.795874 -1.105624  0.161703 -0.629189  0.963985   1   0   1   1   \n3  0.662446  0.196818 -0.733261 -0.879606  0.371086 -0.692171   1   0   0   0   \n4  0.856992  1.795874  0.011465 -0.879606  0.558638  0.301522   0   1   1   0   \n\n   ...  x22  x23  x24  t        yf       ycf       ite  tcf        t0  \\\n0  ...    0    0    1  1  4.771232 -0.298509  4.657928    0 -0.298509   \n1  ...    0    0    0  0  2.956273  5.783770  3.428604    1  2.956273   \n2  ...    0    0    1  0  4.164164  7.055789  3.658195    1  4.164164   \n3  ...    0    0    0  1  6.172307  1.379697  4.585505    0  1.379697   \n4  ...    0    0    0  1  7.834469  2.747986  4.265591    0  2.747986   \n\n         t1  \n0  4.771232  \n1  5.783770  \n2  7.055789  \n3  6.172307  \n4  7.834469  \n\n[5 rows x 32 columns]",
      "text/html": "<div>\n<style scoped>\n    .dataframe tbody tr th:only-of-type {\n        vertical-align: middle;\n    }\n\n    .dataframe tbody tr th {\n        vertical-align: top;\n    }\n\n    .dataframe thead th {\n        text-align: right;\n    }\n</style>\n<table border=\"1\" class=\"dataframe\">\n  <thead>\n    <tr style=\"text-align: right;\">\n      <th></th>\n      <th>x0</th>\n      <th>x1</th>\n      <th>x2</th>\n      <th>x3</th>\n      <th>x4</th>\n      <th>x5</th>\n      <th>x6</th>\n      <th>x7</th>\n      <th>x8</th>\n      <th>x9</th>\n      <th>...</th>\n      <th>x22</th>\n      <th>x23</th>\n      <th>x24</th>\n      <th>t</th>\n      <th>yf</th>\n      <th>ycf</th>\n      <th>ite</th>\n      <th>tcf</th>\n      <th>t0</th>\n      <th>t1</th>\n    </tr>\n  </thead>\n  <tbody>\n    <tr>\n      <th>0</th>\n      <td>1.397395</td>\n      <td>0.996346</td>\n      <td>-1.105624</td>\n      <td>-0.879606</td>\n      <td>0.308569</td>\n      <td>-1.023402</td>\n      <td>1</td>\n      <td>0</td>\n      <td>0</td>\n      <td>0</td>\n      <td>...</td>\n      <td>0</td>\n      <td>0</td>\n      <td>1</td>\n      <td>1</td>\n      <td>4.771232</td>\n      <td>-0.298509</td>\n      <td>4.657928</td>\n      <td>0</td>\n      <td>-0.298509</td>\n      <td>4.771232</td>\n    </tr>\n    <tr>\n      <th>1</th>\n      <td>0.269033</td>\n      <td>0.196818</td>\n      <td>0.383828</td>\n      <td>0.161703</td>\n      <td>-0.629189</td>\n      <td>1.460832</td>\n      <td>1</td>\n      <td>0</td>\n      <td>1</td>\n      <td>0</td>\n      <td>...</td>\n      <td>0</td>\n      <td>0</td>\n      <td>0</td>\n      <td>0</td>\n      <td>2.956273</td>\n      <td>5.783770</td>\n      <td>3.428604</td>\n      <td>1</td>\n      <td>2.956273</td>\n      <td>5.783770</td>\n    </tr>\n    <tr>\n      <th>2</th>\n      <td>1.051537</td>\n      <td>1.795874</td>\n      <td>-1.105624</td>\n      <td>0.161703</td>\n      <td>-0.629189</td>\n      <td>0.963985</td>\n      <td>1</td>\n      <td>0</td>\n      <td>1</td>\n      <td>1</td>\n      <td>...</td>\n      <td>0</td>\n      <td>0</td>\n      <td>1</td>\n      <td>0</td>\n      <td>4.164164</td>\n      <td>7.055789</td>\n      <td>3.658195</td>\n      <td>1</td>\n      <td>4.164164</td>\n      <td>7.055789</td>\n    </tr>\n    <tr>\n      <th>3</th>\n      <td>0.662446</td>\n      <td>0.196818</td>\n      <td>-0.733261</td>\n      <td>-0.879606</td>\n      <td>0.371086</td>\n      <td>-0.692171</td>\n      <td>1</td>\n      <td>0</td>\n      <td>0</td>\n      <td>0</td>\n      <td>...</td>\n      <td>0</td>\n      <td>0</td>\n      <td>0</td>\n      <td>1</td>\n      <td>6.172307</td>\n      <td>1.379697</td>\n      <td>4.585505</td>\n      <td>0</td>\n      <td>1.379697</td>\n      <td>6.172307</td>\n    </tr>\n    <tr>\n      <th>4</th>\n      <td>0.856992</td>\n      <td>1.795874</td>\n      <td>0.011465</td>\n      <td>-0.879606</td>\n      <td>0.558638</td>\n      <td>0.301522</td>\n      <td>0</td>\n      <td>1</td>\n      <td>1</td>\n      <td>0</td>\n      <td>...</td>\n      <td>0</td>\n      <td>0</td>\n      <td>0</td>\n      <td>1</td>\n      <td>7.834469</td>\n      <td>2.747986</td>\n      <td>4.265591</td>\n      <td>0</td>\n      <td>2.747986</td>\n      <td>7.834469</td>\n    </tr>\n  </tbody>\n</table>\n<p>5 rows × 32 columns</p>\n</div>"
     },
     "execution_count": 9,
     "metadata": {},
     "output_type": "execute_result"
    }
   ],
   "source": [
    "\n",
    "ihdp_full: pd.DataFrame = df_utils.turn_01_columns_into_int(\n",
    "    pd.read_csv(f\"{dataset}_full.csv\")\n",
    ")\n",
    "\"The full IHDP dataset (with supplementary t0 and t1 info) as a dataframe\"\n",
    "\n",
    "ihdp_full.head()"
   ],
   "metadata": {
    "collapsed": false,
    "pycharm": {
     "name": "#%%\n"
    }
   }
  },
  {
   "cell_type": "code",
   "execution_count": 10,
   "outputs": [
    {
     "name": "stdout",
     "output_type": "stream",
     "text": [
      "<class 'pandas.core.frame.DataFrame'>\n",
      "RangeIndex: 747 entries, 0 to 746\n",
      "Data columns (total 32 columns):\n",
      " #   Column  Non-Null Count  Dtype  \n",
      "---  ------  --------------  -----  \n",
      " 0   x0      747 non-null    float64\n",
      " 1   x1      747 non-null    float64\n",
      " 2   x2      747 non-null    float64\n",
      " 3   x3      747 non-null    float64\n",
      " 4   x4      747 non-null    float64\n",
      " 5   x5      747 non-null    float64\n",
      " 6   x6      747 non-null    uint8  \n",
      " 7   x7      747 non-null    uint8  \n",
      " 8   x8      747 non-null    uint8  \n",
      " 9   x9      747 non-null    uint8  \n",
      " 10  x10     747 non-null    uint8  \n",
      " 11  x11     747 non-null    uint8  \n",
      " 12  x12     747 non-null    uint8  \n",
      " 13  x13     747 non-null    uint8  \n",
      " 14  x14     747 non-null    uint8  \n",
      " 15  x15     747 non-null    uint8  \n",
      " 16  x16     747 non-null    uint8  \n",
      " 17  x17     747 non-null    uint8  \n",
      " 18  x18     747 non-null    uint8  \n",
      " 19  x19     747 non-null    uint8  \n",
      " 20  x20     747 non-null    uint8  \n",
      " 21  x21     747 non-null    uint8  \n",
      " 22  x22     747 non-null    uint8  \n",
      " 23  x23     747 non-null    uint8  \n",
      " 24  x24     747 non-null    uint8  \n",
      " 25  t       747 non-null    uint8  \n",
      " 26  yf      747 non-null    float64\n",
      " 27  ycf     747 non-null    float64\n",
      " 28  ite     747 non-null    float64\n",
      " 29  tcf     747 non-null    uint8  \n",
      " 30  t0      747 non-null    float64\n",
      " 31  t1      747 non-null    float64\n",
      "dtypes: float64(11), uint8(21)\n",
      "memory usage: 79.6 KB\n"
     ]
    }
   ],
   "source": [
    "ihdp_full.info()"
   ],
   "metadata": {
    "collapsed": false,
    "pycharm": {
     "name": "#%%\n"
    }
   }
  },
  {
   "cell_type": "code",
   "execution_count": 11,
   "outputs": [],
   "source": [
    "dfm: df_utils.DataframeManager = df_utils.DataframeManager.make(\n",
    "    dataset_name = dataset,\n",
    "    the_df = ihdp_full,\n",
    "    test_proportion = 0.1,\n",
    "    split_randomstate = rng_state(),\n",
    "    columns_for_training_stratification= [\"t\"],\n",
    "    t_column = \"t\",\n",
    "    t_cf_column = \"tcf\",\n",
    "    y_column = \"yf\",\n",
    "    e_column = \"e\",\n",
    "    default_e_if_e_not_present = 1,\n",
    "    ycf_column= \"ycf\",\n",
    "    t0_column= \"t0\",\n",
    "    t1_column = \"t1\",\n",
    "    ite_column = \"ite\",\n",
    "    ipsw_column= \"ipsw\"\n",
    ")\n"
   ],
   "metadata": {
    "collapsed": false,
    "pycharm": {
     "name": "#%%\n"
    }
   }
  },
  {
   "cell_type": "code",
   "execution_count": 12,
   "outputs": [
    {
     "name": "stdout",
     "output_type": "stream",
     "text": [
      "pickling self as D:\\PycharmProjects\\ce888\\project\\assignment2\\ihdp\\ihdp DataframeManager.pickle...\n",
      "pickled!\n"
     ]
    },
    {
     "data": {
      "text/plain": "True"
     },
     "execution_count": 12,
     "metadata": {},
     "output_type": "execute_result"
    }
   ],
   "source": [
    "dfm.save_self()"
   ],
   "metadata": {
    "collapsed": false,
    "pycharm": {
     "name": "#%%\n"
    }
   }
  },
  {
   "cell_type": "code",
   "execution_count": 12,
   "outputs": [],
   "source": [],
   "metadata": {
    "collapsed": false,
    "pycharm": {
     "name": "#%%\n"
    }
   }
  },
  {
   "cell_type": "code",
   "execution_count": 12,
   "outputs": [],
   "source": [],
   "metadata": {
    "collapsed": false,
    "pycharm": {
     "name": "#%%\n"
    }
   }
  },
  {
   "cell_type": "code",
   "execution_count": 13,
   "outputs": [],
   "source": [
    "from sklearn.model_selection import KFold\n",
    "from sklearn.model_selection._validation import NotFittedError\n",
    "from sklearn.base import RegressorMixin, TransformerMixin\n",
    "from sklearn.linear_model import ARDRegression\n",
    "from sklearn.ensemble import RandomForestRegressor, AdaBoostRegressor\n",
    "from sklearn.preprocessing import QuantileTransformer\n",
    "from sklearn.impute import KNNImputer\n",
    "from sklearn.pipeline import Pipeline, make_pipeline\n",
    "from sklearn import set_config\n",
    "from sklearn.metrics import r2_score, make_scorer\n",
    "from sklearn.experimental import enable_halving_search_cv\n",
    "from sklearn.model_selection import HalvingGridSearchCV, GridSearchCV\n",
    "from sklearn.preprocessing import PolynomialFeatures\n",
    "from sklearn.inspection import permutation_importance\n",
    "from sklearn.utils import Bunch\n",
    "from math import inf\n",
    "\n",
    "set_config(display=\"diagram\")\n",
    "\n"
   ],
   "metadata": {
    "collapsed": false,
    "pycharm": {
     "name": "#%%\n"
    }
   }
  },
  {
   "cell_type": "markdown",
   "source": [
    "# Part 3 - Simple Learners"
   ],
   "metadata": {
    "collapsed": false,
    "pycharm": {
     "name": "#%% md\n"
    }
   }
  },
  {
   "cell_type": "code",
   "execution_count": 13,
   "outputs": [],
   "source": [],
   "metadata": {
    "collapsed": false,
    "pycharm": {
     "name": "#%%\n"
    }
   }
  },
  {
   "cell_type": "code",
   "execution_count": 14,
   "outputs": [
    {
     "name": "stdout",
     "output_type": "stream",
     "text": [
      "-- 10-fold attempt 1/4 start --\n",
      "max: 50, min: 7, factor: 8\n",
      "n_iterations: 4\n",
      "n_required_iterations: 4\n",
      "n_possible_iterations: 1\n",
      "min_resources_: 7\n",
      "max_resources_: 50\n",
      "aggressive_elimination: True\n",
      "factor: 8\n",
      "----------\n",
      "iter: 0\n",
      "n_candidates: 720\n",
      "n_resources: 7\n",
      "Fitting 10 folds for each of 720 candidates, totalling 7200 fits\n",
      "----------\n",
      "iter: 1\n",
      "n_candidates: 90\n",
      "n_resources: 7\n",
      "Fitting 10 folds for each of 90 candidates, totalling 900 fits\n",
      "----------\n",
      "iter: 2\n",
      "n_candidates: 12\n",
      "n_resources: 7\n",
      "Fitting 10 folds for each of 12 candidates, totalling 120 fits\n",
      "----------\n",
      "iter: 3\n",
      "n_candidates: 2\n",
      "n_resources: 7\n",
      "Fitting 10 folds for each of 2 candidates, totalling 20 fits\n",
      "best from this iteration: \n",
      "GridSearchResults summary Random Forest simple ihdp\n",
      "\ttest score:\t0.6586436890703284\n",
      "\ttrain score:0.7661781914124666\n",
      "\tyf score:\t0.7893046559671106\n",
      "\tycf score:\t0.7052002629850354\n",
      "\tt0 score:\t0.5882822189349659\n",
      "\tt1 score:\t0.0883252521479535\n",
      "\tite score:\t0.6256623165628303\n",
      "\tabs ATE:\t0.024172861657867806\n",
      "\tPEHE:   \t0.5256614008762716\n",
      "\tabs ATT:\t0.10858857829359714\n",
      "\tp. risk:\t-5.5233014802482066\n",
      "\n",
      "--- 1/4 END ---\n",
      "-- 10-fold attempt 2/4 start --\n",
      "max: 100, min: 1, factor: 10\n",
      "n_iterations: 3\n",
      "n_required_iterations: 3\n",
      "n_possible_iterations: 3\n",
      "min_resources_: 1\n",
      "max_resources_: 100\n",
      "aggressive_elimination: True\n",
      "factor: 10\n",
      "----------\n",
      "iter: 0\n",
      "n_candidates: 720\n",
      "n_resources: 1\n",
      "Fitting 10 folds for each of 720 candidates, totalling 7200 fits\n",
      "----------\n",
      "iter: 1\n",
      "n_candidates: 72\n",
      "n_resources: 10\n",
      "Fitting 10 folds for each of 72 candidates, totalling 720 fits\n",
      "----------\n",
      "iter: 2\n",
      "n_candidates: 8\n",
      "n_resources: 100\n",
      "Fitting 10 folds for each of 8 candidates, totalling 80 fits\n",
      "best from this iteration: \n",
      "GridSearchResults summary Random Forest simple ihdp\n",
      "\ttest score:\t0.6875290196339277\n",
      "\ttrain score:0.773217569407555\n",
      "\tyf score:\t0.7944186487645476\n",
      "\tycf score:\t0.6979244024596516\n",
      "\tt0 score:\t0.5974324890292109\n",
      "\tt1 score:\t0.06563535904259621\n",
      "\tite score:\t0.6306716389940594\n",
      "\tabs ATE:\t0.06978450020809301\n",
      "\tPEHE:   \t0.522132399809186\n",
      "\tabs ATT:\t0.1045551572937371\n",
      "\tp. risk:\t-5.502993329310705\n",
      "\n",
      "--- 2/4 END ---\n",
      "-- 10-fold attempt 3/4 start --\n",
      "max: 150, min: 12, factor: 13\n",
      "n_iterations: 3\n",
      "n_required_iterations: 3\n",
      "n_possible_iterations: 1\n",
      "min_resources_: 12\n",
      "max_resources_: 150\n",
      "aggressive_elimination: True\n",
      "factor: 13\n",
      "----------\n",
      "iter: 0\n",
      "n_candidates: 720\n",
      "n_resources: 12\n",
      "Fitting 10 folds for each of 720 candidates, totalling 7200 fits\n",
      "----------\n",
      "iter: 1\n",
      "n_candidates: 56\n",
      "n_resources: 12\n",
      "Fitting 10 folds for each of 56 candidates, totalling 560 fits\n",
      "----------\n",
      "iter: 2\n",
      "n_candidates: 5\n",
      "n_resources: 12\n",
      "Fitting 10 folds for each of 5 candidates, totalling 50 fits\n",
      "best from this iteration: \n",
      "GridSearchResults summary Random Forest simple ihdp\n",
      "\ttest score:\t0.6494736525337972\n",
      "\ttrain score:0.7679416748536931\n",
      "\tyf score:\t0.7875031553571742\n",
      "\tycf score:\t0.7030350896446977\n",
      "\tt0 score:\t0.5855906186279984\n",
      "\tt1 score:\t0.07993778621904302\n",
      "\tite score:\t0.6081842428438584\n",
      "\tabs ATE:\t0.022782649879474093\n",
      "\tPEHE:   \t0.53779314557174\n",
      "\tabs ATT:\t0.0909773322567009\n",
      "\tp. risk:\t-5.530341047144848\n",
      "\n",
      "--- 3/4 END ---\n",
      "-- 10-fold attempt 4/4 start --\n",
      "max: 200, min: 14, factor: 15\n",
      "n_iterations: 3\n",
      "n_required_iterations: 3\n",
      "n_possible_iterations: 1\n",
      "min_resources_: 14\n",
      "max_resources_: 200\n",
      "aggressive_elimination: True\n",
      "factor: 15\n",
      "----------\n",
      "iter: 0\n",
      "n_candidates: 720\n",
      "n_resources: 14\n",
      "Fitting 10 folds for each of 720 candidates, totalling 7200 fits\n",
      "----------\n",
      "iter: 1\n",
      "n_candidates: 48\n",
      "n_resources: 14\n",
      "Fitting 10 folds for each of 48 candidates, totalling 480 fits\n",
      "----------\n",
      "iter: 2\n",
      "n_candidates: 4\n",
      "n_resources: 14\n",
      "Fitting 10 folds for each of 4 candidates, totalling 40 fits\n",
      "best from this iteration: \n",
      "GridSearchResults summary Random Forest simple ihdp\n",
      "\ttest score:\t0.6663705355416869\n",
      "\ttrain score:0.7682592524832452\n",
      "\tyf score:\t0.7876618529757313\n",
      "\tycf score:\t0.7002629098556594\n",
      "\tt0 score:\t0.5830857697093055\n",
      "\tt1 score:\t0.07686840116769211\n",
      "\tite score:\t0.6042764859369146\n",
      "\tabs ATE:\t0.014985997414130203\n",
      "\tPEHE:   \t0.5404683198641922\n",
      "\tabs ATT:\t0.09793114884801213\n",
      "\tp. risk:\t-5.534968473337013\n",
      "\n",
      "--- 4/4 END ---\n",
      "CPU times: total: 48.8 s\n",
      "Wall time: 19min 53s\n"
     ]
    }
   ],
   "source": [
    "%%time\n",
    "\n",
    "rf_min_samples = [2,4,6,8]\n",
    "rf_min_impurity_decrease = [0, *np.geomspace(0.00001,0.2,6)[1:]],\n",
    "rf_max_features = [None,\"sqrt\",\"log2\",1,2],\n",
    "rf_ccp_alpha =  [0, *np.geomspace(0.00001,0.2,6)[1:]]\n",
    "rf_n_estimators = [50,100,150,200]\n",
    "\n",
    "rf_simple_searched: List[\n",
    "    slearner.SimpleHalvingGridSearchResults\n",
    "] = slearner.simple_halving_grid_searcher(\n",
    "    RandomForestRegressor(criterion=\"squared_error\", random_state=seed()),\n",
    "    {\n",
    "        #\"estimator__n_estimators\": [75,100,125],\n",
    "        \"estimator__min_samples_split\": [2,4,6,8], # rf_min_samples,\n",
    "        \"estimator__min_impurity_decrease\": [0, *np.geomspace(0.00001,0.2,6)[1:]],  #  rf_min_impurity_decrease,\n",
    "        \"estimator__max_features\":[None,\"sqrt\",\"log2\",1,2],  # rf_max_features,\n",
    "        # \"estimator__oob_score\": [False, True],\n",
    "        \"estimator__ccp_alpha\": [0, *np.geomspace(0.00001,0.2,6)[1:]]  # rf_ccp_alpha\n",
    "    },\n",
    "    df_m=dfm,\n",
    "    df_selection=df_utils.DatasetEnum.FACTUAL,\n",
    "    learner_name=\"Random Forest simple\",\n",
    "    kfold_splits=10,\n",
    "    scorer_to_use=slearner.r2_score_id(),\n",
    "    stratify_on=[\"t\"],\n",
    "    resource=\"estimator__n_estimators\",\n",
    "    resource_param_values=rf_n_estimators,\n",
    "    #classes_ndarray=ihdp_learn_df_x[\"t\"].to_numpy()\n",
    ")\n"
   ],
   "metadata": {
    "collapsed": false,
    "pycharm": {
     "name": "#%%\n"
    }
   }
  },
  {
   "cell_type": "code",
   "execution_count": 15,
   "outputs": [],
   "source": [
    "\n",
    "rf_simple_best: slearner.SimpleHalvingGridSearchResults = max(\n",
    "    rf_simple_searched\n",
    ")\n"
   ],
   "metadata": {
    "collapsed": false,
    "pycharm": {
     "name": "#%%\n"
    }
   }
  },
  {
   "cell_type": "code",
   "execution_count": 16,
   "outputs": [
    {
     "name": "stdout",
     "output_type": "stream",
     "text": [
      "GridSearchResults summary Random Forest simple ihdp\n",
      "\ttest score:\t0.6875290196339277\n",
      "\ttrain score:0.773217569407555\n",
      "\tyf score:\t0.7944186487645476\n",
      "\tycf score:\t0.6979244024596516\n",
      "\tt0 score:\t0.5974324890292109\n",
      "\tt1 score:\t0.06563535904259621\n",
      "\tite score:\t0.6306716389940594\n",
      "\tabs ATE:\t0.06978450020809301\n",
      "\tPEHE:   \t0.522132399809186\n",
      "\tabs ATT:\t0.1045551572937371\n",
      "\tp. risk:\t-5.502993329310705\n",
      "\tbest params:\n",
      "\t\testimator__ccp_alpha : 0.003807307877431759\n",
      "\t\testimator__max_features : None\n",
      "\t\testimator__min_impurity_decrease : 0.027594593229224307\n",
      "\t\testimator__min_samples_split : 4\n",
      "\t\testimator__n_estimators : 100\n"
     ]
    },
    {
     "data": {
      "text/plain": "PPipeline(steps=[('scaler', QuantileTransformer(output_distribution='normal')),\n                 ('imputer', KNNImputer(weights='distance')),\n                 ('estimator',\n                  RandomForestRegressor(ccp_alpha=0.003807307877431759,\n                                        max_features=None,\n                                        min_impurity_decrease=0.027594593229224307,\n                                        min_samples_split=4,\n                                        random_state=42))])",
      "text/html": "<style>#sk-c7e5a047-4327-403e-8d3c-b92493ce429b {color: black;background-color: white;}#sk-c7e5a047-4327-403e-8d3c-b92493ce429b pre{padding: 0;}#sk-c7e5a047-4327-403e-8d3c-b92493ce429b div.sk-toggleable {background-color: white;}#sk-c7e5a047-4327-403e-8d3c-b92493ce429b label.sk-toggleable__label {cursor: pointer;display: block;width: 100%;margin-bottom: 0;padding: 0.3em;box-sizing: border-box;text-align: center;}#sk-c7e5a047-4327-403e-8d3c-b92493ce429b label.sk-toggleable__label-arrow:before {content: \"▸\";float: left;margin-right: 0.25em;color: #696969;}#sk-c7e5a047-4327-403e-8d3c-b92493ce429b label.sk-toggleable__label-arrow:hover:before {color: black;}#sk-c7e5a047-4327-403e-8d3c-b92493ce429b div.sk-estimator:hover label.sk-toggleable__label-arrow:before {color: black;}#sk-c7e5a047-4327-403e-8d3c-b92493ce429b div.sk-toggleable__content {max-height: 0;max-width: 0;overflow: hidden;text-align: left;background-color: #f0f8ff;}#sk-c7e5a047-4327-403e-8d3c-b92493ce429b div.sk-toggleable__content pre {margin: 0.2em;color: black;border-radius: 0.25em;background-color: #f0f8ff;}#sk-c7e5a047-4327-403e-8d3c-b92493ce429b input.sk-toggleable__control:checked~div.sk-toggleable__content {max-height: 200px;max-width: 100%;overflow: auto;}#sk-c7e5a047-4327-403e-8d3c-b92493ce429b input.sk-toggleable__control:checked~label.sk-toggleable__label-arrow:before {content: \"▾\";}#sk-c7e5a047-4327-403e-8d3c-b92493ce429b div.sk-estimator input.sk-toggleable__control:checked~label.sk-toggleable__label {background-color: #d4ebff;}#sk-c7e5a047-4327-403e-8d3c-b92493ce429b div.sk-label input.sk-toggleable__control:checked~label.sk-toggleable__label {background-color: #d4ebff;}#sk-c7e5a047-4327-403e-8d3c-b92493ce429b input.sk-hidden--visually {border: 0;clip: rect(1px 1px 1px 1px);clip: rect(1px, 1px, 1px, 1px);height: 1px;margin: -1px;overflow: hidden;padding: 0;position: absolute;width: 1px;}#sk-c7e5a047-4327-403e-8d3c-b92493ce429b div.sk-estimator {font-family: monospace;background-color: #f0f8ff;border: 1px dotted black;border-radius: 0.25em;box-sizing: border-box;margin-bottom: 0.5em;}#sk-c7e5a047-4327-403e-8d3c-b92493ce429b div.sk-estimator:hover {background-color: #d4ebff;}#sk-c7e5a047-4327-403e-8d3c-b92493ce429b div.sk-parallel-item::after {content: \"\";width: 100%;border-bottom: 1px solid gray;flex-grow: 1;}#sk-c7e5a047-4327-403e-8d3c-b92493ce429b div.sk-label:hover label.sk-toggleable__label {background-color: #d4ebff;}#sk-c7e5a047-4327-403e-8d3c-b92493ce429b div.sk-serial::before {content: \"\";position: absolute;border-left: 1px solid gray;box-sizing: border-box;top: 2em;bottom: 0;left: 50%;}#sk-c7e5a047-4327-403e-8d3c-b92493ce429b div.sk-serial {display: flex;flex-direction: column;align-items: center;background-color: white;padding-right: 0.2em;padding-left: 0.2em;}#sk-c7e5a047-4327-403e-8d3c-b92493ce429b div.sk-item {z-index: 1;}#sk-c7e5a047-4327-403e-8d3c-b92493ce429b div.sk-parallel {display: flex;align-items: stretch;justify-content: center;background-color: white;}#sk-c7e5a047-4327-403e-8d3c-b92493ce429b div.sk-parallel::before {content: \"\";position: absolute;border-left: 1px solid gray;box-sizing: border-box;top: 2em;bottom: 0;left: 50%;}#sk-c7e5a047-4327-403e-8d3c-b92493ce429b div.sk-parallel-item {display: flex;flex-direction: column;position: relative;background-color: white;}#sk-c7e5a047-4327-403e-8d3c-b92493ce429b div.sk-parallel-item:first-child::after {align-self: flex-end;width: 50%;}#sk-c7e5a047-4327-403e-8d3c-b92493ce429b div.sk-parallel-item:last-child::after {align-self: flex-start;width: 50%;}#sk-c7e5a047-4327-403e-8d3c-b92493ce429b div.sk-parallel-item:only-child::after {width: 0;}#sk-c7e5a047-4327-403e-8d3c-b92493ce429b div.sk-dashed-wrapped {border: 1px dashed gray;margin: 0 0.4em 0.5em 0.4em;box-sizing: border-box;padding-bottom: 0.4em;background-color: white;position: relative;}#sk-c7e5a047-4327-403e-8d3c-b92493ce429b div.sk-label label {font-family: monospace;font-weight: bold;background-color: white;display: inline-block;line-height: 1.2em;}#sk-c7e5a047-4327-403e-8d3c-b92493ce429b div.sk-label-container {position: relative;z-index: 2;text-align: center;}#sk-c7e5a047-4327-403e-8d3c-b92493ce429b div.sk-container {/* jupyter's `normalize.less` sets `[hidden] { display: none; }` but bootstrap.min.css set `[hidden] { display: none !important; }` so we also need the `!important` here to be able to override the default hidden behavior on the sphinx rendered scikit-learn.org. See: https://github.com/scikit-learn/scikit-learn/issues/21755 */display: inline-block !important;position: relative;}#sk-c7e5a047-4327-403e-8d3c-b92493ce429b div.sk-text-repr-fallback {display: none;}</style><div id=\"sk-c7e5a047-4327-403e-8d3c-b92493ce429b\" class=\"sk-top-container\"><div class=\"sk-text-repr-fallback\"><pre>PPipeline(steps=[(&#x27;scaler&#x27;, QuantileTransformer(output_distribution=&#x27;normal&#x27;)),\n                 (&#x27;imputer&#x27;, KNNImputer(weights=&#x27;distance&#x27;)),\n                 (&#x27;estimator&#x27;,\n                  RandomForestRegressor(ccp_alpha=0.003807307877431759,\n                                        max_features=None,\n                                        min_impurity_decrease=0.027594593229224307,\n                                        min_samples_split=4,\n                                        random_state=42))])</pre><b>Please rerun this cell to show the HTML repr or trust the notebook.</b></div><div class=\"sk-container\" hidden><div class=\"sk-item sk-dashed-wrapped\"><div class=\"sk-label-container\"><div class=\"sk-label sk-toggleable\"><input class=\"sk-toggleable__control sk-hidden--visually\" id=\"93fc882b-903a-403f-b507-f0b2d5ffee47\" type=\"checkbox\" ><label for=\"93fc882b-903a-403f-b507-f0b2d5ffee47\" class=\"sk-toggleable__label sk-toggleable__label-arrow\">PPipeline</label><div class=\"sk-toggleable__content\"><pre>PPipeline(steps=[(&#x27;scaler&#x27;, QuantileTransformer(output_distribution=&#x27;normal&#x27;)),\n                 (&#x27;imputer&#x27;, KNNImputer(weights=&#x27;distance&#x27;)),\n                 (&#x27;estimator&#x27;,\n                  RandomForestRegressor(ccp_alpha=0.003807307877431759,\n                                        max_features=None,\n                                        min_impurity_decrease=0.027594593229224307,\n                                        min_samples_split=4,\n                                        random_state=42))])</pre></div></div></div><div class=\"sk-serial\"><div class=\"sk-item\"><div class=\"sk-estimator sk-toggleable\"><input class=\"sk-toggleable__control sk-hidden--visually\" id=\"393340d0-1f3b-4311-bce4-16af83ffbd82\" type=\"checkbox\" ><label for=\"393340d0-1f3b-4311-bce4-16af83ffbd82\" class=\"sk-toggleable__label sk-toggleable__label-arrow\">QuantileTransformer</label><div class=\"sk-toggleable__content\"><pre>QuantileTransformer(output_distribution=&#x27;normal&#x27;)</pre></div></div></div><div class=\"sk-item\"><div class=\"sk-estimator sk-toggleable\"><input class=\"sk-toggleable__control sk-hidden--visually\" id=\"245db1c8-3d92-4a81-b8c6-886c370d8326\" type=\"checkbox\" ><label for=\"245db1c8-3d92-4a81-b8c6-886c370d8326\" class=\"sk-toggleable__label sk-toggleable__label-arrow\">KNNImputer</label><div class=\"sk-toggleable__content\"><pre>KNNImputer(weights=&#x27;distance&#x27;)</pre></div></div></div><div class=\"sk-item\"><div class=\"sk-estimator sk-toggleable\"><input class=\"sk-toggleable__control sk-hidden--visually\" id=\"8939a0e7-b31a-4230-890f-52290a1b0801\" type=\"checkbox\" ><label for=\"8939a0e7-b31a-4230-890f-52290a1b0801\" class=\"sk-toggleable__label sk-toggleable__label-arrow\">RandomForestRegressor</label><div class=\"sk-toggleable__content\"><pre>RandomForestRegressor(ccp_alpha=0.003807307877431759, max_features=None,\n                      min_impurity_decrease=0.027594593229224307,\n                      min_samples_split=4, random_state=42)</pre></div></div></div></div></div></div></div>"
     },
     "execution_count": 16,
     "metadata": {},
     "output_type": "execute_result"
    }
   ],
   "source": [
    "\n",
    "print(rf_simple_best.info)\n",
    "\n",
    "\n",
    "\n",
    "rf_simple_best.best_estimator_\n"
   ],
   "metadata": {
    "collapsed": false,
    "pycharm": {
     "name": "#%%\n"
    }
   }
  },
  {
   "cell_type": "code",
   "execution_count": 17,
   "outputs": [
    {
     "name": "stdout",
     "output_type": "stream",
     "text": [
      "Pickling results to: D:\\PycharmProjects\\ce888\\project\\assignment2\\ihdp\\ihdp Random Forest simple results.pickle\n",
      "pickled results!\n",
      "Pickling simple estimator to D:\\PycharmProjects\\ce888\\project\\assignment2\\ihdp\\ihdp Random Forest simple estimator.pickle\n",
      "pickled estimator!\n"
     ]
    }
   ],
   "source": [
    "rf_simple_best.save_me()"
   ],
   "metadata": {
    "collapsed": false,
    "pycharm": {
     "name": "#%%\n"
    }
   }
  },
  {
   "cell_type": "code",
   "execution_count": 18,
   "outputs": [
    {
     "data": {
      "text/plain": "<Figure size 1152x1296 with 2 Axes>",
      "image/png": "[encoded data removed]"
     },
     "metadata": {
      "needs_background": "light"
     },
     "output_type": "display_data"
    }
   ],
   "source": [
    "rf_simple_best.importance_plotter().show()"
   ],
   "metadata": {
    "collapsed": false,
    "pycharm": {
     "name": "#%%\n"
    }
   }
  },
  {
   "cell_type": "code",
   "execution_count": 19,
   "outputs": [
    {
     "name": "stdout",
     "output_type": "stream",
     "text": [
      "-- 10-fold attempt 1/3 start --\n",
      "max: 200, min: 14, factor: 15\n",
      "n_iterations: 3\n",
      "n_required_iterations: 3\n",
      "n_possible_iterations: 1\n",
      "min_resources_: 14\n",
      "max_resources_: 200\n",
      "aggressive_elimination: True\n",
      "factor: 15\n",
      "----------\n",
      "iter: 0\n",
      "n_candidates: 729\n",
      "n_resources: 14\n",
      "Fitting 10 folds for each of 729 candidates, totalling 7290 fits\n",
      "----------\n",
      "iter: 1\n",
      "n_candidates: 49\n",
      "n_resources: 14\n",
      "Fitting 10 folds for each of 49 candidates, totalling 490 fits\n",
      "----------\n",
      "iter: 2\n",
      "n_candidates: 4\n",
      "n_resources: 14\n",
      "Fitting 10 folds for each of 4 candidates, totalling 40 fits\n",
      "best from this iteration: \n",
      "GridSearchResults summary ARD simple ihdp\n",
      "\ttest score:\t0.5564596977895747\n",
      "\ttrain score:0.7174340703816985\n",
      "\tyf score:\t0.7230858128688201\n",
      "\tycf score:\t0.6696308622344906\n",
      "\tt0 score:\t0.49420677538586866\n",
      "\tt1 score:\t-0.0880853724951618\n",
      "\tite score:\t-0.0008744474291235704\n",
      "\tabs ATE:\t0.02540628505630016\n",
      "\tPEHE:   \t0.8595360866486239\n",
      "\tabs ATT:\t0.10410522166326874\n",
      "\tp. risk:\t-5.4930213795885985\n",
      "\n",
      "--- 1/3 END ---\n",
      "-- 10-fold attempt 2/3 start --\n",
      "max: 250, min: 16, factor: 16\n",
      "n_iterations: 3\n",
      "n_required_iterations: 3\n",
      "n_possible_iterations: 1\n",
      "min_resources_: 16\n",
      "max_resources_: 250\n",
      "aggressive_elimination: True\n",
      "factor: 16\n",
      "----------\n",
      "iter: 0\n",
      "n_candidates: 729\n",
      "n_resources: 16\n",
      "Fitting 10 folds for each of 729 candidates, totalling 7290 fits\n",
      "----------\n",
      "iter: 1\n",
      "n_candidates: 46\n",
      "n_resources: 16\n",
      "Fitting 10 folds for each of 46 candidates, totalling 460 fits\n",
      "----------\n",
      "iter: 2\n",
      "n_candidates: 3\n",
      "n_resources: 16\n",
      "Fitting 10 folds for each of 3 candidates, totalling 30 fits\n",
      "best from this iteration: \n",
      "GridSearchResults summary ARD simple ihdp\n",
      "\ttest score:\t0.5564596977895747\n",
      "\ttrain score:0.7174340703816985\n",
      "\tyf score:\t0.7230858128688201\n",
      "\tycf score:\t0.6696308622344906\n",
      "\tt0 score:\t0.49420677538586866\n",
      "\tt1 score:\t-0.0880853724951618\n",
      "\tite score:\t-0.0008744474291235704\n",
      "\tabs ATE:\t0.02540628505630016\n",
      "\tPEHE:   \t0.8595360866486239\n",
      "\tabs ATT:\t0.10410522166326874\n",
      "\tp. risk:\t-5.4930213795885985\n",
      "\n",
      "--- 2/3 END ---\n",
      "-- 10-fold attempt 3/3 start --\n",
      "max: 300, min: 17, factor: 18\n",
      "n_iterations: 3\n",
      "n_required_iterations: 3\n",
      "n_possible_iterations: 1\n",
      "min_resources_: 17\n",
      "max_resources_: 300\n",
      "aggressive_elimination: True\n",
      "factor: 18\n",
      "----------\n",
      "iter: 0\n",
      "n_candidates: 729\n",
      "n_resources: 17\n",
      "Fitting 10 folds for each of 729 candidates, totalling 7290 fits\n",
      "----------\n",
      "iter: 1\n",
      "n_candidates: 41\n",
      "n_resources: 17\n",
      "Fitting 10 folds for each of 41 candidates, totalling 410 fits\n",
      "----------\n",
      "iter: 2\n",
      "n_candidates: 3\n",
      "n_resources: 17\n",
      "Fitting 10 folds for each of 3 candidates, totalling 30 fits\n",
      "best from this iteration: \n",
      "GridSearchResults summary ARD simple ihdp\n",
      "\ttest score:\t0.5564596977895747\n",
      "\ttrain score:0.7174340703816985\n",
      "\tyf score:\t0.7230858128688201\n",
      "\tycf score:\t0.6696308622344906\n",
      "\tt0 score:\t0.49420677538586866\n",
      "\tt1 score:\t-0.0880853724951618\n",
      "\tite score:\t-0.0008744474291235704\n",
      "\tabs ATE:\t0.02540628505630016\n",
      "\tPEHE:   \t0.8595360866486239\n",
      "\tabs ATT:\t0.10410522166326874\n",
      "\tp. risk:\t-5.4930213795885985\n",
      "\n",
      "--- 3/3 END ---\n",
      "CPU times: total: 26.1 s\n",
      "Wall time: 13min 13s\n"
     ]
    }
   ],
   "source": [
    "%%time\n",
    "\n",
    "ard_iter: List[int] = [200, 250, 300]\n",
    "ard_tol: List[float] = [1e-2, 1e-3, 1e-4]\n",
    "ard_alpha_lambda: List[float] = [1e-5, 1e-6, 1e-7]\n",
    "ard_thresh_lambda: List[float] = [1e3, 1e4, 1e5]\n",
    "\n",
    "\n",
    "\n",
    "ard_simple_searched: List[\n",
    "    slearner.SimpleHalvingGridSearchResults\n",
    "] = slearner.simple_halving_grid_searcher(\n",
    "    ARDRegression(),\n",
    "    {\n",
    "        #\"regressor__n_iter\": ard_iter,\n",
    "        \"estimator__tol\": ard_tol,\n",
    "        \"estimator__alpha_1\" : ard_alpha_lambda,\n",
    "        \"estimator__alpha_2\" : ard_alpha_lambda,\n",
    "        \"estimator__lambda_1\" : ard_alpha_lambda,\n",
    "        \"estimator__lambda_2\" : ard_alpha_lambda,\n",
    "        \"estimator__threshold_lambda\": ard_thresh_lambda\n",
    "    },\n",
    "    df_m=dfm,\n",
    "    df_selection=df_utils.DatasetEnum.FACTUAL,\n",
    "    learner_name=\"ARD simple\",\n",
    "    kfold_splits=10,\n",
    "    scorer_to_use=slearner.r2_score_id(),\n",
    "    stratify_on=[\"t\"],\n",
    "    resource=\"estimator__n_iter\",\n",
    "    resource_param_values=ard_iter\n",
    ")"
   ],
   "metadata": {
    "collapsed": false,
    "pycharm": {
     "name": "#%%\n"
    }
   }
  },
  {
   "cell_type": "code",
   "execution_count": 20,
   "outputs": [],
   "source": [
    "\n",
    "ard_simple_best: slearner.SimpleHalvingGridSearchResults = max(\n",
    "    ard_simple_searched\n",
    ")\n",
    "\n",
    "\n"
   ],
   "metadata": {
    "collapsed": false,
    "pycharm": {
     "name": "#%%\n"
    }
   }
  },
  {
   "cell_type": "code",
   "execution_count": 21,
   "outputs": [
    {
     "name": "stdout",
     "output_type": "stream",
     "text": [
      "GridSearchResults summary ARD simple ihdp\n",
      "\ttest score:\t0.5564596977895747\n",
      "\ttrain score:0.7174340703816985\n",
      "\tyf score:\t0.7230858128688201\n",
      "\tycf score:\t0.6696308622344906\n",
      "\tt0 score:\t0.49420677538586866\n",
      "\tt1 score:\t-0.0880853724951618\n",
      "\tite score:\t-0.0008744474291235704\n",
      "\tabs ATE:\t0.02540628505630016\n",
      "\tPEHE:   \t0.8595360866486239\n",
      "\tabs ATT:\t0.10410522166326874\n",
      "\tp. risk:\t-5.4930213795885985\n",
      "\tbest params:\n",
      "\t\testimator__alpha_1 : 1e-07\n",
      "\t\testimator__alpha_2 : 1e-05\n",
      "\t\testimator__lambda_1 : 1e-05\n",
      "\t\testimator__lambda_2 : 1e-05\n",
      "\t\testimator__threshold_lambda : 10000.0\n",
      "\t\testimator__tol : 0.01\n",
      "\t\testimator__n_iter : 14\n"
     ]
    },
    {
     "data": {
      "text/plain": "PPipeline(steps=[('scaler', QuantileTransformer(output_distribution='normal')),\n                 ('imputer', KNNImputer(weights='distance')),\n                 ('estimator',\n                  ARDRegression(alpha_1=1e-07, alpha_2=1e-05, lambda_1=1e-05,\n                                lambda_2=1e-05, n_iter=14, tol=0.01))])",
      "text/html": "<style>#sk-6c6b268e-ab0c-429b-a6fc-4fc2fb988895 {color: black;background-color: white;}#sk-6c6b268e-ab0c-429b-a6fc-4fc2fb988895 pre{padding: 0;}#sk-6c6b268e-ab0c-429b-a6fc-4fc2fb988895 div.sk-toggleable {background-color: white;}#sk-6c6b268e-ab0c-429b-a6fc-4fc2fb988895 label.sk-toggleable__label {cursor: pointer;display: block;width: 100%;margin-bottom: 0;padding: 0.3em;box-sizing: border-box;text-align: center;}#sk-6c6b268e-ab0c-429b-a6fc-4fc2fb988895 label.sk-toggleable__label-arrow:before {content: \"▸\";float: left;margin-right: 0.25em;color: #696969;}#sk-6c6b268e-ab0c-429b-a6fc-4fc2fb988895 label.sk-toggleable__label-arrow:hover:before {color: black;}#sk-6c6b268e-ab0c-429b-a6fc-4fc2fb988895 div.sk-estimator:hover label.sk-toggleable__label-arrow:before {color: black;}#sk-6c6b268e-ab0c-429b-a6fc-4fc2fb988895 div.sk-toggleable__content {max-height: 0;max-width: 0;overflow: hidden;text-align: left;background-color: #f0f8ff;}#sk-6c6b268e-ab0c-429b-a6fc-4fc2fb988895 div.sk-toggleable__content pre {margin: 0.2em;color: black;border-radius: 0.25em;background-color: #f0f8ff;}#sk-6c6b268e-ab0c-429b-a6fc-4fc2fb988895 input.sk-toggleable__control:checked~div.sk-toggleable__content {max-height: 200px;max-width: 100%;overflow: auto;}#sk-6c6b268e-ab0c-429b-a6fc-4fc2fb988895 input.sk-toggleable__control:checked~label.sk-toggleable__label-arrow:before {content: \"▾\";}#sk-6c6b268e-ab0c-429b-a6fc-4fc2fb988895 div.sk-estimator input.sk-toggleable__control:checked~label.sk-toggleable__label {background-color: #d4ebff;}#sk-6c6b268e-ab0c-429b-a6fc-4fc2fb988895 div.sk-label input.sk-toggleable__control:checked~label.sk-toggleable__label {background-color: #d4ebff;}#sk-6c6b268e-ab0c-429b-a6fc-4fc2fb988895 input.sk-hidden--visually {border: 0;clip: rect(1px 1px 1px 1px);clip: rect(1px, 1px, 1px, 1px);height: 1px;margin: -1px;overflow: hidden;padding: 0;position: absolute;width: 1px;}#sk-6c6b268e-ab0c-429b-a6fc-4fc2fb988895 div.sk-estimator {font-family: monospace;background-color: #f0f8ff;border: 1px dotted black;border-radius: 0.25em;box-sizing: border-box;margin-bottom: 0.5em;}#sk-6c6b268e-ab0c-429b-a6fc-4fc2fb988895 div.sk-estimator:hover {background-color: #d4ebff;}#sk-6c6b268e-ab0c-429b-a6fc-4fc2fb988895 div.sk-parallel-item::after {content: \"\";width: 100%;border-bottom: 1px solid gray;flex-grow: 1;}#sk-6c6b268e-ab0c-429b-a6fc-4fc2fb988895 div.sk-label:hover label.sk-toggleable__label {background-color: #d4ebff;}#sk-6c6b268e-ab0c-429b-a6fc-4fc2fb988895 div.sk-serial::before {content: \"\";position: absolute;border-left: 1px solid gray;box-sizing: border-box;top: 2em;bottom: 0;left: 50%;}#sk-6c6b268e-ab0c-429b-a6fc-4fc2fb988895 div.sk-serial {display: flex;flex-direction: column;align-items: center;background-color: white;padding-right: 0.2em;padding-left: 0.2em;}#sk-6c6b268e-ab0c-429b-a6fc-4fc2fb988895 div.sk-item {z-index: 1;}#sk-6c6b268e-ab0c-429b-a6fc-4fc2fb988895 div.sk-parallel {display: flex;align-items: stretch;justify-content: center;background-color: white;}#sk-6c6b268e-ab0c-429b-a6fc-4fc2fb988895 div.sk-parallel::before {content: \"\";position: absolute;border-left: 1px solid gray;box-sizing: border-box;top: 2em;bottom: 0;left: 50%;}#sk-6c6b268e-ab0c-429b-a6fc-4fc2fb988895 div.sk-parallel-item {display: flex;flex-direction: column;position: relative;background-color: white;}#sk-6c6b268e-ab0c-429b-a6fc-4fc2fb988895 div.sk-parallel-item:first-child::after {align-self: flex-end;width: 50%;}#sk-6c6b268e-ab0c-429b-a6fc-4fc2fb988895 div.sk-parallel-item:last-child::after {align-self: flex-start;width: 50%;}#sk-6c6b268e-ab0c-429b-a6fc-4fc2fb988895 div.sk-parallel-item:only-child::after {width: 0;}#sk-6c6b268e-ab0c-429b-a6fc-4fc2fb988895 div.sk-dashed-wrapped {border: 1px dashed gray;margin: 0 0.4em 0.5em 0.4em;box-sizing: border-box;padding-bottom: 0.4em;background-color: white;position: relative;}#sk-6c6b268e-ab0c-429b-a6fc-4fc2fb988895 div.sk-label label {font-family: monospace;font-weight: bold;background-color: white;display: inline-block;line-height: 1.2em;}#sk-6c6b268e-ab0c-429b-a6fc-4fc2fb988895 div.sk-label-container {position: relative;z-index: 2;text-align: center;}#sk-6c6b268e-ab0c-429b-a6fc-4fc2fb988895 div.sk-container {/* jupyter's `normalize.less` sets `[hidden] { display: none; }` but bootstrap.min.css set `[hidden] { display: none !important; }` so we also need the `!important` here to be able to override the default hidden behavior on the sphinx rendered scikit-learn.org. See: https://github.com/scikit-learn/scikit-learn/issues/21755 */display: inline-block !important;position: relative;}#sk-6c6b268e-ab0c-429b-a6fc-4fc2fb988895 div.sk-text-repr-fallback {display: none;}</style><div id=\"sk-6c6b268e-ab0c-429b-a6fc-4fc2fb988895\" class=\"sk-top-container\"><div class=\"sk-text-repr-fallback\"><pre>PPipeline(steps=[(&#x27;scaler&#x27;, QuantileTransformer(output_distribution=&#x27;normal&#x27;)),\n                 (&#x27;imputer&#x27;, KNNImputer(weights=&#x27;distance&#x27;)),\n                 (&#x27;estimator&#x27;,\n                  ARDRegression(alpha_1=1e-07, alpha_2=1e-05, lambda_1=1e-05,\n                                lambda_2=1e-05, n_iter=14, tol=0.01))])</pre><b>Please rerun this cell to show the HTML repr or trust the notebook.</b></div><div class=\"sk-container\" hidden><div class=\"sk-item sk-dashed-wrapped\"><div class=\"sk-label-container\"><div class=\"sk-label sk-toggleable\"><input class=\"sk-toggleable__control sk-hidden--visually\" id=\"71d723dc-d6ce-4f19-bf60-169f2f7d781a\" type=\"checkbox\" ><label for=\"71d723dc-d6ce-4f19-bf60-169f2f7d781a\" class=\"sk-toggleable__label sk-toggleable__label-arrow\">PPipeline</label><div class=\"sk-toggleable__content\"><pre>PPipeline(steps=[(&#x27;scaler&#x27;, QuantileTransformer(output_distribution=&#x27;normal&#x27;)),\n                 (&#x27;imputer&#x27;, KNNImputer(weights=&#x27;distance&#x27;)),\n                 (&#x27;estimator&#x27;,\n                  ARDRegression(alpha_1=1e-07, alpha_2=1e-05, lambda_1=1e-05,\n                                lambda_2=1e-05, n_iter=14, tol=0.01))])</pre></div></div></div><div class=\"sk-serial\"><div class=\"sk-item\"><div class=\"sk-estimator sk-toggleable\"><input class=\"sk-toggleable__control sk-hidden--visually\" id=\"dbb7fb1c-29be-4379-8785-4c266a7b6a0d\" type=\"checkbox\" ><label for=\"dbb7fb1c-29be-4379-8785-4c266a7b6a0d\" class=\"sk-toggleable__label sk-toggleable__label-arrow\">QuantileTransformer</label><div class=\"sk-toggleable__content\"><pre>QuantileTransformer(output_distribution=&#x27;normal&#x27;)</pre></div></div></div><div class=\"sk-item\"><div class=\"sk-estimator sk-toggleable\"><input class=\"sk-toggleable__control sk-hidden--visually\" id=\"339ecbdd-000c-4867-b517-480727d9e04b\" type=\"checkbox\" ><label for=\"339ecbdd-000c-4867-b517-480727d9e04b\" class=\"sk-toggleable__label sk-toggleable__label-arrow\">KNNImputer</label><div class=\"sk-toggleable__content\"><pre>KNNImputer(weights=&#x27;distance&#x27;)</pre></div></div></div><div class=\"sk-item\"><div class=\"sk-estimator sk-toggleable\"><input class=\"sk-toggleable__control sk-hidden--visually\" id=\"abceb418-8c03-4d1d-8dd7-4bd1c1162f46\" type=\"checkbox\" ><label for=\"abceb418-8c03-4d1d-8dd7-4bd1c1162f46\" class=\"sk-toggleable__label sk-toggleable__label-arrow\">ARDRegression</label><div class=\"sk-toggleable__content\"><pre>ARDRegression(alpha_1=1e-07, alpha_2=1e-05, lambda_1=1e-05, lambda_2=1e-05,\n              n_iter=14, tol=0.01)</pre></div></div></div></div></div></div></div>"
     },
     "execution_count": 21,
     "metadata": {},
     "output_type": "execute_result"
    }
   ],
   "source": [
    "\n",
    "print(ard_simple_best.info)\n",
    "\n",
    "\n",
    "ard_simple_best.best_estimator_\n"
   ],
   "metadata": {
    "collapsed": false,
    "pycharm": {
     "name": "#%%\n"
    }
   }
  },
  {
   "cell_type": "code",
   "execution_count": 22,
   "outputs": [
    {
     "name": "stdout",
     "output_type": "stream",
     "text": [
      "Pickling results to: D:\\PycharmProjects\\ce888\\project\\assignment2\\ihdp\\ihdp ARD simple results.pickle\n",
      "pickled results!\n",
      "Pickling simple estimator to D:\\PycharmProjects\\ce888\\project\\assignment2\\ihdp\\ihdp ARD simple estimator.pickle\n",
      "pickled estimator!\n"
     ]
    }
   ],
   "source": [
    "ard_simple_best.save_me()"
   ],
   "metadata": {
    "collapsed": false,
    "pycharm": {
     "name": "#%%\n"
    }
   }
  },
  {
   "cell_type": "code",
   "execution_count": 23,
   "outputs": [
    {
     "data": {
      "text/plain": "<Figure size 1152x1296 with 2 Axes>",
      "image/png": "[encoded data removed]"
     },
     "metadata": {
      "needs_background": "light"
     },
     "output_type": "display_data"
    }
   ],
   "source": [
    "ard_simple_best.importance_plotter().show()"
   ],
   "metadata": {
    "collapsed": false,
    "pycharm": {
     "name": "#%%\n"
    }
   }
  },
  {
   "cell_type": "code",
   "execution_count": 24,
   "outputs": [
    {
     "name": "stdout",
     "output_type": "stream",
     "text": [
      "-- 10-fold attempt 1/3 start --\n",
      "max: 25, min: 1, factor: 5\n",
      "n_iterations: 3\n",
      "n_required_iterations: 3\n",
      "n_possible_iterations: 3\n",
      "min_resources_: 1\n",
      "max_resources_: 25\n",
      "aggressive_elimination: True\n",
      "factor: 5\n",
      "----------\n",
      "iter: 0\n",
      "n_candidates: 60\n",
      "n_resources: 1\n",
      "Fitting 10 folds for each of 60 candidates, totalling 600 fits\n",
      "----------\n",
      "iter: 1\n",
      "n_candidates: 12\n",
      "n_resources: 5\n",
      "Fitting 10 folds for each of 12 candidates, totalling 120 fits\n",
      "----------\n",
      "iter: 2\n",
      "n_candidates: 3\n",
      "n_resources: 25\n",
      "Fitting 10 folds for each of 3 candidates, totalling 30 fits\n",
      "best from this iteration: \n",
      "GridSearchResults summary Adaboost Random Forest simple ihdp\n",
      "\ttest score:\t0.6696844893397821\n",
      "\ttrain score:0.7703717269819641\n",
      "\tyf score:\t0.8748531405520765\n",
      "\tycf score:\t0.6752759087596638\n",
      "\tt0 score:\t0.7311138489830085\n",
      "\tt1 score:\t0.02657182946374992\n",
      "\tite score:\t0.3029764048683671\n",
      "\tabs ATE:\t0.10685223090550489\n",
      "\tPEHE:   \t0.7172954133017955\n",
      "\tabs ATT:\t0.06534313729208385\n",
      "\tp. risk:\t-5.419876351399849\n",
      "\n",
      "--- 1/3 END ---\n",
      "-- 10-fold attempt 2/3 start --\n",
      "max: 50, min: 7, factor: 8\n",
      "n_iterations: 2\n",
      "n_required_iterations: 2\n",
      "n_possible_iterations: 1\n",
      "min_resources_: 7\n",
      "max_resources_: 50\n",
      "aggressive_elimination: True\n",
      "factor: 8\n",
      "----------\n",
      "iter: 0\n",
      "n_candidates: 60\n",
      "n_resources: 7\n",
      "Fitting 10 folds for each of 60 candidates, totalling 600 fits\n",
      "----------\n",
      "iter: 1\n",
      "n_candidates: 8\n",
      "n_resources: 7\n",
      "Fitting 10 folds for each of 8 candidates, totalling 80 fits\n",
      "best from this iteration: \n",
      "GridSearchResults summary Adaboost Random Forest simple ihdp\n",
      "\ttest score:\t0.6835907696773376\n",
      "\ttrain score:0.777358599228676\n",
      "\tyf score:\t0.8221539361584975\n",
      "\tycf score:\t0.6855927246639444\n",
      "\tt0 score:\t0.648582602256317\n",
      "\tt1 score:\t0.026955438490621764\n",
      "\tite score:\t0.4995301269612943\n",
      "\tabs ATE:\t0.10863030522647055\n",
      "\tPEHE:   \t0.6078036216134358\n",
      "\tabs ATT:\t0.081658423014622\n",
      "\tp. risk:\t-5.422438739818927\n",
      "\n",
      "--- 2/3 END ---\n",
      "-- 10-fold attempt 3/3 start --\n",
      "max: 75, min: 9, factor: 9\n",
      "n_iterations: 2\n",
      "n_required_iterations: 2\n",
      "n_possible_iterations: 1\n",
      "min_resources_: 9\n",
      "max_resources_: 75\n",
      "aggressive_elimination: True\n",
      "factor: 9\n",
      "----------\n",
      "iter: 0\n",
      "n_candidates: 60\n",
      "n_resources: 9\n",
      "Fitting 10 folds for each of 60 candidates, totalling 600 fits\n",
      "----------\n",
      "iter: 1\n",
      "n_candidates: 7\n",
      "n_resources: 9\n",
      "Fitting 10 folds for each of 7 candidates, totalling 70 fits\n",
      "best from this iteration: \n",
      "GridSearchResults summary Adaboost Random Forest simple ihdp\n",
      "\ttest score:\t0.6838205655812173\n",
      "\ttrain score:0.7779053007254614\n",
      "\tyf score:\t0.8347719371158735\n",
      "\tycf score:\t0.6905638729322461\n",
      "\tt0 score:\t0.6670016195409187\n",
      "\tt1 score:\t0.053703358902903675\n",
      "\tite score:\t0.5544920428111008\n",
      "\tabs ATE:\t0.07968027359968488\n",
      "\tPEHE:   \t0.5734585689043596\n",
      "\tabs ATT:\t0.08769904051034771\n",
      "\tp. risk:\t-5.435320580637387\n",
      "\n",
      "--- 3/3 END ---\n",
      "CPU times: total: 20 s\n",
      "Wall time: 6min 12s\n"
     ]
    }
   ],
   "source": [
    "%%time\n",
    "\n",
    "adaboost_estimators: List[int] = [25, 50, 75]\n",
    "adaboost_learn_rate: List[float] = [0.8, 0.9, 1.0, 1.1, 1.2]\n",
    "adaboost_loss: List[str]= [\"linear\", \"square\", \"exponential\"]\n",
    "\n",
    "ada_rf_simple_searched: List[\n",
    "    slearner.SimpleHalvingGridSearchResults\n",
    "] = slearner.simple_halving_grid_searcher(\n",
    "    AdaBoostRegressor(\n",
    "        random_state = seed()\n",
    "    ),\n",
    "    {\n",
    "        #\"regressor__base_estimator\": [\n",
    "        #    Pipeline(\n",
    "        #        steps = [i for i in rf.best_estimator_.named_steps.items()]\n",
    "        #    ) for rf in random_forest_searched_dict.keys()\n",
    "        #],\n",
    "        #\"regressor__n_estimators\": adaboost_estimators,\n",
    "        \"estimator__learning_rate\": adaboost_learn_rate,\n",
    "        \"estimator__loss\": adaboost_loss,\n",
    "        \"estimator__base_estimator\": [\n",
    "            pl.clone_best_final_estimator for pl in rf_simple_searched\n",
    "        ]\n",
    "    },\n",
    "    df_m=dfm,\n",
    "    df_selection=df_utils.DatasetEnum.FACTUAL,\n",
    "    learner_name=\"Adaboost Random Forest simple\",\n",
    "    kfold_splits=10,\n",
    "    scorer_to_use=slearner.r2_score_id(),\n",
    "    stratify_on=[\"t\"],\n",
    "    resource=\"estimator__n_estimators\",\n",
    "    resource_param_values=adaboost_estimators,\n",
    ")"
   ],
   "metadata": {
    "collapsed": false,
    "pycharm": {
     "name": "#%%\n"
    }
   }
  },
  {
   "cell_type": "code",
   "execution_count": 25,
   "outputs": [],
   "source": [
    "\n",
    "ada_rf_simple_best: slearner.SimpleHalvingGridSearchResults = max(\n",
    "    ada_rf_simple_searched\n",
    ")\n",
    "\n"
   ],
   "metadata": {
    "collapsed": false,
    "pycharm": {
     "name": "#%%\n"
    }
   }
  },
  {
   "cell_type": "code",
   "execution_count": 26,
   "outputs": [
    {
     "name": "stdout",
     "output_type": "stream",
     "text": [
      "GridSearchResults summary Adaboost Random Forest simple ihdp\n",
      "\ttest score:\t0.6838205655812173\n",
      "\ttrain score:0.7779053007254614\n",
      "\tyf score:\t0.8347719371158735\n",
      "\tycf score:\t0.6905638729322461\n",
      "\tt0 score:\t0.6670016195409187\n",
      "\tt1 score:\t0.053703358902903675\n",
      "\tite score:\t0.5544920428111008\n",
      "\tabs ATE:\t0.07968027359968488\n",
      "\tPEHE:   \t0.5734585689043596\n",
      "\tabs ATT:\t0.08769904051034771\n",
      "\tp. risk:\t-5.435320580637387\n",
      "\tbest params:\n",
      "\t\testimator__base_estimator : RandomForestRegressor(ccp_alpha=0.0005253055608807533, max_features=None,\n",
      "                      min_impurity_decrease=0.027594593229224307,\n",
      "                      min_samples_split=4, n_estimators=14, random_state=42)\n",
      "\t\testimator__learning_rate : 0.8\n",
      "\t\testimator__loss : exponential\n",
      "\t\testimator__n_estimators : 9\n"
     ]
    },
    {
     "data": {
      "text/plain": "PPipeline(steps=[('scaler', QuantileTransformer(output_distribution='normal')),\n                 ('imputer', KNNImputer(weights='distance')),\n                 ('estimator',\n                  AdaBoostRegressor(base_estimator=RandomForestRegressor(ccp_alpha=0.0005253055608807533,\n                                                                         max_features=None,\n                                                                         min_impurity_decrease=0.027594593229224307,\n                                                                         min_samples_split=4,\n                                                                         n_estimators=14,\n                                                                         random_state=42),\n                                    learning_rate=0.8, loss='exponential',\n                                    n_estimators=9, random_state=42))])",
      "text/html": "<style>#sk-f0cc2305-bcac-47e4-b6c8-46f9229ed4e4 {color: black;background-color: white;}#sk-f0cc2305-bcac-47e4-b6c8-46f9229ed4e4 pre{padding: 0;}#sk-f0cc2305-bcac-47e4-b6c8-46f9229ed4e4 div.sk-toggleable {background-color: white;}#sk-f0cc2305-bcac-47e4-b6c8-46f9229ed4e4 label.sk-toggleable__label {cursor: pointer;display: block;width: 100%;margin-bottom: 0;padding: 0.3em;box-sizing: border-box;text-align: center;}#sk-f0cc2305-bcac-47e4-b6c8-46f9229ed4e4 label.sk-toggleable__label-arrow:before {content: \"▸\";float: left;margin-right: 0.25em;color: #696969;}#sk-f0cc2305-bcac-47e4-b6c8-46f9229ed4e4 label.sk-toggleable__label-arrow:hover:before {color: black;}#sk-f0cc2305-bcac-47e4-b6c8-46f9229ed4e4 div.sk-estimator:hover label.sk-toggleable__label-arrow:before {color: black;}#sk-f0cc2305-bcac-47e4-b6c8-46f9229ed4e4 div.sk-toggleable__content {max-height: 0;max-width: 0;overflow: hidden;text-align: left;background-color: #f0f8ff;}#sk-f0cc2305-bcac-47e4-b6c8-46f9229ed4e4 div.sk-toggleable__content pre {margin: 0.2em;color: black;border-radius: 0.25em;background-color: #f0f8ff;}#sk-f0cc2305-bcac-47e4-b6c8-46f9229ed4e4 input.sk-toggleable__control:checked~div.sk-toggleable__content {max-height: 200px;max-width: 100%;overflow: auto;}#sk-f0cc2305-bcac-47e4-b6c8-46f9229ed4e4 input.sk-toggleable__control:checked~label.sk-toggleable__label-arrow:before {content: \"▾\";}#sk-f0cc2305-bcac-47e4-b6c8-46f9229ed4e4 div.sk-estimator input.sk-toggleable__control:checked~label.sk-toggleable__label {background-color: #d4ebff;}#sk-f0cc2305-bcac-47e4-b6c8-46f9229ed4e4 div.sk-label input.sk-toggleable__control:checked~label.sk-toggleable__label {background-color: #d4ebff;}#sk-f0cc2305-bcac-47e4-b6c8-46f9229ed4e4 input.sk-hidden--visually {border: 0;clip: rect(1px 1px 1px 1px);clip: rect(1px, 1px, 1px, 1px);height: 1px;margin: -1px;overflow: hidden;padding: 0;position: absolute;width: 1px;}#sk-f0cc2305-bcac-47e4-b6c8-46f9229ed4e4 div.sk-estimator {font-family: monospace;background-color: #f0f8ff;border: 1px dotted black;border-radius: 0.25em;box-sizing: border-box;margin-bottom: 0.5em;}#sk-f0cc2305-bcac-47e4-b6c8-46f9229ed4e4 div.sk-estimator:hover {background-color: #d4ebff;}#sk-f0cc2305-bcac-47e4-b6c8-46f9229ed4e4 div.sk-parallel-item::after {content: \"\";width: 100%;border-bottom: 1px solid gray;flex-grow: 1;}#sk-f0cc2305-bcac-47e4-b6c8-46f9229ed4e4 div.sk-label:hover label.sk-toggleable__label {background-color: #d4ebff;}#sk-f0cc2305-bcac-47e4-b6c8-46f9229ed4e4 div.sk-serial::before {content: \"\";position: absolute;border-left: 1px solid gray;box-sizing: border-box;top: 2em;bottom: 0;left: 50%;}#sk-f0cc2305-bcac-47e4-b6c8-46f9229ed4e4 div.sk-serial {display: flex;flex-direction: column;align-items: center;background-color: white;padding-right: 0.2em;padding-left: 0.2em;}#sk-f0cc2305-bcac-47e4-b6c8-46f9229ed4e4 div.sk-item {z-index: 1;}#sk-f0cc2305-bcac-47e4-b6c8-46f9229ed4e4 div.sk-parallel {display: flex;align-items: stretch;justify-content: center;background-color: white;}#sk-f0cc2305-bcac-47e4-b6c8-46f9229ed4e4 div.sk-parallel::before {content: \"\";position: absolute;border-left: 1px solid gray;box-sizing: border-box;top: 2em;bottom: 0;left: 50%;}#sk-f0cc2305-bcac-47e4-b6c8-46f9229ed4e4 div.sk-parallel-item {display: flex;flex-direction: column;position: relative;background-color: white;}#sk-f0cc2305-bcac-47e4-b6c8-46f9229ed4e4 div.sk-parallel-item:first-child::after {align-self: flex-end;width: 50%;}#sk-f0cc2305-bcac-47e4-b6c8-46f9229ed4e4 div.sk-parallel-item:last-child::after {align-self: flex-start;width: 50%;}#sk-f0cc2305-bcac-47e4-b6c8-46f9229ed4e4 div.sk-parallel-item:only-child::after {width: 0;}#sk-f0cc2305-bcac-47e4-b6c8-46f9229ed4e4 div.sk-dashed-wrapped {border: 1px dashed gray;margin: 0 0.4em 0.5em 0.4em;box-sizing: border-box;padding-bottom: 0.4em;background-color: white;position: relative;}#sk-f0cc2305-bcac-47e4-b6c8-46f9229ed4e4 div.sk-label label {font-family: monospace;font-weight: bold;background-color: white;display: inline-block;line-height: 1.2em;}#sk-f0cc2305-bcac-47e4-b6c8-46f9229ed4e4 div.sk-label-container {position: relative;z-index: 2;text-align: center;}#sk-f0cc2305-bcac-47e4-b6c8-46f9229ed4e4 div.sk-container {/* jupyter's `normalize.less` sets `[hidden] { display: none; }` but bootstrap.min.css set `[hidden] { display: none !important; }` so we also need the `!important` here to be able to override the default hidden behavior on the sphinx rendered scikit-learn.org. See: https://github.com/scikit-learn/scikit-learn/issues/21755 */display: inline-block !important;position: relative;}#sk-f0cc2305-bcac-47e4-b6c8-46f9229ed4e4 div.sk-text-repr-fallback {display: none;}</style><div id=\"sk-f0cc2305-bcac-47e4-b6c8-46f9229ed4e4\" class=\"sk-top-container\"><div class=\"sk-text-repr-fallback\"><pre>PPipeline(steps=[(&#x27;scaler&#x27;, QuantileTransformer(output_distribution=&#x27;normal&#x27;)),\n                 (&#x27;imputer&#x27;, KNNImputer(weights=&#x27;distance&#x27;)),\n                 (&#x27;estimator&#x27;,\n                  AdaBoostRegressor(base_estimator=RandomForestRegressor(ccp_alpha=0.0005253055608807533,\n                                                                         max_features=None,\n                                                                         min_impurity_decrease=0.027594593229224307,\n                                                                         min_samples_split=4,\n                                                                         n_estimators=14,\n                                                                         random_state=42),\n                                    learning_rate=0.8, loss=&#x27;exponential&#x27;,\n                                    n_estimators=9, random_state=42))])</pre><b>Please rerun this cell to show the HTML repr or trust the notebook.</b></div><div class=\"sk-container\" hidden><div class=\"sk-item sk-dashed-wrapped\"><div class=\"sk-label-container\"><div class=\"sk-label sk-toggleable\"><input class=\"sk-toggleable__control sk-hidden--visually\" id=\"157a582d-39b4-402c-8dbd-15b4cf6c0137\" type=\"checkbox\" ><label for=\"157a582d-39b4-402c-8dbd-15b4cf6c0137\" class=\"sk-toggleable__label sk-toggleable__label-arrow\">PPipeline</label><div class=\"sk-toggleable__content\"><pre>PPipeline(steps=[(&#x27;scaler&#x27;, QuantileTransformer(output_distribution=&#x27;normal&#x27;)),\n                 (&#x27;imputer&#x27;, KNNImputer(weights=&#x27;distance&#x27;)),\n                 (&#x27;estimator&#x27;,\n                  AdaBoostRegressor(base_estimator=RandomForestRegressor(ccp_alpha=0.0005253055608807533,\n                                                                         max_features=None,\n                                                                         min_impurity_decrease=0.027594593229224307,\n                                                                         min_samples_split=4,\n                                                                         n_estimators=14,\n                                                                         random_state=42),\n                                    learning_rate=0.8, loss=&#x27;exponential&#x27;,\n                                    n_estimators=9, random_state=42))])</pre></div></div></div><div class=\"sk-serial\"><div class=\"sk-item\"><div class=\"sk-estimator sk-toggleable\"><input class=\"sk-toggleable__control sk-hidden--visually\" id=\"748cea24-e020-41d3-b214-f19eeb5ce0c6\" type=\"checkbox\" ><label for=\"748cea24-e020-41d3-b214-f19eeb5ce0c6\" class=\"sk-toggleable__label sk-toggleable__label-arrow\">QuantileTransformer</label><div class=\"sk-toggleable__content\"><pre>QuantileTransformer(output_distribution=&#x27;normal&#x27;)</pre></div></div></div><div class=\"sk-item\"><div class=\"sk-estimator sk-toggleable\"><input class=\"sk-toggleable__control sk-hidden--visually\" id=\"585c7aeb-d583-46c2-9e9b-d9c9318f7469\" type=\"checkbox\" ><label for=\"585c7aeb-d583-46c2-9e9b-d9c9318f7469\" class=\"sk-toggleable__label sk-toggleable__label-arrow\">KNNImputer</label><div class=\"sk-toggleable__content\"><pre>KNNImputer(weights=&#x27;distance&#x27;)</pre></div></div></div><div class=\"sk-item sk-dashed-wrapped\"><div class=\"sk-label-container\"><div class=\"sk-label sk-toggleable\"><input class=\"sk-toggleable__control sk-hidden--visually\" id=\"4d4bda12-b7ff-40ea-99df-b59932460ae5\" type=\"checkbox\" ><label for=\"4d4bda12-b7ff-40ea-99df-b59932460ae5\" class=\"sk-toggleable__label sk-toggleable__label-arrow\">estimator: AdaBoostRegressor</label><div class=\"sk-toggleable__content\"><pre>AdaBoostRegressor(base_estimator=RandomForestRegressor(ccp_alpha=0.0005253055608807533,\n                                                       max_features=None,\n                                                       min_impurity_decrease=0.027594593229224307,\n                                                       min_samples_split=4,\n                                                       n_estimators=14,\n                                                       random_state=42),\n                  learning_rate=0.8, loss=&#x27;exponential&#x27;, n_estimators=9,\n                  random_state=42)</pre></div></div></div><div class=\"sk-parallel\"><div class=\"sk-parallel-item\"><div class=\"sk-item\"><div class=\"sk-serial\"><div class=\"sk-item\"><div class=\"sk-estimator sk-toggleable\"><input class=\"sk-toggleable__control sk-hidden--visually\" id=\"8e1d3cb7-a169-4296-abbc-8b56f21fea9f\" type=\"checkbox\" ><label for=\"8e1d3cb7-a169-4296-abbc-8b56f21fea9f\" class=\"sk-toggleable__label sk-toggleable__label-arrow\">RandomForestRegressor</label><div class=\"sk-toggleable__content\"><pre>RandomForestRegressor(ccp_alpha=0.0005253055608807533, max_features=None,\n                      min_impurity_decrease=0.027594593229224307,\n                      min_samples_split=4, n_estimators=14, random_state=42)</pre></div></div></div></div></div></div></div></div></div></div></div></div>"
     },
     "execution_count": 26,
     "metadata": {},
     "output_type": "execute_result"
    }
   ],
   "source": [
    "\n",
    "print(ada_rf_simple_best.info)\n",
    "\n",
    "\n",
    "\n",
    "ada_rf_simple_best.best_estimator_\n"
   ],
   "metadata": {
    "collapsed": false,
    "pycharm": {
     "name": "#%%\n"
    }
   }
  },
  {
   "cell_type": "code",
   "execution_count": 27,
   "outputs": [
    {
     "name": "stdout",
     "output_type": "stream",
     "text": [
      "Pickling results to: D:\\PycharmProjects\\ce888\\project\\assignment2\\ihdp\\ihdp Adaboost Random Forest simple results.pickle\n",
      "pickled results!\n",
      "Pickling simple estimator to D:\\PycharmProjects\\ce888\\project\\assignment2\\ihdp\\ihdp Adaboost Random Forest simple estimator.pickle\n",
      "pickled estimator!\n"
     ]
    }
   ],
   "source": [
    "ada_rf_simple_best.save_me()"
   ],
   "metadata": {
    "collapsed": false,
    "pycharm": {
     "name": "#%%\n"
    }
   }
  },
  {
   "cell_type": "code",
   "execution_count": 28,
   "outputs": [
    {
     "data": {
      "text/plain": "<Figure size 1152x1296 with 2 Axes>",
      "image/png": "[encoded data removed]"
     },
     "metadata": {
      "needs_background": "light"
     },
     "output_type": "display_data"
    }
   ],
   "source": [
    "ada_rf_simple_best.importance_plotter().show()"
   ],
   "metadata": {
    "collapsed": false,
    "pycharm": {
     "name": "#%%\n"
    }
   }
  },
  {
   "cell_type": "code",
   "execution_count": 29,
   "outputs": [
    {
     "name": "stdout",
     "output_type": "stream",
     "text": [
      "-- 10-fold attempt 1/3 start --\n",
      "max: 25, min: 1, factor: 5\n",
      "n_iterations: 3\n",
      "n_required_iterations: 3\n",
      "n_possible_iterations: 3\n",
      "min_resources_: 1\n",
      "max_resources_: 25\n",
      "aggressive_elimination: True\n",
      "factor: 5\n",
      "----------\n",
      "iter: 0\n",
      "n_candidates: 45\n",
      "n_resources: 1\n",
      "Fitting 10 folds for each of 45 candidates, totalling 450 fits\n",
      "----------\n",
      "iter: 1\n",
      "n_candidates: 9\n",
      "n_resources: 5\n",
      "Fitting 10 folds for each of 9 candidates, totalling 90 fits\n",
      "----------\n",
      "iter: 2\n",
      "n_candidates: 2\n",
      "n_resources: 25\n",
      "Fitting 10 folds for each of 2 candidates, totalling 20 fits\n",
      "best from this iteration: \n",
      "GridSearchResults summary Adaboost ARD simple ihdp\n",
      "\ttest score:\t0.5133558452799185\n",
      "\ttrain score:0.6952101322957912\n",
      "\tyf score:\t0.7101953478372818\n",
      "\tycf score:\t0.6493839296005738\n",
      "\tt0 score:\t0.47069014269167675\n",
      "\tt1 score:\t-0.15451103588315385\n",
      "\tite score:\t-0.03475054490480978\n",
      "\tabs ATE:\t0.1609403694064948\n",
      "\tPEHE:   \t0.8739611868540902\n",
      "\tabs ATT:\t0.10006695465986803\n",
      "\tp. risk:\t-5.484397363547609\n",
      "\n",
      "--- 1/3 END ---\n",
      "-- 10-fold attempt 2/3 start --\n",
      "max: 50, min: 7, factor: 8\n",
      "n_iterations: 2\n",
      "n_required_iterations: 2\n",
      "n_possible_iterations: 1\n",
      "min_resources_: 7\n",
      "max_resources_: 50\n",
      "aggressive_elimination: True\n",
      "factor: 8\n",
      "----------\n",
      "iter: 0\n",
      "n_candidates: 45\n",
      "n_resources: 7\n",
      "Fitting 10 folds for each of 45 candidates, totalling 450 fits\n",
      "----------\n",
      "iter: 1\n",
      "n_candidates: 6\n",
      "n_resources: 7\n",
      "Fitting 10 folds for each of 6 candidates, totalling 60 fits\n",
      "best from this iteration: \n",
      "GridSearchResults summary Adaboost ARD simple ihdp\n",
      "\ttest score:\t0.5255486992764248\n",
      "\ttrain score:0.7093472513204686\n",
      "\tyf score:\t0.7165702033736651\n",
      "\tycf score:\t0.656705158432112\n",
      "\tt0 score:\t0.484748523916014\n",
      "\tt1 score:\t-0.13544897516985777\n",
      "\tite score:\t-0.0004252961101625097\n",
      "\tabs ATE:\t0.12184449536201702\n",
      "\tPEHE:   \t0.859343202770986\n",
      "\tabs ATT:\t0.09551798951337886\n",
      "\tp. risk:\t-5.4832020535436\n",
      "\n",
      "--- 2/3 END ---\n",
      "-- 10-fold attempt 3/3 start --\n",
      "max: 75, min: 9, factor: 9\n",
      "n_iterations: 2\n",
      "n_required_iterations: 2\n",
      "n_possible_iterations: 1\n",
      "min_resources_: 9\n",
      "max_resources_: 75\n",
      "aggressive_elimination: True\n",
      "factor: 9\n",
      "----------\n",
      "iter: 0\n",
      "n_candidates: 45\n",
      "n_resources: 9\n",
      "Fitting 10 folds for each of 45 candidates, totalling 450 fits\n",
      "----------\n",
      "iter: 1\n",
      "n_candidates: 5\n",
      "n_resources: 9\n",
      "Fitting 10 folds for each of 5 candidates, totalling 50 fits\n",
      "best from this iteration: \n",
      "GridSearchResults summary Adaboost ARD simple ihdp\n",
      "\ttest score:\t0.5051404571412806\n",
      "\ttrain score:0.7041135993991192\n",
      "\tyf score:\t0.7117217014654749\n",
      "\tycf score:\t0.6517850286371816\n",
      "\tt0 score:\t0.47467461546232037\n",
      "\tt1 score:\t-0.14915293818383057\n",
      "\tite score:\t-0.0009990536722539467\n",
      "\tabs ATE:\t0.1307214562292427\n",
      "\tPEHE:   \t0.8595895899774114\n",
      "\tabs ATT:\t0.09178708366879373\n",
      "\tp. risk:\t-5.492108441315468\n",
      "\n",
      "--- 3/3 END ---\n",
      "CPU times: total: 2.56 s\n",
      "Wall time: 1min 7s\n"
     ]
    }
   ],
   "source": [
    "%%time\n",
    "\n",
    "ada_ard_simple_searched: List[\n",
    "    slearner.SimpleHalvingGridSearchResults\n",
    "] = slearner.simple_halving_grid_searcher(\n",
    "    AdaBoostRegressor(\n",
    "        random_state=seed()\n",
    "    ),\n",
    "    {\n",
    "        #\"regressor__base_estimator\": [\n",
    "        #    Pipeline(\n",
    "        #        steps = [i for i in ard.best_estimator_.named_steps.items()]\n",
    "        #    ) for ard in ard_searched_dict.keys()\n",
    "        #],\n",
    "        #\"regressor__n_estimators\": adaboost_estimators,\n",
    "        \"estimator__learning_rate\": adaboost_learn_rate,\n",
    "        \"estimator__loss\": adaboost_loss,\n",
    "        \"estimator__base_estimator\": [\n",
    "            pl.clone_best_final_estimator for pl in ard_simple_searched\n",
    "        ]\n",
    "    },\n",
    "    df_m=dfm,\n",
    "    df_selection=df_utils.DatasetEnum.FACTUAL,\n",
    "    learner_name=\"Adaboost ARD simple\",\n",
    "    kfold_splits=10,\n",
    "    scorer_to_use=slearner.r2_score_id(),\n",
    "    stratify_on=[\"t\"],\n",
    "    resource=\"estimator__n_estimators\",\n",
    "    resource_param_values=adaboost_estimators,\n",
    ")\n",
    "\n"
   ],
   "metadata": {
    "collapsed": false,
    "pycharm": {
     "name": "#%%\n"
    }
   }
  },
  {
   "cell_type": "code",
   "execution_count": 30,
   "outputs": [],
   "source": [
    "\n",
    "ada_ard_simple_best: slearner.SimpleHalvingGridSearchResults = max(\n",
    "    ada_ard_simple_searched\n",
    ")\n",
    "\n",
    "\n"
   ],
   "metadata": {
    "collapsed": false,
    "pycharm": {
     "name": "#%%\n"
    }
   }
  },
  {
   "cell_type": "code",
   "execution_count": 31,
   "outputs": [
    {
     "name": "stdout",
     "output_type": "stream",
     "text": [
      "GridSearchResults summary Adaboost ARD simple ihdp\n",
      "\ttest score:\t0.5255486992764248\n",
      "\ttrain score:0.7093472513204686\n",
      "\tyf score:\t0.7165702033736651\n",
      "\tycf score:\t0.656705158432112\n",
      "\tt0 score:\t0.484748523916014\n",
      "\tt1 score:\t-0.13544897516985777\n",
      "\tite score:\t-0.0004252961101625097\n",
      "\tabs ATE:\t0.12184449536201702\n",
      "\tPEHE:   \t0.859343202770986\n",
      "\tabs ATT:\t0.09551798951337886\n",
      "\tp. risk:\t-5.4832020535436\n",
      "\tbest params:\n",
      "\t\testimator__base_estimator : ARDRegression(alpha_1=1e-07, alpha_2=1e-05, lambda_1=1e-05, lambda_2=1e-05,\n",
      "              n_iter=17, tol=0.01)\n",
      "\t\testimator__learning_rate : 0.9\n",
      "\t\testimator__loss : exponential\n",
      "\t\testimator__n_estimators : 7\n"
     ]
    },
    {
     "data": {
      "text/plain": "PPipeline(steps=[('scaler', QuantileTransformer(output_distribution='normal')),\n                 ('imputer', KNNImputer(weights='distance')),\n                 ('estimator',\n                  AdaBoostRegressor(base_estimator=ARDRegression(alpha_1=1e-07,\n                                                                 alpha_2=1e-05,\n                                                                 lambda_1=1e-05,\n                                                                 lambda_2=1e-05,\n                                                                 n_iter=17,\n                                                                 tol=0.01),\n                                    learning_rate=0.9, loss='exponential',\n                                    n_estimators=7, random_state=42))])",
      "text/html": "<style>#sk-ac37fe0e-2649-44cc-8d67-2a1d0db5cf9a {color: black;background-color: white;}#sk-ac37fe0e-2649-44cc-8d67-2a1d0db5cf9a pre{padding: 0;}#sk-ac37fe0e-2649-44cc-8d67-2a1d0db5cf9a div.sk-toggleable {background-color: white;}#sk-ac37fe0e-2649-44cc-8d67-2a1d0db5cf9a label.sk-toggleable__label {cursor: pointer;display: block;width: 100%;margin-bottom: 0;padding: 0.3em;box-sizing: border-box;text-align: center;}#sk-ac37fe0e-2649-44cc-8d67-2a1d0db5cf9a label.sk-toggleable__label-arrow:before {content: \"▸\";float: left;margin-right: 0.25em;color: #696969;}#sk-ac37fe0e-2649-44cc-8d67-2a1d0db5cf9a label.sk-toggleable__label-arrow:hover:before {color: black;}#sk-ac37fe0e-2649-44cc-8d67-2a1d0db5cf9a div.sk-estimator:hover label.sk-toggleable__label-arrow:before {color: black;}#sk-ac37fe0e-2649-44cc-8d67-2a1d0db5cf9a div.sk-toggleable__content {max-height: 0;max-width: 0;overflow: hidden;text-align: left;background-color: #f0f8ff;}#sk-ac37fe0e-2649-44cc-8d67-2a1d0db5cf9a div.sk-toggleable__content pre {margin: 0.2em;color: black;border-radius: 0.25em;background-color: #f0f8ff;}#sk-ac37fe0e-2649-44cc-8d67-2a1d0db5cf9a input.sk-toggleable__control:checked~div.sk-toggleable__content {max-height: 200px;max-width: 100%;overflow: auto;}#sk-ac37fe0e-2649-44cc-8d67-2a1d0db5cf9a input.sk-toggleable__control:checked~label.sk-toggleable__label-arrow:before {content: \"▾\";}#sk-ac37fe0e-2649-44cc-8d67-2a1d0db5cf9a div.sk-estimator input.sk-toggleable__control:checked~label.sk-toggleable__label {background-color: #d4ebff;}#sk-ac37fe0e-2649-44cc-8d67-2a1d0db5cf9a div.sk-label input.sk-toggleable__control:checked~label.sk-toggleable__label {background-color: #d4ebff;}#sk-ac37fe0e-2649-44cc-8d67-2a1d0db5cf9a input.sk-hidden--visually {border: 0;clip: rect(1px 1px 1px 1px);clip: rect(1px, 1px, 1px, 1px);height: 1px;margin: -1px;overflow: hidden;padding: 0;position: absolute;width: 1px;}#sk-ac37fe0e-2649-44cc-8d67-2a1d0db5cf9a div.sk-estimator {font-family: monospace;background-color: #f0f8ff;border: 1px dotted black;border-radius: 0.25em;box-sizing: border-box;margin-bottom: 0.5em;}#sk-ac37fe0e-2649-44cc-8d67-2a1d0db5cf9a div.sk-estimator:hover {background-color: #d4ebff;}#sk-ac37fe0e-2649-44cc-8d67-2a1d0db5cf9a div.sk-parallel-item::after {content: \"\";width: 100%;border-bottom: 1px solid gray;flex-grow: 1;}#sk-ac37fe0e-2649-44cc-8d67-2a1d0db5cf9a div.sk-label:hover label.sk-toggleable__label {background-color: #d4ebff;}#sk-ac37fe0e-2649-44cc-8d67-2a1d0db5cf9a div.sk-serial::before {content: \"\";position: absolute;border-left: 1px solid gray;box-sizing: border-box;top: 2em;bottom: 0;left: 50%;}#sk-ac37fe0e-2649-44cc-8d67-2a1d0db5cf9a div.sk-serial {display: flex;flex-direction: column;align-items: center;background-color: white;padding-right: 0.2em;padding-left: 0.2em;}#sk-ac37fe0e-2649-44cc-8d67-2a1d0db5cf9a div.sk-item {z-index: 1;}#sk-ac37fe0e-2649-44cc-8d67-2a1d0db5cf9a div.sk-parallel {display: flex;align-items: stretch;justify-content: center;background-color: white;}#sk-ac37fe0e-2649-44cc-8d67-2a1d0db5cf9a div.sk-parallel::before {content: \"\";position: absolute;border-left: 1px solid gray;box-sizing: border-box;top: 2em;bottom: 0;left: 50%;}#sk-ac37fe0e-2649-44cc-8d67-2a1d0db5cf9a div.sk-parallel-item {display: flex;flex-direction: column;position: relative;background-color: white;}#sk-ac37fe0e-2649-44cc-8d67-2a1d0db5cf9a div.sk-parallel-item:first-child::after {align-self: flex-end;width: 50%;}#sk-ac37fe0e-2649-44cc-8d67-2a1d0db5cf9a div.sk-parallel-item:last-child::after {align-self: flex-start;width: 50%;}#sk-ac37fe0e-2649-44cc-8d67-2a1d0db5cf9a div.sk-parallel-item:only-child::after {width: 0;}#sk-ac37fe0e-2649-44cc-8d67-2a1d0db5cf9a div.sk-dashed-wrapped {border: 1px dashed gray;margin: 0 0.4em 0.5em 0.4em;box-sizing: border-box;padding-bottom: 0.4em;background-color: white;position: relative;}#sk-ac37fe0e-2649-44cc-8d67-2a1d0db5cf9a div.sk-label label {font-family: monospace;font-weight: bold;background-color: white;display: inline-block;line-height: 1.2em;}#sk-ac37fe0e-2649-44cc-8d67-2a1d0db5cf9a div.sk-label-container {position: relative;z-index: 2;text-align: center;}#sk-ac37fe0e-2649-44cc-8d67-2a1d0db5cf9a div.sk-container {/* jupyter's `normalize.less` sets `[hidden] { display: none; }` but bootstrap.min.css set `[hidden] { display: none !important; }` so we also need the `!important` here to be able to override the default hidden behavior on the sphinx rendered scikit-learn.org. See: https://github.com/scikit-learn/scikit-learn/issues/21755 */display: inline-block !important;position: relative;}#sk-ac37fe0e-2649-44cc-8d67-2a1d0db5cf9a div.sk-text-repr-fallback {display: none;}</style><div id=\"sk-ac37fe0e-2649-44cc-8d67-2a1d0db5cf9a\" class=\"sk-top-container\"><div class=\"sk-text-repr-fallback\"><pre>PPipeline(steps=[(&#x27;scaler&#x27;, QuantileTransformer(output_distribution=&#x27;normal&#x27;)),\n                 (&#x27;imputer&#x27;, KNNImputer(weights=&#x27;distance&#x27;)),\n                 (&#x27;estimator&#x27;,\n                  AdaBoostRegressor(base_estimator=ARDRegression(alpha_1=1e-07,\n                                                                 alpha_2=1e-05,\n                                                                 lambda_1=1e-05,\n                                                                 lambda_2=1e-05,\n                                                                 n_iter=17,\n                                                                 tol=0.01),\n                                    learning_rate=0.9, loss=&#x27;exponential&#x27;,\n                                    n_estimators=7, random_state=42))])</pre><b>Please rerun this cell to show the HTML repr or trust the notebook.</b></div><div class=\"sk-container\" hidden><div class=\"sk-item sk-dashed-wrapped\"><div class=\"sk-label-container\"><div class=\"sk-label sk-toggleable\"><input class=\"sk-toggleable__control sk-hidden--visually\" id=\"e75fd26d-0acb-4c95-aefb-3f88595fa858\" type=\"checkbox\" ><label for=\"e75fd26d-0acb-4c95-aefb-3f88595fa858\" class=\"sk-toggleable__label sk-toggleable__label-arrow\">PPipeline</label><div class=\"sk-toggleable__content\"><pre>PPipeline(steps=[(&#x27;scaler&#x27;, QuantileTransformer(output_distribution=&#x27;normal&#x27;)),\n                 (&#x27;imputer&#x27;, KNNImputer(weights=&#x27;distance&#x27;)),\n                 (&#x27;estimator&#x27;,\n                  AdaBoostRegressor(base_estimator=ARDRegression(alpha_1=1e-07,\n                                                                 alpha_2=1e-05,\n                                                                 lambda_1=1e-05,\n                                                                 lambda_2=1e-05,\n                                                                 n_iter=17,\n                                                                 tol=0.01),\n                                    learning_rate=0.9, loss=&#x27;exponential&#x27;,\n                                    n_estimators=7, random_state=42))])</pre></div></div></div><div class=\"sk-serial\"><div class=\"sk-item\"><div class=\"sk-estimator sk-toggleable\"><input class=\"sk-toggleable__control sk-hidden--visually\" id=\"b04c0254-9f8c-4406-96ce-ec7794e579d9\" type=\"checkbox\" ><label for=\"b04c0254-9f8c-4406-96ce-ec7794e579d9\" class=\"sk-toggleable__label sk-toggleable__label-arrow\">QuantileTransformer</label><div class=\"sk-toggleable__content\"><pre>QuantileTransformer(output_distribution=&#x27;normal&#x27;)</pre></div></div></div><div class=\"sk-item\"><div class=\"sk-estimator sk-toggleable\"><input class=\"sk-toggleable__control sk-hidden--visually\" id=\"b8e871dd-1cd1-4c67-99cb-73aa45b72607\" type=\"checkbox\" ><label for=\"b8e871dd-1cd1-4c67-99cb-73aa45b72607\" class=\"sk-toggleable__label sk-toggleable__label-arrow\">KNNImputer</label><div class=\"sk-toggleable__content\"><pre>KNNImputer(weights=&#x27;distance&#x27;)</pre></div></div></div><div class=\"sk-item sk-dashed-wrapped\"><div class=\"sk-label-container\"><div class=\"sk-label sk-toggleable\"><input class=\"sk-toggleable__control sk-hidden--visually\" id=\"2a478821-b603-4326-8a27-077e794ecb6d\" type=\"checkbox\" ><label for=\"2a478821-b603-4326-8a27-077e794ecb6d\" class=\"sk-toggleable__label sk-toggleable__label-arrow\">estimator: AdaBoostRegressor</label><div class=\"sk-toggleable__content\"><pre>AdaBoostRegressor(base_estimator=ARDRegression(alpha_1=1e-07, alpha_2=1e-05,\n                                               lambda_1=1e-05, lambda_2=1e-05,\n                                               n_iter=17, tol=0.01),\n                  learning_rate=0.9, loss=&#x27;exponential&#x27;, n_estimators=7,\n                  random_state=42)</pre></div></div></div><div class=\"sk-parallel\"><div class=\"sk-parallel-item\"><div class=\"sk-item\"><div class=\"sk-serial\"><div class=\"sk-item\"><div class=\"sk-estimator sk-toggleable\"><input class=\"sk-toggleable__control sk-hidden--visually\" id=\"38325324-2d54-459b-8b07-8124e5db7202\" type=\"checkbox\" ><label for=\"38325324-2d54-459b-8b07-8124e5db7202\" class=\"sk-toggleable__label sk-toggleable__label-arrow\">ARDRegression</label><div class=\"sk-toggleable__content\"><pre>ARDRegression(alpha_1=1e-07, alpha_2=1e-05, lambda_1=1e-05, lambda_2=1e-05,\n              n_iter=17, tol=0.01)</pre></div></div></div></div></div></div></div></div></div></div></div></div>"
     },
     "execution_count": 31,
     "metadata": {},
     "output_type": "execute_result"
    }
   ],
   "source": [
    "\n",
    "\n",
    "print(ada_ard_simple_best.info)\n",
    "\n",
    "\n",
    "ada_ard_simple_best.best_estimator_\n"
   ],
   "metadata": {
    "collapsed": false,
    "pycharm": {
     "name": "#%%\n"
    }
   }
  },
  {
   "cell_type": "code",
   "execution_count": 32,
   "outputs": [
    {
     "name": "stdout",
     "output_type": "stream",
     "text": [
      "Pickling results to: D:\\PycharmProjects\\ce888\\project\\assignment2\\ihdp\\ihdp Adaboost ARD simple results.pickle\n",
      "pickled results!\n",
      "Pickling simple estimator to D:\\PycharmProjects\\ce888\\project\\assignment2\\ihdp\\ihdp Adaboost ARD simple estimator.pickle\n",
      "pickled estimator!\n"
     ]
    }
   ],
   "source": [
    "ada_ard_simple_best.save_me()"
   ],
   "metadata": {
    "collapsed": false,
    "pycharm": {
     "name": "#%%\n"
    }
   }
  },
  {
   "cell_type": "code",
   "execution_count": 33,
   "outputs": [
    {
     "data": {
      "text/plain": "<Figure size 1152x1296 with 2 Axes>",
      "image/png": "[encoded data removed]"
     },
     "metadata": {
      "needs_background": "light"
     },
     "output_type": "display_data"
    }
   ],
   "source": [
    "ada_ard_simple_best.importance_plotter().show()"
   ],
   "metadata": {
    "collapsed": false,
    "pycharm": {
     "name": "#%%\n"
    }
   }
  },
  {
   "cell_type": "code",
   "execution_count": 33,
   "outputs": [],
   "source": [
    "\n"
   ],
   "metadata": {
    "collapsed": false,
    "pycharm": {
     "name": "#%%\n"
    }
   }
  },
  {
   "cell_type": "code",
   "execution_count": 34,
   "outputs": [],
   "source": [
    "\n",
    "\n",
    "all_simple_best: List[slearner.SimpleHalvingGridSearchResults] = [\n",
    "    rf_simple_best,\n",
    "    ard_simple_best,\n",
    "    ada_rf_simple_best,\n",
    "    ada_ard_simple_best\n",
    "]\n",
    "\n",
    "all_simple_best.sort(reverse=True)\n"
   ],
   "metadata": {
    "collapsed": false,
    "pycharm": {
     "name": "#%%\n"
    }
   }
  },
  {
   "cell_type": "code",
   "execution_count": 35,
   "outputs": [
    {
     "name": "stdout",
     "output_type": "stream",
     "text": [
      "GridSearchResults summary Random Forest simple ihdp\n",
      "\ttest score:\t0.6875290196339277\n",
      "\ttrain score:0.773217569407555\n",
      "\tyf score:\t0.7944186487645476\n",
      "\tycf score:\t0.6979244024596516\n",
      "\tt0 score:\t0.5974324890292109\n",
      "\tt1 score:\t0.06563535904259621\n",
      "\tite score:\t0.6306716389940594\n",
      "\tabs ATE:\t0.06978450020809301\n",
      "\tPEHE:   \t0.522132399809186\n",
      "\tabs ATT:\t0.1045551572937371\n",
      "\tp. risk:\t-5.502993329310705\n",
      "GridSearchResults summary Adaboost Random Forest simple ihdp\n",
      "\ttest score:\t0.6838205655812173\n",
      "\ttrain score:0.7779053007254614\n",
      "\tyf score:\t0.8347719371158735\n",
      "\tycf score:\t0.6905638729322461\n",
      "\tt0 score:\t0.6670016195409187\n",
      "\tt1 score:\t0.053703358902903675\n",
      "\tite score:\t0.5544920428111008\n",
      "\tabs ATE:\t0.07968027359968488\n",
      "\tPEHE:   \t0.5734585689043596\n",
      "\tabs ATT:\t0.08769904051034771\n",
      "\tp. risk:\t-5.435320580637387\n",
      "GridSearchResults summary ARD simple ihdp\n",
      "\ttest score:\t0.5564596977895747\n",
      "\ttrain score:0.7174340703816985\n",
      "\tyf score:\t0.7230858128688201\n",
      "\tycf score:\t0.6696308622344906\n",
      "\tt0 score:\t0.49420677538586866\n",
      "\tt1 score:\t-0.0880853724951618\n",
      "\tite score:\t-0.0008744474291235704\n",
      "\tabs ATE:\t0.02540628505630016\n",
      "\tPEHE:   \t0.8595360866486239\n",
      "\tabs ATT:\t0.10410522166326874\n",
      "\tp. risk:\t-5.4930213795885985\n",
      "GridSearchResults summary Adaboost ARD simple ihdp\n",
      "\ttest score:\t0.5255486992764248\n",
      "\ttrain score:0.7093472513204686\n",
      "\tyf score:\t0.7165702033736651\n",
      "\tycf score:\t0.656705158432112\n",
      "\tt0 score:\t0.484748523916014\n",
      "\tt1 score:\t-0.13544897516985777\n",
      "\tite score:\t-0.0004252961101625097\n",
      "\tabs ATE:\t0.12184449536201702\n",
      "\tPEHE:   \t0.859343202770986\n",
      "\tabs ATT:\t0.09551798951337886\n",
      "\tp. risk:\t-5.4832020535436\n",
      "\n"
     ]
    }
   ],
   "source": [
    "for bc in all_simple_best:\n",
    "    print(bc.summary_info)\n",
    "\n",
    "print(\"\")"
   ],
   "metadata": {
    "collapsed": false,
    "pycharm": {
     "name": "#%%\n"
    }
   }
  },
  {
   "cell_type": "code",
   "execution_count": 35,
   "outputs": [],
   "source": [],
   "metadata": {
    "collapsed": false,
    "pycharm": {
     "name": "#%%\n"
    }
   }
  },
  {
   "cell_type": "markdown",
   "source": [
    "# Part 4 - Inverse Propensity Weights\n",
    "\n",
    "\n",
    "### attempting to find the likelihood of individuals being NOT being included in the treatment group"
   ],
   "metadata": {
    "collapsed": false,
    "pycharm": {
     "name": "#%% md\n"
    }
   }
  },
  {
   "cell_type": "code",
   "execution_count": 59,
   "outputs": [],
   "source": [
    "from sklearn.ensemble import RandomForestClassifier, AdaBoostClassifier\n",
    "from sklearn.linear_model import SGDClassifier"
   ],
   "metadata": {
    "collapsed": false,
    "pycharm": {
     "name": "#%%\n"
    }
   }
  },
  {
   "cell_type": "code",
   "execution_count": 37,
   "outputs": [
    {
     "name": "stdout",
     "output_type": "stream",
     "text": [
      "-- 10-fold attempt 1/4 start --\n",
      "max: 50, min: 7, factor: 8\n",
      "n_iterations: 4\n",
      "n_required_iterations: 4\n",
      "n_possible_iterations: 1\n",
      "min_resources_: 7\n",
      "max_resources_: 50\n",
      "aggressive_elimination: True\n",
      "factor: 8\n",
      "----------\n",
      "iter: 0\n",
      "n_candidates: 1440\n",
      "n_resources: 7\n",
      "Fitting 10 folds for each of 1440 candidates, totalling 14400 fits\n",
      "----------\n",
      "iter: 1\n",
      "n_candidates: 180\n",
      "n_resources: 7\n",
      "Fitting 10 folds for each of 180 candidates, totalling 1800 fits\n",
      "----------\n",
      "iter: 2\n",
      "n_candidates: 23\n",
      "n_resources: 7\n",
      "Fitting 10 folds for each of 23 candidates, totalling 230 fits\n",
      "----------\n",
      "iter: 3\n",
      "n_candidates: 3\n",
      "n_resources: 7\n",
      "Fitting 10 folds for each of 3 candidates, totalling 30 fits\n",
      "best from this iteration: \n",
      "GridSearchResults summary Random Forest IPSW ihdp\n",
      "\ttest score:\t0.7585227272727273\n",
      "\ttrain score:0.649977984977985\n",
      "\tyf score:\t0.748189606209769\n",
      "\n",
      "--- 1/4 END ---\n",
      "-- 10-fold attempt 2/4 start --\n",
      "max: 100, min: 1, factor: 10\n",
      "n_iterations: 4\n",
      "n_required_iterations: 4\n",
      "n_possible_iterations: 3\n",
      "min_resources_: 1\n",
      "max_resources_: 100\n",
      "aggressive_elimination: True\n",
      "factor: 10\n",
      "----------\n",
      "iter: 0\n",
      "n_candidates: 1440\n",
      "n_resources: 1\n",
      "Fitting 10 folds for each of 1440 candidates, totalling 14400 fits\n",
      "----------\n",
      "iter: 1\n",
      "n_candidates: 144\n",
      "n_resources: 1\n",
      "Fitting 10 folds for each of 144 candidates, totalling 1440 fits\n",
      "----------\n",
      "iter: 2\n",
      "n_candidates: 15\n",
      "n_resources: 10\n",
      "Fitting 10 folds for each of 15 candidates, totalling 150 fits\n",
      "----------\n",
      "iter: 3\n",
      "n_candidates: 2\n",
      "n_resources: 100\n",
      "Fitting 10 folds for each of 2 candidates, totalling 20 fits\n",
      "best from this iteration: \n",
      "GridSearchResults summary Random Forest IPSW ihdp\n",
      "\ttest score:\t0.6647727272727273\n",
      "\ttrain score:0.6562250712250712\n",
      "\tyf score:\t0.7848707875804619\n",
      "\n",
      "--- 2/4 END ---\n",
      "-- 10-fold attempt 3/4 start --\n",
      "max: 150, min: 12, factor: 13\n",
      "n_iterations: 3\n",
      "n_required_iterations: 3\n",
      "n_possible_iterations: 1\n",
      "min_resources_: 12\n",
      "max_resources_: 150\n",
      "aggressive_elimination: True\n",
      "factor: 13\n",
      "----------\n",
      "iter: 0\n",
      "n_candidates: 1440\n",
      "n_resources: 12\n",
      "Fitting 10 folds for each of 1440 candidates, totalling 14400 fits\n",
      "----------\n",
      "iter: 1\n",
      "n_candidates: 111\n",
      "n_resources: 12\n",
      "Fitting 10 folds for each of 111 candidates, totalling 1110 fits\n",
      "----------\n",
      "iter: 2\n",
      "n_candidates: 9\n",
      "n_resources: 12\n",
      "Fitting 10 folds for each of 9 candidates, totalling 90 fits\n",
      "best from this iteration: \n",
      "GridSearchResults summary Random Forest IPSW ihdp\n",
      "\ttest score:\t0.6590909090909091\n",
      "\ttrain score:0.6724553224553225\n",
      "\tyf score:\t0.8276398617947747\n",
      "\n",
      "--- 3/4 END ---\n",
      "-- 10-fold attempt 4/4 start --\n",
      "max: 200, min: 14, factor: 15\n",
      "n_iterations: 3\n",
      "n_required_iterations: 3\n",
      "n_possible_iterations: 1\n",
      "min_resources_: 14\n",
      "max_resources_: 200\n",
      "aggressive_elimination: True\n",
      "factor: 15\n",
      "----------\n",
      "iter: 0\n",
      "n_candidates: 1440\n",
      "n_resources: 14\n",
      "Fitting 10 folds for each of 1440 candidates, totalling 14400 fits\n",
      "----------\n",
      "iter: 1\n",
      "n_candidates: 96\n",
      "n_resources: 14\n",
      "Fitting 10 folds for each of 96 candidates, totalling 960 fits\n",
      "----------\n",
      "iter: 2\n",
      "n_candidates: 7\n",
      "n_resources: 14\n",
      "Fitting 10 folds for each of 7 candidates, totalling 70 fits\n",
      "best from this iteration: \n",
      "GridSearchResults summary Random Forest IPSW ihdp\n",
      "\ttest score:\t0.6803977272727273\n",
      "\ttrain score:0.6674423724423724\n",
      "\tyf score:\t0.8533344377129876\n",
      "\n",
      "--- 4/4 END ---\n",
      "CPU times: total: 1min 15s\n",
      "Wall time: 33min 57s\n"
     ]
    }
   ],
   "source": [
    "%%time\n",
    "\n",
    "rf_ipsw_searched: List[\n",
    "    slearner.SimpleHalvingGridSearchResults\n",
    "] = slearner.simple_halving_grid_searcher(\n",
    "    RandomForestClassifier(random_state=seed()),\n",
    "    {\n",
    "        #\"estimator__n_estimators\": [75,100,125],\n",
    "        \"estimator__min_samples_split\": [2,4,6,8], # rf_min_samples,\n",
    "        \"estimator__min_impurity_decrease\": [0, *np.geomspace(0.00001,0.2,6)[1:]],  #  rf_min_impurity_decrease,\n",
    "        \"estimator__max_features\":[None,\"sqrt\",\"log2\",1,2],  # rf_max_features,\n",
    "        # \"estimator__oob_score\": [False, True],\n",
    "        \"estimator__ccp_alpha\": [0, *np.geomspace(0.00001,0.2,6)[1:]],  # rf_ccp_alpha\n",
    "        \"estimator__class_weight\": [\"balanced\", \"balanced subsample\"],\n",
    "    },\n",
    "    df_m=dfm,\n",
    "    df_selection=df_utils.DatasetEnum.X_T,\n",
    "    learner_name=\"Random Forest IPSW\",\n",
    "    kfold_splits=10,\n",
    "    scorer_to_use=slearner.roc_auc_id(),\n",
    "    stratify_on=[\"tcf\"],\n",
    "    resource=\"estimator__n_estimators\",\n",
    "    resource_param_values=rf_n_estimators,\n",
    ")"
   ],
   "metadata": {
    "collapsed": false,
    "pycharm": {
     "name": "#%%\n"
    }
   }
  },
  {
   "cell_type": "code",
   "execution_count": 38,
   "outputs": [],
   "source": [
    "\n",
    "rf_ipsw_best: slearner.SimpleHalvingGridSearchResults = max(\n",
    "    rf_ipsw_searched\n",
    ")\n",
    "\n"
   ],
   "metadata": {
    "collapsed": false,
    "pycharm": {
     "name": "#%%\n"
    }
   }
  },
  {
   "cell_type": "code",
   "execution_count": 39,
   "outputs": [
    {
     "name": "stdout",
     "output_type": "stream",
     "text": [
      "GridSearchResults summary Random Forest IPSW ihdp\n",
      "\ttest score:\t0.7585227272727273\n",
      "\ttrain score:0.649977984977985\n",
      "\tyf score:\t0.748189606209769\n",
      "\tbest params:\n",
      "\t\testimator__ccp_alpha : 7.247796636776961e-05\n",
      "\t\testimator__class_weight : balanced\n",
      "\t\testimator__max_features : 2\n",
      "\t\testimator__min_impurity_decrease : 0.0005253055608807533\n",
      "\t\testimator__min_samples_split : 6\n",
      "\t\testimator__n_estimators : 7\n"
     ]
    },
    {
     "data": {
      "text/plain": "PPipeline(steps=[('scaler', QuantileTransformer(output_distribution='normal')),\n                 ('imputer', KNNImputer(weights='distance')),\n                 ('estimator',\n                  RandomForestClassifier(ccp_alpha=7.247796636776961e-05,\n                                         class_weight='balanced',\n                                         max_features=2,\n                                         min_impurity_decrease=0.0005253055608807533,\n                                         min_samples_split=6, n_estimators=7,\n                                         random_state=42))])",
      "text/html": "<style>#sk-8eea94ca-e441-4aed-be79-712a370e6b5d {color: black;background-color: white;}#sk-8eea94ca-e441-4aed-be79-712a370e6b5d pre{padding: 0;}#sk-8eea94ca-e441-4aed-be79-712a370e6b5d div.sk-toggleable {background-color: white;}#sk-8eea94ca-e441-4aed-be79-712a370e6b5d label.sk-toggleable__label {cursor: pointer;display: block;width: 100%;margin-bottom: 0;padding: 0.3em;box-sizing: border-box;text-align: center;}#sk-8eea94ca-e441-4aed-be79-712a370e6b5d label.sk-toggleable__label-arrow:before {content: \"▸\";float: left;margin-right: 0.25em;color: #696969;}#sk-8eea94ca-e441-4aed-be79-712a370e6b5d label.sk-toggleable__label-arrow:hover:before {color: black;}#sk-8eea94ca-e441-4aed-be79-712a370e6b5d div.sk-estimator:hover label.sk-toggleable__label-arrow:before {color: black;}#sk-8eea94ca-e441-4aed-be79-712a370e6b5d div.sk-toggleable__content {max-height: 0;max-width: 0;overflow: hidden;text-align: left;background-color: #f0f8ff;}#sk-8eea94ca-e441-4aed-be79-712a370e6b5d div.sk-toggleable__content pre {margin: 0.2em;color: black;border-radius: 0.25em;background-color: #f0f8ff;}#sk-8eea94ca-e441-4aed-be79-712a370e6b5d input.sk-toggleable__control:checked~div.sk-toggleable__content {max-height: 200px;max-width: 100%;overflow: auto;}#sk-8eea94ca-e441-4aed-be79-712a370e6b5d input.sk-toggleable__control:checked~label.sk-toggleable__label-arrow:before {content: \"▾\";}#sk-8eea94ca-e441-4aed-be79-712a370e6b5d div.sk-estimator input.sk-toggleable__control:checked~label.sk-toggleable__label {background-color: #d4ebff;}#sk-8eea94ca-e441-4aed-be79-712a370e6b5d div.sk-label input.sk-toggleable__control:checked~label.sk-toggleable__label {background-color: #d4ebff;}#sk-8eea94ca-e441-4aed-be79-712a370e6b5d input.sk-hidden--visually {border: 0;clip: rect(1px 1px 1px 1px);clip: rect(1px, 1px, 1px, 1px);height: 1px;margin: -1px;overflow: hidden;padding: 0;position: absolute;width: 1px;}#sk-8eea94ca-e441-4aed-be79-712a370e6b5d div.sk-estimator {font-family: monospace;background-color: #f0f8ff;border: 1px dotted black;border-radius: 0.25em;box-sizing: border-box;margin-bottom: 0.5em;}#sk-8eea94ca-e441-4aed-be79-712a370e6b5d div.sk-estimator:hover {background-color: #d4ebff;}#sk-8eea94ca-e441-4aed-be79-712a370e6b5d div.sk-parallel-item::after {content: \"\";width: 100%;border-bottom: 1px solid gray;flex-grow: 1;}#sk-8eea94ca-e441-4aed-be79-712a370e6b5d div.sk-label:hover label.sk-toggleable__label {background-color: #d4ebff;}#sk-8eea94ca-e441-4aed-be79-712a370e6b5d div.sk-serial::before {content: \"\";position: absolute;border-left: 1px solid gray;box-sizing: border-box;top: 2em;bottom: 0;left: 50%;}#sk-8eea94ca-e441-4aed-be79-712a370e6b5d div.sk-serial {display: flex;flex-direction: column;align-items: center;background-color: white;padding-right: 0.2em;padding-left: 0.2em;}#sk-8eea94ca-e441-4aed-be79-712a370e6b5d div.sk-item {z-index: 1;}#sk-8eea94ca-e441-4aed-be79-712a370e6b5d div.sk-parallel {display: flex;align-items: stretch;justify-content: center;background-color: white;}#sk-8eea94ca-e441-4aed-be79-712a370e6b5d div.sk-parallel::before {content: \"\";position: absolute;border-left: 1px solid gray;box-sizing: border-box;top: 2em;bottom: 0;left: 50%;}#sk-8eea94ca-e441-4aed-be79-712a370e6b5d div.sk-parallel-item {display: flex;flex-direction: column;position: relative;background-color: white;}#sk-8eea94ca-e441-4aed-be79-712a370e6b5d div.sk-parallel-item:first-child::after {align-self: flex-end;width: 50%;}#sk-8eea94ca-e441-4aed-be79-712a370e6b5d div.sk-parallel-item:last-child::after {align-self: flex-start;width: 50%;}#sk-8eea94ca-e441-4aed-be79-712a370e6b5d div.sk-parallel-item:only-child::after {width: 0;}#sk-8eea94ca-e441-4aed-be79-712a370e6b5d div.sk-dashed-wrapped {border: 1px dashed gray;margin: 0 0.4em 0.5em 0.4em;box-sizing: border-box;padding-bottom: 0.4em;background-color: white;position: relative;}#sk-8eea94ca-e441-4aed-be79-712a370e6b5d div.sk-label label {font-family: monospace;font-weight: bold;background-color: white;display: inline-block;line-height: 1.2em;}#sk-8eea94ca-e441-4aed-be79-712a370e6b5d div.sk-label-container {position: relative;z-index: 2;text-align: center;}#sk-8eea94ca-e441-4aed-be79-712a370e6b5d div.sk-container {/* jupyter's `normalize.less` sets `[hidden] { display: none; }` but bootstrap.min.css set `[hidden] { display: none !important; }` so we also need the `!important` here to be able to override the default hidden behavior on the sphinx rendered scikit-learn.org. See: https://github.com/scikit-learn/scikit-learn/issues/21755 */display: inline-block !important;position: relative;}#sk-8eea94ca-e441-4aed-be79-712a370e6b5d div.sk-text-repr-fallback {display: none;}</style><div id=\"sk-8eea94ca-e441-4aed-be79-712a370e6b5d\" class=\"sk-top-container\"><div class=\"sk-text-repr-fallback\"><pre>PPipeline(steps=[(&#x27;scaler&#x27;, QuantileTransformer(output_distribution=&#x27;normal&#x27;)),\n                 (&#x27;imputer&#x27;, KNNImputer(weights=&#x27;distance&#x27;)),\n                 (&#x27;estimator&#x27;,\n                  RandomForestClassifier(ccp_alpha=7.247796636776961e-05,\n                                         class_weight=&#x27;balanced&#x27;,\n                                         max_features=2,\n                                         min_impurity_decrease=0.0005253055608807533,\n                                         min_samples_split=6, n_estimators=7,\n                                         random_state=42))])</pre><b>Please rerun this cell to show the HTML repr or trust the notebook.</b></div><div class=\"sk-container\" hidden><div class=\"sk-item sk-dashed-wrapped\"><div class=\"sk-label-container\"><div class=\"sk-label sk-toggleable\"><input class=\"sk-toggleable__control sk-hidden--visually\" id=\"6b335ade-4ebb-4589-aef8-6532e0dae09e\" type=\"checkbox\" ><label for=\"6b335ade-4ebb-4589-aef8-6532e0dae09e\" class=\"sk-toggleable__label sk-toggleable__label-arrow\">PPipeline</label><div class=\"sk-toggleable__content\"><pre>PPipeline(steps=[(&#x27;scaler&#x27;, QuantileTransformer(output_distribution=&#x27;normal&#x27;)),\n                 (&#x27;imputer&#x27;, KNNImputer(weights=&#x27;distance&#x27;)),\n                 (&#x27;estimator&#x27;,\n                  RandomForestClassifier(ccp_alpha=7.247796636776961e-05,\n                                         class_weight=&#x27;balanced&#x27;,\n                                         max_features=2,\n                                         min_impurity_decrease=0.0005253055608807533,\n                                         min_samples_split=6, n_estimators=7,\n                                         random_state=42))])</pre></div></div></div><div class=\"sk-serial\"><div class=\"sk-item\"><div class=\"sk-estimator sk-toggleable\"><input class=\"sk-toggleable__control sk-hidden--visually\" id=\"3227708f-a25d-49fd-b73a-3fab652e663e\" type=\"checkbox\" ><label for=\"3227708f-a25d-49fd-b73a-3fab652e663e\" class=\"sk-toggleable__label sk-toggleable__label-arrow\">QuantileTransformer</label><div class=\"sk-toggleable__content\"><pre>QuantileTransformer(output_distribution=&#x27;normal&#x27;)</pre></div></div></div><div class=\"sk-item\"><div class=\"sk-estimator sk-toggleable\"><input class=\"sk-toggleable__control sk-hidden--visually\" id=\"e86e1226-c53b-496a-bb03-3e05f087a676\" type=\"checkbox\" ><label for=\"e86e1226-c53b-496a-bb03-3e05f087a676\" class=\"sk-toggleable__label sk-toggleable__label-arrow\">KNNImputer</label><div class=\"sk-toggleable__content\"><pre>KNNImputer(weights=&#x27;distance&#x27;)</pre></div></div></div><div class=\"sk-item\"><div class=\"sk-estimator sk-toggleable\"><input class=\"sk-toggleable__control sk-hidden--visually\" id=\"36a75668-cb13-468f-97b6-c0314bbc7c36\" type=\"checkbox\" ><label for=\"36a75668-cb13-468f-97b6-c0314bbc7c36\" class=\"sk-toggleable__label sk-toggleable__label-arrow\">RandomForestClassifier</label><div class=\"sk-toggleable__content\"><pre>RandomForestClassifier(ccp_alpha=7.247796636776961e-05, class_weight=&#x27;balanced&#x27;,\n                       max_features=2,\n                       min_impurity_decrease=0.0005253055608807533,\n                       min_samples_split=6, n_estimators=7, random_state=42)</pre></div></div></div></div></div></div></div>"
     },
     "execution_count": 39,
     "metadata": {},
     "output_type": "execute_result"
    }
   ],
   "source": [
    "print(rf_ipsw_best.info)\n",
    "\n",
    "rf_ipsw_best.best_estimator_"
   ],
   "metadata": {
    "collapsed": false,
    "pycharm": {
     "name": "#%%\n"
    }
   }
  },
  {
   "cell_type": "code",
   "execution_count": 40,
   "outputs": [
    {
     "name": "stdout",
     "output_type": "stream",
     "text": [
      "Pickling results to: D:\\PycharmProjects\\ce888\\project\\assignment2\\ihdp\\ihdp Random Forest IPSW results.pickle\n",
      "pickled results!\n",
      "Pickling simple estimator to D:\\PycharmProjects\\ce888\\project\\assignment2\\ihdp\\ihdp Random Forest IPSW estimator.pickle\n",
      "pickled estimator!\n"
     ]
    }
   ],
   "source": [
    "rf_ipsw_best.save_me()"
   ],
   "metadata": {
    "collapsed": false,
    "pycharm": {
     "name": "#%%\n"
    }
   }
  },
  {
   "cell_type": "code",
   "execution_count": 41,
   "outputs": [
    {
     "data": {
      "text/plain": "<Figure size 1152x1296 with 2 Axes>",
      "image/png": "[encoded data removed]"
     },
     "metadata": {
      "needs_background": "light"
     },
     "output_type": "display_data"
    }
   ],
   "source": [
    "rf_ipsw_best.importance_plotter().show()"
   ],
   "metadata": {
    "collapsed": false,
    "pycharm": {
     "name": "#%%\n"
    }
   }
  },
  {
   "cell_type": "code",
   "execution_count": 41,
   "outputs": [],
   "source": [],
   "metadata": {
    "collapsed": false,
    "pycharm": {
     "name": "#%%\n"
    }
   }
  },
  {
   "cell_type": "code",
   "execution_count": 63,
   "outputs": [
    {
     "name": "stdout",
     "output_type": "stream",
     "text": [
      "-- 10-fold attempt 1/3 start --\n",
      "max: 500, min: 22, factor: 23\n",
      "n_iterations: 2\n",
      "n_required_iterations: 2\n",
      "n_possible_iterations: 1\n",
      "min_resources_: 22\n",
      "max_resources_: 500\n",
      "aggressive_elimination: True\n",
      "factor: 23\n",
      "----------\n",
      "iter: 0\n",
      "n_candidates: 162\n",
      "n_resources: 22\n",
      "Fitting 10 folds for each of 162 candidates, totalling 1620 fits\n",
      "----------\n",
      "iter: 1\n",
      "n_candidates: 8\n",
      "n_resources: 22\n",
      "Fitting 10 folds for each of 8 candidates, totalling 80 fits\n",
      "best from this iteration: \n",
      "GridSearchResults summary SGD IPSW ihdp\n",
      "\ttest score:\t0.71875\n",
      "\ttrain score:0.5919010619010618\n",
      "\tyf score:\t0.6241184683831882\n",
      "\n",
      "--- 1/3 END ---\n",
      "-- 10-fold attempt 2/3 start --\n",
      "max: 1000, min: 32, factor: 32\n",
      "n_iterations: 2\n",
      "n_required_iterations: 2\n",
      "n_possible_iterations: 1\n",
      "min_resources_: 32\n",
      "max_resources_: 1000\n",
      "aggressive_elimination: True\n",
      "factor: 32\n",
      "----------\n",
      "iter: 0\n",
      "n_candidates: 162\n",
      "n_resources: 32\n",
      "Fitting 10 folds for each of 162 candidates, totalling 1620 fits\n",
      "----------\n",
      "iter: 1\n",
      "n_candidates: 6\n",
      "n_resources: 32\n",
      "Fitting 10 folds for each of 6 candidates, totalling 60 fits\n",
      "best from this iteration: \n",
      "GridSearchResults summary SGD IPSW ihdp\n",
      "\ttest score:\t0.71875\n",
      "\ttrain score:0.5919010619010618\n",
      "\tyf score:\t0.6241184683831882\n",
      "\n",
      "--- 2/3 END ---\n",
      "-- 10-fold attempt 3/3 start --\n",
      "max: 1500, min: 39, factor: 39\n",
      "n_iterations: 2\n",
      "n_required_iterations: 2\n",
      "n_possible_iterations: 1\n",
      "min_resources_: 39\n",
      "max_resources_: 1500\n",
      "aggressive_elimination: True\n",
      "factor: 39\n",
      "----------\n",
      "iter: 0\n",
      "n_candidates: 162\n",
      "n_resources: 39\n",
      "Fitting 10 folds for each of 162 candidates, totalling 1620 fits\n",
      "----------\n",
      "iter: 1\n",
      "n_candidates: 5\n",
      "n_resources: 39\n",
      "Fitting 10 folds for each of 5 candidates, totalling 50 fits\n",
      "best from this iteration: \n",
      "GridSearchResults summary SGD IPSW ihdp\n",
      "\ttest score:\t0.71875\n",
      "\ttrain score:0.5919010619010618\n",
      "\tyf score:\t0.6241184683831882\n",
      "\n",
      "--- 3/3 END ---\n",
      "CPU times: total: 7.02 s\n",
      "Wall time: 3min 32s\n"
     ]
    }
   ],
   "source": [
    "%%time\n",
    "\n",
    "# note: ridge does not support predict_proba, unusable, replaced with SGDClassifier.\n",
    "\n",
    "sgd_ipsw_searched: List[\n",
    "    slearner.SimpleHalvingGridSearchResults\n",
    "] = slearner.simple_halving_grid_searcher(\n",
    "    SGDClassifier(\n",
    "        random_state=seed(),\n",
    "        n_jobs=-1,\n",
    "        early_stopping=True,\n",
    "        validation_fraction=0.1,\n",
    "        n_iter_no_change=5,\n",
    "        loss=\"log\"\n",
    "    ),\n",
    "    {\n",
    "        #\"estimator__n_estimators\": [75,100,125],\n",
    "        \"estimator__alpha\": [0.001, 0.0001, 0.00001],\n",
    "        \"estimator__power_t\": [0.25,0.5,0.75],\n",
    "        \"estimator__learning_rate\" : [\"constant\",\"optimal\",\"invscaling\"],\n",
    "        \"estimator__class_weight\": [\"balanced\", None]\n",
    "    },\n",
    "    df_m=dfm,\n",
    "    df_selection=df_utils.DatasetEnum.X_T,\n",
    "    learner_name=\"SGD IPSW\",\n",
    "    kfold_splits=10,\n",
    "    scorer_to_use=slearner.roc_auc_id(),\n",
    "    stratify_on=[\"tcf\"],\n",
    "    resource=\"estimator__max_iter\",\n",
    "    resource_param_values=[500,1000,1500]\n",
    ")\n"
   ],
   "metadata": {
    "collapsed": false,
    "pycharm": {
     "name": "#%%\n"
    }
   }
  },
  {
   "cell_type": "code",
   "execution_count": 64,
   "outputs": [
    {
     "ename": "TypeError",
     "evalue": "'<' not supported between instances of 'NoneType' and 'NoneType'",
     "output_type": "error",
     "traceback": [
      "\u001B[1;31m---------------------------------------------------------------------------\u001B[0m",
      "\u001B[1;31mTypeError\u001B[0m                                 Traceback (most recent call last)",
      "Input \u001B[1;32mIn [64]\u001B[0m, in \u001B[0;36m<cell line: 1>\u001B[1;34m()\u001B[0m\n\u001B[1;32m----> 1\u001B[0m sgd_ipsw_best: slearner\u001B[38;5;241m.\u001B[39mSimpleHalvingGridSearchResults \u001B[38;5;241m=\u001B[39m \u001B[38;5;28;43mmax\u001B[39;49m\u001B[43m(\u001B[49m\n\u001B[0;32m      2\u001B[0m \u001B[43m    \u001B[49m\u001B[43msgd_ipsw_searched\u001B[49m\n\u001B[0;32m      3\u001B[0m \u001B[43m)\u001B[49m\n",
      "File \u001B[1;32mD:\\PycharmProjects\\ce888\\project\\assignment2\\a2_utils\\simple_learner_utils.py:312\u001B[0m, in \u001B[0;36mSimpleHalvingGridSearchResults.__lt__\u001B[1;34m(self, other)\u001B[0m\n\u001B[0;32m    309\u001B[0m         \u001B[38;5;28;01mreturn\u001B[39;00m \u001B[38;5;28;01mFalse\u001B[39;00m\n\u001B[0;32m    311\u001B[0m \u001B[38;5;28;01mif\u001B[39;00m \u001B[38;5;28mself\u001B[39m\u001B[38;5;241m.\u001B[39mhas_counterfactual_score \u001B[38;5;241m<\u001B[39m\u001B[38;5;241m=\u001B[39m \u001B[38;5;241m1\u001B[39m \u001B[38;5;129;01mand\u001B[39;00m other\u001B[38;5;241m.\u001B[39mhas_counterfactual_score \u001B[38;5;241m<\u001B[39m\u001B[38;5;241m=\u001B[39m \u001B[38;5;241m1\u001B[39m:\n\u001B[1;32m--> 312\u001B[0m     \u001B[38;5;28;01mif\u001B[39;00m \u001B[38;5;28;43mself\u001B[39;49m\u001B[38;5;241;43m.\u001B[39;49m\u001B[43mycf_score\u001B[49m\u001B[43m \u001B[49m\u001B[38;5;241;43m<\u001B[39;49m\u001B[43m \u001B[49m\u001B[43mother\u001B[49m\u001B[38;5;241;43m.\u001B[39;49m\u001B[43mycf_score\u001B[49m:\n\u001B[0;32m    313\u001B[0m         \u001B[38;5;28;01mreturn\u001B[39;00m \u001B[38;5;28;01mTrue\u001B[39;00m\n\u001B[0;32m    314\u001B[0m     \u001B[38;5;28;01melif\u001B[39;00m \u001B[38;5;28mself\u001B[39m\u001B[38;5;241m.\u001B[39mycf_score \u001B[38;5;241m>\u001B[39m other\u001B[38;5;241m.\u001B[39mycf_score:\n",
      "\u001B[1;31mTypeError\u001B[0m: '<' not supported between instances of 'NoneType' and 'NoneType'"
     ]
    }
   ],
   "source": [
    "sgd_ipsw_best: slearner.SimpleHalvingGridSearchResults = max(\n",
    "    sgd_ipsw_searched\n",
    ")"
   ],
   "metadata": {
    "collapsed": false,
    "pycharm": {
     "name": "#%%\n"
    }
   }
  },
  {
   "cell_type": "code",
   "execution_count": null,
   "outputs": [],
   "source": [
    "\n",
    "print(sgd_ipsw_best.info)\n",
    "\n",
    "sgd_ipsw_best.best_estimator_"
   ],
   "metadata": {
    "collapsed": false,
    "pycharm": {
     "name": "#%%\n"
    }
   }
  },
  {
   "cell_type": "code",
   "execution_count": null,
   "outputs": [],
   "source": [
    "\n",
    "sgd_ipsw_best.save_me()"
   ],
   "metadata": {
    "collapsed": false,
    "pycharm": {
     "name": "#%%\n"
    }
   }
  },
  {
   "cell_type": "code",
   "execution_count": null,
   "outputs": [],
   "source": [
    "\n",
    "sgd_ipsw_best.importance_plotter().show()"
   ],
   "metadata": {
    "collapsed": false,
    "pycharm": {
     "name": "#%%\n"
    }
   }
  },
  {
   "cell_type": "code",
   "execution_count": 48,
   "outputs": [],
   "source": [],
   "metadata": {
    "collapsed": false,
    "pycharm": {
     "name": "#%%\n"
    }
   }
  },
  {
   "cell_type": "code",
   "execution_count": 51,
   "outputs": [
    {
     "name": "stdout",
     "output_type": "stream",
     "text": [
      "-- 10-fold attempt 1/3 start --\n",
      "max: 25, min: 1, factor: 5\n",
      "n_iterations: 2\n",
      "n_required_iterations: 2\n",
      "n_possible_iterations: 3\n",
      "min_resources_: 1\n",
      "max_resources_: 25\n",
      "aggressive_elimination: True\n",
      "factor: 5\n",
      "----------\n",
      "iter: 0\n",
      "n_candidates: 20\n",
      "n_resources: 5\n",
      "Fitting 10 folds for each of 20 candidates, totalling 200 fits\n",
      "----------\n",
      "iter: 1\n",
      "n_candidates: 4\n",
      "n_resources: 25\n",
      "Fitting 10 folds for each of 4 candidates, totalling 40 fits\n",
      "best from this iteration: \n",
      "GridSearchResults summary Adaboost Random Forest IPSW ihdp\n",
      "\ttest score:\t0.6633522727272727\n",
      "\ttrain score:0.6484744884744885\n",
      "\tyf score:\t0.948711425596365\n",
      "\n",
      "--- 1/3 END ---\n",
      "-- 10-fold attempt 2/3 start --\n",
      "max: 50, min: 7, factor: 8\n",
      "n_iterations: 2\n",
      "n_required_iterations: 2\n",
      "n_possible_iterations: 1\n",
      "min_resources_: 7\n",
      "max_resources_: 50\n",
      "aggressive_elimination: True\n",
      "factor: 8\n",
      "----------\n",
      "iter: 0\n",
      "n_candidates: 20\n",
      "n_resources: 7\n",
      "Fitting 10 folds for each of 20 candidates, totalling 200 fits\n",
      "----------\n",
      "iter: 1\n",
      "n_candidates: 3\n",
      "n_resources: 7\n",
      "Fitting 10 folds for each of 3 candidates, totalling 30 fits\n",
      "best from this iteration: \n",
      "GridSearchResults summary Adaboost Random Forest IPSW ihdp\n",
      "\ttest score:\t0.5866477272727273\n",
      "\ttrain score:0.6801566951566953\n",
      "\tyf score:\t0.9367900416508899\n",
      "\n",
      "--- 2/3 END ---\n",
      "-- 10-fold attempt 3/3 start --\n",
      "max: 75, min: 9, factor: 9\n",
      "n_iterations: 2\n",
      "n_required_iterations: 2\n",
      "n_possible_iterations: 1\n",
      "min_resources_: 9\n",
      "max_resources_: 75\n",
      "aggressive_elimination: True\n",
      "factor: 9\n",
      "----------\n",
      "iter: 0\n",
      "n_candidates: 20\n",
      "n_resources: 9\n",
      "Fitting 10 folds for each of 20 candidates, totalling 200 fits\n",
      "----------\n",
      "iter: 1\n",
      "n_candidates: 3\n",
      "n_resources: 9\n",
      "Fitting 10 folds for each of 3 candidates, totalling 30 fits\n",
      "best from this iteration: \n",
      "GridSearchResults summary Adaboost Random Forest IPSW ihdp\n",
      "\ttest score:\t0.5767045454545454\n",
      "\ttrain score:0.6771276871276871\n",
      "\tyf score:\t0.9480961283604695\n",
      "\n",
      "--- 3/3 END ---\n",
      "CPU times: total: 16.1 s\n",
      "Wall time: 2min 54s\n"
     ]
    }
   ],
   "source": [
    "%%time\n",
    "\n",
    "ada_rf_ipsw_searched: List[\n",
    "    slearner.SimpleHalvingGridSearchResults\n",
    "] = slearner.simple_halving_grid_searcher(\n",
    "    AdaBoostClassifier(\n",
    "        random_state = seed()\n",
    "    ),\n",
    "    {\n",
    "        #\"regressor__base_estimator\": [\n",
    "        #    Pipeline(\n",
    "        #        steps = [i for i in rf.best_estimator_.named_steps.items()]\n",
    "        #    ) for rf in random_forest_searched_dict.keys()\n",
    "        #],\n",
    "        #\"regressor__n_estimators\": adaboost_estimators,\n",
    "        \"estimator__learning_rate\": adaboost_learn_rate,\n",
    "        \"estimator__base_estimator\": [\n",
    "            pl.clone_best_final_estimator for pl in rf_ipsw_searched\n",
    "        ]\n",
    "    },\n",
    "    df_m=dfm,\n",
    "    df_selection=df_utils.DatasetEnum.X_T,\n",
    "    learner_name=\"Adaboost Random Forest IPSW\",\n",
    "    kfold_splits=10,\n",
    "    scorer_to_use=slearner.roc_auc_id(),\n",
    "    stratify_on=[\"tcf\"],\n",
    "    resource=\"estimator__n_estimators\",\n",
    "    resource_param_values=adaboost_estimators,\n",
    ")"
   ],
   "metadata": {
    "collapsed": false,
    "pycharm": {
     "name": "#%%\n"
    }
   }
  },
  {
   "cell_type": "code",
   "execution_count": 52,
   "outputs": [],
   "source": [
    "ada_rf_ipsw_best: slearner.SimpleHalvingGridSearchResults = max(\n",
    "    ada_rf_ipsw_searched\n",
    ")"
   ],
   "metadata": {
    "collapsed": false,
    "pycharm": {
     "name": "#%%\n"
    }
   }
  },
  {
   "cell_type": "code",
   "execution_count": 53,
   "outputs": [
    {
     "name": "stdout",
     "output_type": "stream",
     "text": [
      "GridSearchResults summary Adaboost Random Forest IPSW ihdp\n",
      "\ttest score:\t0.6633522727272727\n",
      "\ttrain score:0.6484744884744885\n",
      "\tyf score:\t0.948711425596365\n",
      "\tbest params:\n",
      "\t\testimator__base_estimator : RandomForestClassifier(ccp_alpha=0.0005253055608807533, class_weight='balanced',\n",
      "                       max_features='log2',\n",
      "                       min_impurity_decrease=0.003807307877431759,\n",
      "                       min_samples_split=6, random_state=42)\n",
      "\t\testimator__learning_rate : 0.9\n",
      "\t\testimator__n_estimators : 25\n"
     ]
    },
    {
     "data": {
      "text/plain": "PPipeline(steps=[('scaler', QuantileTransformer(output_distribution='normal')),\n                 ('imputer', KNNImputer(weights='distance')),\n                 ('estimator',\n                  AdaBoostClassifier(base_estimator=RandomForestClassifier(ccp_alpha=0.0005253055608807533,\n                                                                           class_weight='balanced',\n                                                                           max_features='log2',\n                                                                           min_impurity_decrease=0.003807307877431759,\n                                                                           min_samples_split=6,\n                                                                           random_state=42),\n                                     learning_rate=0.9, n_estimators=25,\n                                     random_state=42))])",
      "text/html": "<style>#sk-be847e6d-fe9a-4d6a-8861-f35afa1b038d {color: black;background-color: white;}#sk-be847e6d-fe9a-4d6a-8861-f35afa1b038d pre{padding: 0;}#sk-be847e6d-fe9a-4d6a-8861-f35afa1b038d div.sk-toggleable {background-color: white;}#sk-be847e6d-fe9a-4d6a-8861-f35afa1b038d label.sk-toggleable__label {cursor: pointer;display: block;width: 100%;margin-bottom: 0;padding: 0.3em;box-sizing: border-box;text-align: center;}#sk-be847e6d-fe9a-4d6a-8861-f35afa1b038d label.sk-toggleable__label-arrow:before {content: \"▸\";float: left;margin-right: 0.25em;color: #696969;}#sk-be847e6d-fe9a-4d6a-8861-f35afa1b038d label.sk-toggleable__label-arrow:hover:before {color: black;}#sk-be847e6d-fe9a-4d6a-8861-f35afa1b038d div.sk-estimator:hover label.sk-toggleable__label-arrow:before {color: black;}#sk-be847e6d-fe9a-4d6a-8861-f35afa1b038d div.sk-toggleable__content {max-height: 0;max-width: 0;overflow: hidden;text-align: left;background-color: #f0f8ff;}#sk-be847e6d-fe9a-4d6a-8861-f35afa1b038d div.sk-toggleable__content pre {margin: 0.2em;color: black;border-radius: 0.25em;background-color: #f0f8ff;}#sk-be847e6d-fe9a-4d6a-8861-f35afa1b038d input.sk-toggleable__control:checked~div.sk-toggleable__content {max-height: 200px;max-width: 100%;overflow: auto;}#sk-be847e6d-fe9a-4d6a-8861-f35afa1b038d input.sk-toggleable__control:checked~label.sk-toggleable__label-arrow:before {content: \"▾\";}#sk-be847e6d-fe9a-4d6a-8861-f35afa1b038d div.sk-estimator input.sk-toggleable__control:checked~label.sk-toggleable__label {background-color: #d4ebff;}#sk-be847e6d-fe9a-4d6a-8861-f35afa1b038d div.sk-label input.sk-toggleable__control:checked~label.sk-toggleable__label {background-color: #d4ebff;}#sk-be847e6d-fe9a-4d6a-8861-f35afa1b038d input.sk-hidden--visually {border: 0;clip: rect(1px 1px 1px 1px);clip: rect(1px, 1px, 1px, 1px);height: 1px;margin: -1px;overflow: hidden;padding: 0;position: absolute;width: 1px;}#sk-be847e6d-fe9a-4d6a-8861-f35afa1b038d div.sk-estimator {font-family: monospace;background-color: #f0f8ff;border: 1px dotted black;border-radius: 0.25em;box-sizing: border-box;margin-bottom: 0.5em;}#sk-be847e6d-fe9a-4d6a-8861-f35afa1b038d div.sk-estimator:hover {background-color: #d4ebff;}#sk-be847e6d-fe9a-4d6a-8861-f35afa1b038d div.sk-parallel-item::after {content: \"\";width: 100%;border-bottom: 1px solid gray;flex-grow: 1;}#sk-be847e6d-fe9a-4d6a-8861-f35afa1b038d div.sk-label:hover label.sk-toggleable__label {background-color: #d4ebff;}#sk-be847e6d-fe9a-4d6a-8861-f35afa1b038d div.sk-serial::before {content: \"\";position: absolute;border-left: 1px solid gray;box-sizing: border-box;top: 2em;bottom: 0;left: 50%;}#sk-be847e6d-fe9a-4d6a-8861-f35afa1b038d div.sk-serial {display: flex;flex-direction: column;align-items: center;background-color: white;padding-right: 0.2em;padding-left: 0.2em;}#sk-be847e6d-fe9a-4d6a-8861-f35afa1b038d div.sk-item {z-index: 1;}#sk-be847e6d-fe9a-4d6a-8861-f35afa1b038d div.sk-parallel {display: flex;align-items: stretch;justify-content: center;background-color: white;}#sk-be847e6d-fe9a-4d6a-8861-f35afa1b038d div.sk-parallel::before {content: \"\";position: absolute;border-left: 1px solid gray;box-sizing: border-box;top: 2em;bottom: 0;left: 50%;}#sk-be847e6d-fe9a-4d6a-8861-f35afa1b038d div.sk-parallel-item {display: flex;flex-direction: column;position: relative;background-color: white;}#sk-be847e6d-fe9a-4d6a-8861-f35afa1b038d div.sk-parallel-item:first-child::after {align-self: flex-end;width: 50%;}#sk-be847e6d-fe9a-4d6a-8861-f35afa1b038d div.sk-parallel-item:last-child::after {align-self: flex-start;width: 50%;}#sk-be847e6d-fe9a-4d6a-8861-f35afa1b038d div.sk-parallel-item:only-child::after {width: 0;}#sk-be847e6d-fe9a-4d6a-8861-f35afa1b038d div.sk-dashed-wrapped {border: 1px dashed gray;margin: 0 0.4em 0.5em 0.4em;box-sizing: border-box;padding-bottom: 0.4em;background-color: white;position: relative;}#sk-be847e6d-fe9a-4d6a-8861-f35afa1b038d div.sk-label label {font-family: monospace;font-weight: bold;background-color: white;display: inline-block;line-height: 1.2em;}#sk-be847e6d-fe9a-4d6a-8861-f35afa1b038d div.sk-label-container {position: relative;z-index: 2;text-align: center;}#sk-be847e6d-fe9a-4d6a-8861-f35afa1b038d div.sk-container {/* jupyter's `normalize.less` sets `[hidden] { display: none; }` but bootstrap.min.css set `[hidden] { display: none !important; }` so we also need the `!important` here to be able to override the default hidden behavior on the sphinx rendered scikit-learn.org. See: https://github.com/scikit-learn/scikit-learn/issues/21755 */display: inline-block !important;position: relative;}#sk-be847e6d-fe9a-4d6a-8861-f35afa1b038d div.sk-text-repr-fallback {display: none;}</style><div id=\"sk-be847e6d-fe9a-4d6a-8861-f35afa1b038d\" class=\"sk-top-container\"><div class=\"sk-text-repr-fallback\"><pre>PPipeline(steps=[(&#x27;scaler&#x27;, QuantileTransformer(output_distribution=&#x27;normal&#x27;)),\n                 (&#x27;imputer&#x27;, KNNImputer(weights=&#x27;distance&#x27;)),\n                 (&#x27;estimator&#x27;,\n                  AdaBoostClassifier(base_estimator=RandomForestClassifier(ccp_alpha=0.0005253055608807533,\n                                                                           class_weight=&#x27;balanced&#x27;,\n                                                                           max_features=&#x27;log2&#x27;,\n                                                                           min_impurity_decrease=0.003807307877431759,\n                                                                           min_samples_split=6,\n                                                                           random_state=42),\n                                     learning_rate=0.9, n_estimators=25,\n                                     random_state=42))])</pre><b>Please rerun this cell to show the HTML repr or trust the notebook.</b></div><div class=\"sk-container\" hidden><div class=\"sk-item sk-dashed-wrapped\"><div class=\"sk-label-container\"><div class=\"sk-label sk-toggleable\"><input class=\"sk-toggleable__control sk-hidden--visually\" id=\"0a46ca8f-e375-47ed-964f-28e78495941c\" type=\"checkbox\" ><label for=\"0a46ca8f-e375-47ed-964f-28e78495941c\" class=\"sk-toggleable__label sk-toggleable__label-arrow\">PPipeline</label><div class=\"sk-toggleable__content\"><pre>PPipeline(steps=[(&#x27;scaler&#x27;, QuantileTransformer(output_distribution=&#x27;normal&#x27;)),\n                 (&#x27;imputer&#x27;, KNNImputer(weights=&#x27;distance&#x27;)),\n                 (&#x27;estimator&#x27;,\n                  AdaBoostClassifier(base_estimator=RandomForestClassifier(ccp_alpha=0.0005253055608807533,\n                                                                           class_weight=&#x27;balanced&#x27;,\n                                                                           max_features=&#x27;log2&#x27;,\n                                                                           min_impurity_decrease=0.003807307877431759,\n                                                                           min_samples_split=6,\n                                                                           random_state=42),\n                                     learning_rate=0.9, n_estimators=25,\n                                     random_state=42))])</pre></div></div></div><div class=\"sk-serial\"><div class=\"sk-item\"><div class=\"sk-estimator sk-toggleable\"><input class=\"sk-toggleable__control sk-hidden--visually\" id=\"a0327639-13e6-422c-ab75-140230c83ba6\" type=\"checkbox\" ><label for=\"a0327639-13e6-422c-ab75-140230c83ba6\" class=\"sk-toggleable__label sk-toggleable__label-arrow\">QuantileTransformer</label><div class=\"sk-toggleable__content\"><pre>QuantileTransformer(output_distribution=&#x27;normal&#x27;)</pre></div></div></div><div class=\"sk-item\"><div class=\"sk-estimator sk-toggleable\"><input class=\"sk-toggleable__control sk-hidden--visually\" id=\"34060b34-4b1f-43ac-a05e-e04d4874a522\" type=\"checkbox\" ><label for=\"34060b34-4b1f-43ac-a05e-e04d4874a522\" class=\"sk-toggleable__label sk-toggleable__label-arrow\">KNNImputer</label><div class=\"sk-toggleable__content\"><pre>KNNImputer(weights=&#x27;distance&#x27;)</pre></div></div></div><div class=\"sk-item sk-dashed-wrapped\"><div class=\"sk-label-container\"><div class=\"sk-label sk-toggleable\"><input class=\"sk-toggleable__control sk-hidden--visually\" id=\"f06e3c50-64ee-4d72-b1a7-c1cc572c2bb3\" type=\"checkbox\" ><label for=\"f06e3c50-64ee-4d72-b1a7-c1cc572c2bb3\" class=\"sk-toggleable__label sk-toggleable__label-arrow\">estimator: AdaBoostClassifier</label><div class=\"sk-toggleable__content\"><pre>AdaBoostClassifier(base_estimator=RandomForestClassifier(ccp_alpha=0.0005253055608807533,\n                                                         class_weight=&#x27;balanced&#x27;,\n                                                         max_features=&#x27;log2&#x27;,\n                                                         min_impurity_decrease=0.003807307877431759,\n                                                         min_samples_split=6,\n                                                         random_state=42),\n                   learning_rate=0.9, n_estimators=25, random_state=42)</pre></div></div></div><div class=\"sk-parallel\"><div class=\"sk-parallel-item\"><div class=\"sk-item\"><div class=\"sk-serial\"><div class=\"sk-item\"><div class=\"sk-estimator sk-toggleable\"><input class=\"sk-toggleable__control sk-hidden--visually\" id=\"250315b4-a765-4a11-845a-ff8be25c2743\" type=\"checkbox\" ><label for=\"250315b4-a765-4a11-845a-ff8be25c2743\" class=\"sk-toggleable__label sk-toggleable__label-arrow\">RandomForestClassifier</label><div class=\"sk-toggleable__content\"><pre>RandomForestClassifier(ccp_alpha=0.0005253055608807533, class_weight=&#x27;balanced&#x27;,\n                       max_features=&#x27;log2&#x27;,\n                       min_impurity_decrease=0.003807307877431759,\n                       min_samples_split=6, random_state=42)</pre></div></div></div></div></div></div></div></div></div></div></div></div>"
     },
     "execution_count": 53,
     "metadata": {},
     "output_type": "execute_result"
    }
   ],
   "source": [
    "\n",
    "print(ada_rf_ipsw_best.info)\n",
    "\n",
    "ada_rf_ipsw_best.best_estimator_"
   ],
   "metadata": {
    "collapsed": false,
    "pycharm": {
     "name": "#%%\n"
    }
   }
  },
  {
   "cell_type": "code",
   "execution_count": 54,
   "outputs": [
    {
     "name": "stdout",
     "output_type": "stream",
     "text": [
      "Pickling results to: D:\\PycharmProjects\\ce888\\project\\assignment2\\ihdp\\ihdp Adaboost Random Forest IPSW results.pickle\n",
      "pickled results!\n",
      "Pickling simple estimator to D:\\PycharmProjects\\ce888\\project\\assignment2\\ihdp\\ihdp Adaboost Random Forest IPSW estimator.pickle\n",
      "pickled estimator!\n"
     ]
    }
   ],
   "source": [
    "\n",
    "ada_rf_ipsw_best.save_me()"
   ],
   "metadata": {
    "collapsed": false,
    "pycharm": {
     "name": "#%%\n"
    }
   }
  },
  {
   "cell_type": "code",
   "execution_count": 55,
   "outputs": [
    {
     "data": {
      "text/plain": "<Figure size 1152x1296 with 2 Axes>",
      "image/png": "[encoded data removed]"
     },
     "metadata": {
      "needs_background": "light"
     },
     "output_type": "display_data"
    }
   ],
   "source": [
    "\n",
    "ada_rf_ipsw_best.importance_plotter().show()"
   ],
   "metadata": {
    "collapsed": false,
    "pycharm": {
     "name": "#%%\n"
    }
   }
  },
  {
   "cell_type": "code",
   "execution_count": null,
   "outputs": [],
   "source": [],
   "metadata": {
    "collapsed": false,
    "pycharm": {
     "name": "#%%\n"
    }
   }
  },
  {
   "cell_type": "code",
   "execution_count": null,
   "outputs": [],
   "source": [
    "%%time\n",
    "\n",
    "ada_sgd_ipsw_searched: List[\n",
    "    slearner.SimpleHalvingGridSearchResults\n",
    "] = slearner.simple_halving_grid_searcher(\n",
    "    AdaBoostClassifier(\n",
    "        random_state=seed()\n",
    "    ),\n",
    "    {\n",
    "        #\"regressor__base_estimator\": [\n",
    "        #    Pipeline(\n",
    "        #        steps = [i for i in rf.best_estimator_.named_steps.items()]\n",
    "        #    ) for rf in random_forest_searched_dict.keys()\n",
    "        #],\n",
    "        #\"regressor__n_estimators\": adaboost_estimators,\n",
    "        \"estimator__learning_rate\": adaboost_learn_rate,\n",
    "        \"estimator__base_estimator\": [\n",
    "            pl.clone_best_final_estimator for pl in sgd_ipsw_searched\n",
    "        ]\n",
    "    },\n",
    "    df_m=dfm,\n",
    "    df_selection=df_utils.DatasetEnum.X_T,\n",
    "    learner_name=\"Adaboost SGD IPSW\",\n",
    "    kfold_splits=10,\n",
    "    scorer_to_use=slearner.roc_auc_id(),\n",
    "    stratify_on=[\"tcf\"],\n",
    "    resource=\"estimator__n_estimators\",\n",
    "    resource_param_values=adaboost_estimators,\n",
    ")"
   ],
   "metadata": {
    "collapsed": false,
    "pycharm": {
     "name": "#%%\n"
    }
   }
  },
  {
   "cell_type": "code",
   "execution_count": null,
   "outputs": [],
   "source": [
    "\n",
    "\n",
    "ada_sgd_ipsw_best: slearner.SimpleHalvingGridSearchResults = max(\n",
    "    ada_sgd_ipsw_searched\n",
    ")"
   ],
   "metadata": {
    "collapsed": false,
    "pycharm": {
     "name": "#%%\n"
    }
   }
  },
  {
   "cell_type": "code",
   "execution_count": null,
   "outputs": [],
   "source": [
    "\n",
    "print(ada_sgd_ipsw_best.info)\n",
    "\n",
    "ada_sgd_ipsw_best.best_estimator_"
   ],
   "metadata": {
    "collapsed": false,
    "pycharm": {
     "name": "#%%\n"
    }
   }
  },
  {
   "cell_type": "code",
   "execution_count": null,
   "outputs": [],
   "source": [
    "\n",
    "ada_sgd_ipsw_best.save_me()"
   ],
   "metadata": {
    "collapsed": false,
    "pycharm": {
     "name": "#%%\n"
    }
   }
  },
  {
   "cell_type": "code",
   "execution_count": null,
   "outputs": [],
   "source": [
    "\n",
    "ada_sgd_ipsw_best.importance_plotter().show()"
   ],
   "metadata": {
    "collapsed": false,
    "pycharm": {
     "name": "#%%\n"
    }
   }
  },
  {
   "cell_type": "code",
   "execution_count": null,
   "outputs": [],
   "source": [],
   "metadata": {
    "collapsed": false,
    "pycharm": {
     "name": "#%%\n"
    }
   }
  },
  {
   "cell_type": "code",
   "execution_count": null,
   "outputs": [],
   "source": [
    "all_ipsw_clf_best: List[slearner.SimpleHalvingGridSearchResults] = [\n",
    "    rf_ipsw_best,\n",
    "    sgd_ipsw_best,\n",
    "    ada_rf_ipsw_best,\n",
    "    ada_sgd_ipsw_best\n",
    "]\n",
    "\n",
    "all_ipsw_clf_best.sort(reverse=True)\n",
    "\n",
    "for bc in all_ipsw_clf_best:\n",
    "    print(bc.summary_info)\n",
    "\n",
    "print(\"\")"
   ],
   "metadata": {
    "collapsed": false,
    "pycharm": {
     "name": "#%%\n"
    }
   }
  },
  {
   "cell_type": "code",
   "execution_count": null,
   "outputs": [],
   "source": [],
   "metadata": {
    "collapsed": false,
    "pycharm": {
     "name": "#%%\n"
    }
   }
  },
  {
   "cell_type": "code",
   "execution_count": null,
   "outputs": [],
   "source": [
    "best_ipsw_predictor: slearner.PPipeline = max(all_ipsw_clf_best).clone_best_final_estimator\n",
    "\n",
    "\n",
    "ipsw_values: np.ndarray = metric_utils.get_ps_weights(\n",
    "    best_ipsw_predictor, *dfm.x_y(None, df_utils.DatasetEnum.X_T)\n",
    ")\n",
    "\n",
    "dfm.record_ipsw_info(ipsw_values)\n",
    "\n",
    "dfm.save_self()\n"
   ],
   "metadata": {
    "collapsed": false,
    "pycharm": {
     "name": "#%%\n"
    }
   }
  },
  {
   "cell_type": "markdown",
   "source": [
    "### And now using these weights to redo the earlier simple estimators"
   ],
   "metadata": {
    "collapsed": false,
    "pycharm": {
     "name": "#%% md\n"
    }
   }
  },
  {
   "cell_type": "code",
   "execution_count": null,
   "outputs": [],
   "source": [
    "%%time\n",
    "\n",
    "\n",
    "rf_simple_ipsw_searched: List[\n",
    "    slearner.SimpleHalvingGridSearchResults\n",
    "] = slearner.simple_halving_grid_searcher(\n",
    "    RandomForestRegressor(criterion=\"squared_error\", random_state=seed()),\n",
    "    {\n",
    "        #\"estimator__n_estimators\": [75,100,125],\n",
    "        \"estimator__min_samples_split\": [2, 4, 6, 8],  # rf_min_samples,\n",
    "        \"estimator__min_impurity_decrease\": [0, *np.geomspace(0.00001, 0.2, 6)[1:]],  #  rf_min_impurity_decrease,\n",
    "        \"estimator__max_features\": [None, \"sqrt\", \"log2\", 1, 2],  # rf_max_features,\n",
    "        # \"estimator__oob_score\": [False, True],\n",
    "        \"estimator__ccp_alpha\": [0, *np.geomspace(0.00001, 0.2, 6)[1:]]  # rf_ccp_alpha\n",
    "    },\n",
    "    df_m=dfm,\n",
    "    df_selection=df_utils.DatasetEnum.FACTUAL,\n",
    "    learner_name=\"Random Forest simple with IPSW\",\n",
    "    kfold_splits=10,\n",
    "    scorer_to_use=slearner.r2_score_id(),\n",
    "    stratify_on=[\"t\"],\n",
    "    resource=\"estimator__n_estimators\",\n",
    "    sample_weights=dfm.get_ipsw(None).to_numpy(),\n",
    "    resource_param_values=rf_n_estimators,\n",
    "    #classes_ndarray=ihdp_learn_df_x[\"t\"].to_numpy()\n",
    ")"
   ],
   "metadata": {
    "collapsed": false,
    "pycharm": {
     "name": "#%%\n"
    }
   }
  },
  {
   "cell_type": "code",
   "execution_count": null,
   "outputs": [],
   "source": [
    "\n",
    "rf_simple_ipsw_best: slearner.SimpleHalvingGridSearchResults = max(\n",
    "    rf_simple_ipsw_searched\n",
    ")"
   ],
   "metadata": {
    "collapsed": false,
    "pycharm": {
     "name": "#%%\n"
    }
   }
  },
  {
   "cell_type": "code",
   "execution_count": null,
   "outputs": [],
   "source": [
    "\n",
    "print(rf_simple_ipsw_best.info)\n",
    "\n",
    "rf_simple_ipsw_best.best_estimator_"
   ],
   "metadata": {
    "collapsed": false,
    "pycharm": {
     "name": "#%%\n"
    }
   }
  },
  {
   "cell_type": "code",
   "execution_count": null,
   "outputs": [],
   "source": [
    "\n",
    "rf_simple_ipsw_best.save_me()"
   ],
   "metadata": {
    "collapsed": false,
    "pycharm": {
     "name": "#%%\n"
    }
   }
  },
  {
   "cell_type": "code",
   "execution_count": null,
   "outputs": [],
   "source": [
    "rf_simple_ipsw_best.importance_plotter().show()"
   ],
   "metadata": {
    "collapsed": false,
    "pycharm": {
     "name": "#%%\n"
    }
   }
  },
  {
   "cell_type": "code",
   "execution_count": null,
   "outputs": [],
   "source": [
    "%%time\n",
    "\n",
    "\n",
    "ard_simple_ipsw_searched: List[\n",
    "    slearner.SimpleHalvingGridSearchResults\n",
    "] = slearner.simple_halving_grid_searcher(\n",
    "    ARDRegression(),\n",
    "    {\n",
    "        #\"regressor__n_iter\": ard_iter,\n",
    "        \"estimator__tol\": ard_tol,\n",
    "        \"estimator__alpha_1\": ard_alpha_lambda,\n",
    "        \"estimator__alpha_2\": ard_alpha_lambda,\n",
    "        \"estimator__lambda_1\": ard_alpha_lambda,\n",
    "        \"estimator__lambda_2\": ard_alpha_lambda,\n",
    "        \"estimator__threshold_lambda\": ard_thresh_lambda\n",
    "    },\n",
    "    df_m=dfm,\n",
    "    df_selection=df_utils.DatasetEnum.FACTUAL,\n",
    "    learner_name=\"ARD simple with IPSW\",\n",
    "    kfold_splits=10,\n",
    "    scorer_to_use=slearner.r2_score_id(),\n",
    "    stratify_on=[\"t\"],\n",
    "    resource=\"estimator__n_iter\",\n",
    "    sample_weights=dfm.get_ipsw(None).to_numpy(),\n",
    "    resource_param_values=ard_iter\n",
    ")\n"
   ],
   "metadata": {
    "collapsed": false,
    "pycharm": {
     "name": "#%%\n"
    }
   }
  },
  {
   "cell_type": "code",
   "execution_count": null,
   "outputs": [],
   "source": [
    "ard_simple_ipsw_best: slearner.SimpleHalvingGridSearchResults = max(\n",
    "    ard_simple_ipsw_searched\n",
    ")\n"
   ],
   "metadata": {
    "collapsed": false,
    "pycharm": {
     "name": "#%%\n"
    }
   }
  },
  {
   "cell_type": "code",
   "execution_count": null,
   "outputs": [],
   "source": [
    "print(ard_simple_best.info)\n",
    "\n",
    "ard_simple_best.best_estimator_\n"
   ],
   "metadata": {
    "collapsed": false,
    "pycharm": {
     "name": "#%%\n"
    }
   }
  },
  {
   "cell_type": "code",
   "execution_count": null,
   "outputs": [],
   "source": [
    "ard_simple_best.save_me()"
   ],
   "metadata": {
    "collapsed": false,
    "pycharm": {
     "name": "#%%\n"
    }
   }
  },
  {
   "cell_type": "code",
   "execution_count": null,
   "outputs": [],
   "source": [
    "ard_simple_best.importance_plotter().show()"
   ],
   "metadata": {
    "collapsed": false,
    "pycharm": {
     "name": "#%%\n"
    }
   }
  },
  {
   "cell_type": "code",
   "execution_count": null,
   "outputs": [],
   "source": [
    "%%time\n",
    "\n",
    "\n",
    "ada_rf_simple_ipsw_searched: List[\n",
    "    slearner.SimpleHalvingGridSearchResults\n",
    "] = slearner.simple_halving_grid_searcher(\n",
    "    AdaBoostRegressor(\n",
    "        random_state=seed()\n",
    "    ),\n",
    "    {\n",
    "        #\"regressor__base_estimator\": [\n",
    "        #    Pipeline(\n",
    "        #        steps = [i for i in rf.best_estimator_.named_steps.items()]\n",
    "        #    ) for rf in random_forest_searched_dict.keys()\n",
    "        #],\n",
    "        #\"regressor__n_estimators\": adaboost_estimators,\n",
    "        \"estimator__learning_rate\": adaboost_learn_rate,\n",
    "        \"estimator__loss\": adaboost_loss,\n",
    "        \"estimator__base_estimator\": [\n",
    "            pl.clone_best_final_estimator for pl in rf_simple_searched\n",
    "        ]\n",
    "    },\n",
    "    df_m=dfm,\n",
    "    df_selection=df_utils.DatasetEnum.FACTUAL,\n",
    "    learner_name=\"Adaboost Random Forest simple with IPSW\",\n",
    "    kfold_splits=10,\n",
    "    scorer_to_use=slearner.r2_score_id(),\n",
    "    stratify_on=[\"t\"],\n",
    "    sample_weights=dfm.get_ipsw(None).to_numpy(),\n",
    "    resource=\"estimator__n_estimators\",\n",
    "    resource_param_values=adaboost_estimators,\n",
    ")"
   ],
   "metadata": {
    "collapsed": false,
    "pycharm": {
     "name": "#%%\n"
    }
   }
  },
  {
   "cell_type": "code",
   "execution_count": null,
   "outputs": [],
   "source": [
    "\n",
    "ada_rf_simple_ipsw_best: slearner.SimpleHalvingGridSearchResults = max(\n",
    "    ada_rf_simple_ipsw_searched\n",
    ")"
   ],
   "metadata": {
    "collapsed": false,
    "pycharm": {
     "name": "#%%\n"
    }
   }
  },
  {
   "cell_type": "code",
   "execution_count": null,
   "outputs": [],
   "source": [
    "\n",
    "print(ada_rf_simple_ipsw_best.info)\n",
    "\n",
    "ada_rf_simple_ipsw_best.best_estimator_\n"
   ],
   "metadata": {
    "collapsed": false,
    "pycharm": {
     "name": "#%%\n"
    }
   }
  },
  {
   "cell_type": "code",
   "execution_count": null,
   "outputs": [],
   "source": [
    "ada_rf_simple_ipsw_best.save_me()"
   ],
   "metadata": {
    "collapsed": false,
    "pycharm": {
     "name": "#%%\n"
    }
   }
  },
  {
   "cell_type": "code",
   "execution_count": null,
   "outputs": [],
   "source": [
    "ada_rf_simple_ipsw_best.importance_plotter().show()"
   ],
   "metadata": {
    "collapsed": false,
    "pycharm": {
     "name": "#%%\n"
    }
   }
  },
  {
   "cell_type": "code",
   "execution_count": null,
   "outputs": [],
   "source": [
    "%%time\n",
    "ada_ard_simple_ipsw_searched: List[\n",
    "    slearner.SimpleHalvingGridSearchResults\n",
    "] = slearner.simple_halving_grid_searcher(\n",
    "    AdaBoostRegressor(\n",
    "        random_state=seed()\n",
    "    ),\n",
    "    {\n",
    "        #\"regressor__base_estimator\": [\n",
    "        #    Pipeline(\n",
    "        #        steps = [i for i in ard.best_estimator_.named_steps.items()]\n",
    "        #    ) for ard in ard_searched_dict.keys()\n",
    "        #],\n",
    "        #\"regressor__n_estimators\": adaboost_estimators,\n",
    "        \"estimator__learning_rate\": adaboost_learn_rate,\n",
    "        \"estimator__loss\": adaboost_loss,\n",
    "        \"estimator__base_estimator\": [\n",
    "            pl.clone_best_final_estimator for pl in ard_simple_searched\n",
    "        ]\n",
    "    },\n",
    "    df_m=dfm,\n",
    "    df_selection=df_utils.DatasetEnum.FACTUAL,\n",
    "    learner_name=\"Adaboost ARD simple IPSW\",\n",
    "    kfold_splits=10,\n",
    "    scorer_to_use=slearner.r2_score_id(),\n",
    "    stratify_on=[\"t\"],\n",
    "    resource=\"estimator__n_estimators\",\n",
    "    sample_weights=dfm.get_ipsw(None).to_numpy(),\n",
    "    resource_param_values=adaboost_estimators,\n",
    ")\n"
   ],
   "metadata": {
    "collapsed": false,
    "pycharm": {
     "name": "#%%\n"
    }
   }
  },
  {
   "cell_type": "code",
   "execution_count": null,
   "outputs": [],
   "source": [
    "ada_ard_simple_ipsw_best: slearner.SimpleHalvingGridSearchResults = max(\n",
    "    ada_ard_simple_ipsw_searched\n",
    ")\n"
   ],
   "metadata": {
    "collapsed": false,
    "pycharm": {
     "name": "#%%\n"
    }
   }
  },
  {
   "cell_type": "code",
   "execution_count": null,
   "outputs": [],
   "source": [
    "print(ada_ard_simple_ipsw_best.info)\n",
    "\n",
    "ada_ard_simple_ipsw_best.best_estimator_\n"
   ],
   "metadata": {
    "collapsed": false,
    "pycharm": {
     "name": "#%%\n"
    }
   }
  },
  {
   "cell_type": "code",
   "execution_count": null,
   "outputs": [],
   "source": [
    "ada_ard_simple_ipsw_best.save_me()"
   ],
   "metadata": {
    "collapsed": false,
    "pycharm": {
     "name": "#%%\n"
    }
   }
  },
  {
   "cell_type": "code",
   "execution_count": null,
   "outputs": [],
   "source": [
    "ada_ard_simple_ipsw_best.importance_plotter().show()\n"
   ],
   "metadata": {
    "collapsed": false,
    "pycharm": {
     "name": "#%%\n"
    }
   }
  },
  {
   "cell_type": "code",
   "execution_count": null,
   "outputs": [],
   "source": [
    "all_simple_ipsw_best: List[slearner.SimpleHalvingGridSearchResults] = [\n",
    "    rf_simple_ipsw_best,\n",
    "    ard_simple_ipsw_best,\n",
    "    ada_rf_simple_ipsw_best,\n",
    "    ada_ard_simple_ipsw_best\n",
    "]\n",
    "\n",
    "all_simple_ipsw_best.sort(reverse=True)"
   ],
   "metadata": {
    "collapsed": false,
    "pycharm": {
     "name": "#%%\n"
    }
   }
  },
  {
   "cell_type": "code",
   "execution_count": null,
   "outputs": [],
   "source": [
    "\n",
    "for bc in all_simple_ipsw_best:\n",
    "    print(bc.summary_info)\n",
    "\n",
    "print(\"\")"
   ],
   "metadata": {
    "collapsed": false,
    "pycharm": {
     "name": "#%%\n"
    }
   }
  },
  {
   "cell_type": "markdown",
   "source": [
    "# 5: The CATE stuff"
   ],
   "metadata": {
    "collapsed": false,
    "pycharm": {
     "name": "#%% md\n"
    }
   }
  },
  {
   "cell_type": "code",
   "execution_count": null,
   "outputs": [],
   "source": [],
   "metadata": {
    "collapsed": false,
    "pycharm": {
     "name": "#%%\n"
    }
   }
  },
  {
   "cell_type": "code",
   "execution_count": null,
   "outputs": [],
   "source": [],
   "metadata": {
    "collapsed": false,
    "pycharm": {
     "name": "#%%\n"
    }
   }
  },
  {
   "cell_type": "code",
   "execution_count": null,
   "outputs": [],
   "source": [],
   "metadata": {
    "collapsed": false,
    "pycharm": {
     "name": "#%%\n"
    }
   }
  },
  {
   "cell_type": "code",
   "execution_count": null,
   "outputs": [],
   "source": [],
   "metadata": {
    "collapsed": false,
    "pycharm": {
     "name": "#%%\n"
    }
   }
  },
  {
   "cell_type": "code",
   "execution_count": null,
   "outputs": [],
   "source": [],
   "metadata": {
    "collapsed": false,
    "pycharm": {
     "name": "#%%\n"
    }
   }
  },
  {
   "cell_type": "code",
   "execution_count": null,
   "outputs": [],
   "source": [],
   "metadata": {
    "collapsed": false,
    "pycharm": {
     "name": "#%%\n"
    }
   }
  },
  {
   "cell_type": "code",
   "execution_count": null,
   "outputs": [],
   "source": [],
   "metadata": {
    "collapsed": false,
    "pycharm": {
     "name": "#%%\n"
    }
   }
  },
  {
   "cell_type": "code",
   "execution_count": null,
   "outputs": [],
   "source": [],
   "metadata": {
    "collapsed": false,
    "pycharm": {
     "name": "#%%\n"
    }
   }
  },
  {
   "cell_type": "code",
   "execution_count": null,
   "outputs": [],
   "source": [],
   "metadata": {
    "collapsed": false,
    "pycharm": {
     "name": "#%%\n"
    }
   }
  },
  {
   "cell_type": "code",
   "execution_count": null,
   "outputs": [],
   "source": [],
   "metadata": {
    "collapsed": false,
    "pycharm": {
     "name": "#%%\n"
    }
   }
  },
  {
   "cell_type": "code",
   "execution_count": null,
   "outputs": [],
   "source": [],
   "metadata": {
    "collapsed": false,
    "pycharm": {
     "name": "#%%\n"
    }
   }
  },
  {
   "cell_type": "code",
   "execution_count": null,
   "outputs": [],
   "source": [],
   "metadata": {
    "collapsed": false,
    "pycharm": {
     "name": "#%%\n"
    }
   }
  },
  {
   "cell_type": "code",
   "execution_count": null,
   "outputs": [],
   "source": [],
   "metadata": {
    "collapsed": false,
    "pycharm": {
     "name": "#%%\n"
    }
   }
  },
  {
   "cell_type": "code",
   "execution_count": null,
   "outputs": [],
   "source": [],
   "metadata": {
    "collapsed": false,
    "pycharm": {
     "name": "#%%\n"
    }
   }
  },
  {
   "cell_type": "code",
   "execution_count": null,
   "outputs": [],
   "source": [],
   "metadata": {
    "collapsed": false,
    "pycharm": {
     "name": "#%%\n"
    }
   }
  },
  {
   "cell_type": "code",
   "execution_count": null,
   "outputs": [],
   "source": [],
   "metadata": {
    "collapsed": false,
    "pycharm": {
     "name": "#%%\n"
    }
   }
  },
  {
   "cell_type": "code",
   "execution_count": null,
   "outputs": [],
   "source": [],
   "metadata": {
    "collapsed": false,
    "pycharm": {
     "name": "#%%\n"
    }
   }
  },
  {
   "cell_type": "code",
   "execution_count": null,
   "outputs": [],
   "source": [],
   "metadata": {
    "collapsed": false,
    "pycharm": {
     "name": "#%%\n"
    }
   }
  },
  {
   "cell_type": "code",
   "execution_count": null,
   "outputs": [],
   "source": [],
   "metadata": {
    "collapsed": false,
    "pycharm": {
     "name": "#%%\n"
    }
   }
  },
  {
   "cell_type": "code",
   "execution_count": null,
   "outputs": [],
   "source": [],
   "metadata": {
    "collapsed": false,
    "pycharm": {
     "name": "#%%\n"
    }
   }
  },
  {
   "cell_type": "code",
   "execution_count": null,
   "outputs": [],
   "source": [],
   "metadata": {
    "collapsed": false,
    "pycharm": {
     "name": "#%%\n"
    }
   }
  },
  {
   "cell_type": "code",
   "execution_count": null,
   "outputs": [],
   "source": [],
   "metadata": {
    "collapsed": false,
    "pycharm": {
     "name": "#%%\n"
    }
   }
  },
  {
   "cell_type": "code",
   "execution_count": null,
   "outputs": [],
   "source": [],
   "metadata": {
    "collapsed": false,
    "pycharm": {
     "name": "#%%\n"
    }
   }
  },
  {
   "cell_type": "code",
   "execution_count": null,
   "outputs": [],
   "source": [],
   "metadata": {
    "collapsed": false,
    "pycharm": {
     "name": "#%%\n"
    }
   }
  },
  {
   "cell_type": "code",
   "execution_count": null,
   "outputs": [],
   "source": [],
   "metadata": {
    "collapsed": false,
    "pycharm": {
     "name": "#%%\n"
    }
   }
  },
  {
   "cell_type": "code",
   "execution_count": null,
   "outputs": [],
   "source": [],
   "metadata": {
    "collapsed": false,
    "pycharm": {
     "name": "#%%\n"
    }
   }
  },
  {
   "cell_type": "code",
   "execution_count": null,
   "outputs": [],
   "source": [],
   "metadata": {
    "collapsed": false,
    "pycharm": {
     "name": "#%%\n"
    }
   }
  },
  {
   "cell_type": "code",
   "execution_count": null,
   "outputs": [],
   "source": [],
   "metadata": {
    "collapsed": false,
    "pycharm": {
     "name": "#%%\n"
    }
   }
  },
  {
   "cell_type": "code",
   "execution_count": null,
   "outputs": [],
   "source": [],
   "metadata": {
    "collapsed": false,
    "pycharm": {
     "name": "#%%\n"
    }
   }
  },
  {
   "cell_type": "code",
   "execution_count": null,
   "outputs": [],
   "source": [],
   "metadata": {
    "collapsed": false,
    "pycharm": {
     "name": "#%%\n"
    }
   }
  }
 ],
 "metadata": {
  "kernelspec": {
   "display_name": "Python 3",
   "language": "python",
   "name": "python3"
  },
  "language_info": {
   "codemirror_mode": {
    "name": "ipython",
    "version": 2
   },
   "file_extension": ".py",
   "mimetype": "text/x-python",
   "name": "python",
   "nbconvert_exporter": "python",
   "pygments_lexer": "ipython2",
   "version": "2.7.6"
  }
 },
 "nbformat": 4,
 "nbformat_minor": 0
}