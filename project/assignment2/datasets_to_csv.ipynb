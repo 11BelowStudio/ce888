{
 "cells": [
  {
   "cell_type": "markdown",
   "metadata": {
    "collapsed": true,
    "pycharm": {
     "name": "#%% md\n"
    }
   },
   "source": [
    "# This notebook basically just converts the given datasets into csv format (for ease of use later on)"
   ]
  },
  {
   "cell_type": "code",
   "execution_count": 7,
   "outputs": [],
   "source": [
    "\n",
    "import numpy as np\n",
    "import pandas as pd\n",
    "from typing import Dict, Tuple, List, Union, Iterable, Optional\n",
    "import doctest\n",
    "\n",
    "from a2_utils import dataframe_utils\n"
   ],
   "metadata": {
    "collapsed": false,
    "pycharm": {
     "name": "#%%\n"
    }
   }
  },
  {
   "cell_type": "code",
   "execution_count": 7,
   "outputs": [],
   "source": [
    "\n",
    "\n"
   ],
   "metadata": {
    "collapsed": false,
    "pycharm": {
     "name": "#%%\n"
    }
   }
  },
  {
   "cell_type": "markdown",
   "source": [
    "# Opening the IHDP dataset"
   ],
   "metadata": {
    "collapsed": false,
    "pycharm": {
     "name": "#%% md\n"
    }
   }
  },
  {
   "cell_type": "code",
   "execution_count": 8,
   "outputs": [
    {
     "name": "stdout",
     "output_type": "stream",
     "text": [
      "x: (747, 25)\n",
      "t: (747, 1)\n",
      "yf: (747, 1)\n",
      "ycf: (747, 1)\n",
      "ite: (747, 1)\n"
     ]
    },
    {
     "data": {
      "text/plain": "         x0        x1        x2        x3        x4        x5  x6  x7  x8  x9  \\\n0  1.397395  0.996346 -1.105624 -0.879606  0.308569 -1.023402   1   0   0   0   \n1  0.269033  0.196818  0.383828  0.161703 -0.629189  1.460832   1   0   1   0   \n2  1.051537  1.795874 -1.105624  0.161703 -0.629189  0.963985   1   0   1   1   \n3  0.662446  0.196818 -0.733261 -0.879606  0.371086 -0.692171   1   0   0   0   \n4  0.856992  1.795874  0.011465 -0.879606  0.558638  0.301522   0   1   1   0   \n\n   ...  x22  x23  x24  t        yf       ycf       ite  tcf        t0  \\\n0  ...    0    0    1  1  4.771232 -0.298509  4.657928    0 -0.298509   \n1  ...    0    0    0  0  2.956273  5.783770  3.428604    1  2.956273   \n2  ...    0    0    1  0  4.164164  7.055789  3.658195    1  4.164164   \n3  ...    0    0    0  1  6.172307  1.379697  4.585505    0  1.379697   \n4  ...    0    0    0  1  7.834469  2.747986  4.265591    0  2.747986   \n\n         t1  \n0  4.771232  \n1  5.783770  \n2  7.055789  \n3  6.172307  \n4  7.834469  \n\n[5 rows x 32 columns]",
      "text/html": "<div>\n<style scoped>\n    .dataframe tbody tr th:only-of-type {\n        vertical-align: middle;\n    }\n\n    .dataframe tbody tr th {\n        vertical-align: top;\n    }\n\n    .dataframe thead th {\n        text-align: right;\n    }\n</style>\n<table border=\"1\" class=\"dataframe\">\n  <thead>\n    <tr style=\"text-align: right;\">\n      <th></th>\n      <th>x0</th>\n      <th>x1</th>\n      <th>x2</th>\n      <th>x3</th>\n      <th>x4</th>\n      <th>x5</th>\n      <th>x6</th>\n      <th>x7</th>\n      <th>x8</th>\n      <th>x9</th>\n      <th>...</th>\n      <th>x22</th>\n      <th>x23</th>\n      <th>x24</th>\n      <th>t</th>\n      <th>yf</th>\n      <th>ycf</th>\n      <th>ite</th>\n      <th>tcf</th>\n      <th>t0</th>\n      <th>t1</th>\n    </tr>\n  </thead>\n  <tbody>\n    <tr>\n      <th>0</th>\n      <td>1.397395</td>\n      <td>0.996346</td>\n      <td>-1.105624</td>\n      <td>-0.879606</td>\n      <td>0.308569</td>\n      <td>-1.023402</td>\n      <td>1</td>\n      <td>0</td>\n      <td>0</td>\n      <td>0</td>\n      <td>...</td>\n      <td>0</td>\n      <td>0</td>\n      <td>1</td>\n      <td>1</td>\n      <td>4.771232</td>\n      <td>-0.298509</td>\n      <td>4.657928</td>\n      <td>0</td>\n      <td>-0.298509</td>\n      <td>4.771232</td>\n    </tr>\n    <tr>\n      <th>1</th>\n      <td>0.269033</td>\n      <td>0.196818</td>\n      <td>0.383828</td>\n      <td>0.161703</td>\n      <td>-0.629189</td>\n      <td>1.460832</td>\n      <td>1</td>\n      <td>0</td>\n      <td>1</td>\n      <td>0</td>\n      <td>...</td>\n      <td>0</td>\n      <td>0</td>\n      <td>0</td>\n      <td>0</td>\n      <td>2.956273</td>\n      <td>5.783770</td>\n      <td>3.428604</td>\n      <td>1</td>\n      <td>2.956273</td>\n      <td>5.783770</td>\n    </tr>\n    <tr>\n      <th>2</th>\n      <td>1.051537</td>\n      <td>1.795874</td>\n      <td>-1.105624</td>\n      <td>0.161703</td>\n      <td>-0.629189</td>\n      <td>0.963985</td>\n      <td>1</td>\n      <td>0</td>\n      <td>1</td>\n      <td>1</td>\n      <td>...</td>\n      <td>0</td>\n      <td>0</td>\n      <td>1</td>\n      <td>0</td>\n      <td>4.164164</td>\n      <td>7.055789</td>\n      <td>3.658195</td>\n      <td>1</td>\n      <td>4.164164</td>\n      <td>7.055789</td>\n    </tr>\n    <tr>\n      <th>3</th>\n      <td>0.662446</td>\n      <td>0.196818</td>\n      <td>-0.733261</td>\n      <td>-0.879606</td>\n      <td>0.371086</td>\n      <td>-0.692171</td>\n      <td>1</td>\n      <td>0</td>\n      <td>0</td>\n      <td>0</td>\n      <td>...</td>\n      <td>0</td>\n      <td>0</td>\n      <td>0</td>\n      <td>1</td>\n      <td>6.172307</td>\n      <td>1.379697</td>\n      <td>4.585505</td>\n      <td>0</td>\n      <td>1.379697</td>\n      <td>6.172307</td>\n    </tr>\n    <tr>\n      <th>4</th>\n      <td>0.856992</td>\n      <td>1.795874</td>\n      <td>0.011465</td>\n      <td>-0.879606</td>\n      <td>0.558638</td>\n      <td>0.301522</td>\n      <td>0</td>\n      <td>1</td>\n      <td>1</td>\n      <td>0</td>\n      <td>...</td>\n      <td>0</td>\n      <td>0</td>\n      <td>0</td>\n      <td>1</td>\n      <td>7.834469</td>\n      <td>2.747986</td>\n      <td>4.265591</td>\n      <td>0</td>\n      <td>2.747986</td>\n      <td>7.834469</td>\n    </tr>\n  </tbody>\n</table>\n<p>5 rows × 32 columns</p>\n</div>"
     },
     "execution_count": 8,
     "metadata": {},
     "output_type": "execute_result"
    }
   ],
   "source": [
    "ihdp_dict: Dict[str, np.ndarray] = dataframe_utils.npz_to_dict(\"../data/ihdp.npz\", allow_pickle = False)\n",
    "for k,v in ihdp_dict.items():\n",
    "    print(f\"{k}: {v.shape}\")\n",
    "\n",
    "ihdp_df_x: pd.DataFrame = dataframe_utils.x_to_dataframe(ihdp_dict['x'])\n",
    "\"\"\"Dataframe holding the 'x' data for the IHDP dataset\"\"\"\n",
    "\n",
    "\n",
    "ihdp_df: pd.DataFrame = dataframe_utils.add_everything_but_x_to_copy_of_dataframe(\n",
    "    ihdp_df_x.copy(),\n",
    "    ihdp_dict,\n",
    "    \"x\"\n",
    ")\n",
    "\"\"\"Dataframe holding the entirety of the IHDP dataset\"\"\"\n",
    "\n",
    "ihdp_df_t: pd.DataFrame = dataframe_utils.process_counterfactuals(\n",
    "    ihdp_df.copy(),\n",
    "    t=\"t\",\n",
    "    y_factual=\"yf\",\n",
    "    new_counterfactual_t=\"tcf\",\n",
    "    y_counterfactual=\"ycf\",\n",
    "    ite=\"ite\",\n",
    "    t0_name=\"t0\",\n",
    "    t1_name=\"t1\"\n",
    ")#ihdp_df.copy()\n",
    "\"Dataframe with clearly marked 't0' and 't1' outcomes for each individual\"\n",
    "\n",
    "\n",
    "#ihdp_df_t[\"t0\"] = np.choose(ihdp_df[\"t\"].values, [ihdp_df[\"yf\"].values, ihdp_df[\"ycf\"].values])\n",
    "#ihdp_df_t[\"t1\"] = np.choose(ihdp_df[\"t\"].values, [ihdp_df[\"ycf\"].values, ihdp_df[\"yf\"].values])\n",
    "\n",
    "#ihdp_df_t.attrs[\"not_01\"] = (*ihdp_df_t.attrs[\"not_01\"],  \"t0\",\"t1\")\n",
    "#ihdp_df_t.attrs[\"01\"] = (*ihdp_df_t.attrs[\"01\"],\"tcf\")\n",
    "\n",
    "ihdp_df_t.head()"
   ],
   "metadata": {
    "collapsed": false,
    "pycharm": {
     "name": "#%%\n"
    }
   }
  },
  {
   "cell_type": "code",
   "execution_count": 9,
   "outputs": [],
   "source": [
    "ihdp_df_t.to_csv(\n",
    "    \"ihdp_full.csv\",\n",
    "    index=False\n",
    ")\n"
   ],
   "metadata": {
    "collapsed": false,
    "pycharm": {
     "name": "#%%\n"
    }
   }
  },
  {
   "cell_type": "markdown",
   "source": [
    "# Opening the JOBS dataset\n"
   ],
   "metadata": {
    "collapsed": false,
    "pycharm": {
     "name": "#%% md\n"
    }
   }
  },
  {
   "cell_type": "code",
   "execution_count": 10,
   "outputs": [
    {
     "name": "stdout",
     "output_type": "stream",
     "text": [
      "x: (3212, 17)\n",
      "t: (3212, 1)\n",
      "y: (3212, 1)\n",
      "e: (3212, 1)\n"
     ]
    },
    {
     "data": {
      "text/plain": "         x0        x1  x2  x3  x4  x5        x6        x7        x8        x9  \\\n0 -0.614282  1.464727   0   0   1   0  2.393250  2.746196 -0.653311 -0.656913   \n1 -0.802463  0.101835   0   0   1   0  0.109885  0.498271 -0.785284 -0.743407   \n2 -0.896553 -0.238888   1   0   1   1 -0.085212 -0.148097 -0.847312 -0.781606   \n3 -0.896553 -0.238888   0   0   0   1  0.405581  0.325594 -0.847312 -0.781606   \n4  0.138440 -1.601779   1   0   1   1 -0.722531 -0.212734 -0.019840 -0.156019   \n\n   ...       x11       x12  x13  x14       x15  x16  t  y  e  tcf  \n0  ...  2.462337  2.937244    0    0  2.843909    0  0  1  0    1  \n1  ... -0.177193  0.082537    0    0  0.038422    0  0  1  0    1  \n2  ... -0.286221 -0.303615    0    0 -0.191304    0  0  1  0    1  \n3  ...  0.023020 -0.039630    0    0  0.173108    0  0  1  1    1  \n4  ... -0.514563 -0.331552    0    0 -0.779227    0  0  1  0    1  \n\n[5 rows x 21 columns]",
      "text/html": "<div>\n<style scoped>\n    .dataframe tbody tr th:only-of-type {\n        vertical-align: middle;\n    }\n\n    .dataframe tbody tr th {\n        vertical-align: top;\n    }\n\n    .dataframe thead th {\n        text-align: right;\n    }\n</style>\n<table border=\"1\" class=\"dataframe\">\n  <thead>\n    <tr style=\"text-align: right;\">\n      <th></th>\n      <th>x0</th>\n      <th>x1</th>\n      <th>x2</th>\n      <th>x3</th>\n      <th>x4</th>\n      <th>x5</th>\n      <th>x6</th>\n      <th>x7</th>\n      <th>x8</th>\n      <th>x9</th>\n      <th>...</th>\n      <th>x11</th>\n      <th>x12</th>\n      <th>x13</th>\n      <th>x14</th>\n      <th>x15</th>\n      <th>x16</th>\n      <th>t</th>\n      <th>y</th>\n      <th>e</th>\n      <th>tcf</th>\n    </tr>\n  </thead>\n  <tbody>\n    <tr>\n      <th>0</th>\n      <td>-0.614282</td>\n      <td>1.464727</td>\n      <td>0</td>\n      <td>0</td>\n      <td>1</td>\n      <td>0</td>\n      <td>2.393250</td>\n      <td>2.746196</td>\n      <td>-0.653311</td>\n      <td>-0.656913</td>\n      <td>...</td>\n      <td>2.462337</td>\n      <td>2.937244</td>\n      <td>0</td>\n      <td>0</td>\n      <td>2.843909</td>\n      <td>0</td>\n      <td>0</td>\n      <td>1</td>\n      <td>0</td>\n      <td>1</td>\n    </tr>\n    <tr>\n      <th>1</th>\n      <td>-0.802463</td>\n      <td>0.101835</td>\n      <td>0</td>\n      <td>0</td>\n      <td>1</td>\n      <td>0</td>\n      <td>0.109885</td>\n      <td>0.498271</td>\n      <td>-0.785284</td>\n      <td>-0.743407</td>\n      <td>...</td>\n      <td>-0.177193</td>\n      <td>0.082537</td>\n      <td>0</td>\n      <td>0</td>\n      <td>0.038422</td>\n      <td>0</td>\n      <td>0</td>\n      <td>1</td>\n      <td>0</td>\n      <td>1</td>\n    </tr>\n    <tr>\n      <th>2</th>\n      <td>-0.896553</td>\n      <td>-0.238888</td>\n      <td>1</td>\n      <td>0</td>\n      <td>1</td>\n      <td>1</td>\n      <td>-0.085212</td>\n      <td>-0.148097</td>\n      <td>-0.847312</td>\n      <td>-0.781606</td>\n      <td>...</td>\n      <td>-0.286221</td>\n      <td>-0.303615</td>\n      <td>0</td>\n      <td>0</td>\n      <td>-0.191304</td>\n      <td>0</td>\n      <td>0</td>\n      <td>1</td>\n      <td>0</td>\n      <td>1</td>\n    </tr>\n    <tr>\n      <th>3</th>\n      <td>-0.896553</td>\n      <td>-0.238888</td>\n      <td>0</td>\n      <td>0</td>\n      <td>0</td>\n      <td>1</td>\n      <td>0.405581</td>\n      <td>0.325594</td>\n      <td>-0.847312</td>\n      <td>-0.781606</td>\n      <td>...</td>\n      <td>0.023020</td>\n      <td>-0.039630</td>\n      <td>0</td>\n      <td>0</td>\n      <td>0.173108</td>\n      <td>0</td>\n      <td>0</td>\n      <td>1</td>\n      <td>1</td>\n      <td>1</td>\n    </tr>\n    <tr>\n      <th>4</th>\n      <td>0.138440</td>\n      <td>-1.601779</td>\n      <td>1</td>\n      <td>0</td>\n      <td>1</td>\n      <td>1</td>\n      <td>-0.722531</td>\n      <td>-0.212734</td>\n      <td>-0.019840</td>\n      <td>-0.156019</td>\n      <td>...</td>\n      <td>-0.514563</td>\n      <td>-0.331552</td>\n      <td>0</td>\n      <td>0</td>\n      <td>-0.779227</td>\n      <td>0</td>\n      <td>0</td>\n      <td>1</td>\n      <td>0</td>\n      <td>1</td>\n    </tr>\n  </tbody>\n</table>\n<p>5 rows × 21 columns</p>\n</div>"
     },
     "execution_count": 10,
     "metadata": {},
     "output_type": "execute_result"
    }
   ],
   "source": [
    "jobs_dict: Dict[str, np.ndarray] = dataframe_utils.npz_to_dict(\"../data/jobs.npz\", allow_pickle=False)\n",
    "\n",
    "\n",
    "for k,v in jobs_dict.items():\n",
    "    print(f\"{k}: {v.shape}\")\n",
    "\n",
    "\n",
    "jobs_df_x: pd.DataFrame = dataframe_utils.x_to_dataframe(jobs_dict['x'])\n",
    "\"Dataframe containing only the X values of jobs\"\n",
    "\n",
    "jobs_df: pd.DataFrame = dataframe_utils.add_everything_but_x_to_copy_of_dataframe(\n",
    "    jobs_df_x.copy(),\n",
    "    jobs_dict,\n",
    "    \"x\"\n",
    ")\n",
    "\"Dataframe for the full jobs dataset\"\n",
    "\n",
    "\n",
    "jobs_df = dataframe_utils.process_counterfactuals(\n",
    "    jobs_df,\n",
    "    t=\"t\",\n",
    "    y_factual=\"yf\",\n",
    "    new_counterfactual_t=\"tcf\",\n",
    "    y_counterfactual=None,\n",
    "    ite=None,\n",
    "    t0_name=None,\n",
    "    t1_name=None\n",
    ")\n",
    "\n",
    "jobs_df.head()"
   ],
   "metadata": {
    "collapsed": false,
    "pycharm": {
     "name": "#%%\n"
    }
   }
  },
  {
   "cell_type": "code",
   "execution_count": 11,
   "outputs": [],
   "source": [
    "jobs_df.to_csv(\n",
    "    \"jobs_full.csv\",\n",
    "    index=False\n",
    ")"
   ],
   "metadata": {
    "collapsed": false,
    "pycharm": {
     "name": "#%%\n"
    }
   }
  }
 ],
 "metadata": {
  "kernelspec": {
   "display_name": "Python 3",
   "language": "python",
   "name": "python3"
  },
  "language_info": {
   "codemirror_mode": {
    "name": "ipython",
    "version": 2
   },
   "file_extension": ".py",
   "mimetype": "text/x-python",
   "name": "python",
   "nbconvert_exporter": "python",
   "pygments_lexer": "ipython2",
   "version": "2.7.6"
  }
 },
 "nbformat": 4,
 "nbformat_minor": 0
}