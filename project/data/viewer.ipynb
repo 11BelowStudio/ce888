{
 "cells": [
  {
   "cell_type": "markdown",
   "metadata": {
    "pycharm": {
     "name": "#%% md\n"
    }
   },
   "source": [
    "Requirements to run this:\n",
    "\n",
    "* matplotlib\n",
    "* numpy\n",
    "* pandas\n",
    "* seaborn\n",
    "* patchworklib\n",
    "    * `pip install patchworklib` (makes some bits of seaborn less awkward)\n",
    "    * https://github.com/ponnhide/patchworklib\n"
   ]
  },
  {
   "cell_type": "code",
   "execution_count": 1,
   "metadata": {
    "pycharm": {
     "name": "#%%\n"
    }
   },
   "outputs": [],
   "source": [
    "import sys\n",
    "import subprocess\n",
    "import pkg_resources\n",
    "\n",
    "required = {\"patchworklib\",\"seaborn\",\"numpy\",\"matplotlib\",\"scikit-learn\",\"tqdm\",\"pandas\"}\n",
    "installed = {pkg.key for pkg in pkg_resources.working_set}\n",
    "missing = required - installed\n",
    "\n",
    "if missing:\n",
    "    sys.stderr.write(f\"ERROR: Missing the following required packages:\\n{missing}\")\n",
    "    sys.stderr.write(\"Attempting to install missing dependencies to user directory\")\n",
    "    python = sys.executable\n",
    "    subprocess.check_call([python, \"-m\", \"pip\",\"install\",*missing,\"--user\"], stdout=subprocess.DEVNULL)\n"
   ]
  },
  {
   "cell_type": "code",
   "execution_count": 2,
   "metadata": {
    "pycharm": {
     "name": "#%%\n"
    }
   },
   "outputs": [
    {
     "data": {
      "text/plain": "<Figure size 72x72 with 0 Axes>"
     },
     "metadata": {},
     "output_type": "display_data"
    }
   ],
   "source": [
    "\n",
    "import numpy as np\n",
    "import pandas as pd\n",
    "from pandas import DataFrame\n",
    "from typing import Iterable, Union, Dict, List, Tuple, NoReturn, Optional, Any\n",
    "import inspect\n",
    "import doctest\n",
    "import sys\n",
    "\n",
    "import uuid\n",
    "\n",
    "import patchworklib as pw\n",
    "import seaborn as sns\n",
    "import matplotlib.pyplot as plt\n",
    "\n",
    "\n",
    "from collections.abc import Hashable"
   ]
  },
  {
   "cell_type": "code",
   "execution_count": 3,
   "metadata": {
    "pycharm": {
     "name": "#%%\n"
    }
   },
   "outputs": [],
   "source": [
    "%matplotlib inline\n",
    "\n",
    "sns.set_theme()"
   ]
  },
  {
   "cell_type": "markdown",
   "metadata": {
    "pycharm": {
     "name": "#%% md\n"
    }
   },
   "source": [
    "## Step 1: Loading the data\n",
    "\n",
    "Before I can start analysing the data, I need to actually load it.\n",
    "These functions (below) are intended to make that job a bit easier."
   ]
  },
  {
   "cell_type": "markdown",
   "metadata": {
    "pycharm": {
     "name": "#%% md\n"
    }
   },
   "source": [
    "### 1.1: Some utility functions, to allow me to load the data in a way that makes some sense\n"
   ]
  },
  {
   "cell_type": "code",
   "execution_count": 4,
   "metadata": {
    "pycharm": {
     "name": "#%%\n"
    }
   },
   "outputs": [],
   "source": [
    "def npz_to_dict(\n",
    "        npz_filename: str,\n",
    "        **kwargs\n",
    ") -> Dict[str, np.ndarray]:\n",
    "    \"\"\"\n",
    "    Puts the given NPZ file into a dictionary of {table name, ndarray}.\n",
    "    :param npz_filename: the filename of the NPZ file that we want to put into a dictionary.\n",
    "    :param kwargs: kwargs from https://numpy.org/doc/stable/reference/generated/numpy.load.html#numpy.load.\n",
    "    DO NOT INCLUDE A 'mmap_mode' KWARG!!!\n",
    "    :return: The data from the given npz file in a dictionary.\n",
    "    \"\"\"\n",
    "    data_dict: Dict[str, np.ndarray] = {}\n",
    "    if kwargs is None:\n",
    "        kwargs = {}\n",
    "    with np.load(npz_filename, mmap_mode=\"r\",**kwargs) as npz:\n",
    "        for f in npz.files:\n",
    "            data_dict[f] = npz[f]\n",
    "    return data_dict\n",
    "\n",
    "\n",
    "def turn_01_columns_into_int(\n",
    "        dataframe_to_edit: DataFrame,\n",
    ") -> DataFrame:\n",
    "    \"\"\"\n",
    "    Finds all of the columns that just contain values of 0 and 1,\n",
    "    and converts all of those columns to ints.\n",
    "    MODIFIES THE GIVEN DATAFRAME!\n",
    "    :param dataframe_to_edit: the dataframe that is being edited\n",
    "    :return: The modified dataframe.\n",
    "    DOES NOT COPY THE GIVEN ORIGINAL DATAFRAME.\n",
    "\n",
    "    >>> before: DataFrame = DataFrame.from_dict(data={\"int01\":[0,1,1,0],\"flt01\":[0.0, 1.0, 0.0, 1.0], \"intNo\": [-1,0,1,2], \"fltNo\":[-1.0, 0.0, 1.0, 2.0], \"intNan\": [0,1,None,0], \"fltNan\":[0.0,1.0,None,0.0]})\n",
    "    >>> before_types = before.dtypes.values\n",
    "    >>> after: DataFrame = turn_01_columns_into_int(before.copy())\n",
    "    >>> after_types = after.dtypes.values\n",
    "    >>> print(after_types[0])\n",
    "    uint8\n",
    "    >>> print(after_types[1])\n",
    "    uint8\n",
    "    >>> print(f\"{before_types[2] == after_types[2]} {before_types[3] == after_types[3]} {before_types[4] == after_types[4]} {before_types[5] == after_types[5]}\")\n",
    "    True True True True\n",
    "    \"\"\"\n",
    "    for c in dataframe_to_edit.columns:\n",
    "        if dataframe_to_edit[c].dtype == np.uint8:\n",
    "            continue\n",
    "        if dataframe_to_edit[c].isin([0,1]).all():\n",
    "            dataframe_to_edit[c] = dataframe_to_edit[c].astype(np.uint8)\n",
    "    return dataframe_to_edit\n",
    "\n",
    "if __name__ == \"__main__\":\n",
    "    doctest.run_docstring_examples(turn_01_columns_into_int, globals())\n",
    "\n",
    "def x_to_dataframe(\n",
    "        x_data: np.ndarray,\n",
    "        row_major = True,\n",
    "        x_prefix: str = \"x_\"\n",
    ") -> DataFrame:\n",
    "    \"\"\"\n",
    "    Converts the 'x' ndarray into a pandas dataframe.\n",
    "    :param x_data: the ndarray containing all of the data\n",
    "    :param row_major: is this ndarray held in row-major order? [[item a data], [item b data], ... ]\n",
    "    :param x_prefix: prefix to put on the names of all of the x columns\n",
    "    :return: a dataframe holding the given x data.\n",
    "    \"\"\"\n",
    "    if row_major:\n",
    "        x_data: np.ndarray = x_data.T\n",
    "    x_df: DataFrame = pd.DataFrame.from_dict({f\"{x_prefix}{i}\": x_data[i] for i in range(x_data.shape[0])})\n",
    "\n",
    "    return turn_01_columns_into_int(x_df)\n",
    "\n",
    "\n",
    "\n",
    "def add_everything_but_x_to_copy_of_dataframe(\n",
    "        original_df: DataFrame,\n",
    "        the_data_dict: Dict[str, np.ndarray],\n",
    "        dont_add: Union[str, Iterable[str]]=frozenset('x')\n",
    ") -> DataFrame:\n",
    "    \"\"\"\n",
    "    Adds everything in the npz file apart from the given 'dont_add'\n",
    "    tables to the dataframe.\n",
    "    Assumes that these other tables have the same shape of (whatever, 1).\n",
    "    :param original_df: the original dataframe that shall be copied and have stuff added to it.\n",
    "    :param the_data_dict: The data file with the data to be added to the DataFrame\n",
    "    :param dont_add: the identifier(s) of the columns that must not be added to the DataFrame.\n",
    "    :return: a copy of the original dataframe, with the data from every table BESIDES the 'dont add' tables\n",
    "    from the given file added to it.\n",
    "    \"\"\"\n",
    "\n",
    "    the_df = original_df.copy()\n",
    "    if dont_add in the_data_dict.keys():\n",
    "        dont_add = [dont_add]\n",
    "    for k, v in the_data_dict.items():\n",
    "        if k in dont_add:\n",
    "            continue\n",
    "        the_df[k] = turn_01_columns_into_int(DataFrame(v))\n",
    "    return the_df"
   ]
  },
  {
   "cell_type": "markdown",
   "metadata": {
    "pycharm": {
     "name": "#%% md\n"
    }
   },
   "source": [
    "#### 1.1.2: And some utility functions for producing graphs based on the datasets"
   ]
  },
  {
   "cell_type": "code",
   "execution_count": 5,
   "metadata": {
    "pycharm": {
     "name": "#%%\n"
    }
   },
   "outputs": [],
   "source": [
    "def bin_finder(n: int, default_bins: int) -> int:\n",
    "\n",
    "    if n <= default_bins:\n",
    "        return n\n",
    "\n",
    "    biggest_possible = np.floor(np.sqrt(n)).astype(int)\n",
    "\n",
    "    potentials = np.arange(biggest_possible, stop=0, step=-1)\n",
    "    divisor_indices = np.flatnonzero(n % potentials==0)\n",
    "\n",
    "    print(potentials[divisor_indices])\n",
    "    if divisor_indices.size > 0:\n",
    "        print(f\"{n} -> {n // potentials[divisor_indices[0]]}\")\n",
    "        return min(default_bins, n // potentials[divisor_indices[0]])\n",
    "    return default_bins\n",
    "\n",
    "\n",
    "def squareish_w_h(div_this: int) -> Tuple[int, int]:\n",
    "    \"\"\"\n",
    "    Attempts to make a shape not entirely unlike a square\n",
    "    :param div_this: int to divide\n",
    "    :return: square-ish w/h\n",
    "    \"\"\"\n",
    "    if np.sqrt(div_this) % 1 == 0:\n",
    "        res = np.floor(np.sqrt(div_this))\n",
    "        return res, res\n",
    "    elif div_this & 1 == 0: # odd number\n",
    "        return fallback_w_h(div_this)\n",
    "    else:\n",
    "        # if even, we work out which binary rectangle works best basically\n",
    "        a: int = 1\n",
    "        b: int = div_this\n",
    "        while b > a and b & 1 == 0:\n",
    "            b //= 2\n",
    "            a *= 2\n",
    "        if max(a, b) > min(a, b) * 2:\n",
    "            return fallback_w_h(div_this)\n",
    "        else:\n",
    "            return tuple(*sorted((a, b), reverse=True))\n",
    "\n",
    "def fallback_w_h(div_this: int) -> Tuple[int, int]:\n",
    "    \"\"\"\n",
    "    Attempts to make a shape not entirely unlike a square\n",
    "    :param div_this: int to divide\n",
    "    :return: square-ish w/h\n",
    "    \"\"\"\n",
    "    h = np.floor(np.sqrt(div_this))\n",
    "    # get something relatively close to the square\n",
    "    w = div_this//h\n",
    "\n",
    "    i_w = w < h\n",
    "    if w * h < div_this:\n",
    "        if i_w:\n",
    "            w += 1\n",
    "        else:\n",
    "            h += 1\n",
    "        i_w = not i_w\n",
    "    return w, h\n",
    "\n",
    "\n",
    "\n",
    "\n",
    "def jointplot_maker(\n",
    "        df: DataFrame,\n",
    "        xlabel: str,\n",
    "        ylabel: str,\n",
    "        tlabel: str,\n",
    "        wh: float = 5,\n",
    "        debug: bool = False\n",
    ") -> pw.Bricks:\n",
    "\n",
    "    pw.param[\"margin\"] = 0.1\n",
    "\n",
    "    ax_x_label: str = f\"{xlabel}{uuid.uuid4()}\"\n",
    "    #if debug:\n",
    "    #    ax_x_label = f\"{xlabel}{uuid.uuid4()}\"\n",
    "\n",
    "    ax1: pw.Brick = pw.Brick(f\"{ax_x_label}_ax1\",figsize=(wh, wh/4))\n",
    "\n",
    "    if debug:\n",
    "        print(type(ax1))\n",
    "\n",
    "    sns.histplot(data=df, x=xlabel, hue=tlabel, kde=True, ax=ax1, element=\"step\",stat=\"density\",common_norm=False)\n",
    "    ax1.spines[\"top\"].set_visible(False)\n",
    "    ax1.spines[\"right\"].set_visible(False)\n",
    "\n",
    "    ax2: pw.Brick = pw.Brick(f\"{ax_x_label}_ax2\",figsize=(wh/4, wh))\n",
    "    sns.ecdfplot(data=df, y=ylabel, hue=tlabel, ax=ax2, complementary=True)\n",
    "    ax2.spines[\"top\"].set_visible(False)\n",
    "    ax2.spines[\"right\"].set_visible(False)\n",
    "\n",
    "    ax3: pw.Brick = pw.Brick(f\"{ax_x_label}_ax3\",figsize=(3*wh/4, 3*wh/4))\n",
    "    #sns.kdeplot(data=df, x=xlabel, y=ylabel, hue=tlabel, ax=ax3, alpha=.5)\n",
    "    sns.scatterplot(data=df, x=xlabel, y=ylabel, hue=tlabel, ax=ax3, alpha=.5)\n",
    "    # TODO: overlay kernel density over scatterplot?\n",
    "    # TODO: kernel density might be better than scatter tbh\n",
    "\n",
    "    ax1.set_xlim(ax3.get_xlim())\n",
    "    ax1.set_xticks([])\n",
    "    ax1.set_xlabel(\"\")\n",
    "\n",
    "    ax2.set_ylim(ax3.get_ylim())\n",
    "    ax2.set_yticks([])\n",
    "    ax2.set_ylabel(\"\")\n",
    "\n",
    "    ax13: pw.Bricks = ax1/ax3\n",
    "    ax132: pw.Bricks = ax13[f\"{ax_x_label}_ax3\"]|ax2\n",
    "\n",
    "    ax132.case.set_title(f\"Distribution for {xlabel}\")\n",
    "\n",
    "    if debug:\n",
    "        print(type(ax132))\n",
    "        #print(type(ax132.savefig()))\n",
    "\n",
    "    return ax132\n",
    "\n",
    "def stdout_writer(write_this) -> NoReturn:\n",
    "    sys.stdout.write(write_this)\n",
    "    sys.stdout.flush()\n",
    "\n",
    "\n",
    "\n",
    "def viz2(\n",
    "        df: DataFrame, xlabels: List[Any],\n",
    "        ylabel: Any, tlabel: Any,\n",
    "        fig_subject: str, plt_wh: float = 5\n",
    ") -> pw.Bricks:\n",
    "    \"\"\"\n",
    "    Produces a series of graphs based on the given data\n",
    "    :param df: the dataframe\n",
    "    :param xlabels: column names for T\n",
    "    :param ylabel: column name for Y\n",
    "    :param tlabel: column name for T\n",
    "    :param fig_subject: words for what the source of the data being shown is\n",
    "    :param plt_wh: width/height for each individual plot in this figure\n",
    "    :return: patchworklib Bricks object,\n",
    "     showing the input data as a series of histograms\n",
    "     (call .savefig() with no args to convert it to a viewable matplotlib figure)\n",
    "    \"\"\"\n",
    "\n",
    "    #y_series: pd.Series = df[ylabel]\n",
    "    #t_series: pd.Series = df[tlabel]\n",
    "\n",
    "    #Y: np.ndarray = y_series.values\n",
    "    #T: np.ndarray = t_series.values\n",
    "\n",
    "\n",
    "\n",
    "    if fig_subject is None:\n",
    "        fig_subject = \"\"\n",
    "    else:\n",
    "        fig_subject = f\" {fig_subject}\"\n",
    "\n",
    "    print(xlabels)\n",
    "\n",
    "    x_count: int = len(xlabels)\n",
    "\n",
    "    w, h = squareish_w_h(x_count+2)\n",
    "\n",
    "    #sns.FacetGrid = sns.FacetGrid(data=df, col=\"\")\n",
    "\n",
    "    #fig: plt.Figure = plt.Figure(\n",
    "    #    figsize=(w*3, h*3)\n",
    "    #)\n",
    "\n",
    "    #axes: Tuple[plt.Axes] = fig.subplots(\n",
    "    #    nrows=h, ncols=w, squeeze=True\n",
    "    #)\n",
    "\n",
    "\n",
    "\n",
    "    stdout_writer(f\"making plots:\\n\"f\"Todo: 00{'0'*x_count}\\n\"f\"Done: \")\n",
    "    \n",
    "    axy_hist: pw.Brick = pw.Brick(f\"{fig_subject}{uuid.uuid4()}_y_hist\",figsize=(plt_wh, plt_wh))\n",
    "    sns.histplot(data=df, x=ylabel, hue=tlabel, kde=True, ax=axy_hist, element=\"step\",stat=\"density\",common_norm=False)\n",
    "    axy_hist.set_title(\"Histogram showing y values for treated/control groups\")\n",
    "    \n",
    "    stdout_writer(\"\\u2713\")\n",
    "    \n",
    "    axy_dist: pw.Brick = pw.Brick(f\"{fig_subject}{uuid.uuid4()}_y_dist\",figsize=(plt_wh, plt_wh))\n",
    "    sns.ecdfplot(data=df, x=ylabel, hue=tlabel, ax=axy_dist)\n",
    "    axy_dist.set_title(\"Y values for treatment/control groups as a cumulative distribution\")\n",
    "\n",
    "    no_prior_rows: bool = True\n",
    "\n",
    "    complete_figure: Optional[pw.Bricks] = None\n",
    "    this_row: pw.Bricks = axy_hist | axy_dist\n",
    "\n",
    "    stdout_writer(\"\\u2713\")\n",
    "    \n",
    "    for i in range(x_count):\n",
    "\n",
    "\n",
    "        this_plot: pw.Bricks = jointplot_maker(\n",
    "            df,\n",
    "            xlabels[i],\n",
    "            ylabel,\n",
    "            tlabel,\n",
    "            plt_wh\n",
    "        )\n",
    "        stdout_writer(\"\\u2713\")\n",
    "\n",
    "        if (i+2) % w == 0:\n",
    "            if no_prior_rows:\n",
    "                complete_figure = this_row\n",
    "                no_prior_rows = False\n",
    "            else:\n",
    "                complete_figure = complete_figure / this_row\n",
    "            this_row = this_plot\n",
    "        else:\n",
    "            this_row = this_row | this_plot\n",
    "            \n",
    "    if no_prior_rows:\n",
    "        complete_figure: pw.Bricks = this_row\n",
    "    else:\n",
    "        # TODO: pad out any unused space in the last row (so they aren't stupid big)\n",
    "        complete_figure: pw.Bricks = complete_figure / this_row\n",
    "\n",
    "    if complete_figure is None:\n",
    "        raise RuntimeError(\"Somehow, nothing got added to the 'complete_figure', which is awkward.\")\n",
    "\n",
    "\n",
    "    stdout_writer(\"\\n\")\n",
    "\n",
    "    #the_fig: pw.Bricks = fig_rows[0]\n",
    "\n",
    "    #stdout_writer(f\"Sticking the figures together:\\n\"\n",
    "    #              f\"Todo: {'0'*len(fig_rows)}\\n\"\n",
    "    #              f\"Done: \\u2713\")\n",
    "\n",
    "    #for i in range(1, len(fig_rows)):\n",
    "    #    the_fig /= fig_rows[i]\n",
    "    #    stdout_writer(\"\\u2713\")\n",
    "\n",
    "    #stdout_writer(\"\\n\")\n",
    "\n",
    "\n",
    "    complete_figure.case.set_title(f\"Graphs for {ylabel} given all X attributes and treatment groups in {fig_subject}\")\n",
    "    return complete_figure\n",
    "\n",
    "\n",
    "\n",
    "\n",
    "\n",
    "def visualizer(df: DataFrame, xlabels: List[Any], ylabel: Any, tlabel: Any, fig_subject: str) -> plt.Figure:\n",
    "    \"\"\"\n",
    "    Produces a series of graphs based on the given data\n",
    "    :param df: the dataframe\n",
    "    :param xlabels: column names for T\n",
    "    :param ylabel: column name for Y\n",
    "    :param tlabel: column name for T\n",
    "    :param fig_subject: words for what the source of the data being shown is\n",
    "    :return: a figure showing the input data as a series of histograms\n",
    "    \"\"\"\n",
    "\n",
    "    y_series: pd.Series = df[ylabel]\n",
    "    t_series: pd.Series = df[tlabel]\n",
    "\n",
    "    Y: np.ndarray = y_series.values\n",
    "    T: np.ndarray = t_series.values\n",
    "\n",
    "    bins: int = bin_finder(Y.size, 20)\n",
    "\n",
    "\n",
    "\n",
    "    if fig_subject is None:\n",
    "        fig_subject = \"\"\n",
    "    else:\n",
    "        fig_subject = f\" {fig_subject}\"\n",
    "\n",
    "    print(xlabels)\n",
    "\n",
    "    y_t_str: Tuple[str, str] = (\"Y\", \"T\")\n",
    "    y_t_np: Tuple[np.ndarray, np.ndarray] = (Y, T)\n",
    "    y_t_bins: Tuple[int, int] = (\n",
    "        min(bins,np.unique(Y).shape[0]),\n",
    "        min(bins,np.unique(T).shape[0])\n",
    "    )\n",
    "    \"This will be useful later on.\"\n",
    "\n",
    "    y_treated: np.ndarray = Y[np.argwhere(T==1)]\n",
    "    y_untreated: np.ndarray = Y[np.argwhere(T==0)]\n",
    "\n",
    "    col_count: int = len(xlabels)\n",
    "    fig: plt.Figure = plt.figure(figsize=(24, 1+(4*col_count)))\n",
    "    subfigs: Tuple[plt.Figure, ...] = fig.subfigures(nrows=col_count, ncols=1)\n",
    "    for i in range(col_count):\n",
    "\n",
    "        sfig: plt.Figure = subfigs[i]\n",
    "        label: str = xlabels[i]\n",
    "        x_data: np.ndarray = df[label].to_numpy()\n",
    "\n",
    "\n",
    "        this_bins = bin_finder(df[label].nunique(), 20)\n",
    "\n",
    "        sfig.suptitle(f\"Data for {label}\")\n",
    "        sfigs: Tuple[plt.Figure, plt.Figure] = sfig.subfigures(nrows=1,ncols=3,width_ratios=[1,1,3])\n",
    "\n",
    "        hist1: plt.Figure = sfigs[0]\n",
    "        hist1.suptitle(f\"{label} quantities\")\n",
    "        hist_x_plt: plt.Axes = hist1.add_subplot()\n",
    "        sns.histplot(data = x_data, stat=\"frequency\", bins = this_bins, kde=True, ax=hist_x_plt)\n",
    "        hist_x_plt.set_xlabel(f\"{label}\")\n",
    "        hist_x_plt.set_ylabel(\"quantity\")\n",
    "\n",
    "        hist2: plt.Figure = sfigs[1]\n",
    "\n",
    "        hist2_plt: plt.Axes = hist2.add_subplot()\n",
    "        sns.kdeplot(\n",
    "                data=df[[label, ylabel, tlabel]], x=label,y=ylabel,\n",
    "                ax=hist2_plt, legend=True, hue=tlabel, fill=True,\n",
    "                alpha=.5, #kind=\"kde\"\n",
    "        )\n",
    "        hist2_plt.set_title(f\"{label} and Y for treatment/control\")\n",
    "        hist2_plt.set_xlabel(f\"{label}\")\n",
    "        hist2_plt.set_ylabel(f\"outcome given {label}\")\n",
    "\n",
    "        scatters: plt.Figure = sfigs[2]\n",
    "\n",
    "        x_treated: np.ndarray = x_data[np.argwhere(T==1)]\n",
    "        x_untreated: np.ndarray = x_data[np.argwhere(T==0)]\n",
    "\n",
    "        #hists.suptitle(f\"More histograms for {label}\")\n",
    "        #hist_axes: Tuple[plt.Axes, plt.Axes, plt.Axes] = hists.subplots(nrows=1, ncols=2, sharex=\"all\")\n",
    "\n",
    "\n",
    "        scatters.suptitle(f\"Scatter graphs for {label}\")\n",
    "        ax0, ax1, ax2 = scatters.subplots(nrows=1, ncols=3, sharex=\"all\",sharey=\"all\")\n",
    "        ax0.set_xlabel(f\"{label}\")\n",
    "        ax0.set_ylabel(f\"Outcome from {label}\")\n",
    "        ax0.set_title(\"both\")\n",
    "        ax1.set_title(\"treated only\")\n",
    "        ax2.set_title(\"control only\")\n",
    "        ax0.scatter(x_treated, y_treated, c = \"g\", label = \"Treated\")\n",
    "        ax1.scatter(x_treated, y_treated, c = \"g\")\n",
    "        ax0.scatter(x_untreated, y_untreated, c = \"r\", label = \"Control\")\n",
    "        ax2.scatter(x_untreated, y_untreated, c = \"r\")\n",
    "        ax0.legend()\n",
    "\n",
    "    fig.suptitle(f\"X, Y, T visualizations all dimensions of X in{fig_subject}\")\n",
    "    return fig\n",
    "\n",
    "\n",
    "\n",
    "\n"
   ]
  },
  {
   "cell_type": "markdown",
   "metadata": {
    "pycharm": {
     "name": "#%% md\n"
    }
   },
   "source": [
    "### 1.2: Loading the IHPD dataset\n",
    "\n",
    "Firstly, I need to load the dataset, and see what data is present."
   ]
  },
  {
   "cell_type": "code",
   "execution_count": 6,
   "metadata": {
    "pycharm": {
     "name": "#%%\n"
    }
   },
   "outputs": [
    {
     "name": "stdout",
     "output_type": "stream",
     "text": [
      "x: (747, 25)\n",
      "t: (747, 1)\n",
      "yf: (747, 1)\n",
      "ycf: (747, 1)\n",
      "ite: (747, 1)\n"
     ]
    }
   ],
   "source": [
    "ihdp_dict: Dict[str, np.ndarray] = npz_to_dict(\"ihdp.npz\", allow_pickle = False)\n",
    "\n",
    "\n",
    "for k,v in ihdp_dict.items():\n",
    "    print(f\"{k}: {v.shape}\")"
   ]
  },
  {
   "cell_type": "markdown",
   "metadata": {
    "pycharm": {
     "name": "#%% md\n"
    }
   },
   "source": [
    "#### 1.2.1: Extracting the 'x' column, and moving it to a dataframe\n",
    "\n",
    "It looks like the 'x' data is a table of 747 rows and 25 columns.\n",
    "This, by itself, is a bit difficult to digest, so I shall move that\n",
    "into a dataframe, making it a bit easier to analyse (for now at least).\n",
    "\n",
    "The following two code cells are just outputting an overview of the 'x'\n",
    "data."
   ]
  },
  {
   "cell_type": "code",
   "execution_count": 7,
   "metadata": {
    "pycharm": {
     "name": "#%%\n"
    }
   },
   "outputs": [
    {
     "data": {
      "text/plain": "        x_0       x_1       x_2       x_3       x_4       x_5  x_6  x_7  x_8  \\\n0  1.397395  0.996346 -1.105624 -0.879606  0.308569 -1.023402    1    0    0   \n1  0.269033  0.196818  0.383828  0.161703 -0.629189  1.460832    1    0    1   \n2  1.051537  1.795874 -1.105624  0.161703 -0.629189  0.963985    1    0    1   \n3  0.662446  0.196818 -0.733261 -0.879606  0.371086 -0.692171    1    0    0   \n4  0.856992  1.795874  0.011465 -0.879606  0.558638  0.301522    0    1    1   \n\n   x_9  ...  x_15  x_16  x_17  x_18  x_19  x_20  x_21  x_22  x_23  x_24  \n0    0  ...     0     1     1     0     0     0     0     0     0     1  \n1    0  ...     1     1     1     1     0     0     0     0     0     0  \n2    1  ...     1     1     1     0     0     0     0     0     0     1  \n3    0  ...     1     0     1     0     1     0     0     0     0     0  \n4    0  ...     1     0     1     1     0     0     0     0     0     0  \n\n[5 rows x 25 columns]",
      "text/html": "<div>\n<style scoped>\n    .dataframe tbody tr th:only-of-type {\n        vertical-align: middle;\n    }\n\n    .dataframe tbody tr th {\n        vertical-align: top;\n    }\n\n    .dataframe thead th {\n        text-align: right;\n    }\n</style>\n<table border=\"1\" class=\"dataframe\">\n  <thead>\n    <tr style=\"text-align: right;\">\n      <th></th>\n      <th>x_0</th>\n      <th>x_1</th>\n      <th>x_2</th>\n      <th>x_3</th>\n      <th>x_4</th>\n      <th>x_5</th>\n      <th>x_6</th>\n      <th>x_7</th>\n      <th>x_8</th>\n      <th>x_9</th>\n      <th>...</th>\n      <th>x_15</th>\n      <th>x_16</th>\n      <th>x_17</th>\n      <th>x_18</th>\n      <th>x_19</th>\n      <th>x_20</th>\n      <th>x_21</th>\n      <th>x_22</th>\n      <th>x_23</th>\n      <th>x_24</th>\n    </tr>\n  </thead>\n  <tbody>\n    <tr>\n      <th>0</th>\n      <td>1.397395</td>\n      <td>0.996346</td>\n      <td>-1.105624</td>\n      <td>-0.879606</td>\n      <td>0.308569</td>\n      <td>-1.023402</td>\n      <td>1</td>\n      <td>0</td>\n      <td>0</td>\n      <td>0</td>\n      <td>...</td>\n      <td>0</td>\n      <td>1</td>\n      <td>1</td>\n      <td>0</td>\n      <td>0</td>\n      <td>0</td>\n      <td>0</td>\n      <td>0</td>\n      <td>0</td>\n      <td>1</td>\n    </tr>\n    <tr>\n      <th>1</th>\n      <td>0.269033</td>\n      <td>0.196818</td>\n      <td>0.383828</td>\n      <td>0.161703</td>\n      <td>-0.629189</td>\n      <td>1.460832</td>\n      <td>1</td>\n      <td>0</td>\n      <td>1</td>\n      <td>0</td>\n      <td>...</td>\n      <td>1</td>\n      <td>1</td>\n      <td>1</td>\n      <td>1</td>\n      <td>0</td>\n      <td>0</td>\n      <td>0</td>\n      <td>0</td>\n      <td>0</td>\n      <td>0</td>\n    </tr>\n    <tr>\n      <th>2</th>\n      <td>1.051537</td>\n      <td>1.795874</td>\n      <td>-1.105624</td>\n      <td>0.161703</td>\n      <td>-0.629189</td>\n      <td>0.963985</td>\n      <td>1</td>\n      <td>0</td>\n      <td>1</td>\n      <td>1</td>\n      <td>...</td>\n      <td>1</td>\n      <td>1</td>\n      <td>1</td>\n      <td>0</td>\n      <td>0</td>\n      <td>0</td>\n      <td>0</td>\n      <td>0</td>\n      <td>0</td>\n      <td>1</td>\n    </tr>\n    <tr>\n      <th>3</th>\n      <td>0.662446</td>\n      <td>0.196818</td>\n      <td>-0.733261</td>\n      <td>-0.879606</td>\n      <td>0.371086</td>\n      <td>-0.692171</td>\n      <td>1</td>\n      <td>0</td>\n      <td>0</td>\n      <td>0</td>\n      <td>...</td>\n      <td>1</td>\n      <td>0</td>\n      <td>1</td>\n      <td>0</td>\n      <td>1</td>\n      <td>0</td>\n      <td>0</td>\n      <td>0</td>\n      <td>0</td>\n      <td>0</td>\n    </tr>\n    <tr>\n      <th>4</th>\n      <td>0.856992</td>\n      <td>1.795874</td>\n      <td>0.011465</td>\n      <td>-0.879606</td>\n      <td>0.558638</td>\n      <td>0.301522</td>\n      <td>0</td>\n      <td>1</td>\n      <td>1</td>\n      <td>0</td>\n      <td>...</td>\n      <td>1</td>\n      <td>0</td>\n      <td>1</td>\n      <td>1</td>\n      <td>0</td>\n      <td>0</td>\n      <td>0</td>\n      <td>0</td>\n      <td>0</td>\n      <td>0</td>\n    </tr>\n  </tbody>\n</table>\n<p>5 rows × 25 columns</p>\n</div>"
     },
     "execution_count": 7,
     "metadata": {},
     "output_type": "execute_result"
    }
   ],
   "source": [
    "ihdp_df_x: DataFrame = x_to_dataframe(ihdp_dict['x'])\n",
    "\"\"\"Dataframe holding the 'x' data for the IHDP dataset\"\"\"\n",
    "\n",
    "ihdp_df_x.head()"
   ]
  },
  {
   "cell_type": "code",
   "execution_count": 8,
   "metadata": {
    "pycharm": {
     "name": "#%%\n"
    }
   },
   "outputs": [
    {
     "name": "stdout",
     "output_type": "stream",
     "text": [
      "<class 'pandas.core.frame.DataFrame'>\n",
      "RangeIndex: 747 entries, 0 to 746\n",
      "Data columns (total 25 columns):\n",
      "x_0     747 non-null float64\n",
      "x_1     747 non-null float64\n",
      "x_2     747 non-null float64\n",
      "x_3     747 non-null float64\n",
      "x_4     747 non-null float64\n",
      "x_5     747 non-null float64\n",
      "x_6     747 non-null uint8\n",
      "x_7     747 non-null uint8\n",
      "x_8     747 non-null uint8\n",
      "x_9     747 non-null uint8\n",
      "x_10    747 non-null uint8\n",
      "x_11    747 non-null uint8\n",
      "x_12    747 non-null uint8\n",
      "x_13    747 non-null uint8\n",
      "x_14    747 non-null uint8\n",
      "x_15    747 non-null uint8\n",
      "x_16    747 non-null uint8\n",
      "x_17    747 non-null uint8\n",
      "x_18    747 non-null uint8\n",
      "x_19    747 non-null uint8\n",
      "x_20    747 non-null uint8\n",
      "x_21    747 non-null uint8\n",
      "x_22    747 non-null uint8\n",
      "x_23    747 non-null uint8\n",
      "x_24    747 non-null uint8\n",
      "dtypes: float64(6), uint8(19)\n",
      "memory usage: 49.0 KB\n",
      "None\n"
     ]
    },
    {
     "data": {
      "text/plain": "                x_0           x_1           x_2           x_3           x_4  \\\ncount  7.470000e+02  7.470000e+02  7.470000e+02  7.470000e+02  7.470000e+02   \nmean   3.448082e-17  4.755975e-18 -2.377988e-17 -5.612051e-16  4.042579e-17   \nstd    1.000000e+00  1.000000e+00  1.000000e+00  1.000000e+00  1.000000e+00   \nmin   -2.731287e+00 -3.800823e+00 -1.850350e+00 -8.796060e-01 -5.130428e+00   \n25%   -6.669461e-01 -6.027100e-01 -7.332610e-01 -8.796060e-01 -5.666720e-01   \n50%    1.652752e-01  1.968181e-01 -3.608980e-01  1.617025e-01  1.210172e-01   \n75%    8.137593e-01  5.965822e-01  7.561910e-01  1.617025e-01  6.836721e-01   \nmax    1.505476e+00  2.595403e+00  2.990369e+00  2.244320e+00  2.371637e+00   \n\n                x_5         x_6         x_7         x_8         x_9  ...  \\\ncount  7.470000e+02  747.000000  747.000000  747.000000  747.000000  ...   \nmean  -7.633341e-16    0.514056    0.093708    0.520750    0.364123  ...   \nstd    1.000000e+00    0.500137    0.291618    0.499904    0.481506  ...   \nmin   -1.851480e+00    0.000000    0.000000    0.000000    0.000000  ...   \n25%   -8.577868e-01    0.000000    0.000000    0.000000    0.000000  ...   \n50%   -2.970882e-02    1.000000    0.000000    1.000000    0.000000  ...   \n75%    6.327536e-01    1.000000    0.000000    1.000000    1.000000  ...   \nmax    2.951372e+00    1.000000    1.000000    1.000000    1.000000  ...   \n\n             x_15        x_16        x_17        x_18        x_19        x_20  \\\ncount  747.000000  747.000000  747.000000  747.000000  747.000000  747.000000   \nmean     0.959839    0.594378    0.963855    0.135207    0.135207    0.156627   \nstd      0.196467    0.491341    0.186775    0.342174    0.342174    0.363692   \nmin      0.000000    0.000000    0.000000    0.000000    0.000000    0.000000   \n25%      1.000000    0.000000    1.000000    0.000000    0.000000    0.000000   \n50%      1.000000    1.000000    1.000000    0.000000    0.000000    0.000000   \n75%      1.000000    1.000000    1.000000    0.000000    0.000000    0.000000   \nmax      1.000000    1.000000    1.000000    1.000000    1.000000    1.000000   \n\n             x_21        x_22        x_23        x_24  \ncount  747.000000  747.000000  747.000000  747.000000  \nmean     0.081660    0.073628    0.128514    0.157965  \nstd      0.274029    0.261339    0.334886    0.364953  \nmin      0.000000    0.000000    0.000000    0.000000  \n25%      0.000000    0.000000    0.000000    0.000000  \n50%      0.000000    0.000000    0.000000    0.000000  \n75%      0.000000    0.000000    0.000000    0.000000  \nmax      1.000000    1.000000    1.000000    1.000000  \n\n[8 rows x 25 columns]",
      "text/html": "<div>\n<style scoped>\n    .dataframe tbody tr th:only-of-type {\n        vertical-align: middle;\n    }\n\n    .dataframe tbody tr th {\n        vertical-align: top;\n    }\n\n    .dataframe thead th {\n        text-align: right;\n    }\n</style>\n<table border=\"1\" class=\"dataframe\">\n  <thead>\n    <tr style=\"text-align: right;\">\n      <th></th>\n      <th>x_0</th>\n      <th>x_1</th>\n      <th>x_2</th>\n      <th>x_3</th>\n      <th>x_4</th>\n      <th>x_5</th>\n      <th>x_6</th>\n      <th>x_7</th>\n      <th>x_8</th>\n      <th>x_9</th>\n      <th>...</th>\n      <th>x_15</th>\n      <th>x_16</th>\n      <th>x_17</th>\n      <th>x_18</th>\n      <th>x_19</th>\n      <th>x_20</th>\n      <th>x_21</th>\n      <th>x_22</th>\n      <th>x_23</th>\n      <th>x_24</th>\n    </tr>\n  </thead>\n  <tbody>\n    <tr>\n      <th>count</th>\n      <td>7.470000e+02</td>\n      <td>7.470000e+02</td>\n      <td>7.470000e+02</td>\n      <td>7.470000e+02</td>\n      <td>7.470000e+02</td>\n      <td>7.470000e+02</td>\n      <td>747.000000</td>\n      <td>747.000000</td>\n      <td>747.000000</td>\n      <td>747.000000</td>\n      <td>...</td>\n      <td>747.000000</td>\n      <td>747.000000</td>\n      <td>747.000000</td>\n      <td>747.000000</td>\n      <td>747.000000</td>\n      <td>747.000000</td>\n      <td>747.000000</td>\n      <td>747.000000</td>\n      <td>747.000000</td>\n      <td>747.000000</td>\n    </tr>\n    <tr>\n      <th>mean</th>\n      <td>3.448082e-17</td>\n      <td>4.755975e-18</td>\n      <td>-2.377988e-17</td>\n      <td>-5.612051e-16</td>\n      <td>4.042579e-17</td>\n      <td>-7.633341e-16</td>\n      <td>0.514056</td>\n      <td>0.093708</td>\n      <td>0.520750</td>\n      <td>0.364123</td>\n      <td>...</td>\n      <td>0.959839</td>\n      <td>0.594378</td>\n      <td>0.963855</td>\n      <td>0.135207</td>\n      <td>0.135207</td>\n      <td>0.156627</td>\n      <td>0.081660</td>\n      <td>0.073628</td>\n      <td>0.128514</td>\n      <td>0.157965</td>\n    </tr>\n    <tr>\n      <th>std</th>\n      <td>1.000000e+00</td>\n      <td>1.000000e+00</td>\n      <td>1.000000e+00</td>\n      <td>1.000000e+00</td>\n      <td>1.000000e+00</td>\n      <td>1.000000e+00</td>\n      <td>0.500137</td>\n      <td>0.291618</td>\n      <td>0.499904</td>\n      <td>0.481506</td>\n      <td>...</td>\n      <td>0.196467</td>\n      <td>0.491341</td>\n      <td>0.186775</td>\n      <td>0.342174</td>\n      <td>0.342174</td>\n      <td>0.363692</td>\n      <td>0.274029</td>\n      <td>0.261339</td>\n      <td>0.334886</td>\n      <td>0.364953</td>\n    </tr>\n    <tr>\n      <th>min</th>\n      <td>-2.731287e+00</td>\n      <td>-3.800823e+00</td>\n      <td>-1.850350e+00</td>\n      <td>-8.796060e-01</td>\n      <td>-5.130428e+00</td>\n      <td>-1.851480e+00</td>\n      <td>0.000000</td>\n      <td>0.000000</td>\n      <td>0.000000</td>\n      <td>0.000000</td>\n      <td>...</td>\n      <td>0.000000</td>\n      <td>0.000000</td>\n      <td>0.000000</td>\n      <td>0.000000</td>\n      <td>0.000000</td>\n      <td>0.000000</td>\n      <td>0.000000</td>\n      <td>0.000000</td>\n      <td>0.000000</td>\n      <td>0.000000</td>\n    </tr>\n    <tr>\n      <th>25%</th>\n      <td>-6.669461e-01</td>\n      <td>-6.027100e-01</td>\n      <td>-7.332610e-01</td>\n      <td>-8.796060e-01</td>\n      <td>-5.666720e-01</td>\n      <td>-8.577868e-01</td>\n      <td>0.000000</td>\n      <td>0.000000</td>\n      <td>0.000000</td>\n      <td>0.000000</td>\n      <td>...</td>\n      <td>1.000000</td>\n      <td>0.000000</td>\n      <td>1.000000</td>\n      <td>0.000000</td>\n      <td>0.000000</td>\n      <td>0.000000</td>\n      <td>0.000000</td>\n      <td>0.000000</td>\n      <td>0.000000</td>\n      <td>0.000000</td>\n    </tr>\n    <tr>\n      <th>50%</th>\n      <td>1.652752e-01</td>\n      <td>1.968181e-01</td>\n      <td>-3.608980e-01</td>\n      <td>1.617025e-01</td>\n      <td>1.210172e-01</td>\n      <td>-2.970882e-02</td>\n      <td>1.000000</td>\n      <td>0.000000</td>\n      <td>1.000000</td>\n      <td>0.000000</td>\n      <td>...</td>\n      <td>1.000000</td>\n      <td>1.000000</td>\n      <td>1.000000</td>\n      <td>0.000000</td>\n      <td>0.000000</td>\n      <td>0.000000</td>\n      <td>0.000000</td>\n      <td>0.000000</td>\n      <td>0.000000</td>\n      <td>0.000000</td>\n    </tr>\n    <tr>\n      <th>75%</th>\n      <td>8.137593e-01</td>\n      <td>5.965822e-01</td>\n      <td>7.561910e-01</td>\n      <td>1.617025e-01</td>\n      <td>6.836721e-01</td>\n      <td>6.327536e-01</td>\n      <td>1.000000</td>\n      <td>0.000000</td>\n      <td>1.000000</td>\n      <td>1.000000</td>\n      <td>...</td>\n      <td>1.000000</td>\n      <td>1.000000</td>\n      <td>1.000000</td>\n      <td>0.000000</td>\n      <td>0.000000</td>\n      <td>0.000000</td>\n      <td>0.000000</td>\n      <td>0.000000</td>\n      <td>0.000000</td>\n      <td>0.000000</td>\n    </tr>\n    <tr>\n      <th>max</th>\n      <td>1.505476e+00</td>\n      <td>2.595403e+00</td>\n      <td>2.990369e+00</td>\n      <td>2.244320e+00</td>\n      <td>2.371637e+00</td>\n      <td>2.951372e+00</td>\n      <td>1.000000</td>\n      <td>1.000000</td>\n      <td>1.000000</td>\n      <td>1.000000</td>\n      <td>...</td>\n      <td>1.000000</td>\n      <td>1.000000</td>\n      <td>1.000000</td>\n      <td>1.000000</td>\n      <td>1.000000</td>\n      <td>1.000000</td>\n      <td>1.000000</td>\n      <td>1.000000</td>\n      <td>1.000000</td>\n      <td>1.000000</td>\n    </tr>\n  </tbody>\n</table>\n<p>8 rows × 25 columns</p>\n</div>"
     },
     "execution_count": 8,
     "metadata": {},
     "output_type": "execute_result"
    }
   ],
   "source": [
    "print(ihdp_df_x.info())\n",
    "\n",
    "\n",
    "\n",
    "ihdp_df_x.describe()\n"
   ]
  },
  {
   "cell_type": "code",
   "execution_count": 9,
   "metadata": {
    "pycharm": {
     "name": "#%%\n"
    }
   },
   "outputs": [
    {
     "name": "stdout",
     "output_type": "stream",
     "text": [
      "x_0     214\n",
      "x_1      46\n",
      "x_2      14\n",
      "x_3       4\n",
      "x_4      87\n",
      "x_5      30\n",
      "x_6       2\n",
      "x_7       2\n",
      "x_8       2\n",
      "x_9       2\n",
      "x_10      2\n",
      "x_11      2\n",
      "x_12      2\n",
      "x_13      2\n",
      "x_14      2\n",
      "x_15      2\n",
      "x_16      2\n",
      "x_17      2\n",
      "x_18      2\n",
      "x_19      2\n",
      "x_20      2\n",
      "x_21      2\n",
      "x_22      2\n",
      "x_23      2\n",
      "x_24      2\n",
      "dtype: int64\n",
      "\n",
      "The actual value counts for x_3\n",
      "-0.879606    346\n",
      " 0.161703    236\n",
      " 1.203011    100\n",
      " 2.244320     65\n",
      "Name: x_3, dtype: int64\n"
     ]
    }
   ],
   "source": [
    "print(ihdp_df_x.nunique())\n",
    "\n",
    "print(\"\\nThe actual value counts for x_3\")\n",
    "print(ihdp_df_x[\"x_3\"].value_counts())"
   ]
  },
  {
   "cell_type": "markdown",
   "metadata": {
    "pycharm": {
     "name": "#%% md\n"
    }
   },
   "source": [
    "Looking at `x_3`, and how all of the values in it are one of four distinct values,\n",
    " all of which are painfully close to being int values, I **really** want to just\n",
    " convert them into raw ints, which would be rather trivial to do,\n",
    " as follows (converting -0.879606 to 0, 0.161703 to 1, 1.203011 to 2,  2.244320 to 3, etc):\n",
    "\n",
    "```python\n",
    "import pandas as pd\n",
    "import numpy as np\n",
    "def x3_to_int(df: pd.DataFrame) -> pd.DataFrame:\n",
    "    x3 = df[\"x_3\"]\n",
    "    x3_vals = [*x3.value_counts().keys()]\n",
    "    x3_vals.sort()\n",
    "    x3_diff = x3_vals[2] - x3_vals[1]\n",
    "    x3 += x3_diff\n",
    "    x3 /= x3_diff\n",
    "    df[\"x_3\"] = x3.astype(np.int8)\n",
    "    return df\n",
    "```\n",
    "\n",
    "However, I will refrain from doing this. This is because I don't actually know what\n",
    "the data in `x_3` is supposed to be. If I knew, with certainty, that `x_3`\n",
    "would only ever be one of those for values (or, failing that, would always\n",
    "be a value from a continuous range of values with a consistent\n",
    "gap of `1.041308` between each value), I would be applying that bit of\n",
    "scaling to `x_3`. But, as mentioned earlier, I don't. So I can't. Which is a shame.\n",
    "\n"
   ]
  },
  {
   "cell_type": "markdown",
   "metadata": {
    "pycharm": {
     "name": "#%% md\n"
    }
   },
   "source": [
    "#### 1.2.2: Extracting the rest of the IHDP dataset, before adding it to a dataframe\n",
    "\n",
    "I shall copy the X data into a new dataframe (ensuring that I retain a backup copy of the dataframe holding\n",
    "just the X data), and add the rest of the IHDP data to that new dataframe,\n",
    "meaning that I'll be able to get a full overview of IHDP.\n"
   ]
  },
  {
   "cell_type": "code",
   "execution_count": 10,
   "metadata": {
    "pycharm": {
     "name": "#%%\n"
    }
   },
   "outputs": [
    {
     "data": {
      "text/plain": "        x_0       x_1       x_2       x_3       x_4       x_5  x_6  x_7  x_8  \\\n0  1.397395  0.996346 -1.105624 -0.879606  0.308569 -1.023402    1    0    0   \n1  0.269033  0.196818  0.383828  0.161703 -0.629189  1.460832    1    0    1   \n2  1.051537  1.795874 -1.105624  0.161703 -0.629189  0.963985    1    0    1   \n3  0.662446  0.196818 -0.733261 -0.879606  0.371086 -0.692171    1    0    0   \n4  0.856992  1.795874  0.011465 -0.879606  0.558638  0.301522    0    1    1   \n\n   x_9  ...  x_19  x_20  x_21  x_22  x_23  x_24  t        yf       ycf  \\\n0    0  ...     0     0     0     0     0     1  1  4.771232 -0.298509   \n1    0  ...     0     0     0     0     0     0  0  2.956273  5.783770   \n2    1  ...     0     0     0     0     0     1  0  4.164164  7.055789   \n3    0  ...     1     0     0     0     0     0  1  6.172307  1.379697   \n4    0  ...     0     0     0     0     0     0  1  7.834469  2.747986   \n\n        ite  \n0  4.657928  \n1  3.428604  \n2  3.658195  \n3  4.585505  \n4  4.265591  \n\n[5 rows x 29 columns]",
      "text/html": "<div>\n<style scoped>\n    .dataframe tbody tr th:only-of-type {\n        vertical-align: middle;\n    }\n\n    .dataframe tbody tr th {\n        vertical-align: top;\n    }\n\n    .dataframe thead th {\n        text-align: right;\n    }\n</style>\n<table border=\"1\" class=\"dataframe\">\n  <thead>\n    <tr style=\"text-align: right;\">\n      <th></th>\n      <th>x_0</th>\n      <th>x_1</th>\n      <th>x_2</th>\n      <th>x_3</th>\n      <th>x_4</th>\n      <th>x_5</th>\n      <th>x_6</th>\n      <th>x_7</th>\n      <th>x_8</th>\n      <th>x_9</th>\n      <th>...</th>\n      <th>x_19</th>\n      <th>x_20</th>\n      <th>x_21</th>\n      <th>x_22</th>\n      <th>x_23</th>\n      <th>x_24</th>\n      <th>t</th>\n      <th>yf</th>\n      <th>ycf</th>\n      <th>ite</th>\n    </tr>\n  </thead>\n  <tbody>\n    <tr>\n      <th>0</th>\n      <td>1.397395</td>\n      <td>0.996346</td>\n      <td>-1.105624</td>\n      <td>-0.879606</td>\n      <td>0.308569</td>\n      <td>-1.023402</td>\n      <td>1</td>\n      <td>0</td>\n      <td>0</td>\n      <td>0</td>\n      <td>...</td>\n      <td>0</td>\n      <td>0</td>\n      <td>0</td>\n      <td>0</td>\n      <td>0</td>\n      <td>1</td>\n      <td>1</td>\n      <td>4.771232</td>\n      <td>-0.298509</td>\n      <td>4.657928</td>\n    </tr>\n    <tr>\n      <th>1</th>\n      <td>0.269033</td>\n      <td>0.196818</td>\n      <td>0.383828</td>\n      <td>0.161703</td>\n      <td>-0.629189</td>\n      <td>1.460832</td>\n      <td>1</td>\n      <td>0</td>\n      <td>1</td>\n      <td>0</td>\n      <td>...</td>\n      <td>0</td>\n      <td>0</td>\n      <td>0</td>\n      <td>0</td>\n      <td>0</td>\n      <td>0</td>\n      <td>0</td>\n      <td>2.956273</td>\n      <td>5.783770</td>\n      <td>3.428604</td>\n    </tr>\n    <tr>\n      <th>2</th>\n      <td>1.051537</td>\n      <td>1.795874</td>\n      <td>-1.105624</td>\n      <td>0.161703</td>\n      <td>-0.629189</td>\n      <td>0.963985</td>\n      <td>1</td>\n      <td>0</td>\n      <td>1</td>\n      <td>1</td>\n      <td>...</td>\n      <td>0</td>\n      <td>0</td>\n      <td>0</td>\n      <td>0</td>\n      <td>0</td>\n      <td>1</td>\n      <td>0</td>\n      <td>4.164164</td>\n      <td>7.055789</td>\n      <td>3.658195</td>\n    </tr>\n    <tr>\n      <th>3</th>\n      <td>0.662446</td>\n      <td>0.196818</td>\n      <td>-0.733261</td>\n      <td>-0.879606</td>\n      <td>0.371086</td>\n      <td>-0.692171</td>\n      <td>1</td>\n      <td>0</td>\n      <td>0</td>\n      <td>0</td>\n      <td>...</td>\n      <td>1</td>\n      <td>0</td>\n      <td>0</td>\n      <td>0</td>\n      <td>0</td>\n      <td>0</td>\n      <td>1</td>\n      <td>6.172307</td>\n      <td>1.379697</td>\n      <td>4.585505</td>\n    </tr>\n    <tr>\n      <th>4</th>\n      <td>0.856992</td>\n      <td>1.795874</td>\n      <td>0.011465</td>\n      <td>-0.879606</td>\n      <td>0.558638</td>\n      <td>0.301522</td>\n      <td>0</td>\n      <td>1</td>\n      <td>1</td>\n      <td>0</td>\n      <td>...</td>\n      <td>0</td>\n      <td>0</td>\n      <td>0</td>\n      <td>0</td>\n      <td>0</td>\n      <td>0</td>\n      <td>1</td>\n      <td>7.834469</td>\n      <td>2.747986</td>\n      <td>4.265591</td>\n    </tr>\n  </tbody>\n</table>\n<p>5 rows × 29 columns</p>\n</div>"
     },
     "execution_count": 10,
     "metadata": {},
     "output_type": "execute_result"
    }
   ],
   "source": [
    "ihdp_df: DataFrame = add_everything_but_x_to_copy_of_dataframe(\n",
    "    ihdp_df_x.copy(),\n",
    "    ihdp_dict,\n",
    "    \"x\"\n",
    ")\n",
    "\"\"\"Dataframe holding the entirety of the IHDP dataset\"\"\"\n",
    "\n",
    "ihdp_df.head()\n"
   ]
  },
  {
   "cell_type": "code",
   "execution_count": 11,
   "metadata": {
    "pycharm": {
     "name": "#%%\n"
    }
   },
   "outputs": [
    {
     "name": "stdout",
     "output_type": "stream",
     "text": [
      "info about the full dataset\n",
      "<class 'pandas.core.frame.DataFrame'>\n",
      "RangeIndex: 747 entries, 0 to 746\n",
      "Data columns (total 29 columns):\n",
      "x_0     747 non-null float64\n",
      "x_1     747 non-null float64\n",
      "x_2     747 non-null float64\n",
      "x_3     747 non-null float64\n",
      "x_4     747 non-null float64\n",
      "x_5     747 non-null float64\n",
      "x_6     747 non-null uint8\n",
      "x_7     747 non-null uint8\n",
      "x_8     747 non-null uint8\n",
      "x_9     747 non-null uint8\n",
      "x_10    747 non-null uint8\n",
      "x_11    747 non-null uint8\n",
      "x_12    747 non-null uint8\n",
      "x_13    747 non-null uint8\n",
      "x_14    747 non-null uint8\n",
      "x_15    747 non-null uint8\n",
      "x_16    747 non-null uint8\n",
      "x_17    747 non-null uint8\n",
      "x_18    747 non-null uint8\n",
      "x_19    747 non-null uint8\n",
      "x_20    747 non-null uint8\n",
      "x_21    747 non-null uint8\n",
      "x_22    747 non-null uint8\n",
      "x_23    747 non-null uint8\n",
      "x_24    747 non-null uint8\n",
      "t       747 non-null uint8\n",
      "yf      747 non-null float64\n",
      "ycf     747 non-null float64\n",
      "ite     747 non-null float64\n",
      "dtypes: float64(9), uint8(20)\n",
      "memory usage: 67.2 KB\n",
      "None\n",
      "\n",
      "treatment info for the full dataset\n",
      "0    608\n",
      "1    139\n",
      "Name: t, dtype: int64\n",
      "\n",
      "describing the dataset\n"
     ]
    },
    {
     "data": {
      "text/plain": "                x_0           x_1           x_2           x_3           x_4  \\\ncount  7.470000e+02  7.470000e+02  7.470000e+02  7.470000e+02  7.470000e+02   \nmean   3.448082e-17  4.755975e-18 -2.377988e-17 -5.612051e-16  4.042579e-17   \nstd    1.000000e+00  1.000000e+00  1.000000e+00  1.000000e+00  1.000000e+00   \nmin   -2.731287e+00 -3.800823e+00 -1.850350e+00 -8.796060e-01 -5.130428e+00   \n25%   -6.669461e-01 -6.027100e-01 -7.332610e-01 -8.796060e-01 -5.666720e-01   \n50%    1.652752e-01  1.968181e-01 -3.608980e-01  1.617025e-01  1.210172e-01   \n75%    8.137593e-01  5.965822e-01  7.561910e-01  1.617025e-01  6.836721e-01   \nmax    1.505476e+00  2.595403e+00  2.990369e+00  2.244320e+00  2.371637e+00   \n\n                x_5         x_6         x_7         x_8         x_9  ...  \\\ncount  7.470000e+02  747.000000  747.000000  747.000000  747.000000  ...   \nmean  -7.633341e-16    0.514056    0.093708    0.520750    0.364123  ...   \nstd    1.000000e+00    0.500137    0.291618    0.499904    0.481506  ...   \nmin   -1.851480e+00    0.000000    0.000000    0.000000    0.000000  ...   \n25%   -8.577868e-01    0.000000    0.000000    0.000000    0.000000  ...   \n50%   -2.970882e-02    1.000000    0.000000    1.000000    0.000000  ...   \n75%    6.327536e-01    1.000000    0.000000    1.000000    1.000000  ...   \nmax    2.951372e+00    1.000000    1.000000    1.000000    1.000000  ...   \n\n             x_19        x_20        x_21        x_22        x_23        x_24  \\\ncount  747.000000  747.000000  747.000000  747.000000  747.000000  747.000000   \nmean     0.135207    0.156627    0.081660    0.073628    0.128514    0.157965   \nstd      0.342174    0.363692    0.274029    0.261339    0.334886    0.364953   \nmin      0.000000    0.000000    0.000000    0.000000    0.000000    0.000000   \n25%      0.000000    0.000000    0.000000    0.000000    0.000000    0.000000   \n50%      0.000000    0.000000    0.000000    0.000000    0.000000    0.000000   \n75%      0.000000    0.000000    0.000000    0.000000    0.000000    0.000000   \nmax      1.000000    1.000000    1.000000    1.000000    1.000000    1.000000   \n\n                t          yf         ycf         ite  \ncount  747.000000  747.000000  747.000000  747.000000  \nmean     0.186078    3.159538    5.696107    4.016067  \nstd      0.389430    2.179956    1.980121    0.859736  \nmin      0.000000   -1.543902   -1.037628   -1.866989  \n25%      0.000000    1.626779    5.053598    3.775936  \n50%      0.000000    2.577294    6.209686    4.304433  \n75%      0.000000    4.494637    6.948922    4.569454  \nmax      1.000000   11.268228   10.171004    4.670125  \n\n[8 rows x 29 columns]",
      "text/html": "<div>\n<style scoped>\n    .dataframe tbody tr th:only-of-type {\n        vertical-align: middle;\n    }\n\n    .dataframe tbody tr th {\n        vertical-align: top;\n    }\n\n    .dataframe thead th {\n        text-align: right;\n    }\n</style>\n<table border=\"1\" class=\"dataframe\">\n  <thead>\n    <tr style=\"text-align: right;\">\n      <th></th>\n      <th>x_0</th>\n      <th>x_1</th>\n      <th>x_2</th>\n      <th>x_3</th>\n      <th>x_4</th>\n      <th>x_5</th>\n      <th>x_6</th>\n      <th>x_7</th>\n      <th>x_8</th>\n      <th>x_9</th>\n      <th>...</th>\n      <th>x_19</th>\n      <th>x_20</th>\n      <th>x_21</th>\n      <th>x_22</th>\n      <th>x_23</th>\n      <th>x_24</th>\n      <th>t</th>\n      <th>yf</th>\n      <th>ycf</th>\n      <th>ite</th>\n    </tr>\n  </thead>\n  <tbody>\n    <tr>\n      <th>count</th>\n      <td>7.470000e+02</td>\n      <td>7.470000e+02</td>\n      <td>7.470000e+02</td>\n      <td>7.470000e+02</td>\n      <td>7.470000e+02</td>\n      <td>7.470000e+02</td>\n      <td>747.000000</td>\n      <td>747.000000</td>\n      <td>747.000000</td>\n      <td>747.000000</td>\n      <td>...</td>\n      <td>747.000000</td>\n      <td>747.000000</td>\n      <td>747.000000</td>\n      <td>747.000000</td>\n      <td>747.000000</td>\n      <td>747.000000</td>\n      <td>747.000000</td>\n      <td>747.000000</td>\n      <td>747.000000</td>\n      <td>747.000000</td>\n    </tr>\n    <tr>\n      <th>mean</th>\n      <td>3.448082e-17</td>\n      <td>4.755975e-18</td>\n      <td>-2.377988e-17</td>\n      <td>-5.612051e-16</td>\n      <td>4.042579e-17</td>\n      <td>-7.633341e-16</td>\n      <td>0.514056</td>\n      <td>0.093708</td>\n      <td>0.520750</td>\n      <td>0.364123</td>\n      <td>...</td>\n      <td>0.135207</td>\n      <td>0.156627</td>\n      <td>0.081660</td>\n      <td>0.073628</td>\n      <td>0.128514</td>\n      <td>0.157965</td>\n      <td>0.186078</td>\n      <td>3.159538</td>\n      <td>5.696107</td>\n      <td>4.016067</td>\n    </tr>\n    <tr>\n      <th>std</th>\n      <td>1.000000e+00</td>\n      <td>1.000000e+00</td>\n      <td>1.000000e+00</td>\n      <td>1.000000e+00</td>\n      <td>1.000000e+00</td>\n      <td>1.000000e+00</td>\n      <td>0.500137</td>\n      <td>0.291618</td>\n      <td>0.499904</td>\n      <td>0.481506</td>\n      <td>...</td>\n      <td>0.342174</td>\n      <td>0.363692</td>\n      <td>0.274029</td>\n      <td>0.261339</td>\n      <td>0.334886</td>\n      <td>0.364953</td>\n      <td>0.389430</td>\n      <td>2.179956</td>\n      <td>1.980121</td>\n      <td>0.859736</td>\n    </tr>\n    <tr>\n      <th>min</th>\n      <td>-2.731287e+00</td>\n      <td>-3.800823e+00</td>\n      <td>-1.850350e+00</td>\n      <td>-8.796060e-01</td>\n      <td>-5.130428e+00</td>\n      <td>-1.851480e+00</td>\n      <td>0.000000</td>\n      <td>0.000000</td>\n      <td>0.000000</td>\n      <td>0.000000</td>\n      <td>...</td>\n      <td>0.000000</td>\n      <td>0.000000</td>\n      <td>0.000000</td>\n      <td>0.000000</td>\n      <td>0.000000</td>\n      <td>0.000000</td>\n      <td>0.000000</td>\n      <td>-1.543902</td>\n      <td>-1.037628</td>\n      <td>-1.866989</td>\n    </tr>\n    <tr>\n      <th>25%</th>\n      <td>-6.669461e-01</td>\n      <td>-6.027100e-01</td>\n      <td>-7.332610e-01</td>\n      <td>-8.796060e-01</td>\n      <td>-5.666720e-01</td>\n      <td>-8.577868e-01</td>\n      <td>0.000000</td>\n      <td>0.000000</td>\n      <td>0.000000</td>\n      <td>0.000000</td>\n      <td>...</td>\n      <td>0.000000</td>\n      <td>0.000000</td>\n      <td>0.000000</td>\n      <td>0.000000</td>\n      <td>0.000000</td>\n      <td>0.000000</td>\n      <td>0.000000</td>\n      <td>1.626779</td>\n      <td>5.053598</td>\n      <td>3.775936</td>\n    </tr>\n    <tr>\n      <th>50%</th>\n      <td>1.652752e-01</td>\n      <td>1.968181e-01</td>\n      <td>-3.608980e-01</td>\n      <td>1.617025e-01</td>\n      <td>1.210172e-01</td>\n      <td>-2.970882e-02</td>\n      <td>1.000000</td>\n      <td>0.000000</td>\n      <td>1.000000</td>\n      <td>0.000000</td>\n      <td>...</td>\n      <td>0.000000</td>\n      <td>0.000000</td>\n      <td>0.000000</td>\n      <td>0.000000</td>\n      <td>0.000000</td>\n      <td>0.000000</td>\n      <td>0.000000</td>\n      <td>2.577294</td>\n      <td>6.209686</td>\n      <td>4.304433</td>\n    </tr>\n    <tr>\n      <th>75%</th>\n      <td>8.137593e-01</td>\n      <td>5.965822e-01</td>\n      <td>7.561910e-01</td>\n      <td>1.617025e-01</td>\n      <td>6.836721e-01</td>\n      <td>6.327536e-01</td>\n      <td>1.000000</td>\n      <td>0.000000</td>\n      <td>1.000000</td>\n      <td>1.000000</td>\n      <td>...</td>\n      <td>0.000000</td>\n      <td>0.000000</td>\n      <td>0.000000</td>\n      <td>0.000000</td>\n      <td>0.000000</td>\n      <td>0.000000</td>\n      <td>0.000000</td>\n      <td>4.494637</td>\n      <td>6.948922</td>\n      <td>4.569454</td>\n    </tr>\n    <tr>\n      <th>max</th>\n      <td>1.505476e+00</td>\n      <td>2.595403e+00</td>\n      <td>2.990369e+00</td>\n      <td>2.244320e+00</td>\n      <td>2.371637e+00</td>\n      <td>2.951372e+00</td>\n      <td>1.000000</td>\n      <td>1.000000</td>\n      <td>1.000000</td>\n      <td>1.000000</td>\n      <td>...</td>\n      <td>1.000000</td>\n      <td>1.000000</td>\n      <td>1.000000</td>\n      <td>1.000000</td>\n      <td>1.000000</td>\n      <td>1.000000</td>\n      <td>1.000000</td>\n      <td>11.268228</td>\n      <td>10.171004</td>\n      <td>4.670125</td>\n    </tr>\n  </tbody>\n</table>\n<p>8 rows × 29 columns</p>\n</div>"
     },
     "execution_count": 11,
     "metadata": {},
     "output_type": "execute_result"
    }
   ],
   "source": [
    "print(\"info about the full dataset\")\n",
    "print(ihdp_df.info())\n",
    "\n",
    "print(\"\\ntreatment info for the full dataset\")\n",
    "print(ihdp_df[\"t\"].value_counts())\n",
    "\n",
    "print(\"\\ndescribing the dataset\")\n",
    "ihdp_df.describe()"
   ]
  },
  {
   "cell_type": "markdown",
   "metadata": {
    "pycharm": {
     "name": "#%% md\n"
    }
   },
   "source": [
    "#### 1.2.3: Visualizing the IHDP dataset"
   ]
  },
  {
   "cell_type": "code",
   "execution_count": 12,
   "outputs": [],
   "source": [
    "# jointplot_maker(ihdp_df[[\"x_0\",\"yf\",\"t\"]],\"x_0\",\"yf\",\"t\", debug=True).savefig()"
   ],
   "metadata": {
    "collapsed": false,
    "pycharm": {
     "name": "#%%\n"
    }
   }
  },
  {
   "cell_type": "code",
   "execution_count": 13,
   "outputs": [
    {
     "name": "stdout",
     "output_type": "stream",
     "text": [
      "['x_0', 'x_1', 'x_2', 'x_3', 'x_4', 'x_5', 'x_6', 'x_7', 'x_8', 'x_9', 'x_10', 'x_11', 'x_12', 'x_13', 'x_14', 'x_15', 'x_16', 'x_17', 'x_18', 'x_19', 'x_20', 'x_21', 'x_22', 'x_23', 'x_24']\n",
      "making plots:\n",
      "Todo: 000000000000000000000000000\n",
      "Done: ✓✓✓✓✓✓✓✓✓✓✓✓✓✓✓✓✓✓✓✓✓✓✓✓✓✓✓\n"
     ]
    }
   ],
   "source": [
    "#visualizer(ihdp_df, [*ihdp_df_x.columns] , \"yf\", \"t\",fig_subject=\"IHDP\").show()\n",
    "\n",
    "ihdp_fig: plt.Figure = viz2(ihdp_df, [*ihdp_df_x.columns], \"yf\",\"t\", fig_subject=\"IHDP\").savefig()\n",
    "\n",
    "ihdp_fig"
   ],
   "metadata": {
    "collapsed": false,
    "pycharm": {
     "name": "#%%\n"
    }
   }
  },
  {
   "cell_type": "code",
   "execution_count": 14,
   "outputs": [],
   "source": [
    "ihdp_fig.savefig(\"ihdp_graphs.pdf\", format=\"pdf\", bbox_inches=\"tight\")\n"
   ],
   "metadata": {
    "collapsed": false,
    "pycharm": {
     "name": "#%%\n"
    }
   }
  },
  {
   "cell_type": "markdown",
   "metadata": {
    "pycharm": {
     "name": "#%% md\n"
    }
   },
   "source": [
    "#### 1.2.4: Discussing the IHDP dataset\n",
    "\n",
    "We can see that most of the X measures in this dataset are boolean 'yes/no' values (with only x values 0-5\n",
    "being continuous values). This implies that we don't need to perform any scaling on these latter 19 values to keep\n",
    "them in a manageable range, however, we may need to consider\n"
   ]
  },
  {
   "cell_type": "code",
   "execution_count": 14,
   "metadata": {
    "pycharm": {
     "name": "#%%\n"
    }
   },
   "outputs": [],
   "source": []
  },
  {
   "cell_type": "markdown",
   "metadata": {
    "pycharm": {
     "name": "#%% md\n"
    }
   },
   "source": [
    "### 1.3: Loading the JOBS dataset\n",
    "\n",
    "As above, but for the JOBS dataset instead."
   ]
  },
  {
   "cell_type": "code",
   "execution_count": 15,
   "metadata": {
    "pycharm": {
     "name": "#%%\n"
    }
   },
   "outputs": [
    {
     "name": "stdout",
     "output_type": "stream",
     "text": [
      "x: (3212, 17)\n",
      "t: (3212, 1)\n",
      "y: (3212, 1)\n",
      "e: (3212, 1)\n"
     ]
    }
   ],
   "source": [
    "jobs_dict: Dict[str, np.ndarray] = npz_to_dict(\"jobs.npz\")\n",
    "\n",
    "\n",
    "for k,v in jobs_dict.items():\n",
    "    print(f\"{k}: {v.shape}\")"
   ]
  },
  {
   "cell_type": "markdown",
   "metadata": {
    "pycharm": {
     "name": "#%% md\n"
    }
   },
   "source": [
    "#### 1.3.1: Loading the X data from JOBS"
   ]
  },
  {
   "cell_type": "code",
   "execution_count": 16,
   "metadata": {
    "pycharm": {
     "name": "#%%\n"
    }
   },
   "outputs": [
    {
     "data": {
      "text/plain": "        x_0       x_1  x_2  x_3  x_4  x_5       x_6       x_7       x_8  \\\n0 -0.614282  1.464727    0    0    1    0  2.393250  2.746196 -0.653311   \n1 -0.802463  0.101835    0    0    1    0  0.109885  0.498271 -0.785284   \n2 -0.896553 -0.238888    1    0    1    1 -0.085212 -0.148097 -0.847312   \n3 -0.896553 -0.238888    0    0    0    1  0.405581  0.325594 -0.847312   \n4  0.138440 -1.601779    1    0    1    1 -0.722531 -0.212734 -0.019840   \n\n        x_9      x_10      x_11      x_12  x_13  x_14      x_15  x_16  \n0 -0.656913  1.627531  2.462337  2.937244     0     0  2.843909     0  \n1 -0.743407 -0.022502 -0.177193  0.082537     0     0  0.038422     0  \n2 -0.781606 -0.361348 -0.286221 -0.303615     0     0 -0.191304     0  \n3 -0.781606 -0.361348  0.023020 -0.039630     0     0  0.173108     0  \n4 -0.156019 -1.422084 -0.514563 -0.331552     0     0 -0.779227     0  ",
      "text/html": "<div>\n<style scoped>\n    .dataframe tbody tr th:only-of-type {\n        vertical-align: middle;\n    }\n\n    .dataframe tbody tr th {\n        vertical-align: top;\n    }\n\n    .dataframe thead th {\n        text-align: right;\n    }\n</style>\n<table border=\"1\" class=\"dataframe\">\n  <thead>\n    <tr style=\"text-align: right;\">\n      <th></th>\n      <th>x_0</th>\n      <th>x_1</th>\n      <th>x_2</th>\n      <th>x_3</th>\n      <th>x_4</th>\n      <th>x_5</th>\n      <th>x_6</th>\n      <th>x_7</th>\n      <th>x_8</th>\n      <th>x_9</th>\n      <th>x_10</th>\n      <th>x_11</th>\n      <th>x_12</th>\n      <th>x_13</th>\n      <th>x_14</th>\n      <th>x_15</th>\n      <th>x_16</th>\n    </tr>\n  </thead>\n  <tbody>\n    <tr>\n      <th>0</th>\n      <td>-0.614282</td>\n      <td>1.464727</td>\n      <td>0</td>\n      <td>0</td>\n      <td>1</td>\n      <td>0</td>\n      <td>2.393250</td>\n      <td>2.746196</td>\n      <td>-0.653311</td>\n      <td>-0.656913</td>\n      <td>1.627531</td>\n      <td>2.462337</td>\n      <td>2.937244</td>\n      <td>0</td>\n      <td>0</td>\n      <td>2.843909</td>\n      <td>0</td>\n    </tr>\n    <tr>\n      <th>1</th>\n      <td>-0.802463</td>\n      <td>0.101835</td>\n      <td>0</td>\n      <td>0</td>\n      <td>1</td>\n      <td>0</td>\n      <td>0.109885</td>\n      <td>0.498271</td>\n      <td>-0.785284</td>\n      <td>-0.743407</td>\n      <td>-0.022502</td>\n      <td>-0.177193</td>\n      <td>0.082537</td>\n      <td>0</td>\n      <td>0</td>\n      <td>0.038422</td>\n      <td>0</td>\n    </tr>\n    <tr>\n      <th>2</th>\n      <td>-0.896553</td>\n      <td>-0.238888</td>\n      <td>1</td>\n      <td>0</td>\n      <td>1</td>\n      <td>1</td>\n      <td>-0.085212</td>\n      <td>-0.148097</td>\n      <td>-0.847312</td>\n      <td>-0.781606</td>\n      <td>-0.361348</td>\n      <td>-0.286221</td>\n      <td>-0.303615</td>\n      <td>0</td>\n      <td>0</td>\n      <td>-0.191304</td>\n      <td>0</td>\n    </tr>\n    <tr>\n      <th>3</th>\n      <td>-0.896553</td>\n      <td>-0.238888</td>\n      <td>0</td>\n      <td>0</td>\n      <td>0</td>\n      <td>1</td>\n      <td>0.405581</td>\n      <td>0.325594</td>\n      <td>-0.847312</td>\n      <td>-0.781606</td>\n      <td>-0.361348</td>\n      <td>0.023020</td>\n      <td>-0.039630</td>\n      <td>0</td>\n      <td>0</td>\n      <td>0.173108</td>\n      <td>0</td>\n    </tr>\n    <tr>\n      <th>4</th>\n      <td>0.138440</td>\n      <td>-1.601779</td>\n      <td>1</td>\n      <td>0</td>\n      <td>1</td>\n      <td>1</td>\n      <td>-0.722531</td>\n      <td>-0.212734</td>\n      <td>-0.019840</td>\n      <td>-0.156019</td>\n      <td>-1.422084</td>\n      <td>-0.514563</td>\n      <td>-0.331552</td>\n      <td>0</td>\n      <td>0</td>\n      <td>-0.779227</td>\n      <td>0</td>\n    </tr>\n  </tbody>\n</table>\n</div>"
     },
     "execution_count": 16,
     "metadata": {},
     "output_type": "execute_result"
    }
   ],
   "source": [
    "jobs_df_x: DataFrame = x_to_dataframe(jobs_dict['x'])\n",
    "\n",
    "jobs_df_x.head()"
   ]
  },
  {
   "cell_type": "code",
   "execution_count": 17,
   "metadata": {
    "pycharm": {
     "name": "#%%\n"
    }
   },
   "outputs": [
    {
     "name": "stdout",
     "output_type": "stream",
     "text": [
      "<class 'pandas.core.frame.DataFrame'>\n",
      "RangeIndex: 3212 entries, 0 to 3211\n",
      "Data columns (total 17 columns):\n",
      "x_0     3212 non-null float64\n",
      "x_1     3212 non-null float64\n",
      "x_2     3212 non-null uint8\n",
      "x_3     3212 non-null uint8\n",
      "x_4     3212 non-null uint8\n",
      "x_5     3212 non-null uint8\n",
      "x_6     3212 non-null float64\n",
      "x_7     3212 non-null float64\n",
      "x_8     3212 non-null float64\n",
      "x_9     3212 non-null float64\n",
      "x_10    3212 non-null float64\n",
      "x_11    3212 non-null float64\n",
      "x_12    3212 non-null float64\n",
      "x_13    3212 non-null uint8\n",
      "x_14    3212 non-null uint8\n",
      "x_15    3212 non-null float64\n",
      "x_16    3212 non-null uint8\n",
      "dtypes: float64(10), uint8(7)\n",
      "memory usage: 273.0 KB\n",
      "None\n"
     ]
    },
    {
     "data": {
      "text/plain": "                x_0           x_1          x_2          x_3          x_4  \\\ncount  3.212000e+03  3.212000e+03  3212.000000  3212.000000  3212.000000   \nmean   2.013057e-16 -1.880328e-16     0.374222     0.048879     0.707970   \nstd    1.000000e+00  1.000000e+00     0.483997     0.215649     0.454767   \nmin   -1.461095e+00 -3.986840e+00     0.000000     0.000000     0.000000   \n25%   -8.024627e-01 -5.796108e-01     0.000000     0.000000     0.000000   \n50%   -3.320111e-01  1.018350e-01     0.000000     0.000000     1.000000   \n75%    7.970728e-01  4.425579e-01     1.000000     0.000000     1.000000   \nmax    2.114337e+00  1.805449e+00     1.000000     1.000000     1.000000   \n\n               x_5           x_6           x_7           x_8           x_9  \\\ncount  3212.000000  3.212000e+03  3.212000e+03  3.212000e+03  3.212000e+03   \nmean      0.411893  3.318226e-17 -9.069817e-17 -1.106075e-17  1.763748e-14   \nstd       0.492253  1.000000e+00  1.000000e+00  1.000000e+00  1.000000e+00   \nmin       0.000000 -1.147411e+00 -1.110467e+00 -1.164047e+00 -9.488316e-01   \n25%       0.000000 -8.923385e-01 -9.139141e-01 -7.852843e-01 -7.434072e-01   \n50%       0.000000 -8.521244e-02 -8.346011e-02 -4.355556e-01 -4.998533e-01   \n75%       1.000000  5.506613e-01  5.629081e-01  6.730184e-01  5.267384e-01   \nmax       1.000000  8.751987e+00  1.016507e+01  2.446737e+00  2.773336e+00   \n\n               x_10          x_11          x_12         x_13         x_14  \\\ncount  3.212000e+03  3.212000e+03  3.212000e+03  3212.000000  3212.000000   \nmean   1.437898e-17 -3.539441e-17  2.035178e-16     0.168742     0.167497   \nstd    1.000000e+00  1.000000e+00  1.000000e+00     0.374582     0.373477   \nmin   -2.143974e+00 -5.580568e-01 -5.188151e-01     0.000000     0.000000   \n25%   -6.707297e-01 -5.423814e-01 -5.098380e-01     0.000000     0.000000   \n50%   -2.250229e-02 -2.862214e-01 -2.737369e-01     0.000000     0.000000   \n75%    3.458087e-01  1.366588e-01  1.318304e-01     0.000000     0.000000   \nmax    2.113702e+00  2.305284e+01  2.902264e+01     1.000000     1.000000   \n\n               x_15         x_16  \ncount  3.212000e+03  3212.000000  \nmean   1.283047e-16     0.010897  \nstd    1.000000e+00     0.103833  \nmin   -9.799811e-01     0.000000  \n25%   -8.142367e-01     0.000000  \n50%   -2.035020e-01     0.000000  \n75%    4.539777e-01     0.000000  \nmax    7.136030e+00     1.000000  ",
      "text/html": "<div>\n<style scoped>\n    .dataframe tbody tr th:only-of-type {\n        vertical-align: middle;\n    }\n\n    .dataframe tbody tr th {\n        vertical-align: top;\n    }\n\n    .dataframe thead th {\n        text-align: right;\n    }\n</style>\n<table border=\"1\" class=\"dataframe\">\n  <thead>\n    <tr style=\"text-align: right;\">\n      <th></th>\n      <th>x_0</th>\n      <th>x_1</th>\n      <th>x_2</th>\n      <th>x_3</th>\n      <th>x_4</th>\n      <th>x_5</th>\n      <th>x_6</th>\n      <th>x_7</th>\n      <th>x_8</th>\n      <th>x_9</th>\n      <th>x_10</th>\n      <th>x_11</th>\n      <th>x_12</th>\n      <th>x_13</th>\n      <th>x_14</th>\n      <th>x_15</th>\n      <th>x_16</th>\n    </tr>\n  </thead>\n  <tbody>\n    <tr>\n      <th>count</th>\n      <td>3.212000e+03</td>\n      <td>3.212000e+03</td>\n      <td>3212.000000</td>\n      <td>3212.000000</td>\n      <td>3212.000000</td>\n      <td>3212.000000</td>\n      <td>3.212000e+03</td>\n      <td>3.212000e+03</td>\n      <td>3.212000e+03</td>\n      <td>3.212000e+03</td>\n      <td>3.212000e+03</td>\n      <td>3.212000e+03</td>\n      <td>3.212000e+03</td>\n      <td>3212.000000</td>\n      <td>3212.000000</td>\n      <td>3.212000e+03</td>\n      <td>3212.000000</td>\n    </tr>\n    <tr>\n      <th>mean</th>\n      <td>2.013057e-16</td>\n      <td>-1.880328e-16</td>\n      <td>0.374222</td>\n      <td>0.048879</td>\n      <td>0.707970</td>\n      <td>0.411893</td>\n      <td>3.318226e-17</td>\n      <td>-9.069817e-17</td>\n      <td>-1.106075e-17</td>\n      <td>1.763748e-14</td>\n      <td>1.437898e-17</td>\n      <td>-3.539441e-17</td>\n      <td>2.035178e-16</td>\n      <td>0.168742</td>\n      <td>0.167497</td>\n      <td>1.283047e-16</td>\n      <td>0.010897</td>\n    </tr>\n    <tr>\n      <th>std</th>\n      <td>1.000000e+00</td>\n      <td>1.000000e+00</td>\n      <td>0.483997</td>\n      <td>0.215649</td>\n      <td>0.454767</td>\n      <td>0.492253</td>\n      <td>1.000000e+00</td>\n      <td>1.000000e+00</td>\n      <td>1.000000e+00</td>\n      <td>1.000000e+00</td>\n      <td>1.000000e+00</td>\n      <td>1.000000e+00</td>\n      <td>1.000000e+00</td>\n      <td>0.374582</td>\n      <td>0.373477</td>\n      <td>1.000000e+00</td>\n      <td>0.103833</td>\n    </tr>\n    <tr>\n      <th>min</th>\n      <td>-1.461095e+00</td>\n      <td>-3.986840e+00</td>\n      <td>0.000000</td>\n      <td>0.000000</td>\n      <td>0.000000</td>\n      <td>0.000000</td>\n      <td>-1.147411e+00</td>\n      <td>-1.110467e+00</td>\n      <td>-1.164047e+00</td>\n      <td>-9.488316e-01</td>\n      <td>-2.143974e+00</td>\n      <td>-5.580568e-01</td>\n      <td>-5.188151e-01</td>\n      <td>0.000000</td>\n      <td>0.000000</td>\n      <td>-9.799811e-01</td>\n      <td>0.000000</td>\n    </tr>\n    <tr>\n      <th>25%</th>\n      <td>-8.024627e-01</td>\n      <td>-5.796108e-01</td>\n      <td>0.000000</td>\n      <td>0.000000</td>\n      <td>0.000000</td>\n      <td>0.000000</td>\n      <td>-8.923385e-01</td>\n      <td>-9.139141e-01</td>\n      <td>-7.852843e-01</td>\n      <td>-7.434072e-01</td>\n      <td>-6.707297e-01</td>\n      <td>-5.423814e-01</td>\n      <td>-5.098380e-01</td>\n      <td>0.000000</td>\n      <td>0.000000</td>\n      <td>-8.142367e-01</td>\n      <td>0.000000</td>\n    </tr>\n    <tr>\n      <th>50%</th>\n      <td>-3.320111e-01</td>\n      <td>1.018350e-01</td>\n      <td>0.000000</td>\n      <td>0.000000</td>\n      <td>1.000000</td>\n      <td>0.000000</td>\n      <td>-8.521244e-02</td>\n      <td>-8.346011e-02</td>\n      <td>-4.355556e-01</td>\n      <td>-4.998533e-01</td>\n      <td>-2.250229e-02</td>\n      <td>-2.862214e-01</td>\n      <td>-2.737369e-01</td>\n      <td>0.000000</td>\n      <td>0.000000</td>\n      <td>-2.035020e-01</td>\n      <td>0.000000</td>\n    </tr>\n    <tr>\n      <th>75%</th>\n      <td>7.970728e-01</td>\n      <td>4.425579e-01</td>\n      <td>1.000000</td>\n      <td>0.000000</td>\n      <td>1.000000</td>\n      <td>1.000000</td>\n      <td>5.506613e-01</td>\n      <td>5.629081e-01</td>\n      <td>6.730184e-01</td>\n      <td>5.267384e-01</td>\n      <td>3.458087e-01</td>\n      <td>1.366588e-01</td>\n      <td>1.318304e-01</td>\n      <td>0.000000</td>\n      <td>0.000000</td>\n      <td>4.539777e-01</td>\n      <td>0.000000</td>\n    </tr>\n    <tr>\n      <th>max</th>\n      <td>2.114337e+00</td>\n      <td>1.805449e+00</td>\n      <td>1.000000</td>\n      <td>1.000000</td>\n      <td>1.000000</td>\n      <td>1.000000</td>\n      <td>8.751987e+00</td>\n      <td>1.016507e+01</td>\n      <td>2.446737e+00</td>\n      <td>2.773336e+00</td>\n      <td>2.113702e+00</td>\n      <td>2.305284e+01</td>\n      <td>2.902264e+01</td>\n      <td>1.000000</td>\n      <td>1.000000</td>\n      <td>7.136030e+00</td>\n      <td>1.000000</td>\n    </tr>\n  </tbody>\n</table>\n</div>"
     },
     "execution_count": 17,
     "metadata": {},
     "output_type": "execute_result"
    }
   ],
   "source": [
    "print(jobs_df_x.info())\n",
    "\n",
    "jobs_df_x.describe()\n"
   ]
  },
  {
   "cell_type": "code",
   "execution_count": 18,
   "metadata": {
    "pycharm": {
     "name": "#%%\n"
    }
   },
   "outputs": [
    {
     "name": "stdout",
     "output_type": "stream",
     "text": [
      "x_0       39\n",
      "x_1       17\n",
      "x_2        2\n",
      "x_3        2\n",
      "x_4        2\n",
      "x_5        2\n",
      "x_6      799\n",
      "x_7      843\n",
      "x_8       39\n",
      "x_9       39\n",
      "x_10      17\n",
      "x_11     799\n",
      "x_12     843\n",
      "x_13       2\n",
      "x_14       2\n",
      "x_15    1373\n",
      "x_16       2\n",
      "dtype: int64\n"
     ]
    }
   ],
   "source": [
    "\n",
    "print(jobs_df_x.nunique())"
   ]
  },
  {
   "cell_type": "markdown",
   "metadata": {
    "pycharm": {
     "name": "#%% md\n"
    }
   },
   "source": [
    "#### 1.3.2: Loading the remaining data from JOBS"
   ]
  },
  {
   "cell_type": "code",
   "execution_count": 19,
   "metadata": {
    "pycharm": {
     "name": "#%%\n"
    }
   },
   "outputs": [
    {
     "data": {
      "text/plain": "        x_0       x_1  x_2  x_3  x_4  x_5       x_6       x_7       x_8  \\\n0 -0.614282  1.464727    0    0    1    0  2.393250  2.746196 -0.653311   \n1 -0.802463  0.101835    0    0    1    0  0.109885  0.498271 -0.785284   \n2 -0.896553 -0.238888    1    0    1    1 -0.085212 -0.148097 -0.847312   \n3 -0.896553 -0.238888    0    0    0    1  0.405581  0.325594 -0.847312   \n4  0.138440 -1.601779    1    0    1    1 -0.722531 -0.212734 -0.019840   \n\n        x_9      x_10      x_11      x_12  x_13  x_14      x_15  x_16  t  y  e  \n0 -0.656913  1.627531  2.462337  2.937244     0     0  2.843909     0  0  1  0  \n1 -0.743407 -0.022502 -0.177193  0.082537     0     0  0.038422     0  0  1  0  \n2 -0.781606 -0.361348 -0.286221 -0.303615     0     0 -0.191304     0  0  1  0  \n3 -0.781606 -0.361348  0.023020 -0.039630     0     0  0.173108     0  0  1  1  \n4 -0.156019 -1.422084 -0.514563 -0.331552     0     0 -0.779227     0  0  1  0  ",
      "text/html": "<div>\n<style scoped>\n    .dataframe tbody tr th:only-of-type {\n        vertical-align: middle;\n    }\n\n    .dataframe tbody tr th {\n        vertical-align: top;\n    }\n\n    .dataframe thead th {\n        text-align: right;\n    }\n</style>\n<table border=\"1\" class=\"dataframe\">\n  <thead>\n    <tr style=\"text-align: right;\">\n      <th></th>\n      <th>x_0</th>\n      <th>x_1</th>\n      <th>x_2</th>\n      <th>x_3</th>\n      <th>x_4</th>\n      <th>x_5</th>\n      <th>x_6</th>\n      <th>x_7</th>\n      <th>x_8</th>\n      <th>x_9</th>\n      <th>x_10</th>\n      <th>x_11</th>\n      <th>x_12</th>\n      <th>x_13</th>\n      <th>x_14</th>\n      <th>x_15</th>\n      <th>x_16</th>\n      <th>t</th>\n      <th>y</th>\n      <th>e</th>\n    </tr>\n  </thead>\n  <tbody>\n    <tr>\n      <th>0</th>\n      <td>-0.614282</td>\n      <td>1.464727</td>\n      <td>0</td>\n      <td>0</td>\n      <td>1</td>\n      <td>0</td>\n      <td>2.393250</td>\n      <td>2.746196</td>\n      <td>-0.653311</td>\n      <td>-0.656913</td>\n      <td>1.627531</td>\n      <td>2.462337</td>\n      <td>2.937244</td>\n      <td>0</td>\n      <td>0</td>\n      <td>2.843909</td>\n      <td>0</td>\n      <td>0</td>\n      <td>1</td>\n      <td>0</td>\n    </tr>\n    <tr>\n      <th>1</th>\n      <td>-0.802463</td>\n      <td>0.101835</td>\n      <td>0</td>\n      <td>0</td>\n      <td>1</td>\n      <td>0</td>\n      <td>0.109885</td>\n      <td>0.498271</td>\n      <td>-0.785284</td>\n      <td>-0.743407</td>\n      <td>-0.022502</td>\n      <td>-0.177193</td>\n      <td>0.082537</td>\n      <td>0</td>\n      <td>0</td>\n      <td>0.038422</td>\n      <td>0</td>\n      <td>0</td>\n      <td>1</td>\n      <td>0</td>\n    </tr>\n    <tr>\n      <th>2</th>\n      <td>-0.896553</td>\n      <td>-0.238888</td>\n      <td>1</td>\n      <td>0</td>\n      <td>1</td>\n      <td>1</td>\n      <td>-0.085212</td>\n      <td>-0.148097</td>\n      <td>-0.847312</td>\n      <td>-0.781606</td>\n      <td>-0.361348</td>\n      <td>-0.286221</td>\n      <td>-0.303615</td>\n      <td>0</td>\n      <td>0</td>\n      <td>-0.191304</td>\n      <td>0</td>\n      <td>0</td>\n      <td>1</td>\n      <td>0</td>\n    </tr>\n    <tr>\n      <th>3</th>\n      <td>-0.896553</td>\n      <td>-0.238888</td>\n      <td>0</td>\n      <td>0</td>\n      <td>0</td>\n      <td>1</td>\n      <td>0.405581</td>\n      <td>0.325594</td>\n      <td>-0.847312</td>\n      <td>-0.781606</td>\n      <td>-0.361348</td>\n      <td>0.023020</td>\n      <td>-0.039630</td>\n      <td>0</td>\n      <td>0</td>\n      <td>0.173108</td>\n      <td>0</td>\n      <td>0</td>\n      <td>1</td>\n      <td>1</td>\n    </tr>\n    <tr>\n      <th>4</th>\n      <td>0.138440</td>\n      <td>-1.601779</td>\n      <td>1</td>\n      <td>0</td>\n      <td>1</td>\n      <td>1</td>\n      <td>-0.722531</td>\n      <td>-0.212734</td>\n      <td>-0.019840</td>\n      <td>-0.156019</td>\n      <td>-1.422084</td>\n      <td>-0.514563</td>\n      <td>-0.331552</td>\n      <td>0</td>\n      <td>0</td>\n      <td>-0.779227</td>\n      <td>0</td>\n      <td>0</td>\n      <td>1</td>\n      <td>0</td>\n    </tr>\n  </tbody>\n</table>\n</div>"
     },
     "execution_count": 19,
     "metadata": {},
     "output_type": "execute_result"
    }
   ],
   "source": [
    "jobs_df: DataFrame = add_everything_but_x_to_copy_of_dataframe(\n",
    "    jobs_df_x.copy(),\n",
    "    jobs_dict,\n",
    "    \"x\"\n",
    ")\n",
    "\n",
    "jobs_df.head()"
   ]
  },
  {
   "cell_type": "code",
   "execution_count": 20,
   "metadata": {
    "pycharm": {
     "name": "#%%\n"
    }
   },
   "outputs": [
    {
     "name": "stdout",
     "output_type": "stream",
     "text": [
      "<class 'pandas.core.frame.DataFrame'>\n",
      "RangeIndex: 3212 entries, 0 to 3211\n",
      "Data columns (total 20 columns):\n",
      "x_0     3212 non-null float64\n",
      "x_1     3212 non-null float64\n",
      "x_2     3212 non-null uint8\n",
      "x_3     3212 non-null uint8\n",
      "x_4     3212 non-null uint8\n",
      "x_5     3212 non-null uint8\n",
      "x_6     3212 non-null float64\n",
      "x_7     3212 non-null float64\n",
      "x_8     3212 non-null float64\n",
      "x_9     3212 non-null float64\n",
      "x_10    3212 non-null float64\n",
      "x_11    3212 non-null float64\n",
      "x_12    3212 non-null float64\n",
      "x_13    3212 non-null uint8\n",
      "x_14    3212 non-null uint8\n",
      "x_15    3212 non-null float64\n",
      "x_16    3212 non-null uint8\n",
      "t       3212 non-null uint8\n",
      "y       3212 non-null uint8\n",
      "e       3212 non-null uint8\n",
      "dtypes: float64(10), uint8(10)\n",
      "memory usage: 282.4 KB\n",
      "None\n"
     ]
    },
    {
     "data": {
      "text/plain": "                x_0           x_1          x_2          x_3          x_4  \\\ncount  3.212000e+03  3.212000e+03  3212.000000  3212.000000  3212.000000   \nmean   2.013057e-16 -1.880328e-16     0.374222     0.048879     0.707970   \nstd    1.000000e+00  1.000000e+00     0.483997     0.215649     0.454767   \nmin   -1.461095e+00 -3.986840e+00     0.000000     0.000000     0.000000   \n25%   -8.024627e-01 -5.796108e-01     0.000000     0.000000     0.000000   \n50%   -3.320111e-01  1.018350e-01     0.000000     0.000000     1.000000   \n75%    7.970728e-01  4.425579e-01     1.000000     0.000000     1.000000   \nmax    2.114337e+00  1.805449e+00     1.000000     1.000000     1.000000   \n\n               x_5           x_6           x_7           x_8           x_9  \\\ncount  3212.000000  3.212000e+03  3.212000e+03  3.212000e+03  3.212000e+03   \nmean      0.411893  3.318226e-17 -9.069817e-17 -1.106075e-17  1.763748e-14   \nstd       0.492253  1.000000e+00  1.000000e+00  1.000000e+00  1.000000e+00   \nmin       0.000000 -1.147411e+00 -1.110467e+00 -1.164047e+00 -9.488316e-01   \n25%       0.000000 -8.923385e-01 -9.139141e-01 -7.852843e-01 -7.434072e-01   \n50%       0.000000 -8.521244e-02 -8.346011e-02 -4.355556e-01 -4.998533e-01   \n75%       1.000000  5.506613e-01  5.629081e-01  6.730184e-01  5.267384e-01   \nmax       1.000000  8.751987e+00  1.016507e+01  2.446737e+00  2.773336e+00   \n\n               x_10          x_11          x_12         x_13         x_14  \\\ncount  3.212000e+03  3.212000e+03  3.212000e+03  3212.000000  3212.000000   \nmean   1.437898e-17 -3.539441e-17  2.035178e-16     0.168742     0.167497   \nstd    1.000000e+00  1.000000e+00  1.000000e+00     0.374582     0.373477   \nmin   -2.143974e+00 -5.580568e-01 -5.188151e-01     0.000000     0.000000   \n25%   -6.707297e-01 -5.423814e-01 -5.098380e-01     0.000000     0.000000   \n50%   -2.250229e-02 -2.862214e-01 -2.737369e-01     0.000000     0.000000   \n75%    3.458087e-01  1.366588e-01  1.318304e-01     0.000000     0.000000   \nmax    2.113702e+00  2.305284e+01  2.902264e+01     1.000000     1.000000   \n\n               x_15         x_16            t            y            e  \ncount  3.212000e+03  3212.000000  3212.000000  3212.000000  3212.000000  \nmean   1.283047e-16     0.010897     0.092466     0.849938     0.224782  \nstd    1.000000e+00     0.103833     0.289727     0.357188     0.417504  \nmin   -9.799811e-01     0.000000     0.000000     0.000000     0.000000  \n25%   -8.142367e-01     0.000000     0.000000     1.000000     0.000000  \n50%   -2.035020e-01     0.000000     0.000000     1.000000     0.000000  \n75%    4.539777e-01     0.000000     0.000000     1.000000     0.000000  \nmax    7.136030e+00     1.000000     1.000000     1.000000     1.000000  ",
      "text/html": "<div>\n<style scoped>\n    .dataframe tbody tr th:only-of-type {\n        vertical-align: middle;\n    }\n\n    .dataframe tbody tr th {\n        vertical-align: top;\n    }\n\n    .dataframe thead th {\n        text-align: right;\n    }\n</style>\n<table border=\"1\" class=\"dataframe\">\n  <thead>\n    <tr style=\"text-align: right;\">\n      <th></th>\n      <th>x_0</th>\n      <th>x_1</th>\n      <th>x_2</th>\n      <th>x_3</th>\n      <th>x_4</th>\n      <th>x_5</th>\n      <th>x_6</th>\n      <th>x_7</th>\n      <th>x_8</th>\n      <th>x_9</th>\n      <th>x_10</th>\n      <th>x_11</th>\n      <th>x_12</th>\n      <th>x_13</th>\n      <th>x_14</th>\n      <th>x_15</th>\n      <th>x_16</th>\n      <th>t</th>\n      <th>y</th>\n      <th>e</th>\n    </tr>\n  </thead>\n  <tbody>\n    <tr>\n      <th>count</th>\n      <td>3.212000e+03</td>\n      <td>3.212000e+03</td>\n      <td>3212.000000</td>\n      <td>3212.000000</td>\n      <td>3212.000000</td>\n      <td>3212.000000</td>\n      <td>3.212000e+03</td>\n      <td>3.212000e+03</td>\n      <td>3.212000e+03</td>\n      <td>3.212000e+03</td>\n      <td>3.212000e+03</td>\n      <td>3.212000e+03</td>\n      <td>3.212000e+03</td>\n      <td>3212.000000</td>\n      <td>3212.000000</td>\n      <td>3.212000e+03</td>\n      <td>3212.000000</td>\n      <td>3212.000000</td>\n      <td>3212.000000</td>\n      <td>3212.000000</td>\n    </tr>\n    <tr>\n      <th>mean</th>\n      <td>2.013057e-16</td>\n      <td>-1.880328e-16</td>\n      <td>0.374222</td>\n      <td>0.048879</td>\n      <td>0.707970</td>\n      <td>0.411893</td>\n      <td>3.318226e-17</td>\n      <td>-9.069817e-17</td>\n      <td>-1.106075e-17</td>\n      <td>1.763748e-14</td>\n      <td>1.437898e-17</td>\n      <td>-3.539441e-17</td>\n      <td>2.035178e-16</td>\n      <td>0.168742</td>\n      <td>0.167497</td>\n      <td>1.283047e-16</td>\n      <td>0.010897</td>\n      <td>0.092466</td>\n      <td>0.849938</td>\n      <td>0.224782</td>\n    </tr>\n    <tr>\n      <th>std</th>\n      <td>1.000000e+00</td>\n      <td>1.000000e+00</td>\n      <td>0.483997</td>\n      <td>0.215649</td>\n      <td>0.454767</td>\n      <td>0.492253</td>\n      <td>1.000000e+00</td>\n      <td>1.000000e+00</td>\n      <td>1.000000e+00</td>\n      <td>1.000000e+00</td>\n      <td>1.000000e+00</td>\n      <td>1.000000e+00</td>\n      <td>1.000000e+00</td>\n      <td>0.374582</td>\n      <td>0.373477</td>\n      <td>1.000000e+00</td>\n      <td>0.103833</td>\n      <td>0.289727</td>\n      <td>0.357188</td>\n      <td>0.417504</td>\n    </tr>\n    <tr>\n      <th>min</th>\n      <td>-1.461095e+00</td>\n      <td>-3.986840e+00</td>\n      <td>0.000000</td>\n      <td>0.000000</td>\n      <td>0.000000</td>\n      <td>0.000000</td>\n      <td>-1.147411e+00</td>\n      <td>-1.110467e+00</td>\n      <td>-1.164047e+00</td>\n      <td>-9.488316e-01</td>\n      <td>-2.143974e+00</td>\n      <td>-5.580568e-01</td>\n      <td>-5.188151e-01</td>\n      <td>0.000000</td>\n      <td>0.000000</td>\n      <td>-9.799811e-01</td>\n      <td>0.000000</td>\n      <td>0.000000</td>\n      <td>0.000000</td>\n      <td>0.000000</td>\n    </tr>\n    <tr>\n      <th>25%</th>\n      <td>-8.024627e-01</td>\n      <td>-5.796108e-01</td>\n      <td>0.000000</td>\n      <td>0.000000</td>\n      <td>0.000000</td>\n      <td>0.000000</td>\n      <td>-8.923385e-01</td>\n      <td>-9.139141e-01</td>\n      <td>-7.852843e-01</td>\n      <td>-7.434072e-01</td>\n      <td>-6.707297e-01</td>\n      <td>-5.423814e-01</td>\n      <td>-5.098380e-01</td>\n      <td>0.000000</td>\n      <td>0.000000</td>\n      <td>-8.142367e-01</td>\n      <td>0.000000</td>\n      <td>0.000000</td>\n      <td>1.000000</td>\n      <td>0.000000</td>\n    </tr>\n    <tr>\n      <th>50%</th>\n      <td>-3.320111e-01</td>\n      <td>1.018350e-01</td>\n      <td>0.000000</td>\n      <td>0.000000</td>\n      <td>1.000000</td>\n      <td>0.000000</td>\n      <td>-8.521244e-02</td>\n      <td>-8.346011e-02</td>\n      <td>-4.355556e-01</td>\n      <td>-4.998533e-01</td>\n      <td>-2.250229e-02</td>\n      <td>-2.862214e-01</td>\n      <td>-2.737369e-01</td>\n      <td>0.000000</td>\n      <td>0.000000</td>\n      <td>-2.035020e-01</td>\n      <td>0.000000</td>\n      <td>0.000000</td>\n      <td>1.000000</td>\n      <td>0.000000</td>\n    </tr>\n    <tr>\n      <th>75%</th>\n      <td>7.970728e-01</td>\n      <td>4.425579e-01</td>\n      <td>1.000000</td>\n      <td>0.000000</td>\n      <td>1.000000</td>\n      <td>1.000000</td>\n      <td>5.506613e-01</td>\n      <td>5.629081e-01</td>\n      <td>6.730184e-01</td>\n      <td>5.267384e-01</td>\n      <td>3.458087e-01</td>\n      <td>1.366588e-01</td>\n      <td>1.318304e-01</td>\n      <td>0.000000</td>\n      <td>0.000000</td>\n      <td>4.539777e-01</td>\n      <td>0.000000</td>\n      <td>0.000000</td>\n      <td>1.000000</td>\n      <td>0.000000</td>\n    </tr>\n    <tr>\n      <th>max</th>\n      <td>2.114337e+00</td>\n      <td>1.805449e+00</td>\n      <td>1.000000</td>\n      <td>1.000000</td>\n      <td>1.000000</td>\n      <td>1.000000</td>\n      <td>8.751987e+00</td>\n      <td>1.016507e+01</td>\n      <td>2.446737e+00</td>\n      <td>2.773336e+00</td>\n      <td>2.113702e+00</td>\n      <td>2.305284e+01</td>\n      <td>2.902264e+01</td>\n      <td>1.000000</td>\n      <td>1.000000</td>\n      <td>7.136030e+00</td>\n      <td>1.000000</td>\n      <td>1.000000</td>\n      <td>1.000000</td>\n      <td>1.000000</td>\n    </tr>\n  </tbody>\n</table>\n</div>"
     },
     "execution_count": 20,
     "metadata": {},
     "output_type": "execute_result"
    }
   ],
   "source": [
    "print(jobs_df.info())\n",
    "\n",
    "jobs_df.describe()\n"
   ]
  },
  {
   "cell_type": "code",
   "execution_count": 21,
   "outputs": [
    {
     "name": "stdout",
     "output_type": "stream",
     "text": [
      "['x_0', 'x_1', 'x_2', 'x_3', 'x_4', 'x_5', 'x_6', 'x_7', 'x_8', 'x_9', 'x_10', 'x_11', 'x_12', 'x_13', 'x_14', 'x_15', 'x_16']\n",
      "making plots:\n",
      "Todo: 0000000000000000000\n",
      "Done: ✓✓✓✓✓✓✓✓✓✓✓\n"
     ]
    }
   ],
   "source": [
    "jobs_graphs: plt.Figure = viz2(jobs_df,[*jobs_df_x.columns],\"y\",\"t\",\"Jobs\").savefig()\n",
    "\n",
    "jobs_graphs"
   ],
   "metadata": {
    "collapsed": false,
    "pycharm": {
     "name": "#%%\n"
    }
   }
  },
  {
   "cell_type": "code",
   "execution_count": 22,
   "outputs": [],
   "source": [
    "jobs_graphs.savefig(\"jobs_graphs.pdf\", format=\"pdf\", bbox_inches=\"tight\")"
   ],
   "metadata": {
    "collapsed": false,
    "pycharm": {
     "name": "#%%\n"
    }
   }
  },
  {
   "cell_type": "markdown",
   "metadata": {
    "pycharm": {
     "name": "#%% md\n"
    }
   },
   "source": [
    "#### 1.3.3: Discussing the JOBS dataset\n"
   ]
  },
  {
   "cell_type": "code",
   "execution_count": 22,
   "metadata": {
    "pycharm": {
     "name": "#%%\n"
    }
   },
   "outputs": [],
   "source": [
    "\n",
    "\n"
   ]
  }
 ],
 "metadata": {
  "kernelspec": {
   "name": "pycharm-b1666b00",
   "language": "python",
   "display_name": "PyCharm (ce888)"
  },
  "language_info": {
   "codemirror_mode": {
    "name": "ipython",
    "version": 3
   },
   "file_extension": ".py",
   "mimetype": "text/x-python",
   "name": "python",
   "nbconvert_exporter": "python",
   "pygments_lexer": "ipython3",
   "version": "3.9.6"
  }
 },
 "nbformat": 4,
 "nbformat_minor": 1
}