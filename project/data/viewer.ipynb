{
 "cells": [
  {
   "cell_type": "markdown",
   "metadata": {
    "pycharm": {
     "name": "#%% md\n"
    }
   },
   "source": [
    "Requirements to run this:\n",
    "\n",
    "* matplotlib\n",
    "* numpy\n",
    "* pandas\n",
    "* seaborn\n",
    "* patchworklib\n",
    "    * `pip install patchworklib` (makes some bits of seaborn less awkward)\n",
    "    * https://github.com/ponnhide/patchworklib\n"
   ]
  },
  {
   "cell_type": "code",
   "execution_count": 23,
   "metadata": {
    "pycharm": {
     "name": "#%%\n"
    }
   },
   "outputs": [],
   "source": [
    "\n"
   ]
  },
  {
   "cell_type": "code",
   "execution_count": 37,
   "metadata": {
    "pycharm": {
     "name": "#%%\n"
    }
   },
   "outputs": [],
   "source": [
    "\n",
    "\n",
    "\n",
    "import numpy as np\n",
    "import pandas as pd\n",
    "from pandas import DataFrame\n",
    "from typing import Iterable, Union, Dict, List, Tuple, Optional, Any\n",
    "import inspect\n",
    "import doctest\n",
    "\n",
    "import uuid\n",
    "\n",
    "import patchworklib as pw\n",
    "import seaborn as sns\n",
    "import matplotlib.pyplot as plt\n",
    "\n",
    "\n",
    "from collections.abc import Hashable"
   ]
  },
  {
   "cell_type": "code",
   "execution_count": 25,
   "metadata": {
    "pycharm": {
     "name": "#%%\n"
    }
   },
   "outputs": [],
   "source": [
    "%matplotlib inline"
   ]
  },
  {
   "cell_type": "markdown",
   "metadata": {
    "pycharm": {
     "name": "#%% md\n"
    }
   },
   "source": [
    "## Step 1: Loading the data\n",
    "\n",
    "Before I can start analysing the data, I need to actually load it.\n",
    "These functions (below) are intended to make that job a bit easier."
   ]
  },
  {
   "cell_type": "markdown",
   "metadata": {
    "pycharm": {
     "name": "#%% md\n"
    }
   },
   "source": [
    "### 1.1: Some utility functions, to allow me to load the data in a way that makes some sense\n"
   ]
  },
  {
   "cell_type": "code",
   "execution_count": 26,
   "metadata": {
    "pycharm": {
     "name": "#%%\n"
    }
   },
   "outputs": [],
   "source": [
    "def npz_to_dict(\n",
    "        npz_filename: str,\n",
    "        **kwargs\n",
    ") -> Dict[str, np.ndarray]:\n",
    "    \"\"\"\n",
    "    Puts the given NPZ file into a dictionary of {table name, ndarray}.\n",
    "    :param npz_filename: the filename of the NPZ file that we want to put into a dictionary.\n",
    "    :param kwargs: kwargs from https://numpy.org/doc/stable/reference/generated/numpy.load.html#numpy.load.\n",
    "    DO NOT INCLUDE A 'mmap_mode' KWARG!!!\n",
    "    :return: The data from the given npz file in a dictionary.\n",
    "    \"\"\"\n",
    "    data_dict: Dict[str, np.ndarray] = {}\n",
    "    if kwargs is None:\n",
    "        kwargs = {}\n",
    "    with np.load(npz_filename, mmap_mode=\"r\",**kwargs) as npz:\n",
    "        for f in npz.files:\n",
    "            data_dict[f] = npz[f]\n",
    "    return data_dict\n",
    "\n",
    "\n",
    "def turn_01_columns_into_int(\n",
    "        dataframe_to_edit: DataFrame,\n",
    ") -> DataFrame:\n",
    "    \"\"\"\n",
    "    Finds all of the columns that just contain values of 0 and 1,\n",
    "    and converts all of those columns to ints.\n",
    "    MODIFIES THE GIVEN DATAFRAME!\n",
    "    :param dataframe_to_edit: the dataframe that is being edited\n",
    "    :return: The modified dataframe.\n",
    "    DOES NOT COPY THE GIVEN ORIGINAL DATAFRAME.\n",
    "\n",
    "    >>> before: DataFrame = DataFrame.from_dict(data={\"int01\":[0,1,1,0],\"flt01\":[0.0, 1.0, 0.0, 1.0], \"intNo\": [-1,0,1,2], \"fltNo\":[-1.0, 0.0, 1.0, 2.0], \"intNan\": [0,1,None,0], \"fltNan\":[0.0,1.0,None,0.0]})\n",
    "    >>> before_types = before.dtypes.values\n",
    "    >>> after: DataFrame = turn_01_columns_into_int(before.copy())\n",
    "    >>> after_types = after.dtypes.values\n",
    "    >>> print(after_types[0])\n",
    "    uint8\n",
    "    >>> print(after_types[1])\n",
    "    uint8\n",
    "    >>> print(f\"{before_types[2] == after_types[2]} {before_types[3] == after_types[3]} {before_types[4] == after_types[4]} {before_types[5] == after_types[5]}\")\n",
    "    True True True True\n",
    "    \"\"\"\n",
    "    for c in dataframe_to_edit.columns:\n",
    "        if dataframe_to_edit[c].dtype == np.uint8:\n",
    "            continue\n",
    "        if dataframe_to_edit[c].isin([0,1]).all():\n",
    "            dataframe_to_edit[c] = dataframe_to_edit[c].astype(np.uint8)\n",
    "    return dataframe_to_edit\n",
    "\n",
    "if __name__ == \"__main__\":\n",
    "    doctest.run_docstring_examples(turn_01_columns_into_int, globals())\n",
    "\n",
    "def x_to_dataframe(\n",
    "        x_data: np.ndarray,\n",
    "        row_major = True,\n",
    "        x_prefix: str = \"x_\"\n",
    ") -> DataFrame:\n",
    "    \"\"\"\n",
    "    Converts the 'x' ndarray into a pandas dataframe.\n",
    "    :param x_data: the ndarray containing all of the data\n",
    "    :param row_major: is this ndarray held in row-major order? [[item a data], [item b data], ... ]\n",
    "    :param x_prefix: prefix to put on the names of all of the x columns\n",
    "    :return: a dataframe holding the given x data.\n",
    "    \"\"\"\n",
    "    if row_major:\n",
    "        x_data: np.ndarray = x_data.T\n",
    "    x_df: DataFrame = pd.DataFrame.from_dict({f\"{x_prefix}{i}\": x_data[i] for i in range(x_data.shape[0])})\n",
    "\n",
    "    return turn_01_columns_into_int(x_df)\n",
    "\n",
    "\n",
    "\n",
    "def add_everything_but_x_to_copy_of_dataframe(\n",
    "        original_df: DataFrame,\n",
    "        the_data_dict: Dict[str, np.ndarray],\n",
    "        dont_add: Union[str, Iterable[str]]=frozenset('x')\n",
    ") -> DataFrame:\n",
    "    \"\"\"\n",
    "    Adds everything in the npz file apart from the given 'dont_add'\n",
    "    tables to the dataframe.\n",
    "    Assumes that these other tables have the same shape of (whatever, 1).\n",
    "    :param original_df: the original dataframe that shall be copied and have stuff added to it.\n",
    "    :param the_data_dict: The data file with the data to be added to the DataFrame\n",
    "    :param dont_add: the identifier(s) of the columns that must not be added to the DataFrame.\n",
    "    :return: a copy of the original dataframe, with the data from every table BESIDES the 'dont add' tables\n",
    "    from the given file added to it.\n",
    "    \"\"\"\n",
    "\n",
    "    the_df = original_df.copy()\n",
    "    if dont_add in the_data_dict.keys():\n",
    "        dont_add = [dont_add]\n",
    "    for k, v in the_data_dict.items():\n",
    "        if k in dont_add:\n",
    "            continue\n",
    "        the_df[k] = turn_01_columns_into_int(DataFrame(v))\n",
    "    return the_df"
   ]
  },
  {
   "cell_type": "markdown",
   "metadata": {
    "pycharm": {
     "name": "#%% md\n"
    }
   },
   "source": [
    "#### 1.1.2: And some utility functions for producing graphs based on the datasets"
   ]
  },
  {
   "cell_type": "code",
   "execution_count": 42,
   "metadata": {
    "pycharm": {
     "name": "#%%\n"
    }
   },
   "outputs": [],
   "source": [
    "def bin_finder(n: int, default_bins: int) -> int:\n",
    "\n",
    "    if n <= default_bins:\n",
    "        return n\n",
    "\n",
    "    biggest_possible = np.floor(np.sqrt(n)).astype(int)\n",
    "\n",
    "    potentials = np.arange(biggest_possible, stop=0, step=-1)\n",
    "    divisor_indices = np.flatnonzero(n % potentials==0)\n",
    "\n",
    "    print(potentials[divisor_indices])\n",
    "    if divisor_indices.size > 0:\n",
    "        print(f\"{n} -> {n // potentials[divisor_indices[0]]}\")\n",
    "        return min(default_bins, n // potentials[divisor_indices[0]])\n",
    "    return default_bins\n",
    "\n",
    "\n",
    "def squareish_w_h(div_this: int) -> Tuple[int, int]:\n",
    "    \"\"\"\n",
    "    Attempts to make a shape not entirely unlike a square\n",
    "    :param div_this: int to divide\n",
    "    :return: square-ish w/h\n",
    "    \"\"\"\n",
    "    if np.sqrt(div_this) % 1 == 0:\n",
    "        res = np.floor(np.sqrt(div_this))\n",
    "        return res, res\n",
    "    elif div_this & 1 == 0: # odd number\n",
    "        return fallback_w_h(div_this)\n",
    "    else:\n",
    "        # if even, we work out which binary rectangle works best basically\n",
    "        a: int = 1\n",
    "        b: int = div_this\n",
    "        while b > a and b & 1 == 0:\n",
    "            b //= 2\n",
    "            a *= 2\n",
    "        if max(a, b) > min(a, b) * 2:\n",
    "            return fallback_w_h(div_this)\n",
    "        else:\n",
    "            return tuple(*sorted((a, b), reverse=True))\n",
    "\n",
    "def fallback_w_h(div_this: int) -> Tuple[int, int]:\n",
    "    \"\"\"\n",
    "    Attempts to make a shape not entirely unlike a square\n",
    "    :param div_this: int to divide\n",
    "    :return: square-ish w/h\n",
    "    \"\"\"\n",
    "    h = np.floor(np.sqrt(div_this))\n",
    "    # get something relatively close to the square\n",
    "    w = div_this//h\n",
    "\n",
    "    i_w = w < h\n",
    "    if w * h < div_this:\n",
    "        if i_w:\n",
    "            w += 1\n",
    "        else:\n",
    "            h += 1\n",
    "        i_w = not i_w\n",
    "    return w, h\n",
    "\n",
    "def jointplot_maker(df: DataFrame, xlabel: str, ylabel: str, tlabel: str, wh: int = 5, debug: bool = False):\n",
    "\n",
    "    pw.param[\"margin\"] = 0.1\n",
    "\n",
    "    ax_x_label: str = xlabel\n",
    "    if debug:\n",
    "        ax_x_label = f\"{uuid.uuid4()}\"\n",
    "\n",
    "    ax1 = pw.Brick(f\"{ax_x_label}_ax1\",figsize=(wh, wh/4))\n",
    "    sns.histplot(data=df, x=xlabel, hue=tlabel, kde=True, ax=ax1)\n",
    "    ax1.spines[\"top\"].set_visible(False)\n",
    "    ax1.spines[\"right\"].set_visible(False)\n",
    "\n",
    "    ax2 = pw.Brick(f\"{ax_x_label}_ax2\",figsize=(wh/4, wh))\n",
    "    sns.histplot(data=df, y=ylabel, hue=tlabel, kde=True, ax=ax2)\n",
    "    ax2.spines[\"top\"].set_visible(False)\n",
    "    ax2.spines[\"right\"].set_visible(False)\n",
    "\n",
    "    ax3 = pw.Brick(f\"{ax_x_label}_ax3\",figsize=(3*wh/4, 3*wh/4))\n",
    "    #sns.kdeplot(data=df, x=xlabel, y=ylabel, hue=tlabel, ax=ax3, alpha=.5)\n",
    "    sns.scatterplot(data=df, x=xlabel, y=ylabel, hue=tlabel, ax=ax3, alpha=.5)\n",
    "    # TODO: overlay kernel density over scatterplot?\n",
    "\n",
    "    ax1.set_xlim(ax3.get_xlim())\n",
    "    ax1.set_xticks([])\n",
    "    ax1.set_xlabel(\"\")\n",
    "\n",
    "    ax2.set_ylim(ax3.get_ylim())\n",
    "    ax2.set_yticks([])\n",
    "    ax2.set_ylabel(\"\")\n",
    "\n",
    "    ax13 = ax1/ax3\n",
    "    ax132 = ax13[f\"{ax_x_label}_ax3\"]|ax2\n",
    "\n",
    "    ax132.case.set_title(f\"Distribution for {xlabel}\")\n",
    "    return ax132\n",
    "\n",
    "\n",
    "def viz2(df: DataFrame, xlabels: List[Any], ylabel: Any, tlabel: Any, fig_subject: str) -> plt.Figure:\n",
    "    \"\"\"\n",
    "    Produces a series of graphs based on the given data\n",
    "    :param df: the dataframe\n",
    "    :param xlabels: column names for T\n",
    "    :param ylabel: column name for Y\n",
    "    :param tlabel: column name for T\n",
    "    :param fig_subject: words for what the source of the data being shown is\n",
    "    :return: a figure showing the input data as a series of histograms\n",
    "    \"\"\"\n",
    "\n",
    "    y_series: pd.Series = df[ylabel]\n",
    "    t_series: pd.Series = df[tlabel]\n",
    "\n",
    "    Y: np.ndarray = y_series.values\n",
    "    T: np.ndarray = t_series.values\n",
    "\n",
    "    bins: int = bin_finder(Y.size, 20)\n",
    "\n",
    "    if fig_subject is None:\n",
    "        fig_subject = \"\"\n",
    "    else:\n",
    "        fig_subject = f\" {fig_subject}\"\n",
    "\n",
    "    print(xlabels)\n",
    "\n",
    "    x_count: int = len(xlabels)\n",
    "\n",
    "    w, h = squareish_w_h(x_count)\n",
    "\n",
    "    #sns.FacetGrid = sns.FacetGrid(data=df, col=\"\")\n",
    "\n",
    "    #fig: plt.Figure = plt.Figure(\n",
    "    #    figsize=(w*3, h*3)\n",
    "    #)\n",
    "\n",
    "    #axes: Tuple[plt.Axes] = fig.subplots(\n",
    "    #    nrows=h, ncols=w, squeeze=True\n",
    "    #)\n",
    "\n",
    "    figrows = []\n",
    "\n",
    "    current_row = -1\n",
    "\n",
    "    for i in range(x_count):\n",
    "\n",
    "        this_plot = jointplot_maker(\n",
    "            df,\n",
    "            xlabels[i],\n",
    "            ylabel,\n",
    "            tlabel\n",
    "        )\n",
    "\n",
    "\n",
    "\n",
    "        if i % w == 0:\n",
    "            figrows.append(this_plot)\n",
    "            current_row += 1\n",
    "        else:\n",
    "            figrows[current_row] |= this_plot\n",
    "\n",
    "    the_fig = figrows[0]\n",
    "    for i in range(1, len(figrows)):\n",
    "        the_fig /= figrows[i]\n",
    "\n",
    "    the_figure: plt.Figure = figrows.savefig()\n",
    "    the_figure.suptitle(f\"Joint graphs for {fig_subject}\")\n",
    "    return the_figure\n",
    "\n",
    "\n",
    "\n",
    "\n",
    "\n",
    "def visualizer(df: DataFrame, xlabels: List[Any], ylabel: Any, tlabel: Any, fig_subject: str) -> plt.Figure:\n",
    "    \"\"\"\n",
    "    Produces a series of graphs based on the given data\n",
    "    :param df: the dataframe\n",
    "    :param xlabels: column names for T\n",
    "    :param ylabel: column name for Y\n",
    "    :param tlabel: column name for T\n",
    "    :param fig_subject: words for what the source of the data being shown is\n",
    "    :return: a figure showing the input data as a series of histograms\n",
    "    \"\"\"\n",
    "\n",
    "    y_series: pd.Series = df[ylabel]\n",
    "    t_series: pd.Series = df[tlabel]\n",
    "\n",
    "    Y: np.ndarray = y_series.values\n",
    "    T: np.ndarray = t_series.values\n",
    "\n",
    "    bins: int = bin_finder(Y.size, 20)\n",
    "\n",
    "\n",
    "\n",
    "    if fig_subject is None:\n",
    "        fig_subject = \"\"\n",
    "    else:\n",
    "        fig_subject = f\" {fig_subject}\"\n",
    "\n",
    "    print(xlabels)\n",
    "\n",
    "    y_t_str: Tuple[str, str] = (\"Y\", \"T\")\n",
    "    y_t_np: Tuple[np.ndarray, np.ndarray] = (Y, T)\n",
    "    y_t_bins: Tuple[int, int] = (\n",
    "        min(bins,np.unique(Y).shape[0]),\n",
    "        min(bins,np.unique(T).shape[0])\n",
    "    )\n",
    "    \"This will be useful later on.\"\n",
    "\n",
    "    y_treated: np.ndarray = Y[np.argwhere(T==1)]\n",
    "    y_untreated: np.ndarray = Y[np.argwhere(T==0)]\n",
    "\n",
    "    col_count: int = len(xlabels)\n",
    "    fig: plt.Figure = plt.figure(figsize=(24, 1+(4*col_count)))\n",
    "    subfigs: tuple[plt.Figure, ...] = fig.subfigures(nrows=col_count, ncols=1)\n",
    "    for i in range(col_count):\n",
    "\n",
    "        sfig: plt.Figure = subfigs[i]\n",
    "        label: str = xlabels[i]\n",
    "        x_data: np.ndarray = df[label].to_numpy()\n",
    "\n",
    "\n",
    "        this_bins = bin_finder(df[label].nunique(), 20)\n",
    "\n",
    "        sfig.suptitle(f\"Data for {label}\")\n",
    "        sfigs: tuple[plt.Figure, plt.Figure] = sfig.subfigures(nrows=1,ncols=3,width_ratios=[1,1,3])\n",
    "\n",
    "        hist1: plt.Figure = sfigs[0]\n",
    "        hist1.suptitle(f\"{label} quantities\")\n",
    "        hist_x_plt: plt.Axes = hist1.add_subplot()\n",
    "        sns.histplot(data = x_data, stat=\"frequency\", bins = this_bins, kde=True, ax=hist_x_plt)\n",
    "        hist_x_plt.set_xlabel(f\"{label}\")\n",
    "        hist_x_plt.set_ylabel(\"quantity\")\n",
    "\n",
    "        hist2: plt.Figure = sfigs[1]\n",
    "\n",
    "        hist2_plt: plt.Axes = hist2.add_subplot()\n",
    "        sns.kdeplot(\n",
    "                data=df[[label, ylabel, tlabel]], x=label,y=ylabel,\n",
    "                ax=hist2_plt, legend=True, hue=tlabel, fill=True,\n",
    "                alpha=.5, #kind=\"kde\"\n",
    "        )\n",
    "        hist2_plt.set_title(f\"{label} and Y for treatment/control\")\n",
    "        hist2_plt.set_xlabel(f\"{label}\")\n",
    "        hist2_plt.set_ylabel(f\"outcome given {label}\")\n",
    "\n",
    "        scatters: plt.Figure = sfigs[2]\n",
    "\n",
    "        x_treated: np.ndarray = x_data[np.argwhere(T==1)]\n",
    "        x_untreated: np.ndarray = x_data[np.argwhere(T==0)]\n",
    "\n",
    "        #hists.suptitle(f\"More histograms for {label}\")\n",
    "        #hist_axes: Tuple[plt.Axes, plt.Axes, plt.Axes] = hists.subplots(nrows=1, ncols=2, sharex=\"all\")\n",
    "\n",
    "\n",
    "        scatters.suptitle(f\"Scatter graphs for {label}\")\n",
    "        ax0, ax1, ax2 = scatters.subplots(nrows=1, ncols=3, sharex=\"all\",sharey=\"all\")\n",
    "        ax0.set_xlabel(f\"{label}\")\n",
    "        ax0.set_ylabel(f\"Outcome from {label}\")\n",
    "        ax0.set_title(\"both\")\n",
    "        ax1.set_title(\"treated only\")\n",
    "        ax2.set_title(\"control only\")\n",
    "        ax0.scatter(x_treated, y_treated, c = \"g\", label = \"Treated\")\n",
    "        ax1.scatter(x_treated, y_treated, c = \"g\")\n",
    "        ax0.scatter(x_untreated, y_untreated, c = \"r\", label = \"Control\")\n",
    "        ax2.scatter(x_untreated, y_untreated, c = \"r\")\n",
    "        ax0.legend()\n",
    "\n",
    "    fig.suptitle(f\"X, Y, T visualizations all dimensions of X in{fig_subject}\")\n",
    "    return fig\n",
    "\n",
    "\n",
    "\n",
    "\n"
   ]
  },
  {
   "cell_type": "markdown",
   "metadata": {
    "pycharm": {
     "name": "#%% md\n"
    }
   },
   "source": [
    "### 1.2: Loading the IHPD dataset\n",
    "\n",
    "Firstly, I need to load the dataset, and see what data is present."
   ]
  },
  {
   "cell_type": "code",
   "execution_count": 28,
   "metadata": {
    "pycharm": {
     "name": "#%%\n"
    }
   },
   "outputs": [
    {
     "name": "stdout",
     "output_type": "stream",
     "text": [
      "x: (747, 25)\n",
      "t: (747, 1)\n",
      "yf: (747, 1)\n",
      "ycf: (747, 1)\n",
      "ite: (747, 1)\n"
     ]
    }
   ],
   "source": [
    "ihdp_dict: Dict[str, np.ndarray] = npz_to_dict(\"ihdp.npz\", allow_pickle = False)\n",
    "\n",
    "\n",
    "for k,v in ihdp_dict.items():\n",
    "    print(f\"{k}: {v.shape}\")"
   ]
  },
  {
   "cell_type": "markdown",
   "metadata": {
    "pycharm": {
     "name": "#%% md\n"
    }
   },
   "source": [
    "#### 1.2.1: Extracting the 'x' column, and moving it to a dataframe\n",
    "\n",
    "It looks like the 'x' data is a table of 747 rows and 25 columns.\n",
    "This, by itself, is a bit difficult to digest, so I shall move that\n",
    "into a dataframe, making it a bit easier to analyse (for now at least).\n",
    "\n",
    "The following two code cells are just outputting an overview of the 'x'\n",
    "data."
   ]
  },
  {
   "cell_type": "code",
   "execution_count": 29,
   "metadata": {
    "pycharm": {
     "name": "#%%\n"
    }
   },
   "outputs": [
    {
     "data": {
      "text/plain": "        x_0       x_1       x_2       x_3       x_4       x_5  x_6  x_7  x_8  \\\n0  1.397395  0.996346 -1.105624 -0.879606  0.308569 -1.023402    1    0    0   \n1  0.269033  0.196818  0.383828  0.161703 -0.629189  1.460832    1    0    1   \n2  1.051537  1.795874 -1.105624  0.161703 -0.629189  0.963985    1    0    1   \n3  0.662446  0.196818 -0.733261 -0.879606  0.371086 -0.692171    1    0    0   \n4  0.856992  1.795874  0.011465 -0.879606  0.558638  0.301522    0    1    1   \n\n   x_9  ...  x_15  x_16  x_17  x_18  x_19  x_20  x_21  x_22  x_23  x_24  \n0    0  ...     0     1     1     0     0     0     0     0     0     1  \n1    0  ...     1     1     1     1     0     0     0     0     0     0  \n2    1  ...     1     1     1     0     0     0     0     0     0     1  \n3    0  ...     1     0     1     0     1     0     0     0     0     0  \n4    0  ...     1     0     1     1     0     0     0     0     0     0  \n\n[5 rows x 25 columns]",
      "text/html": "<div>\n<style scoped>\n    .dataframe tbody tr th:only-of-type {\n        vertical-align: middle;\n    }\n\n    .dataframe tbody tr th {\n        vertical-align: top;\n    }\n\n    .dataframe thead th {\n        text-align: right;\n    }\n</style>\n<table border=\"1\" class=\"dataframe\">\n  <thead>\n    <tr style=\"text-align: right;\">\n      <th></th>\n      <th>x_0</th>\n      <th>x_1</th>\n      <th>x_2</th>\n      <th>x_3</th>\n      <th>x_4</th>\n      <th>x_5</th>\n      <th>x_6</th>\n      <th>x_7</th>\n      <th>x_8</th>\n      <th>x_9</th>\n      <th>...</th>\n      <th>x_15</th>\n      <th>x_16</th>\n      <th>x_17</th>\n      <th>x_18</th>\n      <th>x_19</th>\n      <th>x_20</th>\n      <th>x_21</th>\n      <th>x_22</th>\n      <th>x_23</th>\n      <th>x_24</th>\n    </tr>\n  </thead>\n  <tbody>\n    <tr>\n      <th>0</th>\n      <td>1.397395</td>\n      <td>0.996346</td>\n      <td>-1.105624</td>\n      <td>-0.879606</td>\n      <td>0.308569</td>\n      <td>-1.023402</td>\n      <td>1</td>\n      <td>0</td>\n      <td>0</td>\n      <td>0</td>\n      <td>...</td>\n      <td>0</td>\n      <td>1</td>\n      <td>1</td>\n      <td>0</td>\n      <td>0</td>\n      <td>0</td>\n      <td>0</td>\n      <td>0</td>\n      <td>0</td>\n      <td>1</td>\n    </tr>\n    <tr>\n      <th>1</th>\n      <td>0.269033</td>\n      <td>0.196818</td>\n      <td>0.383828</td>\n      <td>0.161703</td>\n      <td>-0.629189</td>\n      <td>1.460832</td>\n      <td>1</td>\n      <td>0</td>\n      <td>1</td>\n      <td>0</td>\n      <td>...</td>\n      <td>1</td>\n      <td>1</td>\n      <td>1</td>\n      <td>1</td>\n      <td>0</td>\n      <td>0</td>\n      <td>0</td>\n      <td>0</td>\n      <td>0</td>\n      <td>0</td>\n    </tr>\n    <tr>\n      <th>2</th>\n      <td>1.051537</td>\n      <td>1.795874</td>\n      <td>-1.105624</td>\n      <td>0.161703</td>\n      <td>-0.629189</td>\n      <td>0.963985</td>\n      <td>1</td>\n      <td>0</td>\n      <td>1</td>\n      <td>1</td>\n      <td>...</td>\n      <td>1</td>\n      <td>1</td>\n      <td>1</td>\n      <td>0</td>\n      <td>0</td>\n      <td>0</td>\n      <td>0</td>\n      <td>0</td>\n      <td>0</td>\n      <td>1</td>\n    </tr>\n    <tr>\n      <th>3</th>\n      <td>0.662446</td>\n      <td>0.196818</td>\n      <td>-0.733261</td>\n      <td>-0.879606</td>\n      <td>0.371086</td>\n      <td>-0.692171</td>\n      <td>1</td>\n      <td>0</td>\n      <td>0</td>\n      <td>0</td>\n      <td>...</td>\n      <td>1</td>\n      <td>0</td>\n      <td>1</td>\n      <td>0</td>\n      <td>1</td>\n      <td>0</td>\n      <td>0</td>\n      <td>0</td>\n      <td>0</td>\n      <td>0</td>\n    </tr>\n    <tr>\n      <th>4</th>\n      <td>0.856992</td>\n      <td>1.795874</td>\n      <td>0.011465</td>\n      <td>-0.879606</td>\n      <td>0.558638</td>\n      <td>0.301522</td>\n      <td>0</td>\n      <td>1</td>\n      <td>1</td>\n      <td>0</td>\n      <td>...</td>\n      <td>1</td>\n      <td>0</td>\n      <td>1</td>\n      <td>1</td>\n      <td>0</td>\n      <td>0</td>\n      <td>0</td>\n      <td>0</td>\n      <td>0</td>\n      <td>0</td>\n    </tr>\n  </tbody>\n</table>\n<p>5 rows × 25 columns</p>\n</div>"
     },
     "execution_count": 29,
     "metadata": {},
     "output_type": "execute_result"
    }
   ],
   "source": [
    "ihdp_df_x: DataFrame = x_to_dataframe(ihdp_dict['x'])\n",
    "\"\"\"Dataframe holding the 'x' data for the IHDP dataset\"\"\"\n",
    "\n",
    "ihdp_df_x.head()"
   ]
  },
  {
   "cell_type": "code",
   "execution_count": 30,
   "metadata": {
    "pycharm": {
     "name": "#%%\n"
    }
   },
   "outputs": [
    {
     "name": "stdout",
     "output_type": "stream",
     "text": [
      "<class 'pandas.core.frame.DataFrame'>\n",
      "RangeIndex: 747 entries, 0 to 746\n",
      "Data columns (total 25 columns):\n",
      " #   Column  Non-Null Count  Dtype  \n",
      "---  ------  --------------  -----  \n",
      " 0   x_0     747 non-null    float64\n",
      " 1   x_1     747 non-null    float64\n",
      " 2   x_2     747 non-null    float64\n",
      " 3   x_3     747 non-null    float64\n",
      " 4   x_4     747 non-null    float64\n",
      " 5   x_5     747 non-null    float64\n",
      " 6   x_6     747 non-null    uint8  \n",
      " 7   x_7     747 non-null    uint8  \n",
      " 8   x_8     747 non-null    uint8  \n",
      " 9   x_9     747 non-null    uint8  \n",
      " 10  x_10    747 non-null    uint8  \n",
      " 11  x_11    747 non-null    uint8  \n",
      " 12  x_12    747 non-null    uint8  \n",
      " 13  x_13    747 non-null    uint8  \n",
      " 14  x_14    747 non-null    uint8  \n",
      " 15  x_15    747 non-null    uint8  \n",
      " 16  x_16    747 non-null    uint8  \n",
      " 17  x_17    747 non-null    uint8  \n",
      " 18  x_18    747 non-null    uint8  \n",
      " 19  x_19    747 non-null    uint8  \n",
      " 20  x_20    747 non-null    uint8  \n",
      " 21  x_21    747 non-null    uint8  \n",
      " 22  x_22    747 non-null    uint8  \n",
      " 23  x_23    747 non-null    uint8  \n",
      " 24  x_24    747 non-null    uint8  \n",
      "dtypes: float64(6), uint8(19)\n",
      "memory usage: 49.0 KB\n",
      "None\n"
     ]
    },
    {
     "data": {
      "text/plain": "                x_0           x_1           x_2           x_3           x_4  \\\ncount  7.470000e+02  7.470000e+02  7.470000e+02  7.470000e+02  7.470000e+02   \nmean   3.448082e-17  4.755975e-18 -2.377988e-17 -5.612051e-16  4.042579e-17   \nstd    1.000000e+00  1.000000e+00  1.000000e+00  1.000000e+00  1.000000e+00   \nmin   -2.731287e+00 -3.800823e+00 -1.850350e+00 -8.796060e-01 -5.130428e+00   \n25%   -6.669461e-01 -6.027100e-01 -7.332610e-01 -8.796060e-01 -5.666720e-01   \n50%    1.652752e-01  1.968181e-01 -3.608980e-01  1.617025e-01  1.210172e-01   \n75%    8.137593e-01  5.965822e-01  7.561910e-01  1.617025e-01  6.836721e-01   \nmax    1.505476e+00  2.595403e+00  2.990369e+00  2.244320e+00  2.371637e+00   \n\n                x_5         x_6         x_7         x_8         x_9  ...  \\\ncount  7.470000e+02  747.000000  747.000000  747.000000  747.000000  ...   \nmean  -7.633341e-16    0.514056    0.093708    0.520750    0.364123  ...   \nstd    1.000000e+00    0.500137    0.291618    0.499904    0.481506  ...   \nmin   -1.851480e+00    0.000000    0.000000    0.000000    0.000000  ...   \n25%   -8.577868e-01    0.000000    0.000000    0.000000    0.000000  ...   \n50%   -2.970882e-02    1.000000    0.000000    1.000000    0.000000  ...   \n75%    6.327536e-01    1.000000    0.000000    1.000000    1.000000  ...   \nmax    2.951372e+00    1.000000    1.000000    1.000000    1.000000  ...   \n\n             x_15        x_16        x_17        x_18        x_19        x_20  \\\ncount  747.000000  747.000000  747.000000  747.000000  747.000000  747.000000   \nmean     0.959839    0.594378    0.963855    0.135207    0.135207    0.156627   \nstd      0.196467    0.491341    0.186775    0.342174    0.342174    0.363692   \nmin      0.000000    0.000000    0.000000    0.000000    0.000000    0.000000   \n25%      1.000000    0.000000    1.000000    0.000000    0.000000    0.000000   \n50%      1.000000    1.000000    1.000000    0.000000    0.000000    0.000000   \n75%      1.000000    1.000000    1.000000    0.000000    0.000000    0.000000   \nmax      1.000000    1.000000    1.000000    1.000000    1.000000    1.000000   \n\n             x_21        x_22        x_23        x_24  \ncount  747.000000  747.000000  747.000000  747.000000  \nmean     0.081660    0.073628    0.128514    0.157965  \nstd      0.274029    0.261339    0.334886    0.364953  \nmin      0.000000    0.000000    0.000000    0.000000  \n25%      0.000000    0.000000    0.000000    0.000000  \n50%      0.000000    0.000000    0.000000    0.000000  \n75%      0.000000    0.000000    0.000000    0.000000  \nmax      1.000000    1.000000    1.000000    1.000000  \n\n[8 rows x 25 columns]",
      "text/html": "<div>\n<style scoped>\n    .dataframe tbody tr th:only-of-type {\n        vertical-align: middle;\n    }\n\n    .dataframe tbody tr th {\n        vertical-align: top;\n    }\n\n    .dataframe thead th {\n        text-align: right;\n    }\n</style>\n<table border=\"1\" class=\"dataframe\">\n  <thead>\n    <tr style=\"text-align: right;\">\n      <th></th>\n      <th>x_0</th>\n      <th>x_1</th>\n      <th>x_2</th>\n      <th>x_3</th>\n      <th>x_4</th>\n      <th>x_5</th>\n      <th>x_6</th>\n      <th>x_7</th>\n      <th>x_8</th>\n      <th>x_9</th>\n      <th>...</th>\n      <th>x_15</th>\n      <th>x_16</th>\n      <th>x_17</th>\n      <th>x_18</th>\n      <th>x_19</th>\n      <th>x_20</th>\n      <th>x_21</th>\n      <th>x_22</th>\n      <th>x_23</th>\n      <th>x_24</th>\n    </tr>\n  </thead>\n  <tbody>\n    <tr>\n      <th>count</th>\n      <td>7.470000e+02</td>\n      <td>7.470000e+02</td>\n      <td>7.470000e+02</td>\n      <td>7.470000e+02</td>\n      <td>7.470000e+02</td>\n      <td>7.470000e+02</td>\n      <td>747.000000</td>\n      <td>747.000000</td>\n      <td>747.000000</td>\n      <td>747.000000</td>\n      <td>...</td>\n      <td>747.000000</td>\n      <td>747.000000</td>\n      <td>747.000000</td>\n      <td>747.000000</td>\n      <td>747.000000</td>\n      <td>747.000000</td>\n      <td>747.000000</td>\n      <td>747.000000</td>\n      <td>747.000000</td>\n      <td>747.000000</td>\n    </tr>\n    <tr>\n      <th>mean</th>\n      <td>3.448082e-17</td>\n      <td>4.755975e-18</td>\n      <td>-2.377988e-17</td>\n      <td>-5.612051e-16</td>\n      <td>4.042579e-17</td>\n      <td>-7.633341e-16</td>\n      <td>0.514056</td>\n      <td>0.093708</td>\n      <td>0.520750</td>\n      <td>0.364123</td>\n      <td>...</td>\n      <td>0.959839</td>\n      <td>0.594378</td>\n      <td>0.963855</td>\n      <td>0.135207</td>\n      <td>0.135207</td>\n      <td>0.156627</td>\n      <td>0.081660</td>\n      <td>0.073628</td>\n      <td>0.128514</td>\n      <td>0.157965</td>\n    </tr>\n    <tr>\n      <th>std</th>\n      <td>1.000000e+00</td>\n      <td>1.000000e+00</td>\n      <td>1.000000e+00</td>\n      <td>1.000000e+00</td>\n      <td>1.000000e+00</td>\n      <td>1.000000e+00</td>\n      <td>0.500137</td>\n      <td>0.291618</td>\n      <td>0.499904</td>\n      <td>0.481506</td>\n      <td>...</td>\n      <td>0.196467</td>\n      <td>0.491341</td>\n      <td>0.186775</td>\n      <td>0.342174</td>\n      <td>0.342174</td>\n      <td>0.363692</td>\n      <td>0.274029</td>\n      <td>0.261339</td>\n      <td>0.334886</td>\n      <td>0.364953</td>\n    </tr>\n    <tr>\n      <th>min</th>\n      <td>-2.731287e+00</td>\n      <td>-3.800823e+00</td>\n      <td>-1.850350e+00</td>\n      <td>-8.796060e-01</td>\n      <td>-5.130428e+00</td>\n      <td>-1.851480e+00</td>\n      <td>0.000000</td>\n      <td>0.000000</td>\n      <td>0.000000</td>\n      <td>0.000000</td>\n      <td>...</td>\n      <td>0.000000</td>\n      <td>0.000000</td>\n      <td>0.000000</td>\n      <td>0.000000</td>\n      <td>0.000000</td>\n      <td>0.000000</td>\n      <td>0.000000</td>\n      <td>0.000000</td>\n      <td>0.000000</td>\n      <td>0.000000</td>\n    </tr>\n    <tr>\n      <th>25%</th>\n      <td>-6.669461e-01</td>\n      <td>-6.027100e-01</td>\n      <td>-7.332610e-01</td>\n      <td>-8.796060e-01</td>\n      <td>-5.666720e-01</td>\n      <td>-8.577868e-01</td>\n      <td>0.000000</td>\n      <td>0.000000</td>\n      <td>0.000000</td>\n      <td>0.000000</td>\n      <td>...</td>\n      <td>1.000000</td>\n      <td>0.000000</td>\n      <td>1.000000</td>\n      <td>0.000000</td>\n      <td>0.000000</td>\n      <td>0.000000</td>\n      <td>0.000000</td>\n      <td>0.000000</td>\n      <td>0.000000</td>\n      <td>0.000000</td>\n    </tr>\n    <tr>\n      <th>50%</th>\n      <td>1.652752e-01</td>\n      <td>1.968181e-01</td>\n      <td>-3.608980e-01</td>\n      <td>1.617025e-01</td>\n      <td>1.210172e-01</td>\n      <td>-2.970882e-02</td>\n      <td>1.000000</td>\n      <td>0.000000</td>\n      <td>1.000000</td>\n      <td>0.000000</td>\n      <td>...</td>\n      <td>1.000000</td>\n      <td>1.000000</td>\n      <td>1.000000</td>\n      <td>0.000000</td>\n      <td>0.000000</td>\n      <td>0.000000</td>\n      <td>0.000000</td>\n      <td>0.000000</td>\n      <td>0.000000</td>\n      <td>0.000000</td>\n    </tr>\n    <tr>\n      <th>75%</th>\n      <td>8.137593e-01</td>\n      <td>5.965822e-01</td>\n      <td>7.561910e-01</td>\n      <td>1.617025e-01</td>\n      <td>6.836721e-01</td>\n      <td>6.327536e-01</td>\n      <td>1.000000</td>\n      <td>0.000000</td>\n      <td>1.000000</td>\n      <td>1.000000</td>\n      <td>...</td>\n      <td>1.000000</td>\n      <td>1.000000</td>\n      <td>1.000000</td>\n      <td>0.000000</td>\n      <td>0.000000</td>\n      <td>0.000000</td>\n      <td>0.000000</td>\n      <td>0.000000</td>\n      <td>0.000000</td>\n      <td>0.000000</td>\n    </tr>\n    <tr>\n      <th>max</th>\n      <td>1.505476e+00</td>\n      <td>2.595403e+00</td>\n      <td>2.990369e+00</td>\n      <td>2.244320e+00</td>\n      <td>2.371637e+00</td>\n      <td>2.951372e+00</td>\n      <td>1.000000</td>\n      <td>1.000000</td>\n      <td>1.000000</td>\n      <td>1.000000</td>\n      <td>...</td>\n      <td>1.000000</td>\n      <td>1.000000</td>\n      <td>1.000000</td>\n      <td>1.000000</td>\n      <td>1.000000</td>\n      <td>1.000000</td>\n      <td>1.000000</td>\n      <td>1.000000</td>\n      <td>1.000000</td>\n      <td>1.000000</td>\n    </tr>\n  </tbody>\n</table>\n<p>8 rows × 25 columns</p>\n</div>"
     },
     "execution_count": 30,
     "metadata": {},
     "output_type": "execute_result"
    }
   ],
   "source": [
    "print(ihdp_df_x.info())\n",
    "\n",
    "\n",
    "\n",
    "ihdp_df_x.describe()\n"
   ]
  },
  {
   "cell_type": "code",
   "execution_count": 31,
   "metadata": {
    "pycharm": {
     "name": "#%%\n"
    }
   },
   "outputs": [
    {
     "name": "stdout",
     "output_type": "stream",
     "text": [
      "x_0     214\n",
      "x_1      46\n",
      "x_2      14\n",
      "x_3       4\n",
      "x_4      87\n",
      "x_5      30\n",
      "x_6       2\n",
      "x_7       2\n",
      "x_8       2\n",
      "x_9       2\n",
      "x_10      2\n",
      "x_11      2\n",
      "x_12      2\n",
      "x_13      2\n",
      "x_14      2\n",
      "x_15      2\n",
      "x_16      2\n",
      "x_17      2\n",
      "x_18      2\n",
      "x_19      2\n",
      "x_20      2\n",
      "x_21      2\n",
      "x_22      2\n",
      "x_23      2\n",
      "x_24      2\n",
      "dtype: int64\n",
      "\n",
      "The actual value counts for x_3\n",
      "-0.879606    346\n",
      " 0.161703    236\n",
      " 1.203011    100\n",
      " 2.244320     65\n",
      "Name: x_3, dtype: int64\n"
     ]
    }
   ],
   "source": [
    "print(ihdp_df_x.nunique())\n",
    "\n",
    "print(\"\\nThe actual value counts for x_3\")\n",
    "print(ihdp_df_x[\"x_3\"].value_counts())"
   ]
  },
  {
   "cell_type": "markdown",
   "metadata": {
    "pycharm": {
     "name": "#%% md\n"
    }
   },
   "source": [
    "Looking at `x_3`, and how all of the values in it are one of four distinct values,\n",
    " all of which are painfully close to being int values, I **really** want to just\n",
    " convert them into raw ints, which would be rather trivial to do,\n",
    " as follows (converting -0.879606 to 0, 0.161703 to 1, 1.203011 to 2,  2.244320 to 3, etc):\n",
    "\n",
    "```python\n",
    "import pandas as pd\n",
    "import numpy as np\n",
    "def x3_to_int(df: pd.DataFrame) -> pd.DataFrame:\n",
    "    x3 = df[\"x_3\"]\n",
    "    x3_vals = [*x3.value_counts().keys()]\n",
    "    x3_vals.sort()\n",
    "    x3_diff = x3_vals[2] - x3_vals[1]\n",
    "    x3 += x3_diff\n",
    "    x3 /= x3_diff\n",
    "    df[\"x_3\"] = x3.astype(np.int8)\n",
    "    return df\n",
    "```\n",
    "\n",
    "However, I will refrain from doing this. This is because I don't actually know what\n",
    "the data in `x_3` is supposed to be. If I knew, with certainty, that `x_3`\n",
    "would only ever be one of those for values (or, failing that, would always\n",
    "be a value from a continuous range of values with a consistent\n",
    "gap of `1.041308` between each value), I would be applying that bit of\n",
    "scaling to `x_3`. But, as mentioned earlier, I don't. So I can't. Which is a shame.\n",
    "\n"
   ]
  },
  {
   "cell_type": "markdown",
   "metadata": {
    "pycharm": {
     "name": "#%% md\n"
    }
   },
   "source": [
    "#### 1.2.2: Extracting the rest of the IHDP dataset, before adding it to a dataframe\n",
    "\n",
    "I shall copy the X data into a new dataframe (ensuring that I retain a backup copy of the dataframe holding\n",
    "just the X data), and add the rest of the IHDP data to that new dataframe,\n",
    "meaning that I'll be able to get a full overview of IHDP.\n"
   ]
  },
  {
   "cell_type": "code",
   "execution_count": 32,
   "metadata": {
    "pycharm": {
     "name": "#%%\n"
    }
   },
   "outputs": [
    {
     "data": {
      "text/plain": "        x_0       x_1       x_2       x_3       x_4       x_5  x_6  x_7  x_8  \\\n0  1.397395  0.996346 -1.105624 -0.879606  0.308569 -1.023402    1    0    0   \n1  0.269033  0.196818  0.383828  0.161703 -0.629189  1.460832    1    0    1   \n2  1.051537  1.795874 -1.105624  0.161703 -0.629189  0.963985    1    0    1   \n3  0.662446  0.196818 -0.733261 -0.879606  0.371086 -0.692171    1    0    0   \n4  0.856992  1.795874  0.011465 -0.879606  0.558638  0.301522    0    1    1   \n\n   x_9  ...  x_19  x_20  x_21  x_22  x_23  x_24  t        yf       ycf  \\\n0    0  ...     0     0     0     0     0     1  1  4.771232 -0.298509   \n1    0  ...     0     0     0     0     0     0  0  2.956273  5.783770   \n2    1  ...     0     0     0     0     0     1  0  4.164164  7.055789   \n3    0  ...     1     0     0     0     0     0  1  6.172307  1.379697   \n4    0  ...     0     0     0     0     0     0  1  7.834469  2.747986   \n\n        ite  \n0  4.657928  \n1  3.428604  \n2  3.658195  \n3  4.585505  \n4  4.265591  \n\n[5 rows x 29 columns]",
      "text/html": "<div>\n<style scoped>\n    .dataframe tbody tr th:only-of-type {\n        vertical-align: middle;\n    }\n\n    .dataframe tbody tr th {\n        vertical-align: top;\n    }\n\n    .dataframe thead th {\n        text-align: right;\n    }\n</style>\n<table border=\"1\" class=\"dataframe\">\n  <thead>\n    <tr style=\"text-align: right;\">\n      <th></th>\n      <th>x_0</th>\n      <th>x_1</th>\n      <th>x_2</th>\n      <th>x_3</th>\n      <th>x_4</th>\n      <th>x_5</th>\n      <th>x_6</th>\n      <th>x_7</th>\n      <th>x_8</th>\n      <th>x_9</th>\n      <th>...</th>\n      <th>x_19</th>\n      <th>x_20</th>\n      <th>x_21</th>\n      <th>x_22</th>\n      <th>x_23</th>\n      <th>x_24</th>\n      <th>t</th>\n      <th>yf</th>\n      <th>ycf</th>\n      <th>ite</th>\n    </tr>\n  </thead>\n  <tbody>\n    <tr>\n      <th>0</th>\n      <td>1.397395</td>\n      <td>0.996346</td>\n      <td>-1.105624</td>\n      <td>-0.879606</td>\n      <td>0.308569</td>\n      <td>-1.023402</td>\n      <td>1</td>\n      <td>0</td>\n      <td>0</td>\n      <td>0</td>\n      <td>...</td>\n      <td>0</td>\n      <td>0</td>\n      <td>0</td>\n      <td>0</td>\n      <td>0</td>\n      <td>1</td>\n      <td>1</td>\n      <td>4.771232</td>\n      <td>-0.298509</td>\n      <td>4.657928</td>\n    </tr>\n    <tr>\n      <th>1</th>\n      <td>0.269033</td>\n      <td>0.196818</td>\n      <td>0.383828</td>\n      <td>0.161703</td>\n      <td>-0.629189</td>\n      <td>1.460832</td>\n      <td>1</td>\n      <td>0</td>\n      <td>1</td>\n      <td>0</td>\n      <td>...</td>\n      <td>0</td>\n      <td>0</td>\n      <td>0</td>\n      <td>0</td>\n      <td>0</td>\n      <td>0</td>\n      <td>0</td>\n      <td>2.956273</td>\n      <td>5.783770</td>\n      <td>3.428604</td>\n    </tr>\n    <tr>\n      <th>2</th>\n      <td>1.051537</td>\n      <td>1.795874</td>\n      <td>-1.105624</td>\n      <td>0.161703</td>\n      <td>-0.629189</td>\n      <td>0.963985</td>\n      <td>1</td>\n      <td>0</td>\n      <td>1</td>\n      <td>1</td>\n      <td>...</td>\n      <td>0</td>\n      <td>0</td>\n      <td>0</td>\n      <td>0</td>\n      <td>0</td>\n      <td>1</td>\n      <td>0</td>\n      <td>4.164164</td>\n      <td>7.055789</td>\n      <td>3.658195</td>\n    </tr>\n    <tr>\n      <th>3</th>\n      <td>0.662446</td>\n      <td>0.196818</td>\n      <td>-0.733261</td>\n      <td>-0.879606</td>\n      <td>0.371086</td>\n      <td>-0.692171</td>\n      <td>1</td>\n      <td>0</td>\n      <td>0</td>\n      <td>0</td>\n      <td>...</td>\n      <td>1</td>\n      <td>0</td>\n      <td>0</td>\n      <td>0</td>\n      <td>0</td>\n      <td>0</td>\n      <td>1</td>\n      <td>6.172307</td>\n      <td>1.379697</td>\n      <td>4.585505</td>\n    </tr>\n    <tr>\n      <th>4</th>\n      <td>0.856992</td>\n      <td>1.795874</td>\n      <td>0.011465</td>\n      <td>-0.879606</td>\n      <td>0.558638</td>\n      <td>0.301522</td>\n      <td>0</td>\n      <td>1</td>\n      <td>1</td>\n      <td>0</td>\n      <td>...</td>\n      <td>0</td>\n      <td>0</td>\n      <td>0</td>\n      <td>0</td>\n      <td>0</td>\n      <td>0</td>\n      <td>1</td>\n      <td>7.834469</td>\n      <td>2.747986</td>\n      <td>4.265591</td>\n    </tr>\n  </tbody>\n</table>\n<p>5 rows × 29 columns</p>\n</div>"
     },
     "execution_count": 32,
     "metadata": {},
     "output_type": "execute_result"
    }
   ],
   "source": [
    "ihdp_df: DataFrame = add_everything_but_x_to_copy_of_dataframe(\n",
    "    ihdp_df_x.copy(),\n",
    "    ihdp_dict,\n",
    "    \"x\"\n",
    ")\n",
    "\"\"\"Dataframe holding the entirety of the IHDP dataset\"\"\"\n",
    "\n",
    "ihdp_df.head()\n"
   ]
  },
  {
   "cell_type": "code",
   "execution_count": 33,
   "metadata": {
    "pycharm": {
     "name": "#%%\n"
    }
   },
   "outputs": [
    {
     "name": "stdout",
     "output_type": "stream",
     "text": [
      "info about the full dataset\n",
      "<class 'pandas.core.frame.DataFrame'>\n",
      "RangeIndex: 747 entries, 0 to 746\n",
      "Data columns (total 29 columns):\n",
      " #   Column  Non-Null Count  Dtype  \n",
      "---  ------  --------------  -----  \n",
      " 0   x_0     747 non-null    float64\n",
      " 1   x_1     747 non-null    float64\n",
      " 2   x_2     747 non-null    float64\n",
      " 3   x_3     747 non-null    float64\n",
      " 4   x_4     747 non-null    float64\n",
      " 5   x_5     747 non-null    float64\n",
      " 6   x_6     747 non-null    uint8  \n",
      " 7   x_7     747 non-null    uint8  \n",
      " 8   x_8     747 non-null    uint8  \n",
      " 9   x_9     747 non-null    uint8  \n",
      " 10  x_10    747 non-null    uint8  \n",
      " 11  x_11    747 non-null    uint8  \n",
      " 12  x_12    747 non-null    uint8  \n",
      " 13  x_13    747 non-null    uint8  \n",
      " 14  x_14    747 non-null    uint8  \n",
      " 15  x_15    747 non-null    uint8  \n",
      " 16  x_16    747 non-null    uint8  \n",
      " 17  x_17    747 non-null    uint8  \n",
      " 18  x_18    747 non-null    uint8  \n",
      " 19  x_19    747 non-null    uint8  \n",
      " 20  x_20    747 non-null    uint8  \n",
      " 21  x_21    747 non-null    uint8  \n",
      " 22  x_22    747 non-null    uint8  \n",
      " 23  x_23    747 non-null    uint8  \n",
      " 24  x_24    747 non-null    uint8  \n",
      " 25  t       747 non-null    uint8  \n",
      " 26  yf      747 non-null    float64\n",
      " 27  ycf     747 non-null    float64\n",
      " 28  ite     747 non-null    float64\n",
      "dtypes: float64(9), uint8(20)\n",
      "memory usage: 67.2 KB\n",
      "None\n",
      "\n",
      "treatment info for the full dataset\n",
      "0    608\n",
      "1    139\n",
      "Name: t, dtype: int64\n",
      "\n",
      "describing the dataset\n"
     ]
    },
    {
     "data": {
      "text/plain": "                x_0           x_1           x_2           x_3           x_4  \\\ncount  7.470000e+02  7.470000e+02  7.470000e+02  7.470000e+02  7.470000e+02   \nmean   3.448082e-17  4.755975e-18 -2.377988e-17 -5.612051e-16  4.042579e-17   \nstd    1.000000e+00  1.000000e+00  1.000000e+00  1.000000e+00  1.000000e+00   \nmin   -2.731287e+00 -3.800823e+00 -1.850350e+00 -8.796060e-01 -5.130428e+00   \n25%   -6.669461e-01 -6.027100e-01 -7.332610e-01 -8.796060e-01 -5.666720e-01   \n50%    1.652752e-01  1.968181e-01 -3.608980e-01  1.617025e-01  1.210172e-01   \n75%    8.137593e-01  5.965822e-01  7.561910e-01  1.617025e-01  6.836721e-01   \nmax    1.505476e+00  2.595403e+00  2.990369e+00  2.244320e+00  2.371637e+00   \n\n                x_5         x_6         x_7         x_8         x_9  ...  \\\ncount  7.470000e+02  747.000000  747.000000  747.000000  747.000000  ...   \nmean  -7.633341e-16    0.514056    0.093708    0.520750    0.364123  ...   \nstd    1.000000e+00    0.500137    0.291618    0.499904    0.481506  ...   \nmin   -1.851480e+00    0.000000    0.000000    0.000000    0.000000  ...   \n25%   -8.577868e-01    0.000000    0.000000    0.000000    0.000000  ...   \n50%   -2.970882e-02    1.000000    0.000000    1.000000    0.000000  ...   \n75%    6.327536e-01    1.000000    0.000000    1.000000    1.000000  ...   \nmax    2.951372e+00    1.000000    1.000000    1.000000    1.000000  ...   \n\n             x_19        x_20        x_21        x_22        x_23        x_24  \\\ncount  747.000000  747.000000  747.000000  747.000000  747.000000  747.000000   \nmean     0.135207    0.156627    0.081660    0.073628    0.128514    0.157965   \nstd      0.342174    0.363692    0.274029    0.261339    0.334886    0.364953   \nmin      0.000000    0.000000    0.000000    0.000000    0.000000    0.000000   \n25%      0.000000    0.000000    0.000000    0.000000    0.000000    0.000000   \n50%      0.000000    0.000000    0.000000    0.000000    0.000000    0.000000   \n75%      0.000000    0.000000    0.000000    0.000000    0.000000    0.000000   \nmax      1.000000    1.000000    1.000000    1.000000    1.000000    1.000000   \n\n                t          yf         ycf         ite  \ncount  747.000000  747.000000  747.000000  747.000000  \nmean     0.186078    3.159538    5.696107    4.016067  \nstd      0.389430    2.179956    1.980121    0.859736  \nmin      0.000000   -1.543902   -1.037628   -1.866989  \n25%      0.000000    1.626779    5.053598    3.775936  \n50%      0.000000    2.577294    6.209686    4.304433  \n75%      0.000000    4.494637    6.948922    4.569454  \nmax      1.000000   11.268228   10.171004    4.670125  \n\n[8 rows x 29 columns]",
      "text/html": "<div>\n<style scoped>\n    .dataframe tbody tr th:only-of-type {\n        vertical-align: middle;\n    }\n\n    .dataframe tbody tr th {\n        vertical-align: top;\n    }\n\n    .dataframe thead th {\n        text-align: right;\n    }\n</style>\n<table border=\"1\" class=\"dataframe\">\n  <thead>\n    <tr style=\"text-align: right;\">\n      <th></th>\n      <th>x_0</th>\n      <th>x_1</th>\n      <th>x_2</th>\n      <th>x_3</th>\n      <th>x_4</th>\n      <th>x_5</th>\n      <th>x_6</th>\n      <th>x_7</th>\n      <th>x_8</th>\n      <th>x_9</th>\n      <th>...</th>\n      <th>x_19</th>\n      <th>x_20</th>\n      <th>x_21</th>\n      <th>x_22</th>\n      <th>x_23</th>\n      <th>x_24</th>\n      <th>t</th>\n      <th>yf</th>\n      <th>ycf</th>\n      <th>ite</th>\n    </tr>\n  </thead>\n  <tbody>\n    <tr>\n      <th>count</th>\n      <td>7.470000e+02</td>\n      <td>7.470000e+02</td>\n      <td>7.470000e+02</td>\n      <td>7.470000e+02</td>\n      <td>7.470000e+02</td>\n      <td>7.470000e+02</td>\n      <td>747.000000</td>\n      <td>747.000000</td>\n      <td>747.000000</td>\n      <td>747.000000</td>\n      <td>...</td>\n      <td>747.000000</td>\n      <td>747.000000</td>\n      <td>747.000000</td>\n      <td>747.000000</td>\n      <td>747.000000</td>\n      <td>747.000000</td>\n      <td>747.000000</td>\n      <td>747.000000</td>\n      <td>747.000000</td>\n      <td>747.000000</td>\n    </tr>\n    <tr>\n      <th>mean</th>\n      <td>3.448082e-17</td>\n      <td>4.755975e-18</td>\n      <td>-2.377988e-17</td>\n      <td>-5.612051e-16</td>\n      <td>4.042579e-17</td>\n      <td>-7.633341e-16</td>\n      <td>0.514056</td>\n      <td>0.093708</td>\n      <td>0.520750</td>\n      <td>0.364123</td>\n      <td>...</td>\n      <td>0.135207</td>\n      <td>0.156627</td>\n      <td>0.081660</td>\n      <td>0.073628</td>\n      <td>0.128514</td>\n      <td>0.157965</td>\n      <td>0.186078</td>\n      <td>3.159538</td>\n      <td>5.696107</td>\n      <td>4.016067</td>\n    </tr>\n    <tr>\n      <th>std</th>\n      <td>1.000000e+00</td>\n      <td>1.000000e+00</td>\n      <td>1.000000e+00</td>\n      <td>1.000000e+00</td>\n      <td>1.000000e+00</td>\n      <td>1.000000e+00</td>\n      <td>0.500137</td>\n      <td>0.291618</td>\n      <td>0.499904</td>\n      <td>0.481506</td>\n      <td>...</td>\n      <td>0.342174</td>\n      <td>0.363692</td>\n      <td>0.274029</td>\n      <td>0.261339</td>\n      <td>0.334886</td>\n      <td>0.364953</td>\n      <td>0.389430</td>\n      <td>2.179956</td>\n      <td>1.980121</td>\n      <td>0.859736</td>\n    </tr>\n    <tr>\n      <th>min</th>\n      <td>-2.731287e+00</td>\n      <td>-3.800823e+00</td>\n      <td>-1.850350e+00</td>\n      <td>-8.796060e-01</td>\n      <td>-5.130428e+00</td>\n      <td>-1.851480e+00</td>\n      <td>0.000000</td>\n      <td>0.000000</td>\n      <td>0.000000</td>\n      <td>0.000000</td>\n      <td>...</td>\n      <td>0.000000</td>\n      <td>0.000000</td>\n      <td>0.000000</td>\n      <td>0.000000</td>\n      <td>0.000000</td>\n      <td>0.000000</td>\n      <td>0.000000</td>\n      <td>-1.543902</td>\n      <td>-1.037628</td>\n      <td>-1.866989</td>\n    </tr>\n    <tr>\n      <th>25%</th>\n      <td>-6.669461e-01</td>\n      <td>-6.027100e-01</td>\n      <td>-7.332610e-01</td>\n      <td>-8.796060e-01</td>\n      <td>-5.666720e-01</td>\n      <td>-8.577868e-01</td>\n      <td>0.000000</td>\n      <td>0.000000</td>\n      <td>0.000000</td>\n      <td>0.000000</td>\n      <td>...</td>\n      <td>0.000000</td>\n      <td>0.000000</td>\n      <td>0.000000</td>\n      <td>0.000000</td>\n      <td>0.000000</td>\n      <td>0.000000</td>\n      <td>0.000000</td>\n      <td>1.626779</td>\n      <td>5.053598</td>\n      <td>3.775936</td>\n    </tr>\n    <tr>\n      <th>50%</th>\n      <td>1.652752e-01</td>\n      <td>1.968181e-01</td>\n      <td>-3.608980e-01</td>\n      <td>1.617025e-01</td>\n      <td>1.210172e-01</td>\n      <td>-2.970882e-02</td>\n      <td>1.000000</td>\n      <td>0.000000</td>\n      <td>1.000000</td>\n      <td>0.000000</td>\n      <td>...</td>\n      <td>0.000000</td>\n      <td>0.000000</td>\n      <td>0.000000</td>\n      <td>0.000000</td>\n      <td>0.000000</td>\n      <td>0.000000</td>\n      <td>0.000000</td>\n      <td>2.577294</td>\n      <td>6.209686</td>\n      <td>4.304433</td>\n    </tr>\n    <tr>\n      <th>75%</th>\n      <td>8.137593e-01</td>\n      <td>5.965822e-01</td>\n      <td>7.561910e-01</td>\n      <td>1.617025e-01</td>\n      <td>6.836721e-01</td>\n      <td>6.327536e-01</td>\n      <td>1.000000</td>\n      <td>0.000000</td>\n      <td>1.000000</td>\n      <td>1.000000</td>\n      <td>...</td>\n      <td>0.000000</td>\n      <td>0.000000</td>\n      <td>0.000000</td>\n      <td>0.000000</td>\n      <td>0.000000</td>\n      <td>0.000000</td>\n      <td>0.000000</td>\n      <td>4.494637</td>\n      <td>6.948922</td>\n      <td>4.569454</td>\n    </tr>\n    <tr>\n      <th>max</th>\n      <td>1.505476e+00</td>\n      <td>2.595403e+00</td>\n      <td>2.990369e+00</td>\n      <td>2.244320e+00</td>\n      <td>2.371637e+00</td>\n      <td>2.951372e+00</td>\n      <td>1.000000</td>\n      <td>1.000000</td>\n      <td>1.000000</td>\n      <td>1.000000</td>\n      <td>...</td>\n      <td>1.000000</td>\n      <td>1.000000</td>\n      <td>1.000000</td>\n      <td>1.000000</td>\n      <td>1.000000</td>\n      <td>1.000000</td>\n      <td>1.000000</td>\n      <td>11.268228</td>\n      <td>10.171004</td>\n      <td>4.670125</td>\n    </tr>\n  </tbody>\n</table>\n<p>8 rows × 29 columns</p>\n</div>"
     },
     "execution_count": 33,
     "metadata": {},
     "output_type": "execute_result"
    }
   ],
   "source": [
    "print(\"info about the full dataset\")\n",
    "print(ihdp_df.info())\n",
    "\n",
    "print(\"\\ntreatment info for the full dataset\")\n",
    "print(ihdp_df[\"t\"].value_counts())\n",
    "\n",
    "print(\"\\ndescribing the dataset\")\n",
    "ihdp_df.describe()"
   ]
  },
  {
   "cell_type": "markdown",
   "metadata": {
    "pycharm": {
     "name": "#%% md\n"
    }
   },
   "source": [
    "#### 1.2.3: Visualizing the IHDP dataset"
   ]
  },
  {
   "cell_type": "code",
   "execution_count": 43,
   "outputs": [
    {
     "data": {
      "text/plain": "<Figure size 72x72 with 8 Axes>",
      "image/png": "[encoded data removed]"
     },
     "execution_count": 43,
     "metadata": {},
     "output_type": "execute_result"
    }
   ],
   "source": [
    "jointplot_maker(ihdp_df[[\"x_0\",\"yf\",\"t\"]],\"x_0\",\"yf\",\"t\", debug=True).savefig(quick=True)"
   ],
   "metadata": {
    "collapsed": false,
    "pycharm": {
     "name": "#%%\n"
    }
   }
  },
  {
   "cell_type": "markdown",
   "metadata": {
    "pycharm": {
     "name": "#%% md\n"
    }
   },
   "source": [
    "#### 1.2.4: Discussing the IHDP dataset\n",
    "\n",
    "We can see that most of the X measures in this dataset are boolean 'yes/no' values (with only x values 0-5\n",
    "being continuous values). This implies that we don't need to perform any scaling on these latter 19 values to keep\n",
    "them in a manageable range, however, we may need to consider\n"
   ]
  },
  {
   "cell_type": "code",
   "execution_count": null,
   "metadata": {
    "pycharm": {
     "name": "#%%\n"
    }
   },
   "outputs": [],
   "source": []
  },
  {
   "cell_type": "markdown",
   "metadata": {
    "pycharm": {
     "name": "#%% md\n"
    }
   },
   "source": [
    "### 1.3: Loading the JOBS dataset\n",
    "\n",
    "As above, but for the JOBS dataset instead."
   ]
  },
  {
   "cell_type": "code",
   "execution_count": null,
   "metadata": {
    "pycharm": {
     "name": "#%%\n"
    }
   },
   "outputs": [],
   "source": [
    "jobs_dict: Dict[str, np.ndarray] = npz_to_dict(\"jobs.npz\")\n",
    "\n",
    "\n",
    "for k,v in jobs_dict.items():\n",
    "    print(f\"{k}: {v.shape}\")"
   ]
  },
  {
   "cell_type": "markdown",
   "metadata": {
    "pycharm": {
     "name": "#%% md\n"
    }
   },
   "source": [
    "#### 1.3.1: Loading the X data from JOBS"
   ]
  },
  {
   "cell_type": "code",
   "execution_count": null,
   "metadata": {
    "pycharm": {
     "name": "#%%\n"
    }
   },
   "outputs": [],
   "source": [
    "jobs_df_x: DataFrame = x_to_dataframe(jobs_dict['x'])\n",
    "\n",
    "jobs_df_x.head()"
   ]
  },
  {
   "cell_type": "code",
   "execution_count": null,
   "metadata": {
    "pycharm": {
     "name": "#%%\n"
    }
   },
   "outputs": [],
   "source": [
    "print(jobs_df_x.info())\n",
    "\n",
    "jobs_df_x.describe()\n"
   ]
  },
  {
   "cell_type": "code",
   "execution_count": null,
   "metadata": {
    "pycharm": {
     "name": "#%%\n"
    }
   },
   "outputs": [],
   "source": [
    "print(jobs_df_x.nunique())"
   ]
  },
  {
   "cell_type": "markdown",
   "metadata": {
    "pycharm": {
     "name": "#%% md\n"
    }
   },
   "source": [
    "#### 1.3.2: Loading the remaining data from JOBS"
   ]
  },
  {
   "cell_type": "code",
   "execution_count": null,
   "metadata": {
    "pycharm": {
     "name": "#%%\n"
    }
   },
   "outputs": [],
   "source": [
    "jobs_df: DataFrame = add_everything_but_x_to_copy_of_dataframe(\n",
    "    jobs_df_x.copy(),\n",
    "    jobs_dict,\n",
    "    \"x\"\n",
    ")\n",
    "\n",
    "jobs_df.head()"
   ]
  },
  {
   "cell_type": "code",
   "execution_count": null,
   "metadata": {
    "pycharm": {
     "name": "#%%\n"
    }
   },
   "outputs": [],
   "source": [
    "print(jobs_df.info())\n",
    "\n",
    "jobs_df.describe()"
   ]
  },
  {
   "cell_type": "markdown",
   "metadata": {
    "pycharm": {
     "name": "#%% md\n"
    }
   },
   "source": [
    "#### 1.3.3: Discussing the JOBS dataset\n"
   ]
  },
  {
   "cell_type": "code",
   "execution_count": null,
   "metadata": {
    "pycharm": {
     "name": "#%%\n"
    }
   },
   "outputs": [],
   "source": [
    "\n",
    "\n"
   ]
  }
 ],
 "metadata": {
  "kernelspec": {
   "display_name": "Python 3 (ipykernel)",
   "language": "python",
   "name": "python3"
  },
  "language_info": {
   "codemirror_mode": {
    "name": "ipython",
    "version": 3
   },
   "file_extension": ".py",
   "mimetype": "text/x-python",
   "name": "python",
   "nbconvert_exporter": "python",
   "pygments_lexer": "ipython3",
   "version": "3.9.6"
  }
 },
 "nbformat": 4,
 "nbformat_minor": 1
}